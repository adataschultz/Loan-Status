{
  "nbformat": 4,
  "nbformat_minor": 0,
  "metadata": {
    "colab": {
      "name": "LoanStatus_SparkML_BaselineModels.ipynb",
      "provenance": [],
      "collapsed_sections": [],
      "machine_shape": "hm",
      "include_colab_link": true
    },
    "kernelspec": {
      "name": "python3",
      "display_name": "Python 3"
    },
    "language_info": {
      "name": "python"
    }
  },
  "cells": [
    {
      "cell_type": "markdown",
      "metadata": {
        "id": "view-in-github",
        "colab_type": "text"
      },
      "source": [
        "<a href=\"https://colab.research.google.com/github/adataschultz/LoanApproval_LendingTree/blob/main/Spark/ML/LoanStatus_SparkML_BaselineModels.ipynb\" target=\"_parent\"><img src=\"https://colab.research.google.com/assets/colab-badge.svg\" alt=\"Open In Colab\"/></a>"
      ]
    },
    {
      "cell_type": "code",
      "metadata": {
        "id": "gMEfOjWZucdo"
      },
      "source": [
        "######################################################\n",
        "############# Lending Tree Loan Status ###############\n",
        "############### Baseline Models ######################\n",
        "######################################################"
      ],
      "execution_count": 1,
      "outputs": []
    },
    {
      "cell_type": "code",
      "metadata": {
        "id": "pPD1AoKmuksU",
        "colab": {
          "base_uri": "https://localhost:8080/"
        },
        "outputId": "90cc9fd3-ce04-4d4e-cf1b-7cfda3f86425"
      },
      "source": [
        "from google.colab import drive \n",
        "drive.mount('/content/drive')"
      ],
      "execution_count": 2,
      "outputs": [
        {
          "output_type": "stream",
          "name": "stdout",
          "text": [
            "Drive already mounted at /content/drive; to attempt to forcibly remount, call drive.mount(\"/content/drive\", force_remount=True).\n"
          ]
        }
      ]
    },
    {
      "cell_type": "code",
      "metadata": {
        "colab": {
          "base_uri": "https://localhost:8080/"
        },
        "id": "jOReN1GxuoCI",
        "outputId": "e1ee6dd6-ef4a-47e7-ec43-bffb10b40d5a"
      },
      "source": [
        "%cd /content/drive/MyDrive/Data_LoanStatus/"
      ],
      "execution_count": 3,
      "outputs": [
        {
          "output_type": "stream",
          "name": "stdout",
          "text": [
            "/content/drive/MyDrive/Data_LoanStatus\n"
          ]
        }
      ]
    },
    {
      "cell_type": "code",
      "metadata": {
        "id": "_49sahonSGMS"
      },
      "source": [
        "# Set up environment for Spark\n",
        "!apt-get install openjdk-8-jdk-headless -qq > /dev/null"
      ],
      "execution_count": 4,
      "outputs": []
    },
    {
      "cell_type": "code",
      "metadata": {
        "id": "svwrt_p_Z8Xh"
      },
      "source": [
        "!wget -q https://archive.apache.org/dist/spark/spark-3.1.2/spark-3.1.2-bin-hadoop3.2.tgz"
      ],
      "execution_count": 5,
      "outputs": []
    },
    {
      "cell_type": "code",
      "metadata": {
        "id": "lrhhamKpaDRs"
      },
      "source": [
        "!tar xf spark-3.1.2-bin-hadoop3.2.tgz"
      ],
      "execution_count": 6,
      "outputs": []
    },
    {
      "cell_type": "code",
      "metadata": {
        "id": "DSPkRl_naxEK"
      },
      "source": [
        "# Set your spark folder to your system path environment. \n",
        "import os\n",
        "os.environ[\"JAVA_HOME\"] = \"/usr/lib/jvm/java-8-openjdk-amd64\"\n",
        "os.environ[\"SPARK_HOME\"] = \"/content/drive/MyDrive/Data_LoanStatus/spark-3.1.2-bin-hadoop3.2\""
      ],
      "execution_count": 7,
      "outputs": []
    },
    {
      "cell_type": "code",
      "metadata": {
        "colab": {
          "base_uri": "https://localhost:8080/"
        },
        "id": "xFQyTPoYa4rA",
        "outputId": "40e819c9-30f5-49c7-9e52-f87d5d18c556"
      },
      "source": [
        "# Install findspark using pip\n",
        "!pip install -q findspark\n",
        "!pip install pyspark==3.1.2\n",
        "import findspark\n",
        "findspark.init()"
      ],
      "execution_count": 8,
      "outputs": [
        {
          "output_type": "stream",
          "name": "stdout",
          "text": [
            "Requirement already satisfied: pyspark==3.1.2 in /usr/local/lib/python3.7/dist-packages (3.1.2)\n",
            "Requirement already satisfied: py4j==0.10.9 in /usr/local/lib/python3.7/dist-packages (from pyspark==3.1.2) (0.10.9)\n"
          ]
        }
      ]
    },
    {
      "cell_type": "code",
      "metadata": {
        "id": "mzEE-fcNYc5r"
      },
      "source": [
        "from pyspark.sql import SparkSession\n",
        "from pyspark.ml.feature import VectorAssembler\n",
        "from pyspark.ml.feature import StandardScaler\n",
        "from pyspark.ml.classification import LogisticRegression\n",
        "from pyspark.ml.classification import LinearSVC\n",
        "from pyspark.ml.classification import NaiveBayes\n",
        "from pyspark.ml.classification import DecisionTreeClassifier\n",
        "from pyspark.ml.classification import RandomForestClassifier\n",
        "from pyspark.ml.classification import GBTClassifier\n",
        "from pyspark.ml.classification import MultilayerPerceptronClassifier\n",
        "from pyspark.ml import Pipeline\n",
        "from pyspark.ml.evaluation import MulticlassClassificationEvaluator\n",
        "import matplotlib as plt\n",
        "from matplotlib import pyplot\n",
        "import numpy as np"
      ],
      "execution_count": 9,
      "outputs": []
    },
    {
      "cell_type": "code",
      "metadata": {
        "id": "8USbkr7vPGBq",
        "colab": {
          "base_uri": "https://localhost:8080/",
          "height": 222
        },
        "outputId": "093e13e5-fcaf-4ffd-c800-0755878cc969"
      },
      "source": [
        "# Pyspark Session\n",
        "spark = SparkSession.builder\\\n",
        "        .master(\"local\")\\\n",
        "        .appName(\"Colab\")\\\n",
        "        .config('spark.sql.execution.arrow.pyspark.enabled', True)\\\n",
        "        .config('spark.ui.port', '4050')\\\n",
        "        .getOrCreate()\n",
        "\n",
        "spark"
      ],
      "execution_count": 10,
      "outputs": [
        {
          "output_type": "execute_result",
          "data": {
            "text/html": [
              "\n",
              "            <div>\n",
              "                <p><b>SparkSession - in-memory</b></p>\n",
              "                \n",
              "        <div>\n",
              "            <p><b>SparkContext</b></p>\n",
              "\n",
              "            <p><a href=\"http://5e53682ed132:4050\">Spark UI</a></p>\n",
              "\n",
              "            <dl>\n",
              "              <dt>Version</dt>\n",
              "                <dd><code>v3.1.2</code></dd>\n",
              "              <dt>Master</dt>\n",
              "                <dd><code>local</code></dd>\n",
              "              <dt>AppName</dt>\n",
              "                <dd><code>Colab</code></dd>\n",
              "            </dl>\n",
              "        </div>\n",
              "        \n",
              "            </div>\n",
              "        "
            ],
            "text/plain": [
              "<pyspark.sql.session.SparkSession at 0x7fd5c0835790>"
            ]
          },
          "metadata": {},
          "execution_count": 10
        }
      ]
    },
    {
      "cell_type": "code",
      "metadata": {
        "id": "6gXTtHCfOPNc"
      },
      "source": [
        "###############################################################################\n",
        "########################   1. Oversample minority class #######################\n",
        "###############################################################################"
      ],
      "execution_count": 11,
      "outputs": []
    },
    {
      "cell_type": "code",
      "metadata": {
        "colab": {
          "base_uri": "https://localhost:8080/"
        },
        "id": "8vqi0lRLrNED",
        "outputId": "62af7083-d71f-4542-d006-5d174ede9d75"
      },
      "source": [
        "trainDF = spark.read.csv(\"trainDF_US.csv\", header=True, inferSchema=True)\n",
        "trainDF.printSchema()\n",
        "testDF = spark.read.csv(\"testDF_US.csv\", header=True, inferSchema=True)\n",
        "labelCol = \"loan_status\""
      ],
      "execution_count": 12,
      "outputs": [
        {
          "output_type": "stream",
          "name": "stdout",
          "text": [
            "root\n",
            " |-- loan_amnt: integer (nullable = true)\n",
            " |-- int_rate: double (nullable = true)\n",
            " |-- installment: double (nullable = true)\n",
            " |-- annual_inc: double (nullable = true)\n",
            " |-- inq_last_6mths: double (nullable = true)\n",
            " |-- pub_rec: double (nullable = true)\n",
            " |-- revol_bal: integer (nullable = true)\n",
            " |-- out_prncp: double (nullable = true)\n",
            " |-- total_pymnt: double (nullable = true)\n",
            " |-- total_rec_int: double (nullable = true)\n",
            " |-- total_rec_late_fee: double (nullable = true)\n",
            " |-- recoveries: double (nullable = true)\n",
            " |-- last_pymnt_amnt: double (nullable = true)\n",
            " |-- collections_12_mths_ex_med: double (nullable = true)\n",
            " |-- acc_open_past_24mths: double (nullable = true)\n",
            " |-- bc_open_to_buy: double (nullable = true)\n",
            " |-- chargeoff_within_12_mths: double (nullable = true)\n",
            " |-- delinq_amnt: double (nullable = true)\n",
            " |-- mths_since_recent_bc: double (nullable = true)\n",
            " |-- num_bc_sats: double (nullable = true)\n",
            " |-- num_bc_tl: double (nullable = true)\n",
            " |-- num_sats: double (nullable = true)\n",
            " |-- num_tl_30dpd: double (nullable = true)\n",
            " |-- tax_liens: double (nullable = true)\n",
            " |-- tot_hi_cred_lim: double (nullable = true)\n",
            " |-- total_bal_ex_mort: double (nullable = true)\n",
            " |-- total_bc_limit: double (nullable = true)\n",
            " |-- term_ 60 months: integer (nullable = true)\n",
            " |-- grade_B: integer (nullable = true)\n",
            " |-- grade_C: integer (nullable = true)\n",
            " |-- grade_D: integer (nullable = true)\n",
            " |-- home_ownership_MORTGAGE: integer (nullable = true)\n",
            " |-- home_ownership_OWN: integer (nullable = true)\n",
            " |-- home_ownership_RENT: integer (nullable = true)\n",
            " |-- verification_status_Source Verified: integer (nullable = true)\n",
            " |-- verification_status_Verified: integer (nullable = true)\n",
            " |-- purpose_credit_card: integer (nullable = true)\n",
            " |-- initial_list_status_w: integer (nullable = true)\n",
            " |-- application_type_Joint App: integer (nullable = true)\n",
            " |-- disbursement_method_DirectPay: integer (nullable = true)\n",
            " |-- num_il_tl: double (nullable = true)\n",
            " |-- num_accts_ever_120_pd: double (nullable = true)\n",
            " |-- mo_sin_old_rev_tl_op: double (nullable = true)\n",
            " |-- percent_bc_gt_75: double (nullable = true)\n",
            " |-- revol_util: double (nullable = true)\n",
            " |-- num_actv_rev_tl: double (nullable = true)\n",
            " |-- tot_coll_amt: double (nullable = true)\n",
            " |-- mort_acc: double (nullable = true)\n",
            " |-- delinq_2yrs: double (nullable = true)\n",
            " |-- num_tl_op_past_12m: double (nullable = true)\n",
            " |-- loan_status: integer (nullable = true)\n",
            "\n"
          ]
        }
      ]
    },
    {
      "cell_type": "code",
      "metadata": {
        "id": "lxyFd_Cv7PXe"
      },
      "source": [
        "# VectorAssembler with target as the last column\n",
        "inputCols = trainDF.columns[0: len (trainDF.columns) - 1]\n",
        "vecAssembler = VectorAssembler(\\\n",
        "                               inputCols = inputCols, \\\n",
        "                               outputCol = \"features\") \\\n",
        "                              .setHandleInvalid(\"skip\")"
      ],
      "execution_count": 13,
      "outputs": []
    },
    {
      "cell_type": "code",
      "metadata": {
        "id": "jGp2GIfKvEt_"
      },
      "source": [
        "# Standard scaler\n",
        "stdScaler = StandardScaler(inputCol=\"features\", \\\n",
        "                        outputCol=\"scaledFeatures\", \\\n",
        "                        withStd=True, \\\n",
        "                        withMean=False)"
      ],
      "execution_count": 14,
      "outputs": []
    },
    {
      "cell_type": "code",
      "metadata": {
        "id": "JklLfVPcYO3s"
      },
      "source": [
        "#####################################################################################\n",
        "############################# Logistic Regression  ##################################\n",
        "#####################################################################################"
      ],
      "execution_count": 15,
      "outputs": []
    },
    {
      "cell_type": "code",
      "metadata": {
        "id": "nEZRoKISvYZA"
      },
      "source": [
        "# Set up logistic regression pipeline\n",
        "lr = LogisticRegression(maxIter=1000, \\\n",
        "                        regParam=0.3, \\\n",
        "                        elasticNetParam=0.1, \\\n",
        "                        featuresCol=\"scaledFeatures\", \\\n",
        "                        family = \"binomial\", \\\n",
        "                        labelCol=labelCol)\n",
        "\n",
        "pipeline_lr = Pipeline(stages=[vecAssembler, stdScaler, lr])\n",
        "pipelineModel_lr = pipeline_lr.fit(trainDF)"
      ],
      "execution_count": 16,
      "outputs": []
    },
    {
      "cell_type": "code",
      "metadata": {
        "id": "pqriLaO588WA"
      },
      "source": [
        "# Predict on model\n",
        "predDF_lr = pipelineModel_lr.transform(testDF)"
      ],
      "execution_count": 17,
      "outputs": []
    },
    {
      "cell_type": "code",
      "metadata": {
        "id": "-zqdWgxt8_0Q"
      },
      "source": [
        "evaluator = MulticlassClassificationEvaluator( \\\n",
        "                  labelCol=labelCol, \\\n",
        "                  predictionCol=\"prediction\", \\\n",
        "                  metricName=\"accuracy\")"
      ],
      "execution_count": 18,
      "outputs": []
    },
    {
      "cell_type": "code",
      "metadata": {
        "colab": {
          "base_uri": "https://localhost:8080/"
        },
        "id": "8Q-IOexy9C-F",
        "outputId": "aea82688-e67f-4b95-8076-4e26a6c59ade"
      },
      "source": [
        "# Accuracy and Test Error\n",
        "lr_accuracy = evaluator.evaluate(predDF_lr)\n",
        "print(\"Accuracy of LogisticRegression is = %g\"%(lr_accuracy))\n",
        "print(\"Test Error of LogisticRegression = %g \"%(1.0 - lr_accuracy))"
      ],
      "execution_count": 19,
      "outputs": [
        {
          "output_type": "stream",
          "name": "stdout",
          "text": [
            "Accuracy of LogisticRegression is = 0.861214\n",
            "Test Error of LogisticRegression = 0.138786 \n"
          ]
        }
      ]
    },
    {
      "cell_type": "code",
      "metadata": {
        "id": "ZB3E9r81UK_l"
      },
      "source": [
        "# Extract info from pipeline\n",
        "lrm = pipelineModel_lr.stages[-1]"
      ],
      "execution_count": 20,
      "outputs": []
    },
    {
      "cell_type": "code",
      "metadata": {
        "colab": {
          "base_uri": "https://localhost:8080/",
          "height": 265
        },
        "id": "u08FZOSzFP5B",
        "outputId": "9f114128-235a-419a-962c-5f3a47838da7"
      },
      "source": [
        "# Beta coefficients\n",
        "my_dpi = 96\n",
        "beta = np.sort(lrm.coefficients)\n",
        "pyplot.plot(beta)\n",
        "pyplot.ylabel('Beta Coefficients')\n",
        "pyplot.savefig('Logistic_Baseline_US_betaCoef.png', dpi=my_dpi * 10, bbox_inches='tight')\n",
        "pyplot.show()"
      ],
      "execution_count": 21,
      "outputs": [
        {
          "output_type": "display_data",
          "data": {
            "image/png": "[encoded data removed]",
            "text/plain": [
              "<Figure size 432x288 with 1 Axes>"
            ]
          },
          "metadata": {
            "needs_background": "light"
          }
        }
      ]
    },
    {
      "cell_type": "code",
      "metadata": {
        "colab": {
          "base_uri": "https://localhost:8080/",
          "height": 313
        },
        "id": "-y66xOxNFd6Y",
        "outputId": "44df2aa1-fa2d-4e77-a188-a4142b98d67d"
      },
      "source": [
        "# ROC Curve\n",
        "trainingSummary = lrm.summary\n",
        "roc = trainingSummary.roc.toPandas()\n",
        "pyplot.plot(roc['FPR'],roc['TPR'])\n",
        "pyplot.ylabel('False Positive Rate')\n",
        "pyplot.xlabel('True Positive Rate')\n",
        "pyplot.title('ROC Curve')\n",
        "pyplot.savefig('Logistic_Baseline_US_ROC.png', dpi=my_dpi * 10, bbox_inches='tight')\n",
        "pyplot.show()\n",
        "print('Training set areaUnderROC: ' + str(trainingSummary.areaUnderROC))"
      ],
      "execution_count": 22,
      "outputs": [
        {
          "output_type": "display_data",
          "data": {
            "image/png": "[encoded data removed]",
            "text/plain": [
              "<Figure size 432x288 with 1 Axes>"
            ]
          },
          "metadata": {
            "needs_background": "light"
          }
        },
        {
          "output_type": "stream",
          "name": "stdout",
          "text": [
            "Training set areaUnderROC: 0.9270268300011577\n"
          ]
        }
      ]
    },
    {
      "cell_type": "code",
      "metadata": {
        "colab": {
          "base_uri": "https://localhost:8080/",
          "height": 279
        },
        "id": "EMOyxwAtFr0d",
        "outputId": "3bf7fdc7-ad76-4628-c2e3-13e61b254318"
      },
      "source": [
        "# Precision Recall Curve\n",
        "pr = trainingSummary.pr.toPandas()\n",
        "pyplot.plot(pr['recall'],pr['precision'])\n",
        "pyplot.ylabel('Precision')\n",
        "pyplot.xlabel('Recall')\n",
        "pyplot.savefig('Logistic_Baseline_US_RecallPrecision.png', dpi=my_dpi * 10, bbox_inches='tight')\n",
        "pyplot.show()"
      ],
      "execution_count": 23,
      "outputs": [
        {
          "output_type": "display_data",
          "data": {
            "image/png": "[encoded data removed]",
            "text/plain": [
              "<Figure size 432x288 with 1 Axes>"
            ]
          },
          "metadata": {
            "needs_background": "light"
          }
        }
      ]
    },
    {
      "cell_type": "code",
      "metadata": {
        "id": "b5IYtC5QBYm6"
      },
      "source": [
        "#####################################################################################\n",
        "############################# Linear SVM  ###########################################\n",
        "#####################################################################################"
      ],
      "execution_count": 24,
      "outputs": []
    },
    {
      "cell_type": "code",
      "metadata": {
        "id": "iW60vBKPBZsI"
      },
      "source": [
        "# Set up Linear SVM pipeline\n",
        "lsvc = LinearSVC(maxIter=1000, \\\n",
        "                 regParam=0.1, \\\n",
        "                 featuresCol=\"scaledFeatures\", \\\n",
        "                 labelCol=labelCol)\n",
        "\n",
        "pipeline_lsvc = Pipeline(stages=[vecAssembler, stdScaler, lsvc])\n",
        "pipelineModel_lsvc = pipeline_lsvc.fit(trainDF)"
      ],
      "execution_count": 25,
      "outputs": []
    },
    {
      "cell_type": "code",
      "metadata": {
        "id": "7H5212uQBi6x"
      },
      "source": [
        "# Predict on model\n",
        "predDF_lsvc = pipelineModel_lsvc.transform(testDF)"
      ],
      "execution_count": 26,
      "outputs": []
    },
    {
      "cell_type": "code",
      "metadata": {
        "colab": {
          "base_uri": "https://localhost:8080/"
        },
        "id": "XR23DCTrBl_O",
        "outputId": "03f5ee7b-fb08-49ad-f907-b752ac3e4f5c"
      },
      "source": [
        "# Accuracy and Test Error\n",
        "lsvc_accuracy = evaluator.evaluate(predDF_lsvc)\n",
        "print(\"Accuracy of LogisticRegression is = %g\"%(lsvc_accuracy))\n",
        "print(\"Test Error of LogisticRegression = %g \"%(1.0 - lsvc_accuracy))"
      ],
      "execution_count": 27,
      "outputs": [
        {
          "output_type": "stream",
          "name": "stdout",
          "text": [
            "Accuracy of LogisticRegression is = 0.937897\n",
            "Test Error of LogisticRegression = 0.0621033 \n"
          ]
        }
      ]
    },
    {
      "cell_type": "code",
      "metadata": {
        "id": "7K_Qkb2NaHmP"
      },
      "source": [
        "# Extract info from pipeline\n",
        "lsvc = pipelineModel_lsvc.stages[-1]"
      ],
      "execution_count": 28,
      "outputs": []
    },
    {
      "cell_type": "code",
      "metadata": {
        "colab": {
          "base_uri": "https://localhost:8080/",
          "height": 265
        },
        "id": "MLLS7RRnaHmR",
        "outputId": "1219928d-4332-4cb8-992a-d39deb853ff6"
      },
      "source": [
        "# Beta coefficients\n",
        "beta = np.sort(lsvc.coefficients)\n",
        "pyplot.plot(beta)\n",
        "pyplot.ylabel('Beta Coefficients')\n",
        "pyplot.savefig('LinearSVC_Baseline_US_betaCoef.png', dpi=my_dpi * 10, bbox_inches='tight')\n",
        "pyplot.show()"
      ],
      "execution_count": 29,
      "outputs": [
        {
          "output_type": "display_data",
          "data": {
            "image/png": "[encoded data removed]",
            "text/plain": [
              "<Figure size 432x288 with 1 Axes>"
            ]
          },
          "metadata": {
            "needs_background": "light"
          }
        }
      ]
    },
    {
      "cell_type": "code",
      "metadata": {
        "id": "U9is8fxyBou7"
      },
      "source": [
        "#####################################################################################\n",
        "############################# Naive Bayes ###########################################\n",
        "#####################################################################################"
      ],
      "execution_count": 30,
      "outputs": []
    },
    {
      "cell_type": "code",
      "metadata": {
        "id": "9HUTbpFmBpPL"
      },
      "source": [
        "# Set up Naive Bayes pipeline\n",
        "nb = NaiveBayes(smoothing=1.0, \\\n",
        "                modelType=\"gaussian\", \\\n",
        "                featuresCol=\"scaledFeatures\", \\\n",
        "                labelCol=labelCol)\n",
        "\n",
        "pipeline_nb = Pipeline(stages=[vecAssembler, stdScaler, nb])\n",
        "pipelineModel_nb = pipeline_nb.fit(trainDF)"
      ],
      "execution_count": 31,
      "outputs": []
    },
    {
      "cell_type": "code",
      "metadata": {
        "id": "new-fvENBy1r"
      },
      "source": [
        "# Predict on model\n",
        "predDF_nb = pipelineModel_nb.transform(testDF)"
      ],
      "execution_count": 32,
      "outputs": []
    },
    {
      "cell_type": "code",
      "metadata": {
        "colab": {
          "base_uri": "https://localhost:8080/"
        },
        "id": "IV1wHQpeB9b1",
        "outputId": "81623b57-755e-4c47-8f57-fc8f351d894b"
      },
      "source": [
        "# Accuracy and Test Error\n",
        "nb_accuracy = evaluator.evaluate(predDF_nb)\n",
        "print(\"Accuracy of Naïve Bayes is = %g\"%(nb_accuracy))\n",
        "print(\"Error of Naïve Bayes is = %g \"%(1.0 - nb_accuracy))"
      ],
      "execution_count": 33,
      "outputs": [
        {
          "output_type": "stream",
          "name": "stdout",
          "text": [
            "Accuracy of Naïve Bayes is = 0.938262\n",
            "Error of Naïve Bayes is = 0.061738 \n"
          ]
        }
      ]
    },
    {
      "cell_type": "code",
      "metadata": {
        "id": "xyHy9mvbBptQ"
      },
      "source": [
        "#######################################################################################\n",
        "############################# Decision Tree ###########################################\n",
        "#######################################################################################"
      ],
      "execution_count": 34,
      "outputs": []
    },
    {
      "cell_type": "code",
      "metadata": {
        "id": "HFgQ7Qm0BqVM"
      },
      "source": [
        "# Set up DecisionTree pipeline\n",
        "dt = DecisionTreeClassifier(labelCol=labelCol, \\\n",
        "                            featuresCol=\"scaledFeatures\", \\\n",
        "                            impurity=\"gini\")\n",
        "\n",
        "pipeline_dt = Pipeline(stages=[vecAssembler, stdScaler, dt])\n",
        "pipelineModel_dt = pipeline_dt.fit(trainDF)"
      ],
      "execution_count": 35,
      "outputs": []
    },
    {
      "cell_type": "code",
      "metadata": {
        "id": "JmwBEcMGCWzZ"
      },
      "source": [
        "# Predict on model\n",
        "predDF_dt = pipelineModel_dt.transform(testDF)"
      ],
      "execution_count": 36,
      "outputs": []
    },
    {
      "cell_type": "code",
      "metadata": {
        "colab": {
          "base_uri": "https://localhost:8080/"
        },
        "id": "-E_A_hGfCaIL",
        "outputId": "c146c2d3-a972-4296-c210-8c2176d04a63"
      },
      "source": [
        "# Accuracy and Test Error\n",
        "dt_accuracy = evaluator.evaluate(predDF_dt)\n",
        "print(\"Accuracy of Decision Tree is = %g\"%(dt_accuracy))\n",
        "print(\"Error of Decision Tree is = %g \"%(1.0 - dt_accuracy))"
      ],
      "execution_count": 37,
      "outputs": [
        {
          "output_type": "stream",
          "name": "stdout",
          "text": [
            "Accuracy of Decision Tree is = 0.906096\n",
            "Error of Decision Tree is = 0.0939041 \n"
          ]
        }
      ]
    },
    {
      "cell_type": "code",
      "metadata": {
        "id": "jxuLBuWeBqgq"
      },
      "source": [
        "#######################################################################################\n",
        "############################# Random Forest ###########################################\n",
        "#######################################################################################"
      ],
      "execution_count": 38,
      "outputs": []
    },
    {
      "cell_type": "code",
      "metadata": {
        "id": "6u0IzWnYCTxZ"
      },
      "source": [
        "# Set up RandomForest pipeline\n",
        "rf = RandomForestClassifier(labelCol=labelCol, \\\n",
        "                            featuresCol=\"scaledFeatures\", \\\n",
        "                            numTrees=50)\n",
        "\n",
        "pipeline_rf = Pipeline(stages=[vecAssembler, stdScaler, rf])\n",
        "pipelineModel_rf = pipeline_rf.fit(trainDF)"
      ],
      "execution_count": 39,
      "outputs": []
    },
    {
      "cell_type": "code",
      "metadata": {
        "id": "mzL2QIDnDkBU"
      },
      "source": [
        "# Predict on model\n",
        "predDF_rf = pipelineModel_rf.transform(testDF)"
      ],
      "execution_count": 40,
      "outputs": []
    },
    {
      "cell_type": "code",
      "metadata": {
        "colab": {
          "base_uri": "https://localhost:8080/"
        },
        "id": "Xd97MdyiDmx7",
        "outputId": "07c842ab-18b6-4ae8-ad9c-024903aaf8dc"
      },
      "source": [
        "# Accuracy and Test Error\n",
        "rf_accuracy = evaluator.evaluate(predDF_rf)\n",
        "print(\"Accuracy of Random Tree is = %g\"%(rf_accuracy))\n",
        "print(\"Error of Random Tree is = %g \"%(1.0 - rf_accuracy))"
      ],
      "execution_count": 41,
      "outputs": [
        {
          "output_type": "stream",
          "name": "stdout",
          "text": [
            "Accuracy of Random Tree is = 0.912071\n",
            "Error of Random Tree is = 0.0879292 \n"
          ]
        }
      ]
    },
    {
      "cell_type": "code",
      "metadata": {
        "id": "aSzL_aMmmL1L"
      },
      "source": [
        "# Extract info from pipeline\n",
        "rf = pipelineModel_rf.stages[-1]"
      ],
      "execution_count": 42,
      "outputs": []
    },
    {
      "cell_type": "code",
      "metadata": {
        "colab": {
          "base_uri": "https://localhost:8080/",
          "height": 313
        },
        "id": "Gz95_m1emL1O",
        "outputId": "f7c9124d-6d78-4306-88aa-f97d4c85977d"
      },
      "source": [
        "# ROC Curve\n",
        "trainingSummary = rf.summary\n",
        "roc = trainingSummary.roc.toPandas()\n",
        "pyplot.plot(roc['FPR'],roc['TPR'])\n",
        "pyplot.ylabel('False Positive Rate')\n",
        "pyplot.xlabel('True Positive Rate')\n",
        "pyplot.title('ROC Curve')\n",
        "pyplot.savefig('RF_Baseline_US_ROC.png', dpi=my_dpi * 10, bbox_inches='tight')\n",
        "pyplot.show()\n",
        "print('Training set areaUnderROC: ' + str(trainingSummary.areaUnderROC))"
      ],
      "execution_count": 43,
      "outputs": [
        {
          "output_type": "display_data",
          "data": {
            "image/png": "[encoded data removed]",
            "text/plain": [
              "<Figure size 432x288 with 1 Axes>"
            ]
          },
          "metadata": {
            "needs_background": "light"
          }
        },
        {
          "output_type": "stream",
          "name": "stdout",
          "text": [
            "Training set areaUnderROC: 0.9612386843004744\n"
          ]
        }
      ]
    },
    {
      "cell_type": "code",
      "metadata": {
        "colab": {
          "base_uri": "https://localhost:8080/",
          "height": 279
        },
        "id": "W07O8f8omL1P",
        "outputId": "d23e0627-a841-422f-bbfe-eeca09fbdea0"
      },
      "source": [
        "# Precision Recall Curve\n",
        "pr = trainingSummary.pr.toPandas()\n",
        "pyplot.plot(pr['recall'],pr['precision'])\n",
        "pyplot.ylabel('Precision')\n",
        "pyplot.xlabel('Recall')\n",
        "pyplot.savefig('RF_Baseline_US_RecallPrecision.png', dpi=my_dpi * 10, bbox_inches='tight')\n",
        "pyplot.show()"
      ],
      "execution_count": 44,
      "outputs": [
        {
          "output_type": "display_data",
          "data": {
            "image/png": "[encoded data removed]",
            "text/plain": [
              "<Figure size 432x288 with 1 Axes>"
            ]
          },
          "metadata": {
            "needs_background": "light"
          }
        }
      ]
    },
    {
      "cell_type": "code",
      "metadata": {
        "id": "0MZG7SFzCT5o"
      },
      "source": [
        "###############################################################################################\n",
        "############################# Gradient Boosted Tree ###########################################\n",
        "###############################################################################################"
      ],
      "execution_count": 45,
      "outputs": []
    },
    {
      "cell_type": "code",
      "metadata": {
        "id": "cXR9oJkNCUO9"
      },
      "source": [
        "# Set up GBT pipeline\n",
        "gbt = GBTClassifier(labelCol=labelCol, \\\n",
        "                    featuresCol=\"scaledFeatures\", \\\n",
        "                    maxIter=10)\n",
        "\n",
        "pipeline_gbt = Pipeline(stages=[vecAssembler, stdScaler, gbt])\n",
        "pipelineModel_gbt = pipeline_gbt.fit(trainDF)"
      ],
      "execution_count": 46,
      "outputs": []
    },
    {
      "cell_type": "code",
      "metadata": {
        "id": "dO3e4Gh8Du3Q"
      },
      "source": [
        "# Predict on model\n",
        "predDF_gbt = pipelineModel_gbt.transform(testDF)"
      ],
      "execution_count": 47,
      "outputs": []
    },
    {
      "cell_type": "code",
      "metadata": {
        "colab": {
          "base_uri": "https://localhost:8080/"
        },
        "id": "KT3iZSD8DxQ-",
        "outputId": "a622595d-bdcc-49f7-cc91-967a3277e2cd"
      },
      "source": [
        "# Accuracy and Test Error\n",
        "gbt_accuracy = evaluator.evaluate(predDF_gbt)\n",
        "print(\"Accuracy of Gradient-Boosted Tree is = %g\"%(gbt_accuracy))\n",
        "print(\"Error of Gradient-Boosted Tree is = %g \"%(1.0 - gbt_accuracy))"
      ],
      "execution_count": 48,
      "outputs": [
        {
          "output_type": "stream",
          "name": "stdout",
          "text": [
            "Accuracy of Gradient-Boosted Tree is = 0.942322\n",
            "Error of Gradient-Boosted Tree is = 0.0576776 \n"
          ]
        }
      ]
    },
    {
      "cell_type": "code",
      "metadata": {
        "id": "6Ox1EFxVNzR-"
      },
      "source": [
        "###############################################################################\n",
        "######################## 2. Split over upsampling with SMOTE  #################\n",
        "###############################################################################"
      ],
      "execution_count": 49,
      "outputs": []
    },
    {
      "cell_type": "code",
      "metadata": {
        "id": "wo_0dFqHN1Ym",
        "colab": {
          "base_uri": "https://localhost:8080/"
        },
        "outputId": "0377cd0b-14b2-4e60-a0a6-f8dc6412025f"
      },
      "source": [
        "trainDF = spark.read.csv(\"trainDF_SMOTE.csv\", header=True, inferSchema=True)\n",
        "trainDF.printSchema()\n",
        "testDF = spark.read.csv(\"testDF_SMOTE.csv\", header=True, inferSchema=True)\n",
        "labelCol = \"loan_status\""
      ],
      "execution_count": 50,
      "outputs": [
        {
          "output_type": "stream",
          "name": "stdout",
          "text": [
            "root\n",
            " |-- loan_amnt: double (nullable = true)\n",
            " |-- int_rate: double (nullable = true)\n",
            " |-- installment: double (nullable = true)\n",
            " |-- annual_inc: double (nullable = true)\n",
            " |-- inq_last_6mths: double (nullable = true)\n",
            " |-- pub_rec: double (nullable = true)\n",
            " |-- revol_bal: double (nullable = true)\n",
            " |-- out_prncp: double (nullable = true)\n",
            " |-- total_pymnt: double (nullable = true)\n",
            " |-- total_rec_int: double (nullable = true)\n",
            " |-- total_rec_late_fee: double (nullable = true)\n",
            " |-- recoveries: double (nullable = true)\n",
            " |-- last_pymnt_amnt: double (nullable = true)\n",
            " |-- collections_12_mths_ex_med: double (nullable = true)\n",
            " |-- acc_open_past_24mths: double (nullable = true)\n",
            " |-- bc_open_to_buy: double (nullable = true)\n",
            " |-- chargeoff_within_12_mths: double (nullable = true)\n",
            " |-- delinq_amnt: double (nullable = true)\n",
            " |-- mths_since_recent_bc: double (nullable = true)\n",
            " |-- num_bc_sats: double (nullable = true)\n",
            " |-- num_bc_tl: double (nullable = true)\n",
            " |-- num_sats: double (nullable = true)\n",
            " |-- num_tl_30dpd: double (nullable = true)\n",
            " |-- tax_liens: double (nullable = true)\n",
            " |-- tot_hi_cred_lim: double (nullable = true)\n",
            " |-- total_bal_ex_mort: double (nullable = true)\n",
            " |-- total_bc_limit: double (nullable = true)\n",
            " |-- term_ 60 months: double (nullable = true)\n",
            " |-- grade_B: double (nullable = true)\n",
            " |-- grade_C: double (nullable = true)\n",
            " |-- grade_D: double (nullable = true)\n",
            " |-- home_ownership_MORTGAGE: double (nullable = true)\n",
            " |-- home_ownership_OWN: double (nullable = true)\n",
            " |-- home_ownership_RENT: double (nullable = true)\n",
            " |-- verification_status_Source Verified: double (nullable = true)\n",
            " |-- verification_status_Verified: double (nullable = true)\n",
            " |-- purpose_credit_card: double (nullable = true)\n",
            " |-- initial_list_status_w: double (nullable = true)\n",
            " |-- application_type_Joint App: double (nullable = true)\n",
            " |-- disbursement_method_DirectPay: double (nullable = true)\n",
            " |-- num_il_tl: double (nullable = true)\n",
            " |-- num_accts_ever_120_pd: double (nullable = true)\n",
            " |-- mo_sin_old_rev_tl_op: double (nullable = true)\n",
            " |-- percent_bc_gt_75: double (nullable = true)\n",
            " |-- revol_util: double (nullable = true)\n",
            " |-- num_actv_rev_tl: double (nullable = true)\n",
            " |-- tot_coll_amt: double (nullable = true)\n",
            " |-- mort_acc: double (nullable = true)\n",
            " |-- delinq_2yrs: double (nullable = true)\n",
            " |-- num_tl_op_past_12m: double (nullable = true)\n",
            " |-- loan_status: integer (nullable = true)\n",
            "\n"
          ]
        }
      ]
    },
    {
      "cell_type": "code",
      "metadata": {
        "id": "Ekhyrhg-noZq"
      },
      "source": [
        "#####################################################################################\n",
        "############################# Logistic Regression  ##################################\n",
        "#####################################################################################"
      ],
      "execution_count": 51,
      "outputs": []
    },
    {
      "cell_type": "code",
      "metadata": {
        "id": "Nk51j4QunoZs"
      },
      "source": [
        "# Set up logistic regression pipeline\n",
        "lr = LogisticRegression(maxIter=1000, \\\n",
        "                        regParam=0.3, \\\n",
        "                        elasticNetParam=0.1, \\\n",
        "                        featuresCol=\"scaledFeatures\", \\\n",
        "                        family = \"binomial\", \\\n",
        "                        labelCol=labelCol)\n",
        "\n",
        "pipeline_lr = Pipeline(stages=[vecAssembler, stdScaler, lr])\n",
        "pipelineModel_lr = pipeline_lr.fit(trainDF)"
      ],
      "execution_count": 52,
      "outputs": []
    },
    {
      "cell_type": "code",
      "metadata": {
        "id": "4bkWMdssnoZt"
      },
      "source": [
        "# Predict on model\n",
        "predDF_lr = pipelineModel_lr.transform(testDF)"
      ],
      "execution_count": 53,
      "outputs": []
    },
    {
      "cell_type": "code",
      "metadata": {
        "id": "nwhJSPuunoZv"
      },
      "source": [
        "evaluator = MulticlassClassificationEvaluator( \\\n",
        "                  labelCol=labelCol, \\\n",
        "                  predictionCol=\"prediction\", \\\n",
        "                  metricName=\"accuracy\")"
      ],
      "execution_count": 54,
      "outputs": []
    },
    {
      "cell_type": "code",
      "metadata": {
        "colab": {
          "base_uri": "https://localhost:8080/"
        },
        "id": "EJiACGaKnoZw",
        "outputId": "17516a38-2956-47cf-8410-ba9451fd01ea"
      },
      "source": [
        "# Accuracy and Test Error\n",
        "lr_accuracy = evaluator.evaluate(predDF_lr)\n",
        "print(\"Accuracy of LogisticRegression is = %g\"%(lr_accuracy))\n",
        "print(\"Test Error of LogisticRegression = %g \"%(1.0 - lr_accuracy))"
      ],
      "execution_count": 55,
      "outputs": [
        {
          "output_type": "stream",
          "name": "stdout",
          "text": [
            "Accuracy of LogisticRegression is = 0.869839\n",
            "Test Error of LogisticRegression = 0.130161 \n"
          ]
        }
      ]
    },
    {
      "cell_type": "code",
      "metadata": {
        "id": "9ikXzJwDnoZy"
      },
      "source": [
        "# Extract info from pipeline\n",
        "lrm = pipelineModel_lr.stages[-1]"
      ],
      "execution_count": 56,
      "outputs": []
    },
    {
      "cell_type": "code",
      "metadata": {
        "colab": {
          "base_uri": "https://localhost:8080/",
          "height": 265
        },
        "id": "ob26BefvnoZz",
        "outputId": "15cff548-d241-4038-f883-eaf3521ca374"
      },
      "source": [
        "# Beta coefficients\n",
        "beta = np.sort(lrm.coefficients)\n",
        "pyplot.plot(beta)\n",
        "pyplot.ylabel('Beta Coefficients')\n",
        "pyplot.savefig('Logistic_Baseline_SMOTE_betaCoef.png', dpi=my_dpi * 10, bbox_inches='tight')\n",
        "pyplot.show()"
      ],
      "execution_count": 57,
      "outputs": [
        {
          "output_type": "display_data",
          "data": {
            "image/png": "[encoded data removed]",
            "text/plain": [
              "<Figure size 432x288 with 1 Axes>"
            ]
          },
          "metadata": {
            "needs_background": "light"
          }
        }
      ]
    },
    {
      "cell_type": "code",
      "metadata": {
        "colab": {
          "base_uri": "https://localhost:8080/",
          "height": 313
        },
        "id": "x3VTyOApnoZz",
        "outputId": "b46fa710-96d8-48b1-e175-5888451d796f"
      },
      "source": [
        "# ROC Curve\n",
        "trainingSummary = lrm.summary\n",
        "roc = trainingSummary.roc.toPandas()\n",
        "pyplot.plot(roc['FPR'],roc['TPR'])\n",
        "pyplot.ylabel('False Positive Rate')\n",
        "pyplot.xlabel('True Positive Rate')\n",
        "pyplot.title('ROC Curve')\n",
        "pyplot.savefig('Logistic_Baseline_SMOTE_ROC.png', dpi=my_dpi * 10, bbox_inches='tight')\n",
        "pyplot.show()\n",
        "print('Training set areaUnderROC: ' + str(trainingSummary.areaUnderROC))"
      ],
      "execution_count": 58,
      "outputs": [
        {
          "output_type": "display_data",
          "data": {
            "image/png": "[encoded data removed]",
            "text/plain": [
              "<Figure size 432x288 with 1 Axes>"
            ]
          },
          "metadata": {
            "needs_background": "light"
          }
        },
        {
          "output_type": "stream",
          "name": "stdout",
          "text": [
            "Training set areaUnderROC: 0.9403697643263388\n"
          ]
        }
      ]
    },
    {
      "cell_type": "code",
      "metadata": {
        "colab": {
          "base_uri": "https://localhost:8080/",
          "height": 279
        },
        "id": "36zEQ-yBnoZ0",
        "outputId": "62364265-7328-4e41-cd6d-3607c81dba42"
      },
      "source": [
        "# Precision Recall Curve\n",
        "pr = trainingSummary.pr.toPandas()\n",
        "pyplot.plot(pr['recall'],pr['precision'])\n",
        "pyplot.ylabel('Precision')\n",
        "pyplot.xlabel('Recall')\n",
        "pyplot.savefig('Logistic_Baseline_SMOTE_RecallPrecision.png', dpi=my_dpi * 10, bbox_inches='tight')\n",
        "pyplot.show()"
      ],
      "execution_count": 59,
      "outputs": [
        {
          "output_type": "display_data",
          "data": {
            "image/png": "[encoded data removed]",
            "text/plain": [
              "<Figure size 432x288 with 1 Axes>"
            ]
          },
          "metadata": {
            "needs_background": "light"
          }
        }
      ]
    },
    {
      "cell_type": "code",
      "metadata": {
        "id": "TWkMgtkOnoZ1"
      },
      "source": [
        "#####################################################################################\n",
        "############################# Linear SVM  ###########################################\n",
        "#####################################################################################"
      ],
      "execution_count": 60,
      "outputs": []
    },
    {
      "cell_type": "code",
      "metadata": {
        "id": "3_GDYyA1noZ2"
      },
      "source": [
        "# Set up Linear SVM pipeline\n",
        "lsvc = LinearSVC(maxIter=1000, \\\n",
        "                 regParam=0.1, \\\n",
        "                 featuresCol=\"scaledFeatures\", \\\n",
        "                 labelCol=labelCol)\n",
        "                \n",
        "pipeline_lsvc = Pipeline(stages=[vecAssembler, stdScaler, lsvc])\n",
        "pipelineModel_lsvc = pipeline_lsvc.fit(trainDF)"
      ],
      "execution_count": 61,
      "outputs": []
    },
    {
      "cell_type": "code",
      "metadata": {
        "id": "t2dZ3s09noZ3"
      },
      "source": [
        "# Predict on model\n",
        "predDF_lsvc = pipelineModel_lsvc.transform(testDF)"
      ],
      "execution_count": 62,
      "outputs": []
    },
    {
      "cell_type": "code",
      "metadata": {
        "colab": {
          "base_uri": "https://localhost:8080/"
        },
        "id": "62SApHyHnoZ3",
        "outputId": "cdb6c9e7-4a8c-4377-bd32-8ed92f51ebad"
      },
      "source": [
        "# Accuracy and Test Error\n",
        "lsvc_accuracy = evaluator.evaluate(predDF_lsvc)\n",
        "print(\"Accuracy of LogisticRegression is = %g\"%(lsvc_accuracy))\n",
        "print(\"Test Error of LogisticRegression = %g \"%(1.0 - lsvc_accuracy))"
      ],
      "execution_count": 63,
      "outputs": [
        {
          "output_type": "stream",
          "name": "stdout",
          "text": [
            "Accuracy of LogisticRegression is = 0.941902\n",
            "Test Error of LogisticRegression = 0.0580984 \n"
          ]
        }
      ]
    },
    {
      "cell_type": "code",
      "metadata": {
        "id": "j-qVZnBmnoZ3"
      },
      "source": [
        "# Extract info from pipeline\n",
        "lsvc = pipelineModel_lsvc.stages[-1]"
      ],
      "execution_count": 64,
      "outputs": []
    },
    {
      "cell_type": "code",
      "metadata": {
        "colab": {
          "base_uri": "https://localhost:8080/",
          "height": 265
        },
        "id": "nPJjzSOhnoZ4",
        "outputId": "468bb6a9-666f-4eb4-9118-a6da10a2f675"
      },
      "source": [
        "# Beta coefficients\n",
        "beta = np.sort(lsvc.coefficients)\n",
        "pyplot.plot(beta)\n",
        "pyplot.ylabel('Beta Coefficients')\n",
        "pyplot.savefig('LinearSVC_Baseline_SMOTE_betaCoef.png', dpi=my_dpi * 10, bbox_inches='tight')\n",
        "pyplot.show()"
      ],
      "execution_count": 65,
      "outputs": [
        {
          "output_type": "display_data",
          "data": {
            "image/png": "[encoded data removed]",
            "text/plain": [
              "<Figure size 432x288 with 1 Axes>"
            ]
          },
          "metadata": {
            "needs_background": "light"
          }
        }
      ]
    },
    {
      "cell_type": "code",
      "metadata": {
        "id": "Sa_whaxbnoZ6"
      },
      "source": [
        "#####################################################################################\n",
        "############################# Naive Bayes ###########################################\n",
        "#####################################################################################"
      ],
      "execution_count": 66,
      "outputs": []
    },
    {
      "cell_type": "code",
      "metadata": {
        "id": "_vP-FZ9snoZ6"
      },
      "source": [
        "# Set up Naive Bayes pipeline\n",
        "nb = NaiveBayes(smoothing=1.0, \\\n",
        "                modelType=\"gaussian\", \\\n",
        "                featuresCol=\"scaledFeatures\", \\\n",
        "                labelCol=labelCol)\n",
        "\n",
        "pipeline_nb = Pipeline(stages=[vecAssembler, stdScaler, nb])\n",
        "pipelineModel_nb = pipeline_nb.fit(trainDF)"
      ],
      "execution_count": 67,
      "outputs": []
    },
    {
      "cell_type": "code",
      "metadata": {
        "id": "XHfYvbgonoZ6"
      },
      "source": [
        "# Predict on model\n",
        "predDF_nb = pipelineModel_nb.transform(testDF)"
      ],
      "execution_count": 68,
      "outputs": []
    },
    {
      "cell_type": "code",
      "metadata": {
        "colab": {
          "base_uri": "https://localhost:8080/"
        },
        "id": "UyS2rvBknoZ7",
        "outputId": "730d45ce-945f-49b3-db51-f5e7551c6d3d"
      },
      "source": [
        "# Accuracy and Test Error\n",
        "nb_accuracy = evaluator.evaluate(predDF_nb)\n",
        "print(\"Accuracy of Naïve Bayes is = %g\"%(nb_accuracy))\n",
        "print(\"Error of Naïve Bayes is = %g \"%(1.0 - nb_accuracy))"
      ],
      "execution_count": 69,
      "outputs": [
        {
          "output_type": "stream",
          "name": "stdout",
          "text": [
            "Accuracy of Naïve Bayes is = 0.9442\n",
            "Error of Naïve Bayes is = 0.0558 \n"
          ]
        }
      ]
    },
    {
      "cell_type": "code",
      "metadata": {
        "id": "FfZ5d39onoZ9"
      },
      "source": [
        "#######################################################################################\n",
        "############################# Decision Tree ###########################################\n",
        "#######################################################################################"
      ],
      "execution_count": 70,
      "outputs": []
    },
    {
      "cell_type": "code",
      "metadata": {
        "id": "0_AFrPXNnoZ9"
      },
      "source": [
        "# Set up DecisionTree pipeline\n",
        "dt = DecisionTreeClassifier(labelCol=labelCol, \\\n",
        "                            featuresCol=\"scaledFeatures\", \\\n",
        "                            impurity=\"gini\")\n",
        "\n",
        "pipeline_dt = Pipeline(stages=[vecAssembler, stdScaler, dt])\n",
        "pipelineModel_dt = pipeline_dt.fit(trainDF)"
      ],
      "execution_count": 71,
      "outputs": []
    },
    {
      "cell_type": "code",
      "metadata": {
        "id": "lYzhvTZtnoZ9"
      },
      "source": [
        "# Predict on model\n",
        "predDF_dt = pipelineModel_dt.transform(testDF)"
      ],
      "execution_count": 72,
      "outputs": []
    },
    {
      "cell_type": "code",
      "metadata": {
        "colab": {
          "base_uri": "https://localhost:8080/"
        },
        "id": "9LFBcWq0noZ-",
        "outputId": "91b160a8-621c-481c-c801-7fefb16a5084"
      },
      "source": [
        "# Accuracy and Test Error\n",
        "dt_accuracy = evaluator.evaluate(predDF_dt)\n",
        "print(\"Accuracy of Decision Tree is = %g\"%(dt_accuracy))\n",
        "print(\"Error of Decision Tree is = %g \"%(1.0 - dt_accuracy))"
      ],
      "execution_count": 73,
      "outputs": [
        {
          "output_type": "stream",
          "name": "stdout",
          "text": [
            "Accuracy of Decision Tree is = 0.946496\n",
            "Error of Decision Tree is = 0.0535039 \n"
          ]
        }
      ]
    },
    {
      "cell_type": "code",
      "metadata": {
        "id": "aYCPghoxnoZ_"
      },
      "source": [
        "#######################################################################################\n",
        "############################# Random Forest ###########################################\n",
        "#######################################################################################"
      ],
      "execution_count": 74,
      "outputs": []
    },
    {
      "cell_type": "code",
      "metadata": {
        "id": "5c3W8TLmnoaA"
      },
      "source": [
        "# Set up RandomForest pipeline\n",
        "rf = RandomForestClassifier(labelCol=labelCol, \\\n",
        "                            featuresCol=\"scaledFeatures\", \\\n",
        "                            numTrees=50)\n",
        "\n",
        "pipeline_rf = Pipeline(stages=[vecAssembler, stdScaler, rf])\n",
        "pipelineModel_rf = pipeline_rf.fit(trainDF)"
      ],
      "execution_count": 75,
      "outputs": []
    },
    {
      "cell_type": "code",
      "metadata": {
        "id": "6P6V1aPpnoaA"
      },
      "source": [
        "# Predict on model\n",
        "predDF_rf = pipelineModel_rf.transform(testDF)"
      ],
      "execution_count": 76,
      "outputs": []
    },
    {
      "cell_type": "code",
      "metadata": {
        "colab": {
          "base_uri": "https://localhost:8080/"
        },
        "id": "wPCHzxwjnoaA",
        "outputId": "ef015abf-7371-499d-d3be-f1a0f2fef683"
      },
      "source": [
        "# Accuracy and Test Error\n",
        "rf_accuracy = evaluator.evaluate(predDF_rf)\n",
        "print(\"Accuracy of Random Tree is = %g\"%(rf_accuracy))\n",
        "print(\"Error of Random Tree is = %g \"%(1.0 - rf_accuracy))"
      ],
      "execution_count": 77,
      "outputs": [
        {
          "output_type": "stream",
          "name": "stdout",
          "text": [
            "Accuracy of Random Tree is = 0.950136\n",
            "Error of Random Tree is = 0.0498644 \n"
          ]
        }
      ]
    },
    {
      "cell_type": "code",
      "metadata": {
        "id": "5SX5EWoNnoaB"
      },
      "source": [
        "# Extract info from pipeline\n",
        "rf = pipelineModel_rf.stages[-1]"
      ],
      "execution_count": 78,
      "outputs": []
    },
    {
      "cell_type": "code",
      "metadata": {
        "colab": {
          "base_uri": "https://localhost:8080/",
          "height": 313
        },
        "id": "SQqf-aTxnoaC",
        "outputId": "09ffdf23-e0b8-4cbe-d604-7725ff39b847"
      },
      "source": [
        "# ROC Curve\n",
        "trainingSummary = rf.summary\n",
        "roc = trainingSummary.roc.toPandas()\n",
        "pyplot.plot(roc['FPR'],roc['TPR'])\n",
        "pyplot.ylabel('False Positive Rate')\n",
        "pyplot.xlabel('True Positive Rate')\n",
        "pyplot.title('ROC Curve')\n",
        "pyplot.savefig('RF_Baseline_SMOTE_ROC.png', dpi=my_dpi * 10, bbox_inches='tight')\n",
        "pyplot.show()\n",
        "print('Training set areaUnderROC: ' + str(trainingSummary.areaUnderROC))"
      ],
      "execution_count": 79,
      "outputs": [
        {
          "output_type": "display_data",
          "data": {
            "image/png": "[encoded data removed]",
            "text/plain": [
              "<Figure size 432x288 with 1 Axes>"
            ]
          },
          "metadata": {
            "needs_background": "light"
          }
        },
        {
          "output_type": "stream",
          "name": "stdout",
          "text": [
            "Training set areaUnderROC: 0.9894934938454565\n"
          ]
        }
      ]
    },
    {
      "cell_type": "code",
      "metadata": {
        "colab": {
          "base_uri": "https://localhost:8080/",
          "height": 279
        },
        "id": "1KXR7W-CnoaC",
        "outputId": "a6571d03-a0e0-44bf-98e7-f007b3b2ebe6"
      },
      "source": [
        "# Precision Recall Curve\n",
        "pr = trainingSummary.pr.toPandas()\n",
        "pyplot.plot(pr['recall'],pr['precision'])\n",
        "pyplot.ylabel('Precision')\n",
        "pyplot.xlabel('Recall')\n",
        "pyplot.savefig('RF_Baseline_SMOTE_RecallPrecision.png', dpi=my_dpi * 10, bbox_inches='tight')\n",
        "pyplot.show()"
      ],
      "execution_count": 80,
      "outputs": [
        {
          "output_type": "display_data",
          "data": {
            "image/png": "[encoded data removed]",
            "text/plain": [
              "<Figure size 432x288 with 1 Axes>"
            ]
          },
          "metadata": {
            "needs_background": "light"
          }
        }
      ]
    },
    {
      "cell_type": "code",
      "metadata": {
        "id": "Usvnc3fxnoaC"
      },
      "source": [
        "###############################################################################################\n",
        "############################# Gradient Boosted Tree ###########################################\n",
        "###############################################################################################"
      ],
      "execution_count": 81,
      "outputs": []
    },
    {
      "cell_type": "code",
      "metadata": {
        "id": "u1w49wchnoaD"
      },
      "source": [
        "# Set up GBT pipeline\n",
        "gbt = GBTClassifier(labelCol=labelCol, \\\n",
        "                    featuresCol=\"scaledFeatures\", \\\n",
        "                    maxIter=10)\n",
        "\n",
        "pipeline_gbt = Pipeline(stages=[vecAssembler, stdScaler, gbt])\n",
        "pipelineModel_gbt = pipeline_gbt.fit(trainDF)"
      ],
      "execution_count": 82,
      "outputs": []
    },
    {
      "cell_type": "code",
      "metadata": {
        "id": "-F8EDnuInoaD"
      },
      "source": [
        "# Predict on model\n",
        "predDF_gbt = pipelineModel_gbt.transform(testDF)"
      ],
      "execution_count": 83,
      "outputs": []
    },
    {
      "cell_type": "code",
      "metadata": {
        "colab": {
          "base_uri": "https://localhost:8080/"
        },
        "id": "a8iSAtcDnoaE",
        "outputId": "b6362e2c-bf7f-4c87-bca8-44f837c36bf9"
      },
      "source": [
        "# Accuracy and Test Error\n",
        "gbt_accuracy = evaluator.evaluate(predDF_gbt)\n",
        "print(\"Accuracy of Gradient-Boosted Tree is = %g\"%(gbt_accuracy))\n",
        "print(\"Error of Gradient-Boosted Tree is = %g \"%(1.0 - gbt_accuracy))"
      ],
      "execution_count": 84,
      "outputs": [
        {
          "output_type": "stream",
          "name": "stdout",
          "text": [
            "Accuracy of Gradient-Boosted Tree is = 0.96357\n",
            "Error of Gradient-Boosted Tree is = 0.03643 \n"
          ]
        }
      ]
    }
  ]
}