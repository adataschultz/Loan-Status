{
  "cells": [
    {
      "cell_type": "markdown",
      "source": [
        "# Lending Tree Loan Status - Baseline Models"
      ],
      "metadata": {
        "id": "xTlApJHhcaXl"
      }
    },
    {
      "cell_type": "markdown",
      "source": [
        "# Set Up Environment for Spark"
      ],
      "metadata": {
        "id": "YVZSGOovcSYV"
      }
    },
    {
      "cell_type": "markdown",
      "source": [
        "## Paperspace Gradient\n"
      ],
      "metadata": {
        "id": "a4raW63KgBzW"
      }
    },
    {
      "cell_type": "code",
      "source": [
        "# Install Java JRE/JDK in terminal\n",
        "apt update\n",
        "apt install default-jre\n",
        "apt install default-jdk"
      ],
      "metadata": {
        "id": "WuzH3OO59L4u"
      },
      "execution_count": null,
      "outputs": []
    },
    {
      "cell_type": "code",
      "execution_count": null,
      "metadata": {
        "colab": {
          "base_uri": "https://localhost:8080/"
        },
        "execution": {
          "iopub.execute_input": "2022-09-14T22:41:18.558493Z",
          "iopub.status.busy": "2022-09-14T22:41:18.558381Z",
          "iopub.status.idle": "2022-09-14T22:41:22.106403Z",
          "shell.execute_reply": "2022-09-14T22:41:22.105914Z",
          "shell.execute_reply.started": "2022-09-14T22:41:18.558479Z"
        },
        "id": "xFQyTPoYa4rA",
        "outputId": "40e819c9-30f5-49c7-9e52-f87d5d18c556"
      },
      "outputs": [
        {
          "name": "stdout",
          "output_type": "stream",
          "text": [
            "\u001b[33mWARNING: Running pip as the 'root' user can result in broken permissions and conflicting behaviour with the system package manager. It is recommended to use a virtual environment instead: https://pip.pypa.io/warnings/venv\u001b[0m\u001b[33m\n",
            "\u001b[0mRequirement already satisfied: pyspark==3.3 in /opt/conda/envs/rapids/lib/python3.9/site-packages (3.3.0)\n",
            "Requirement already satisfied: py4j==0.10.9.5 in /opt/conda/envs/rapids/lib/python3.9/site-packages (from pyspark==3.3) (0.10.9.5)\n",
            "\u001b[33mWARNING: Running pip as the 'root' user can result in broken permissions and conflicting behaviour with the system package manager. It is recommended to use a virtual environment instead: https://pip.pypa.io/warnings/venv\u001b[0m\u001b[33m\n",
            "\u001b[0m"
          ]
        }
      ],
      "source": [
        "# Install findspark using pip\n",
        "!pip install -q findspark\n",
        "!pip install -U pyspark==3.3\n",
        "import findspark\n",
        "findspark.init()"
      ]
    },
    {
      "cell_type": "code",
      "execution_count": null,
      "metadata": {
        "colab": {
          "base_uri": "https://localhost:8080/",
          "height": 222
        },
        "execution": {
          "iopub.execute_input": "2022-09-14T22:41:22.107999Z",
          "iopub.status.busy": "2022-09-14T22:41:22.107453Z",
          "iopub.status.idle": "2022-09-14T22:41:25.529835Z",
          "shell.execute_reply": "2022-09-14T22:41:25.529434Z",
          "shell.execute_reply.started": "2022-09-14T22:41:22.107975Z"
        },
        "id": "8USbkr7vPGBq",
        "outputId": "093e13e5-fcaf-4ffd-c800-0755878cc969"
      },
      "outputs": [
        {
          "name": "stderr",
          "output_type": "stream",
          "text": [
            "Setting default log level to \"WARN\".\n",
            "To adjust logging level use sc.setLogLevel(newLevel). For SparkR, use setLogLevel(newLevel).\n"
          ]
        },
        {
          "name": "stdout",
          "output_type": "stream",
          "text": [
            "22/09/14 22:41:23 WARN NativeCodeLoader: Unable to load native-hadoop library for your platform... using builtin-java classes where applicable\n"
          ]
        },
        {
          "data": {
            "text/html": [
              "\n",
              "            <div>\n",
              "                <p><b>SparkSession - in-memory</b></p>\n",
              "                \n",
              "        <div>\n",
              "            <p><b>SparkContext</b></p>\n",
              "\n",
              "            <p><a href=\"http://nwgyrqqffu:4050\">Spark UI</a></p>\n",
              "\n",
              "            <dl>\n",
              "              <dt>Version</dt>\n",
              "                <dd><code>v3.3.0</code></dd>\n",
              "              <dt>Master</dt>\n",
              "                <dd><code>local</code></dd>\n",
              "              <dt>AppName</dt>\n",
              "                <dd><code>Paperspace</code></dd>\n",
              "            </dl>\n",
              "        </div>\n",
              "        \n",
              "            </div>\n",
              "        "
            ],
            "text/plain": [
              "<pyspark.sql.session.SparkSession at 0x7f228c1df250>"
            ]
          },
          "execution_count": 4,
          "metadata": {},
          "output_type": "execute_result"
        }
      ],
      "source": [
        "# Pyspark Session for Paperspace with more RAM & CPU cores available\n",
        "# driver.memory=35g & executor.pyspark.memory=28 for some\n",
        "from pyspark.sql import SparkSession\n",
        "spark = SparkSession.builder\\\n",
        "        .master('local')\\\n",
        "        .appName('Paperspace')\\\n",
        "        .config('spark.driver.memory', '38g')\\\n",
        "        .config('spark.executor.pyspark.memory', '32g')\\\n",
        "        .config('spark.executor.cores', '4')\\\n",
        "        .config('spark.python.worker.memory', '32g')\\\n",
        "        .config('spark.sql.execution.arrow.pyspark.enabled', 'True')\\\n",
        "        .config('spark.sql.debug.maxToStringFields', '1000')\\\n",
        "        .config('spark.sql.autoBroadcastJoinThreshold', '-1')\\\n",
        "        .config('spark.ui.port', '4050')\\\n",
        "        .getOrCreate()\n",
        "\n",
        "spark"
      ]
    },
    {
      "cell_type": "code",
      "source": [
        "# Remove warnings\n",
        "spark.sparkContext.setLogLevel('ERROR')"
      ],
      "metadata": {
        "id": "7MZZD4FkvMYM"
      },
      "execution_count": null,
      "outputs": []
    },
    {
      "cell_type": "markdown",
      "source": [
        "# Install & Import Packages and Set Seed"
      ],
      "metadata": {
        "id": "DH0iOYr7IR5E"
      }
    },
    {
      "cell_type": "code",
      "execution_count": null,
      "metadata": {
        "id": "mzEE-fcNYc5r",
        "colab": {
          "base_uri": "https://localhost:8080/"
        },
        "outputId": "08d82a05-0712-49dc-e872-8742186a8d86"
      },
      "outputs": [
        {
          "output_type": "stream",
          "name": "stdout",
          "text": [
            "Looking in indexes: https://pypi.org/simple, https://us-python.pkg.dev/colab-wheels/public/simple/\n",
            "Collecting mlflow\n",
            "  Downloading mlflow-1.28.0-py3-none-any.whl (17.0 MB)\n",
            "\u001b[K     |████████████████████████████████| 17.0 MB 14.8 MB/s \n",
            "\u001b[?25hRequirement already satisfied: pandas<2 in /usr/local/lib/python3.7/dist-packages (from mlflow) (1.3.5)\n",
            "Collecting docker<6,>=4.0.0\n",
            "  Downloading docker-5.0.3-py2.py3-none-any.whl (146 kB)\n",
            "\u001b[K     |████████████████████████████████| 146 kB 78.6 MB/s \n",
            "\u001b[?25hRequirement already satisfied: entrypoints<1 in /usr/local/lib/python3.7/dist-packages (from mlflow) (0.4)\n",
            "Requirement already satisfied: sqlalchemy<2,>=1.4.0 in /usr/local/lib/python3.7/dist-packages (from mlflow) (1.4.41)\n",
            "Collecting prometheus-flask-exporter<1\n",
            "  Downloading prometheus_flask_exporter-0.20.3-py3-none-any.whl (18 kB)\n",
            "Collecting gunicorn<21\n",
            "  Downloading gunicorn-20.1.0-py3-none-any.whl (79 kB)\n",
            "\u001b[K     |████████████████████████████████| 79 kB 8.2 MB/s \n",
            "\u001b[?25hRequirement already satisfied: packaging<22 in /usr/local/lib/python3.7/dist-packages (from mlflow) (21.3)\n",
            "Requirement already satisfied: click<9,>=7.0 in /usr/local/lib/python3.7/dist-packages (from mlflow) (7.1.2)\n",
            "Requirement already satisfied: cloudpickle<3 in /usr/local/lib/python3.7/dist-packages (from mlflow) (1.5.0)\n",
            "Requirement already satisfied: pyyaml<7,>=5.1 in /usr/local/lib/python3.7/dist-packages (from mlflow) (6.0)\n",
            "Requirement already satisfied: pytz<2023 in /usr/local/lib/python3.7/dist-packages (from mlflow) (2022.2.1)\n",
            "Collecting gitpython<4,>=2.1.0\n",
            "  Downloading GitPython-3.1.27-py3-none-any.whl (181 kB)\n",
            "\u001b[K     |████████████████████████████████| 181 kB 80.8 MB/s \n",
            "\u001b[?25hRequirement already satisfied: numpy<2 in /usr/local/lib/python3.7/dist-packages (from mlflow) (1.21.6)\n",
            "Collecting querystring-parser<2\n",
            "  Downloading querystring_parser-1.2.4-py2.py3-none-any.whl (7.9 kB)\n",
            "Requirement already satisfied: protobuf<5,>=3.12.0 in /usr/local/lib/python3.7/dist-packages (from mlflow) (3.17.3)\n",
            "Requirement already satisfied: sqlparse<1,>=0.4.0 in /usr/local/lib/python3.7/dist-packages (from mlflow) (0.4.2)\n",
            "Requirement already satisfied: scipy<2 in /usr/local/lib/python3.7/dist-packages (from mlflow) (1.7.3)\n",
            "Requirement already satisfied: Flask<3 in /usr/local/lib/python3.7/dist-packages (from mlflow) (1.1.4)\n",
            "Requirement already satisfied: importlib-metadata!=4.7.0,<5,>=3.7.0 in /usr/local/lib/python3.7/dist-packages (from mlflow) (4.12.0)\n",
            "Requirement already satisfied: requests<3,>=2.17.3 in /usr/local/lib/python3.7/dist-packages (from mlflow) (2.23.0)\n",
            "Collecting databricks-cli<1,>=0.8.7\n",
            "  Downloading databricks-cli-0.17.3.tar.gz (77 kB)\n",
            "\u001b[K     |████████████████████████████████| 77 kB 6.9 MB/s \n",
            "\u001b[?25hCollecting alembic<2\n",
            "  Downloading alembic-1.8.1-py3-none-any.whl (209 kB)\n",
            "\u001b[K     |████████████████████████████████| 209 kB 85.2 MB/s \n",
            "\u001b[?25hRequirement already satisfied: importlib-resources in /usr/local/lib/python3.7/dist-packages (from alembic<2->mlflow) (5.9.0)\n",
            "Collecting Mako\n",
            "  Downloading Mako-1.2.2-py3-none-any.whl (78 kB)\n",
            "\u001b[K     |████████████████████████████████| 78 kB 6.2 MB/s \n",
            "\u001b[?25hCollecting pyjwt>=1.7.0\n",
            "  Downloading PyJWT-2.4.0-py3-none-any.whl (18 kB)\n",
            "Requirement already satisfied: oauthlib>=3.1.0 in /usr/local/lib/python3.7/dist-packages (from databricks-cli<1,>=0.8.7->mlflow) (3.2.0)\n",
            "Requirement already satisfied: tabulate>=0.7.7 in /usr/local/lib/python3.7/dist-packages (from databricks-cli<1,>=0.8.7->mlflow) (0.8.10)\n",
            "Requirement already satisfied: six>=1.10.0 in /usr/local/lib/python3.7/dist-packages (from databricks-cli<1,>=0.8.7->mlflow) (1.15.0)\n",
            "Collecting websocket-client>=0.32.0\n",
            "  Downloading websocket_client-1.4.1-py3-none-any.whl (55 kB)\n",
            "\u001b[K     |████████████████████████████████| 55 kB 2.8 MB/s \n",
            "\u001b[?25hRequirement already satisfied: itsdangerous<2.0,>=0.24 in /usr/local/lib/python3.7/dist-packages (from Flask<3->mlflow) (1.1.0)\n",
            "Requirement already satisfied: Werkzeug<2.0,>=0.15 in /usr/local/lib/python3.7/dist-packages (from Flask<3->mlflow) (1.0.1)\n",
            "Requirement already satisfied: Jinja2<3.0,>=2.10.1 in /usr/local/lib/python3.7/dist-packages (from Flask<3->mlflow) (2.11.3)\n",
            "Collecting gitdb<5,>=4.0.1\n",
            "  Downloading gitdb-4.0.9-py3-none-any.whl (63 kB)\n",
            "\u001b[K     |████████████████████████████████| 63 kB 1.7 MB/s \n",
            "\u001b[?25hRequirement already satisfied: typing-extensions>=3.7.4.3 in /usr/local/lib/python3.7/dist-packages (from gitpython<4,>=2.1.0->mlflow) (4.1.1)\n",
            "Collecting smmap<6,>=3.0.1\n",
            "  Downloading smmap-5.0.0-py3-none-any.whl (24 kB)\n",
            "Requirement already satisfied: setuptools>=3.0 in /usr/local/lib/python3.7/dist-packages (from gunicorn<21->mlflow) (57.4.0)\n",
            "Requirement already satisfied: zipp>=0.5 in /usr/local/lib/python3.7/dist-packages (from importlib-metadata!=4.7.0,<5,>=3.7.0->mlflow) (3.8.1)\n",
            "Requirement already satisfied: MarkupSafe>=0.23 in /usr/local/lib/python3.7/dist-packages (from Jinja2<3.0,>=2.10.1->Flask<3->mlflow) (2.0.1)\n",
            "Requirement already satisfied: pyparsing!=3.0.5,>=2.0.2 in /usr/local/lib/python3.7/dist-packages (from packaging<22->mlflow) (3.0.9)\n",
            "Requirement already satisfied: python-dateutil>=2.7.3 in /usr/local/lib/python3.7/dist-packages (from pandas<2->mlflow) (2.8.2)\n",
            "Collecting prometheus-client\n",
            "  Downloading prometheus_client-0.14.1-py3-none-any.whl (59 kB)\n",
            "\u001b[K     |████████████████████████████████| 59 kB 7.6 MB/s \n",
            "\u001b[?25hRequirement already satisfied: idna<3,>=2.5 in /usr/local/lib/python3.7/dist-packages (from requests<3,>=2.17.3->mlflow) (2.10)\n",
            "Requirement already satisfied: certifi>=2017.4.17 in /usr/local/lib/python3.7/dist-packages (from requests<3,>=2.17.3->mlflow) (2022.6.15)\n",
            "Requirement already satisfied: chardet<4,>=3.0.2 in /usr/local/lib/python3.7/dist-packages (from requests<3,>=2.17.3->mlflow) (3.0.4)\n",
            "Requirement already satisfied: urllib3!=1.25.0,!=1.25.1,<1.26,>=1.21.1 in /usr/local/lib/python3.7/dist-packages (from requests<3,>=2.17.3->mlflow) (1.24.3)\n",
            "Requirement already satisfied: greenlet!=0.4.17 in /usr/local/lib/python3.7/dist-packages (from sqlalchemy<2,>=1.4.0->mlflow) (1.1.3)\n",
            "Building wheels for collected packages: databricks-cli\n",
            "  Building wheel for databricks-cli (setup.py) ... \u001b[?25l\u001b[?25hdone\n",
            "  Created wheel for databricks-cli: filename=databricks_cli-0.17.3-py3-none-any.whl size=139102 sha256=bc092c8e6fe14820eb69e6e2d70cefe225dd7200a9bf8614f1ce331331ca4426\n",
            "  Stored in directory: /root/.cache/pip/wheels/3f/73/87/c1e4b2145eb6049bb6c9aaf7ea1e38302b77ca219b6fef5d5c\n",
            "Successfully built databricks-cli\n",
            "Installing collected packages: smmap, websocket-client, pyjwt, prometheus-client, Mako, gitdb, querystring-parser, prometheus-flask-exporter, gunicorn, gitpython, docker, databricks-cli, alembic, mlflow\n",
            "Successfully installed Mako-1.2.2 alembic-1.8.1 databricks-cli-0.17.3 docker-5.0.3 gitdb-4.0.9 gitpython-3.1.27 gunicorn-20.1.0 mlflow-1.28.0 prometheus-client-0.14.1 prometheus-flask-exporter-0.20.3 pyjwt-2.4.0 querystring-parser-1.2.4 smmap-5.0.0 websocket-client-1.4.1\n",
            "Looking in indexes: https://pypi.org/simple, https://us-python.pkg.dev/colab-wheels/public/simple/\n",
            "Requirement already satisfied: hyperopt in /usr/local/lib/python3.7/dist-packages (0.1.2)\n",
            "Requirement already satisfied: scipy in /usr/local/lib/python3.7/dist-packages (from hyperopt) (1.7.3)\n",
            "Requirement already satisfied: numpy in /usr/local/lib/python3.7/dist-packages (from hyperopt) (1.21.6)\n",
            "Requirement already satisfied: future in /usr/local/lib/python3.7/dist-packages (from hyperopt) (0.16.0)\n",
            "Requirement already satisfied: pymongo in /usr/local/lib/python3.7/dist-packages (from hyperopt) (4.2.0)\n",
            "Requirement already satisfied: tqdm in /usr/local/lib/python3.7/dist-packages (from hyperopt) (4.64.1)\n",
            "Requirement already satisfied: six in /usr/local/lib/python3.7/dist-packages (from hyperopt) (1.15.0)\n",
            "Requirement already satisfied: networkx in /usr/local/lib/python3.7/dist-packages (from hyperopt) (2.6.3)\n"
          ]
        }
      ],
      "source": [
        "!pip install --upgrade mlflow \n",
        "!pip install hyperopt\n",
        "import os\n",
        "import random\n",
        "import numpy as np\n",
        "import warnings\n",
        "from pyspark.sql.functions import col, round\n",
        "from pyspark.sql.types import IntegerType, FloatType\n",
        "from pyspark.ml.feature import VectorAssembler, MinMaxScaler, StandardScaler\n",
        "from pyspark.ml import Pipeline\n",
        "from pyspark.ml.classification import LogisticRegression, LinearSVC\n",
        "from pyspark.ml.classification import DecisionTreeClassifier\n",
        "from pyspark.ml.classification import RandomForestClassifier, GBTClassifier\n",
        "from pyspark.ml.evaluation import BinaryClassificationEvaluator\n",
        "from pyspark.ml.evaluation import MulticlassClassificationEvaluator\n",
        "from pyspark.mllib.evaluation import BinaryClassificationMetrics\n",
        "import time\n",
        "from datetime import datetime, timedelta\n",
        "from timeit import default_timer as timer\n",
        "import pandas as pd\n",
        "import matplotlib.pyplot as plt\n",
        "import seaborn as sns\n",
        "try:\n",
        "  import mlflow.pyspark.ml\n",
        "  mlflow.pyspark.ml.autolog()\n",
        "except:\n",
        "  print(f'Your version of MLflow ({mlflow.__version__}) does not support pyspark.ml for autologging. To use autologging, upgrade your MLflow client version or use Databricks Runtime for ML 8.3 or above.')\n",
        "warnings.filterwarnings('ignore')\n",
        "my_dpi = 96 "
      ]
    },
    {
      "cell_type": "code",
      "execution_count": null,
      "metadata": {
        "id": "zxq23AoWjaF5"
      },
      "outputs": [],
      "source": [
        "# Set seed \n",
        "seed_value = 42\n",
        "os.environ['SparkML_HPO'] = str(seed_value)\n",
        "random.seed(seed_value)\n",
        "np.random.seed(seed_value)"
      ]
    },
    {
      "cell_type": "markdown",
      "source": [
        "# Upsampling - Oversample Minority Class "
      ],
      "metadata": {
        "id": "Vu6FTxoSPNmk"
      }
    },
    {
      "cell_type": "markdown",
      "source": [
        "## Read Data and View Schema"
      ],
      "metadata": {
        "id": "e5-G8VmkR7ys"
      }
    },
    {
      "cell_type": "code",
      "execution_count": null,
      "metadata": {
        "id": "8vqi0lRLrNED",
        "colab": {
          "base_uri": "https://localhost:8080/"
        },
        "outputId": "ae408d69-c308-4af5-8910-9de1d2b22376"
      },
      "outputs": [
        {
          "output_type": "stream",
          "name": "stdout",
          "text": [
            "\n",
            "Train Schema\n",
            "root\n",
            " |-- loan_amnt: integer (nullable = true)\n",
            " |-- int_rate: double (nullable = true)\n",
            " |-- installment: double (nullable = true)\n",
            " |-- annual_inc: double (nullable = true)\n",
            " |-- inq_last_6mths: double (nullable = true)\n",
            " |-- pub_rec: double (nullable = true)\n",
            " |-- revol_bal: integer (nullable = true)\n",
            " |-- out_prncp: double (nullable = true)\n",
            " |-- total_pymnt: double (nullable = true)\n",
            " |-- total_rec_int: double (nullable = true)\n",
            " |-- total_rec_late_fee: double (nullable = true)\n",
            " |-- recoveries: double (nullable = true)\n",
            " |-- last_pymnt_amnt: double (nullable = true)\n",
            " |-- collections_12_mths_ex_med: double (nullable = true)\n",
            " |-- acc_open_past_24mths: double (nullable = true)\n",
            " |-- bc_open_to_buy: double (nullable = true)\n",
            " |-- chargeoff_within_12_mths: double (nullable = true)\n",
            " |-- delinq_amnt: double (nullable = true)\n",
            " |-- mths_since_recent_bc: double (nullable = true)\n",
            " |-- num_bc_sats: double (nullable = true)\n",
            " |-- num_bc_tl: double (nullable = true)\n",
            " |-- num_sats: double (nullable = true)\n",
            " |-- num_tl_30dpd: double (nullable = true)\n",
            " |-- tax_liens: double (nullable = true)\n",
            " |-- tot_hi_cred_lim: double (nullable = true)\n",
            " |-- total_bal_ex_mort: double (nullable = true)\n",
            " |-- total_bc_limit: double (nullable = true)\n",
            " |-- term_ 60 months: integer (nullable = true)\n",
            " |-- grade_B: integer (nullable = true)\n",
            " |-- grade_C: integer (nullable = true)\n",
            " |-- grade_D: integer (nullable = true)\n",
            " |-- home_ownership_MORTGAGE: integer (nullable = true)\n",
            " |-- home_ownership_OWN: integer (nullable = true)\n",
            " |-- home_ownership_RENT: integer (nullable = true)\n",
            " |-- verification_status_Source Verified: integer (nullable = true)\n",
            " |-- verification_status_Verified: integer (nullable = true)\n",
            " |-- purpose_credit_card: integer (nullable = true)\n",
            " |-- initial_list_status_w: integer (nullable = true)\n",
            " |-- application_type_Joint App: integer (nullable = true)\n",
            " |-- disbursement_method_DirectPay: integer (nullable = true)\n",
            " |-- num_il_tl: double (nullable = true)\n",
            " |-- num_accts_ever_120_pd: double (nullable = true)\n",
            " |-- mo_sin_old_rev_tl_op: double (nullable = true)\n",
            " |-- percent_bc_gt_75: double (nullable = true)\n",
            " |-- revol_util: double (nullable = true)\n",
            " |-- num_actv_rev_tl: double (nullable = true)\n",
            " |-- tot_coll_amt: double (nullable = true)\n",
            " |-- mort_acc: double (nullable = true)\n",
            " |-- delinq_2yrs: double (nullable = true)\n",
            " |-- num_tl_op_past_12m: double (nullable = true)\n",
            " |-- loan_status: integer (nullable = true)\n",
            "\n",
            "\n",
            "Test Schema\n",
            "root\n",
            " |-- loan_amnt: integer (nullable = true)\n",
            " |-- int_rate: double (nullable = true)\n",
            " |-- installment: double (nullable = true)\n",
            " |-- annual_inc: double (nullable = true)\n",
            " |-- inq_last_6mths: double (nullable = true)\n",
            " |-- pub_rec: double (nullable = true)\n",
            " |-- revol_bal: integer (nullable = true)\n",
            " |-- out_prncp: double (nullable = true)\n",
            " |-- total_pymnt: double (nullable = true)\n",
            " |-- total_rec_int: double (nullable = true)\n",
            " |-- total_rec_late_fee: double (nullable = true)\n",
            " |-- recoveries: double (nullable = true)\n",
            " |-- last_pymnt_amnt: double (nullable = true)\n",
            " |-- collections_12_mths_ex_med: double (nullable = true)\n",
            " |-- acc_open_past_24mths: double (nullable = true)\n",
            " |-- bc_open_to_buy: double (nullable = true)\n",
            " |-- chargeoff_within_12_mths: double (nullable = true)\n",
            " |-- delinq_amnt: double (nullable = true)\n",
            " |-- mths_since_recent_bc: double (nullable = true)\n",
            " |-- num_bc_sats: double (nullable = true)\n",
            " |-- num_bc_tl: double (nullable = true)\n",
            " |-- num_sats: double (nullable = true)\n",
            " |-- num_tl_30dpd: double (nullable = true)\n",
            " |-- tax_liens: double (nullable = true)\n",
            " |-- tot_hi_cred_lim: double (nullable = true)\n",
            " |-- total_bal_ex_mort: double (nullable = true)\n",
            " |-- total_bc_limit: double (nullable = true)\n",
            " |-- term_ 60 months: integer (nullable = true)\n",
            " |-- grade_B: integer (nullable = true)\n",
            " |-- grade_C: integer (nullable = true)\n",
            " |-- grade_D: integer (nullable = true)\n",
            " |-- home_ownership_MORTGAGE: integer (nullable = true)\n",
            " |-- home_ownership_OWN: integer (nullable = true)\n",
            " |-- home_ownership_RENT: integer (nullable = true)\n",
            " |-- verification_status_Source Verified: integer (nullable = true)\n",
            " |-- verification_status_Verified: integer (nullable = true)\n",
            " |-- purpose_credit_card: integer (nullable = true)\n",
            " |-- initial_list_status_w: integer (nullable = true)\n",
            " |-- application_type_Joint App: integer (nullable = true)\n",
            " |-- disbursement_method_DirectPay: integer (nullable = true)\n",
            " |-- num_il_tl: double (nullable = true)\n",
            " |-- num_accts_ever_120_pd: double (nullable = true)\n",
            " |-- mo_sin_old_rev_tl_op: double (nullable = true)\n",
            " |-- percent_bc_gt_75: double (nullable = true)\n",
            " |-- revol_util: double (nullable = true)\n",
            " |-- num_actv_rev_tl: double (nullable = true)\n",
            " |-- tot_coll_amt: double (nullable = true)\n",
            " |-- mort_acc: double (nullable = true)\n",
            " |-- delinq_2yrs: double (nullable = true)\n",
            " |-- num_tl_op_past_12m: double (nullable = true)\n",
            " |-- loan_status: integer (nullable = true)\n",
            "\n"
          ]
        }
      ],
      "source": [
        "trainDF = spark.read.csv('/cnotebooks/LoanStatus/Data/trainDF_US.csv',\n",
        "                         header=True, inferSchema=True)\n",
        "trainDF.cache()\n",
        "print('\\nTrain Schema')\n",
        "trainDF.printSchema()\n",
        "\n",
        "testDF = spark.read.csv('/notebooks/LoanStatus/Data/testDF_US.csv', \n",
        "                        header=True, inferSchema=True)\n",
        "testDF.cache()\n",
        "print('\\nTest Schema')\n",
        "testDF.printSchema()"
      ]
    },
    {
      "cell_type": "markdown",
      "metadata": {
        "id": "IIMlmrv5IkT1"
      },
      "source": [
        "## Set up Vector Assembler, Scalers and Evaluators"
      ]
    },
    {
      "cell_type": "code",
      "execution_count": null,
      "metadata": {
        "id": "g2XHymcqV05p"
      },
      "outputs": [],
      "source": [
        "# Define features and label for train data\n",
        "features = trainDF.columns[0: len(trainDF.columns) - 1]\n",
        "trainDF = trainDF.select(col('loan_status').alias('label'), *features)"
      ]
    },
    {
      "cell_type": "code",
      "execution_count": null,
      "metadata": {
        "id": "VhMCrT8GV05r"
      },
      "outputs": [],
      "source": [
        "# VectorAssembler \n",
        "vecAssembler = VectorAssembler(inputCols=features, \n",
        "                               outputCol='unscaledFeatures', \n",
        "                               handleInvalid='skip')  \n",
        "\n",
        "# Transform train data\n",
        "trainDF = vecAssembler.transform(trainDF)  "
      ]
    },
    {
      "cell_type": "code",
      "execution_count": null,
      "metadata": {
        "id": "7bJpMRdpV05t"
      },
      "outputs": [],
      "source": [
        "# Define features and label for test data \n",
        "features = testDF.columns[0: len(testDF.columns) - 1]\n",
        "testDF = testDF.select(col('loan_status').alias('label'), *features)\n",
        "\n",
        "# Transform test data\n",
        "testDF = vecAssembler.transform(testDF)  "
      ]
    },
    {
      "cell_type": "code",
      "execution_count": null,
      "metadata": {
        "id": "9Dlfq642IkT5"
      },
      "outputs": [],
      "source": [
        "# MinMaxScaler\n",
        "mmScaler = MinMaxScaler(inputCol='unscaledFeatures', \n",
        "                        outputCol='scaledFeatures',\n",
        "                        min=0, max=1)"
      ]
    },
    {
      "cell_type": "code",
      "execution_count": null,
      "metadata": {
        "id": "WpfegOq7IkT6"
      },
      "outputs": [],
      "source": [
        "# Standard scaler\n",
        "stdScaler = StandardScaler(inputCol='unscaledFeatures', \n",
        "                           outputCol='scaledFeatures', \n",
        "                           withStd=True, \n",
        "                           withMean=False)"
      ]
    },
    {
      "cell_type": "code",
      "source": [
        "# Define model evaluation\n",
        "evaluator_auroc = BinaryClassificationEvaluator(labelCol='label', \n",
        "                                                metricName='areaUnderROC')\n",
        "\n",
        "evaluator_acc = MulticlassClassificationEvaluator(labelCol='label', \n",
        "                                                  metricName='accuracy')"
      ],
      "metadata": {
        "id": "MhmgcEb8nxTD"
      },
      "execution_count": null,
      "outputs": []
    },
    {
      "cell_type": "markdown",
      "source": [
        "## Logistic Regression"
      ],
      "metadata": {
        "id": "dfc6zT4Sg7RU"
      }
    },
    {
      "cell_type": "code",
      "execution_count": null,
      "metadata": {
        "execution": {
          "iopub.execute_input": "2022-10-10T01:25:44.913576Z",
          "iopub.status.busy": "2022-10-10T01:25:44.913473Z",
          "iopub.status.idle": "2022-10-10T01:30:08.117089Z",
          "shell.execute_reply": "2022-10-10T01:30:08.116554Z",
          "shell.execute_reply.started": "2022-10-10T01:25:44.913564Z"
        },
        "id": "m-TKfHs-YXr4",
        "outputId": "3b1fe6cd-941e-4205-caed-c1d1626b6653"
      },
      "outputs": [
        {
          "name": "stderr",
          "output_type": "stream",
          "text": [
            "2022/10/10 01:25:45 INFO mlflow.utils.autologging_utils: Created MLflow autologging run with ID '4f23ebbab68a4183b8e16c8ad7a6cd2f', which will track hyperparameters, performance metrics, model artifacts, and lineage information for the current pyspark.ml workflow\n",
            "2022/10/10 01:27:42 INFO mlflow.utils.autologging_utils: Created MLflow autologging run with ID '50959865b44949f3bae0aebc0bfea305', which will track hyperparameters, performance metrics, model artifacts, and lineage information for the current pyspark.ml workflow\n",
            "                                                                                \r"
          ]
        },
        {
          "name": "stdout",
          "output_type": "stream",
          "text": [
            "Time to fit baseline model: 233.42002511024475\n"
          ]
        },
        {
          "name": "stderr",
          "output_type": "stream",
          "text": [
            "                                                                                \r"
          ]
        }
      ],
      "source": [
        "# Set up logistic regression pipeline\n",
        "lr = LogisticRegression(family='binomial', \n",
        "                        labelCol='label', \n",
        "                        featuresCol='scaledFeatures',  \n",
        "                        regParam=0.0, \n",
        "                        elasticNetParam=0.0, \n",
        "                        maxIter=100)\n",
        "\n",
        "search_time_start = time.time()\n",
        "pipeline_lr = Pipeline(stages=[mmScaler, lr])\n",
        "pipelineModel_lr_hyperopt = pipeline_lr.fit(trainDF)\n",
        "pipelineModel_lr = pipeline_lr.fit(trainDF)\n",
        "print('Time to fit baseline model:', time.time() - search_time_start)\n",
        "\n",
        "Path = '/notebooks/LoanStatus/Python/ML/SparkML/Models/Baseline/baselineModel_lr_us'\n",
        "pipelineModel_lr.save(Path)"
      ]
    },
    {
      "cell_type": "code",
      "source": [
        "# Predict on model\n",
        "prediction_lr = pipelineModel_lr.transform(testDF)\n",
        "\n",
        "lr_auroc = evaluator_auroc.evaluate(prediction_lr)\n",
        "print('Baseline: LogisticRegression')\n",
        "print('Area under ROC curve: %g' % (lr_auroc))\n",
        "print('Test Error: %g' % (1.0 - lr_auroc))\n",
        "print('Accuracy:', evaluator_acc.evaluate(prediction_lr)) "
      ],
      "metadata": {
        "colab": {
          "base_uri": "https://localhost:8080/"
        },
        "id": "fSTSIAV8RoNf",
        "outputId": "0b631c1d-0e57-4a4e-d85b-c4f8d13e8e11"
      },
      "execution_count": null,
      "outputs": [
        {
          "output_type": "stream",
          "name": "stdout",
          "text": [
            "Baseline: Logistic Regression\n",
            "Area under ROC curve: 0.98701\n",
            "Test Error: 0.0129899\n",
            "Accuracy: 0.9858303292922332\n"
          ]
        }
      ]
    },
    {
      "cell_type": "code",
      "execution_count": null,
      "metadata": {
        "execution": {
          "iopub.execute_input": "2022-10-10T01:31:21.153204Z",
          "iopub.status.busy": "2022-10-10T01:31:21.152720Z",
          "iopub.status.idle": "2022-10-10T01:31:22.150996Z",
          "shell.execute_reply": "2022-10-10T01:31:22.150534Z",
          "shell.execute_reply.started": "2022-10-10T01:31:21.153179Z"
        },
        "id": "uClcqZUDYXr9",
        "outputId": "3dcdc3c8-a62d-4326-f921-eb1b76f08846"
      },
      "outputs": [
        {
          "data": {
            "image/png": "[encoded data removed]",
            "text/plain": [
              "<Figure size 432x288 with 1 Axes>"
            ]
          },
          "metadata": {
            "needs_background": "light"
          },
          "output_type": "display_data"
        }
      ],
      "source": [
        "# Set path to save results\n",
        "save_results_to = '/notebooks/LoanStatus/Python/ML/SparkML/Models/Baseline/Results/'\n",
        "\n",
        "# Extract info from pipeline\n",
        "lr_info = pipelineModel_lr.stages[-1]\n",
        "trainingSummary = lr_info.summary\n",
        "\n",
        "# Beta coefficients\n",
        "beta = np.sort(lr_info.coefficients)\n",
        "plt.plot(beta)\n",
        "plt.ylabel('Beta Coefficients')\n",
        "plt.savefig(save_results_to + 'Logistic_Baseline_US_betaCoef.png', \n",
        "            dpi=my_dpi*10, bbox_inches='tight')\n",
        "plt.show()"
      ]
    },
    {
      "cell_type": "code",
      "execution_count": null,
      "metadata": {
        "execution": {
          "iopub.execute_input": "2022-10-10T01:31:22.154083Z",
          "iopub.status.busy": "2022-10-10T01:31:22.153952Z",
          "iopub.status.idle": "2022-10-10T01:32:15.171996Z",
          "shell.execute_reply": "2022-10-10T01:32:15.171522Z",
          "shell.execute_reply.started": "2022-10-10T01:31:22.154067Z"
        },
        "id": "VXTh60LxYXr9",
        "outputId": "a62dfc21-5d27-42d5-b9c5-6cbf3ca55b44"
      },
      "outputs": [
        {
          "name": "stderr",
          "output_type": "stream",
          "text": [
            "                                                                                \r"
          ]
        },
        {
          "data": {
            "image/png": "[encoded data removed]",
            "text/plain": [
              "<Figure size 432x288 with 1 Axes>"
            ]
          },
          "metadata": {
            "needs_background": "light"
          },
          "output_type": "display_data"
        },
        {
          "name": "stdout",
          "output_type": "stream",
          "text": [
            "\n",
            "Training set areaUnderROC: 0.9862967238425067\n"
          ]
        }
      ],
      "source": [
        "# ROC Curve\n",
        "roc = trainingSummary.roc.toPandas()\n",
        "plt.plot(roc['FPR'],roc['TPR'])\n",
        "plt.ylabel('False Positive Rate')\n",
        "plt.xlabel('True Positive Rate')\n",
        "plt.title('ROC Curve')\n",
        "plt.savefig(save_results_to + 'Logistic_Baseline_US_ROC.png', \n",
        "            dpi=my_dpi*10, bbox_inches='tight')\n",
        "plt.show()\n",
        "print('\\nTraining set areaUnderROC:' + str(trainingSummary.areaUnderROC))"
      ]
    },
    {
      "cell_type": "code",
      "execution_count": null,
      "metadata": {
        "execution": {
          "iopub.execute_input": "2022-10-10T01:32:15.173046Z",
          "iopub.status.busy": "2022-10-10T01:32:15.172908Z",
          "iopub.status.idle": "2022-10-10T01:32:16.244429Z",
          "shell.execute_reply": "2022-10-10T01:32:16.244032Z",
          "shell.execute_reply.started": "2022-10-10T01:32:15.173029Z"
        },
        "id": "6yLNQ5czYXr-",
        "outputId": "3def34e2-bf4a-4fa7-b88d-35b09757ffb8"
      },
      "outputs": [
        {
          "data": {
            "image/png": "[encoded data removed]",
            "text/plain": [
              "<Figure size 432x288 with 1 Axes>"
            ]
          },
          "metadata": {
            "needs_background": "light"
          },
          "output_type": "display_data"
        }
      ],
      "source": [
        "# Precision Recall Curve\n",
        "pr = trainingSummary.pr.toPandas()\n",
        "plt.plot(pr['recall'],pr['precision'])\n",
        "plt.ylabel('Precision')\n",
        "plt.xlabel('Recall')\n",
        "plt.savefig(save_results_to + 'Logistic_Baseline_US_RecallPrecision.png', \n",
        "            dpi=my_dpi*10, bbox_inches='tight')\n",
        "plt.show()"
      ]
    },
    {
      "cell_type": "markdown",
      "source": [
        "## LinearSVC"
      ],
      "metadata": {
        "id": "grEBSzzzuKBj"
      }
    },
    {
      "cell_type": "code",
      "execution_count": null,
      "metadata": {
        "execution": {
          "iopub.execute_input": "2022-10-10T01:32:16.252022Z",
          "iopub.status.busy": "2022-10-10T01:32:16.251896Z",
          "iopub.status.idle": "2022-10-10T01:34:58.592245Z",
          "shell.execute_reply": "2022-10-10T01:34:58.591644Z",
          "shell.execute_reply.started": "2022-10-10T01:32:16.252008Z"
        },
        "outputId": "69b5c2aa-6d26-47a3-feba-1673c3a2c008",
        "id": "4QZUVgFYoG5q"
      },
      "outputs": [
        {
          "name": "stderr",
          "output_type": "stream",
          "text": [
            "2022/10/10 01:32:16 INFO mlflow.utils.autologging_utils: Created MLflow autologging run with ID '6244b6c7087d40c9ba3bcecb84c96be2', which will track hyperparameters, performance metrics, model artifacts, and lineage information for the current pyspark.ml workflow\n",
            "                                                                                \r"
          ]
        },
        {
          "name": "stdout",
          "output_type": "stream",
          "text": [
            "Time to fit baseline model: 154.46316194534302\n"
          ]
        },
        {
          "name": "stderr",
          "output_type": "stream",
          "text": [
            "                                                                                \r"
          ]
        }
      ],
      "source": [
        "# Set up LinearSVC pipeline\n",
        "lsvc = LinearSVC(labelCol='label', \n",
        "                 featuresCol='scaledFeatures', \n",
        "                 regParam=0.0, \n",
        "                 tol=1e-5, \n",
        "                 maxIter=100)\n",
        "\n",
        "search_time_start = time.time()\n",
        "pipeline_lsvc = Pipeline(stages=[stdScaler, lsvc])\n",
        "pipelineModel_lsvc = pipeline_lsvc.fit(trainDF)\n",
        "print('Time to fit baseline model:', time.time() - search_time_start)\n",
        "\n",
        "Path = '/notebooks/LoanStatus/Python/ML/SparkML/Models/Baseline/baselineModel_lsvc_us'\n",
        "pipelineModel_lsvc.save(Path)"
      ]
    },
    {
      "cell_type": "code",
      "execution_count": null,
      "metadata": {
        "execution": {
          "iopub.execute_input": "2022-10-10T01:34:58.593332Z",
          "iopub.status.busy": "2022-10-10T01:34:58.593190Z",
          "iopub.status.idle": "2022-10-10T01:35:08.159024Z",
          "shell.execute_reply": "2022-10-10T01:35:08.158561Z",
          "shell.execute_reply.started": "2022-10-10T01:34:58.593313Z"
        },
        "id": "QV984L1DnVyd",
        "outputId": "8b8240de-d435-4f0f-c328-b1b17ecd17d0"
      },
      "outputs": [
        {
          "name": "stderr",
          "output_type": "stream",
          "text": [
            "                                                                                \r"
          ]
        },
        {
          "name": "stdout",
          "output_type": "stream",
          "text": [
            "Baseline: LinearSVC\n",
            "Area under ROC curve: 0.978874\n",
            "Test Error: 0.0211257\n"
          ]
        },
        {
          "name": "stderr",
          "output_type": "stream",
          "text": [
            "                                                                                \r"
          ]
        },
        {
          "name": "stdout",
          "output_type": "stream",
          "text": [
            "Accuracy: 0.9799987513671373\n"
          ]
        }
      ],
      "source": [
        "# Predict on model\n",
        "prediction_lsvc = pipelineModel_lsvc.transform(testDF)\n",
        "\n",
        "lsvc_auroc = evaluator_auroc.evaluate(prediction_lsvc)\n",
        "print('Baseline: LinearSVC')\n",
        "print('Area under ROC curve: %g' % (lsvc_auroc))\n",
        "print('Test Error: %g' % (1.0 - lsvc_auroc))\n",
        "print('Accuracy:', evaluator_acc.evaluate(prediction_lsvc)) "
      ]
    },
    {
      "cell_type": "code",
      "execution_count": null,
      "metadata": {
        "execution": {
          "iopub.execute_input": "2022-10-10T01:35:08.160115Z",
          "iopub.status.busy": "2022-10-10T01:35:08.159979Z",
          "iopub.status.idle": "2022-10-10T01:35:09.121366Z",
          "shell.execute_reply": "2022-10-10T01:35:09.121025Z",
          "shell.execute_reply.started": "2022-10-10T01:35:08.160100Z"
        },
        "outputId": "4218ebd0-72d3-4fce-dbb6-7bf56eb738d1",
        "id": "JBm3xTYsoG6B"
      },
      "outputs": [
        {
          "data": {
            "image/png": "[encoded data removed]",
            "text/plain": [
              "<Figure size 432x288 with 1 Axes>"
            ]
          },
          "metadata": {
            "needs_background": "light"
          },
          "output_type": "display_data"
        }
      ],
      "source": [
        "# Extract info from pipeline\n",
        "lsvc_info = pipelineModel_lsvc.stages[-1]\n",
        "trainingSummary = lsvc_info.summary\n",
        "\n",
        "# Beta coefficients\n",
        "beta = np.sort(lsvc_info.coefficients)\n",
        "plt.plot(beta)\n",
        "plt.ylabel('Beta Coefficients')\n",
        "plt.savefig(save_results_to + 'LinearSVC_Baseline_US_betaCoef.png',\n",
        "            dpi=my_dpi*10, bbox_inches='tight')\n",
        "plt.show()"
      ]
    },
    {
      "cell_type": "markdown",
      "source": [
        "## Decision Tree "
      ],
      "metadata": {
        "id": "AY9w3qrcuVL1"
      }
    },
    {
      "cell_type": "code",
      "execution_count": null,
      "metadata": {
        "execution": {
          "iopub.execute_input": "2022-10-10T01:35:09.128089Z",
          "iopub.status.busy": "2022-10-10T01:35:09.127986Z",
          "iopub.status.idle": "2022-10-10T01:36:13.315160Z",
          "shell.execute_reply": "2022-10-10T01:36:13.314718Z",
          "shell.execute_reply.started": "2022-10-10T01:35:09.128075Z"
        },
        "outputId": "4a24d325-a4ca-4823-84bb-075f34c4cc0b",
        "id": "ERJD1SQ1oqTK"
      },
      "outputs": [
        {
          "name": "stderr",
          "output_type": "stream",
          "text": [
            "2022/10/10 01:35:09 INFO mlflow.utils.autologging_utils: Created MLflow autologging run with ID '3d9d3090f60f46149b270867004547a7', which will track hyperparameters, performance metrics, model artifacts, and lineage information for the current pyspark.ml workflow\n",
            "                                                                                \r"
          ]
        },
        {
          "name": "stdout",
          "output_type": "stream",
          "text": [
            "Time to fit baseline model: 59.340999603271484\n"
          ]
        }
      ],
      "source": [
        "# Set up DecisionTree pipeline\n",
        "dt = DecisionTreeClassifier(labelCol='label', \n",
        "                            featuresCol='unscaledFeatures',\n",
        "                            maxDepth=5,\n",
        "                            maxBins=16, \n",
        "                            impurity='gini',\n",
        "                            seed=seed_value)\n",
        "\n",
        "search_time_start = time.time()\n",
        "pipeline_dt = Pipeline(stages=[dt])\n",
        "pipelineModel_dt = pipeline_dt.fit(trainDF)\n",
        "print('Time to fit baseline model:', time.time() - search_time_start)\n",
        "\n",
        "Path = '/notebooks/LoanStatus/Python/ML/SparkML/Models/Baseline/baselineModel_dt_us'\n",
        "pipelineModel_dt.save(Path)"
      ]
    },
    {
      "cell_type": "code",
      "execution_count": null,
      "metadata": {
        "execution": {
          "iopub.execute_input": "2022-10-10T01:36:13.316033Z",
          "iopub.status.busy": "2022-10-10T01:36:13.315899Z",
          "iopub.status.idle": "2022-10-10T01:36:17.708989Z",
          "shell.execute_reply": "2022-10-10T01:36:17.708395Z",
          "shell.execute_reply.started": "2022-10-10T01:36:13.316015Z"
        },
        "id": "nAG0VdW7nVyi",
        "outputId": "c468553d-645b-4c30-a4f0-6c4f753ec521"
      },
      "outputs": [
        {
          "name": "stderr",
          "output_type": "stream",
          "text": [
            "                                                                                \r"
          ]
        },
        {
          "name": "stdout",
          "output_type": "stream",
          "text": [
            "Baseline: Decision Tree\n",
            "Area under ROC curve: 0.913289\n",
            "Test Error: 0.086711\n"
          ]
        },
        {
          "name": "stderr",
          "output_type": "stream",
          "text": [
            "                                                                                \r"
          ]
        },
        {
          "name": "stdout",
          "output_type": "stream",
          "text": [
            "Accuracy: 0.910900796119064\n"
          ]
        }
      ],
      "source": [
        "# Predict on model\n",
        "prediction_dt = pipelineModel_dt.transform(testDF)\n",
        "\n",
        "dt_auroc = evaluator_auroc.evaluate(prediction_dt)\n",
        "print('Baseline: Decision Tree')\n",
        "print('Area under ROC curve: %g' % (dt_auroc))\n",
        "print('Test Error: %g' % (1.0 - dt_auroc))\n",
        "print('Accuracy:', evaluator_acc.evaluate(prediction_dt)) "
      ]
    },
    {
      "cell_type": "markdown",
      "source": [
        "## Random Forest"
      ],
      "metadata": {
        "id": "vyigAfseurAj"
      }
    },
    {
      "cell_type": "code",
      "execution_count": null,
      "metadata": {
        "execution": {
          "iopub.execute_input": "2022-10-10T01:36:17.713534Z",
          "iopub.status.busy": "2022-10-10T01:36:17.713404Z",
          "iopub.status.idle": "2022-10-10T01:37:45.982380Z",
          "shell.execute_reply": "2022-10-10T01:37:45.981865Z",
          "shell.execute_reply.started": "2022-10-10T01:36:17.713520Z"
        },
        "outputId": "45d651da-8f44-4fd0-9550-6cdfa8c85113",
        "id": "TvsDosYgozg8"
      },
      "outputs": [
        {
          "name": "stderr",
          "output_type": "stream",
          "text": [
            "2022/10/10 01:36:18 INFO mlflow.utils.autologging_utils: Created MLflow autologging run with ID '56518e71367042c88e4508ccf0cdf517', which will track hyperparameters, performance metrics, model artifacts, and lineage information for the current pyspark.ml workflow\n",
            "                                                                                \r"
          ]
        },
        {
          "name": "stdout",
          "output_type": "stream",
          "text": [
            "Time to fit baseline model: 81.84045767784119\n"
          ]
        },
        {
          "name": "stderr",
          "output_type": "stream",
          "text": [
            "                                                                                \r"
          ]
        }
      ],
      "source": [
        "# Set up RandomForest pipeline\n",
        "rf = RandomForestClassifier(labelCol='label', \n",
        "                            featuresCol='unscaledFeatures',\n",
        "                            impurity='gini',\n",
        "                            maxDepth=5,\n",
        "                            maxBins=32, \n",
        "                            numTrees=10,\n",
        "                            seed=seed_value)\n",
        "\n",
        "search_time_start = time.time()\n",
        "pipeline_rf = Pipeline(stages=[rf])\n",
        "pipelineModel_rf = pipeline_rf.fit(trainDF)\n",
        "print('Time to fit baseline model:', time.time() - search_time_start)\n",
        "\n",
        "Path = '/notebooks/LoanStatus/Python/ML/SparkML/Models/Baseline/baselineModel_rf_us'\n",
        "pipelineModel_rf.save(Path)"
      ]
    },
    {
      "cell_type": "code",
      "execution_count": null,
      "metadata": {
        "execution": {
          "iopub.execute_input": "2022-10-10T01:37:45.983559Z",
          "iopub.status.busy": "2022-10-10T01:37:45.983429Z",
          "iopub.status.idle": "2022-10-10T01:37:51.912744Z",
          "shell.execute_reply": "2022-10-10T01:37:51.912210Z",
          "shell.execute_reply.started": "2022-10-10T01:37:45.983542Z"
        },
        "outputId": "a3a037bb-071c-4819-ca35-7994b964dc86",
        "id": "zTgZW6DiozhB"
      },
      "outputs": [
        {
          "name": "stderr",
          "output_type": "stream",
          "text": [
            "                                                                                \r"
          ]
        },
        {
          "name": "stdout",
          "output_type": "stream",
          "text": [
            "Baseline: Random Forest\n",
            "Area under ROC curve: 0.960471\n",
            "Test Error: 0.0395285\n"
          ]
        },
        {
          "name": "stderr",
          "output_type": "stream",
          "text": [
            "                                                                                \r"
          ]
        },
        {
          "name": "stdout",
          "output_type": "stream",
          "text": [
            "Accuracy: 0.9159831943265823\n"
          ]
        }
      ],
      "source": [
        "# Predict on model\n",
        "prediction_rf = pipelineModel_rf.transform(testDF)\n",
        "\n",
        "rf_auroc = evaluator_auroc.evaluate(prediction_rf)\n",
        "print('Baseline: Random Forest')\n",
        "print('Area under ROC curve: %g' % (rf_auroc))\n",
        "print('Test Error: %g' % (1.0 - rf_auroc))\n",
        "print('Accuracy:', evaluator_acc.evaluate(prediction_rf)) "
      ]
    },
    {
      "cell_type": "code",
      "execution_count": null,
      "metadata": {
        "execution": {
          "iopub.execute_input": "2022-10-10T01:37:51.915342Z",
          "iopub.status.busy": "2022-10-10T01:37:51.914852Z",
          "iopub.status.idle": "2022-10-10T01:38:23.964860Z",
          "shell.execute_reply": "2022-10-10T01:38:23.964359Z",
          "shell.execute_reply.started": "2022-10-10T01:37:51.915322Z"
        },
        "outputId": "a94375a5-8fd2-44a7-9b03-fd7227483a7e",
        "id": "wcjgvexhozhF"
      },
      "outputs": [
        {
          "name": "stderr",
          "output_type": "stream",
          "text": [
            "                                                                                \r"
          ]
        },
        {
          "data": {
            "image/png": "[encoded data removed]",
            "text/plain": [
              "<Figure size 432x288 with 1 Axes>"
            ]
          },
          "metadata": {
            "needs_background": "light"
          },
          "output_type": "display_data"
        },
        {
          "name": "stdout",
          "output_type": "stream",
          "text": [
            "\n",
            "Training set areaUnderROC: 0.9597451925875579\n"
          ]
        }
      ],
      "source": [
        "# Extract info from pipeline\n",
        "rf_info = pipelineModel_rf.stages[-1]\n",
        "trainingSummary = rf_info.summary\n",
        "\n",
        "# ROC Curve\n",
        "roc = trainingSummary.roc.toPandas()\n",
        "plt.plot(roc['FPR'],roc['TPR'])\n",
        "plt.ylabel('False Positive Rate')\n",
        "plt.xlabel('True Positive Rate')\n",
        "plt.title('ROC Curve')\n",
        "plt.savefig(save_results_to + 'RF_Baseline_US_ROC.png', dpi=my_dpi*10, \n",
        "            bbox_inches='tight')\n",
        "\n",
        "plt.show()\n",
        "print('\\nTraining set areaUnderROC: ' + str(trainingSummary.areaUnderROC))"
      ]
    },
    {
      "cell_type": "code",
      "execution_count": null,
      "metadata": {
        "execution": {
          "iopub.execute_input": "2022-10-10T01:38:23.967369Z",
          "iopub.status.busy": "2022-10-10T01:38:23.967251Z",
          "iopub.status.idle": "2022-10-10T01:38:25.046691Z",
          "shell.execute_reply": "2022-10-10T01:38:25.046344Z",
          "shell.execute_reply.started": "2022-10-10T01:38:23.967354Z"
        },
        "outputId": "4d09956f-ddf5-4b67-9699-74b86d445316",
        "id": "6P5DD1kZozhI"
      },
      "outputs": [
        {
          "data": {
            "image/png": "[encoded data removed]",
            "text/plain": [
              "<Figure size 432x288 with 1 Axes>"
            ]
          },
          "metadata": {
            "needs_background": "light"
          },
          "output_type": "display_data"
        }
      ],
      "source": [
        "# Precision Recall Curve\n",
        "pr = trainingSummary.pr.toPandas()\n",
        "plt.plot(pr['recall'],pr['precision'])\n",
        "plt.ylabel('Precision')\n",
        "plt.xlabel('Recall')\n",
        "plt.savefig(save_results_to + 'RF_Baseline_US_RecallPrecision.png', \n",
        "            dpi=my_dpi*10, bbox_inches='tight')\n",
        "plt.show()"
      ]
    },
    {
      "cell_type": "markdown",
      "source": [
        "## Gradient Boosted Trees"
      ],
      "metadata": {
        "id": "J9IKeqMzuwNq"
      }
    },
    {
      "cell_type": "code",
      "execution_count": null,
      "metadata": {
        "execution": {
          "iopub.execute_input": "2022-10-10T01:38:25.050866Z",
          "iopub.status.busy": "2022-10-10T01:38:25.050485Z",
          "iopub.status.idle": "2022-10-10T01:40:36.693224Z",
          "shell.execute_reply": "2022-10-10T01:40:36.692780Z",
          "shell.execute_reply.started": "2022-10-10T01:38:25.050849Z"
        },
        "outputId": "7c4839f8-4d37-4614-b38a-402524ee3a0e",
        "id": "HKa-VO7Do9VQ"
      },
      "outputs": [
        {
          "name": "stderr",
          "output_type": "stream",
          "text": [
            "2022/10/10 01:38:25 INFO mlflow.utils.autologging_utils: Created MLflow autologging run with ID '51428177e006441b8bc7be07be8f4d09', which will track hyperparameters, performance metrics, model artifacts, and lineage information for the current pyspark.ml workflow\n",
            "                                                                                \r"
          ]
        },
        {
          "name": "stdout",
          "output_type": "stream",
          "text": [
            "Time to fit baseline model: 124.68918800354004\n"
          ]
        },
        {
          "name": "stderr",
          "output_type": "stream",
          "text": [
            "                                                                                \r"
          ]
        }
      ],
      "source": [
        "# Set up GBT pipeline\n",
        "gbt = GBTClassifier(labelCol='label', \n",
        "                    featuresCol='unscaledFeatures', \n",
        "                    maxDepth=5, \n",
        "                    maxBins=32, \n",
        "                    maxIter=10,\n",
        "                    seed=seed_value)\n",
        "\n",
        "search_time_start = time.time()\n",
        "pipeline_gbt = Pipeline(stages=[gbt])\n",
        "pipelineModel_gbt = pipeline_gbt.fit(trainDF)\n",
        "print('Time to fit baseline model:', time.time() - search_time_start)\n",
        "\n",
        "Path = '/notebooks/LoanStatus/Python/ML/SparkML/Models/Baseline/baselineModel_gbt_us'\n",
        "pipelineModel_gbt.save(Path)"
      ]
    },
    {
      "cell_type": "code",
      "execution_count": null,
      "metadata": {
        "execution": {
          "iopub.execute_input": "2022-10-10T01:40:36.694107Z",
          "iopub.status.busy": "2022-10-10T01:40:36.693976Z",
          "iopub.status.idle": "2022-10-10T01:40:41.158670Z",
          "shell.execute_reply": "2022-10-10T01:40:41.158253Z",
          "shell.execute_reply.started": "2022-10-10T01:40:36.694090Z"
        },
        "outputId": "7ad8a207-ebb7-4527-eec0-499df31ca354",
        "id": "yjbvp0KQo9VV"
      },
      "outputs": [
        {
          "name": "stderr",
          "output_type": "stream",
          "text": [
            "                                                                                \r"
          ]
        },
        {
          "name": "stdout",
          "output_type": "stream",
          "text": [
            "Baseline: Gradient Boosted Trees\n",
            "Area under ROC curve: 0.972706\n",
            "Test Error: 0.0272944\n"
          ]
        },
        {
          "name": "stderr",
          "output_type": "stream",
          "text": [
            "                                                                                \r"
          ]
        },
        {
          "name": "stdout",
          "output_type": "stream",
          "text": [
            "Accuracy: 0.9430554046148546\n"
          ]
        }
      ],
      "source": [
        "# Predict on model\n",
        "prediction_gbt = pipelineModel_gbt.transform(testDF)\n",
        "\n",
        "gbt_auroc = evaluator_auroc.evaluate(prediction_gbt)\n",
        "print('Baseline: Gradient Boosted Trees')\n",
        "print('Area under ROC curve: %g' % (gbt_auroc))\n",
        "print('Test Error: %g' % (1.0 - gbt_auroc))\n",
        "print('Accuracy:', evaluator_acc.evaluate(prediction_gbt)) "
      ]
    },
    {
      "cell_type": "markdown",
      "source": [
        "## Model Metrics"
      ],
      "metadata": {
        "id": "57aoMGnju0Mh"
      }
    },
    {
      "cell_type": "code",
      "execution_count": null,
      "metadata": {
        "execution": {
          "iopub.execute_input": "2022-10-10T01:40:41.159438Z",
          "iopub.status.busy": "2022-10-10T01:40:41.159322Z",
          "iopub.status.idle": "2022-10-10T01:41:24.213591Z",
          "shell.execute_reply": "2022-10-10T01:41:24.212964Z",
          "shell.execute_reply.started": "2022-10-10T01:40:41.159424Z"
        },
        "id": "EKsl2nvmnVyv",
        "outputId": "35c3433d-2027-48fc-be8c-40ef07a2e100"
      },
      "outputs": [
        {
          "name": "stdout",
          "output_type": "stream",
          "text": [
            "Upsampling Baseline Models:\n"
          ]
        },
        {
          "name": "stderr",
          "output_type": "stream",
          "text": [
            "                                                                                \r"
          ]
        },
        {
          "name": "stdout",
          "output_type": "stream",
          "text": [
            "\n",
            "Model: prediction_lr\n",
            "True Positives: 50199\n",
            "True Negatives: 376146\n",
            "False Positives: 1702\n",
            "False Negatives: 4426\n",
            "Total: 432473\n",
            "Accuracy: 0.9858303292922332\n",
            "Recall: 0.918974828375286\n",
            "Precision:  0.9672067975568871\n",
            "F1 score: 0.9424741377691831\n",
            "\n",
            "\n"
          ]
        },
        {
          "name": "stderr",
          "output_type": "stream",
          "text": [
            "                                                                                \r"
          ]
        },
        {
          "name": "stdout",
          "output_type": "stream",
          "text": [
            "\n",
            "Model: prediction_lsvc\n",
            "True Positives: 48472\n",
            "True Negatives: 375351\n",
            "False Positives: 2497\n",
            "False Negatives: 6153\n",
            "Total: 432473\n",
            "Accuracy: 0.9799987513671373\n",
            "Recall: 0.8873592677345538\n",
            "Precision:  0.9510094371088309\n",
            "F1 score: 0.9180824668068263\n",
            "\n",
            "\n"
          ]
        },
        {
          "name": "stderr",
          "output_type": "stream",
          "text": [
            "                                                                                \r"
          ]
        },
        {
          "name": "stdout",
          "output_type": "stream",
          "text": [
            "\n",
            "Model: prediction_dt\n",
            "True Positives: 49091\n",
            "True Negatives: 344849\n",
            "False Positives: 32999\n",
            "False Negatives: 5534\n",
            "Total: 432473\n",
            "Accuracy: 0.910900796119064\n",
            "Recall: 0.8986910755148741\n",
            "Precision:  0.5980143744670484\n",
            "F1 score: 0.7181508978531983\n",
            "\n",
            "\n"
          ]
        },
        {
          "name": "stderr",
          "output_type": "stream",
          "text": [
            "                                                                                \r"
          ]
        },
        {
          "name": "stdout",
          "output_type": "stream",
          "text": [
            "\n",
            "Model: prediction_rf\n",
            "True Positives: 47783\n",
            "True Negatives: 348355\n",
            "False Positives: 29493\n",
            "False Negatives: 6842\n",
            "Total: 432473\n",
            "Accuracy: 0.9159831943265823\n",
            "Recall: 0.874745995423341\n",
            "Precision:  0.6183420466897872\n",
            "F1 score: 0.7245282446683496\n",
            "\n",
            "\n"
          ]
        },
        {
          "name": "stderr",
          "output_type": "stream",
          "text": [
            "                                                                                \r"
          ]
        },
        {
          "name": "stdout",
          "output_type": "stream",
          "text": [
            "\n",
            "Model: prediction_gbt\n",
            "True Positives: 49134\n",
            "True Negatives: 358712\n",
            "False Positives: 19136\n",
            "False Negatives: 5491\n",
            "Total: 432473\n",
            "Accuracy: 0.9430554046148546\n",
            "Recall: 0.8994782608695652\n",
            "Precision:  0.7197011864655046\n",
            "F1 score: 0.7996094226778957\n",
            "\n",
            "\n"
          ]
        }
      ],
      "source": [
        "print('Upsampling Baseline Models:')\n",
        "for model in ['prediction_lr', 'prediction_lsvc', 'prediction_dt',\n",
        "              'prediction_rf', 'prediction_gbt']:\n",
        "    df = globals()[model]\n",
        "    \n",
        "    tp = df[(df.label == 1) & (df.prediction == 1)].count()\n",
        "    tn = df[(df.label == 0) & (df.prediction == 0)].count()\n",
        "    fp = df[(df.label == 0) & (df.prediction == 1)].count()\n",
        "    fn = df[(df.label == 1) & (df.prediction == 0)].count()\n",
        "    a = ((tp + tn)/df.count())\n",
        "    \n",
        "    if(tp + fn == 0.0):\n",
        "        r = 0.0\n",
        "        p = float(tp) / (tp + fp)\n",
        "    elif(tp + fp == 0.0):\n",
        "        r = float(tp) / (tp + fn)\n",
        "        p = 0.0\n",
        "    else:\n",
        "        r = float(tp) / (tp + fn)\n",
        "        p = float(tp) / (tp + fp)\n",
        "    \n",
        "    if(p + r == 0):\n",
        "        f1 = 0\n",
        "    else:\n",
        "        f1 = 2 * ((p * r)/(p + r))\n",
        "    \n",
        "    print('\\nModel:', model)\n",
        "    print('True Positives:', tp)\n",
        "    print('True Negatives:', tn)\n",
        "    print('False Positives:', fp)\n",
        "    print('False Negatives:', fn)\n",
        "    print('Total:', df.count())\n",
        "    print('Accuracy:', a)\n",
        "    print('Recall:', r)\n",
        "    print('Precision: ', p)\n",
        "    print('F1 score:', f1)\n",
        "    print('\\n')"
      ]
    },
    {
      "cell_type": "markdown",
      "source": [
        "# SMOTE - Split Over Upsampling "
      ],
      "metadata": {
        "id": "d7BLrYd9duGt"
      }
    },
    {
      "cell_type": "markdown",
      "source": [
        "## Read Data and View Schema"
      ],
      "metadata": {
        "id": "XgBCB2Wxd4uD"
      }
    },
    {
      "cell_type": "code",
      "execution_count": null,
      "metadata": {
        "colab": {
          "base_uri": "https://localhost:8080/"
        },
        "outputId": "65efe9ce-682f-41d6-a3ff-7fffddf89345",
        "id": "gIPsMjbqRFBl"
      },
      "outputs": [
        {
          "output_type": "stream",
          "name": "stdout",
          "text": [
            "\n",
            "Train Schema\n",
            "root\n",
            " |-- loan_amnt: integer (nullable = true)\n",
            " |-- int_rate: double (nullable = true)\n",
            " |-- installment: double (nullable = true)\n",
            " |-- annual_inc: double (nullable = true)\n",
            " |-- inq_last_6mths: double (nullable = true)\n",
            " |-- pub_rec: double (nullable = true)\n",
            " |-- revol_bal: integer (nullable = true)\n",
            " |-- out_prncp: double (nullable = true)\n",
            " |-- total_pymnt: double (nullable = true)\n",
            " |-- total_rec_int: double (nullable = true)\n",
            " |-- total_rec_late_fee: double (nullable = true)\n",
            " |-- recoveries: double (nullable = true)\n",
            " |-- last_pymnt_amnt: double (nullable = true)\n",
            " |-- collections_12_mths_ex_med: double (nullable = true)\n",
            " |-- acc_open_past_24mths: double (nullable = true)\n",
            " |-- bc_open_to_buy: double (nullable = true)\n",
            " |-- chargeoff_within_12_mths: double (nullable = true)\n",
            " |-- delinq_amnt: double (nullable = true)\n",
            " |-- mths_since_recent_bc: double (nullable = true)\n",
            " |-- num_bc_sats: double (nullable = true)\n",
            " |-- num_bc_tl: double (nullable = true)\n",
            " |-- num_sats: double (nullable = true)\n",
            " |-- num_tl_30dpd: double (nullable = true)\n",
            " |-- tax_liens: double (nullable = true)\n",
            " |-- tot_hi_cred_lim: double (nullable = true)\n",
            " |-- total_bal_ex_mort: double (nullable = true)\n",
            " |-- total_bc_limit: double (nullable = true)\n",
            " |-- term_ 60 months: integer (nullable = true)\n",
            " |-- grade_B: integer (nullable = true)\n",
            " |-- grade_C: integer (nullable = true)\n",
            " |-- grade_D: integer (nullable = true)\n",
            " |-- home_ownership_MORTGAGE: integer (nullable = true)\n",
            " |-- home_ownership_OWN: integer (nullable = true)\n",
            " |-- home_ownership_RENT: integer (nullable = true)\n",
            " |-- verification_status_Source Verified: integer (nullable = true)\n",
            " |-- verification_status_Verified: integer (nullable = true)\n",
            " |-- purpose_credit_card: integer (nullable = true)\n",
            " |-- initial_list_status_w: integer (nullable = true)\n",
            " |-- application_type_Joint App: integer (nullable = true)\n",
            " |-- disbursement_method_DirectPay: integer (nullable = true)\n",
            " |-- num_il_tl: double (nullable = true)\n",
            " |-- num_accts_ever_120_pd: double (nullable = true)\n",
            " |-- mo_sin_old_rev_tl_op: double (nullable = true)\n",
            " |-- percent_bc_gt_75: double (nullable = true)\n",
            " |-- revol_util: double (nullable = true)\n",
            " |-- num_actv_rev_tl: double (nullable = true)\n",
            " |-- tot_coll_amt: double (nullable = true)\n",
            " |-- mort_acc: double (nullable = true)\n",
            " |-- delinq_2yrs: double (nullable = true)\n",
            " |-- num_tl_op_past_12m: double (nullable = true)\n",
            " |-- loan_status: integer (nullable = true)\n",
            "\n",
            "\n",
            "Test Schema\n",
            "root\n",
            " |-- loan_amnt: integer (nullable = true)\n",
            " |-- int_rate: double (nullable = true)\n",
            " |-- installment: double (nullable = true)\n",
            " |-- annual_inc: double (nullable = true)\n",
            " |-- inq_last_6mths: double (nullable = true)\n",
            " |-- pub_rec: double (nullable = true)\n",
            " |-- revol_bal: integer (nullable = true)\n",
            " |-- out_prncp: double (nullable = true)\n",
            " |-- total_pymnt: double (nullable = true)\n",
            " |-- total_rec_int: double (nullable = true)\n",
            " |-- total_rec_late_fee: double (nullable = true)\n",
            " |-- recoveries: double (nullable = true)\n",
            " |-- last_pymnt_amnt: double (nullable = true)\n",
            " |-- collections_12_mths_ex_med: double (nullable = true)\n",
            " |-- acc_open_past_24mths: double (nullable = true)\n",
            " |-- bc_open_to_buy: double (nullable = true)\n",
            " |-- chargeoff_within_12_mths: double (nullable = true)\n",
            " |-- delinq_amnt: double (nullable = true)\n",
            " |-- mths_since_recent_bc: double (nullable = true)\n",
            " |-- num_bc_sats: double (nullable = true)\n",
            " |-- num_bc_tl: double (nullable = true)\n",
            " |-- num_sats: double (nullable = true)\n",
            " |-- num_tl_30dpd: double (nullable = true)\n",
            " |-- tax_liens: double (nullable = true)\n",
            " |-- tot_hi_cred_lim: double (nullable = true)\n",
            " |-- total_bal_ex_mort: double (nullable = true)\n",
            " |-- total_bc_limit: double (nullable = true)\n",
            " |-- term_ 60 months: integer (nullable = true)\n",
            " |-- grade_B: integer (nullable = true)\n",
            " |-- grade_C: integer (nullable = true)\n",
            " |-- grade_D: integer (nullable = true)\n",
            " |-- home_ownership_MORTGAGE: integer (nullable = true)\n",
            " |-- home_ownership_OWN: integer (nullable = true)\n",
            " |-- home_ownership_RENT: integer (nullable = true)\n",
            " |-- verification_status_Source Verified: integer (nullable = true)\n",
            " |-- verification_status_Verified: integer (nullable = true)\n",
            " |-- purpose_credit_card: integer (nullable = true)\n",
            " |-- initial_list_status_w: integer (nullable = true)\n",
            " |-- application_type_Joint App: integer (nullable = true)\n",
            " |-- disbursement_method_DirectPay: integer (nullable = true)\n",
            " |-- num_il_tl: double (nullable = true)\n",
            " |-- num_accts_ever_120_pd: double (nullable = true)\n",
            " |-- mo_sin_old_rev_tl_op: double (nullable = true)\n",
            " |-- percent_bc_gt_75: double (nullable = true)\n",
            " |-- revol_util: double (nullable = true)\n",
            " |-- num_actv_rev_tl: double (nullable = true)\n",
            " |-- tot_coll_amt: double (nullable = true)\n",
            " |-- mort_acc: double (nullable = true)\n",
            " |-- delinq_2yrs: double (nullable = true)\n",
            " |-- num_tl_op_past_12m: double (nullable = true)\n",
            " |-- loan_status: integer (nullable = true)\n",
            "\n"
          ]
        }
      ],
      "source": [
        "trainDF = spark.read.csv('/content/drive/MyDrive/LoanStatus/Data/trainDF_SMOTE.csv',\n",
        "                         header=True, inferSchema=True)\n",
        "trainDF.cache()\n",
        "trainDF = trainDF \\\n",
        "  .withColumn('loan_amnt', trainDF['loan_amnt'].cast(IntegerType())) \\\n",
        "  .withColumn('revol_bal', trainDF['revol_bal'].cast(IntegerType())) \\\n",
        "  .withColumn('term_ 60 months', trainDF['term_ 60 months'].cast(IntegerType())) \\\n",
        "  .withColumn('grade_B', trainDF['grade_B'].cast(IntegerType())) \\\n",
        "  .withColumn('grade_C', trainDF['grade_C'].cast(IntegerType())) \\\n",
        "  .withColumn('grade_D', trainDF['grade_D'].cast(IntegerType())) \\\n",
        "  .withColumn('home_ownership_MORTGAGE', trainDF['home_ownership_MORTGAGE'].cast(IntegerType())) \\\n",
        "  .withColumn('home_ownership_OWN', trainDF['home_ownership_OWN'].cast(IntegerType())) \\\n",
        "  .withColumn('home_ownership_RENT', trainDF['home_ownership_RENT'].cast(IntegerType())) \\\n",
        "  .withColumn('verification_status_Source Verified', trainDF['verification_status_Source Verified'].cast(IntegerType())) \\\n",
        "  .withColumn('verification_status_Verified', trainDF['verification_status_Verified'].cast(IntegerType())) \\\n",
        "  .withColumn('purpose_credit_card', trainDF['purpose_credit_card'].cast(IntegerType())) \\\n",
        "  .withColumn('initial_list_status_w', trainDF['initial_list_status_w'].cast(IntegerType())) \\\n",
        "  .withColumn('application_type_Joint App', trainDF['application_type_Joint App'].cast(IntegerType())) \\\n",
        "  .withColumn('disbursement_method_DirectPay', trainDF['disbursement_method_DirectPay'].cast(IntegerType())) \n",
        "print('\\nTrain Schema')\n",
        "trainDF.printSchema()\n",
        "\n",
        "testDF = spark.read.csv('/content/drive/MyDrive/LoanStatus/Data/testDF_SMOTE.csv',\n",
        "                        header=True, inferSchema=True)\n",
        "testDF.cache()\n",
        "print('\\nTest Schema')\n",
        "testDF.printSchema()"
      ]
    },
    {
      "cell_type": "markdown",
      "source": [
        "## Set up Vector Assembler"
      ],
      "metadata": {
        "id": "IbInT5E5SIuk"
      }
    },
    {
      "cell_type": "code",
      "execution_count": null,
      "metadata": {
        "execution": {
          "iopub.execute_input": "2022-10-10T01:41:54.749276Z",
          "iopub.status.busy": "2022-10-10T01:41:54.749148Z",
          "iopub.status.idle": "2022-10-10T01:41:54.828092Z",
          "shell.execute_reply": "2022-10-10T01:41:54.827535Z",
          "shell.execute_reply.started": "2022-10-10T01:41:54.749260Z"
        },
        "id": "4JEDFx5Nt81t"
      },
      "outputs": [],
      "source": [
        "# Define features and label for train data\n",
        "features = trainDF.columns[0: len(trainDF.columns) - 1]\n",
        "trainDF = trainDF.select(col('loan_status').alias('label'), *features)\n",
        "\n",
        "# Transform train data\n",
        "trainDF = vecAssembler.transform(trainDF)  "
      ]
    },
    {
      "cell_type": "code",
      "execution_count": null,
      "metadata": {
        "execution": {
          "iopub.execute_input": "2022-10-10T01:41:54.828960Z",
          "iopub.status.busy": "2022-10-10T01:41:54.828840Z",
          "iopub.status.idle": "2022-10-10T01:41:54.888315Z",
          "shell.execute_reply": "2022-10-10T01:41:54.887811Z",
          "shell.execute_reply.started": "2022-10-10T01:41:54.828944Z"
        },
        "id": "puVR0VCFt81w"
      },
      "outputs": [],
      "source": [
        "# Define features and label for test data \n",
        "features = testDF.columns[0: len(testDF.columns) - 1]\n",
        "testDF = testDF.select(col('loan_status').alias('label'), *features)\n",
        "\n",
        "# Transform test data\n",
        "testDF = vecAssembler.transform(testDF)  "
      ]
    },
    {
      "cell_type": "markdown",
      "source": [
        "## Logistic Regression"
      ],
      "metadata": {
        "id": "3D7k7759pwKP"
      }
    },
    {
      "cell_type": "code",
      "execution_count": null,
      "metadata": {
        "execution": {
          "iopub.execute_input": "2022-10-10T01:41:54.892732Z",
          "iopub.status.busy": "2022-10-10T01:41:54.892280Z",
          "iopub.status.idle": "2022-10-10T01:44:04.743515Z",
          "shell.execute_reply": "2022-10-10T01:44:04.743022Z",
          "shell.execute_reply.started": "2022-10-10T01:41:54.892711Z"
        },
        "id": "tBEPvBdnr9Qb",
        "outputId": "fa7e1980-6083-4007-80cf-098c303a45b9"
      },
      "outputs": [
        {
          "name": "stderr",
          "output_type": "stream",
          "text": [
            "2022/10/10 01:41:55 INFO mlflow.utils.autologging_utils: Created MLflow autologging run with ID 'ee55f19131ad4adcae453703c5f3daec', which will track hyperparameters, performance metrics, model artifacts, and lineage information for the current pyspark.ml workflow\n",
            "                                                                                \r"
          ]
        },
        {
          "name": "stdout",
          "output_type": "stream",
          "text": [
            "Time to fit baseline model: 121.01508712768555\n"
          ]
        },
        {
          "name": "stderr",
          "output_type": "stream",
          "text": [
            "                                                                                \r"
          ]
        }
      ],
      "source": [
        "# Set up logistic regression pipeline\n",
        "lr = LogisticRegression(family='binomial', \n",
        "                        labelCol='label', \n",
        "                        featuresCol='scaledFeatures',  \n",
        "                        regParam=0.0, \n",
        "                        elasticNetParam=0.0, \n",
        "                        maxIter=100)\n",
        "\n",
        "search_time_start = time.time()\n",
        "pipeline_lr = Pipeline(stages=[mmScaler, lr])\n",
        "pipelineModel_lr = pipeline_lr.fit(trainDF)\n",
        "print('Time to fit baseline model:', time.time() - search_time_start)\n",
        "\n",
        "Path = '/notebooks/LoanStatus/Python/ML/SparkML/Models/Baseline/baselineModel_lr_smote'\n",
        "pipelineModel_lr.save(Path)"
      ]
    },
    {
      "cell_type": "code",
      "source": [
        "# Predict on model\n",
        "prediction_lr = pipelineModel_lr.transform(testDF)\n",
        "\n",
        "lr_auroc = evaluator_auroc.evaluate(prediction_lr)\n",
        "print('Baseline: Logistic Regression')\n",
        "print('Area under ROC curve: %g' % (lr_auroc))\n",
        "print('Test Error: %g' % (1.0 - lr_auroc))\n",
        "print('Accuracy:', evaluator_acc.evaluate(prediction_lr)) "
      ],
      "metadata": {
        "colab": {
          "base_uri": "https://localhost:8080/"
        },
        "outputId": "4c584842-ffb8-4ab7-fd14-33408bdc4f2b",
        "id": "Nrxq2AXnSKgM"
      },
      "execution_count": null,
      "outputs": [
        {
          "output_type": "stream",
          "name": "stdout",
          "text": [
            "Baseline: Logistic Regression\n",
            "Area under ROC curve: 0.979804\n",
            "Test Error: 0.0201956\n",
            "Accuracy: 0.9857540239506282\n"
          ]
        }
      ]
    },
    {
      "cell_type": "code",
      "execution_count": null,
      "metadata": {
        "execution": {
          "iopub.execute_input": "2022-10-10T01:44:16.078948Z",
          "iopub.status.busy": "2022-10-10T01:44:16.078357Z",
          "iopub.status.idle": "2022-10-10T01:44:17.111435Z",
          "shell.execute_reply": "2022-10-10T01:44:17.110963Z",
          "shell.execute_reply.started": "2022-10-10T01:44:16.078927Z"
        },
        "id": "5QcTOKaxr9Qj",
        "outputId": "3be5ae6f-5853-4626-a34e-d0c6983a6c3a"
      },
      "outputs": [
        {
          "data": {
            "image/png": "[encoded data removed]",
            "text/plain": [
              "<Figure size 432x288 with 1 Axes>"
            ]
          },
          "metadata": {
            "needs_background": "light"
          },
          "output_type": "display_data"
        }
      ],
      "source": [
        "# Extract info from pipeline\n",
        "lr_info = pipelineModel_lr.stages[-1]\n",
        "trainingSummary = lr_info.summary\n",
        "\n",
        "# Beta coefficients\n",
        "beta = np.sort(lr_info.coefficients)\n",
        "plt.plot(beta)\n",
        "plt.ylabel('Beta Coefficients')\n",
        "plt.savefig(save_results_to + 'Logistic_Baseline_SMOTE_betaCoef.png', \n",
        "            dpi=my_dpi*10, bbox_inches='tight')\n",
        "plt.show()"
      ]
    },
    {
      "cell_type": "code",
      "execution_count": null,
      "metadata": {
        "execution": {
          "iopub.execute_input": "2022-10-10T01:44:17.112378Z",
          "iopub.status.busy": "2022-10-10T01:44:17.112224Z",
          "iopub.status.idle": "2022-10-10T01:45:12.444413Z",
          "shell.execute_reply": "2022-10-10T01:45:12.443863Z",
          "shell.execute_reply.started": "2022-10-10T01:44:17.112359Z"
        },
        "id": "h3E8GhcXr9Ql",
        "outputId": "12a5f731-666d-47ff-fe22-f3e090f2c4a4"
      },
      "outputs": [
        {
          "name": "stderr",
          "output_type": "stream",
          "text": [
            "                                                                                \r"
          ]
        },
        {
          "data": {
            "image/png": "[encoded data removed]",
            "text/plain": [
              "<Figure size 432x288 with 1 Axes>"
            ]
          },
          "metadata": {
            "needs_background": "light"
          },
          "output_type": "display_data"
        },
        {
          "name": "stdout",
          "output_type": "stream",
          "text": [
            "\n",
            "Training set areaUnderROC: 0.9960903540663115\n"
          ]
        }
      ],
      "source": [
        "# ROC Curve\n",
        "roc = trainingSummary.roc.toPandas()\n",
        "plt.plot(roc['FPR'],roc['TPR'])\n",
        "plt.ylabel('False Positive Rate')\n",
        "plt.xlabel('True Positive Rate')\n",
        "plt.title('ROC Curve')\n",
        "plt.savefig(save_results_to + 'Logistic_Baseline_SMOTE_ROC.png', \n",
        "            dpi=my_dpi*10, bbox_inches='tight')\n",
        "plt.show()\n",
        "print('\\nTraining set areaUnderROC:' + str(trainingSummary.areaUnderROC))"
      ]
    },
    {
      "cell_type": "code",
      "execution_count": null,
      "metadata": {
        "execution": {
          "iopub.execute_input": "2022-10-10T01:45:12.445279Z",
          "iopub.status.busy": "2022-10-10T01:45:12.445145Z",
          "iopub.status.idle": "2022-10-10T01:45:13.535786Z",
          "shell.execute_reply": "2022-10-10T01:45:13.535368Z",
          "shell.execute_reply.started": "2022-10-10T01:45:12.445264Z"
        },
        "id": "tY84ihzqr9Qm",
        "outputId": "96f0bad6-cc2d-4024-af56-cea1c023b0a5"
      },
      "outputs": [
        {
          "data": {
            "image/png": "[encoded data removed]",
            "text/plain": [
              "<Figure size 432x288 with 1 Axes>"
            ]
          },
          "metadata": {
            "needs_background": "light"
          },
          "output_type": "display_data"
        }
      ],
      "source": [
        "# Precision Recall Curve\n",
        "pr = trainingSummary.pr.toPandas()\n",
        "plt.plot(pr['recall'],pr['precision'])\n",
        "plt.ylabel('Precision')\n",
        "plt.xlabel('Recall')\n",
        "plt.savefig(save_results_to + 'Logistic_Baseline_SMOTE_RecallPrecision.png', \n",
        "            dpi=my_dpi*10, bbox_inches='tight')\n",
        "plt.show()"
      ]
    },
    {
      "cell_type": "markdown",
      "source": [
        "## LinearSVC"
      ],
      "metadata": {
        "id": "1MvF4mRw0oT8"
      }
    },
    {
      "cell_type": "code",
      "execution_count": null,
      "metadata": {
        "execution": {
          "iopub.execute_input": "2022-10-10T01:45:13.543068Z",
          "iopub.status.busy": "2022-10-10T01:45:13.542956Z",
          "iopub.status.idle": "2022-10-10T01:47:35.851498Z",
          "shell.execute_reply": "2022-10-10T01:47:35.850935Z",
          "shell.execute_reply.started": "2022-10-10T01:45:13.543055Z"
        },
        "outputId": "8d05f681-2e4f-480e-8c35-597d7693a173",
        "id": "FVvkoVRkpllL"
      },
      "outputs": [
        {
          "name": "stderr",
          "output_type": "stream",
          "text": [
            "2022/10/10 01:45:14 INFO mlflow.utils.autologging_utils: Created MLflow autologging run with ID '0cbc28d50afe499087fe00a0d33b4d94', which will track hyperparameters, performance metrics, model artifacts, and lineage information for the current pyspark.ml workflow\n",
            "                                                                                \r"
          ]
        },
        {
          "name": "stdout",
          "output_type": "stream",
          "text": [
            "Time to fit baseline model: 134.26036667823792\n"
          ]
        },
        {
          "name": "stderr",
          "output_type": "stream",
          "text": [
            "                                                                                \r"
          ]
        }
      ],
      "source": [
        "# Set up LinearSVC pipeline\n",
        "lsvc = LinearSVC(labelCol='label', \n",
        "                 featuresCol='scaledFeatures', \n",
        "                 regParam=0.0, \n",
        "                 tol=1e-5, \n",
        "                 maxIter=100)\n",
        "\n",
        "search_time_start = time.time()\n",
        "pipeline_lsvc = Pipeline(stages=[stdScaler, lsvc])\n",
        "pipelineModel_lsvc = pipeline_lsvc.fit(trainDF)\n",
        "print('Time to fit baseline model:', time.time() - search_time_start)\n",
        "\n",
        "Path = '/notebooks/LoanStatus/Python/ML/SparkML/Models/Baseline/baselineModel_lsvc_smote'\n",
        "pipelineModel_lsvc.save(Path)"
      ]
    },
    {
      "cell_type": "code",
      "execution_count": null,
      "metadata": {
        "execution": {
          "iopub.execute_input": "2022-10-10T01:47:35.852592Z",
          "iopub.status.busy": "2022-10-10T01:47:35.852446Z",
          "iopub.status.idle": "2022-10-10T01:47:45.719064Z",
          "shell.execute_reply": "2022-10-10T01:47:45.718662Z",
          "shell.execute_reply.started": "2022-10-10T01:47:35.852569Z"
        },
        "outputId": "f0b7cfc2-06d4-4a8b-8e60-9f8b6d13b3ab",
        "id": "HVpvD_U3pllS"
      },
      "outputs": [
        {
          "name": "stderr",
          "output_type": "stream",
          "text": [
            "                                                                                \r"
          ]
        },
        {
          "name": "stdout",
          "output_type": "stream",
          "text": [
            "Baseline: LinearSVC\n",
            "Area under ROC curve: 0.977104\n",
            "Test Error: 0.0228963\n"
          ]
        },
        {
          "name": "stderr",
          "output_type": "stream",
          "text": [
            "                                                                                \r"
          ]
        },
        {
          "name": "stdout",
          "output_type": "stream",
          "text": [
            "Accuracy: 0.9829214771789222\n"
          ]
        }
      ],
      "source": [
        "# Predict on model\n",
        "prediction_lsvc = pipelineModel_lsvc.transform(testDF)\n",
        "\n",
        "lsvc_auroc = evaluator_auroc.evaluate(prediction_lsvc)\n",
        "print('Baseline: LinearSVC')\n",
        "print('Area under ROC curve: %g' % (lsvc_auroc))\n",
        "print('Test Error: %g' % (1.0 - lsvc_auroc))\n",
        "print('Accuracy:', evaluator_acc.evaluate(prediction_lsvc)) "
      ]
    },
    {
      "cell_type": "code",
      "execution_count": null,
      "metadata": {
        "execution": {
          "iopub.execute_input": "2022-10-10T01:47:45.719917Z",
          "iopub.status.busy": "2022-10-10T01:47:45.719795Z",
          "iopub.status.idle": "2022-10-10T01:47:46.671335Z",
          "shell.execute_reply": "2022-10-10T01:47:46.670885Z",
          "shell.execute_reply.started": "2022-10-10T01:47:45.719902Z"
        },
        "outputId": "79709f9a-069c-4247-fefd-d476a864f1d6",
        "id": "LFO99DrKpllW"
      },
      "outputs": [
        {
          "data": {
            "image/png": "[encoded data removed]",
            "text/plain": [
              "<Figure size 432x288 with 1 Axes>"
            ]
          },
          "metadata": {
            "needs_background": "light"
          },
          "output_type": "display_data"
        }
      ],
      "source": [
        "# Extract info from pipeline\n",
        "lsvc_info = pipelineModel_lsvc.stages[-1]\n",
        "trainingSummary = lsvc_info.summary\n",
        "\n",
        "# Beta coefficients\n",
        "beta = np.sort(lsvc_info.coefficients)\n",
        "plt.plot(beta)\n",
        "plt.ylabel('Beta Coefficients')\n",
        "plt.savefig(save_results_to + 'LinearSVC_Baseline_SMOTE_betaCoef.png',\n",
        "            dpi=my_dpi*10, bbox_inches='tight')\n",
        "plt.show()"
      ]
    },
    {
      "cell_type": "markdown",
      "source": [
        "## Decision Tree "
      ],
      "metadata": {
        "id": "AFVU7WQq0xhw"
      }
    },
    {
      "cell_type": "code",
      "execution_count": null,
      "metadata": {
        "execution": {
          "iopub.execute_input": "2022-10-10T01:47:46.675061Z",
          "iopub.status.busy": "2022-10-10T01:47:46.674952Z",
          "iopub.status.idle": "2022-10-10T01:48:54.374750Z",
          "shell.execute_reply": "2022-10-10T01:48:54.374143Z",
          "shell.execute_reply.started": "2022-10-10T01:47:46.675049Z"
        },
        "outputId": "e5fea863-7c3f-46e0-a081-472c91f8821e",
        "id": "yDAryR8vqANQ"
      },
      "outputs": [
        {
          "name": "stderr",
          "output_type": "stream",
          "text": [
            "2022/10/10 01:47:47 INFO mlflow.utils.autologging_utils: Created MLflow autologging run with ID '1a66c94a0f2e4043af3203374cf7b774', which will track hyperparameters, performance metrics, model artifacts, and lineage information for the current pyspark.ml workflow\n",
            "                                                                                \r"
          ]
        },
        {
          "name": "stdout",
          "output_type": "stream",
          "text": [
            "Time to fit baseline model: 61.8033344745636\n"
          ]
        },
        {
          "name": "stderr",
          "output_type": "stream",
          "text": [
            "                                                                                \r"
          ]
        }
      ],
      "source": [
        "# Set up DecisionTree pipeline\n",
        "dt = DecisionTreeClassifier(labelCol='label', \n",
        "                            featuresCol='unscaledFeatures',\n",
        "                            maxDepth=5,\n",
        "                            maxBins=16, \n",
        "                            impurity='gini',\n",
        "                            seed=seed_value)\n",
        "\n",
        "search_time_start = time.time()\n",
        "pipeline_dt = Pipeline(stages=[dt])\n",
        "pipelineModel_dt = pipeline_dt.fit(trainDF)\n",
        "print('Time to fit baseline model:', time.time() - search_time_start)\n",
        "\n",
        "Path = '/notebooks/LoanStatus/Python/ML/SparkML/Models/Baseline/baselineModel_dt_smote'\n",
        "pipelineModel_dt.save(Path)"
      ]
    },
    {
      "cell_type": "code",
      "execution_count": null,
      "metadata": {
        "execution": {
          "iopub.execute_input": "2022-10-10T01:48:54.375801Z",
          "iopub.status.busy": "2022-10-10T01:48:54.375665Z",
          "iopub.status.idle": "2022-10-10T01:48:58.218770Z",
          "shell.execute_reply": "2022-10-10T01:48:58.218353Z",
          "shell.execute_reply.started": "2022-10-10T01:48:54.375782Z"
        },
        "outputId": "76a3d1d4-4e9a-40c1-d088-3b11372ccd2a",
        "id": "OvMpcQDqqANX"
      },
      "outputs": [
        {
          "name": "stderr",
          "output_type": "stream",
          "text": [
            "                                                                                \r"
          ]
        },
        {
          "name": "stdout",
          "output_type": "stream",
          "text": [
            "Baseline: Decision Tree\n",
            "Area under ROC curve: 0.92133\n",
            "Test Error: 0.0786704\n"
          ]
        },
        {
          "name": "stderr",
          "output_type": "stream",
          "text": [
            "                                                                                \r"
          ]
        },
        {
          "name": "stdout",
          "output_type": "stream",
          "text": [
            "Accuracy: 0.9362596046458391\n"
          ]
        }
      ],
      "source": [
        "# Predict on model\n",
        "prediction_dt = pipelineModel_dt.transform(testDF)\n",
        "\n",
        "dt_auroc = evaluator_auroc.evaluate(prediction_dt)\n",
        "print('Baseline: Decision Tree')\n",
        "print('Area under ROC curve: %g' % (dt_auroc))\n",
        "print('Test Error: %g' % (1.0 - dt_auroc))\n",
        "print('Accuracy:', evaluator_acc.evaluate(prediction_dt)) "
      ]
    },
    {
      "cell_type": "markdown",
      "source": [
        "## Random Forest"
      ],
      "metadata": {
        "id": "bFAwifRQ01YJ"
      }
    },
    {
      "cell_type": "code",
      "execution_count": null,
      "metadata": {
        "execution": {
          "iopub.execute_input": "2022-10-10T01:48:58.234081Z",
          "iopub.status.busy": "2022-10-10T01:48:58.233967Z",
          "iopub.status.idle": "2022-10-10T01:50:28.113201Z",
          "shell.execute_reply": "2022-10-10T01:50:28.112612Z",
          "shell.execute_reply.started": "2022-10-10T01:48:58.234068Z"
        },
        "outputId": "7ac62826-ee69-4758-973a-30c37f67797c",
        "id": "MBsN9kv-q20Z"
      },
      "outputs": [
        {
          "name": "stderr",
          "output_type": "stream",
          "text": [
            "2022/10/10 01:48:58 INFO mlflow.utils.autologging_utils: Created MLflow autologging run with ID '78f94c87b037438195ad4e4064490fca', which will track hyperparameters, performance metrics, model artifacts, and lineage information for the current pyspark.ml workflow\n",
            "                                                                                \r"
          ]
        },
        {
          "name": "stdout",
          "output_type": "stream",
          "text": [
            "Time to fit baseline model: 82.65176653862\n"
          ]
        },
        {
          "name": "stderr",
          "output_type": "stream",
          "text": [
            "                                                                                \r"
          ]
        }
      ],
      "source": [
        "# Set up RandomForest pipeline\n",
        "rf = RandomForestClassifier(labelCol='label', \n",
        "                            featuresCol='unscaledFeatures', \n",
        "                            maxDepth=5,\n",
        "                            maxBins=32,\n",
        "                            numTrees=10,\n",
        "                            impurity='gini',\n",
        "                            seed=seed_value)\n",
        "\n",
        "search_time_start = time.time()\n",
        "pipeline_rf = Pipeline(stages=[rf])\n",
        "pipelineModel_rf = pipeline_rf.fit(trainDF)\n",
        "print('Time to fit baseline model:', time.time() - search_time_start)\n",
        "\n",
        "Path = '/notebooks/LoanStatus/Python/ML/SparkML/Models/Baseline/baselineModel_rf_smote'\n",
        "pipelineModel_rf.save(Path)"
      ]
    },
    {
      "cell_type": "code",
      "execution_count": null,
      "metadata": {
        "execution": {
          "iopub.execute_input": "2022-10-10T01:50:28.114378Z",
          "iopub.status.busy": "2022-10-10T01:50:28.114130Z",
          "iopub.status.idle": "2022-10-10T01:50:33.328576Z",
          "shell.execute_reply": "2022-10-10T01:50:33.327994Z",
          "shell.execute_reply.started": "2022-10-10T01:50:28.114358Z"
        },
        "outputId": "ec5cce13-8a78-4168-f7ef-5e3fc9672bef",
        "id": "LeWuplMuq20e"
      },
      "outputs": [
        {
          "name": "stderr",
          "output_type": "stream",
          "text": [
            "                                                                                \r"
          ]
        },
        {
          "name": "stdout",
          "output_type": "stream",
          "text": [
            "Baseline: Random Forest\n",
            "Area under ROC curve: 0.941545\n",
            "Test Error: 0.0584552\n"
          ]
        },
        {
          "name": "stderr",
          "output_type": "stream",
          "text": [
            "                                                                                \r"
          ]
        },
        {
          "name": "stdout",
          "output_type": "stream",
          "text": [
            "Accuracy: 0.9482372309947673\n"
          ]
        }
      ],
      "source": [
        "# Predict on model\n",
        "prediction_rf = pipelineModel_rf.transform(testDF)\n",
        "\n",
        "rf_auroc = evaluator_auroc.evaluate(prediction_rf)\n",
        "print('Baseline: Random Forest')\n",
        "print('Area under ROC curve: %g' % (rf_auroc))\n",
        "print('Test Error: %g' % (1.0 - rf_auroc))\n",
        "print('Accuracy:', evaluator_acc.evaluate(prediction_rf)) "
      ]
    },
    {
      "cell_type": "code",
      "execution_count": null,
      "metadata": {
        "execution": {
          "iopub.execute_input": "2022-10-10T01:50:33.329489Z",
          "iopub.status.busy": "2022-10-10T01:50:33.329336Z",
          "iopub.status.idle": "2022-10-10T01:51:05.606106Z",
          "shell.execute_reply": "2022-10-10T01:51:05.605734Z",
          "shell.execute_reply.started": "2022-10-10T01:50:33.329473Z"
        },
        "outputId": "f4292a14-b169-45e7-f3f8-11061f45b311",
        "id": "hzaBreRhq20h"
      },
      "outputs": [
        {
          "name": "stderr",
          "output_type": "stream",
          "text": [
            "                                                                                \r"
          ]
        },
        {
          "data": {
            "image/png": "[encoded data removed]",
            "text/plain": [
              "<Figure size 432x288 with 1 Axes>"
            ]
          },
          "metadata": {
            "needs_background": "light"
          },
          "output_type": "display_data"
        },
        {
          "name": "stdout",
          "output_type": "stream",
          "text": [
            "\n",
            "Training set areaUnderROC: 0.9833452389570888\n"
          ]
        }
      ],
      "source": [
        "# Extract info from pipeline\n",
        "rf_info = pipelineModel_rf.stages[-1]\n",
        "trainingSummary = rf_info.summary\n",
        "\n",
        "# ROC Curve\n",
        "roc = trainingSummary.roc.toPandas()\n",
        "plt.plot(roc['FPR'],roc['TPR'])\n",
        "plt.ylabel('False Positive Rate')\n",
        "plt.xlabel('True Positive Rate')\n",
        "plt.title('ROC Curve')\n",
        "plt.savefig(save_results_to + 'RF_Baseline_SMOTE_ROC.png', dpi=my_dpi*10, \n",
        "            bbox_inches='tight')\n",
        "\n",
        "plt.show()\n",
        "print('\\nTraining set areaUnderROC: ' + str(trainingSummary.areaUnderROC))"
      ]
    },
    {
      "cell_type": "code",
      "execution_count": null,
      "metadata": {
        "execution": {
          "iopub.execute_input": "2022-10-10T01:51:05.607053Z",
          "iopub.status.busy": "2022-10-10T01:51:05.606843Z",
          "iopub.status.idle": "2022-10-10T01:51:06.635544Z",
          "shell.execute_reply": "2022-10-10T01:51:06.635066Z",
          "shell.execute_reply.started": "2022-10-10T01:51:05.607036Z"
        },
        "outputId": "bcc42242-601d-4518-8a32-763d96568315",
        "id": "4TjJprZwq20k"
      },
      "outputs": [
        {
          "data": {
            "image/png": "[encoded data removed]",
            "text/plain": [
              "<Figure size 432x288 with 1 Axes>"
            ]
          },
          "metadata": {
            "needs_background": "light"
          },
          "output_type": "display_data"
        }
      ],
      "source": [
        "# Precision Recall Curve\n",
        "pr = trainingSummary.pr.toPandas()\n",
        "plt.plot(pr['recall'],pr['precision'])\n",
        "plt.ylabel('Precision')\n",
        "plt.xlabel('Recall')\n",
        "plt.savefig(save_results_to + 'RF_Baseline_SMOTE_RecallPrecision.png', \n",
        "            dpi=my_dpi*10, bbox_inches='tight')\n",
        "plt.show()"
      ]
    },
    {
      "cell_type": "markdown",
      "source": [
        "## Gradient Boosted Trees"
      ],
      "metadata": {
        "id": "hRGC-8fc065A"
      }
    },
    {
      "cell_type": "code",
      "execution_count": null,
      "metadata": {
        "execution": {
          "iopub.execute_input": "2022-10-10T01:51:06.639518Z",
          "iopub.status.busy": "2022-10-10T01:51:06.639413Z",
          "iopub.status.idle": "2022-10-10T01:53:19.786341Z",
          "shell.execute_reply": "2022-10-10T01:53:19.785734Z",
          "shell.execute_reply.started": "2022-10-10T01:51:06.639505Z"
        },
        "outputId": "5fa2b674-4e2c-4921-ee0d-ed137fb3167b",
        "id": "kuUBjJtQrEax"
      },
      "outputs": [
        {
          "name": "stderr",
          "output_type": "stream",
          "text": [
            "2022/10/10 01:51:06 INFO mlflow.utils.autologging_utils: Created MLflow autologging run with ID '3cd40588f9e145b394b199b2611df978', which will track hyperparameters, performance metrics, model artifacts, and lineage information for the current pyspark.ml workflow\n",
            "                                                                                \r"
          ]
        },
        {
          "name": "stdout",
          "output_type": "stream",
          "text": [
            "Time to fit baseline model: 126.09147500991821\n"
          ]
        },
        {
          "name": "stderr",
          "output_type": "stream",
          "text": [
            "                                                                                \r"
          ]
        }
      ],
      "source": [
        "# Set up GBT pipeline\n",
        "gbt = GBTClassifier(labelCol='label', \n",
        "                    featuresCol='unscaledFeatures', \n",
        "                    maxDepth=5, \n",
        "                    maxBins=32, \n",
        "                    maxIter=10,\n",
        "                    seed=seed_value)\n",
        "\n",
        "search_time_start = time.time()\n",
        "pipeline_gbt = Pipeline(stages=[gbt])\n",
        "pipelineModel_gbt = pipeline_gbt.fit(trainDF)\n",
        "print('Time to fit baseline model:', time.time() - search_time_start)\n",
        "\n",
        "Path = '/notebooks/LoanStatus/Python/ML/SparkML/Models/Baseline/baselineModel_gbt_smote'\n",
        "pipelineModel_gbt.save(Path)"
      ]
    },
    {
      "cell_type": "code",
      "execution_count": null,
      "metadata": {
        "execution": {
          "iopub.execute_input": "2022-10-10T01:53:19.787638Z",
          "iopub.status.busy": "2022-10-10T01:53:19.787281Z",
          "iopub.status.idle": "2022-10-10T01:53:24.987353Z",
          "shell.execute_reply": "2022-10-10T01:53:24.986861Z",
          "shell.execute_reply.started": "2022-10-10T01:53:19.787619Z"
        },
        "outputId": "1e6616f7-aa97-431d-857f-edaad64e8d50",
        "id": "Uxs9ClvxrEa4"
      },
      "outputs": [
        {
          "name": "stderr",
          "output_type": "stream",
          "text": [
            "                                                                                \r"
          ]
        },
        {
          "name": "stdout",
          "output_type": "stream",
          "text": [
            "Baseline: Gradient Boosted Trees\n",
            "Area under ROC curve: 0.970601\n",
            "Test Error: 0.0293991\n"
          ]
        },
        {
          "name": "stderr",
          "output_type": "stream",
          "text": [
            "                                                                                \r"
          ]
        },
        {
          "name": "stdout",
          "output_type": "stream",
          "text": [
            "Accuracy: 0.9605848226363264\n"
          ]
        }
      ],
      "source": [
        "# Predict on model\n",
        "prediction_gbt = pipelineModel_gbt.transform(testDF)\n",
        "\n",
        "gbt_auroc = evaluator_auroc.evaluate(prediction_gbt)\n",
        "print('Baseline: Gradient Boosted Trees')\n",
        "print('Area under ROC curve: %g' % (gbt_auroc))\n",
        "print('Test Error: %g' % (1.0 - gbt_auroc))\n",
        "print('Accuracy:', evaluator_acc.evaluate(prediction_gbt)) "
      ]
    },
    {
      "cell_type": "markdown",
      "source": [
        "## Model Metrics"
      ],
      "metadata": {
        "id": "rOxhV3yj1Rs7"
      }
    },
    {
      "cell_type": "code",
      "execution_count": null,
      "metadata": {
        "execution": {
          "iopub.execute_input": "2022-10-10T01:53:24.988194Z",
          "iopub.status.busy": "2022-10-10T01:53:24.988071Z",
          "iopub.status.idle": "2022-10-10T01:54:01.970151Z",
          "shell.execute_reply": "2022-10-10T01:54:01.969724Z",
          "shell.execute_reply.started": "2022-10-10T01:53:24.988179Z"
        },
        "id": "Kxd3D0SXnVzZ",
        "outputId": "9bd671b1-31a8-4422-d026-1d6dfa2074fe"
      },
      "outputs": [
        {
          "name": "stdout",
          "output_type": "stream",
          "text": [
            "SMOTE Baseline Models:\n"
          ]
        },
        {
          "name": "stderr",
          "output_type": "stream",
          "text": [
            "                                                                                \r"
          ]
        },
        {
          "name": "stdout",
          "output_type": "stream",
          "text": [
            "\n",
            "Model: prediction_lr\n",
            "True Positives: 49671\n",
            "True Negatives: 376641\n",
            "False Positives: 1207\n",
            "False Negatives: 4954\n",
            "Total: 432473\n",
            "Accuracy: 0.9857540239506282\n",
            "Recall: 0.9093089244851259\n",
            "Precision:  0.9762765831990251\n",
            "F1 score: 0.9416035562969773\n",
            "\n",
            "\n"
          ]
        },
        {
          "name": "stderr",
          "output_type": "stream",
          "text": [
            "                                                                                \r"
          ]
        },
        {
          "name": "stdout",
          "output_type": "stream",
          "text": [
            "\n",
            "Model: prediction_lsvc\n",
            "True Positives: 48070\n",
            "True Negatives: 377017\n",
            "False Positives: 831\n",
            "False Negatives: 6555\n",
            "Total: 432473\n",
            "Accuracy: 0.9829214771789222\n",
            "Recall: 0.88\n",
            "Precision:  0.9830064824850208\n",
            "F1 score: 0.9286556034232947\n",
            "\n",
            "\n"
          ]
        },
        {
          "name": "stderr",
          "output_type": "stream",
          "text": [
            "                                                                                \r"
          ]
        },
        {
          "name": "stdout",
          "output_type": "stream",
          "text": [
            "\n",
            "Model: prediction_dt\n",
            "True Positives: 43557\n",
            "True Negatives: 361350\n",
            "False Positives: 16498\n",
            "False Negatives: 11068\n",
            "Total: 432473\n",
            "Accuracy: 0.9362596046458391\n",
            "Recall: 0.7973821510297483\n",
            "Precision:  0.7252851552743319\n",
            "F1 score: 0.7596267875828393\n",
            "\n",
            "\n"
          ]
        },
        {
          "name": "stderr",
          "output_type": "stream",
          "text": [
            "                                                                                \r"
          ]
        },
        {
          "name": "stdout",
          "output_type": "stream",
          "text": [
            "\n",
            "Model: prediction_rf\n",
            "True Positives: 34722\n",
            "True Negatives: 375365\n",
            "False Positives: 2483\n",
            "False Negatives: 19903\n",
            "Total: 432473\n",
            "Accuracy: 0.9482372309947673\n",
            "Recall: 0.6356430205949657\n",
            "Precision:  0.9332616583792501\n",
            "F1 score: 0.7562234563868017\n",
            "\n",
            "\n"
          ]
        },
        {
          "name": "stderr",
          "output_type": "stream",
          "text": [
            "                                                                                \r"
          ]
        },
        {
          "name": "stdout",
          "output_type": "stream",
          "text": [
            "\n",
            "Model: prediction_gbt\n",
            "True Positives: 43402\n",
            "True Negatives: 372025\n",
            "False Positives: 5823\n",
            "False Negatives: 11223\n",
            "Total: 432473\n",
            "Accuracy: 0.9605848226363264\n",
            "Recall: 0.7945446224256293\n",
            "Precision:  0.8817064499746065\n",
            "F1 score: 0.8358594126143477\n",
            "\n",
            "\n"
          ]
        }
      ],
      "source": [
        "print('SMOTE Baseline Models:')\n",
        "for model in ['prediction_lr', 'prediction_lsvc', 'prediction_dt', \n",
        "              'prediction_rf', 'prediction_gbt']:\n",
        "    df = globals()[model]\n",
        "    \n",
        "    tp = df[(df.label == 1) & (df.prediction == 1)].count()\n",
        "    tn = df[(df.label == 0) & (df.prediction == 0)].count()\n",
        "    fp = df[(df.label == 0) & (df.prediction == 1)].count()\n",
        "    fn = df[(df.label == 1) & (df.prediction == 0)].count()\n",
        "    a = ((tp + tn)/df.count())\n",
        "    \n",
        "    if(tp + fn == 0.0):\n",
        "        r = 0.0\n",
        "        p = float(tp) / (tp + fp)\n",
        "    elif(tp + fp == 0.0):\n",
        "        r = float(tp) / (tp + fn)\n",
        "        p = 0.0\n",
        "    else:\n",
        "        r = float(tp) / (tp + fn)\n",
        "        p = float(tp) / (tp + fp)\n",
        "    \n",
        "    if(p + r == 0):\n",
        "        f1 = 0\n",
        "    else:\n",
        "        f1 = 2 * ((p * r)/(p + r))\n",
        "    \n",
        "    print('\\nModel:', model)\n",
        "    print('True Positives:', tp)\n",
        "    print('True Negatives:', tn)\n",
        "    print('False Positives:', fp)\n",
        "    print('False Negatives:', fn)\n",
        "    print('Total:', df.count())\n",
        "    print('Accuracy:', a)\n",
        "    print('Recall:', r)\n",
        "    print('Precision: ', p)\n",
        "    print('F1 score:', f1)\n",
        "    print('\\n')"
      ]
    }
  ],
  "metadata": {
    "colab": {
      "collapsed_sections": [],
      "machine_shape": "hm",
      "provenance": [],
      "toc_visible": true
    },
    "kernelspec": {
      "display_name": "Python 3 (ipykernel)",
      "language": "python",
      "name": "python3"
    },
    "language_info": {
      "codemirror_mode": {
        "name": "ipython",
        "version": 3
      },
      "file_extension": ".py",
      "mimetype": "text/x-python",
      "name": "python",
      "nbconvert_exporter": "python",
      "pygments_lexer": "ipython3",
      "version": "3.9.10"
    }
  },
  "nbformat": 4,
  "nbformat_minor": 0
}