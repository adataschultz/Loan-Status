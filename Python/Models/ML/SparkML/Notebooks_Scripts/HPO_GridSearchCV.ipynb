{
  "cells": [
    {
      "cell_type": "markdown",
      "metadata": {
        "id": "xTlApJHhcaXl"
      },
      "source": [
        "# Lending Tree Loan Status - GridSearchCV"
      ]
    },
    {
      "cell_type": "markdown",
      "metadata": {
        "id": "YVZSGOovcSYV"
      },
      "source": [
        "# Set Up Environment for Spark"
      ]
    },
    {
      "cell_type": "markdown",
      "metadata": {
        "id": "InYtmHYylxH3"
      },
      "source": [
        "## Colab"
      ]
    },
    {
      "cell_type": "code",
      "execution_count": null,
      "metadata": {
        "colab": {
          "base_uri": "https://localhost:8080/"
        },
        "id": "a14ZKnvXEBZC",
        "outputId": "c7a4e558-86ae-4569-a644-5a8e402ab120"
      },
      "outputs": [
        {
          "name": "stdout",
          "output_type": "stream",
          "text": [
            "Mounted at /content/drive\n"
          ]
        }
      ],
      "source": [
        "from google.colab import drive \n",
        "drive.mount('/content/drive')"
      ]
    },
    {
      "cell_type": "code",
      "execution_count": null,
      "metadata": {
        "colab": {
          "base_uri": "https://localhost:8080/"
        },
        "id": "QULkYKkN47wi",
        "outputId": "343779f9-12c4-44ac-a321-ef73e2d7b8fe"
      },
      "outputs": [
        {
          "name": "stdout",
          "output_type": "stream",
          "text": [
            "/content/drive/MyDrive/Spark\n"
          ]
        }
      ],
      "source": [
        "%cd /content/drive/MyDrive/Spark/"
      ]
    },
    {
      "cell_type": "code",
      "execution_count": null,
      "metadata": {
        "id": "exlpzAH447wk"
      },
      "outputs": [],
      "source": [
        "# Set up environment for Spark\n",
        "!apt-get install openjdk-8-jdk-headless -qq > /dev/null"
      ]
    },
    {
      "cell_type": "code",
      "execution_count": null,
      "metadata": {
        "id": "5zIO9VQ747wm"
      },
      "outputs": [],
      "source": [
        "!wget -q https://archive.apache.org/dist/spark/spark-3.3.0/spark-3.3.0-bin-hadoop3.tgz"
      ]
    },
    {
      "cell_type": "code",
      "execution_count": null,
      "metadata": {
        "id": "GCPM3e_F47wo"
      },
      "outputs": [],
      "source": [
        "!tar xf spark-3.3.0-bin-hadoop3.tgz"
      ]
    },
    {
      "cell_type": "code",
      "execution_count": null,
      "metadata": {
        "id": "lRFFz8-O47wq"
      },
      "outputs": [],
      "source": [
        "# Set your spark folder to your system path environment. \n",
        "import os\n",
        "os.environ['JAVA_HOME'] = '/usr/lib/jvm/java-8-openjdk-amd64'\n",
        "os.environ['SPARK_HOME'] = '/content/drive/MyDrive/Spark/spark-3.3.0-bin-hadoop3'"
      ]
    },
    {
      "cell_type": "code",
      "execution_count": null,
      "metadata": {
        "colab": {
          "base_uri": "https://localhost:8080/"
        },
        "id": "JXgF3B_EEBZP",
        "outputId": "cbb1ded5-e460-47e7-8898-a08916efe401"
      },
      "outputs": [
        {
          "name": "stdout",
          "output_type": "stream",
          "text": [
            "Looking in indexes: https://pypi.org/simple, https://us-python.pkg.dev/colab-wheels/public/simple/\n",
            "Collecting pyspark==3.3\n",
            "  Downloading pyspark-3.3.0.tar.gz (281.3 MB)\n",
            "\u001b[K     |████████████████████████████████| 281.3 MB 43 kB/s \n",
            "\u001b[?25hCollecting py4j==0.10.9.5\n",
            "  Downloading py4j-0.10.9.5-py2.py3-none-any.whl (199 kB)\n",
            "\u001b[K     |████████████████████████████████| 199 kB 63.5 MB/s \n",
            "\u001b[?25hBuilding wheels for collected packages: pyspark\n",
            "  Building wheel for pyspark (setup.py) ... \u001b[?25l\u001b[?25hdone\n",
            "  Created wheel for pyspark: filename=pyspark-3.3.0-py2.py3-none-any.whl size=281764026 sha256=2ac9238506d28218a2c824c8c7bc44df580e10a8b1f116a72abe92b2f2219e0d\n",
            "  Stored in directory: /root/.cache/pip/wheels/7a/8e/1b/f73a52650d2e5f337708d9f6a1750d451a7349a867f928b885\n",
            "Successfully built pyspark\n",
            "Installing collected packages: py4j, pyspark\n",
            "Successfully installed py4j-0.10.9.5 pyspark-3.3.0\n"
          ]
        }
      ],
      "source": [
        "# Install findspark using pip\n",
        "!pip install -q findspark\n",
        "!pip install -U pyspark==3.3\n",
        "import findspark\n",
        "findspark.init()"
      ]
    },
    {
      "cell_type": "code",
      "execution_count": null,
      "metadata": {
        "colab": {
          "base_uri": "https://localhost:8080/",
          "height": 221
        },
        "id": "o4drF-SjEBZS",
        "outputId": "a8a111d3-9385-4661-cae3-7e63fe9b4b75"
      },
      "outputs": [
        {
          "data": {
            "text/html": [
              "\n",
              "            <div>\n",
              "                <p><b>SparkSession - in-memory</b></p>\n",
              "                \n",
              "        <div>\n",
              "            <p><b>SparkContext</b></p>\n",
              "\n",
              "            <p><a href=\"http://1e9201021b69:4050\">Spark UI</a></p>\n",
              "\n",
              "            <dl>\n",
              "              <dt>Version</dt>\n",
              "                <dd><code>v3.3.0</code></dd>\n",
              "              <dt>Master</dt>\n",
              "                <dd><code>local</code></dd>\n",
              "              <dt>AppName</dt>\n",
              "                <dd><code>Colab</code></dd>\n",
              "            </dl>\n",
              "        </div>\n",
              "        \n",
              "            </div>\n",
              "        "
            ],
            "text/plain": [
              "<pyspark.sql.session.SparkSession at 0x7f1b786827d0>"
            ]
          },
          "execution_count": 9,
          "metadata": {},
          "output_type": "execute_result"
        }
      ],
      "source": [
        "# Pyspark Session for Colab\n",
        "from pyspark.sql import SparkSession\n",
        "spark = SparkSession.builder\\\n",
        "        .master('local')\\\n",
        "        .appName('Colab')\\\n",
        "        .config('spark.driver.memory', '24g')\\\n",
        "        .config('spark.executor.pyspark.memory', '18g')\\\n",
        "        .config('spark.executor.cores', '4')\\\n",
        "        .config('spark.python.worker.memory', '18g')\\\n",
        "        .config('spark.sql.execution.arrow.pyspark.enabled', 'True')\\\n",
        "        .config('spark.sql.debug.maxToStringFields', '1000')\\\n",
        "        .config('spark.sql.autoBroadcastJoinThreshold', '-1')\\\n",
        "        .config('spark.ui.port', '4050')\\\n",
        "        .getOrCreate()\n",
        "\n",
        "spark"
      ]
    },
    {
      "cell_type": "markdown",
      "metadata": {
        "id": "_boXodIwl5RP"
      },
      "source": [
        "## Paperspace Gradient"
      ]
    },
    {
      "cell_type": "code",
      "execution_count": null,
      "metadata": {
        "id": "WuzH3OO59L4u"
      },
      "outputs": [],
      "source": [
        "# Install Java JRE/JDK in terminal\n",
        "apt update\n",
        "apt install default-jre\n",
        "apt install default-jdk"
      ]
    },
    {
      "cell_type": "code",
      "execution_count": null,
      "metadata": {
        "colab": {
          "base_uri": "https://localhost:8080/"
        },
        "execution": {
          "iopub.execute_input": "2022-09-14T22:41:18.558493Z",
          "iopub.status.busy": "2022-09-14T22:41:18.558381Z",
          "iopub.status.idle": "2022-09-14T22:41:22.106403Z",
          "shell.execute_reply": "2022-09-14T22:41:22.105914Z",
          "shell.execute_reply.started": "2022-09-14T22:41:18.558479Z"
        },
        "id": "xFQyTPoYa4rA",
        "outputId": "40e819c9-30f5-49c7-9e52-f87d5d18c556"
      },
      "outputs": [
        {
          "name": "stdout",
          "output_type": "stream",
          "text": [
            "\u001b[33mWARNING: Running pip as the 'root' user can result in broken permissions and conflicting behaviour with the system package manager. It is recommended to use a virtual environment instead: https://pip.pypa.io/warnings/venv\u001b[0m\u001b[33m\n",
            "\u001b[0mRequirement already satisfied: pyspark==3.3 in /opt/conda/envs/rapids/lib/python3.9/site-packages (3.3.0)\n",
            "Requirement already satisfied: py4j==0.10.9.5 in /opt/conda/envs/rapids/lib/python3.9/site-packages (from pyspark==3.3) (0.10.9.5)\n",
            "\u001b[33mWARNING: Running pip as the 'root' user can result in broken permissions and conflicting behaviour with the system package manager. It is recommended to use a virtual environment instead: https://pip.pypa.io/warnings/venv\u001b[0m\u001b[33m\n",
            "\u001b[0m"
          ]
        }
      ],
      "source": [
        "# Install findspark using pip\n",
        "!pip install -q findspark\n",
        "!pip install -U pyspark==3.3\n",
        "import findspark\n",
        "findspark.init()"
      ]
    },
    {
      "cell_type": "code",
      "execution_count": null,
      "metadata": {
        "colab": {
          "base_uri": "https://localhost:8080/",
          "height": 222
        },
        "execution": {
          "iopub.execute_input": "2022-09-16T15:32:46.334025Z",
          "iopub.status.busy": "2022-09-16T15:32:46.332716Z",
          "iopub.status.idle": "2022-09-16T15:32:49.696446Z",
          "shell.execute_reply": "2022-09-16T15:32:49.695840Z",
          "shell.execute_reply.started": "2022-09-16T15:32:46.334000Z"
        },
        "id": "8USbkr7vPGBq",
        "outputId": "093e13e5-fcaf-4ffd-c800-0755878cc969"
      },
      "outputs": [
        {
          "name": "stderr",
          "output_type": "stream",
          "text": [
            "Setting default log level to \"WARN\".\n",
            "To adjust logging level use sc.setLogLevel(newLevel). For SparkR, use setLogLevel(newLevel).\n"
          ]
        },
        {
          "name": "stdout",
          "output_type": "stream",
          "text": [
            "22/09/16 15:32:48 WARN NativeCodeLoader: Unable to load native-hadoop library for your platform... using builtin-java classes where applicable\n"
          ]
        },
        {
          "data": {
            "text/html": [
              "\n",
              "            <div>\n",
              "                <p><b>SparkSession - in-memory</b></p>\n",
              "                \n",
              "        <div>\n",
              "            <p><b>SparkContext</b></p>\n",
              "\n",
              "            <p><a href=\"http://nfr4zgi051:4050\">Spark UI</a></p>\n",
              "\n",
              "            <dl>\n",
              "              <dt>Version</dt>\n",
              "                <dd><code>v3.3.0</code></dd>\n",
              "              <dt>Master</dt>\n",
              "                <dd><code>local</code></dd>\n",
              "              <dt>AppName</dt>\n",
              "                <dd><code>Paperspace</code></dd>\n",
              "            </dl>\n",
              "        </div>\n",
              "        \n",
              "            </div>\n",
              "        "
            ],
            "text/plain": [
              "<pyspark.sql.session.SparkSession at 0x7fb66c104b20>"
            ]
          },
          "execution_count": 4,
          "metadata": {},
          "output_type": "execute_result"
        }
      ],
      "source": [
        "# Pyspark Session for Paperspace with more RAM & CPU cores available\n",
        "# driver.memory=35g & executor.pyspark.memory=28 for some\n",
        "from pyspark.sql import SparkSession\n",
        "spark = SparkSession.builder\\\n",
        "        .master('local')\\\n",
        "        .appName('Paperspace')\\\n",
        "        .config('spark.driver.memory', '38g')\\\n",
        "        .config('spark.executor.pyspark.memory', '32g')\\\n",
        "        .config('spark.executor.cores', '4')\\\n",
        "        .config('spark.python.worker.memory', '32g')\\\n",
        "        .config('spark.sql.execution.arrow.pyspark.enabled', 'True')\\\n",
        "        .config('spark.sql.debug.maxToStringFields', '1000')\\\n",
        "        .config('spark.sql.autoBroadcastJoinThreshold', '-1')\\\n",
        "        .config('spark.ui.port', '4050')\\\n",
        "        .getOrCreate()\n",
        "\n",
        "spark"
      ]
    },
    {
      "cell_type": "code",
      "execution_count": null,
      "metadata": {
        "id": "7MZZD4FkvMYM"
      },
      "outputs": [],
      "source": [
        "# Remove warnings\n",
        "spark.sparkContext.setLogLevel('ERROR')"
      ]
    },
    {
      "cell_type": "code",
      "execution_count": null,
      "metadata": {
        "colab": {
          "base_uri": "https://localhost:8080/"
        },
        "id": "mzEE-fcNYc5r",
        "outputId": "8e0a97eb-7771-4844-ac69-b81b787461f2",
        "scrolled": true,
        "tags": []
      },
      "outputs": [
        {
          "name": "stdout",
          "output_type": "stream",
          "text": [
            "Looking in indexes: https://pypi.org/simple, https://us-python.pkg.dev/colab-wheels/public/simple/\n",
            "Collecting mlflow\n",
            "  Downloading mlflow-1.29.0-py3-none-any.whl (16.9 MB)\n",
            "\u001b[K     |████████████████████████████████| 16.9 MB 348 kB/s \n",
            "\u001b[?25hRequirement already satisfied: pyyaml<7,>=5.1 in /usr/local/lib/python3.7/dist-packages (from mlflow) (6.0)\n",
            "Requirement already satisfied: pytz<2023 in /usr/local/lib/python3.7/dist-packages (from mlflow) (2022.4)\n",
            "Requirement already satisfied: scipy<2 in /usr/local/lib/python3.7/dist-packages (from mlflow) (1.7.3)\n",
            "Requirement already satisfied: sqlalchemy<2,>=1.4.0 in /usr/local/lib/python3.7/dist-packages (from mlflow) (1.4.41)\n",
            "Collecting prometheus-flask-exporter<1\n",
            "  Downloading prometheus_flask_exporter-0.20.3-py3-none-any.whl (18 kB)\n",
            "Collecting gunicorn<21\n",
            "  Downloading gunicorn-20.1.0-py3-none-any.whl (79 kB)\n",
            "\u001b[K     |████████████████████████████████| 79 kB 6.4 MB/s \n",
            "\u001b[?25hRequirement already satisfied: protobuf<5,>=3.12.0 in /usr/local/lib/python3.7/dist-packages (from mlflow) (3.17.3)\n",
            "Requirement already satisfied: Flask<3 in /usr/local/lib/python3.7/dist-packages (from mlflow) (1.1.4)\n",
            "Requirement already satisfied: sqlparse<1,>=0.4.0 in /usr/local/lib/python3.7/dist-packages (from mlflow) (0.4.3)\n",
            "Collecting alembic<2\n",
            "  Downloading alembic-1.8.1-py3-none-any.whl (209 kB)\n",
            "\u001b[K     |████████████████████████████████| 209 kB 33.5 MB/s \n",
            "\u001b[?25hRequirement already satisfied: requests<3,>=2.17.3 in /usr/local/lib/python3.7/dist-packages (from mlflow) (2.23.0)\n",
            "Requirement already satisfied: pandas<2 in /usr/local/lib/python3.7/dist-packages (from mlflow) (1.3.5)\n",
            "Collecting databricks-cli<1,>=0.8.7\n",
            "  Downloading databricks-cli-0.17.3.tar.gz (77 kB)\n",
            "\u001b[K     |████████████████████████████████| 77 kB 5.4 MB/s \n",
            "\u001b[?25hCollecting gitpython<4,>=2.1.0\n",
            "  Downloading GitPython-3.1.29-py3-none-any.whl (182 kB)\n",
            "\u001b[K     |████████████████████████████████| 182 kB 42.2 MB/s \n",
            "\u001b[?25hCollecting querystring-parser<2\n",
            "  Downloading querystring_parser-1.2.4-py2.py3-none-any.whl (7.9 kB)\n",
            "Collecting importlib-metadata!=4.7.0,<5,>=3.7.0\n",
            "  Downloading importlib_metadata-4.13.0-py3-none-any.whl (23 kB)\n",
            "Requirement already satisfied: entrypoints<1 in /usr/local/lib/python3.7/dist-packages (from mlflow) (0.4)\n",
            "Collecting docker<7,>=4.0.0\n",
            "  Downloading docker-6.0.0-py3-none-any.whl (147 kB)\n",
            "\u001b[K     |████████████████████████████████| 147 kB 40.0 MB/s \n",
            "\u001b[?25hRequirement already satisfied: numpy<2 in /usr/local/lib/python3.7/dist-packages (from mlflow) (1.21.6)\n",
            "Requirement already satisfied: cloudpickle<3 in /usr/local/lib/python3.7/dist-packages (from mlflow) (1.5.0)\n",
            "Requirement already satisfied: packaging<22 in /usr/local/lib/python3.7/dist-packages (from mlflow) (21.3)\n",
            "Requirement already satisfied: click<9,>=7.0 in /usr/local/lib/python3.7/dist-packages (from mlflow) (7.1.2)\n",
            "Collecting Mako\n",
            "  Downloading Mako-1.2.3-py3-none-any.whl (78 kB)\n",
            "\u001b[K     |████████████████████████████████| 78 kB 6.3 MB/s \n",
            "\u001b[?25hRequirement already satisfied: importlib-resources in /usr/local/lib/python3.7/dist-packages (from alembic<2->mlflow) (5.9.0)\n",
            "Collecting pyjwt>=1.7.0\n",
            "  Downloading PyJWT-2.5.0-py3-none-any.whl (20 kB)\n",
            "Requirement already satisfied: oauthlib>=3.1.0 in /usr/local/lib/python3.7/dist-packages (from databricks-cli<1,>=0.8.7->mlflow) (3.2.1)\n",
            "Requirement already satisfied: tabulate>=0.7.7 in /usr/local/lib/python3.7/dist-packages (from databricks-cli<1,>=0.8.7->mlflow) (0.8.10)\n",
            "Requirement already satisfied: six>=1.10.0 in /usr/local/lib/python3.7/dist-packages (from databricks-cli<1,>=0.8.7->mlflow) (1.15.0)\n",
            "Collecting websocket-client>=0.32.0\n",
            "  Downloading websocket_client-1.4.1-py3-none-any.whl (55 kB)\n",
            "\u001b[K     |████████████████████████████████| 55 kB 548 kB/s \n",
            "\u001b[?25hCollecting urllib3>=1.26.0\n",
            "  Downloading urllib3-1.26.12-py2.py3-none-any.whl (140 kB)\n",
            "\u001b[K     |████████████████████████████████| 140 kB 53.8 MB/s \n",
            "\u001b[?25hCollecting requests<3,>=2.17.3\n",
            "  Downloading requests-2.28.1-py3-none-any.whl (62 kB)\n",
            "\u001b[K     |████████████████████████████████| 62 kB 1.3 MB/s \n",
            "\u001b[?25hRequirement already satisfied: Jinja2<3.0,>=2.10.1 in /usr/local/lib/python3.7/dist-packages (from Flask<3->mlflow) (2.11.3)\n",
            "Requirement already satisfied: Werkzeug<2.0,>=0.15 in /usr/local/lib/python3.7/dist-packages (from Flask<3->mlflow) (1.0.1)\n",
            "Requirement already satisfied: itsdangerous<2.0,>=0.24 in /usr/local/lib/python3.7/dist-packages (from Flask<3->mlflow) (1.1.0)\n",
            "Requirement already satisfied: typing-extensions>=3.7.4.3 in /usr/local/lib/python3.7/dist-packages (from gitpython<4,>=2.1.0->mlflow) (4.1.1)\n",
            "Collecting gitdb<5,>=4.0.1\n",
            "  Downloading gitdb-4.0.9-py3-none-any.whl (63 kB)\n",
            "\u001b[K     |████████████████████████████████| 63 kB 1.4 MB/s \n",
            "\u001b[?25hCollecting smmap<6,>=3.0.1\n",
            "  Downloading smmap-5.0.0-py3-none-any.whl (24 kB)\n",
            "Requirement already satisfied: setuptools>=3.0 in /usr/local/lib/python3.7/dist-packages (from gunicorn<21->mlflow) (57.4.0)\n",
            "Requirement already satisfied: zipp>=0.5 in /usr/local/lib/python3.7/dist-packages (from importlib-metadata!=4.7.0,<5,>=3.7.0->mlflow) (3.8.1)\n",
            "Requirement already satisfied: MarkupSafe>=0.23 in /usr/local/lib/python3.7/dist-packages (from Jinja2<3.0,>=2.10.1->Flask<3->mlflow) (2.0.1)\n",
            "Requirement already satisfied: pyparsing!=3.0.5,>=2.0.2 in /usr/local/lib/python3.7/dist-packages (from packaging<22->mlflow) (3.0.9)\n",
            "Requirement already satisfied: python-dateutil>=2.7.3 in /usr/local/lib/python3.7/dist-packages (from pandas<2->mlflow) (2.8.2)\n",
            "Collecting prometheus-client\n",
            "  Downloading prometheus_client-0.14.1-py3-none-any.whl (59 kB)\n",
            "\u001b[K     |████████████████████████████████| 59 kB 4.5 MB/s \n",
            "\u001b[?25hRequirement already satisfied: idna<4,>=2.5 in /usr/local/lib/python3.7/dist-packages (from requests<3,>=2.17.3->mlflow) (2.10)\n",
            "Requirement already satisfied: charset-normalizer<3,>=2 in /usr/local/lib/python3.7/dist-packages (from requests<3,>=2.17.3->mlflow) (2.1.1)\n",
            "Requirement already satisfied: certifi>=2017.4.17 in /usr/local/lib/python3.7/dist-packages (from requests<3,>=2.17.3->mlflow) (2022.9.24)\n",
            "Requirement already satisfied: greenlet!=0.4.17 in /usr/local/lib/python3.7/dist-packages (from sqlalchemy<2,>=1.4.0->mlflow) (1.1.3)\n",
            "Building wheels for collected packages: databricks-cli\n",
            "  Building wheel for databricks-cli (setup.py) ... \u001b[?25l\u001b[?25hdone\n",
            "  Created wheel for databricks-cli: filename=databricks_cli-0.17.3-py3-none-any.whl size=139102 sha256=066f89bd942bbcdc0d99748e1b3006319e6dc9230f001dafd8def303f331cb6a\n",
            "  Stored in directory: /root/.cache/pip/wheels/3f/73/87/c1e4b2145eb6049bb6c9aaf7ea1e38302b77ca219b6fef5d5c\n",
            "Successfully built databricks-cli\n",
            "Installing collected packages: urllib3, smmap, importlib-metadata, websocket-client, requests, pyjwt, prometheus-client, Mako, gitdb, querystring-parser, prometheus-flask-exporter, gunicorn, gitpython, docker, databricks-cli, alembic, mlflow\n",
            "  Attempting uninstall: urllib3\n",
            "    Found existing installation: urllib3 1.24.3\n",
            "    Uninstalling urllib3-1.24.3:\n",
            "      Successfully uninstalled urllib3-1.24.3\n",
            "  Attempting uninstall: importlib-metadata\n",
            "    Found existing installation: importlib-metadata 5.0.0\n",
            "    Uninstalling importlib-metadata-5.0.0:\n",
            "      Successfully uninstalled importlib-metadata-5.0.0\n",
            "  Attempting uninstall: requests\n",
            "    Found existing installation: requests 2.23.0\n",
            "    Uninstalling requests-2.23.0:\n",
            "      Successfully uninstalled requests-2.23.0\n",
            "Successfully installed Mako-1.2.3 alembic-1.8.1 databricks-cli-0.17.3 docker-6.0.0 gitdb-4.0.9 gitpython-3.1.29 gunicorn-20.1.0 importlib-metadata-4.13.0 mlflow-1.29.0 prometheus-client-0.14.1 prometheus-flask-exporter-0.20.3 pyjwt-2.5.0 querystring-parser-1.2.4 requests-2.28.1 smmap-5.0.0 urllib3-1.26.12 websocket-client-1.4.1\n",
            "Looking in indexes: https://pypi.org/simple, https://us-python.pkg.dev/colab-wheels/public/simple/\n",
            "Requirement already satisfied: hyperopt in /usr/local/lib/python3.7/dist-packages (0.1.2)\n",
            "Requirement already satisfied: tqdm in /usr/local/lib/python3.7/dist-packages (from hyperopt) (4.64.1)\n",
            "Requirement already satisfied: pymongo in /usr/local/lib/python3.7/dist-packages (from hyperopt) (4.2.0)\n",
            "Requirement already satisfied: six in /usr/local/lib/python3.7/dist-packages (from hyperopt) (1.15.0)\n",
            "Requirement already satisfied: future in /usr/local/lib/python3.7/dist-packages (from hyperopt) (0.16.0)\n",
            "Requirement already satisfied: numpy in /usr/local/lib/python3.7/dist-packages (from hyperopt) (1.21.6)\n",
            "Requirement already satisfied: networkx in /usr/local/lib/python3.7/dist-packages (from hyperopt) (2.6.3)\n",
            "Requirement already satisfied: scipy in /usr/local/lib/python3.7/dist-packages (from hyperopt) (1.7.3)\n"
          ]
        }
      ],
      "source": [
        "!pip install --upgrade mlflow \n",
        "!pip install hyperopt\n",
        "import random\n",
        "import warnings\n",
        "import numpy as np\n",
        "from pyspark.sql.functions import col, round\n",
        "from pyspark.sql.types import IntegerType, FloatType\n",
        "from pyspark.ml.feature import VectorAssembler, MinMaxScaler, StandardScaler\n",
        "from pyspark.ml import Pipeline\n",
        "from pyspark.ml.classification import LogisticRegression, LinearSVC\n",
        "from pyspark.ml.classification import DecisionTreeClassifier\n",
        "from pyspark.ml.classification import RandomForestClassifier, GBTClassifier\n",
        "from pyspark.ml.tuning import ParamGridBuilder, CrossValidator\n",
        "from pyspark.ml.evaluation import BinaryClassificationEvaluator\n",
        "from pyspark.ml.evaluation import MulticlassClassificationEvaluator\n",
        "from pyspark.mllib.evaluation import BinaryClassificationMetrics\n",
        "from hyperopt import fmin, tpe, hp, Trials, STATUS_OK\n",
        "from hyperopt.pyll import scope\n",
        "import time\n",
        "from datetime import datetime, timedelta\n",
        "from timeit import default_timer as timer\n",
        "try:\n",
        "  import mlflow.pyspark.ml\n",
        "  mlflow.pyspark.ml.autolog()\n",
        "except:\n",
        "  print(f'Your version of MLflow ({mlflow.__version__}) does not support pyspark.ml for autologging. To use autologging, upgrade your MLflow client version or use Databricks Runtime for ML 8.3 or above.')\n",
        "warnings.filterwarnings('ignore')"
      ]
    },
    {
      "cell_type": "code",
      "execution_count": null,
      "metadata": {
        "id": "zxq23AoWjaF5"
      },
      "outputs": [],
      "source": [
        "# Set seed \n",
        "seed_value = 42\n",
        "os.environ['SparkML_HPO'] = str(seed_value)\n",
        "random.seed(seed_value)\n",
        "np.random.seed(seed_value)"
      ]
    },
    {
      "cell_type": "markdown",
      "metadata": {
        "id": "Vu6FTxoSPNmk"
      },
      "source": [
        "# Upsampling - Oversample Minority Class "
      ]
    },
    {
      "cell_type": "markdown",
      "metadata": {
        "id": "e5-G8VmkR7ys"
      },
      "source": [
        "## Read Data and View Schema"
      ]
    },
    {
      "cell_type": "code",
      "execution_count": null,
      "metadata": {
        "colab": {
          "base_uri": "https://localhost:8080/"
        },
        "id": "8vqi0lRLrNED",
        "outputId": "43167949-b8ab-42c1-d29f-f7c12881dabe",
        "scrolled": true,
        "tags": []
      },
      "outputs": [
        {
          "name": "stdout",
          "output_type": "stream",
          "text": [
            "\n",
            "Train Schema\n",
            "root\n",
            " |-- loan_amnt: integer (nullable = true)\n",
            " |-- int_rate: double (nullable = true)\n",
            " |-- installment: double (nullable = true)\n",
            " |-- annual_inc: double (nullable = true)\n",
            " |-- inq_last_6mths: double (nullable = true)\n",
            " |-- pub_rec: double (nullable = true)\n",
            " |-- revol_bal: integer (nullable = true)\n",
            " |-- out_prncp: double (nullable = true)\n",
            " |-- total_pymnt: double (nullable = true)\n",
            " |-- total_rec_int: double (nullable = true)\n",
            " |-- total_rec_late_fee: double (nullable = true)\n",
            " |-- recoveries: double (nullable = true)\n",
            " |-- last_pymnt_amnt: double (nullable = true)\n",
            " |-- collections_12_mths_ex_med: double (nullable = true)\n",
            " |-- acc_open_past_24mths: double (nullable = true)\n",
            " |-- bc_open_to_buy: double (nullable = true)\n",
            " |-- chargeoff_within_12_mths: double (nullable = true)\n",
            " |-- delinq_amnt: double (nullable = true)\n",
            " |-- mths_since_recent_bc: double (nullable = true)\n",
            " |-- num_bc_sats: double (nullable = true)\n",
            " |-- num_bc_tl: double (nullable = true)\n",
            " |-- num_sats: double (nullable = true)\n",
            " |-- num_tl_30dpd: double (nullable = true)\n",
            " |-- tax_liens: double (nullable = true)\n",
            " |-- tot_hi_cred_lim: double (nullable = true)\n",
            " |-- total_bal_ex_mort: double (nullable = true)\n",
            " |-- total_bc_limit: double (nullable = true)\n",
            " |-- term_ 60 months: integer (nullable = true)\n",
            " |-- grade_B: integer (nullable = true)\n",
            " |-- grade_C: integer (nullable = true)\n",
            " |-- grade_D: integer (nullable = true)\n",
            " |-- home_ownership_MORTGAGE: integer (nullable = true)\n",
            " |-- home_ownership_OWN: integer (nullable = true)\n",
            " |-- home_ownership_RENT: integer (nullable = true)\n",
            " |-- verification_status_Source Verified: integer (nullable = true)\n",
            " |-- verification_status_Verified: integer (nullable = true)\n",
            " |-- purpose_credit_card: integer (nullable = true)\n",
            " |-- initial_list_status_w: integer (nullable = true)\n",
            " |-- application_type_Joint App: integer (nullable = true)\n",
            " |-- disbursement_method_DirectPay: integer (nullable = true)\n",
            " |-- num_il_tl: double (nullable = true)\n",
            " |-- num_accts_ever_120_pd: double (nullable = true)\n",
            " |-- mo_sin_old_rev_tl_op: double (nullable = true)\n",
            " |-- percent_bc_gt_75: double (nullable = true)\n",
            " |-- revol_util: double (nullable = true)\n",
            " |-- num_actv_rev_tl: double (nullable = true)\n",
            " |-- tot_coll_amt: double (nullable = true)\n",
            " |-- mort_acc: double (nullable = true)\n",
            " |-- delinq_2yrs: double (nullable = true)\n",
            " |-- num_tl_op_past_12m: double (nullable = true)\n",
            " |-- loan_status: integer (nullable = true)\n",
            "\n",
            "\n",
            "Test Schema\n",
            "root\n",
            " |-- loan_amnt: integer (nullable = true)\n",
            " |-- int_rate: double (nullable = true)\n",
            " |-- installment: double (nullable = true)\n",
            " |-- annual_inc: double (nullable = true)\n",
            " |-- inq_last_6mths: double (nullable = true)\n",
            " |-- pub_rec: double (nullable = true)\n",
            " |-- revol_bal: integer (nullable = true)\n",
            " |-- out_prncp: double (nullable = true)\n",
            " |-- total_pymnt: double (nullable = true)\n",
            " |-- total_rec_int: double (nullable = true)\n",
            " |-- total_rec_late_fee: double (nullable = true)\n",
            " |-- recoveries: double (nullable = true)\n",
            " |-- last_pymnt_amnt: double (nullable = true)\n",
            " |-- collections_12_mths_ex_med: double (nullable = true)\n",
            " |-- acc_open_past_24mths: double (nullable = true)\n",
            " |-- bc_open_to_buy: double (nullable = true)\n",
            " |-- chargeoff_within_12_mths: double (nullable = true)\n",
            " |-- delinq_amnt: double (nullable = true)\n",
            " |-- mths_since_recent_bc: double (nullable = true)\n",
            " |-- num_bc_sats: double (nullable = true)\n",
            " |-- num_bc_tl: double (nullable = true)\n",
            " |-- num_sats: double (nullable = true)\n",
            " |-- num_tl_30dpd: double (nullable = true)\n",
            " |-- tax_liens: double (nullable = true)\n",
            " |-- tot_hi_cred_lim: double (nullable = true)\n",
            " |-- total_bal_ex_mort: double (nullable = true)\n",
            " |-- total_bc_limit: double (nullable = true)\n",
            " |-- term_ 60 months: integer (nullable = true)\n",
            " |-- grade_B: integer (nullable = true)\n",
            " |-- grade_C: integer (nullable = true)\n",
            " |-- grade_D: integer (nullable = true)\n",
            " |-- home_ownership_MORTGAGE: integer (nullable = true)\n",
            " |-- home_ownership_OWN: integer (nullable = true)\n",
            " |-- home_ownership_RENT: integer (nullable = true)\n",
            " |-- verification_status_Source Verified: integer (nullable = true)\n",
            " |-- verification_status_Verified: integer (nullable = true)\n",
            " |-- purpose_credit_card: integer (nullable = true)\n",
            " |-- initial_list_status_w: integer (nullable = true)\n",
            " |-- application_type_Joint App: integer (nullable = true)\n",
            " |-- disbursement_method_DirectPay: integer (nullable = true)\n",
            " |-- num_il_tl: double (nullable = true)\n",
            " |-- num_accts_ever_120_pd: double (nullable = true)\n",
            " |-- mo_sin_old_rev_tl_op: double (nullable = true)\n",
            " |-- percent_bc_gt_75: double (nullable = true)\n",
            " |-- revol_util: double (nullable = true)\n",
            " |-- num_actv_rev_tl: double (nullable = true)\n",
            " |-- tot_coll_amt: double (nullable = true)\n",
            " |-- mort_acc: double (nullable = true)\n",
            " |-- delinq_2yrs: double (nullable = true)\n",
            " |-- num_tl_op_past_12m: double (nullable = true)\n",
            " |-- loan_status: integer (nullable = true)\n",
            "\n"
          ]
        }
      ],
      "source": [
        "trainDF = spark.read.csv('/content/drive/MyDrive/LoanStatus/Data/trainDF_US.csv',\n",
        "                         header=True, inferSchema=True).cache()\n",
        "print('\\nTrain Schema')\n",
        "trainDF.printSchema()\n",
        "\n",
        "testDF = spark.read.csv('/content/drive/MyDrive/LoanStatus/Data/testDF_US.csv',\n",
        "                        header=True, inferSchema=True).cache()\n",
        "print('\\nTest Schema')\n",
        "testDF.printSchema()"
      ]
    },
    {
      "cell_type": "markdown",
      "metadata": {
        "id": "O0PjiUDG3MQw"
      },
      "source": [
        "## Set up Vector Assembler, Scalers and Evaluators"
      ]
    },
    {
      "cell_type": "code",
      "execution_count": null,
      "metadata": {
        "id": "g2XHymcqV05p"
      },
      "outputs": [],
      "source": [
        "# Define features and label for train data\n",
        "features = trainDF.columns[0: len(trainDF.columns) - 1]\n",
        "trainDF = trainDF.select(col('loan_status').alias('label'), *features)"
      ]
    },
    {
      "cell_type": "code",
      "execution_count": null,
      "metadata": {
        "id": "VhMCrT8GV05r"
      },
      "outputs": [],
      "source": [
        "# VectorAssembler \n",
        "vecAssembler = VectorAssembler(inputCols=features, \n",
        "                               outputCol='unscaledFeatures', \n",
        "                               handleInvalid='skip')  \n",
        "\n",
        "# Transform train data\n",
        "trainDF = vecAssembler.transform(trainDF)  "
      ]
    },
    {
      "cell_type": "code",
      "execution_count": null,
      "metadata": {
        "id": "7bJpMRdpV05t"
      },
      "outputs": [],
      "source": [
        "# Define features and label for test data \n",
        "features = testDF.columns[0: len(testDF.columns) - 1]\n",
        "testDF = testDF.select(col('loan_status').alias('label'), *features)\n",
        "\n",
        "# Transform test data\n",
        "testDF = vecAssembler.transform(testDF)  "
      ]
    },
    {
      "cell_type": "code",
      "execution_count": null,
      "metadata": {
        "id": "cwGtrsjnZv6Q"
      },
      "outputs": [],
      "source": [
        "# MinMaxScaler\n",
        "mmScaler = MinMaxScaler(inputCol='unscaledFeatures', \n",
        "                        outputCol='scaledFeatures',\n",
        "                        min=0, max=1)"
      ]
    },
    {
      "cell_type": "code",
      "execution_count": null,
      "metadata": {
        "id": "WKxgewL6m383"
      },
      "outputs": [],
      "source": [
        "# Standard scaler\n",
        "stdScaler = StandardScaler(inputCol='unscaledFeatures', \n",
        "                           outputCol='scaledFeatures', \n",
        "                           withStd=True, \n",
        "                           withMean=False)"
      ]
    },
    {
      "cell_type": "code",
      "execution_count": null,
      "metadata": {
        "id": "MhmgcEb8nxTD"
      },
      "outputs": [],
      "source": [
        "# Define model evaluation\n",
        "evaluator_auroc = BinaryClassificationEvaluator(labelCol='label', \n",
        "                                                metricName='areaUnderROC')\n",
        "\n",
        "evaluator_acc = MulticlassClassificationEvaluator(labelCol='label', \n",
        "                                                  metricName='accuracy')"
      ]
    },
    {
      "cell_type": "code",
      "execution_count": null,
      "metadata": {
        "colab": {
          "base_uri": "https://localhost:8080/"
        },
        "id": "FlOTo9wjsR8F",
        "outputId": "dbac843e-00e9-48aa-c87f-31c685ffdaf2"
      },
      "outputs": [
        {
          "name": "stdout",
          "output_type": "stream",
          "text": [
            "/content/drive/MyDrive/LoanStatus/Python/Models/ML/SparkML/Models/GridSearchCV\n"
          ]
        }
      ],
      "source": [
        "# Change directory to write mlruns\n",
        "%cd /content/drive/MyDrive/LoanStatus/Python/Models/ML/SparkML/Models/GridSearchCV/"
      ]
    },
    {
      "cell_type": "markdown",
      "metadata": {
        "id": "DnCXrETyQIf9"
      },
      "source": [
        "## Grid Search"
      ]
    },
    {
      "cell_type": "markdown",
      "metadata": {
        "id": "ck9fUO83ZQpd"
      },
      "source": [
        "### Logistic Regression "
      ]
    },
    {
      "cell_type": "code",
      "execution_count": null,
      "metadata": {
        "id": "-InA5Y6zZQpi"
      },
      "outputs": [],
      "source": [
        "# Set up pipeline\n",
        "model = LogisticRegression(labelCol='label', \n",
        "                           featuresCol='scaledFeatures', \n",
        "                           family='binomial')\n",
        "\t\t\t\t\t\t\n",
        "pipeline_lr_hpo = Pipeline(stages=[stdScaler, model])"
      ]
    },
    {
      "cell_type": "code",
      "execution_count": null,
      "metadata": {
        "id": "xz7lGyoQZQpm"
      },
      "outputs": [],
      "source": [
        "# Create parameter grid\n",
        "paramGrid = (ParamGridBuilder()\n",
        "            .addGrid(model.regParam, [0.01, 0.1, 1.0])\n",
        "            .addGrid(model.elasticNetParam, [0.0, 0.5, 1.0])\n",
        "            .addGrid(model.maxIter, [500, 1000])\n",
        "            .build())"
      ]
    },
    {
      "cell_type": "code",
      "execution_count": null,
      "metadata": {
        "id": "8Uk6LccVZQpo"
      },
      "outputs": [],
      "source": [
        "# Define type of cross-validation\n",
        "cv = CrossValidator(estimator=pipeline_lr_hpo, \n",
        "                    estimatorParamMaps=paramGrid,\n",
        "                    evaluator=evaluator_auroc,\n",
        "                    numFolds=5, parallelism=5)"
      ]
    },
    {
      "cell_type": "code",
      "execution_count": null,
      "metadata": {
        "id": "hBSQ6EUHZQpq",
        "outputId": "9dda4288-394c-4603-a736-25f33c0807cc"
      },
      "outputs": [
        {
          "name": "stderr",
          "output_type": "stream",
          "text": [
            "2022/09/12 04:51:07 INFO mlflow.utils.autologging_utils: Created MLflow autologging run with ID '2c1c7f320a1d4d42aee6a1915c9651de', which will track hyperparameters, performance metrics, model artifacts, and lineage information for the current pyspark.ml workflow\n",
            "2022/09/12 05:52:28 WARNING mlflow.pyspark.ml: Model inputs contain unsupported Spark data types: [StructField('unscaledFeatures', VectorUDT(), True)]. Model signature is not logged.\n",
            "Current mem limits: -1 of max -1\n",
            "\n",
            "Setting mem limits to 3758096384 of max 3758096384\n",
            "\n"
          ]
        },
        {
          "name": "stdout",
          "output_type": "stream",
          "text": [
            "Time to perform GridSearchCV: 3707.951903104782\n"
          ]
        },
        {
          "name": "stderr",
          "output_type": "stream",
          "text": [
            "                                                                                \r"
          ]
        }
      ],
      "source": [
        "# Start timer for experiment\n",
        "search_time_start = time.time()\n",
        "\n",
        "# Run HPO\n",
        "pipelineModel_lr_hpo = cv.fit(trainDF)\n",
        "\n",
        "# End timer for experiment\n",
        "print('Time to perform GridSearchCV:', time.time() - search_time_start)\n",
        "\n",
        "# # Save best model\n",
        "lr_grid = pipelineModel_lr_hpo.bestModel\n",
        "lr_grid.save('/content/drive/MyDrive/LoanStatus/Python/Models/ML/SparkML/Models/GridSearchCV/pipelineModel_lr_us_hpo_grid')"
      ]
    },
    {
      "cell_type": "code",
      "execution_count": null,
      "metadata": {
        "id": "ZILKZcVMZQpt",
        "outputId": "bb737ce9-bdf9-494e-93f8-eefdb114dda9"
      },
      "outputs": [
        {
          "name": "stdout",
          "output_type": "stream",
          "text": [
            "{Param(parent='LogisticRegression_4d0a21af5fff', name='regParam', doc='regularization parameter (>= 0).'): 0.01, Param(parent='LogisticRegression_4d0a21af5fff', name='elasticNetParam', doc='the ElasticNet mixing parameter, in range [0, 1]. For alpha = 0, the penalty is an L2 penalty. For alpha = 1, it is an L1 penalty.'): 1.0, Param(parent='LogisticRegression_4d0a21af5fff', name='maxIter', doc='max number of iterations (>= 0).'): 500}\n"
          ]
        }
      ],
      "source": [
        "# Find best parameters\n",
        "print(pipelineModel_lr_hpo.getEstimatorParamMaps()[np.argmax(pipelineModel_lr_hpo.avgMetrics)])"
      ]
    },
    {
      "cell_type": "code",
      "execution_count": null,
      "metadata": {
        "id": "o_oef0WnZQpv",
        "outputId": "816d7650-4c91-4f5f-e42a-c76c9b2c2c4f",
        "scrolled": true,
        "tags": []
      },
      "outputs": [
        {
          "data": {
            "text/plain": [
              "[(0.9681145771336286,\n",
              "  {Param(parent='LogisticRegression_4d0a21af5fff', name='regParam', doc='regularization parameter (>= 0).'): 0.01,\n",
              "   Param(parent='LogisticRegression_4d0a21af5fff', name='elasticNetParam', doc='the ElasticNet mixing parameter, in range [0, 1]. For alpha = 0, the penalty is an L2 penalty. For alpha = 1, it is an L1 penalty.'): 0.0,\n",
              "   Param(parent='LogisticRegression_4d0a21af5fff', name='maxIter', doc='max number of iterations (>= 0).'): 500}),\n",
              " (0.9681141573612582,\n",
              "  {Param(parent='LogisticRegression_4d0a21af5fff', name='regParam', doc='regularization parameter (>= 0).'): 0.01,\n",
              "   Param(parent='LogisticRegression_4d0a21af5fff', name='elasticNetParam', doc='the ElasticNet mixing parameter, in range [0, 1]. For alpha = 0, the penalty is an L2 penalty. For alpha = 1, it is an L1 penalty.'): 0.0,\n",
              "   Param(parent='LogisticRegression_4d0a21af5fff', name='maxIter', doc='max number of iterations (>= 0).'): 1000}),\n",
              " (0.9697153513752953,\n",
              "  {Param(parent='LogisticRegression_4d0a21af5fff', name='regParam', doc='regularization parameter (>= 0).'): 0.01,\n",
              "   Param(parent='LogisticRegression_4d0a21af5fff', name='elasticNetParam', doc='the ElasticNet mixing parameter, in range [0, 1]. For alpha = 0, the penalty is an L2 penalty. For alpha = 1, it is an L1 penalty.'): 0.5,\n",
              "   Param(parent='LogisticRegression_4d0a21af5fff', name='maxIter', doc='max number of iterations (>= 0).'): 500}),\n",
              " (0.9697148164756177,\n",
              "  {Param(parent='LogisticRegression_4d0a21af5fff', name='regParam', doc='regularization parameter (>= 0).'): 0.01,\n",
              "   Param(parent='LogisticRegression_4d0a21af5fff', name='elasticNetParam', doc='the ElasticNet mixing parameter, in range [0, 1]. For alpha = 0, the penalty is an L2 penalty. For alpha = 1, it is an L1 penalty.'): 0.5,\n",
              "   Param(parent='LogisticRegression_4d0a21af5fff', name='maxIter', doc='max number of iterations (>= 0).'): 1000}),\n",
              " (0.9705475973606085,\n",
              "  {Param(parent='LogisticRegression_4d0a21af5fff', name='regParam', doc='regularization parameter (>= 0).'): 0.01,\n",
              "   Param(parent='LogisticRegression_4d0a21af5fff', name='elasticNetParam', doc='the ElasticNet mixing parameter, in range [0, 1]. For alpha = 0, the penalty is an L2 penalty. For alpha = 1, it is an L1 penalty.'): 1.0,\n",
              "   Param(parent='LogisticRegression_4d0a21af5fff', name='maxIter', doc='max number of iterations (>= 0).'): 500}),\n",
              " (0.9705473756950841,\n",
              "  {Param(parent='LogisticRegression_4d0a21af5fff', name='regParam', doc='regularization parameter (>= 0).'): 0.01,\n",
              "   Param(parent='LogisticRegression_4d0a21af5fff', name='elasticNetParam', doc='the ElasticNet mixing parameter, in range [0, 1]. For alpha = 0, the penalty is an L2 penalty. For alpha = 1, it is an L1 penalty.'): 1.0,\n",
              "   Param(parent='LogisticRegression_4d0a21af5fff', name='maxIter', doc='max number of iterations (>= 0).'): 1000}),\n",
              " (0.9419824317047569,\n",
              "  {Param(parent='LogisticRegression_4d0a21af5fff', name='regParam', doc='regularization parameter (>= 0).'): 0.1,\n",
              "   Param(parent='LogisticRegression_4d0a21af5fff', name='elasticNetParam', doc='the ElasticNet mixing parameter, in range [0, 1]. For alpha = 0, the penalty is an L2 penalty. For alpha = 1, it is an L1 penalty.'): 0.0,\n",
              "   Param(parent='LogisticRegression_4d0a21af5fff', name='maxIter', doc='max number of iterations (>= 0).'): 500}),\n",
              " (0.9419820877983343,\n",
              "  {Param(parent='LogisticRegression_4d0a21af5fff', name='regParam', doc='regularization parameter (>= 0).'): 0.1,\n",
              "   Param(parent='LogisticRegression_4d0a21af5fff', name='elasticNetParam', doc='the ElasticNet mixing parameter, in range [0, 1]. For alpha = 0, the penalty is an L2 penalty. For alpha = 1, it is an L1 penalty.'): 0.0,\n",
              "   Param(parent='LogisticRegression_4d0a21af5fff', name='maxIter', doc='max number of iterations (>= 0).'): 1000}),\n",
              " (0.9222703427814526,\n",
              "  {Param(parent='LogisticRegression_4d0a21af5fff', name='regParam', doc='regularization parameter (>= 0).'): 0.1,\n",
              "   Param(parent='LogisticRegression_4d0a21af5fff', name='elasticNetParam', doc='the ElasticNet mixing parameter, in range [0, 1]. For alpha = 0, the penalty is an L2 penalty. For alpha = 1, it is an L1 penalty.'): 0.5,\n",
              "   Param(parent='LogisticRegression_4d0a21af5fff', name='maxIter', doc='max number of iterations (>= 0).'): 500}),\n",
              " (0.9222698749899644,\n",
              "  {Param(parent='LogisticRegression_4d0a21af5fff', name='regParam', doc='regularization parameter (>= 0).'): 0.1,\n",
              "   Param(parent='LogisticRegression_4d0a21af5fff', name='elasticNetParam', doc='the ElasticNet mixing parameter, in range [0, 1]. For alpha = 0, the penalty is an L2 penalty. For alpha = 1, it is an L1 penalty.'): 0.5,\n",
              "   Param(parent='LogisticRegression_4d0a21af5fff', name='maxIter', doc='max number of iterations (>= 0).'): 1000}),\n",
              " (0.9253002004559061,\n",
              "  {Param(parent='LogisticRegression_4d0a21af5fff', name='regParam', doc='regularization parameter (>= 0).'): 0.1,\n",
              "   Param(parent='LogisticRegression_4d0a21af5fff', name='elasticNetParam', doc='the ElasticNet mixing parameter, in range [0, 1]. For alpha = 0, the penalty is an L2 penalty. For alpha = 1, it is an L1 penalty.'): 1.0,\n",
              "   Param(parent='LogisticRegression_4d0a21af5fff', name='maxIter', doc='max number of iterations (>= 0).'): 500}),\n",
              " (0.9253002627054926,\n",
              "  {Param(parent='LogisticRegression_4d0a21af5fff', name='regParam', doc='regularization parameter (>= 0).'): 0.1,\n",
              "   Param(parent='LogisticRegression_4d0a21af5fff', name='elasticNetParam', doc='the ElasticNet mixing parameter, in range [0, 1]. For alpha = 0, the penalty is an L2 penalty. For alpha = 1, it is an L1 penalty.'): 1.0,\n",
              "   Param(parent='LogisticRegression_4d0a21af5fff', name='maxIter', doc='max number of iterations (>= 0).'): 1000}),\n",
              " (0.8846691808867735,\n",
              "  {Param(parent='LogisticRegression_4d0a21af5fff', name='regParam', doc='regularization parameter (>= 0).'): 1.0,\n",
              "   Param(parent='LogisticRegression_4d0a21af5fff', name='elasticNetParam', doc='the ElasticNet mixing parameter, in range [0, 1]. For alpha = 0, the penalty is an L2 penalty. For alpha = 1, it is an L1 penalty.'): 0.0,\n",
              "   Param(parent='LogisticRegression_4d0a21af5fff', name='maxIter', doc='max number of iterations (>= 0).'): 500}),\n",
              " (0.8846686572927505,\n",
              "  {Param(parent='LogisticRegression_4d0a21af5fff', name='regParam', doc='regularization parameter (>= 0).'): 1.0,\n",
              "   Param(parent='LogisticRegression_4d0a21af5fff', name='elasticNetParam', doc='the ElasticNet mixing parameter, in range [0, 1]. For alpha = 0, the penalty is an L2 penalty. For alpha = 1, it is an L1 penalty.'): 0.0,\n",
              "   Param(parent='LogisticRegression_4d0a21af5fff', name='maxIter', doc='max number of iterations (>= 0).'): 1000}),\n",
              " (0.5,\n",
              "  {Param(parent='LogisticRegression_4d0a21af5fff', name='regParam', doc='regularization parameter (>= 0).'): 1.0,\n",
              "   Param(parent='LogisticRegression_4d0a21af5fff', name='elasticNetParam', doc='the ElasticNet mixing parameter, in range [0, 1]. For alpha = 0, the penalty is an L2 penalty. For alpha = 1, it is an L1 penalty.'): 0.5,\n",
              "   Param(parent='LogisticRegression_4d0a21af5fff', name='maxIter', doc='max number of iterations (>= 0).'): 500}),\n",
              " (0.5,\n",
              "  {Param(parent='LogisticRegression_4d0a21af5fff', name='regParam', doc='regularization parameter (>= 0).'): 1.0,\n",
              "   Param(parent='LogisticRegression_4d0a21af5fff', name='elasticNetParam', doc='the ElasticNet mixing parameter, in range [0, 1]. For alpha = 0, the penalty is an L2 penalty. For alpha = 1, it is an L1 penalty.'): 0.5,\n",
              "   Param(parent='LogisticRegression_4d0a21af5fff', name='maxIter', doc='max number of iterations (>= 0).'): 1000}),\n",
              " (0.5,\n",
              "  {Param(parent='LogisticRegression_4d0a21af5fff', name='regParam', doc='regularization parameter (>= 0).'): 1.0,\n",
              "   Param(parent='LogisticRegression_4d0a21af5fff', name='elasticNetParam', doc='the ElasticNet mixing parameter, in range [0, 1]. For alpha = 0, the penalty is an L2 penalty. For alpha = 1, it is an L1 penalty.'): 1.0,\n",
              "   Param(parent='LogisticRegression_4d0a21af5fff', name='maxIter', doc='max number of iterations (>= 0).'): 500}),\n",
              " (0.5,\n",
              "  {Param(parent='LogisticRegression_4d0a21af5fff', name='regParam', doc='regularization parameter (>= 0).'): 1.0,\n",
              "   Param(parent='LogisticRegression_4d0a21af5fff', name='elasticNetParam', doc='the ElasticNet mixing parameter, in range [0, 1]. For alpha = 0, the penalty is an L2 penalty. For alpha = 1, it is an L1 penalty.'): 1.0,\n",
              "   Param(parent='LogisticRegression_4d0a21af5fff', name='maxIter', doc='max number of iterations (>= 0).'): 1000})]"
            ]
          },
          "execution_count": 21,
          "metadata": {},
          "output_type": "execute_result"
        }
      ],
      "source": [
        "# View all results (AUROC) by each params\n",
        "list(zip(pipelineModel_lr_hpo.avgMetrics, \n",
        "         pipelineModel_lr_hpo.getEstimatorParamMaps()))"
      ]
    },
    {
      "cell_type": "code",
      "execution_count": null,
      "metadata": {
        "colab": {
          "base_uri": "https://localhost:8080/"
        },
        "id": "Xb1tnUQuKnr8",
        "outputId": "72ac6717-b758-46b1-a63c-3a276f740992"
      },
      "outputs": [
        {
          "name": "stdout",
          "output_type": "stream",
          "text": [
            "GridSearchCV: Logistic Regression\n",
            "Area under ROC curve: 0.971642\n",
            "Test Error: 0.028358 \n",
            "Accuracy: 0.9740423101557785\n"
          ]
        }
      ],
      "source": [
        "# Predict and find AUROC, test error and accuracy\n",
        "prediction_lr = pipelineModel_lr_hpo.transform(testDF) \n",
        "\n",
        "lr_auroc = evaluator_auroc.evaluate(prediction_lr)\n",
        "print('GridSearchCV: Logistic Regression')\n",
        "print('Area under ROC curve: %g' % (lr_auroc))\n",
        "print('Test Error: %g ' % (1.0 - lr_auroc))\n",
        "print('Accuracy:', evaluator_acc.evaluate(prediction_lr)) "
      ]
    },
    {
      "cell_type": "code",
      "execution_count": null,
      "metadata": {
        "id": "VJVaEeixZQpy",
        "outputId": "1fe79ac3-12d4-45ef-935e-c8c5bdd2a19d",
        "scrolled": true,
        "tags": []
      },
      "outputs": [
        {
          "data": {
            "text/plain": [
              "{Param(parent='LogisticRegression_4d0a21af5fff', name='aggregationDepth', doc='suggested depth for treeAggregate (>= 2).'): 2,\n",
              " Param(parent='LogisticRegression_4d0a21af5fff', name='elasticNetParam', doc='the ElasticNet mixing parameter, in range [0, 1]. For alpha = 0, the penalty is an L2 penalty. For alpha = 1, it is an L1 penalty.'): 1.0,\n",
              " Param(parent='LogisticRegression_4d0a21af5fff', name='family', doc='The name of family which is a description of the label distribution to be used in the model. Supported options: auto, binomial, multinomial'): 'binomial',\n",
              " Param(parent='LogisticRegression_4d0a21af5fff', name='featuresCol', doc='features column name.'): 'scaledFeatures',\n",
              " Param(parent='LogisticRegression_4d0a21af5fff', name='fitIntercept', doc='whether to fit an intercept term.'): True,\n",
              " Param(parent='LogisticRegression_4d0a21af5fff', name='labelCol', doc='label column name.'): 'label',\n",
              " Param(parent='LogisticRegression_4d0a21af5fff', name='maxBlockSizeInMB', doc='maximum memory in MB for stacking input data into blocks. Data is stacked within partitions. If more than remaining data size in a partition then it is adjusted to the data size. Default 0.0 represents choosing optimal value, depends on specific algorithm. Must be >= 0.'): 0.0,\n",
              " Param(parent='LogisticRegression_4d0a21af5fff', name='maxIter', doc='max number of iterations (>= 0).'): 500,\n",
              " Param(parent='LogisticRegression_4d0a21af5fff', name='predictionCol', doc='prediction column name.'): 'prediction',\n",
              " Param(parent='LogisticRegression_4d0a21af5fff', name='probabilityCol', doc='Column name for predicted class conditional probabilities. Note: Not all models output well-calibrated probability estimates! These probabilities should be treated as confidences, not precise probabilities.'): 'probability',\n",
              " Param(parent='LogisticRegression_4d0a21af5fff', name='rawPredictionCol', doc='raw prediction (a.k.a. confidence) column name.'): 'rawPrediction',\n",
              " Param(parent='LogisticRegression_4d0a21af5fff', name='regParam', doc='regularization parameter (>= 0).'): 0.01,\n",
              " Param(parent='LogisticRegression_4d0a21af5fff', name='standardization', doc='whether to standardize the training features before fitting the model.'): True,\n",
              " Param(parent='LogisticRegression_4d0a21af5fff', name='threshold', doc='Threshold in binary classification prediction, in range [0, 1]. If threshold and thresholds are both set, they must match.e.g. if threshold is p, then thresholds must be equal to [1-p, p].'): 0.5,\n",
              " Param(parent='LogisticRegression_4d0a21af5fff', name='tol', doc='the convergence tolerance for iterative algorithms (>= 0).'): 1e-06}"
            ]
          },
          "execution_count": 23,
          "metadata": {},
          "output_type": "execute_result"
        }
      ],
      "source": [
        "# Extract info from pipeline\n",
        "pipelineModel_lr_hpo.bestModel.stages[-1].extractParamMap()"
      ]
    },
    {
      "cell_type": "code",
      "execution_count": null,
      "metadata": {
        "id": "0SWe6L10ZQp2",
        "outputId": "9d733b85-dd93-4c17-9e19-62aff836f3ce",
        "scrolled": true,
        "tags": []
      },
      "outputs": [
        {
          "name": "stdout",
          "output_type": "stream",
          "text": [
            "PipelineModel_f4604ac309f8\n",
            "\n",
            "\n",
            "LogisticRegressionModel: uid=LogisticRegression_4d0a21af5fff, numClasses=2, numFeatures=50\n",
            "\n",
            "\n",
            "{Param(parent='LogisticRegression_4d0a21af5fff', name='aggregationDepth', doc='suggested depth for treeAggregate (>= 2).'): 2, Param(parent='LogisticRegression_4d0a21af5fff', name='elasticNetParam', doc='the ElasticNet mixing parameter, in range [0, 1]. For alpha = 0, the penalty is an L2 penalty. For alpha = 1, it is an L1 penalty.'): 1.0, Param(parent='LogisticRegression_4d0a21af5fff', name='family', doc='The name of family which is a description of the label distribution to be used in the model. Supported options: auto, binomial, multinomial'): 'binomial', Param(parent='LogisticRegression_4d0a21af5fff', name='featuresCol', doc='features column name.'): 'scaledFeatures', Param(parent='LogisticRegression_4d0a21af5fff', name='fitIntercept', doc='whether to fit an intercept term.'): True, Param(parent='LogisticRegression_4d0a21af5fff', name='labelCol', doc='label column name.'): 'label', Param(parent='LogisticRegression_4d0a21af5fff', name='maxBlockSizeInMB', doc='maximum memory in MB for stacking input data into blocks. Data is stacked within partitions. If more than remaining data size in a partition then it is adjusted to the data size. Default 0.0 represents choosing optimal value, depends on specific algorithm. Must be >= 0.'): 0.0, Param(parent='LogisticRegression_4d0a21af5fff', name='maxIter', doc='max number of iterations (>= 0).'): 500, Param(parent='LogisticRegression_4d0a21af5fff', name='predictionCol', doc='prediction column name.'): 'prediction', Param(parent='LogisticRegression_4d0a21af5fff', name='probabilityCol', doc='Column name for predicted class conditional probabilities. Note: Not all models output well-calibrated probability estimates! These probabilities should be treated as confidences, not precise probabilities.'): 'probability', Param(parent='LogisticRegression_4d0a21af5fff', name='rawPredictionCol', doc='raw prediction (a.k.a. confidence) column name.'): 'rawPrediction', Param(parent='LogisticRegression_4d0a21af5fff', name='regParam', doc='regularization parameter (>= 0).'): 0.01, Param(parent='LogisticRegression_4d0a21af5fff', name='standardization', doc='whether to standardize the training features before fitting the model.'): True, Param(parent='LogisticRegression_4d0a21af5fff', name='threshold', doc='Threshold in binary classification prediction, in range [0, 1]. If threshold and thresholds are both set, they must match.e.g. if threshold is p, then thresholds must be equal to [1-p, p].'): 0.5, Param(parent='LogisticRegression_4d0a21af5fff', name='tol', doc='the convergence tolerance for iterative algorithms (>= 0).'): 1e-06}\n"
          ]
        }
      ],
      "source": [
        "# Find best model and params\n",
        "bestPipeline = pipelineModel_lr_hpo\n",
        "bestModel = bestPipeline.stages[-1]\n",
        "bestParams = bestModel.extractParamMap()\n",
        "print(bestPipeline)\n",
        "print('\\n')\n",
        "print(bestModel)\n",
        "print('\\n')\n",
        "print(bestParams)"
      ]
    },
    {
      "cell_type": "code",
      "execution_count": null,
      "metadata": {
        "id": "4P5pg1G1ZQp4",
        "outputId": "5566319a-e285-42bc-ab96-8e10471ca3ee"
      },
      "outputs": [
        {
          "name": "stdout",
          "output_type": "stream",
          "text": [
            "0.01\n",
            "1.0\n",
            "500\n"
          ]
        }
      ],
      "source": [
        "# Find best model and params\n",
        "best_mod = pipelineModel_lr_hpo\n",
        "param_dict = best_mod.stages[-1].extractParamMap()\n",
        "sane_dict = {}\n",
        "for k, v in param_dict.items():\n",
        "  sane_dict[k.name] = v\n",
        "\n",
        "best_reg = sane_dict['regParam']\n",
        "best_elastic_net = sane_dict['elasticNetParam']\n",
        "best_max_iter = sane_dict['maxIter']\n",
        "print(best_reg)\n",
        "print(best_elastic_net)\n",
        "print(best_max_iter)"
      ]
    },
    {
      "cell_type": "markdown",
      "metadata": {
        "id": "I7PzAFouZQp5"
      },
      "source": [
        "### LinearSVC "
      ]
    },
    {
      "cell_type": "code",
      "execution_count": null,
      "metadata": {
        "id": "CaOldvv5ZQp7"
      },
      "outputs": [],
      "source": [
        "# Set up pipeline\n",
        "model = LinearSVC(featuresCol='scaledFeatures', \n",
        "                  labelCol='label')\n",
        "\n",
        "pipeline_lsvc_hpo = Pipeline(stages=[stdScaler, model])"
      ]
    },
    {
      "cell_type": "code",
      "execution_count": null,
      "metadata": {
        "id": "b22n5SXTZQp7"
      },
      "outputs": [],
      "source": [
        "# Create parameter grid\n",
        "paramGrid = (ParamGridBuilder()\n",
        "            .addGrid(model.regParam, [0.0, 0.01, 0.1, 1.0])\n",
        "            .addGrid(model.tol, [1e-7, 1e-6, 1e-5])\n",
        "            .addGrid(model.maxIter, [100, 300])\n",
        "            .build())"
      ]
    },
    {
      "cell_type": "code",
      "execution_count": null,
      "metadata": {
        "id": "VMJLgHWgZQp8"
      },
      "outputs": [],
      "source": [
        "# Define type of cross-validation\n",
        "cv = CrossValidator(estimator=pipeline_lsvc_hpo,\n",
        "                    estimatorParamMaps=paramGrid,\n",
        "                    evaluator=evaluator_auroc,\n",
        "                    numFolds=5, parallelism=5)"
      ]
    },
    {
      "cell_type": "code",
      "execution_count": null,
      "metadata": {
        "id": "597ATcQWZQp9",
        "outputId": "147e9d6d-a6e3-4da7-e5aa-ef2653628f4c"
      },
      "outputs": [
        {
          "name": "stderr",
          "output_type": "stream",
          "text": [
            "2022/09/12 12:38:27 INFO mlflow.utils.autologging_utils: Created MLflow autologging run with ID '56d154c66eee40eaadc3a1263e78b2c4', which will track hyperparameters, performance metrics, model artifacts, and lineage information for the current pyspark.ml workflow\n",
            "2022/09/12 15:21:41 WARNING mlflow.pyspark.ml: Model inputs contain unsupported Spark data types: [StructField('unscaledFeatures', VectorUDT(), True)]. Model signature is not logged.\n",
            "Current mem limits: -1 of max -1\n",
            "\n",
            "Setting mem limits to 3758096384 of max 3758096384\n",
            "\n"
          ]
        },
        {
          "name": "stdout",
          "output_type": "stream",
          "text": [
            "Time to perform GridSearchCV: 9819.757190227509\n"
          ]
        },
        {
          "name": "stderr",
          "output_type": "stream",
          "text": [
            "                                                                                \r"
          ]
        }
      ],
      "source": [
        "# Start timer for experiment\n",
        "search_time_start = time.time()\n",
        "\n",
        "# Run HPO \n",
        "pipelineModel_lsvc_hpo = cv.fit(trainDF)\n",
        "\n",
        "# End timer for experiment\n",
        "print('Time to perform GridSearchCV:', time.time() - search_time_start)\n",
        "\n",
        "# Save best model\n",
        "lsvc_grid = pipelineModel_lsvc_hpo.bestModel\n",
        "lsvc_grid.save('/content/drive/MyDrive/LoanStatus/Python/Models/ML/SparkML/Models/GridSearchCV/pipelineModel_lsvc_us_hpo_grid')"
      ]
    },
    {
      "cell_type": "code",
      "execution_count": null,
      "metadata": {
        "id": "6HlCR9CPZQp9",
        "outputId": "52d15256-67a6-4074-96c9-53443fc06994"
      },
      "outputs": [
        {
          "name": "stdout",
          "output_type": "stream",
          "text": [
            "{Param(parent='LinearSVC_c2ed4210f380', name='regParam', doc='regularization parameter (>= 0).'): 0.0, Param(parent='LinearSVC_c2ed4210f380', name='tol', doc='the convergence tolerance for iterative algorithms (>= 0).'): 1e-05, Param(parent='LinearSVC_c2ed4210f380', name='maxIter', doc='max number of iterations (>= 0).'): 300}\n"
          ]
        }
      ],
      "source": [
        "# Find best parameters\n",
        "print(pipelineModel_lsvc_hpo.getEstimatorParamMaps()[np.argmax(pipelineModel_lsvc_hpo.avgMetrics)])"
      ]
    },
    {
      "cell_type": "code",
      "execution_count": null,
      "metadata": {
        "id": "8nZh-bHPZQp-",
        "outputId": "d954a99a-de06-4e79-eab8-949bce31ff9b",
        "scrolled": true,
        "tags": []
      },
      "outputs": [
        {
          "data": {
            "text/plain": [
              "[(0.9783146147640279,\n",
              "  {Param(parent='LinearSVC_c2ed4210f380', name='regParam', doc='regularization parameter (>= 0).'): 0.0,\n",
              "   Param(parent='LinearSVC_c2ed4210f380', name='tol', doc='the convergence tolerance for iterative algorithms (>= 0).'): 1e-07,\n",
              "   Param(parent='LinearSVC_c2ed4210f380', name='maxIter', doc='max number of iterations (>= 0).'): 100}),\n",
              " (0.9796118797468962,\n",
              "  {Param(parent='LinearSVC_c2ed4210f380', name='regParam', doc='regularization parameter (>= 0).'): 0.0,\n",
              "   Param(parent='LinearSVC_c2ed4210f380', name='tol', doc='the convergence tolerance for iterative algorithms (>= 0).'): 1e-07,\n",
              "   Param(parent='LinearSVC_c2ed4210f380', name='maxIter', doc='max number of iterations (>= 0).'): 300}),\n",
              " (0.9783147754918609,\n",
              "  {Param(parent='LinearSVC_c2ed4210f380', name='regParam', doc='regularization parameter (>= 0).'): 0.0,\n",
              "   Param(parent='LinearSVC_c2ed4210f380', name='tol', doc='the convergence tolerance for iterative algorithms (>= 0).'): 1e-06,\n",
              "   Param(parent='LinearSVC_c2ed4210f380', name='maxIter', doc='max number of iterations (>= 0).'): 100}),\n",
              " (0.9796120514421668,\n",
              "  {Param(parent='LinearSVC_c2ed4210f380', name='regParam', doc='regularization parameter (>= 0).'): 0.0,\n",
              "   Param(parent='LinearSVC_c2ed4210f380', name='tol', doc='the convergence tolerance for iterative algorithms (>= 0).'): 1e-06,\n",
              "   Param(parent='LinearSVC_c2ed4210f380', name='maxIter', doc='max number of iterations (>= 0).'): 300}),\n",
              " (0.9783147128932607,\n",
              "  {Param(parent='LinearSVC_c2ed4210f380', name='regParam', doc='regularization parameter (>= 0).'): 0.0,\n",
              "   Param(parent='LinearSVC_c2ed4210f380', name='tol', doc='the convergence tolerance for iterative algorithms (>= 0).'): 1e-05,\n",
              "   Param(parent='LinearSVC_c2ed4210f380', name='maxIter', doc='max number of iterations (>= 0).'): 100}),\n",
              " (0.97961209104218,\n",
              "  {Param(parent='LinearSVC_c2ed4210f380', name='regParam', doc='regularization parameter (>= 0).'): 0.0,\n",
              "   Param(parent='LinearSVC_c2ed4210f380', name='tol', doc='the convergence tolerance for iterative algorithms (>= 0).'): 1e-05,\n",
              "   Param(parent='LinearSVC_c2ed4210f380', name='maxIter', doc='max number of iterations (>= 0).'): 300}),\n",
              " (0.9725050301441923,\n",
              "  {Param(parent='LinearSVC_c2ed4210f380', name='regParam', doc='regularization parameter (>= 0).'): 0.01,\n",
              "   Param(parent='LinearSVC_c2ed4210f380', name='tol', doc='the convergence tolerance for iterative algorithms (>= 0).'): 1e-07,\n",
              "   Param(parent='LinearSVC_c2ed4210f380', name='maxIter', doc='max number of iterations (>= 0).'): 100}),\n",
              " (0.9725180810671461,\n",
              "  {Param(parent='LinearSVC_c2ed4210f380', name='regParam', doc='regularization parameter (>= 0).'): 0.01,\n",
              "   Param(parent='LinearSVC_c2ed4210f380', name='tol', doc='the convergence tolerance for iterative algorithms (>= 0).'): 1e-07,\n",
              "   Param(parent='LinearSVC_c2ed4210f380', name='maxIter', doc='max number of iterations (>= 0).'): 300}),\n",
              " (0.9725051786525523,\n",
              "  {Param(parent='LinearSVC_c2ed4210f380', name='regParam', doc='regularization parameter (>= 0).'): 0.01,\n",
              "   Param(parent='LinearSVC_c2ed4210f380', name='tol', doc='the convergence tolerance for iterative algorithms (>= 0).'): 1e-06,\n",
              "   Param(parent='LinearSVC_c2ed4210f380', name='maxIter', doc='max number of iterations (>= 0).'): 100}),\n",
              " (0.9725106486066663,\n",
              "  {Param(parent='LinearSVC_c2ed4210f380', name='regParam', doc='regularization parameter (>= 0).'): 0.01,\n",
              "   Param(parent='LinearSVC_c2ed4210f380', name='tol', doc='the convergence tolerance for iterative algorithms (>= 0).'): 1e-06,\n",
              "   Param(parent='LinearSVC_c2ed4210f380', name='maxIter', doc='max number of iterations (>= 0).'): 300}),\n",
              " (0.9724783523048162,\n",
              "  {Param(parent='LinearSVC_c2ed4210f380', name='regParam', doc='regularization parameter (>= 0).'): 0.01,\n",
              "   Param(parent='LinearSVC_c2ed4210f380', name='tol', doc='the convergence tolerance for iterative algorithms (>= 0).'): 1e-05,\n",
              "   Param(parent='LinearSVC_c2ed4210f380', name='maxIter', doc='max number of iterations (>= 0).'): 100}),\n",
              " (0.9724787037646128,\n",
              "  {Param(parent='LinearSVC_c2ed4210f380', name='regParam', doc='regularization parameter (>= 0).'): 0.01,\n",
              "   Param(parent='LinearSVC_c2ed4210f380', name='tol', doc='the convergence tolerance for iterative algorithms (>= 0).'): 1e-05,\n",
              "   Param(parent='LinearSVC_c2ed4210f380', name='maxIter', doc='max number of iterations (>= 0).'): 300}),\n",
              " (0.9545601833344278,\n",
              "  {Param(parent='LinearSVC_c2ed4210f380', name='regParam', doc='regularization parameter (>= 0).'): 0.1,\n",
              "   Param(parent='LinearSVC_c2ed4210f380', name='tol', doc='the convergence tolerance for iterative algorithms (>= 0).'): 1e-07,\n",
              "   Param(parent='LinearSVC_c2ed4210f380', name='maxIter', doc='max number of iterations (>= 0).'): 100}),\n",
              " (0.9545597951819126,\n",
              "  {Param(parent='LinearSVC_c2ed4210f380', name='regParam', doc='regularization parameter (>= 0).'): 0.1,\n",
              "   Param(parent='LinearSVC_c2ed4210f380', name='tol', doc='the convergence tolerance for iterative algorithms (>= 0).'): 1e-07,\n",
              "   Param(parent='LinearSVC_c2ed4210f380', name='maxIter', doc='max number of iterations (>= 0).'): 300}),\n",
              " (0.9545597813610609,\n",
              "  {Param(parent='LinearSVC_c2ed4210f380', name='regParam', doc='regularization parameter (>= 0).'): 0.1,\n",
              "   Param(parent='LinearSVC_c2ed4210f380', name='tol', doc='the convergence tolerance for iterative algorithms (>= 0).'): 1e-06,\n",
              "   Param(parent='LinearSVC_c2ed4210f380', name='maxIter', doc='max number of iterations (>= 0).'): 100}),\n",
              " (0.9545598561292193,\n",
              "  {Param(parent='LinearSVC_c2ed4210f380', name='regParam', doc='regularization parameter (>= 0).'): 0.1,\n",
              "   Param(parent='LinearSVC_c2ed4210f380', name='tol', doc='the convergence tolerance for iterative algorithms (>= 0).'): 1e-06,\n",
              "   Param(parent='LinearSVC_c2ed4210f380', name='maxIter', doc='max number of iterations (>= 0).'): 300}),\n",
              " (0.9545595450511243,\n",
              "  {Param(parent='LinearSVC_c2ed4210f380', name='regParam', doc='regularization parameter (>= 0).'): 0.1,\n",
              "   Param(parent='LinearSVC_c2ed4210f380', name='tol', doc='the convergence tolerance for iterative algorithms (>= 0).'): 1e-05,\n",
              "   Param(parent='LinearSVC_c2ed4210f380', name='maxIter', doc='max number of iterations (>= 0).'): 100}),\n",
              " (0.9545598328887536,\n",
              "  {Param(parent='LinearSVC_c2ed4210f380', name='regParam', doc='regularization parameter (>= 0).'): 0.1,\n",
              "   Param(parent='LinearSVC_c2ed4210f380', name='tol', doc='the convergence tolerance for iterative algorithms (>= 0).'): 1e-05,\n",
              "   Param(parent='LinearSVC_c2ed4210f380', name='maxIter', doc='max number of iterations (>= 0).'): 300}),\n",
              " (0.8841938030478234,\n",
              "  {Param(parent='LinearSVC_c2ed4210f380', name='regParam', doc='regularization parameter (>= 0).'): 1.0,\n",
              "   Param(parent='LinearSVC_c2ed4210f380', name='tol', doc='the convergence tolerance for iterative algorithms (>= 0).'): 1e-07,\n",
              "   Param(parent='LinearSVC_c2ed4210f380', name='maxIter', doc='max number of iterations (>= 0).'): 100}),\n",
              " (0.8841940822205135,\n",
              "  {Param(parent='LinearSVC_c2ed4210f380', name='regParam', doc='regularization parameter (>= 0).'): 1.0,\n",
              "   Param(parent='LinearSVC_c2ed4210f380', name='tol', doc='the convergence tolerance for iterative algorithms (>= 0).'): 1e-07,\n",
              "   Param(parent='LinearSVC_c2ed4210f380', name='maxIter', doc='max number of iterations (>= 0).'): 300}),\n",
              " (0.8841939197429932,\n",
              "  {Param(parent='LinearSVC_c2ed4210f380', name='regParam', doc='regularization parameter (>= 0).'): 1.0,\n",
              "   Param(parent='LinearSVC_c2ed4210f380', name='tol', doc='the convergence tolerance for iterative algorithms (>= 0).'): 1e-06,\n",
              "   Param(parent='LinearSVC_c2ed4210f380', name='maxIter', doc='max number of iterations (>= 0).'): 100}),\n",
              " (0.8841939947235031,\n",
              "  {Param(parent='LinearSVC_c2ed4210f380', name='regParam', doc='regularization parameter (>= 0).'): 1.0,\n",
              "   Param(parent='LinearSVC_c2ed4210f380', name='tol', doc='the convergence tolerance for iterative algorithms (>= 0).'): 1e-06,\n",
              "   Param(parent='LinearSVC_c2ed4210f380', name='maxIter', doc='max number of iterations (>= 0).'): 300}),\n",
              " (0.8841940974896115,\n",
              "  {Param(parent='LinearSVC_c2ed4210f380', name='regParam', doc='regularization parameter (>= 0).'): 1.0,\n",
              "   Param(parent='LinearSVC_c2ed4210f380', name='tol', doc='the convergence tolerance for iterative algorithms (>= 0).'): 1e-05,\n",
              "   Param(parent='LinearSVC_c2ed4210f380', name='maxIter', doc='max number of iterations (>= 0).'): 100}),\n",
              " (0.8841935901772896,\n",
              "  {Param(parent='LinearSVC_c2ed4210f380', name='regParam', doc='regularization parameter (>= 0).'): 1.0,\n",
              "   Param(parent='LinearSVC_c2ed4210f380', name='tol', doc='the convergence tolerance for iterative algorithms (>= 0).'): 1e-05,\n",
              "   Param(parent='LinearSVC_c2ed4210f380', name='maxIter', doc='max number of iterations (>= 0).'): 300})]"
            ]
          },
          "execution_count": 38,
          "metadata": {},
          "output_type": "execute_result"
        }
      ],
      "source": [
        "# View all results (AUROC) by each params\n",
        "list(zip(pipelineModel_lsvc_hpo.avgMetrics, \n",
        "         pipelineModel_lsvc_hpo.getEstimatorParamMaps()))"
      ]
    },
    {
      "cell_type": "code",
      "execution_count": null,
      "metadata": {
        "colab": {
          "base_uri": "https://localhost:8080/"
        },
        "id": "NCHqrXV_JVIZ",
        "outputId": "14d233fa-8709-46d5-9838-dbf6909197a2"
      },
      "outputs": [
        {
          "name": "stdout",
          "output_type": "stream",
          "text": [
            "GridSearchCV: LinearSVC\n",
            "Area under ROC curve: 0.980204\n",
            "Test Error: 0.019796\n",
            "Accuracy:  0.9816335355039505\n"
          ]
        }
      ],
      "source": [
        "# Predict and find AUROC, test error and accuracy\n",
        "prediction_lsvc = pipelineModel_lsvc_hpo.transform(testDF) \n",
        "\n",
        "lsvc_auroc = evaluator_auroc.evaluate(prediction_lsvc)\n",
        "print('GridSearchCV: LinearSVC')\n",
        "print('Area under ROC curve: %g' % (lsvc_auroc))\n",
        "print('Test Error: %g' % (1.0 - lsvc_auroc))\n",
        "print('Accuracy: ', evaluator_acc.evaluate(prediction_lsvc)) "
      ]
    },
    {
      "cell_type": "code",
      "execution_count": null,
      "metadata": {
        "id": "v5pK3zRkZQp_",
        "outputId": "4db52a3f-0719-4c3b-c1b1-958433969269",
        "scrolled": true,
        "tags": []
      },
      "outputs": [
        {
          "data": {
            "text/plain": [
              "{Param(parent='LinearSVC_c2ed4210f380', name='aggregationDepth', doc='suggested depth for treeAggregate (>= 2).'): 2,\n",
              " Param(parent='LinearSVC_c2ed4210f380', name='featuresCol', doc='features column name.'): 'scaledFeatures',\n",
              " Param(parent='LinearSVC_c2ed4210f380', name='fitIntercept', doc='whether to fit an intercept term.'): True,\n",
              " Param(parent='LinearSVC_c2ed4210f380', name='labelCol', doc='label column name.'): 'label',\n",
              " Param(parent='LinearSVC_c2ed4210f380', name='maxBlockSizeInMB', doc='maximum memory in MB for stacking input data into blocks. Data is stacked within partitions. If more than remaining data size in a partition then it is adjusted to the data size. Default 0.0 represents choosing optimal value, depends on specific algorithm. Must be >= 0.'): 0.0,\n",
              " Param(parent='LinearSVC_c2ed4210f380', name='maxIter', doc='max number of iterations (>= 0).'): 300,\n",
              " Param(parent='LinearSVC_c2ed4210f380', name='predictionCol', doc='prediction column name.'): 'prediction',\n",
              " Param(parent='LinearSVC_c2ed4210f380', name='rawPredictionCol', doc='raw prediction (a.k.a. confidence) column name.'): 'rawPrediction',\n",
              " Param(parent='LinearSVC_c2ed4210f380', name='regParam', doc='regularization parameter (>= 0).'): 0.0,\n",
              " Param(parent='LinearSVC_c2ed4210f380', name='standardization', doc='whether to standardize the training features before fitting the model.'): True,\n",
              " Param(parent='LinearSVC_c2ed4210f380', name='threshold', doc='The threshold in binary classification applied to the linear model prediction.  This threshold can be any real number, where Inf will make all predictions 0.0 and -Inf will make all predictions 1.0.'): 0.0,\n",
              " Param(parent='LinearSVC_c2ed4210f380', name='tol', doc='the convergence tolerance for iterative algorithms (>= 0).'): 1e-05}"
            ]
          },
          "execution_count": 40,
          "metadata": {},
          "output_type": "execute_result"
        }
      ],
      "source": [
        "# Extract info from pipeline\n",
        "pipelineModel_lsvc_hpo.bestModel.stages[-1].extractParamMap()"
      ]
    },
    {
      "cell_type": "code",
      "execution_count": null,
      "metadata": {
        "id": "aFSXd_PnZQp_",
        "outputId": "f2bcfbbb-ad97-43e3-8c1b-85e40da75241",
        "scrolled": true,
        "tags": []
      },
      "outputs": [
        {
          "name": "stdout",
          "output_type": "stream",
          "text": [
            "PipelineModel_62ae7594223e\n",
            "\n",
            "\n",
            "LinearSVCModel: uid=LinearSVC_c2ed4210f380, numClasses=2, numFeatures=50\n",
            "\n",
            "\n",
            "{Param(parent='LinearSVC_c2ed4210f380', name='aggregationDepth', doc='suggested depth for treeAggregate (>= 2).'): 2, Param(parent='LinearSVC_c2ed4210f380', name='featuresCol', doc='features column name.'): 'scaledFeatures', Param(parent='LinearSVC_c2ed4210f380', name='fitIntercept', doc='whether to fit an intercept term.'): True, Param(parent='LinearSVC_c2ed4210f380', name='labelCol', doc='label column name.'): 'label', Param(parent='LinearSVC_c2ed4210f380', name='maxBlockSizeInMB', doc='maximum memory in MB for stacking input data into blocks. Data is stacked within partitions. If more than remaining data size in a partition then it is adjusted to the data size. Default 0.0 represents choosing optimal value, depends on specific algorithm. Must be >= 0.'): 0.0, Param(parent='LinearSVC_c2ed4210f380', name='maxIter', doc='max number of iterations (>= 0).'): 300, Param(parent='LinearSVC_c2ed4210f380', name='predictionCol', doc='prediction column name.'): 'prediction', Param(parent='LinearSVC_c2ed4210f380', name='rawPredictionCol', doc='raw prediction (a.k.a. confidence) column name.'): 'rawPrediction', Param(parent='LinearSVC_c2ed4210f380', name='regParam', doc='regularization parameter (>= 0).'): 0.0, Param(parent='LinearSVC_c2ed4210f380', name='standardization', doc='whether to standardize the training features before fitting the model.'): True, Param(parent='LinearSVC_c2ed4210f380', name='threshold', doc='The threshold in binary classification applied to the linear model prediction.  This threshold can be any real number, where Inf will make all predictions 0.0 and -Inf will make all predictions 1.0.'): 0.0, Param(parent='LinearSVC_c2ed4210f380', name='tol', doc='the convergence tolerance for iterative algorithms (>= 0).'): 1e-05}\n"
          ]
        }
      ],
      "source": [
        "# Find best model and params\n",
        "bestPipeline = pipelineModel_lsvc_hpo.bestModel\n",
        "bestModel = bestPipeline.stages[-1]\n",
        "bestParams = bestModel.extractParamMap()\n",
        "print(bestPipeline)\n",
        "print('\\n')\n",
        "print(bestModel)\n",
        "print('\\n')\n",
        "print(bestParams)"
      ]
    },
    {
      "cell_type": "code",
      "execution_count": null,
      "metadata": {
        "id": "5F95Rfj-ZQqA",
        "outputId": "18380a82-3025-4dd4-9dad-2fd58ffe9a67"
      },
      "outputs": [
        {
          "data": {
            "text/plain": [
              "{'aggregationDepth': 2,\n",
              " 'featuresCol': 'scaledFeatures',\n",
              " 'fitIntercept': True,\n",
              " 'labelCol': 'label',\n",
              " 'maxBlockSizeInMB': 0.0,\n",
              " 'maxIter': 300,\n",
              " 'predictionCol': 'prediction',\n",
              " 'rawPredictionCol': 'rawPrediction',\n",
              " 'regParam': 0.0,\n",
              " 'standardization': True,\n",
              " 'threshold': 0.0,\n",
              " 'tol': 1e-05}"
            ]
          },
          "execution_count": 42,
          "metadata": {},
          "output_type": "execute_result"
        }
      ],
      "source": [
        "# Find best params\n",
        "best_mod = pipelineModel_lsvc_hpo.bestModel\n",
        "param_dict = best_mod.stages[-1].extractParamMap()\n",
        "sane_dict = {}\n",
        "for k, v in param_dict.items():\n",
        "  sane_dict[k.name] = v\n",
        "sane_dict"
      ]
    },
    {
      "cell_type": "markdown",
      "metadata": {
        "id": "1LIMQ7CwPz6Q"
      },
      "source": [
        "### Decision Tree "
      ]
    },
    {
      "cell_type": "code",
      "execution_count": null,
      "metadata": {
        "id": "pL6XjQFezOsD"
      },
      "outputs": [],
      "source": [
        "# Set up pipeline \n",
        "model = DecisionTreeClassifier(labelCol='label', \n",
        "                               featuresCol='unscaledFeatures', \n",
        "                               impurity='gini',\n",
        "                               seed=seed_value)\n",
        "\t\t\t\t\t\n",
        "pipeline_dt_hpo = Pipeline(stages=[model])"
      ]
    },
    {
      "cell_type": "code",
      "execution_count": null,
      "metadata": {
        "id": "sd1b623szOsF"
      },
      "outputs": [],
      "source": [
        "# Create parameter grid\n",
        "paramGrid = (ParamGridBuilder() \n",
        "            .addGrid(model.maxDepth, [5, 10, 15])\n",
        "            .addGrid(model.maxBins, [32, 64])\n",
        "            .addGrid(model.impurity, ['gini', 'entropy'])\n",
        "            .build())"
      ]
    },
    {
      "cell_type": "code",
      "execution_count": null,
      "metadata": {
        "id": "V_Eq0keSzOsG"
      },
      "outputs": [],
      "source": [
        "# Define type of cross-validation\n",
        "cv = CrossValidator(estimator=pipeline_dt_hpo,\n",
        "                    estimatorParamMaps=paramGrid,\n",
        "                    evaluator=evaluator_auroc,\n",
        "                    numFolds=5, parallelism=5)"
      ]
    },
    {
      "cell_type": "code",
      "execution_count": null,
      "metadata": {
        "colab": {
          "base_uri": "https://localhost:8080/"
        },
        "id": "vVSoH95vypI0",
        "outputId": "254d2e1e-220c-4e9a-de34-e9eab94cfe4b"
      },
      "outputs": [
        {
          "name": "stderr",
          "output_type": "stream",
          "text": [
            "2022/10/12 01:31:56 INFO mlflow.utils.autologging_utils: Created MLflow autologging run with ID 'ef8a1c9742674a51b03b34455b038e9e', which will track hyperparameters, performance metrics, model artifacts, and lineage information for the current pyspark.ml workflow\n",
            "2022/10/12 02:05:03 WARNING mlflow.pyspark.ml: Model inputs contain unsupported Spark data types: [StructField(unscaledFeatures,VectorUDT,true)]. Model signature is not logged.\n"
          ]
        },
        {
          "name": "stdout",
          "output_type": "stream",
          "text": [
            "Time to perform GridSearchCV: 2050.343174934387\n"
          ]
        }
      ],
      "source": [
        "# Start timer for experiment\n",
        "search_time_start = time.time()\n",
        "\n",
        "# Run HPO\n",
        "pipelineModel_dt_hpo = cv.fit(trainDF)\n",
        "\n",
        "# End timer for experiment\n",
        "print('Time to perform GridSearchCV:', time.time() - search_time_start)\n",
        "\n",
        "# Save best model\n",
        "dt_grid = pipelineModel_dt_hpo.bestModel\n",
        "dt_grid.save('/content/drive/MyDrive/LoanStatus/Python/Models/ML/SparkML/Models/GridSearchCV/pipelineModel_dt_us_hpo_grid')"
      ]
    },
    {
      "cell_type": "code",
      "execution_count": null,
      "metadata": {
        "colab": {
          "base_uri": "https://localhost:8080/"
        },
        "id": "KNrSj_mLypI2",
        "outputId": "3c465920-1e07-41e4-d706-04503602c493",
        "scrolled": true,
        "tags": []
      },
      "outputs": [
        {
          "data": {
            "text/plain": [
              "[(0.9151874430963741,\n",
              "  {Param(parent='DecisionTreeClassifier_ac5c3fd4a7fb', name='maxDepth', doc='Maximum depth of the tree. (>= 0) E.g., depth 0 means 1 leaf node; depth 1 means 1 internal node + 2 leaf nodes. Must be in range [0, 30].'): 5,\n",
              "   Param(parent='DecisionTreeClassifier_ac5c3fd4a7fb', name='maxBins', doc='Max number of bins for discretizing continuous features.  Must be >=2 and >= number of categories for any categorical feature.'): 32,\n",
              "   Param(parent='DecisionTreeClassifier_ac5c3fd4a7fb', name='impurity', doc='Criterion used for information gain calculation (case-insensitive). Supported options: entropy, gini'): 'gini'}),\n",
              " (0.9405872852369355,\n",
              "  {Param(parent='DecisionTreeClassifier_ac5c3fd4a7fb', name='maxDepth', doc='Maximum depth of the tree. (>= 0) E.g., depth 0 means 1 leaf node; depth 1 means 1 internal node + 2 leaf nodes. Must be in range [0, 30].'): 5,\n",
              "   Param(parent='DecisionTreeClassifier_ac5c3fd4a7fb', name='maxBins', doc='Max number of bins for discretizing continuous features.  Must be >=2 and >= number of categories for any categorical feature.'): 32,\n",
              "   Param(parent='DecisionTreeClassifier_ac5c3fd4a7fb', name='impurity', doc='Criterion used for information gain calculation (case-insensitive). Supported options: entropy, gini'): 'entropy'}),\n",
              " (0.9376812078300015,\n",
              "  {Param(parent='DecisionTreeClassifier_ac5c3fd4a7fb', name='maxDepth', doc='Maximum depth of the tree. (>= 0) E.g., depth 0 means 1 leaf node; depth 1 means 1 internal node + 2 leaf nodes. Must be in range [0, 30].'): 5,\n",
              "   Param(parent='DecisionTreeClassifier_ac5c3fd4a7fb', name='maxBins', doc='Max number of bins for discretizing continuous features.  Must be >=2 and >= number of categories for any categorical feature.'): 64,\n",
              "   Param(parent='DecisionTreeClassifier_ac5c3fd4a7fb', name='impurity', doc='Criterion used for information gain calculation (case-insensitive). Supported options: entropy, gini'): 'gini'}),\n",
              " (0.9433408355282626,\n",
              "  {Param(parent='DecisionTreeClassifier_ac5c3fd4a7fb', name='maxDepth', doc='Maximum depth of the tree. (>= 0) E.g., depth 0 means 1 leaf node; depth 1 means 1 internal node + 2 leaf nodes. Must be in range [0, 30].'): 5,\n",
              "   Param(parent='DecisionTreeClassifier_ac5c3fd4a7fb', name='maxBins', doc='Max number of bins for discretizing continuous features.  Must be >=2 and >= number of categories for any categorical feature.'): 64,\n",
              "   Param(parent='DecisionTreeClassifier_ac5c3fd4a7fb', name='impurity', doc='Criterion used for information gain calculation (case-insensitive). Supported options: entropy, gini'): 'entropy'}),\n",
              " (0.9452057553520719,\n",
              "  {Param(parent='DecisionTreeClassifier_ac5c3fd4a7fb', name='maxDepth', doc='Maximum depth of the tree. (>= 0) E.g., depth 0 means 1 leaf node; depth 1 means 1 internal node + 2 leaf nodes. Must be in range [0, 30].'): 10,\n",
              "   Param(parent='DecisionTreeClassifier_ac5c3fd4a7fb', name='maxBins', doc='Max number of bins for discretizing continuous features.  Must be >=2 and >= number of categories for any categorical feature.'): 32,\n",
              "   Param(parent='DecisionTreeClassifier_ac5c3fd4a7fb', name='impurity', doc='Criterion used for information gain calculation (case-insensitive). Supported options: entropy, gini'): 'gini'}),\n",
              " (0.9409602700985289,\n",
              "  {Param(parent='DecisionTreeClassifier_ac5c3fd4a7fb', name='maxDepth', doc='Maximum depth of the tree. (>= 0) E.g., depth 0 means 1 leaf node; depth 1 means 1 internal node + 2 leaf nodes. Must be in range [0, 30].'): 10,\n",
              "   Param(parent='DecisionTreeClassifier_ac5c3fd4a7fb', name='maxBins', doc='Max number of bins for discretizing continuous features.  Must be >=2 and >= number of categories for any categorical feature.'): 32,\n",
              "   Param(parent='DecisionTreeClassifier_ac5c3fd4a7fb', name='impurity', doc='Criterion used for information gain calculation (case-insensitive). Supported options: entropy, gini'): 'entropy'}),\n",
              " (0.9433994453124207,\n",
              "  {Param(parent='DecisionTreeClassifier_ac5c3fd4a7fb', name='maxDepth', doc='Maximum depth of the tree. (>= 0) E.g., depth 0 means 1 leaf node; depth 1 means 1 internal node + 2 leaf nodes. Must be in range [0, 30].'): 10,\n",
              "   Param(parent='DecisionTreeClassifier_ac5c3fd4a7fb', name='maxBins', doc='Max number of bins for discretizing continuous features.  Must be >=2 and >= number of categories for any categorical feature.'): 64,\n",
              "   Param(parent='DecisionTreeClassifier_ac5c3fd4a7fb', name='impurity', doc='Criterion used for information gain calculation (case-insensitive). Supported options: entropy, gini'): 'gini'}),\n",
              " (0.9384279890897854,\n",
              "  {Param(parent='DecisionTreeClassifier_ac5c3fd4a7fb', name='maxDepth', doc='Maximum depth of the tree. (>= 0) E.g., depth 0 means 1 leaf node; depth 1 means 1 internal node + 2 leaf nodes. Must be in range [0, 30].'): 10,\n",
              "   Param(parent='DecisionTreeClassifier_ac5c3fd4a7fb', name='maxBins', doc='Max number of bins for discretizing continuous features.  Must be >=2 and >= number of categories for any categorical feature.'): 64,\n",
              "   Param(parent='DecisionTreeClassifier_ac5c3fd4a7fb', name='impurity', doc='Criterion used for information gain calculation (case-insensitive). Supported options: entropy, gini'): 'entropy'}),\n",
              " (0.9588777415219496,\n",
              "  {Param(parent='DecisionTreeClassifier_ac5c3fd4a7fb', name='maxDepth', doc='Maximum depth of the tree. (>= 0) E.g., depth 0 means 1 leaf node; depth 1 means 1 internal node + 2 leaf nodes. Must be in range [0, 30].'): 15,\n",
              "   Param(parent='DecisionTreeClassifier_ac5c3fd4a7fb', name='maxBins', doc='Max number of bins for discretizing continuous features.  Must be >=2 and >= number of categories for any categorical feature.'): 32,\n",
              "   Param(parent='DecisionTreeClassifier_ac5c3fd4a7fb', name='impurity', doc='Criterion used for information gain calculation (case-insensitive). Supported options: entropy, gini'): 'gini'}),\n",
              " (0.9631613618842892,\n",
              "  {Param(parent='DecisionTreeClassifier_ac5c3fd4a7fb', name='maxDepth', doc='Maximum depth of the tree. (>= 0) E.g., depth 0 means 1 leaf node; depth 1 means 1 internal node + 2 leaf nodes. Must be in range [0, 30].'): 15,\n",
              "   Param(parent='DecisionTreeClassifier_ac5c3fd4a7fb', name='maxBins', doc='Max number of bins for discretizing continuous features.  Must be >=2 and >= number of categories for any categorical feature.'): 32,\n",
              "   Param(parent='DecisionTreeClassifier_ac5c3fd4a7fb', name='impurity', doc='Criterion used for information gain calculation (case-insensitive). Supported options: entropy, gini'): 'entropy'}),\n",
              " (0.9581597131849752,\n",
              "  {Param(parent='DecisionTreeClassifier_ac5c3fd4a7fb', name='maxDepth', doc='Maximum depth of the tree. (>= 0) E.g., depth 0 means 1 leaf node; depth 1 means 1 internal node + 2 leaf nodes. Must be in range [0, 30].'): 15,\n",
              "   Param(parent='DecisionTreeClassifier_ac5c3fd4a7fb', name='maxBins', doc='Max number of bins for discretizing continuous features.  Must be >=2 and >= number of categories for any categorical feature.'): 64,\n",
              "   Param(parent='DecisionTreeClassifier_ac5c3fd4a7fb', name='impurity', doc='Criterion used for information gain calculation (case-insensitive). Supported options: entropy, gini'): 'gini'}),\n",
              " (0.9639765815702936,\n",
              "  {Param(parent='DecisionTreeClassifier_ac5c3fd4a7fb', name='maxDepth', doc='Maximum depth of the tree. (>= 0) E.g., depth 0 means 1 leaf node; depth 1 means 1 internal node + 2 leaf nodes. Must be in range [0, 30].'): 15,\n",
              "   Param(parent='DecisionTreeClassifier_ac5c3fd4a7fb', name='maxBins', doc='Max number of bins for discretizing continuous features.  Must be >=2 and >= number of categories for any categorical feature.'): 64,\n",
              "   Param(parent='DecisionTreeClassifier_ac5c3fd4a7fb', name='impurity', doc='Criterion used for information gain calculation (case-insensitive). Supported options: entropy, gini'): 'entropy'})]"
            ]
          },
          "execution_count": 23,
          "metadata": {},
          "output_type": "execute_result"
        }
      ],
      "source": [
        "# View all results (AUROC) by each params\n",
        "list(zip(pipelineModel_dt_hpo.avgMetrics, \n",
        "         pipelineModel_dt_hpo.getEstimatorParamMaps()))"
      ]
    },
    {
      "cell_type": "code",
      "execution_count": null,
      "metadata": {
        "colab": {
          "base_uri": "https://localhost:8080/"
        },
        "id": "mHKzChgaypI3",
        "outputId": "bc4da272-080a-49ed-8b88-fc23c011962f"
      },
      "outputs": [
        {
          "name": "stdout",
          "output_type": "stream",
          "text": [
            "GridSearchCV: Decision Tree\n",
            "Area under ROC curve: 0.960222\n",
            "Test Error: 0.039778 \n",
            "Accuracy: 0.9810508401680568\n"
          ]
        }
      ],
      "source": [
        "# Predict and find AUROC, test error and accuracy\n",
        "prediction_dt = pipelineModel_dt_hpo.transform(testDF) \n",
        "\n",
        "dt_auroc = evaluator_auroc.evaluate(prediction_dt)\n",
        "print('GridSearchCV: Decision Tree')\n",
        "print('Area under ROC curve: %g' % (dt_auroc))\n",
        "print('Test Error: %g '% (1.0 - dt_auroc))\n",
        "print('Accuracy:', evaluator_acc.evaluate(prediction_dt)) "
      ]
    },
    {
      "cell_type": "code",
      "execution_count": null,
      "metadata": {
        "colab": {
          "base_uri": "https://localhost:8080/"
        },
        "id": "3X0nEQsgypI4",
        "outputId": "2754920b-e728-4f63-a09a-c9d6f6e4119f",
        "scrolled": true,
        "tags": []
      },
      "outputs": [
        {
          "data": {
            "text/plain": [
              "{Param(parent='DecisionTreeClassifier_ac5c3fd4a7fb', name='cacheNodeIds', doc='If false, the algorithm will pass trees to executors to match instances with nodes. If true, the algorithm will cache node IDs for each instance. Caching can speed up training of deeper trees. Users can set how often should the cache be checkpointed or disable it by setting checkpointInterval.'): False,\n",
              " Param(parent='DecisionTreeClassifier_ac5c3fd4a7fb', name='checkpointInterval', doc='set checkpoint interval (>= 1) or disable checkpoint (-1). E.g. 10 means that the cache will get checkpointed every 10 iterations. Note: this setting will be ignored if the checkpoint directory is not set in the SparkContext.'): 10,\n",
              " Param(parent='DecisionTreeClassifier_ac5c3fd4a7fb', name='featuresCol', doc='features column name.'): 'unscaledFeatures',\n",
              " Param(parent='DecisionTreeClassifier_ac5c3fd4a7fb', name='impurity', doc='Criterion used for information gain calculation (case-insensitive). Supported options: entropy, gini'): 'entropy',\n",
              " Param(parent='DecisionTreeClassifier_ac5c3fd4a7fb', name='labelCol', doc='label column name.'): 'label',\n",
              " Param(parent='DecisionTreeClassifier_ac5c3fd4a7fb', name='leafCol', doc='Leaf indices column name. Predicted leaf index of each instance in each tree by preorder.'): '',\n",
              " Param(parent='DecisionTreeClassifier_ac5c3fd4a7fb', name='maxBins', doc='Max number of bins for discretizing continuous features.  Must be >=2 and >= number of categories for any categorical feature.'): 64,\n",
              " Param(parent='DecisionTreeClassifier_ac5c3fd4a7fb', name='maxDepth', doc='Maximum depth of the tree. (>= 0) E.g., depth 0 means 1 leaf node; depth 1 means 1 internal node + 2 leaf nodes. Must be in range [0, 30].'): 15,\n",
              " Param(parent='DecisionTreeClassifier_ac5c3fd4a7fb', name='maxMemoryInMB', doc='Maximum memory in MB allocated to histogram aggregation. If too small, then 1 node will be split per iteration, and its aggregates may exceed this size.'): 256,\n",
              " Param(parent='DecisionTreeClassifier_ac5c3fd4a7fb', name='minInfoGain', doc='Minimum information gain for a split to be considered at a tree node.'): 0.0,\n",
              " Param(parent='DecisionTreeClassifier_ac5c3fd4a7fb', name='minInstancesPerNode', doc='Minimum number of instances each child must have after split. If a split causes the left or right child to have fewer than minInstancesPerNode, the split will be discarded as invalid. Should be >= 1.'): 1,\n",
              " Param(parent='DecisionTreeClassifier_ac5c3fd4a7fb', name='minWeightFractionPerNode', doc='Minimum fraction of the weighted sample count that each child must have after split. If a split causes the fraction of the total weight in the left or right child to be less than minWeightFractionPerNode, the split will be discarded as invalid. Should be in interval [0.0, 0.5).'): 0.0,\n",
              " Param(parent='DecisionTreeClassifier_ac5c3fd4a7fb', name='predictionCol', doc='prediction column name.'): 'prediction',\n",
              " Param(parent='DecisionTreeClassifier_ac5c3fd4a7fb', name='probabilityCol', doc='Column name for predicted class conditional probabilities. Note: Not all models output well-calibrated probability estimates! These probabilities should be treated as confidences, not precise probabilities.'): 'probability',\n",
              " Param(parent='DecisionTreeClassifier_ac5c3fd4a7fb', name='rawPredictionCol', doc='raw prediction (a.k.a. confidence) column name.'): 'rawPrediction',\n",
              " Param(parent='DecisionTreeClassifier_ac5c3fd4a7fb', name='seed', doc='random seed.'): 42}"
            ]
          },
          "execution_count": 25,
          "metadata": {},
          "output_type": "execute_result"
        }
      ],
      "source": [
        "# Extract info from pipeline\n",
        "pipelineModel_dt_hpo.bestModel.stages[-1].extractParamMap()"
      ]
    },
    {
      "cell_type": "code",
      "execution_count": null,
      "metadata": {
        "colab": {
          "base_uri": "https://localhost:8080/"
        },
        "id": "C1OQluLQypI4",
        "outputId": "eb93edac-6043-41ab-aa82-9e67176f62df"
      },
      "outputs": [
        {
          "data": {
            "text/plain": [
              "{'cacheNodeIds': False,\n",
              " 'checkpointInterval': 10,\n",
              " 'featuresCol': 'unscaledFeatures',\n",
              " 'impurity': 'entropy',\n",
              " 'labelCol': 'label',\n",
              " 'leafCol': '',\n",
              " 'maxBins': 64,\n",
              " 'maxDepth': 15,\n",
              " 'maxMemoryInMB': 256,\n",
              " 'minInfoGain': 0.0,\n",
              " 'minInstancesPerNode': 1,\n",
              " 'minWeightFractionPerNode': 0.0,\n",
              " 'predictionCol': 'prediction',\n",
              " 'probabilityCol': 'probability',\n",
              " 'rawPredictionCol': 'rawPrediction',\n",
              " 'seed': 42}"
            ]
          },
          "execution_count": 26,
          "metadata": {},
          "output_type": "execute_result"
        }
      ],
      "source": [
        "# Find best model and params\n",
        "best_mod = pipelineModel_dt_hpo.bestModel\n",
        "param_dict = best_mod.stages[-1].extractParamMap()\n",
        "sane_dict = {}\n",
        "for k, v in param_dict.items():\n",
        "  sane_dict[k.name] = v\n",
        "sane_dict"
      ]
    },
    {
      "cell_type": "markdown",
      "metadata": {
        "id": "5FfLWa8dD7Nw"
      },
      "source": [
        "#### More Params"
      ]
    },
    {
      "cell_type": "code",
      "execution_count": null,
      "metadata": {
        "id": "cwxfzyEiUKkO"
      },
      "outputs": [],
      "source": [
        "# Create parameter grid\n",
        "paramGrid = (ParamGridBuilder() \n",
        "            .addGrid(model.maxDepth, [5, 10, 15, 20, 25, 30])\n",
        "            .addGrid(model.maxBins, [16, 32, 64, 128])\n",
        "            .addGrid(model.impurity, ['gini', 'entropy'])\n",
        "            .build())"
      ]
    },
    {
      "cell_type": "code",
      "execution_count": null,
      "metadata": {
        "id": "ljihtuYIUKkO"
      },
      "outputs": [],
      "source": [
        "# Define type of cross-validation\n",
        "cv = CrossValidator(estimator=pipeline_dt_hpo,\n",
        "                    estimatorParamMaps=paramGrid,\n",
        "                    evaluator=evaluator_auroc,\n",
        "                    numFolds=5, parallelism=5)"
      ]
    },
    {
      "cell_type": "code",
      "execution_count": null,
      "metadata": {
        "colab": {
          "base_uri": "https://localhost:8080/"
        },
        "id": "DSRNRnnyNp-U",
        "outputId": "7242afb6-ec7d-437d-c19c-874b7359b4e5"
      },
      "outputs": [
        {
          "name": "stdout",
          "output_type": "stream",
          "text": [
            "2022/10/11 20:06:20 INFO mlflow.utils.autologging_utils: Created MLflow autologging run with ID '16f3ab6981394684937bfbe077d94a3b', which will track hyperparameters, performance metrics, model artifacts, and lineage information for the current pyspark.ml workflow\n",
            "2022/10/12 00:39:34 WARNING mlflow.pyspark.ml: Model inputs contain unsupported Spark data types: [StructField(unscaledFeatures,VectorUDT,true)]. Model signature is not logged.\n",
            "2022/10/12 00:40:32 WARNING mlflow.utils.environment: Encountered an unexpected error while inferring pip requirements (model URI: /tmp/tmpw5ma7wul/model, flavor: spark), fall back to return ['pyspark==3.3.0']. Set logging level to DEBUG to see the full traceback.\n",
            "2022/10/12 00:41:15 WARNING mlflow.utils.environment: Encountered an unexpected error while inferring pip requirements (model URI: /tmp/tmp_7l_lw24/model, flavor: spark), fall back to return ['pyspark==3.3.0']. Set logging level to DEBUG to see the full traceback.\n",
            "Time to perform GridSearchCV: 16504.456658363342\n"
          ]
        }
      ],
      "source": [
        "# Start timer for experiment\n",
        "search_time_start = time.time()\n",
        "\n",
        "# Run HPO\n",
        "pipelineModel_dt_hpo = cv.fit(trainDF)\n",
        "\n",
        "# End timer for experiment\n",
        "print('Time to perform GridSearchCV:', time.time() - search_time_start)\n",
        "\n",
        "# Save best model\n",
        "dt_grid = pipelineModel_dt_hpo.bestModel\n",
        "dt_grid.save('/content/drive/MyDrive/LoanStatus/Python/Models/ML/SparkML/Models/GridSearchCV/pipelineModel_dt_us_hpo_grid_moreParams')"
      ]
    },
    {
      "cell_type": "code",
      "execution_count": null,
      "metadata": {
        "colab": {
          "base_uri": "https://localhost:8080/"
        },
        "id": "szI4c2JJnmXz",
        "outputId": "0419721b-d4f1-43fa-fb48-155fc721f476",
        "scrolled": true,
        "tags": []
      },
      "outputs": [
        {
          "data": {
            "text/plain": [
              "[(0.9138925723080326,\n",
              "  {Param(parent='DecisionTreeClassifier_a92c3021154f', name='maxDepth', doc='Maximum depth of the tree. (>= 0) E.g., depth 0 means 1 leaf node; depth 1 means 1 internal node + 2 leaf nodes. Must be in range [0, 30].'): 5,\n",
              "   Param(parent='DecisionTreeClassifier_a92c3021154f', name='maxBins', doc='Max number of bins for discretizing continuous features.  Must be >=2 and >= number of categories for any categorical feature.'): 16,\n",
              "   Param(parent='DecisionTreeClassifier_a92c3021154f', name='impurity', doc='Criterion used for information gain calculation (case-insensitive). Supported options: entropy, gini'): 'gini'}),\n",
              " (0.9431497714808985,\n",
              "  {Param(parent='DecisionTreeClassifier_a92c3021154f', name='maxDepth', doc='Maximum depth of the tree. (>= 0) E.g., depth 0 means 1 leaf node; depth 1 means 1 internal node + 2 leaf nodes. Must be in range [0, 30].'): 5,\n",
              "   Param(parent='DecisionTreeClassifier_a92c3021154f', name='maxBins', doc='Max number of bins for discretizing continuous features.  Must be >=2 and >= number of categories for any categorical feature.'): 16,\n",
              "   Param(parent='DecisionTreeClassifier_a92c3021154f', name='impurity', doc='Criterion used for information gain calculation (case-insensitive). Supported options: entropy, gini'): 'entropy'}),\n",
              " (0.9144671794094481,\n",
              "  {Param(parent='DecisionTreeClassifier_a92c3021154f', name='maxDepth', doc='Maximum depth of the tree. (>= 0) E.g., depth 0 means 1 leaf node; depth 1 means 1 internal node + 2 leaf nodes. Must be in range [0, 30].'): 5,\n",
              "   Param(parent='DecisionTreeClassifier_a92c3021154f', name='maxBins', doc='Max number of bins for discretizing continuous features.  Must be >=2 and >= number of categories for any categorical feature.'): 32,\n",
              "   Param(parent='DecisionTreeClassifier_a92c3021154f', name='impurity', doc='Criterion used for information gain calculation (case-insensitive). Supported options: entropy, gini'): 'gini'}),\n",
              " (0.9419884713037308,\n",
              "  {Param(parent='DecisionTreeClassifier_a92c3021154f', name='maxDepth', doc='Maximum depth of the tree. (>= 0) E.g., depth 0 means 1 leaf node; depth 1 means 1 internal node + 2 leaf nodes. Must be in range [0, 30].'): 5,\n",
              "   Param(parent='DecisionTreeClassifier_a92c3021154f', name='maxBins', doc='Max number of bins for discretizing continuous features.  Must be >=2 and >= number of categories for any categorical feature.'): 32,\n",
              "   Param(parent='DecisionTreeClassifier_a92c3021154f', name='impurity', doc='Criterion used for information gain calculation (case-insensitive). Supported options: entropy, gini'): 'entropy'}),\n",
              " (0.9217978697362869,\n",
              "  {Param(parent='DecisionTreeClassifier_a92c3021154f', name='maxDepth', doc='Maximum depth of the tree. (>= 0) E.g., depth 0 means 1 leaf node; depth 1 means 1 internal node + 2 leaf nodes. Must be in range [0, 30].'): 5,\n",
              "   Param(parent='DecisionTreeClassifier_a92c3021154f', name='maxBins', doc='Max number of bins for discretizing continuous features.  Must be >=2 and >= number of categories for any categorical feature.'): 64,\n",
              "   Param(parent='DecisionTreeClassifier_a92c3021154f', name='impurity', doc='Criterion used for information gain calculation (case-insensitive). Supported options: entropy, gini'): 'gini'}),\n",
              " (0.9434368201708796,\n",
              "  {Param(parent='DecisionTreeClassifier_a92c3021154f', name='maxDepth', doc='Maximum depth of the tree. (>= 0) E.g., depth 0 means 1 leaf node; depth 1 means 1 internal node + 2 leaf nodes. Must be in range [0, 30].'): 5,\n",
              "   Param(parent='DecisionTreeClassifier_a92c3021154f', name='maxBins', doc='Max number of bins for discretizing continuous features.  Must be >=2 and >= number of categories for any categorical feature.'): 64,\n",
              "   Param(parent='DecisionTreeClassifier_a92c3021154f', name='impurity', doc='Criterion used for information gain calculation (case-insensitive). Supported options: entropy, gini'): 'entropy'}),\n",
              " (0.9173053102879801,\n",
              "  {Param(parent='DecisionTreeClassifier_a92c3021154f', name='maxDepth', doc='Maximum depth of the tree. (>= 0) E.g., depth 0 means 1 leaf node; depth 1 means 1 internal node + 2 leaf nodes. Must be in range [0, 30].'): 5,\n",
              "   Param(parent='DecisionTreeClassifier_a92c3021154f', name='maxBins', doc='Max number of bins for discretizing continuous features.  Must be >=2 and >= number of categories for any categorical feature.'): 128,\n",
              "   Param(parent='DecisionTreeClassifier_a92c3021154f', name='impurity', doc='Criterion used for information gain calculation (case-insensitive). Supported options: entropy, gini'): 'gini'}),\n",
              " (0.9439460238721356,\n",
              "  {Param(parent='DecisionTreeClassifier_a92c3021154f', name='maxDepth', doc='Maximum depth of the tree. (>= 0) E.g., depth 0 means 1 leaf node; depth 1 means 1 internal node + 2 leaf nodes. Must be in range [0, 30].'): 5,\n",
              "   Param(parent='DecisionTreeClassifier_a92c3021154f', name='maxBins', doc='Max number of bins for discretizing continuous features.  Must be >=2 and >= number of categories for any categorical feature.'): 128,\n",
              "   Param(parent='DecisionTreeClassifier_a92c3021154f', name='impurity', doc='Criterion used for information gain calculation (case-insensitive). Supported options: entropy, gini'): 'entropy'}),\n",
              " (0.9463385281707941,\n",
              "  {Param(parent='DecisionTreeClassifier_a92c3021154f', name='maxDepth', doc='Maximum depth of the tree. (>= 0) E.g., depth 0 means 1 leaf node; depth 1 means 1 internal node + 2 leaf nodes. Must be in range [0, 30].'): 10,\n",
              "   Param(parent='DecisionTreeClassifier_a92c3021154f', name='maxBins', doc='Max number of bins for discretizing continuous features.  Must be >=2 and >= number of categories for any categorical feature.'): 16,\n",
              "   Param(parent='DecisionTreeClassifier_a92c3021154f', name='impurity', doc='Criterion used for information gain calculation (case-insensitive). Supported options: entropy, gini'): 'gini'}),\n",
              " (0.9342507300874533,\n",
              "  {Param(parent='DecisionTreeClassifier_a92c3021154f', name='maxDepth', doc='Maximum depth of the tree. (>= 0) E.g., depth 0 means 1 leaf node; depth 1 means 1 internal node + 2 leaf nodes. Must be in range [0, 30].'): 10,\n",
              "   Param(parent='DecisionTreeClassifier_a92c3021154f', name='maxBins', doc='Max number of bins for discretizing continuous features.  Must be >=2 and >= number of categories for any categorical feature.'): 16,\n",
              "   Param(parent='DecisionTreeClassifier_a92c3021154f', name='impurity', doc='Criterion used for information gain calculation (case-insensitive). Supported options: entropy, gini'): 'entropy'}),\n",
              " (0.943745091287344,\n",
              "  {Param(parent='DecisionTreeClassifier_a92c3021154f', name='maxDepth', doc='Maximum depth of the tree. (>= 0) E.g., depth 0 means 1 leaf node; depth 1 means 1 internal node + 2 leaf nodes. Must be in range [0, 30].'): 10,\n",
              "   Param(parent='DecisionTreeClassifier_a92c3021154f', name='maxBins', doc='Max number of bins for discretizing continuous features.  Must be >=2 and >= number of categories for any categorical feature.'): 32,\n",
              "   Param(parent='DecisionTreeClassifier_a92c3021154f', name='impurity', doc='Criterion used for information gain calculation (case-insensitive). Supported options: entropy, gini'): 'gini'}),\n",
              " (0.9364463508135776,\n",
              "  {Param(parent='DecisionTreeClassifier_a92c3021154f', name='maxDepth', doc='Maximum depth of the tree. (>= 0) E.g., depth 0 means 1 leaf node; depth 1 means 1 internal node + 2 leaf nodes. Must be in range [0, 30].'): 10,\n",
              "   Param(parent='DecisionTreeClassifier_a92c3021154f', name='maxBins', doc='Max number of bins for discretizing continuous features.  Must be >=2 and >= number of categories for any categorical feature.'): 32,\n",
              "   Param(parent='DecisionTreeClassifier_a92c3021154f', name='impurity', doc='Criterion used for information gain calculation (case-insensitive). Supported options: entropy, gini'): 'entropy'}),\n",
              " (0.9470482914179112,\n",
              "  {Param(parent='DecisionTreeClassifier_a92c3021154f', name='maxDepth', doc='Maximum depth of the tree. (>= 0) E.g., depth 0 means 1 leaf node; depth 1 means 1 internal node + 2 leaf nodes. Must be in range [0, 30].'): 10,\n",
              "   Param(parent='DecisionTreeClassifier_a92c3021154f', name='maxBins', doc='Max number of bins for discretizing continuous features.  Must be >=2 and >= number of categories for any categorical feature.'): 64,\n",
              "   Param(parent='DecisionTreeClassifier_a92c3021154f', name='impurity', doc='Criterion used for information gain calculation (case-insensitive). Supported options: entropy, gini'): 'gini'}),\n",
              " (0.9369229821822527,\n",
              "  {Param(parent='DecisionTreeClassifier_a92c3021154f', name='maxDepth', doc='Maximum depth of the tree. (>= 0) E.g., depth 0 means 1 leaf node; depth 1 means 1 internal node + 2 leaf nodes. Must be in range [0, 30].'): 10,\n",
              "   Param(parent='DecisionTreeClassifier_a92c3021154f', name='maxBins', doc='Max number of bins for discretizing continuous features.  Must be >=2 and >= number of categories for any categorical feature.'): 64,\n",
              "   Param(parent='DecisionTreeClassifier_a92c3021154f', name='impurity', doc='Criterion used for information gain calculation (case-insensitive). Supported options: entropy, gini'): 'entropy'}),\n",
              " (0.9410662656370943,\n",
              "  {Param(parent='DecisionTreeClassifier_a92c3021154f', name='maxDepth', doc='Maximum depth of the tree. (>= 0) E.g., depth 0 means 1 leaf node; depth 1 means 1 internal node + 2 leaf nodes. Must be in range [0, 30].'): 10,\n",
              "   Param(parent='DecisionTreeClassifier_a92c3021154f', name='maxBins', doc='Max number of bins for discretizing continuous features.  Must be >=2 and >= number of categories for any categorical feature.'): 128,\n",
              "   Param(parent='DecisionTreeClassifier_a92c3021154f', name='impurity', doc='Criterion used for information gain calculation (case-insensitive). Supported options: entropy, gini'): 'gini'}),\n",
              " (0.9416596096468137,\n",
              "  {Param(parent='DecisionTreeClassifier_a92c3021154f', name='maxDepth', doc='Maximum depth of the tree. (>= 0) E.g., depth 0 means 1 leaf node; depth 1 means 1 internal node + 2 leaf nodes. Must be in range [0, 30].'): 10,\n",
              "   Param(parent='DecisionTreeClassifier_a92c3021154f', name='maxBins', doc='Max number of bins for discretizing continuous features.  Must be >=2 and >= number of categories for any categorical feature.'): 128,\n",
              "   Param(parent='DecisionTreeClassifier_a92c3021154f', name='impurity', doc='Criterion used for information gain calculation (case-insensitive). Supported options: entropy, gini'): 'entropy'}),\n",
              " (0.9579261593111233,\n",
              "  {Param(parent='DecisionTreeClassifier_a92c3021154f', name='maxDepth', doc='Maximum depth of the tree. (>= 0) E.g., depth 0 means 1 leaf node; depth 1 means 1 internal node + 2 leaf nodes. Must be in range [0, 30].'): 15,\n",
              "   Param(parent='DecisionTreeClassifier_a92c3021154f', name='maxBins', doc='Max number of bins for discretizing continuous features.  Must be >=2 and >= number of categories for any categorical feature.'): 16,\n",
              "   Param(parent='DecisionTreeClassifier_a92c3021154f', name='impurity', doc='Criterion used for information gain calculation (case-insensitive). Supported options: entropy, gini'): 'gini'}),\n",
              " (0.9579165863477831,\n",
              "  {Param(parent='DecisionTreeClassifier_a92c3021154f', name='maxDepth', doc='Maximum depth of the tree. (>= 0) E.g., depth 0 means 1 leaf node; depth 1 means 1 internal node + 2 leaf nodes. Must be in range [0, 30].'): 15,\n",
              "   Param(parent='DecisionTreeClassifier_a92c3021154f', name='maxBins', doc='Max number of bins for discretizing continuous features.  Must be >=2 and >= number of categories for any categorical feature.'): 16,\n",
              "   Param(parent='DecisionTreeClassifier_a92c3021154f', name='impurity', doc='Criterion used for information gain calculation (case-insensitive). Supported options: entropy, gini'): 'entropy'}),\n",
              " (0.9573972698994759,\n",
              "  {Param(parent='DecisionTreeClassifier_a92c3021154f', name='maxDepth', doc='Maximum depth of the tree. (>= 0) E.g., depth 0 means 1 leaf node; depth 1 means 1 internal node + 2 leaf nodes. Must be in range [0, 30].'): 15,\n",
              "   Param(parent='DecisionTreeClassifier_a92c3021154f', name='maxBins', doc='Max number of bins for discretizing continuous features.  Must be >=2 and >= number of categories for any categorical feature.'): 32,\n",
              "   Param(parent='DecisionTreeClassifier_a92c3021154f', name='impurity', doc='Criterion used for information gain calculation (case-insensitive). Supported options: entropy, gini'): 'gini'}),\n",
              " (0.9634857726211804,\n",
              "  {Param(parent='DecisionTreeClassifier_a92c3021154f', name='maxDepth', doc='Maximum depth of the tree. (>= 0) E.g., depth 0 means 1 leaf node; depth 1 means 1 internal node + 2 leaf nodes. Must be in range [0, 30].'): 15,\n",
              "   Param(parent='DecisionTreeClassifier_a92c3021154f', name='maxBins', doc='Max number of bins for discretizing continuous features.  Must be >=2 and >= number of categories for any categorical feature.'): 32,\n",
              "   Param(parent='DecisionTreeClassifier_a92c3021154f', name='impurity', doc='Criterion used for information gain calculation (case-insensitive). Supported options: entropy, gini'): 'entropy'}),\n",
              " (0.9567163548983525,\n",
              "  {Param(parent='DecisionTreeClassifier_a92c3021154f', name='maxDepth', doc='Maximum depth of the tree. (>= 0) E.g., depth 0 means 1 leaf node; depth 1 means 1 internal node + 2 leaf nodes. Must be in range [0, 30].'): 15,\n",
              "   Param(parent='DecisionTreeClassifier_a92c3021154f', name='maxBins', doc='Max number of bins for discretizing continuous features.  Must be >=2 and >= number of categories for any categorical feature.'): 64,\n",
              "   Param(parent='DecisionTreeClassifier_a92c3021154f', name='impurity', doc='Criterion used for information gain calculation (case-insensitive). Supported options: entropy, gini'): 'gini'}),\n",
              " (0.9642991259374782,\n",
              "  {Param(parent='DecisionTreeClassifier_a92c3021154f', name='maxDepth', doc='Maximum depth of the tree. (>= 0) E.g., depth 0 means 1 leaf node; depth 1 means 1 internal node + 2 leaf nodes. Must be in range [0, 30].'): 15,\n",
              "   Param(parent='DecisionTreeClassifier_a92c3021154f', name='maxBins', doc='Max number of bins for discretizing continuous features.  Must be >=2 and >= number of categories for any categorical feature.'): 64,\n",
              "   Param(parent='DecisionTreeClassifier_a92c3021154f', name='impurity', doc='Criterion used for information gain calculation (case-insensitive). Supported options: entropy, gini'): 'entropy'}),\n",
              " (0.9561240170524121,\n",
              "  {Param(parent='DecisionTreeClassifier_a92c3021154f', name='maxDepth', doc='Maximum depth of the tree. (>= 0) E.g., depth 0 means 1 leaf node; depth 1 means 1 internal node + 2 leaf nodes. Must be in range [0, 30].'): 15,\n",
              "   Param(parent='DecisionTreeClassifier_a92c3021154f', name='maxBins', doc='Max number of bins for discretizing continuous features.  Must be >=2 and >= number of categories for any categorical feature.'): 128,\n",
              "   Param(parent='DecisionTreeClassifier_a92c3021154f', name='impurity', doc='Criterion used for information gain calculation (case-insensitive). Supported options: entropy, gini'): 'gini'}),\n",
              " (0.9622418447100343,\n",
              "  {Param(parent='DecisionTreeClassifier_a92c3021154f', name='maxDepth', doc='Maximum depth of the tree. (>= 0) E.g., depth 0 means 1 leaf node; depth 1 means 1 internal node + 2 leaf nodes. Must be in range [0, 30].'): 15,\n",
              "   Param(parent='DecisionTreeClassifier_a92c3021154f', name='maxBins', doc='Max number of bins for discretizing continuous features.  Must be >=2 and >= number of categories for any categorical feature.'): 128,\n",
              "   Param(parent='DecisionTreeClassifier_a92c3021154f', name='impurity', doc='Criterion used for information gain calculation (case-insensitive). Supported options: entropy, gini'): 'entropy'}),\n",
              " (0.9694132904222529,\n",
              "  {Param(parent='DecisionTreeClassifier_a92c3021154f', name='maxDepth', doc='Maximum depth of the tree. (>= 0) E.g., depth 0 means 1 leaf node; depth 1 means 1 internal node + 2 leaf nodes. Must be in range [0, 30].'): 20,\n",
              "   Param(parent='DecisionTreeClassifier_a92c3021154f', name='maxBins', doc='Max number of bins for discretizing continuous features.  Must be >=2 and >= number of categories for any categorical feature.'): 16,\n",
              "   Param(parent='DecisionTreeClassifier_a92c3021154f', name='impurity', doc='Criterion used for information gain calculation (case-insensitive). Supported options: entropy, gini'): 'gini'}),\n",
              " (0.9717337761593647,\n",
              "  {Param(parent='DecisionTreeClassifier_a92c3021154f', name='maxDepth', doc='Maximum depth of the tree. (>= 0) E.g., depth 0 means 1 leaf node; depth 1 means 1 internal node + 2 leaf nodes. Must be in range [0, 30].'): 20,\n",
              "   Param(parent='DecisionTreeClassifier_a92c3021154f', name='maxBins', doc='Max number of bins for discretizing continuous features.  Must be >=2 and >= number of categories for any categorical feature.'): 16,\n",
              "   Param(parent='DecisionTreeClassifier_a92c3021154f', name='impurity', doc='Criterion used for information gain calculation (case-insensitive). Supported options: entropy, gini'): 'entropy'}),\n",
              " (0.96851031312755,\n",
              "  {Param(parent='DecisionTreeClassifier_a92c3021154f', name='maxDepth', doc='Maximum depth of the tree. (>= 0) E.g., depth 0 means 1 leaf node; depth 1 means 1 internal node + 2 leaf nodes. Must be in range [0, 30].'): 20,\n",
              "   Param(parent='DecisionTreeClassifier_a92c3021154f', name='maxBins', doc='Max number of bins for discretizing continuous features.  Must be >=2 and >= number of categories for any categorical feature.'): 32,\n",
              "   Param(parent='DecisionTreeClassifier_a92c3021154f', name='impurity', doc='Criterion used for information gain calculation (case-insensitive). Supported options: entropy, gini'): 'gini'}),\n",
              " (0.976128023354853,\n",
              "  {Param(parent='DecisionTreeClassifier_a92c3021154f', name='maxDepth', doc='Maximum depth of the tree. (>= 0) E.g., depth 0 means 1 leaf node; depth 1 means 1 internal node + 2 leaf nodes. Must be in range [0, 30].'): 20,\n",
              "   Param(parent='DecisionTreeClassifier_a92c3021154f', name='maxBins', doc='Max number of bins for discretizing continuous features.  Must be >=2 and >= number of categories for any categorical feature.'): 32,\n",
              "   Param(parent='DecisionTreeClassifier_a92c3021154f', name='impurity', doc='Criterion used for information gain calculation (case-insensitive). Supported options: entropy, gini'): 'entropy'}),\n",
              " (0.9675653750466489,\n",
              "  {Param(parent='DecisionTreeClassifier_a92c3021154f', name='maxDepth', doc='Maximum depth of the tree. (>= 0) E.g., depth 0 means 1 leaf node; depth 1 means 1 internal node + 2 leaf nodes. Must be in range [0, 30].'): 20,\n",
              "   Param(parent='DecisionTreeClassifier_a92c3021154f', name='maxBins', doc='Max number of bins for discretizing continuous features.  Must be >=2 and >= number of categories for any categorical feature.'): 64,\n",
              "   Param(parent='DecisionTreeClassifier_a92c3021154f', name='impurity', doc='Criterion used for information gain calculation (case-insensitive). Supported options: entropy, gini'): 'gini'}),\n",
              " (0.9770347760781979,\n",
              "  {Param(parent='DecisionTreeClassifier_a92c3021154f', name='maxDepth', doc='Maximum depth of the tree. (>= 0) E.g., depth 0 means 1 leaf node; depth 1 means 1 internal node + 2 leaf nodes. Must be in range [0, 30].'): 20,\n",
              "   Param(parent='DecisionTreeClassifier_a92c3021154f', name='maxBins', doc='Max number of bins for discretizing continuous features.  Must be >=2 and >= number of categories for any categorical feature.'): 64,\n",
              "   Param(parent='DecisionTreeClassifier_a92c3021154f', name='impurity', doc='Criterion used for information gain calculation (case-insensitive). Supported options: entropy, gini'): 'entropy'}),\n",
              " (0.9659680443021018,\n",
              "  {Param(parent='DecisionTreeClassifier_a92c3021154f', name='maxDepth', doc='Maximum depth of the tree. (>= 0) E.g., depth 0 means 1 leaf node; depth 1 means 1 internal node + 2 leaf nodes. Must be in range [0, 30].'): 20,\n",
              "   Param(parent='DecisionTreeClassifier_a92c3021154f', name='maxBins', doc='Max number of bins for discretizing continuous features.  Must be >=2 and >= number of categories for any categorical feature.'): 128,\n",
              "   Param(parent='DecisionTreeClassifier_a92c3021154f', name='impurity', doc='Criterion used for information gain calculation (case-insensitive). Supported options: entropy, gini'): 'gini'}),\n",
              " (0.976068128411346,\n",
              "  {Param(parent='DecisionTreeClassifier_a92c3021154f', name='maxDepth', doc='Maximum depth of the tree. (>= 0) E.g., depth 0 means 1 leaf node; depth 1 means 1 internal node + 2 leaf nodes. Must be in range [0, 30].'): 20,\n",
              "   Param(parent='DecisionTreeClassifier_a92c3021154f', name='maxBins', doc='Max number of bins for discretizing continuous features.  Must be >=2 and >= number of categories for any categorical feature.'): 128,\n",
              "   Param(parent='DecisionTreeClassifier_a92c3021154f', name='impurity', doc='Criterion used for information gain calculation (case-insensitive). Supported options: entropy, gini'): 'entropy'}),\n",
              " (0.9866526468059288,\n",
              "  {Param(parent='DecisionTreeClassifier_a92c3021154f', name='maxDepth', doc='Maximum depth of the tree. (>= 0) E.g., depth 0 means 1 leaf node; depth 1 means 1 internal node + 2 leaf nodes. Must be in range [0, 30].'): 25,\n",
              "   Param(parent='DecisionTreeClassifier_a92c3021154f', name='maxBins', doc='Max number of bins for discretizing continuous features.  Must be >=2 and >= number of categories for any categorical feature.'): 16,\n",
              "   Param(parent='DecisionTreeClassifier_a92c3021154f', name='impurity', doc='Criterion used for information gain calculation (case-insensitive). Supported options: entropy, gini'): 'gini'}),\n",
              " (0.9874737491368049,\n",
              "  {Param(parent='DecisionTreeClassifier_a92c3021154f', name='maxDepth', doc='Maximum depth of the tree. (>= 0) E.g., depth 0 means 1 leaf node; depth 1 means 1 internal node + 2 leaf nodes. Must be in range [0, 30].'): 25,\n",
              "   Param(parent='DecisionTreeClassifier_a92c3021154f', name='maxBins', doc='Max number of bins for discretizing continuous features.  Must be >=2 and >= number of categories for any categorical feature.'): 16,\n",
              "   Param(parent='DecisionTreeClassifier_a92c3021154f', name='impurity', doc='Criterion used for information gain calculation (case-insensitive). Supported options: entropy, gini'): 'entropy'}),\n",
              " (0.9855733174061938,\n",
              "  {Param(parent='DecisionTreeClassifier_a92c3021154f', name='maxDepth', doc='Maximum depth of the tree. (>= 0) E.g., depth 0 means 1 leaf node; depth 1 means 1 internal node + 2 leaf nodes. Must be in range [0, 30].'): 25,\n",
              "   Param(parent='DecisionTreeClassifier_a92c3021154f', name='maxBins', doc='Max number of bins for discretizing continuous features.  Must be >=2 and >= number of categories for any categorical feature.'): 32,\n",
              "   Param(parent='DecisionTreeClassifier_a92c3021154f', name='impurity', doc='Criterion used for information gain calculation (case-insensitive). Supported options: entropy, gini'): 'gini'}),\n",
              " (0.9881982769460218,\n",
              "  {Param(parent='DecisionTreeClassifier_a92c3021154f', name='maxDepth', doc='Maximum depth of the tree. (>= 0) E.g., depth 0 means 1 leaf node; depth 1 means 1 internal node + 2 leaf nodes. Must be in range [0, 30].'): 25,\n",
              "   Param(parent='DecisionTreeClassifier_a92c3021154f', name='maxBins', doc='Max number of bins for discretizing continuous features.  Must be >=2 and >= number of categories for any categorical feature.'): 32,\n",
              "   Param(parent='DecisionTreeClassifier_a92c3021154f', name='impurity', doc='Criterion used for information gain calculation (case-insensitive). Supported options: entropy, gini'): 'entropy'}),\n",
              " (0.984442228911149,\n",
              "  {Param(parent='DecisionTreeClassifier_a92c3021154f', name='maxDepth', doc='Maximum depth of the tree. (>= 0) E.g., depth 0 means 1 leaf node; depth 1 means 1 internal node + 2 leaf nodes. Must be in range [0, 30].'): 25,\n",
              "   Param(parent='DecisionTreeClassifier_a92c3021154f', name='maxBins', doc='Max number of bins for discretizing continuous features.  Must be >=2 and >= number of categories for any categorical feature.'): 64,\n",
              "   Param(parent='DecisionTreeClassifier_a92c3021154f', name='impurity', doc='Criterion used for information gain calculation (case-insensitive). Supported options: entropy, gini'): 'gini'}),\n",
              " (0.9884324690342419,\n",
              "  {Param(parent='DecisionTreeClassifier_a92c3021154f', name='maxDepth', doc='Maximum depth of the tree. (>= 0) E.g., depth 0 means 1 leaf node; depth 1 means 1 internal node + 2 leaf nodes. Must be in range [0, 30].'): 25,\n",
              "   Param(parent='DecisionTreeClassifier_a92c3021154f', name='maxBins', doc='Max number of bins for discretizing continuous features.  Must be >=2 and >= number of categories for any categorical feature.'): 64,\n",
              "   Param(parent='DecisionTreeClassifier_a92c3021154f', name='impurity', doc='Criterion used for information gain calculation (case-insensitive). Supported options: entropy, gini'): 'entropy'}),\n",
              " (0.9809784337717034,\n",
              "  {Param(parent='DecisionTreeClassifier_a92c3021154f', name='maxDepth', doc='Maximum depth of the tree. (>= 0) E.g., depth 0 means 1 leaf node; depth 1 means 1 internal node + 2 leaf nodes. Must be in range [0, 30].'): 25,\n",
              "   Param(parent='DecisionTreeClassifier_a92c3021154f', name='maxBins', doc='Max number of bins for discretizing continuous features.  Must be >=2 and >= number of categories for any categorical feature.'): 128,\n",
              "   Param(parent='DecisionTreeClassifier_a92c3021154f', name='impurity', doc='Criterion used for information gain calculation (case-insensitive). Supported options: entropy, gini'): 'gini'}),\n",
              " (0.9872128197290906,\n",
              "  {Param(parent='DecisionTreeClassifier_a92c3021154f', name='maxDepth', doc='Maximum depth of the tree. (>= 0) E.g., depth 0 means 1 leaf node; depth 1 means 1 internal node + 2 leaf nodes. Must be in range [0, 30].'): 25,\n",
              "   Param(parent='DecisionTreeClassifier_a92c3021154f', name='maxBins', doc='Max number of bins for discretizing continuous features.  Must be >=2 and >= number of categories for any categorical feature.'): 128,\n",
              "   Param(parent='DecisionTreeClassifier_a92c3021154f', name='impurity', doc='Criterion used for information gain calculation (case-insensitive). Supported options: entropy, gini'): 'entropy'}),\n",
              " (0.9962703349517554,\n",
              "  {Param(parent='DecisionTreeClassifier_a92c3021154f', name='maxDepth', doc='Maximum depth of the tree. (>= 0) E.g., depth 0 means 1 leaf node; depth 1 means 1 internal node + 2 leaf nodes. Must be in range [0, 30].'): 30,\n",
              "   Param(parent='DecisionTreeClassifier_a92c3021154f', name='maxBins', doc='Max number of bins for discretizing continuous features.  Must be >=2 and >= number of categories for any categorical feature.'): 16,\n",
              "   Param(parent='DecisionTreeClassifier_a92c3021154f', name='impurity', doc='Criterion used for information gain calculation (case-insensitive). Supported options: entropy, gini'): 'gini'}),\n",
              " (0.9959782704458936,\n",
              "  {Param(parent='DecisionTreeClassifier_a92c3021154f', name='maxDepth', doc='Maximum depth of the tree. (>= 0) E.g., depth 0 means 1 leaf node; depth 1 means 1 internal node + 2 leaf nodes. Must be in range [0, 30].'): 30,\n",
              "   Param(parent='DecisionTreeClassifier_a92c3021154f', name='maxBins', doc='Max number of bins for discretizing continuous features.  Must be >=2 and >= number of categories for any categorical feature.'): 16,\n",
              "   Param(parent='DecisionTreeClassifier_a92c3021154f', name='impurity', doc='Criterion used for information gain calculation (case-insensitive). Supported options: entropy, gini'): 'entropy'}),\n",
              " (0.9956753945452828,\n",
              "  {Param(parent='DecisionTreeClassifier_a92c3021154f', name='maxDepth', doc='Maximum depth of the tree. (>= 0) E.g., depth 0 means 1 leaf node; depth 1 means 1 internal node + 2 leaf nodes. Must be in range [0, 30].'): 30,\n",
              "   Param(parent='DecisionTreeClassifier_a92c3021154f', name='maxBins', doc='Max number of bins for discretizing continuous features.  Must be >=2 and >= number of categories for any categorical feature.'): 32,\n",
              "   Param(parent='DecisionTreeClassifier_a92c3021154f', name='impurity', doc='Criterion used for information gain calculation (case-insensitive). Supported options: entropy, gini'): 'gini'}),\n",
              " (0.9956496082280915,\n",
              "  {Param(parent='DecisionTreeClassifier_a92c3021154f', name='maxDepth', doc='Maximum depth of the tree. (>= 0) E.g., depth 0 means 1 leaf node; depth 1 means 1 internal node + 2 leaf nodes. Must be in range [0, 30].'): 30,\n",
              "   Param(parent='DecisionTreeClassifier_a92c3021154f', name='maxBins', doc='Max number of bins for discretizing continuous features.  Must be >=2 and >= number of categories for any categorical feature.'): 32,\n",
              "   Param(parent='DecisionTreeClassifier_a92c3021154f', name='impurity', doc='Criterion used for information gain calculation (case-insensitive). Supported options: entropy, gini'): 'entropy'}),\n",
              " (0.9949734113220849,\n",
              "  {Param(parent='DecisionTreeClassifier_a92c3021154f', name='maxDepth', doc='Maximum depth of the tree. (>= 0) E.g., depth 0 means 1 leaf node; depth 1 means 1 internal node + 2 leaf nodes. Must be in range [0, 30].'): 30,\n",
              "   Param(parent='DecisionTreeClassifier_a92c3021154f', name='maxBins', doc='Max number of bins for discretizing continuous features.  Must be >=2 and >= number of categories for any categorical feature.'): 64,\n",
              "   Param(parent='DecisionTreeClassifier_a92c3021154f', name='impurity', doc='Criterion used for information gain calculation (case-insensitive). Supported options: entropy, gini'): 'gini'}),\n",
              " (0.9955850514754572,\n",
              "  {Param(parent='DecisionTreeClassifier_a92c3021154f', name='maxDepth', doc='Maximum depth of the tree. (>= 0) E.g., depth 0 means 1 leaf node; depth 1 means 1 internal node + 2 leaf nodes. Must be in range [0, 30].'): 30,\n",
              "   Param(parent='DecisionTreeClassifier_a92c3021154f', name='maxBins', doc='Max number of bins for discretizing continuous features.  Must be >=2 and >= number of categories for any categorical feature.'): 64,\n",
              "   Param(parent='DecisionTreeClassifier_a92c3021154f', name='impurity', doc='Criterion used for information gain calculation (case-insensitive). Supported options: entropy, gini'): 'entropy'}),\n",
              " (0.992984617501508,\n",
              "  {Param(parent='DecisionTreeClassifier_a92c3021154f', name='maxDepth', doc='Maximum depth of the tree. (>= 0) E.g., depth 0 means 1 leaf node; depth 1 means 1 internal node + 2 leaf nodes. Must be in range [0, 30].'): 30,\n",
              "   Param(parent='DecisionTreeClassifier_a92c3021154f', name='maxBins', doc='Max number of bins for discretizing continuous features.  Must be >=2 and >= number of categories for any categorical feature.'): 128,\n",
              "   Param(parent='DecisionTreeClassifier_a92c3021154f', name='impurity', doc='Criterion used for information gain calculation (case-insensitive). Supported options: entropy, gini'): 'gini'}),\n",
              " (0.9947521632430496,\n",
              "  {Param(parent='DecisionTreeClassifier_a92c3021154f', name='maxDepth', doc='Maximum depth of the tree. (>= 0) E.g., depth 0 means 1 leaf node; depth 1 means 1 internal node + 2 leaf nodes. Must be in range [0, 30].'): 30,\n",
              "   Param(parent='DecisionTreeClassifier_a92c3021154f', name='maxBins', doc='Max number of bins for discretizing continuous features.  Must be >=2 and >= number of categories for any categorical feature.'): 128,\n",
              "   Param(parent='DecisionTreeClassifier_a92c3021154f', name='impurity', doc='Criterion used for information gain calculation (case-insensitive). Supported options: entropy, gini'): 'entropy'})]"
            ]
          },
          "execution_count": 23,
          "metadata": {},
          "output_type": "execute_result"
        }
      ],
      "source": [
        "# View all results (AUROC) by each params\n",
        "list(zip(pipelineModel_dt_hpo.avgMetrics, \n",
        "         pipelineModel_dt_hpo.getEstimatorParamMaps()))"
      ]
    },
    {
      "cell_type": "code",
      "execution_count": null,
      "metadata": {
        "colab": {
          "base_uri": "https://localhost:8080/"
        },
        "id": "i5b2TM00nmX1",
        "outputId": "33c5985b-68df-4256-ca66-24e57c92648e"
      },
      "outputs": [
        {
          "name": "stdout",
          "output_type": "stream",
          "text": [
            "GridSearchCV: Decision Tree\n",
            "Area under ROC curve: 0.953074\n",
            "Test Error: 0.0469264 \n",
            "Accuracy: 0.9714826127873879\n"
          ]
        }
      ],
      "source": [
        "# Predict and find AUROC, test error and accuracy\n",
        "prediction_dt = pipelineModel_dt_hpo.transform(testDF) \n",
        "\n",
        "dt_auroc = evaluator_auroc.evaluate(prediction_dt)\n",
        "print('GridSearchCV: Decision Tree')\n",
        "print('Area under ROC curve: %g' % (dt_auroc))\n",
        "print('Test Error: %g '% (1.0 - dt_auroc))\n",
        "print('Accuracy:', evaluator_acc.evaluate(prediction_dt)) "
      ]
    },
    {
      "cell_type": "code",
      "execution_count": null,
      "metadata": {
        "colab": {
          "base_uri": "https://localhost:8080/"
        },
        "id": "8BOXmvvdnmX2",
        "outputId": "a89c0cec-783d-4af4-9cdd-7e6122e8cc00",
        "scrolled": true,
        "tags": []
      },
      "outputs": [
        {
          "data": {
            "text/plain": [
              "{Param(parent='DecisionTreeClassifier_a92c3021154f', name='cacheNodeIds', doc='If false, the algorithm will pass trees to executors to match instances with nodes. If true, the algorithm will cache node IDs for each instance. Caching can speed up training of deeper trees. Users can set how often should the cache be checkpointed or disable it by setting checkpointInterval.'): False,\n",
              " Param(parent='DecisionTreeClassifier_a92c3021154f', name='checkpointInterval', doc='set checkpoint interval (>= 1) or disable checkpoint (-1). E.g. 10 means that the cache will get checkpointed every 10 iterations. Note: this setting will be ignored if the checkpoint directory is not set in the SparkContext.'): 10,\n",
              " Param(parent='DecisionTreeClassifier_a92c3021154f', name='featuresCol', doc='features column name.'): 'unscaledFeatures',\n",
              " Param(parent='DecisionTreeClassifier_a92c3021154f', name='impurity', doc='Criterion used for information gain calculation (case-insensitive). Supported options: entropy, gini'): 'gini',\n",
              " Param(parent='DecisionTreeClassifier_a92c3021154f', name='labelCol', doc='label column name.'): 'label',\n",
              " Param(parent='DecisionTreeClassifier_a92c3021154f', name='leafCol', doc='Leaf indices column name. Predicted leaf index of each instance in each tree by preorder.'): '',\n",
              " Param(parent='DecisionTreeClassifier_a92c3021154f', name='maxBins', doc='Max number of bins for discretizing continuous features.  Must be >=2 and >= number of categories for any categorical feature.'): 16,\n",
              " Param(parent='DecisionTreeClassifier_a92c3021154f', name='maxDepth', doc='Maximum depth of the tree. (>= 0) E.g., depth 0 means 1 leaf node; depth 1 means 1 internal node + 2 leaf nodes. Must be in range [0, 30].'): 30,\n",
              " Param(parent='DecisionTreeClassifier_a92c3021154f', name='maxMemoryInMB', doc='Maximum memory in MB allocated to histogram aggregation. If too small, then 1 node will be split per iteration, and its aggregates may exceed this size.'): 256,\n",
              " Param(parent='DecisionTreeClassifier_a92c3021154f', name='minInfoGain', doc='Minimum information gain for a split to be considered at a tree node.'): 0.0,\n",
              " Param(parent='DecisionTreeClassifier_a92c3021154f', name='minInstancesPerNode', doc='Minimum number of instances each child must have after split. If a split causes the left or right child to have fewer than minInstancesPerNode, the split will be discarded as invalid. Should be >= 1.'): 1,\n",
              " Param(parent='DecisionTreeClassifier_a92c3021154f', name='minWeightFractionPerNode', doc='Minimum fraction of the weighted sample count that each child must have after split. If a split causes the fraction of the total weight in the left or right child to be less than minWeightFractionPerNode, the split will be discarded as invalid. Should be in interval [0.0, 0.5).'): 0.0,\n",
              " Param(parent='DecisionTreeClassifier_a92c3021154f', name='predictionCol', doc='prediction column name.'): 'prediction',\n",
              " Param(parent='DecisionTreeClassifier_a92c3021154f', name='probabilityCol', doc='Column name for predicted class conditional probabilities. Note: Not all models output well-calibrated probability estimates! These probabilities should be treated as confidences, not precise probabilities.'): 'probability',\n",
              " Param(parent='DecisionTreeClassifier_a92c3021154f', name='rawPredictionCol', doc='raw prediction (a.k.a. confidence) column name.'): 'rawPrediction',\n",
              " Param(parent='DecisionTreeClassifier_a92c3021154f', name='seed', doc='random seed.'): 42}"
            ]
          },
          "execution_count": 25,
          "metadata": {},
          "output_type": "execute_result"
        }
      ],
      "source": [
        "# Extract info from pipeline\n",
        "pipelineModel_dt_hpo.bestModel.stages[-1].extractParamMap()"
      ]
    },
    {
      "cell_type": "code",
      "execution_count": null,
      "metadata": {
        "colab": {
          "base_uri": "https://localhost:8080/"
        },
        "id": "tadxHi8FnmX3",
        "outputId": "e9244ebc-1de7-4b41-ffa2-5c5d2bb859f1"
      },
      "outputs": [
        {
          "data": {
            "text/plain": [
              "{'cacheNodeIds': False,\n",
              " 'checkpointInterval': 10,\n",
              " 'featuresCol': 'unscaledFeatures',\n",
              " 'impurity': 'gini',\n",
              " 'labelCol': 'label',\n",
              " 'leafCol': '',\n",
              " 'maxBins': 16,\n",
              " 'maxDepth': 30,\n",
              " 'maxMemoryInMB': 256,\n",
              " 'minInfoGain': 0.0,\n",
              " 'minInstancesPerNode': 1,\n",
              " 'minWeightFractionPerNode': 0.0,\n",
              " 'predictionCol': 'prediction',\n",
              " 'probabilityCol': 'probability',\n",
              " 'rawPredictionCol': 'rawPrediction',\n",
              " 'seed': 42}"
            ]
          },
          "execution_count": 26,
          "metadata": {},
          "output_type": "execute_result"
        }
      ],
      "source": [
        "# Find best model and params\n",
        "best_mod = pipelineModel_dt_hpo.bestModel\n",
        "param_dict = best_mod.stages[-1].extractParamMap()\n",
        "sane_dict = {}\n",
        "for k, v in param_dict.items():\n",
        "  sane_dict[k.name] = v\n",
        "sane_dict"
      ]
    },
    {
      "cell_type": "markdown",
      "metadata": {
        "id": "vM11bEj_P7YY"
      },
      "source": [
        "### Random Forest"
      ]
    },
    {
      "cell_type": "code",
      "execution_count": null,
      "metadata": {
        "id": "rKBEIwMiSwkN"
      },
      "outputs": [],
      "source": [
        "# Set up pipeline \n",
        "model = RandomForestClassifier(labelCol='label', \n",
        "                               featuresCol='unscaledFeatures',\n",
        "                               seed=seed_value)\n",
        "\t\t\t\t\t\t\n",
        "pipeline_rf_hpo = Pipeline(stages=[model])"
      ]
    },
    {
      "cell_type": "code",
      "execution_count": null,
      "metadata": {
        "id": "fBQ5J7M6SwkO"
      },
      "outputs": [],
      "source": [
        "# Create parameter grid\n",
        "paramGrid = (ParamGridBuilder() \n",
        "            .addGrid(model.maxDepth, [10, 15])\n",
        "            .addGrid(model.maxBins, [32, 64])\n",
        "            .addGrid(model.numTrees, [10, 30])\n",
        "            .addGrid(model.impurity, ['gini', 'entropy'])\n",
        "            .build())"
      ]
    },
    {
      "cell_type": "code",
      "execution_count": null,
      "metadata": {
        "id": "51fPL6p2SwkO"
      },
      "outputs": [],
      "source": [
        "# Define type of cross-validation\n",
        "cv = CrossValidator(estimator=pipeline_rf_hpo,\n",
        "                    estimatorParamMaps=paramGrid,\n",
        "                    evaluator=evaluator_auroc,\n",
        "                    numFolds=5, parallelism=5)"
      ]
    },
    {
      "cell_type": "code",
      "execution_count": null,
      "metadata": {
        "colab": {
          "base_uri": "https://localhost:8080/"
        },
        "id": "7gdnkUnNN4_u",
        "outputId": "94fc87b7-2877-4890-fda6-64abd1433021"
      },
      "outputs": [
        {
          "name": "stdout",
          "output_type": "stream",
          "text": [
            "2022/10/11 01:18:59 INFO mlflow.utils.autologging_utils: Created MLflow autologging run with ID '6506437536984c5bad77a3908cd75cbf', which will track hyperparameters, performance metrics, model artifacts, and lineage information for the current pyspark.ml workflow\n",
            "2022/10/11 12:57:24 WARNING mlflow.utils.environment: Encountered an unexpected error while inferring pip requirements (model URI: /tmp/tmpemqfgmtb/model, flavor: spark), fall back to return ['pyspark==3.3.0']. Set logging level to DEBUG to see the full traceback.\n",
            "2022/10/11 12:58:10 WARNING mlflow.utils.environment: Encountered an unexpected error while inferring pip requirements (model URI: /tmp/tmp7zbm272o/model, flavor: spark), fall back to return ['pyspark==3.3.0']. Set logging level to DEBUG to see the full traceback.\n",
            "Time to perform GridSearchCV: 41951.0479080677\n"
          ]
        }
      ],
      "source": [
        "# Start timer for experiment\n",
        "search_time_start = time.time()\n",
        "\n",
        "# Run HPO \n",
        "pipelineModel_rf_hpo = cv.fit(trainDF)\n",
        "\n",
        "# End timer for experiment\n",
        "print('Time to perform GridSearchCV:', time.time() - search_time_start)\n",
        "\n",
        "# Save best model\n",
        "rf_grid = pipelineModel_rf_hpo.bestModel\n",
        "rf_grid.save('/content/drive/MyDrive/LoanStatus/Python/Models/ML/SparkML/Models/GridSearchCV/pipelineModel_rf_us_hpo_grid')"
      ]
    },
    {
      "cell_type": "code",
      "execution_count": null,
      "metadata": {
        "colab": {
          "base_uri": "https://localhost:8080/"
        },
        "id": "Df8CjJZPM8I1",
        "outputId": "884e6492-69ff-473b-bd44-3cfe43c51877"
      },
      "outputs": [
        {
          "name": "stdout",
          "output_type": "stream",
          "text": [
            "{Param(parent='RandomForestClassifier_2e632e652457', name='maxDepth', doc='Maximum depth of the tree. (>= 0) E.g., depth 0 means 1 leaf node; depth 1 means 1 internal node + 2 leaf nodes. Must be in range [0, 30].'): 15, Param(parent='RandomForestClassifier_2e632e652457', name='maxBins', doc='Max number of bins for discretizing continuous features.  Must be >=2 and >= number of categories for any categorical feature.'): 64, Param(parent='RandomForestClassifier_2e632e652457', name='numTrees', doc='Number of trees to train (>= 1).'): 30, Param(parent='RandomForestClassifier_2e632e652457', name='impurity', doc='Criterion used for information gain calculation (case-insensitive). Supported options: entropy, gini'): 'gini'}\n"
          ]
        }
      ],
      "source": [
        "# Find best parameters\n",
        "print(pipelineModel_rf_hpo.getEstimatorParamMaps()[np.argmax(pipelineModel_rf_hpo.avgMetrics)])"
      ]
    },
    {
      "cell_type": "code",
      "execution_count": null,
      "metadata": {
        "colab": {
          "base_uri": "https://localhost:8080/"
        },
        "id": "xtiEpg8tM8I2",
        "outputId": "ac9a99c5-0cff-49ad-9bc2-c8f2d6418bc0",
        "scrolled": true,
        "tags": []
      },
      "outputs": [
        {
          "data": {
            "text/plain": [
              "[(0.9735197519479852,\n",
              "  {Param(parent='RandomForestClassifier_2e632e652457', name='maxDepth', doc='Maximum depth of the tree. (>= 0) E.g., depth 0 means 1 leaf node; depth 1 means 1 internal node + 2 leaf nodes. Must be in range [0, 30].'): 10,\n",
              "   Param(parent='RandomForestClassifier_2e632e652457', name='maxBins', doc='Max number of bins for discretizing continuous features.  Must be >=2 and >= number of categories for any categorical feature.'): 32,\n",
              "   Param(parent='RandomForestClassifier_2e632e652457', name='numTrees', doc='Number of trees to train (>= 1).'): 10,\n",
              "   Param(parent='RandomForestClassifier_2e632e652457', name='impurity', doc='Criterion used for information gain calculation (case-insensitive). Supported options: entropy, gini'): 'gini'}),\n",
              " (0.9730370306403409,\n",
              "  {Param(parent='RandomForestClassifier_2e632e652457', name='maxDepth', doc='Maximum depth of the tree. (>= 0) E.g., depth 0 means 1 leaf node; depth 1 means 1 internal node + 2 leaf nodes. Must be in range [0, 30].'): 10,\n",
              "   Param(parent='RandomForestClassifier_2e632e652457', name='maxBins', doc='Max number of bins for discretizing continuous features.  Must be >=2 and >= number of categories for any categorical feature.'): 32,\n",
              "   Param(parent='RandomForestClassifier_2e632e652457', name='numTrees', doc='Number of trees to train (>= 1).'): 10,\n",
              "   Param(parent='RandomForestClassifier_2e632e652457', name='impurity', doc='Criterion used for information gain calculation (case-insensitive). Supported options: entropy, gini'): 'entropy'}),\n",
              " (0.9749329864091423,\n",
              "  {Param(parent='RandomForestClassifier_2e632e652457', name='maxDepth', doc='Maximum depth of the tree. (>= 0) E.g., depth 0 means 1 leaf node; depth 1 means 1 internal node + 2 leaf nodes. Must be in range [0, 30].'): 10,\n",
              "   Param(parent='RandomForestClassifier_2e632e652457', name='maxBins', doc='Max number of bins for discretizing continuous features.  Must be >=2 and >= number of categories for any categorical feature.'): 32,\n",
              "   Param(parent='RandomForestClassifier_2e632e652457', name='numTrees', doc='Number of trees to train (>= 1).'): 30,\n",
              "   Param(parent='RandomForestClassifier_2e632e652457', name='impurity', doc='Criterion used for information gain calculation (case-insensitive). Supported options: entropy, gini'): 'gini'}),\n",
              " (0.9747433157892994,\n",
              "  {Param(parent='RandomForestClassifier_2e632e652457', name='maxDepth', doc='Maximum depth of the tree. (>= 0) E.g., depth 0 means 1 leaf node; depth 1 means 1 internal node + 2 leaf nodes. Must be in range [0, 30].'): 10,\n",
              "   Param(parent='RandomForestClassifier_2e632e652457', name='maxBins', doc='Max number of bins for discretizing continuous features.  Must be >=2 and >= number of categories for any categorical feature.'): 32,\n",
              "   Param(parent='RandomForestClassifier_2e632e652457', name='numTrees', doc='Number of trees to train (>= 1).'): 30,\n",
              "   Param(parent='RandomForestClassifier_2e632e652457', name='impurity', doc='Criterion used for information gain calculation (case-insensitive). Supported options: entropy, gini'): 'entropy'}),\n",
              " (0.9740206441518013,\n",
              "  {Param(parent='RandomForestClassifier_2e632e652457', name='maxDepth', doc='Maximum depth of the tree. (>= 0) E.g., depth 0 means 1 leaf node; depth 1 means 1 internal node + 2 leaf nodes. Must be in range [0, 30].'): 10,\n",
              "   Param(parent='RandomForestClassifier_2e632e652457', name='maxBins', doc='Max number of bins for discretizing continuous features.  Must be >=2 and >= number of categories for any categorical feature.'): 64,\n",
              "   Param(parent='RandomForestClassifier_2e632e652457', name='numTrees', doc='Number of trees to train (>= 1).'): 10,\n",
              "   Param(parent='RandomForestClassifier_2e632e652457', name='impurity', doc='Criterion used for information gain calculation (case-insensitive). Supported options: entropy, gini'): 'gini'}),\n",
              " (0.9735148648871526,\n",
              "  {Param(parent='RandomForestClassifier_2e632e652457', name='maxDepth', doc='Maximum depth of the tree. (>= 0) E.g., depth 0 means 1 leaf node; depth 1 means 1 internal node + 2 leaf nodes. Must be in range [0, 30].'): 10,\n",
              "   Param(parent='RandomForestClassifier_2e632e652457', name='maxBins', doc='Max number of bins for discretizing continuous features.  Must be >=2 and >= number of categories for any categorical feature.'): 64,\n",
              "   Param(parent='RandomForestClassifier_2e632e652457', name='numTrees', doc='Number of trees to train (>= 1).'): 10,\n",
              "   Param(parent='RandomForestClassifier_2e632e652457', name='impurity', doc='Criterion used for information gain calculation (case-insensitive). Supported options: entropy, gini'): 'entropy'}),\n",
              " (0.9753747332789686,\n",
              "  {Param(parent='RandomForestClassifier_2e632e652457', name='maxDepth', doc='Maximum depth of the tree. (>= 0) E.g., depth 0 means 1 leaf node; depth 1 means 1 internal node + 2 leaf nodes. Must be in range [0, 30].'): 10,\n",
              "   Param(parent='RandomForestClassifier_2e632e652457', name='maxBins', doc='Max number of bins for discretizing continuous features.  Must be >=2 and >= number of categories for any categorical feature.'): 64,\n",
              "   Param(parent='RandomForestClassifier_2e632e652457', name='numTrees', doc='Number of trees to train (>= 1).'): 30,\n",
              "   Param(parent='RandomForestClassifier_2e632e652457', name='impurity', doc='Criterion used for information gain calculation (case-insensitive). Supported options: entropy, gini'): 'gini'}),\n",
              " (0.9750614379260867,\n",
              "  {Param(parent='RandomForestClassifier_2e632e652457', name='maxDepth', doc='Maximum depth of the tree. (>= 0) E.g., depth 0 means 1 leaf node; depth 1 means 1 internal node + 2 leaf nodes. Must be in range [0, 30].'): 10,\n",
              "   Param(parent='RandomForestClassifier_2e632e652457', name='maxBins', doc='Max number of bins for discretizing continuous features.  Must be >=2 and >= number of categories for any categorical feature.'): 64,\n",
              "   Param(parent='RandomForestClassifier_2e632e652457', name='numTrees', doc='Number of trees to train (>= 1).'): 30,\n",
              "   Param(parent='RandomForestClassifier_2e632e652457', name='impurity', doc='Criterion used for information gain calculation (case-insensitive). Supported options: entropy, gini'): 'entropy'}),\n",
              " (0.9855995186833341,\n",
              "  {Param(parent='RandomForestClassifier_2e632e652457', name='maxDepth', doc='Maximum depth of the tree. (>= 0) E.g., depth 0 means 1 leaf node; depth 1 means 1 internal node + 2 leaf nodes. Must be in range [0, 30].'): 15,\n",
              "   Param(parent='RandomForestClassifier_2e632e652457', name='maxBins', doc='Max number of bins for discretizing continuous features.  Must be >=2 and >= number of categories for any categorical feature.'): 32,\n",
              "   Param(parent='RandomForestClassifier_2e632e652457', name='numTrees', doc='Number of trees to train (>= 1).'): 10,\n",
              "   Param(parent='RandomForestClassifier_2e632e652457', name='impurity', doc='Criterion used for information gain calculation (case-insensitive). Supported options: entropy, gini'): 'gini'}),\n",
              " (0.9849677946599175,\n",
              "  {Param(parent='RandomForestClassifier_2e632e652457', name='maxDepth', doc='Maximum depth of the tree. (>= 0) E.g., depth 0 means 1 leaf node; depth 1 means 1 internal node + 2 leaf nodes. Must be in range [0, 30].'): 15,\n",
              "   Param(parent='RandomForestClassifier_2e632e652457', name='maxBins', doc='Max number of bins for discretizing continuous features.  Must be >=2 and >= number of categories for any categorical feature.'): 32,\n",
              "   Param(parent='RandomForestClassifier_2e632e652457', name='numTrees', doc='Number of trees to train (>= 1).'): 10,\n",
              "   Param(parent='RandomForestClassifier_2e632e652457', name='impurity', doc='Criterion used for information gain calculation (case-insensitive). Supported options: entropy, gini'): 'entropy'}),\n",
              " (0.9873587092733702,\n",
              "  {Param(parent='RandomForestClassifier_2e632e652457', name='maxDepth', doc='Maximum depth of the tree. (>= 0) E.g., depth 0 means 1 leaf node; depth 1 means 1 internal node + 2 leaf nodes. Must be in range [0, 30].'): 15,\n",
              "   Param(parent='RandomForestClassifier_2e632e652457', name='maxBins', doc='Max number of bins for discretizing continuous features.  Must be >=2 and >= number of categories for any categorical feature.'): 32,\n",
              "   Param(parent='RandomForestClassifier_2e632e652457', name='numTrees', doc='Number of trees to train (>= 1).'): 30,\n",
              "   Param(parent='RandomForestClassifier_2e632e652457', name='impurity', doc='Criterion used for information gain calculation (case-insensitive). Supported options: entropy, gini'): 'gini'}),\n",
              " (0.9863027813360997,\n",
              "  {Param(parent='RandomForestClassifier_2e632e652457', name='maxDepth', doc='Maximum depth of the tree. (>= 0) E.g., depth 0 means 1 leaf node; depth 1 means 1 internal node + 2 leaf nodes. Must be in range [0, 30].'): 15,\n",
              "   Param(parent='RandomForestClassifier_2e632e652457', name='maxBins', doc='Max number of bins for discretizing continuous features.  Must be >=2 and >= number of categories for any categorical feature.'): 32,\n",
              "   Param(parent='RandomForestClassifier_2e632e652457', name='numTrees', doc='Number of trees to train (>= 1).'): 30,\n",
              "   Param(parent='RandomForestClassifier_2e632e652457', name='impurity', doc='Criterion used for information gain calculation (case-insensitive). Supported options: entropy, gini'): 'entropy'}),\n",
              " (0.9863359660979422,\n",
              "  {Param(parent='RandomForestClassifier_2e632e652457', name='maxDepth', doc='Maximum depth of the tree. (>= 0) E.g., depth 0 means 1 leaf node; depth 1 means 1 internal node + 2 leaf nodes. Must be in range [0, 30].'): 15,\n",
              "   Param(parent='RandomForestClassifier_2e632e652457', name='maxBins', doc='Max number of bins for discretizing continuous features.  Must be >=2 and >= number of categories for any categorical feature.'): 64,\n",
              "   Param(parent='RandomForestClassifier_2e632e652457', name='numTrees', doc='Number of trees to train (>= 1).'): 10,\n",
              "   Param(parent='RandomForestClassifier_2e632e652457', name='impurity', doc='Criterion used for information gain calculation (case-insensitive). Supported options: entropy, gini'): 'gini'}),\n",
              " (0.9854066664119172,\n",
              "  {Param(parent='RandomForestClassifier_2e632e652457', name='maxDepth', doc='Maximum depth of the tree. (>= 0) E.g., depth 0 means 1 leaf node; depth 1 means 1 internal node + 2 leaf nodes. Must be in range [0, 30].'): 15,\n",
              "   Param(parent='RandomForestClassifier_2e632e652457', name='maxBins', doc='Max number of bins for discretizing continuous features.  Must be >=2 and >= number of categories for any categorical feature.'): 64,\n",
              "   Param(parent='RandomForestClassifier_2e632e652457', name='numTrees', doc='Number of trees to train (>= 1).'): 10,\n",
              "   Param(parent='RandomForestClassifier_2e632e652457', name='impurity', doc='Criterion used for information gain calculation (case-insensitive). Supported options: entropy, gini'): 'entropy'}),\n",
              " (0.9875514192690791,\n",
              "  {Param(parent='RandomForestClassifier_2e632e652457', name='maxDepth', doc='Maximum depth of the tree. (>= 0) E.g., depth 0 means 1 leaf node; depth 1 means 1 internal node + 2 leaf nodes. Must be in range [0, 30].'): 15,\n",
              "   Param(parent='RandomForestClassifier_2e632e652457', name='maxBins', doc='Max number of bins for discretizing continuous features.  Must be >=2 and >= number of categories for any categorical feature.'): 64,\n",
              "   Param(parent='RandomForestClassifier_2e632e652457', name='numTrees', doc='Number of trees to train (>= 1).'): 30,\n",
              "   Param(parent='RandomForestClassifier_2e632e652457', name='impurity', doc='Criterion used for information gain calculation (case-insensitive). Supported options: entropy, gini'): 'gini'}),\n",
              " (0.9868945778370999,\n",
              "  {Param(parent='RandomForestClassifier_2e632e652457', name='maxDepth', doc='Maximum depth of the tree. (>= 0) E.g., depth 0 means 1 leaf node; depth 1 means 1 internal node + 2 leaf nodes. Must be in range [0, 30].'): 15,\n",
              "   Param(parent='RandomForestClassifier_2e632e652457', name='maxBins', doc='Max number of bins for discretizing continuous features.  Must be >=2 and >= number of categories for any categorical feature.'): 64,\n",
              "   Param(parent='RandomForestClassifier_2e632e652457', name='numTrees', doc='Number of trees to train (>= 1).'): 30,\n",
              "   Param(parent='RandomForestClassifier_2e632e652457', name='impurity', doc='Criterion used for information gain calculation (case-insensitive). Supported options: entropy, gini'): 'entropy'})]"
            ]
          },
          "execution_count": 42,
          "metadata": {},
          "output_type": "execute_result"
        }
      ],
      "source": [
        "# View all results (AUROC) by each params\n",
        "list(zip(pipelineModel_rf_hpo.avgMetrics, \n",
        "         pipelineModel_rf_hpo.getEstimatorParamMaps()))"
      ]
    },
    {
      "cell_type": "code",
      "execution_count": null,
      "metadata": {
        "colab": {
          "base_uri": "https://localhost:8080/"
        },
        "id": "w83H2W-4M8I2",
        "outputId": "32a1f089-1109-4072-e9aa-c86ea7710098"
      },
      "outputs": [
        {
          "name": "stdout",
          "output_type": "stream",
          "text": [
            "GridSearchCV: Random Forest\n",
            "Area under ROC curve: 0.981181\n",
            "Test Error: 0.0188195 \n",
            "Accuracy: 0.9791455189110072\n"
          ]
        }
      ],
      "source": [
        "# Predict and find AUROC, test error and accuracy\n",
        "prediction_rf = pipelineModel_rf_hpo.transform(testDF) \n",
        "\n",
        "rf_auroc = evaluator_auroc.evaluate(prediction_rf)\n",
        "print('GridSearchCV: Random Forest')\n",
        "print('Area under ROC curve: %g' % (rf_auroc))\n",
        "print('Test Error: %g ' % (1.0 - rf_auroc))\n",
        "print('Accuracy:', evaluator_acc.evaluate(prediction_rf)) "
      ]
    },
    {
      "cell_type": "code",
      "execution_count": null,
      "metadata": {
        "colab": {
          "base_uri": "https://localhost:8080/"
        },
        "id": "qMPrRfMqM8I3",
        "outputId": "2af44d01-cc23-4050-ba13-636ab2dd7131",
        "scrolled": true,
        "tags": []
      },
      "outputs": [
        {
          "data": {
            "text/plain": [
              "{Param(parent='RandomForestClassifier_2e632e652457', name='bootstrap', doc='Whether bootstrap samples are used when building trees.'): True,\n",
              " Param(parent='RandomForestClassifier_2e632e652457', name='cacheNodeIds', doc='If false, the algorithm will pass trees to executors to match instances with nodes. If true, the algorithm will cache node IDs for each instance. Caching can speed up training of deeper trees. Users can set how often should the cache be checkpointed or disable it by setting checkpointInterval.'): False,\n",
              " Param(parent='RandomForestClassifier_2e632e652457', name='checkpointInterval', doc='set checkpoint interval (>= 1) or disable checkpoint (-1). E.g. 10 means that the cache will get checkpointed every 10 iterations. Note: this setting will be ignored if the checkpoint directory is not set in the SparkContext.'): 10,\n",
              " Param(parent='RandomForestClassifier_2e632e652457', name='featureSubsetStrategy', doc=\"The number of features to consider for splits at each tree node. Supported options: 'auto' (choose automatically for task: If numTrees == 1, set to 'all'. If numTrees > 1 (forest), set to 'sqrt' for classification and to 'onethird' for regression), 'all' (use all features), 'onethird' (use 1/3 of the features), 'sqrt' (use sqrt(number of features)), 'log2' (use log2(number of features)), 'n' (when n is in the range (0, 1.0], use n * number of features. When n is in the range (1, number of features), use n features). default = 'auto'\"): 'auto',\n",
              " Param(parent='RandomForestClassifier_2e632e652457', name='featuresCol', doc='features column name.'): 'unscaledFeatures',\n",
              " Param(parent='RandomForestClassifier_2e632e652457', name='impurity', doc='Criterion used for information gain calculation (case-insensitive). Supported options: entropy, gini'): 'gini',\n",
              " Param(parent='RandomForestClassifier_2e632e652457', name='labelCol', doc='label column name.'): 'label',\n",
              " Param(parent='RandomForestClassifier_2e632e652457', name='leafCol', doc='Leaf indices column name. Predicted leaf index of each instance in each tree by preorder.'): '',\n",
              " Param(parent='RandomForestClassifier_2e632e652457', name='maxBins', doc='Max number of bins for discretizing continuous features.  Must be >=2 and >= number of categories for any categorical feature.'): 64,\n",
              " Param(parent='RandomForestClassifier_2e632e652457', name='maxDepth', doc='Maximum depth of the tree. (>= 0) E.g., depth 0 means 1 leaf node; depth 1 means 1 internal node + 2 leaf nodes. Must be in range [0, 30].'): 15,\n",
              " Param(parent='RandomForestClassifier_2e632e652457', name='maxMemoryInMB', doc='Maximum memory in MB allocated to histogram aggregation. If too small, then 1 node will be split per iteration, and its aggregates may exceed this size.'): 256,\n",
              " Param(parent='RandomForestClassifier_2e632e652457', name='minInfoGain', doc='Minimum information gain for a split to be considered at a tree node.'): 0.0,\n",
              " Param(parent='RandomForestClassifier_2e632e652457', name='minInstancesPerNode', doc='Minimum number of instances each child must have after split. If a split causes the left or right child to have fewer than minInstancesPerNode, the split will be discarded as invalid. Should be >= 1.'): 1,\n",
              " Param(parent='RandomForestClassifier_2e632e652457', name='minWeightFractionPerNode', doc='Minimum fraction of the weighted sample count that each child must have after split. If a split causes the fraction of the total weight in the left or right child to be less than minWeightFractionPerNode, the split will be discarded as invalid. Should be in interval [0.0, 0.5).'): 0.0,\n",
              " Param(parent='RandomForestClassifier_2e632e652457', name='numTrees', doc='Number of trees to train (>= 1).'): 30,\n",
              " Param(parent='RandomForestClassifier_2e632e652457', name='predictionCol', doc='prediction column name.'): 'prediction',\n",
              " Param(parent='RandomForestClassifier_2e632e652457', name='probabilityCol', doc='Column name for predicted class conditional probabilities. Note: Not all models output well-calibrated probability estimates! These probabilities should be treated as confidences, not precise probabilities.'): 'probability',\n",
              " Param(parent='RandomForestClassifier_2e632e652457', name='rawPredictionCol', doc='raw prediction (a.k.a. confidence) column name.'): 'rawPrediction',\n",
              " Param(parent='RandomForestClassifier_2e632e652457', name='seed', doc='random seed.'): 42,\n",
              " Param(parent='RandomForestClassifier_2e632e652457', name='subsamplingRate', doc='Fraction of the training data used for learning each decision tree, in range (0, 1].'): 1.0}"
            ]
          },
          "execution_count": 44,
          "metadata": {},
          "output_type": "execute_result"
        }
      ],
      "source": [
        "# Extract info from pipeline\n",
        "pipelineModel_rf_hpo.bestModel.stages[-1].extractParamMap()"
      ]
    },
    {
      "cell_type": "code",
      "execution_count": null,
      "metadata": {
        "colab": {
          "base_uri": "https://localhost:8080/"
        },
        "id": "ek4fvkpyM8I4",
        "outputId": "f8920723-81f3-4a22-c9d1-12d26e3a81a3"
      },
      "outputs": [
        {
          "data": {
            "text/plain": [
              "{'bootstrap': True,\n",
              " 'cacheNodeIds': False,\n",
              " 'checkpointInterval': 10,\n",
              " 'featureSubsetStrategy': 'auto',\n",
              " 'featuresCol': 'unscaledFeatures',\n",
              " 'impurity': 'gini',\n",
              " 'labelCol': 'label',\n",
              " 'leafCol': '',\n",
              " 'maxBins': 64,\n",
              " 'maxDepth': 15,\n",
              " 'maxMemoryInMB': 256,\n",
              " 'minInfoGain': 0.0,\n",
              " 'minInstancesPerNode': 1,\n",
              " 'minWeightFractionPerNode': 0.0,\n",
              " 'numTrees': 30,\n",
              " 'predictionCol': 'prediction',\n",
              " 'probabilityCol': 'probability',\n",
              " 'rawPredictionCol': 'rawPrediction',\n",
              " 'seed': 42,\n",
              " 'subsamplingRate': 1.0}"
            ]
          },
          "execution_count": 45,
          "metadata": {},
          "output_type": "execute_result"
        }
      ],
      "source": [
        "# Find best model params\n",
        "best_mod = pipelineModel_rf_hpo.bestModel\n",
        "param_dict = best_mod.stages[-1].extractParamMap()\n",
        "sane_dict = {}\n",
        "for k, v in param_dict.items():\n",
        "  sane_dict[k.name] = v\n",
        "sane_dict"
      ]
    },
    {
      "cell_type": "code",
      "execution_count": null,
      "metadata": {
        "colab": {
          "base_uri": "https://localhost:8080/"
        },
        "id": "bbvVm6IwM8I4",
        "outputId": "43ed046c-5b84-48bd-f8b4-b013452b7f08"
      },
      "outputs": [
        {
          "name": "stdout",
          "output_type": "stream",
          "text": [
            "gini\n",
            "30\n",
            "64\n",
            "15\n"
          ]
        }
      ],
      "source": [
        "# Find best model params\n",
        "best_impurity = sane_dict['impurity']\n",
        "best_numTrees = sane_dict['numTrees']\n",
        "best_maxBins = sane_dict['maxBins']\n",
        "best_maxDepth = sane_dict['maxDepth']\n",
        "print(best_impurity)\n",
        "print(best_numTrees) \n",
        "print(best_maxBins)\n",
        "print(best_maxDepth)"
      ]
    },
    {
      "cell_type": "markdown",
      "metadata": {
        "id": "Y4hnFOfhQbFM"
      },
      "source": [
        "### Gradient Boosted Trees"
      ]
    },
    {
      "cell_type": "code",
      "execution_count": null,
      "metadata": {
        "id": "az6pO_bjHXnB"
      },
      "outputs": [],
      "source": [
        "# Set up pipeline\n",
        "model = GBTClassifier(labelCol='label', \n",
        "                      featuresCol='unscaledFeatures',\n",
        "                      seed=seed_value)\n",
        "\t\t\t\t\t\t\n",
        "pipeline_gbt_hpo = Pipeline(stages=[model])"
      ]
    },
    {
      "cell_type": "code",
      "execution_count": null,
      "metadata": {
        "id": "45WQS7OkHXnC"
      },
      "outputs": [],
      "source": [
        "# Create parameter grid\n",
        "paramGrid = (ParamGridBuilder() \n",
        "            .addGrid(model.maxDepth, [5, 10, 15])\n",
        "            .addGrid(model.maxBins, [32, 64])\n",
        "            .addGrid(model.maxIter, [10])\n",
        "            .build())"
      ]
    },
    {
      "cell_type": "code",
      "execution_count": null,
      "metadata": {
        "id": "RHMtmYKGHXnC"
      },
      "outputs": [],
      "source": [
        "# Define type of cross-validation\n",
        "cv = CrossValidator(estimator=pipeline_gbt_hpo,\n",
        "                    estimatorParamMaps=paramGrid,\n",
        "                    evaluator=evaluator_auroc,\n",
        "                    numFolds=5, parallelism=5)"
      ]
    },
    {
      "cell_type": "code",
      "execution_count": null,
      "metadata": {
        "colab": {
          "base_uri": "https://localhost:8080/"
        },
        "id": "xi65IsYkO0eM",
        "outputId": "2a46ae8a-28f4-4b62-dfaf-6aacfab16b76"
      },
      "outputs": [
        {
          "name": "stdout",
          "output_type": "stream",
          "text": [
            "2022/10/10 21:36:49 INFO mlflow.utils.autologging_utils: Created MLflow autologging run with ID '7c04b608003541febf14cb801d6090ee', which will track hyperparameters, performance metrics, model artifacts, and lineage information for the current pyspark.ml workflow\n",
            "2022/10/10 23:59:39 WARNING mlflow.pyspark.ml: Model inputs contain unsupported Spark data types: [StructField(unscaledFeatures,VectorUDT,true)]. Model signature is not logged.\n",
            "2022/10/11 00:00:33 WARNING mlflow.utils.environment: Encountered an unexpected error while inferring pip requirements (model URI: /tmp/tmpzh1dpkge/model, flavor: spark), fall back to return ['pyspark==3.3.0']. Set logging level to DEBUG to see the full traceback.\n",
            "2022/10/11 00:01:15 WARNING mlflow.utils.environment: Encountered an unexpected error while inferring pip requirements (model URI: /tmp/tmpvl4elzfl/model, flavor: spark), fall back to return ['pyspark==3.3.0']. Set logging level to DEBUG to see the full traceback.\n",
            "Time to perform GridSearchCV: 8675.648339033127\n"
          ]
        }
      ],
      "source": [
        "# Start timer for experiment\n",
        "search_time_start = time.time()\n",
        "\n",
        "# Run HPO\n",
        "pipelineModel_gbt_hpo = cv.fit(trainDF)\n",
        "\n",
        "# End timer for experiment\n",
        "print('Time to perform GridSearchCV:', time.time() - search_time_start)\n",
        "\n",
        "# Save best model\n",
        "gbt_grid = pipelineModel_gbt_hpo.bestModel\n",
        "gbt_grid.save('/content/drive/MyDrive/LoanStatus/Python/Models/ML/SparkML/Models/GridSearchCV/pipelineModel_gbt_us_hpo_grid')"
      ]
    },
    {
      "cell_type": "code",
      "execution_count": null,
      "metadata": {
        "colab": {
          "base_uri": "https://localhost:8080/"
        },
        "id": "MlUTUo5ZOQWC",
        "outputId": "7f3eeff0-96f3-4833-bea0-2190b9ab7943"
      },
      "outputs": [
        {
          "name": "stdout",
          "output_type": "stream",
          "text": [
            "{Param(parent='GBTClassifier_41665e5b1949', name='maxDepth', doc='Maximum depth of the tree. (>= 0) E.g., depth 0 means 1 leaf node; depth 1 means 1 internal node + 2 leaf nodes. Must be in range [0, 30].'): 15, Param(parent='GBTClassifier_41665e5b1949', name='maxBins', doc='Max number of bins for discretizing continuous features.  Must be >=2 and >= number of categories for any categorical feature.'): 64, Param(parent='GBTClassifier_41665e5b1949', name='maxIter', doc='max number of iterations (>= 0).'): 10}\n"
          ]
        }
      ],
      "source": [
        "# Find best parameters\n",
        "print(pipelineModel_gbt_hpo.getEstimatorParamMaps()[np.argmax(pipelineModel_gbt_hpo.avgMetrics)])"
      ]
    },
    {
      "cell_type": "code",
      "execution_count": null,
      "metadata": {
        "colab": {
          "base_uri": "https://localhost:8080/"
        },
        "id": "aX-sjWXhOQWC",
        "outputId": "362be700-3f7b-4f23-d721-434bd62a2481",
        "scrolled": true,
        "tags": []
      },
      "outputs": [
        {
          "data": {
            "text/plain": [
              "[(0.9719265974945634,\n",
              "  {Param(parent='GBTClassifier_41665e5b1949', name='maxDepth', doc='Maximum depth of the tree. (>= 0) E.g., depth 0 means 1 leaf node; depth 1 means 1 internal node + 2 leaf nodes. Must be in range [0, 30].'): 5,\n",
              "   Param(parent='GBTClassifier_41665e5b1949', name='maxBins', doc='Max number of bins for discretizing continuous features.  Must be >=2 and >= number of categories for any categorical feature.'): 32,\n",
              "   Param(parent='GBTClassifier_41665e5b1949', name='maxIter', doc='max number of iterations (>= 0).'): 10}),\n",
              " (0.9719671645400161,\n",
              "  {Param(parent='GBTClassifier_41665e5b1949', name='maxDepth', doc='Maximum depth of the tree. (>= 0) E.g., depth 0 means 1 leaf node; depth 1 means 1 internal node + 2 leaf nodes. Must be in range [0, 30].'): 5,\n",
              "   Param(parent='GBTClassifier_41665e5b1949', name='maxBins', doc='Max number of bins for discretizing continuous features.  Must be >=2 and >= number of categories for any categorical feature.'): 64,\n",
              "   Param(parent='GBTClassifier_41665e5b1949', name='maxIter', doc='max number of iterations (>= 0).'): 10}),\n",
              " (0.9868639558736061,\n",
              "  {Param(parent='GBTClassifier_41665e5b1949', name='maxDepth', doc='Maximum depth of the tree. (>= 0) E.g., depth 0 means 1 leaf node; depth 1 means 1 internal node + 2 leaf nodes. Must be in range [0, 30].'): 10,\n",
              "   Param(parent='GBTClassifier_41665e5b1949', name='maxBins', doc='Max number of bins for discretizing continuous features.  Must be >=2 and >= number of categories for any categorical feature.'): 32,\n",
              "   Param(parent='GBTClassifier_41665e5b1949', name='maxIter', doc='max number of iterations (>= 0).'): 10}),\n",
              " (0.9873657713205404,\n",
              "  {Param(parent='GBTClassifier_41665e5b1949', name='maxDepth', doc='Maximum depth of the tree. (>= 0) E.g., depth 0 means 1 leaf node; depth 1 means 1 internal node + 2 leaf nodes. Must be in range [0, 30].'): 10,\n",
              "   Param(parent='GBTClassifier_41665e5b1949', name='maxBins', doc='Max number of bins for discretizing continuous features.  Must be >=2 and >= number of categories for any categorical feature.'): 64,\n",
              "   Param(parent='GBTClassifier_41665e5b1949', name='maxIter', doc='max number of iterations (>= 0).'): 10}),\n",
              " (0.9931349499974691,\n",
              "  {Param(parent='GBTClassifier_41665e5b1949', name='maxDepth', doc='Maximum depth of the tree. (>= 0) E.g., depth 0 means 1 leaf node; depth 1 means 1 internal node + 2 leaf nodes. Must be in range [0, 30].'): 15,\n",
              "   Param(parent='GBTClassifier_41665e5b1949', name='maxBins', doc='Max number of bins for discretizing continuous features.  Must be >=2 and >= number of categories for any categorical feature.'): 32,\n",
              "   Param(parent='GBTClassifier_41665e5b1949', name='maxIter', doc='max number of iterations (>= 0).'): 10}),\n",
              " (0.9937295507264521,\n",
              "  {Param(parent='GBTClassifier_41665e5b1949', name='maxDepth', doc='Maximum depth of the tree. (>= 0) E.g., depth 0 means 1 leaf node; depth 1 means 1 internal node + 2 leaf nodes. Must be in range [0, 30].'): 15,\n",
              "   Param(parent='GBTClassifier_41665e5b1949', name='maxBins', doc='Max number of bins for discretizing continuous features.  Must be >=2 and >= number of categories for any categorical feature.'): 64,\n",
              "   Param(parent='GBTClassifier_41665e5b1949', name='maxIter', doc='max number of iterations (>= 0).'): 10})]"
            ]
          },
          "execution_count": 24,
          "metadata": {},
          "output_type": "execute_result"
        }
      ],
      "source": [
        "# View all results (AUROC) by each params\n",
        "list(zip(pipelineModel_gbt_hpo.avgMetrics, \n",
        "         pipelineModel_gbt_hpo.getEstimatorParamMaps()))"
      ]
    },
    {
      "cell_type": "code",
      "execution_count": null,
      "metadata": {
        "colab": {
          "base_uri": "https://localhost:8080/"
        },
        "id": "wTLeB9UnOQWD",
        "outputId": "5dddd2ee-5890-4020-c03f-9b84edb20ee8"
      },
      "outputs": [
        {
          "name": "stdout",
          "output_type": "stream",
          "text": [
            "GridSearchCV: Gradient Boosted Trees\n",
            "Area under ROC curve: 0.984932\n",
            "Test Error: 0.0150683 \n",
            "Accuracy: 0.9823503432584231\n"
          ]
        }
      ],
      "source": [
        "# Predict and find AUROC, test error and accuracy\n",
        "prediction_gbt = pipelineModel_gbt_hpo.transform(testDF) \n",
        "\n",
        "gbt_auroc = evaluator_auroc.evaluate(prediction_gbt)\n",
        "print('GridSearchCV: Gradient Boosted Trees')\n",
        "print('Area under ROC curve: %g' % (gbt_auroc))\n",
        "print('Test Error: %g ' % (1.0 - gbt_auroc))\n",
        "print('Accuracy:', evaluator_acc.evaluate(prediction_gbt)) "
      ]
    },
    {
      "cell_type": "code",
      "execution_count": null,
      "metadata": {
        "colab": {
          "base_uri": "https://localhost:8080/"
        },
        "id": "Dmkt2-hvOQWD",
        "outputId": "df20cdd4-861a-4dff-efb0-db960faabe50",
        "scrolled": true,
        "tags": []
      },
      "outputs": [
        {
          "data": {
            "text/plain": [
              "{Param(parent='GBTClassifier_41665e5b1949', name='cacheNodeIds', doc='If false, the algorithm will pass trees to executors to match instances with nodes. If true, the algorithm will cache node IDs for each instance. Caching can speed up training of deeper trees. Users can set how often should the cache be checkpointed or disable it by setting checkpointInterval.'): False,\n",
              " Param(parent='GBTClassifier_41665e5b1949', name='checkpointInterval', doc='set checkpoint interval (>= 1) or disable checkpoint (-1). E.g. 10 means that the cache will get checkpointed every 10 iterations. Note: this setting will be ignored if the checkpoint directory is not set in the SparkContext.'): 10,\n",
              " Param(parent='GBTClassifier_41665e5b1949', name='featureSubsetStrategy', doc=\"The number of features to consider for splits at each tree node. Supported options: 'auto' (choose automatically for task: If numTrees == 1, set to 'all'. If numTrees > 1 (forest), set to 'sqrt' for classification and to 'onethird' for regression), 'all' (use all features), 'onethird' (use 1/3 of the features), 'sqrt' (use sqrt(number of features)), 'log2' (use log2(number of features)), 'n' (when n is in the range (0, 1.0], use n * number of features. When n is in the range (1, number of features), use n features). default = 'auto'\"): 'all',\n",
              " Param(parent='GBTClassifier_41665e5b1949', name='featuresCol', doc='features column name.'): 'unscaledFeatures',\n",
              " Param(parent='GBTClassifier_41665e5b1949', name='impurity', doc='Criterion used for information gain calculation (case-insensitive). Supported options: variance'): 'variance',\n",
              " Param(parent='GBTClassifier_41665e5b1949', name='labelCol', doc='label column name.'): 'label',\n",
              " Param(parent='GBTClassifier_41665e5b1949', name='leafCol', doc='Leaf indices column name. Predicted leaf index of each instance in each tree by preorder.'): '',\n",
              " Param(parent='GBTClassifier_41665e5b1949', name='lossType', doc='Loss function which GBT tries to minimize (case-insensitive). Supported options: logistic'): 'logistic',\n",
              " Param(parent='GBTClassifier_41665e5b1949', name='maxBins', doc='Max number of bins for discretizing continuous features.  Must be >=2 and >= number of categories for any categorical feature.'): 64,\n",
              " Param(parent='GBTClassifier_41665e5b1949', name='maxDepth', doc='Maximum depth of the tree. (>= 0) E.g., depth 0 means 1 leaf node; depth 1 means 1 internal node + 2 leaf nodes. Must be in range [0, 30].'): 15,\n",
              " Param(parent='GBTClassifier_41665e5b1949', name='maxIter', doc='max number of iterations (>= 0).'): 10,\n",
              " Param(parent='GBTClassifier_41665e5b1949', name='maxMemoryInMB', doc='Maximum memory in MB allocated to histogram aggregation. If too small, then 1 node will be split per iteration, and its aggregates may exceed this size.'): 256,\n",
              " Param(parent='GBTClassifier_41665e5b1949', name='minInfoGain', doc='Minimum information gain for a split to be considered at a tree node.'): 0.0,\n",
              " Param(parent='GBTClassifier_41665e5b1949', name='minInstancesPerNode', doc='Minimum number of instances each child must have after split. If a split causes the left or right child to have fewer than minInstancesPerNode, the split will be discarded as invalid. Should be >= 1.'): 1,\n",
              " Param(parent='GBTClassifier_41665e5b1949', name='minWeightFractionPerNode', doc='Minimum fraction of the weighted sample count that each child must have after split. If a split causes the fraction of the total weight in the left or right child to be less than minWeightFractionPerNode, the split will be discarded as invalid. Should be in interval [0.0, 0.5).'): 0.0,\n",
              " Param(parent='GBTClassifier_41665e5b1949', name='predictionCol', doc='prediction column name.'): 'prediction',\n",
              " Param(parent='GBTClassifier_41665e5b1949', name='probabilityCol', doc='Column name for predicted class conditional probabilities. Note: Not all models output well-calibrated probability estimates! These probabilities should be treated as confidences, not precise probabilities.'): 'probability',\n",
              " Param(parent='GBTClassifier_41665e5b1949', name='rawPredictionCol', doc='raw prediction (a.k.a. confidence) column name.'): 'rawPrediction',\n",
              " Param(parent='GBTClassifier_41665e5b1949', name='seed', doc='random seed.'): 42,\n",
              " Param(parent='GBTClassifier_41665e5b1949', name='stepSize', doc='Step size (a.k.a. learning rate) in interval (0, 1] for shrinking the contribution of each estimator.'): 0.1,\n",
              " Param(parent='GBTClassifier_41665e5b1949', name='subsamplingRate', doc='Fraction of the training data used for learning each decision tree, in range (0, 1].'): 1.0,\n",
              " Param(parent='GBTClassifier_41665e5b1949', name='validationTol', doc='Threshold for stopping early when fit with validation is used. If the error rate on the validation input changes by less than the validationTol, then learning will stop early (before `maxIter`). This parameter is ignored when fit without validation is used.'): 0.01}"
            ]
          },
          "execution_count": 26,
          "metadata": {},
          "output_type": "execute_result"
        }
      ],
      "source": [
        "# Extract info from pipeline\n",
        "pipelineModel_gbt_hpo.bestModel.stages[-1].extractParamMap()"
      ]
    },
    {
      "cell_type": "code",
      "execution_count": null,
      "metadata": {
        "colab": {
          "base_uri": "https://localhost:8080/"
        },
        "id": "_RKBJDOjOQWF",
        "outputId": "968acf15-df9a-4ec1-9c6f-0e2f08bf5b82"
      },
      "outputs": [
        {
          "data": {
            "text/plain": [
              "{'cacheNodeIds': False,\n",
              " 'checkpointInterval': 10,\n",
              " 'featureSubsetStrategy': 'all',\n",
              " 'featuresCol': 'unscaledFeatures',\n",
              " 'impurity': 'variance',\n",
              " 'labelCol': 'label',\n",
              " 'leafCol': '',\n",
              " 'lossType': 'logistic',\n",
              " 'maxBins': 64,\n",
              " 'maxDepth': 15,\n",
              " 'maxIter': 10,\n",
              " 'maxMemoryInMB': 256,\n",
              " 'minInfoGain': 0.0,\n",
              " 'minInstancesPerNode': 1,\n",
              " 'minWeightFractionPerNode': 0.0,\n",
              " 'predictionCol': 'prediction',\n",
              " 'probabilityCol': 'probability',\n",
              " 'rawPredictionCol': 'rawPrediction',\n",
              " 'seed': 42,\n",
              " 'stepSize': 0.1,\n",
              " 'subsamplingRate': 1.0,\n",
              " 'validationTol': 0.01}"
            ]
          },
          "execution_count": 27,
          "metadata": {},
          "output_type": "execute_result"
        }
      ],
      "source": [
        "best_mod = pipelineModel_gbt_hpo.bestModel\n",
        "param_dict = best_mod.stages[-1].extractParamMap()\n",
        "sane_dict = {}\n",
        "for k, v in param_dict.items():\n",
        "  sane_dict[k.name] = v\n",
        "sane_dict"
      ]
    },
    {
      "cell_type": "markdown",
      "metadata": {
        "id": "AkGcRZadQj0t"
      },
      "source": [
        "# SMOTE - Split Over Upsampling "
      ]
    },
    {
      "cell_type": "markdown",
      "metadata": {
        "id": "FrpLEgGnQqkQ"
      },
      "source": [
        "## Read Data and View Schema"
      ]
    },
    {
      "cell_type": "code",
      "execution_count": null,
      "metadata": {
        "colab": {
          "base_uri": "https://localhost:8080/"
        },
        "id": "BiGZY0sDRIuF",
        "outputId": "1740aaac-9bde-4f9c-ff35-b2d984f7b3f7",
        "scrolled": true,
        "tags": []
      },
      "outputs": [
        {
          "name": "stdout",
          "output_type": "stream",
          "text": [
            "\n",
            "Train Schema\n",
            "root\n",
            " |-- loan_amnt: integer (nullable = true)\n",
            " |-- int_rate: double (nullable = true)\n",
            " |-- installment: double (nullable = true)\n",
            " |-- annual_inc: double (nullable = true)\n",
            " |-- inq_last_6mths: double (nullable = true)\n",
            " |-- pub_rec: double (nullable = true)\n",
            " |-- revol_bal: integer (nullable = true)\n",
            " |-- out_prncp: double (nullable = true)\n",
            " |-- total_pymnt: double (nullable = true)\n",
            " |-- total_rec_int: double (nullable = true)\n",
            " |-- total_rec_late_fee: double (nullable = true)\n",
            " |-- recoveries: double (nullable = true)\n",
            " |-- last_pymnt_amnt: double (nullable = true)\n",
            " |-- collections_12_mths_ex_med: double (nullable = true)\n",
            " |-- acc_open_past_24mths: double (nullable = true)\n",
            " |-- bc_open_to_buy: double (nullable = true)\n",
            " |-- chargeoff_within_12_mths: double (nullable = true)\n",
            " |-- delinq_amnt: double (nullable = true)\n",
            " |-- mths_since_recent_bc: double (nullable = true)\n",
            " |-- num_bc_sats: double (nullable = true)\n",
            " |-- num_bc_tl: double (nullable = true)\n",
            " |-- num_sats: double (nullable = true)\n",
            " |-- num_tl_30dpd: double (nullable = true)\n",
            " |-- tax_liens: double (nullable = true)\n",
            " |-- tot_hi_cred_lim: double (nullable = true)\n",
            " |-- total_bal_ex_mort: double (nullable = true)\n",
            " |-- total_bc_limit: double (nullable = true)\n",
            " |-- term_ 60 months: integer (nullable = true)\n",
            " |-- grade_B: integer (nullable = true)\n",
            " |-- grade_C: integer (nullable = true)\n",
            " |-- grade_D: integer (nullable = true)\n",
            " |-- home_ownership_MORTGAGE: integer (nullable = true)\n",
            " |-- home_ownership_OWN: integer (nullable = true)\n",
            " |-- home_ownership_RENT: integer (nullable = true)\n",
            " |-- verification_status_Source Verified: integer (nullable = true)\n",
            " |-- verification_status_Verified: integer (nullable = true)\n",
            " |-- purpose_credit_card: integer (nullable = true)\n",
            " |-- initial_list_status_w: integer (nullable = true)\n",
            " |-- application_type_Joint App: integer (nullable = true)\n",
            " |-- disbursement_method_DirectPay: integer (nullable = true)\n",
            " |-- num_il_tl: double (nullable = true)\n",
            " |-- num_accts_ever_120_pd: double (nullable = true)\n",
            " |-- mo_sin_old_rev_tl_op: double (nullable = true)\n",
            " |-- percent_bc_gt_75: double (nullable = true)\n",
            " |-- revol_util: double (nullable = true)\n",
            " |-- num_actv_rev_tl: double (nullable = true)\n",
            " |-- tot_coll_amt: double (nullable = true)\n",
            " |-- mort_acc: double (nullable = true)\n",
            " |-- delinq_2yrs: double (nullable = true)\n",
            " |-- num_tl_op_past_12m: double (nullable = true)\n",
            " |-- loan_status: integer (nullable = true)\n",
            "\n",
            "\n",
            "Test Schema\n",
            "root\n",
            " |-- loan_amnt: integer (nullable = true)\n",
            " |-- int_rate: double (nullable = true)\n",
            " |-- installment: double (nullable = true)\n",
            " |-- annual_inc: double (nullable = true)\n",
            " |-- inq_last_6mths: double (nullable = true)\n",
            " |-- pub_rec: double (nullable = true)\n",
            " |-- revol_bal: integer (nullable = true)\n",
            " |-- out_prncp: double (nullable = true)\n",
            " |-- total_pymnt: double (nullable = true)\n",
            " |-- total_rec_int: double (nullable = true)\n",
            " |-- total_rec_late_fee: double (nullable = true)\n",
            " |-- recoveries: double (nullable = true)\n",
            " |-- last_pymnt_amnt: double (nullable = true)\n",
            " |-- collections_12_mths_ex_med: double (nullable = true)\n",
            " |-- acc_open_past_24mths: double (nullable = true)\n",
            " |-- bc_open_to_buy: double (nullable = true)\n",
            " |-- chargeoff_within_12_mths: double (nullable = true)\n",
            " |-- delinq_amnt: double (nullable = true)\n",
            " |-- mths_since_recent_bc: double (nullable = true)\n",
            " |-- num_bc_sats: double (nullable = true)\n",
            " |-- num_bc_tl: double (nullable = true)\n",
            " |-- num_sats: double (nullable = true)\n",
            " |-- num_tl_30dpd: double (nullable = true)\n",
            " |-- tax_liens: double (nullable = true)\n",
            " |-- tot_hi_cred_lim: double (nullable = true)\n",
            " |-- total_bal_ex_mort: double (nullable = true)\n",
            " |-- total_bc_limit: double (nullable = true)\n",
            " |-- term_ 60 months: integer (nullable = true)\n",
            " |-- grade_B: integer (nullable = true)\n",
            " |-- grade_C: integer (nullable = true)\n",
            " |-- grade_D: integer (nullable = true)\n",
            " |-- home_ownership_MORTGAGE: integer (nullable = true)\n",
            " |-- home_ownership_OWN: integer (nullable = true)\n",
            " |-- home_ownership_RENT: integer (nullable = true)\n",
            " |-- verification_status_Source Verified: integer (nullable = true)\n",
            " |-- verification_status_Verified: integer (nullable = true)\n",
            " |-- purpose_credit_card: integer (nullable = true)\n",
            " |-- initial_list_status_w: integer (nullable = true)\n",
            " |-- application_type_Joint App: integer (nullable = true)\n",
            " |-- disbursement_method_DirectPay: integer (nullable = true)\n",
            " |-- num_il_tl: double (nullable = true)\n",
            " |-- num_accts_ever_120_pd: double (nullable = true)\n",
            " |-- mo_sin_old_rev_tl_op: double (nullable = true)\n",
            " |-- percent_bc_gt_75: double (nullable = true)\n",
            " |-- revol_util: double (nullable = true)\n",
            " |-- num_actv_rev_tl: double (nullable = true)\n",
            " |-- tot_coll_amt: double (nullable = true)\n",
            " |-- mort_acc: double (nullable = true)\n",
            " |-- delinq_2yrs: double (nullable = true)\n",
            " |-- num_tl_op_past_12m: double (nullable = true)\n",
            " |-- loan_status: integer (nullable = true)\n",
            "\n"
          ]
        }
      ],
      "source": [
        "trainDF = spark.read.csv('/content/drive/MyDrive/LoanStatus/Data/trainDF_SMOTE.csv',\n",
        "                         header=True, inferSchema=True).cache()\n",
        "trainDF = trainDF \\\n",
        "  .withColumn('loan_amnt', trainDF['loan_amnt'].cast(IntegerType())) \\\n",
        "  .withColumn('revol_bal', trainDF['revol_bal'].cast(IntegerType())) \\\n",
        "  .withColumn('term_ 60 months', trainDF['term_ 60 months'].cast(IntegerType())) \\\n",
        "  .withColumn('grade_B', trainDF['grade_B'].cast(IntegerType())) \\\n",
        "  .withColumn('grade_C', trainDF['grade_C'].cast(IntegerType())) \\\n",
        "  .withColumn('grade_D', trainDF['grade_D'].cast(IntegerType())) \\\n",
        "  .withColumn('home_ownership_MORTGAGE', trainDF['home_ownership_MORTGAGE'].cast(IntegerType())) \\\n",
        "  .withColumn('home_ownership_OWN', trainDF['home_ownership_OWN'].cast(IntegerType())) \\\n",
        "  .withColumn('home_ownership_RENT', trainDF['home_ownership_RENT'].cast(IntegerType())) \\\n",
        "  .withColumn('verification_status_Source Verified', trainDF['verification_status_Source Verified'].cast(IntegerType())) \\\n",
        "  .withColumn('verification_status_Verified', trainDF['verification_status_Verified'].cast(IntegerType())) \\\n",
        "  .withColumn('purpose_credit_card', trainDF['purpose_credit_card'].cast(IntegerType())) \\\n",
        "  .withColumn('initial_list_status_w', trainDF['initial_list_status_w'].cast(IntegerType())) \\\n",
        "  .withColumn('application_type_Joint App', trainDF['application_type_Joint App'].cast(IntegerType())) \\\n",
        "  .withColumn('disbursement_method_DirectPay', trainDF['disbursement_method_DirectPay'].cast(IntegerType())) \n",
        "print('\\nTrain Schema')\n",
        "trainDF.printSchema()\n",
        "\n",
        "testDF = spark.read.csv('/content/drive/MyDrive/LoanStatus/Data/testDF_SMOTE.csv',\n",
        "                        header=True, inferSchema=True).cache()\n",
        "print('\\nTest Schema')\n",
        "testDF.printSchema()"
      ]
    },
    {
      "cell_type": "markdown",
      "metadata": {
        "id": "HbCDa2I2R8bd"
      },
      "source": [
        "## Set up Vector Assembler"
      ]
    },
    {
      "cell_type": "code",
      "execution_count": null,
      "metadata": {
        "id": "wDb26XbT50dL"
      },
      "outputs": [],
      "source": [
        "# Define features and label for train data\n",
        "features = trainDF.columns[0: len(trainDF.columns) - 1]\n",
        "trainDF = trainDF.select(col('loan_status').alias('label'), *features)\n",
        "\n",
        "# Transform train data\n",
        "trainDF = vecAssembler.transform(trainDF)  "
      ]
    },
    {
      "cell_type": "code",
      "execution_count": null,
      "metadata": {
        "id": "sFWxtIfq50dU"
      },
      "outputs": [],
      "source": [
        "# Define features and label for test data \n",
        "features = testDF.columns[0: len(testDF.columns) - 1]\n",
        "testDF = testDF.select(col('loan_status').alias('label'), *features)\n",
        "\n",
        "# Transform test data\n",
        "testDF = vecAssembler.transform(testDF)  "
      ]
    },
    {
      "cell_type": "code",
      "execution_count": null,
      "metadata": {
        "colab": {
          "base_uri": "https://localhost:8080/"
        },
        "id": "dRaDx7idsyPI",
        "outputId": "dbac843e-00e9-48aa-c87f-31c685ffdaf2"
      },
      "outputs": [
        {
          "name": "stdout",
          "output_type": "stream",
          "text": [
            "/content/drive/MyDrive/LoanStatus/Python/Models/ML/SparkML/Models/GridSearchCV\n"
          ]
        }
      ],
      "source": [
        "# Change directory to write mlruns\n",
        "%cd /content/drive/MyDrive/LoanStatus/Python/Models/ML/SparkML/Models/GridSearchCV/"
      ]
    },
    {
      "cell_type": "markdown",
      "metadata": {
        "id": "-xNO0aW0Ru1Z"
      },
      "source": [
        "## Grid Search"
      ]
    },
    {
      "cell_type": "markdown",
      "metadata": {
        "id": "2pOAamCeaz-a"
      },
      "source": [
        "### Logistic Regression"
      ]
    },
    {
      "cell_type": "code",
      "execution_count": null,
      "metadata": {
        "id": "mlGYCYWOaz-b"
      },
      "outputs": [],
      "source": [
        "# Set up pipeline\n",
        "model = LogisticRegression(labelCol='label', \n",
        "                           featuresCol='scaledFeatures', \n",
        "                           family='binomial')\n",
        "\t\t\t\t\t\t\n",
        "pipeline_lr_hpo = Pipeline(stages=[stdScaler, model])"
      ]
    },
    {
      "cell_type": "code",
      "execution_count": null,
      "metadata": {
        "id": "vhdRnYRxaz-c"
      },
      "outputs": [],
      "source": [
        "# Create parameter grid\n",
        "paramGrid = (ParamGridBuilder()\n",
        "            .addGrid(model.regParam, [0.01, 0.1, 1.0])\n",
        "            .addGrid(model.elasticNetParam, [0.0, 0.5, 1.0])\n",
        "            .addGrid(model.maxIter, [500, 1000])\n",
        "            .build())"
      ]
    },
    {
      "cell_type": "code",
      "execution_count": null,
      "metadata": {
        "id": "a0CIiHaqaz-d"
      },
      "outputs": [],
      "source": [
        "# Define type of cross-validation\n",
        "cv = CrossValidator(estimator=pipeline_lr_hpo, \n",
        "                    estimatorParamMaps=paramGrid,\n",
        "                    evaluator=evaluator_auroc,\n",
        "                    numFolds=5, parallelism=5)"
      ]
    },
    {
      "cell_type": "code",
      "execution_count": null,
      "metadata": {
        "id": "oFNq53z5az-e",
        "outputId": "abc849c1-e32d-45b5-bfb2-65b321b0bac8"
      },
      "outputs": [
        {
          "name": "stderr",
          "output_type": "stream",
          "text": [
            "2022/09/12 15:22:59 INFO mlflow.utils.autologging_utils: Created MLflow autologging run with ID 'f3ce189f3e4f4a1b9785ff52706ead0a', which will track hyperparameters, performance metrics, model artifacts, and lineage information for the current pyspark.ml workflow\n",
            "Current mem limits: -1 of max -1                                                \n",
            "\n",
            "Setting mem limits to 3758096384 of max 3758096384\n",
            "\n"
          ]
        },
        {
          "name": "stdout",
          "output_type": "stream",
          "text": [
            "Time to perform GridSearchCV: 3538.256532430649\n"
          ]
        },
        {
          "name": "stderr",
          "output_type": "stream",
          "text": [
            "                                                                                \r"
          ]
        }
      ],
      "source": [
        "# Start timer for experiment\n",
        "search_time_start = time.time()\n",
        "\n",
        "# Run HPO\n",
        "pipelineModel_lr_hpo = cv.fit(trainDF)\n",
        "\n",
        "# End timer for experiment\n",
        "print('Time to perform GridSearchCV:', time.time() - search_time_start)\n",
        "\n",
        "# Save best model\n",
        "lr_grid = pipelineModel_lr_hpo.bestModel\n",
        "lr_grid.save('/content/drive/MyDrive/LoanStatus/Python/Models/ML/SparkML/Models/GridSearchCV/pipelineModel_lr_smote_hpo_grid')"
      ]
    },
    {
      "cell_type": "code",
      "execution_count": null,
      "metadata": {
        "id": "cVPtHkjAaz-f",
        "outputId": "bbea8401-1253-4efc-f9e1-bd0af70b64ef"
      },
      "outputs": [
        {
          "name": "stdout",
          "output_type": "stream",
          "text": [
            "{Param(parent='LogisticRegression_1a8b16aee211', name='regParam', doc='regularization parameter (>= 0).'): 0.01, Param(parent='LogisticRegression_1a8b16aee211', name='elasticNetParam', doc='the ElasticNet mixing parameter, in range [0, 1]. For alpha = 0, the penalty is an L2 penalty. For alpha = 1, it is an L1 penalty.'): 1.0, Param(parent='LogisticRegression_1a8b16aee211', name='maxIter', doc='max number of iterations (>= 0).'): 1000}\n"
          ]
        }
      ],
      "source": [
        "# Find best parameters\n",
        "print(pipelineModel_lr_hpo.getEstimatorParamMaps()[np.argmax(pipelineModel_lr_hpo.avgMetrics)])"
      ]
    },
    {
      "cell_type": "code",
      "execution_count": null,
      "metadata": {
        "id": "qOfilVG_az-g",
        "outputId": "1a97e8dd-72bb-4a02-ab02-b2761de64ee0",
        "scrolled": true,
        "tags": []
      },
      "outputs": [
        {
          "data": {
            "text/plain": [
              "[(0.9778755360734508,\n",
              "  {Param(parent='LogisticRegression_1a8b16aee211', name='regParam', doc='regularization parameter (>= 0).'): 0.01,\n",
              "   Param(parent='LogisticRegression_1a8b16aee211', name='elasticNetParam', doc='the ElasticNet mixing parameter, in range [0, 1]. For alpha = 0, the penalty is an L2 penalty. For alpha = 1, it is an L1 penalty.'): 0.0,\n",
              "   Param(parent='LogisticRegression_1a8b16aee211', name='maxIter', doc='max number of iterations (>= 0).'): 500}),\n",
              " (0.9778751109984445,\n",
              "  {Param(parent='LogisticRegression_1a8b16aee211', name='regParam', doc='regularization parameter (>= 0).'): 0.01,\n",
              "   Param(parent='LogisticRegression_1a8b16aee211', name='elasticNetParam', doc='the ElasticNet mixing parameter, in range [0, 1]. For alpha = 0, the penalty is an L2 penalty. For alpha = 1, it is an L1 penalty.'): 0.0,\n",
              "   Param(parent='LogisticRegression_1a8b16aee211', name='maxIter', doc='max number of iterations (>= 0).'): 1000}),\n",
              " (0.9791926748828731,\n",
              "  {Param(parent='LogisticRegression_1a8b16aee211', name='regParam', doc='regularization parameter (>= 0).'): 0.01,\n",
              "   Param(parent='LogisticRegression_1a8b16aee211', name='elasticNetParam', doc='the ElasticNet mixing parameter, in range [0, 1]. For alpha = 0, the penalty is an L2 penalty. For alpha = 1, it is an L1 penalty.'): 0.5,\n",
              "   Param(parent='LogisticRegression_1a8b16aee211', name='maxIter', doc='max number of iterations (>= 0).'): 500}),\n",
              " (0.9791926542263514,\n",
              "  {Param(parent='LogisticRegression_1a8b16aee211', name='regParam', doc='regularization parameter (>= 0).'): 0.01,\n",
              "   Param(parent='LogisticRegression_1a8b16aee211', name='elasticNetParam', doc='the ElasticNet mixing parameter, in range [0, 1]. For alpha = 0, the penalty is an L2 penalty. For alpha = 1, it is an L1 penalty.'): 0.5,\n",
              "   Param(parent='LogisticRegression_1a8b16aee211', name='maxIter', doc='max number of iterations (>= 0).'): 1000}),\n",
              " (0.9801374558021893,\n",
              "  {Param(parent='LogisticRegression_1a8b16aee211', name='regParam', doc='regularization parameter (>= 0).'): 0.01,\n",
              "   Param(parent='LogisticRegression_1a8b16aee211', name='elasticNetParam', doc='the ElasticNet mixing parameter, in range [0, 1]. For alpha = 0, the penalty is an L2 penalty. For alpha = 1, it is an L1 penalty.'): 1.0,\n",
              "   Param(parent='LogisticRegression_1a8b16aee211', name='maxIter', doc='max number of iterations (>= 0).'): 500}),\n",
              " (0.9801375109411928,\n",
              "  {Param(parent='LogisticRegression_1a8b16aee211', name='regParam', doc='regularization parameter (>= 0).'): 0.01,\n",
              "   Param(parent='LogisticRegression_1a8b16aee211', name='elasticNetParam', doc='the ElasticNet mixing parameter, in range [0, 1]. For alpha = 0, the penalty is an L2 penalty. For alpha = 1, it is an L1 penalty.'): 1.0,\n",
              "   Param(parent='LogisticRegression_1a8b16aee211', name='maxIter', doc='max number of iterations (>= 0).'): 1000}),\n",
              " (0.9541928965016581,\n",
              "  {Param(parent='LogisticRegression_1a8b16aee211', name='regParam', doc='regularization parameter (>= 0).'): 0.1,\n",
              "   Param(parent='LogisticRegression_1a8b16aee211', name='elasticNetParam', doc='the ElasticNet mixing parameter, in range [0, 1]. For alpha = 0, the penalty is an L2 penalty. For alpha = 1, it is an L1 penalty.'): 0.0,\n",
              "   Param(parent='LogisticRegression_1a8b16aee211', name='maxIter', doc='max number of iterations (>= 0).'): 500}),\n",
              " (0.9541925864356584,\n",
              "  {Param(parent='LogisticRegression_1a8b16aee211', name='regParam', doc='regularization parameter (>= 0).'): 0.1,\n",
              "   Param(parent='LogisticRegression_1a8b16aee211', name='elasticNetParam', doc='the ElasticNet mixing parameter, in range [0, 1]. For alpha = 0, the penalty is an L2 penalty. For alpha = 1, it is an L1 penalty.'): 0.0,\n",
              "   Param(parent='LogisticRegression_1a8b16aee211', name='maxIter', doc='max number of iterations (>= 0).'): 1000}),\n",
              " (0.9422507801645551,\n",
              "  {Param(parent='LogisticRegression_1a8b16aee211', name='regParam', doc='regularization parameter (>= 0).'): 0.1,\n",
              "   Param(parent='LogisticRegression_1a8b16aee211', name='elasticNetParam', doc='the ElasticNet mixing parameter, in range [0, 1]. For alpha = 0, the penalty is an L2 penalty. For alpha = 1, it is an L1 penalty.'): 0.5,\n",
              "   Param(parent='LogisticRegression_1a8b16aee211', name='maxIter', doc='max number of iterations (>= 0).'): 500}),\n",
              " (0.942251047732592,\n",
              "  {Param(parent='LogisticRegression_1a8b16aee211', name='regParam', doc='regularization parameter (>= 0).'): 0.1,\n",
              "   Param(parent='LogisticRegression_1a8b16aee211', name='elasticNetParam', doc='the ElasticNet mixing parameter, in range [0, 1]. For alpha = 0, the penalty is an L2 penalty. For alpha = 1, it is an L1 penalty.'): 0.5,\n",
              "   Param(parent='LogisticRegression_1a8b16aee211', name='maxIter', doc='max number of iterations (>= 0).'): 1000}),\n",
              " (0.9480647741492529,\n",
              "  {Param(parent='LogisticRegression_1a8b16aee211', name='regParam', doc='regularization parameter (>= 0).'): 0.1,\n",
              "   Param(parent='LogisticRegression_1a8b16aee211', name='elasticNetParam', doc='the ElasticNet mixing parameter, in range [0, 1]. For alpha = 0, the penalty is an L2 penalty. For alpha = 1, it is an L1 penalty.'): 1.0,\n",
              "   Param(parent='LogisticRegression_1a8b16aee211', name='maxIter', doc='max number of iterations (>= 0).'): 500}),\n",
              " (0.948065227132229,\n",
              "  {Param(parent='LogisticRegression_1a8b16aee211', name='regParam', doc='regularization parameter (>= 0).'): 0.1,\n",
              "   Param(parent='LogisticRegression_1a8b16aee211', name='elasticNetParam', doc='the ElasticNet mixing parameter, in range [0, 1]. For alpha = 0, the penalty is an L2 penalty. For alpha = 1, it is an L1 penalty.'): 1.0,\n",
              "   Param(parent='LogisticRegression_1a8b16aee211', name='maxIter', doc='max number of iterations (>= 0).'): 1000}),\n",
              " (0.9006540623186489,\n",
              "  {Param(parent='LogisticRegression_1a8b16aee211', name='regParam', doc='regularization parameter (>= 0).'): 1.0,\n",
              "   Param(parent='LogisticRegression_1a8b16aee211', name='elasticNetParam', doc='the ElasticNet mixing parameter, in range [0, 1]. For alpha = 0, the penalty is an L2 penalty. For alpha = 1, it is an L1 penalty.'): 0.0,\n",
              "   Param(parent='LogisticRegression_1a8b16aee211', name='maxIter', doc='max number of iterations (>= 0).'): 500}),\n",
              " (0.9006543296822838,\n",
              "  {Param(parent='LogisticRegression_1a8b16aee211', name='regParam', doc='regularization parameter (>= 0).'): 1.0,\n",
              "   Param(parent='LogisticRegression_1a8b16aee211', name='elasticNetParam', doc='the ElasticNet mixing parameter, in range [0, 1]. For alpha = 0, the penalty is an L2 penalty. For alpha = 1, it is an L1 penalty.'): 0.0,\n",
              "   Param(parent='LogisticRegression_1a8b16aee211', name='maxIter', doc='max number of iterations (>= 0).'): 1000}),\n",
              " (0.5,\n",
              "  {Param(parent='LogisticRegression_1a8b16aee211', name='regParam', doc='regularization parameter (>= 0).'): 1.0,\n",
              "   Param(parent='LogisticRegression_1a8b16aee211', name='elasticNetParam', doc='the ElasticNet mixing parameter, in range [0, 1]. For alpha = 0, the penalty is an L2 penalty. For alpha = 1, it is an L1 penalty.'): 0.5,\n",
              "   Param(parent='LogisticRegression_1a8b16aee211', name='maxIter', doc='max number of iterations (>= 0).'): 500}),\n",
              " (0.5,\n",
              "  {Param(parent='LogisticRegression_1a8b16aee211', name='regParam', doc='regularization parameter (>= 0).'): 1.0,\n",
              "   Param(parent='LogisticRegression_1a8b16aee211', name='elasticNetParam', doc='the ElasticNet mixing parameter, in range [0, 1]. For alpha = 0, the penalty is an L2 penalty. For alpha = 1, it is an L1 penalty.'): 0.5,\n",
              "   Param(parent='LogisticRegression_1a8b16aee211', name='maxIter', doc='max number of iterations (>= 0).'): 1000}),\n",
              " (0.5,\n",
              "  {Param(parent='LogisticRegression_1a8b16aee211', name='regParam', doc='regularization parameter (>= 0).'): 1.0,\n",
              "   Param(parent='LogisticRegression_1a8b16aee211', name='elasticNetParam', doc='the ElasticNet mixing parameter, in range [0, 1]. For alpha = 0, the penalty is an L2 penalty. For alpha = 1, it is an L1 penalty.'): 1.0,\n",
              "   Param(parent='LogisticRegression_1a8b16aee211', name='maxIter', doc='max number of iterations (>= 0).'): 500}),\n",
              " (0.5,\n",
              "  {Param(parent='LogisticRegression_1a8b16aee211', name='regParam', doc='regularization parameter (>= 0).'): 1.0,\n",
              "   Param(parent='LogisticRegression_1a8b16aee211', name='elasticNetParam', doc='the ElasticNet mixing parameter, in range [0, 1]. For alpha = 0, the penalty is an L2 penalty. For alpha = 1, it is an L1 penalty.'): 1.0,\n",
              "   Param(parent='LogisticRegression_1a8b16aee211', name='maxIter', doc='max number of iterations (>= 0).'): 1000})]"
            ]
          },
          "execution_count": 54,
          "metadata": {},
          "output_type": "execute_result"
        }
      ],
      "source": [
        "# View all results (AUROC) by each params\n",
        "list(zip(pipelineModel_lr_hpo.avgMetrics, \n",
        "         pipelineModel_lr_hpo.getEstimatorParamMaps()))"
      ]
    },
    {
      "cell_type": "code",
      "execution_count": null,
      "metadata": {
        "colab": {
          "base_uri": "https://localhost:8080/"
        },
        "id": "Df-IhcmuLQIb",
        "outputId": "82bb955e-32cf-4993-8ac3-a3146782f784"
      },
      "outputs": [
        {
          "name": "stdout",
          "output_type": "stream",
          "text": [
            "GridSearchCV: Logistic Regression\n",
            "Area under ROC curve: 0.970526\n",
            "Test Error: 0.0294738 \n",
            "Accuracy: 0.9745810721131724\n"
          ]
        }
      ],
      "source": [
        "# Predict and find AUROC, test error and accuracy\n",
        "prediction_lr = pipelineModel_lr_hpo.transform(testDF) \n",
        "\n",
        "lr_auroc = evaluator_auroc.evaluate(prediction_lr)\n",
        "print('GridSearchCV: Logistic Regression')\n",
        "print('Area under ROC curve: %g' % (lr_auroc))\n",
        "print('Test Error: %g ' % (1.0 - lr_auroc))\n",
        "print('Accuracy:', evaluator_acc.evaluate(prediction_lr)) "
      ]
    },
    {
      "cell_type": "code",
      "execution_count": null,
      "metadata": {
        "id": "jieA6P46az-i",
        "outputId": "1a54a866-00ea-4f15-81a0-5454604f2d94",
        "scrolled": true,
        "tags": []
      },
      "outputs": [
        {
          "data": {
            "text/plain": [
              "{Param(parent='LogisticRegression_1a8b16aee211', name='aggregationDepth', doc='suggested depth for treeAggregate (>= 2).'): 2,\n",
              " Param(parent='LogisticRegression_1a8b16aee211', name='elasticNetParam', doc='the ElasticNet mixing parameter, in range [0, 1]. For alpha = 0, the penalty is an L2 penalty. For alpha = 1, it is an L1 penalty.'): 1.0,\n",
              " Param(parent='LogisticRegression_1a8b16aee211', name='family', doc='The name of family which is a description of the label distribution to be used in the model. Supported options: auto, binomial, multinomial'): 'binomial',\n",
              " Param(parent='LogisticRegression_1a8b16aee211', name='featuresCol', doc='features column name.'): 'scaledFeatures',\n",
              " Param(parent='LogisticRegression_1a8b16aee211', name='fitIntercept', doc='whether to fit an intercept term.'): True,\n",
              " Param(parent='LogisticRegression_1a8b16aee211', name='labelCol', doc='label column name.'): 'label',\n",
              " Param(parent='LogisticRegression_1a8b16aee211', name='maxBlockSizeInMB', doc='maximum memory in MB for stacking input data into blocks. Data is stacked within partitions. If more than remaining data size in a partition then it is adjusted to the data size. Default 0.0 represents choosing optimal value, depends on specific algorithm. Must be >= 0.'): 0.0,\n",
              " Param(parent='LogisticRegression_1a8b16aee211', name='maxIter', doc='max number of iterations (>= 0).'): 1000,\n",
              " Param(parent='LogisticRegression_1a8b16aee211', name='predictionCol', doc='prediction column name.'): 'prediction',\n",
              " Param(parent='LogisticRegression_1a8b16aee211', name='probabilityCol', doc='Column name for predicted class conditional probabilities. Note: Not all models output well-calibrated probability estimates! These probabilities should be treated as confidences, not precise probabilities.'): 'probability',\n",
              " Param(parent='LogisticRegression_1a8b16aee211', name='rawPredictionCol', doc='raw prediction (a.k.a. confidence) column name.'): 'rawPrediction',\n",
              " Param(parent='LogisticRegression_1a8b16aee211', name='regParam', doc='regularization parameter (>= 0).'): 0.01,\n",
              " Param(parent='LogisticRegression_1a8b16aee211', name='standardization', doc='whether to standardize the training features before fitting the model.'): True,\n",
              " Param(parent='LogisticRegression_1a8b16aee211', name='threshold', doc='Threshold in binary classification prediction, in range [0, 1]. If threshold and thresholds are both set, they must match.e.g. if threshold is p, then thresholds must be equal to [1-p, p].'): 0.5,\n",
              " Param(parent='LogisticRegression_1a8b16aee211', name='tol', doc='the convergence tolerance for iterative algorithms (>= 0).'): 1e-06}"
            ]
          },
          "execution_count": 56,
          "metadata": {},
          "output_type": "execute_result"
        }
      ],
      "source": [
        "# Extract info from pipeline\n",
        "pipelineModel_lr_hpo.bestModel.stages[-1].extractParamMap()"
      ]
    },
    {
      "cell_type": "code",
      "execution_count": null,
      "metadata": {
        "id": "T8e9UN39az-j",
        "outputId": "30ebdd02-6832-40ae-b414-d3154010f1fc",
        "scrolled": true,
        "tags": []
      },
      "outputs": [
        {
          "name": "stdout",
          "output_type": "stream",
          "text": [
            "PipelineModel_48ff2dae612f\n",
            "\n",
            "\n",
            "LogisticRegressionModel: uid=LogisticRegression_1a8b16aee211, numClasses=2, numFeatures=50\n",
            "\n",
            "\n",
            "{Param(parent='LogisticRegression_1a8b16aee211', name='aggregationDepth', doc='suggested depth for treeAggregate (>= 2).'): 2, Param(parent='LogisticRegression_1a8b16aee211', name='elasticNetParam', doc='the ElasticNet mixing parameter, in range [0, 1]. For alpha = 0, the penalty is an L2 penalty. For alpha = 1, it is an L1 penalty.'): 1.0, Param(parent='LogisticRegression_1a8b16aee211', name='family', doc='The name of family which is a description of the label distribution to be used in the model. Supported options: auto, binomial, multinomial'): 'binomial', Param(parent='LogisticRegression_1a8b16aee211', name='featuresCol', doc='features column name.'): 'scaledFeatures', Param(parent='LogisticRegression_1a8b16aee211', name='fitIntercept', doc='whether to fit an intercept term.'): True, Param(parent='LogisticRegression_1a8b16aee211', name='labelCol', doc='label column name.'): 'label', Param(parent='LogisticRegression_1a8b16aee211', name='maxBlockSizeInMB', doc='maximum memory in MB for stacking input data into blocks. Data is stacked within partitions. If more than remaining data size in a partition then it is adjusted to the data size. Default 0.0 represents choosing optimal value, depends on specific algorithm. Must be >= 0.'): 0.0, Param(parent='LogisticRegression_1a8b16aee211', name='maxIter', doc='max number of iterations (>= 0).'): 1000, Param(parent='LogisticRegression_1a8b16aee211', name='predictionCol', doc='prediction column name.'): 'prediction', Param(parent='LogisticRegression_1a8b16aee211', name='probabilityCol', doc='Column name for predicted class conditional probabilities. Note: Not all models output well-calibrated probability estimates! These probabilities should be treated as confidences, not precise probabilities.'): 'probability', Param(parent='LogisticRegression_1a8b16aee211', name='rawPredictionCol', doc='raw prediction (a.k.a. confidence) column name.'): 'rawPrediction', Param(parent='LogisticRegression_1a8b16aee211', name='regParam', doc='regularization parameter (>= 0).'): 0.01, Param(parent='LogisticRegression_1a8b16aee211', name='standardization', doc='whether to standardize the training features before fitting the model.'): True, Param(parent='LogisticRegression_1a8b16aee211', name='threshold', doc='Threshold in binary classification prediction, in range [0, 1]. If threshold and thresholds are both set, they must match.e.g. if threshold is p, then thresholds must be equal to [1-p, p].'): 0.5, Param(parent='LogisticRegression_1a8b16aee211', name='tol', doc='the convergence tolerance for iterative algorithms (>= 0).'): 1e-06}\n"
          ]
        }
      ],
      "source": [
        "# Find best model and params\n",
        "bestPipeline = pipelineModel_lr_hpo.bestModel\n",
        "bestModel = bestPipeline.stages[-1]\n",
        "bestParams = bestModel.extractParamMap()\n",
        "print(bestPipeline)\n",
        "print('\\n')\n",
        "print(bestModel)\n",
        "print('\\n')\n",
        "print(bestParams)"
      ]
    },
    {
      "cell_type": "code",
      "execution_count": null,
      "metadata": {
        "id": "nf0re9ecaz-j",
        "outputId": "9b45948b-319e-40cc-a97b-c68f439997b9"
      },
      "outputs": [
        {
          "name": "stdout",
          "output_type": "stream",
          "text": [
            "0.01\n",
            "1.0\n",
            "1000\n"
          ]
        }
      ],
      "source": [
        "# Find best model and params\n",
        "best_mod = pipelineModel_lr_hpo.bestModel\n",
        "param_dict = best_mod.stages[-1].extractParamMap()\n",
        "sane_dict = {}\n",
        "for k, v in param_dict.items():\n",
        "  sane_dict[k.name] = v\n",
        "\n",
        "best_reg = sane_dict['regParam']\n",
        "best_elastic_net = sane_dict['elasticNetParam']\n",
        "best_max_iter = sane_dict['maxIter']\n",
        "print(best_reg)\n",
        "print(best_elastic_net)\n",
        "print(best_max_iter)"
      ]
    },
    {
      "cell_type": "markdown",
      "metadata": {
        "id": "1l9nyJp2az-l"
      },
      "source": [
        "### LinearSVC"
      ]
    },
    {
      "cell_type": "code",
      "execution_count": null,
      "metadata": {
        "id": "FdkoGPKwaz-m"
      },
      "outputs": [],
      "source": [
        "# Set up pipeline\n",
        "model = LinearSVC(featuresCol='scaledFeatures', \n",
        "                  labelCol='label')\n",
        "\n",
        "pipeline_lsvc_hpo = Pipeline(stages=[stdScaler, model])"
      ]
    },
    {
      "cell_type": "code",
      "execution_count": null,
      "metadata": {
        "id": "TvhdhRNxaz-m"
      },
      "outputs": [],
      "source": [
        "# Create parameter grid\n",
        "paramGrid = (ParamGridBuilder()\n",
        "            .addGrid(model.regParam, [0.0, 0.01, 0.1, 1.0])\n",
        "            .addGrid(model.tol, [1e-7, 1e-6, 1e-5])\n",
        "            .addGrid(model.maxIter, [100])\n",
        "            .build())"
      ]
    },
    {
      "cell_type": "code",
      "execution_count": null,
      "metadata": {
        "id": "gCqCKfzDaz-m"
      },
      "outputs": [],
      "source": [
        "# Define type of cross-validation\n",
        "cv = CrossValidator(estimator=pipeline_lsvc_hpo,\n",
        "                    estimatorParamMaps=paramGrid,\n",
        "                    evaluator=evaluator_auroc,\n",
        "                    numFolds=5, parallelism=5)"
      ]
    },
    {
      "cell_type": "code",
      "execution_count": null,
      "metadata": {
        "colab": {
          "base_uri": "https://localhost:8080/"
        },
        "id": "AWqMojHMx0aJ",
        "outputId": "aca1d364-4132-4137-c745-1707ad6469d6"
      },
      "outputs": [
        {
          "name": "stderr",
          "output_type": "stream",
          "text": [
            "2022/10/10 19:20:09 INFO mlflow.utils.autologging_utils: Created MLflow autologging run with ID 'e05424308fda4d999924b85ad77994ee', which will track hyperparameters, performance metrics, model artifacts, and lineage information for the current pyspark.ml workflow\n",
            "2022/10/10 20:35:23 WARNING mlflow.pyspark.ml: Model inputs contain unsupported Spark data types: [StructField(unscaledFeatures,VectorUDT,true)]. Model signature is not logged.\n"
          ]
        },
        {
          "name": "stdout",
          "output_type": "stream",
          "text": [
            "Time to perform GridSearchCV: 4582.975047588348\n"
          ]
        }
      ],
      "source": [
        "# Start timer for experiment\n",
        "search_time_start = time.time()\n",
        "\n",
        "# Run HPO\n",
        "pipelineModel_lsvc_hpo = cv.fit(trainDF)\n",
        "\n",
        "# End timer for experiment\n",
        "print('Time to perform GridSearchCV:', time.time() - search_time_start)\n",
        "\n",
        "# Save best model\n",
        "lsvc_grid = pipelineModel_lsvc_hpo.bestModel\n",
        "lsvc_grid.save('/content/drive/MyDrive/LoanStatus/Python/Models/ML/SparkML/Models/GridSearchCV/pipelineModel_lsvc_smote_hpo_grid')"
      ]
    },
    {
      "cell_type": "code",
      "execution_count": null,
      "metadata": {
        "id": "4WiMhvbMaz-o",
        "outputId": "7a7ad6ac-fad9-4f61-bdd9-26b799e8a294"
      },
      "outputs": [
        {
          "name": "stdout",
          "output_type": "stream",
          "text": [
            "{Param(parent='LinearSVC_ae6f900c2384', name='regParam', doc='regularization parameter (>= 0).'): 0.0, Param(parent='LinearSVC_ae6f900c2384', name='tol', doc='the convergence tolerance for iterative algorithms (>= 0).'): 1e-05, Param(parent='LinearSVC_ae6f900c2384', name='maxIter', doc='max number of iterations (>= 0).'): 100}\n"
          ]
        }
      ],
      "source": [
        "# Find best parameters\n",
        "print(pipelineModel_lsvc_hpo.getEstimatorParamMaps()[np.argmax(pipelineModel_lsvc_hpo.avgMetrics)])"
      ]
    },
    {
      "cell_type": "code",
      "execution_count": null,
      "metadata": {
        "id": "i6fftVzNaz-o",
        "outputId": "f010e123-b4a5-4da1-c28a-a15d099377a1",
        "scrolled": true,
        "tags": []
      },
      "outputs": [
        {
          "data": {
            "text/plain": [
              "[(0.9873127154721812,\n",
              "  {Param(parent='LinearSVC_ae6f900c2384', name='regParam', doc='regularization parameter (>= 0).'): 0.0,\n",
              "   Param(parent='LinearSVC_ae6f900c2384', name='tol', doc='the convergence tolerance for iterative algorithms (>= 0).'): 1e-07,\n",
              "   Param(parent='LinearSVC_ae6f900c2384', name='maxIter', doc='max number of iterations (>= 0).'): 100}),\n",
              " (0.9873126219826217,\n",
              "  {Param(parent='LinearSVC_ae6f900c2384', name='regParam', doc='regularization parameter (>= 0).'): 0.0,\n",
              "   Param(parent='LinearSVC_ae6f900c2384', name='tol', doc='the convergence tolerance for iterative algorithms (>= 0).'): 1e-06,\n",
              "   Param(parent='LinearSVC_ae6f900c2384', name='maxIter', doc='max number of iterations (>= 0).'): 100}),\n",
              " (0.9873127799419226,\n",
              "  {Param(parent='LinearSVC_ae6f900c2384', name='regParam', doc='regularization parameter (>= 0).'): 0.0,\n",
              "   Param(parent='LinearSVC_ae6f900c2384', name='tol', doc='the convergence tolerance for iterative algorithms (>= 0).'): 1e-05,\n",
              "   Param(parent='LinearSVC_ae6f900c2384', name='maxIter', doc='max number of iterations (>= 0).'): 100}),\n",
              " (0.9827366117566619,\n",
              "  {Param(parent='LinearSVC_ae6f900c2384', name='regParam', doc='regularization parameter (>= 0).'): 0.01,\n",
              "   Param(parent='LinearSVC_ae6f900c2384', name='tol', doc='the convergence tolerance for iterative algorithms (>= 0).'): 1e-07,\n",
              "   Param(parent='LinearSVC_ae6f900c2384', name='maxIter', doc='max number of iterations (>= 0).'): 100}),\n",
              " (0.9827347046076905,\n",
              "  {Param(parent='LinearSVC_ae6f900c2384', name='regParam', doc='regularization parameter (>= 0).'): 0.01,\n",
              "   Param(parent='LinearSVC_ae6f900c2384', name='tol', doc='the convergence tolerance for iterative algorithms (>= 0).'): 1e-06,\n",
              "   Param(parent='LinearSVC_ae6f900c2384', name='maxIter', doc='max number of iterations (>= 0).'): 100}),\n",
              " (0.9827229435667089,\n",
              "  {Param(parent='LinearSVC_ae6f900c2384', name='regParam', doc='regularization parameter (>= 0).'): 0.01,\n",
              "   Param(parent='LinearSVC_ae6f900c2384', name='tol', doc='the convergence tolerance for iterative algorithms (>= 0).'): 1e-05,\n",
              "   Param(parent='LinearSVC_ae6f900c2384', name='maxIter', doc='max number of iterations (>= 0).'): 100}),\n",
              " (0.9674990011641317,\n",
              "  {Param(parent='LinearSVC_ae6f900c2384', name='regParam', doc='regularization parameter (>= 0).'): 0.1,\n",
              "   Param(parent='LinearSVC_ae6f900c2384', name='tol', doc='the convergence tolerance for iterative algorithms (>= 0).'): 1e-07,\n",
              "   Param(parent='LinearSVC_ae6f900c2384', name='maxIter', doc='max number of iterations (>= 0).'): 100}),\n",
              " (0.9674988144609864,\n",
              "  {Param(parent='LinearSVC_ae6f900c2384', name='regParam', doc='regularization parameter (>= 0).'): 0.1,\n",
              "   Param(parent='LinearSVC_ae6f900c2384', name='tol', doc='the convergence tolerance for iterative algorithms (>= 0).'): 1e-06,\n",
              "   Param(parent='LinearSVC_ae6f900c2384', name='maxIter', doc='max number of iterations (>= 0).'): 100}),\n",
              " (0.9674992048487028,\n",
              "  {Param(parent='LinearSVC_ae6f900c2384', name='regParam', doc='regularization parameter (>= 0).'): 0.1,\n",
              "   Param(parent='LinearSVC_ae6f900c2384', name='tol', doc='the convergence tolerance for iterative algorithms (>= 0).'): 1e-05,\n",
              "   Param(parent='LinearSVC_ae6f900c2384', name='maxIter', doc='max number of iterations (>= 0).'): 100}),\n",
              " (0.9033422646180103,\n",
              "  {Param(parent='LinearSVC_ae6f900c2384', name='regParam', doc='regularization parameter (>= 0).'): 1.0,\n",
              "   Param(parent='LinearSVC_ae6f900c2384', name='tol', doc='the convergence tolerance for iterative algorithms (>= 0).'): 1e-07,\n",
              "   Param(parent='LinearSVC_ae6f900c2384', name='maxIter', doc='max number of iterations (>= 0).'): 100}),\n",
              " (0.9033421668549539,\n",
              "  {Param(parent='LinearSVC_ae6f900c2384', name='regParam', doc='regularization parameter (>= 0).'): 1.0,\n",
              "   Param(parent='LinearSVC_ae6f900c2384', name='tol', doc='the convergence tolerance for iterative algorithms (>= 0).'): 1e-06,\n",
              "   Param(parent='LinearSVC_ae6f900c2384', name='maxIter', doc='max number of iterations (>= 0).'): 100}),\n",
              " (0.9033423781521102,\n",
              "  {Param(parent='LinearSVC_ae6f900c2384', name='regParam', doc='regularization parameter (>= 0).'): 1.0,\n",
              "   Param(parent='LinearSVC_ae6f900c2384', name='tol', doc='the convergence tolerance for iterative algorithms (>= 0).'): 1e-05,\n",
              "   Param(parent='LinearSVC_ae6f900c2384', name='maxIter', doc='max number of iterations (>= 0).'): 100})]"
            ]
          },
          "execution_count": 70,
          "metadata": {},
          "output_type": "execute_result"
        }
      ],
      "source": [
        "# View all results (AUROC) by each params\n",
        "list(zip(pipelineModel_lsvc_hpo.avgMetrics, \n",
        "         pipelineModel_lsvc_hpo.getEstimatorParamMaps()))"
      ]
    },
    {
      "cell_type": "code",
      "execution_count": null,
      "metadata": {
        "colab": {
          "base_uri": "https://localhost:8080/"
        },
        "id": "T2ClOSt5LfkC",
        "outputId": "d70c22f8-77f1-4b40-d19e-f0f9ed32646d"
      },
      "outputs": [
        {
          "name": "stdout",
          "output_type": "stream",
          "text": [
            "GridSearchCV: LinearSVC\n",
            "Area under ROC curve: 0.979112\n",
            "Test Error: 0.0208878\n",
            "Accuracy:  0.9819711288334763\n"
          ]
        }
      ],
      "source": [
        "# Predict and find AUROC, test error and accuracy\n",
        "prediction_lsvc = pipelineModel_lsvc_hpo.transform(testDF) \n",
        "\n",
        "lsvc_auroc = evaluator_auroc.evaluate(prediction_lsvc)\n",
        "print('GridSearchCV: LinearSVC')\n",
        "print('Area under ROC curve: %g' % (lsvc_auroc))\n",
        "print('Test Error: %g' % (1.0 - lsvc_auroc))\n",
        "print('Accuracy: ', evaluator_acc.evaluate(prediction_lsvc)) "
      ]
    },
    {
      "cell_type": "code",
      "execution_count": null,
      "metadata": {
        "id": "br-FxnCdaz-p",
        "outputId": "bde16235-f813-44cc-b395-0e27de364581",
        "scrolled": true,
        "tags": []
      },
      "outputs": [
        {
          "data": {
            "text/plain": [
              "{Param(parent='LinearSVC_ae6f900c2384', name='aggregationDepth', doc='suggested depth for treeAggregate (>= 2).'): 2,\n",
              " Param(parent='LinearSVC_ae6f900c2384', name='featuresCol', doc='features column name.'): 'scaledFeatures',\n",
              " Param(parent='LinearSVC_ae6f900c2384', name='fitIntercept', doc='whether to fit an intercept term.'): True,\n",
              " Param(parent='LinearSVC_ae6f900c2384', name='labelCol', doc='label column name.'): 'label',\n",
              " Param(parent='LinearSVC_ae6f900c2384', name='maxBlockSizeInMB', doc='maximum memory in MB for stacking input data into blocks. Data is stacked within partitions. If more than remaining data size in a partition then it is adjusted to the data size. Default 0.0 represents choosing optimal value, depends on specific algorithm. Must be >= 0.'): 0.0,\n",
              " Param(parent='LinearSVC_ae6f900c2384', name='maxIter', doc='max number of iterations (>= 0).'): 100,\n",
              " Param(parent='LinearSVC_ae6f900c2384', name='predictionCol', doc='prediction column name.'): 'prediction',\n",
              " Param(parent='LinearSVC_ae6f900c2384', name='rawPredictionCol', doc='raw prediction (a.k.a. confidence) column name.'): 'rawPrediction',\n",
              " Param(parent='LinearSVC_ae6f900c2384', name='regParam', doc='regularization parameter (>= 0).'): 0.0,\n",
              " Param(parent='LinearSVC_ae6f900c2384', name='standardization', doc='whether to standardize the training features before fitting the model.'): True,\n",
              " Param(parent='LinearSVC_ae6f900c2384', name='threshold', doc='The threshold in binary classification applied to the linear model prediction.  This threshold can be any real number, where Inf will make all predictions 0.0 and -Inf will make all predictions 1.0.'): 0.0,\n",
              " Param(parent='LinearSVC_ae6f900c2384', name='tol', doc='the convergence tolerance for iterative algorithms (>= 0).'): 1e-05}"
            ]
          },
          "execution_count": 72,
          "metadata": {},
          "output_type": "execute_result"
        }
      ],
      "source": [
        "# Extract info from pipeline\n",
        "pipelineModel_lsvc_hpo.bestModel.stages[-1].extractParamMap()"
      ]
    },
    {
      "cell_type": "code",
      "execution_count": null,
      "metadata": {
        "id": "ZjRmCvfzaz-p",
        "outputId": "8cb99f4b-1409-484a-c7cf-79eb93f24ff1",
        "scrolled": true,
        "tags": []
      },
      "outputs": [
        {
          "name": "stdout",
          "output_type": "stream",
          "text": [
            "PipelineModel_8276520eaaad\n",
            "\n",
            "\n",
            "LinearSVCModel: uid=LinearSVC_ae6f900c2384, numClasses=2, numFeatures=50\n",
            "\n",
            "\n",
            "{Param(parent='LinearSVC_ae6f900c2384', name='aggregationDepth', doc='suggested depth for treeAggregate (>= 2).'): 2, Param(parent='LinearSVC_ae6f900c2384', name='featuresCol', doc='features column name.'): 'scaledFeatures', Param(parent='LinearSVC_ae6f900c2384', name='fitIntercept', doc='whether to fit an intercept term.'): True, Param(parent='LinearSVC_ae6f900c2384', name='labelCol', doc='label column name.'): 'label', Param(parent='LinearSVC_ae6f900c2384', name='maxBlockSizeInMB', doc='maximum memory in MB for stacking input data into blocks. Data is stacked within partitions. If more than remaining data size in a partition then it is adjusted to the data size. Default 0.0 represents choosing optimal value, depends on specific algorithm. Must be >= 0.'): 0.0, Param(parent='LinearSVC_ae6f900c2384', name='maxIter', doc='max number of iterations (>= 0).'): 100, Param(parent='LinearSVC_ae6f900c2384', name='predictionCol', doc='prediction column name.'): 'prediction', Param(parent='LinearSVC_ae6f900c2384', name='rawPredictionCol', doc='raw prediction (a.k.a. confidence) column name.'): 'rawPrediction', Param(parent='LinearSVC_ae6f900c2384', name='regParam', doc='regularization parameter (>= 0).'): 0.0, Param(parent='LinearSVC_ae6f900c2384', name='standardization', doc='whether to standardize the training features before fitting the model.'): True, Param(parent='LinearSVC_ae6f900c2384', name='threshold', doc='The threshold in binary classification applied to the linear model prediction.  This threshold can be any real number, where Inf will make all predictions 0.0 and -Inf will make all predictions 1.0.'): 0.0, Param(parent='LinearSVC_ae6f900c2384', name='tol', doc='the convergence tolerance for iterative algorithms (>= 0).'): 1e-05}\n"
          ]
        }
      ],
      "source": [
        "# Find best model and params\n",
        "bestPipeline = pipelineModel_lsvc_hpo.bestModel\n",
        "bestModel = bestPipeline.stages[-1]\n",
        "bestParams = bestModel.extractParamMap()\n",
        "print(bestPipeline)\n",
        "print('\\n')\n",
        "print(bestModel)\n",
        "print('\\n')\n",
        "print(bestParams)"
      ]
    },
    {
      "cell_type": "code",
      "execution_count": null,
      "metadata": {
        "id": "X-lNlghzaz-q",
        "outputId": "326c0ee4-76c3-4033-e489-72bcad23174b"
      },
      "outputs": [
        {
          "data": {
            "text/plain": [
              "{'aggregationDepth': 2,\n",
              " 'featuresCol': 'scaledFeatures',\n",
              " 'fitIntercept': True,\n",
              " 'labelCol': 'label',\n",
              " 'maxBlockSizeInMB': 0.0,\n",
              " 'maxIter': 100,\n",
              " 'predictionCol': 'prediction',\n",
              " 'rawPredictionCol': 'rawPrediction',\n",
              " 'regParam': 0.0,\n",
              " 'standardization': True,\n",
              " 'threshold': 0.0,\n",
              " 'tol': 1e-05}"
            ]
          },
          "execution_count": 74,
          "metadata": {},
          "output_type": "execute_result"
        }
      ],
      "source": [
        "# Find best model and params\n",
        "best_mod = pipelineModel_lsvc_hpo.bestModel\n",
        "param_dict = best_mod.stages[-1].extractParamMap()\n",
        "sane_dict = {}\n",
        "for k, v in param_dict.items():\n",
        "  sane_dict[k.name] = v\n",
        "sane_dict"
      ]
    },
    {
      "cell_type": "markdown",
      "metadata": {
        "id": "pA3vVqvfXA3p"
      },
      "source": [
        "### Decision Tree"
      ]
    },
    {
      "cell_type": "code",
      "execution_count": null,
      "metadata": {
        "id": "e2cElshKXA3r"
      },
      "outputs": [],
      "source": [
        "# Set up pipeline \n",
        "model = DecisionTreeClassifier(labelCol='label', \n",
        "                               featuresCol='unscaledFeatures', \n",
        "                               impurity='gini',\n",
        "                               seed=seed_value)\n",
        "\t\t\t\t\t\t\n",
        "pipeline_dt_hpo = Pipeline(stages=[model])"
      ]
    },
    {
      "cell_type": "code",
      "execution_count": null,
      "metadata": {
        "id": "qBe7yl75XA3t"
      },
      "outputs": [],
      "source": [
        "# Create parameter grid\n",
        "paramGrid = (ParamGridBuilder() \n",
        "            .addGrid(model.maxDepth, [5, 10, 15])\n",
        "            .addGrid(model.maxBins, [32, 64])\n",
        "            .addGrid(model.impurity, ['gini', 'entropy'])\n",
        "            .build())"
      ]
    },
    {
      "cell_type": "code",
      "execution_count": null,
      "metadata": {
        "id": "5U_2ZxefXA3u"
      },
      "outputs": [],
      "source": [
        "# Define type of cross-validation\n",
        "cv = CrossValidator(estimator=pipeline_dt_hpo,\n",
        "                    estimatorParamMaps=paramGrid,\n",
        "                    evaluator=evaluator_auroc,\n",
        "                    numFolds=5, parallelism=5)"
      ]
    },
    {
      "cell_type": "code",
      "execution_count": null,
      "metadata": {
        "colab": {
          "base_uri": "https://localhost:8080/"
        },
        "id": "TxCV0XtaegUM",
        "outputId": "ca61d35a-cc4e-450c-9d04-6a9cb3b91da1"
      },
      "outputs": [
        {
          "name": "stderr",
          "output_type": "stream",
          "text": [
            "2022/10/11 00:59:52 INFO mlflow.utils.autologging_utils: Created MLflow autologging run with ID 'b7eeb1bd1b9d4290afa11dc2878b27b7', which will track hyperparameters, performance metrics, model artifacts, and lineage information for the current pyspark.ml workflow\n",
            "2022/10/11 01:38:32 WARNING mlflow.pyspark.ml: Model inputs contain unsupported Spark data types: [StructField(unscaledFeatures,VectorUDT,true)]. Model signature is not logged.\n"
          ]
        },
        {
          "name": "stdout",
          "output_type": "stream",
          "text": [
            "Time to perform GridSearchCV: 2388.0911955833435\n"
          ]
        }
      ],
      "source": [
        "# Start timer for experiment\n",
        "search_time_start = time.time()\n",
        "\n",
        "# Run HPO\n",
        "pipelineModel_dt_hpo = cv.fit(trainDF)\n",
        "\n",
        "# End timer for experiment\n",
        "print('Time to perform GridSearchCV:', time.time() - search_time_start)\n",
        "\n",
        "# Save best model\n",
        "dt_grid = pipelineModel_dt_hpo.bestModel\n",
        "dt_grid.save('/content/drive/MyDrive/LoanStatus/Python/Models/ML/SparkML/Models/GridSearchCV/pipelineModel_dt_smote_hpo_grid')"
      ]
    },
    {
      "cell_type": "code",
      "execution_count": null,
      "metadata": {
        "colab": {
          "base_uri": "https://localhost:8080/"
        },
        "id": "bVlY_BkGegUM",
        "outputId": "767fc04e-bd24-4033-ce14-7e56ad22ed9f"
      },
      "outputs": [
        {
          "name": "stdout",
          "output_type": "stream",
          "text": [
            "{Param(parent='DecisionTreeClassifier_b7e5cdaeea9a', name='maxDepth', doc='Maximum depth of the tree. (>= 0) E.g., depth 0 means 1 leaf node; depth 1 means 1 internal node + 2 leaf nodes. Must be in range [0, 30].'): 15, Param(parent='DecisionTreeClassifier_b7e5cdaeea9a', name='maxBins', doc='Max number of bins for discretizing continuous features.  Must be >=2 and >= number of categories for any categorical feature.'): 64, Param(parent='DecisionTreeClassifier_b7e5cdaeea9a', name='impurity', doc='Criterion used for information gain calculation (case-insensitive). Supported options: entropy, gini'): 'entropy'}\n"
          ]
        }
      ],
      "source": [
        "# Find best parameters\n",
        "print(pipelineModel_dt_hpo.getEstimatorParamMaps()[np.argmax(pipelineModel_dt_hpo.avgMetrics)])"
      ]
    },
    {
      "cell_type": "code",
      "execution_count": null,
      "metadata": {
        "colab": {
          "base_uri": "https://localhost:8080/"
        },
        "id": "VfYYN_1TegUN",
        "outputId": "87b942a4-1088-4110-997c-b9e9a547f3a9",
        "scrolled": true,
        "tags": []
      },
      "outputs": [
        {
          "data": {
            "text/plain": [
              "[(0.9438826695906704,\n",
              "  {Param(parent='DecisionTreeClassifier_b7e5cdaeea9a', name='maxDepth', doc='Maximum depth of the tree. (>= 0) E.g., depth 0 means 1 leaf node; depth 1 means 1 internal node + 2 leaf nodes. Must be in range [0, 30].'): 5,\n",
              "   Param(parent='DecisionTreeClassifier_b7e5cdaeea9a', name='maxBins', doc='Max number of bins for discretizing continuous features.  Must be >=2 and >= number of categories for any categorical feature.'): 32,\n",
              "   Param(parent='DecisionTreeClassifier_b7e5cdaeea9a', name='impurity', doc='Criterion used for information gain calculation (case-insensitive). Supported options: entropy, gini'): 'gini'}),\n",
              " (0.9368405569868513,\n",
              "  {Param(parent='DecisionTreeClassifier_b7e5cdaeea9a', name='maxDepth', doc='Maximum depth of the tree. (>= 0) E.g., depth 0 means 1 leaf node; depth 1 means 1 internal node + 2 leaf nodes. Must be in range [0, 30].'): 5,\n",
              "   Param(parent='DecisionTreeClassifier_b7e5cdaeea9a', name='maxBins', doc='Max number of bins for discretizing continuous features.  Must be >=2 and >= number of categories for any categorical feature.'): 32,\n",
              "   Param(parent='DecisionTreeClassifier_b7e5cdaeea9a', name='impurity', doc='Criterion used for information gain calculation (case-insensitive). Supported options: entropy, gini'): 'entropy'}),\n",
              " (0.9451028010417011,\n",
              "  {Param(parent='DecisionTreeClassifier_b7e5cdaeea9a', name='maxDepth', doc='Maximum depth of the tree. (>= 0) E.g., depth 0 means 1 leaf node; depth 1 means 1 internal node + 2 leaf nodes. Must be in range [0, 30].'): 5,\n",
              "   Param(parent='DecisionTreeClassifier_b7e5cdaeea9a', name='maxBins', doc='Max number of bins for discretizing continuous features.  Must be >=2 and >= number of categories for any categorical feature.'): 64,\n",
              "   Param(parent='DecisionTreeClassifier_b7e5cdaeea9a', name='impurity', doc='Criterion used for information gain calculation (case-insensitive). Supported options: entropy, gini'): 'gini'}),\n",
              " (0.9353004878195672,\n",
              "  {Param(parent='DecisionTreeClassifier_b7e5cdaeea9a', name='maxDepth', doc='Maximum depth of the tree. (>= 0) E.g., depth 0 means 1 leaf node; depth 1 means 1 internal node + 2 leaf nodes. Must be in range [0, 30].'): 5,\n",
              "   Param(parent='DecisionTreeClassifier_b7e5cdaeea9a', name='maxBins', doc='Max number of bins for discretizing continuous features.  Must be >=2 and >= number of categories for any categorical feature.'): 64,\n",
              "   Param(parent='DecisionTreeClassifier_b7e5cdaeea9a', name='impurity', doc='Criterion used for information gain calculation (case-insensitive). Supported options: entropy, gini'): 'entropy'}),\n",
              " (0.9804987097253369,\n",
              "  {Param(parent='DecisionTreeClassifier_b7e5cdaeea9a', name='maxDepth', doc='Maximum depth of the tree. (>= 0) E.g., depth 0 means 1 leaf node; depth 1 means 1 internal node + 2 leaf nodes. Must be in range [0, 30].'): 10,\n",
              "   Param(parent='DecisionTreeClassifier_b7e5cdaeea9a', name='maxBins', doc='Max number of bins for discretizing continuous features.  Must be >=2 and >= number of categories for any categorical feature.'): 32,\n",
              "   Param(parent='DecisionTreeClassifier_b7e5cdaeea9a', name='impurity', doc='Criterion used for information gain calculation (case-insensitive). Supported options: entropy, gini'): 'gini'}),\n",
              " (0.9788740419294042,\n",
              "  {Param(parent='DecisionTreeClassifier_b7e5cdaeea9a', name='maxDepth', doc='Maximum depth of the tree. (>= 0) E.g., depth 0 means 1 leaf node; depth 1 means 1 internal node + 2 leaf nodes. Must be in range [0, 30].'): 10,\n",
              "   Param(parent='DecisionTreeClassifier_b7e5cdaeea9a', name='maxBins', doc='Max number of bins for discretizing continuous features.  Must be >=2 and >= number of categories for any categorical feature.'): 32,\n",
              "   Param(parent='DecisionTreeClassifier_b7e5cdaeea9a', name='impurity', doc='Criterion used for information gain calculation (case-insensitive). Supported options: entropy, gini'): 'entropy'}),\n",
              " (0.9802195112935046,\n",
              "  {Param(parent='DecisionTreeClassifier_b7e5cdaeea9a', name='maxDepth', doc='Maximum depth of the tree. (>= 0) E.g., depth 0 means 1 leaf node; depth 1 means 1 internal node + 2 leaf nodes. Must be in range [0, 30].'): 10,\n",
              "   Param(parent='DecisionTreeClassifier_b7e5cdaeea9a', name='maxBins', doc='Max number of bins for discretizing continuous features.  Must be >=2 and >= number of categories for any categorical feature.'): 64,\n",
              "   Param(parent='DecisionTreeClassifier_b7e5cdaeea9a', name='impurity', doc='Criterion used for information gain calculation (case-insensitive). Supported options: entropy, gini'): 'gini'}),\n",
              " (0.9801617791300331,\n",
              "  {Param(parent='DecisionTreeClassifier_b7e5cdaeea9a', name='maxDepth', doc='Maximum depth of the tree. (>= 0) E.g., depth 0 means 1 leaf node; depth 1 means 1 internal node + 2 leaf nodes. Must be in range [0, 30].'): 10,\n",
              "   Param(parent='DecisionTreeClassifier_b7e5cdaeea9a', name='maxBins', doc='Max number of bins for discretizing continuous features.  Must be >=2 and >= number of categories for any categorical feature.'): 64,\n",
              "   Param(parent='DecisionTreeClassifier_b7e5cdaeea9a', name='impurity', doc='Criterion used for information gain calculation (case-insensitive). Supported options: entropy, gini'): 'entropy'}),\n",
              " (0.9871467475205413,\n",
              "  {Param(parent='DecisionTreeClassifier_b7e5cdaeea9a', name='maxDepth', doc='Maximum depth of the tree. (>= 0) E.g., depth 0 means 1 leaf node; depth 1 means 1 internal node + 2 leaf nodes. Must be in range [0, 30].'): 15,\n",
              "   Param(parent='DecisionTreeClassifier_b7e5cdaeea9a', name='maxBins', doc='Max number of bins for discretizing continuous features.  Must be >=2 and >= number of categories for any categorical feature.'): 32,\n",
              "   Param(parent='DecisionTreeClassifier_b7e5cdaeea9a', name='impurity', doc='Criterion used for information gain calculation (case-insensitive). Supported options: entropy, gini'): 'gini'}),\n",
              " (0.9898949686198105,\n",
              "  {Param(parent='DecisionTreeClassifier_b7e5cdaeea9a', name='maxDepth', doc='Maximum depth of the tree. (>= 0) E.g., depth 0 means 1 leaf node; depth 1 means 1 internal node + 2 leaf nodes. Must be in range [0, 30].'): 15,\n",
              "   Param(parent='DecisionTreeClassifier_b7e5cdaeea9a', name='maxBins', doc='Max number of bins for discretizing continuous features.  Must be >=2 and >= number of categories for any categorical feature.'): 32,\n",
              "   Param(parent='DecisionTreeClassifier_b7e5cdaeea9a', name='impurity', doc='Criterion used for information gain calculation (case-insensitive). Supported options: entropy, gini'): 'entropy'}),\n",
              " (0.9867099384960183,\n",
              "  {Param(parent='DecisionTreeClassifier_b7e5cdaeea9a', name='maxDepth', doc='Maximum depth of the tree. (>= 0) E.g., depth 0 means 1 leaf node; depth 1 means 1 internal node + 2 leaf nodes. Must be in range [0, 30].'): 15,\n",
              "   Param(parent='DecisionTreeClassifier_b7e5cdaeea9a', name='maxBins', doc='Max number of bins for discretizing continuous features.  Must be >=2 and >= number of categories for any categorical feature.'): 64,\n",
              "   Param(parent='DecisionTreeClassifier_b7e5cdaeea9a', name='impurity', doc='Criterion used for information gain calculation (case-insensitive). Supported options: entropy, gini'): 'gini'}),\n",
              " (0.9902418224372768,\n",
              "  {Param(parent='DecisionTreeClassifier_b7e5cdaeea9a', name='maxDepth', doc='Maximum depth of the tree. (>= 0) E.g., depth 0 means 1 leaf node; depth 1 means 1 internal node + 2 leaf nodes. Must be in range [0, 30].'): 15,\n",
              "   Param(parent='DecisionTreeClassifier_b7e5cdaeea9a', name='maxBins', doc='Max number of bins for discretizing continuous features.  Must be >=2 and >= number of categories for any categorical feature.'): 64,\n",
              "   Param(parent='DecisionTreeClassifier_b7e5cdaeea9a', name='impurity', doc='Criterion used for information gain calculation (case-insensitive). Supported options: entropy, gini'): 'entropy'})]"
            ]
          },
          "execution_count": 25,
          "metadata": {},
          "output_type": "execute_result"
        }
      ],
      "source": [
        "# View all results (AUROC) by each params\n",
        "list(zip(pipelineModel_dt_hpo.avgMetrics, \n",
        "         pipelineModel_dt_hpo.getEstimatorParamMaps()))"
      ]
    },
    {
      "cell_type": "code",
      "execution_count": null,
      "metadata": {
        "colab": {
          "base_uri": "https://localhost:8080/"
        },
        "id": "oLLLkWG9egUO",
        "outputId": "878a7c28-36ab-45fb-f040-e08c01a4fbe7"
      },
      "outputs": [
        {
          "name": "stdout",
          "output_type": "stream",
          "text": [
            "GridSearchCV: Decision Tree\n",
            "Area under ROC curve: 0.968558\n",
            "Test Error: 0.0314419 \n",
            "Accuracy: 0.9862372911141274\n"
          ]
        }
      ],
      "source": [
        "# Predict and find AUROC, test error and accuracy\n",
        "prediction_dt = pipelineModel_dt_hpo.transform(testDF) \n",
        "\n",
        "dt_auroc = evaluator_auroc.evaluate(prediction_dt)\n",
        "print('GridSearchCV: Decision Tree')\n",
        "print('Area under ROC curve: %g' % (dt_auroc))\n",
        "print('Test Error: %g '% (1.0 - dt_auroc))\n",
        "print('Accuracy:', evaluator_acc.evaluate(prediction_dt)) "
      ]
    },
    {
      "cell_type": "code",
      "execution_count": null,
      "metadata": {
        "colab": {
          "base_uri": "https://localhost:8080/"
        },
        "id": "_5wM4mkLegUO",
        "outputId": "116dbbe4-f4d5-4991-82e7-f2881a0d45b7",
        "scrolled": true,
        "tags": []
      },
      "outputs": [
        {
          "data": {
            "text/plain": [
              "{Param(parent='DecisionTreeClassifier_b7e5cdaeea9a', name='cacheNodeIds', doc='If false, the algorithm will pass trees to executors to match instances with nodes. If true, the algorithm will cache node IDs for each instance. Caching can speed up training of deeper trees. Users can set how often should the cache be checkpointed or disable it by setting checkpointInterval.'): False,\n",
              " Param(parent='DecisionTreeClassifier_b7e5cdaeea9a', name='checkpointInterval', doc='set checkpoint interval (>= 1) or disable checkpoint (-1). E.g. 10 means that the cache will get checkpointed every 10 iterations. Note: this setting will be ignored if the checkpoint directory is not set in the SparkContext.'): 10,\n",
              " Param(parent='DecisionTreeClassifier_b7e5cdaeea9a', name='featuresCol', doc='features column name.'): 'unscaledFeatures',\n",
              " Param(parent='DecisionTreeClassifier_b7e5cdaeea9a', name='impurity', doc='Criterion used for information gain calculation (case-insensitive). Supported options: entropy, gini'): 'entropy',\n",
              " Param(parent='DecisionTreeClassifier_b7e5cdaeea9a', name='labelCol', doc='label column name.'): 'label',\n",
              " Param(parent='DecisionTreeClassifier_b7e5cdaeea9a', name='leafCol', doc='Leaf indices column name. Predicted leaf index of each instance in each tree by preorder.'): '',\n",
              " Param(parent='DecisionTreeClassifier_b7e5cdaeea9a', name='maxBins', doc='Max number of bins for discretizing continuous features.  Must be >=2 and >= number of categories for any categorical feature.'): 64,\n",
              " Param(parent='DecisionTreeClassifier_b7e5cdaeea9a', name='maxDepth', doc='Maximum depth of the tree. (>= 0) E.g., depth 0 means 1 leaf node; depth 1 means 1 internal node + 2 leaf nodes. Must be in range [0, 30].'): 15,\n",
              " Param(parent='DecisionTreeClassifier_b7e5cdaeea9a', name='maxMemoryInMB', doc='Maximum memory in MB allocated to histogram aggregation. If too small, then 1 node will be split per iteration, and its aggregates may exceed this size.'): 256,\n",
              " Param(parent='DecisionTreeClassifier_b7e5cdaeea9a', name='minInfoGain', doc='Minimum information gain for a split to be considered at a tree node.'): 0.0,\n",
              " Param(parent='DecisionTreeClassifier_b7e5cdaeea9a', name='minInstancesPerNode', doc='Minimum number of instances each child must have after split. If a split causes the left or right child to have fewer than minInstancesPerNode, the split will be discarded as invalid. Should be >= 1.'): 1,\n",
              " Param(parent='DecisionTreeClassifier_b7e5cdaeea9a', name='minWeightFractionPerNode', doc='Minimum fraction of the weighted sample count that each child must have after split. If a split causes the fraction of the total weight in the left or right child to be less than minWeightFractionPerNode, the split will be discarded as invalid. Should be in interval [0.0, 0.5).'): 0.0,\n",
              " Param(parent='DecisionTreeClassifier_b7e5cdaeea9a', name='predictionCol', doc='prediction column name.'): 'prediction',\n",
              " Param(parent='DecisionTreeClassifier_b7e5cdaeea9a', name='probabilityCol', doc='Column name for predicted class conditional probabilities. Note: Not all models output well-calibrated probability estimates! These probabilities should be treated as confidences, not precise probabilities.'): 'probability',\n",
              " Param(parent='DecisionTreeClassifier_b7e5cdaeea9a', name='rawPredictionCol', doc='raw prediction (a.k.a. confidence) column name.'): 'rawPrediction',\n",
              " Param(parent='DecisionTreeClassifier_b7e5cdaeea9a', name='seed', doc='random seed.'): 42}"
            ]
          },
          "execution_count": 27,
          "metadata": {},
          "output_type": "execute_result"
        }
      ],
      "source": [
        "# Extract info from pipeline\n",
        "pipelineModel_dt_hpo.bestModel.stages[-1].extractParamMap()"
      ]
    },
    {
      "cell_type": "code",
      "execution_count": null,
      "metadata": {
        "colab": {
          "base_uri": "https://localhost:8080/"
        },
        "id": "QuC-_fP9egUP",
        "outputId": "91cd291e-6243-461a-e258-d82c39241d78"
      },
      "outputs": [
        {
          "data": {
            "text/plain": [
              "[DecisionTreeClassificationModel: uid=DecisionTreeClassifier_b7e5cdaeea9a, depth=15, numNodes=3727, numClasses=2, numFeatures=50]"
            ]
          },
          "execution_count": 28,
          "metadata": {},
          "output_type": "execute_result"
        }
      ],
      "source": [
        "# Find best model and params\n",
        "bestPipeline = pipelineModel_dt_hpo.bestModel\n",
        "bestPipeline.stages "
      ]
    },
    {
      "cell_type": "code",
      "execution_count": null,
      "metadata": {
        "colab": {
          "base_uri": "https://localhost:8080/"
        },
        "id": "DG2Ms9UbegUQ",
        "outputId": "de498ff4-6513-4ac5-978a-ad519952271d"
      },
      "outputs": [
        {
          "data": {
            "text/plain": [
              "{'cacheNodeIds': False,\n",
              " 'checkpointInterval': 10,\n",
              " 'featuresCol': 'unscaledFeatures',\n",
              " 'impurity': 'entropy',\n",
              " 'labelCol': 'label',\n",
              " 'leafCol': '',\n",
              " 'maxBins': 64,\n",
              " 'maxDepth': 15,\n",
              " 'maxMemoryInMB': 256,\n",
              " 'minInfoGain': 0.0,\n",
              " 'minInstancesPerNode': 1,\n",
              " 'minWeightFractionPerNode': 0.0,\n",
              " 'predictionCol': 'prediction',\n",
              " 'probabilityCol': 'probability',\n",
              " 'rawPredictionCol': 'rawPrediction',\n",
              " 'seed': 42}"
            ]
          },
          "execution_count": 29,
          "metadata": {},
          "output_type": "execute_result"
        }
      ],
      "source": [
        "# Find best model and params\n",
        "best_mod = pipelineModel_dt_hpo.bestModel\n",
        "param_dict = best_mod.stages[-1].extractParamMap()\n",
        "sane_dict = {}\n",
        "for k, v in param_dict.items():\n",
        "  sane_dict[k.name] = v\n",
        "sane_dict"
      ]
    },
    {
      "cell_type": "markdown",
      "metadata": {
        "id": "6v6EbXQ6p-6W"
      },
      "source": [
        "#### More Params"
      ]
    },
    {
      "cell_type": "code",
      "execution_count": null,
      "metadata": {
        "id": "Jgy2DADiqA0d"
      },
      "outputs": [],
      "source": [
        "# Create parameter grid\n",
        "paramGrid = (ParamGridBuilder() \n",
        "            .addGrid(model.maxDepth, [5, 10, 15, 20, 25, 30])\n",
        "            .addGrid(model.maxBins, [16, 32, 64, 128])\n",
        "            .addGrid(model.impurity, ['gini', 'entropy'])\n",
        "            .build())"
      ]
    },
    {
      "cell_type": "code",
      "execution_count": null,
      "metadata": {
        "id": "bLOZMwBQqA0d"
      },
      "outputs": [],
      "source": [
        "# Define type of cross-validation\n",
        "cv = CrossValidator(estimator=pipeline_dt_hpo,\n",
        "                    estimatorParamMaps=paramGrid,\n",
        "                    evaluator=evaluator_auroc,\n",
        "                    numFolds=5, parallelism=5)"
      ]
    },
    {
      "cell_type": "code",
      "execution_count": null,
      "metadata": {
        "colab": {
          "base_uri": "https://localhost:8080/"
        },
        "id": "cIQluELP_bZt",
        "outputId": "49fdfe05-0e69-4898-dff0-e746c970cdcf"
      },
      "outputs": [
        {
          "name": "stdout",
          "output_type": "stream",
          "text": [
            "2022/10/11 21:07:26 INFO mlflow.utils.autologging_utils: Created MLflow autologging run with ID 'd7605fcb68534ac6a59132d9d74fbe3b', which will track hyperparameters, performance metrics, model artifacts, and lineage information for the current pyspark.ml workflow\n",
            "2022/10/12 02:12:04 WARNING mlflow.pyspark.ml: Model inputs contain unsupported Spark data types: [StructField(unscaledFeatures,VectorUDT,true)]. Model signature is not logged.\n",
            "Time to perform GridSearchCV: 18352.600459575653\n"
          ]
        }
      ],
      "source": [
        "# Start timer for experiment\n",
        "search_time_start = time.time()\n",
        "\n",
        "# Run HPO\n",
        "pipelineModel_dt_hpo = cv.fit(trainDF)\n",
        "\n",
        "# End timer for experiment\n",
        "print('Time to perform GridSearchCV:', time.time() - search_time_start)\n",
        "\n",
        "# Save best model\n",
        "dt_grid = pipelineModel_dt_hpo.bestModel\n",
        "dt_grid.save('/content/drive/MyDrive/LoanStatus/Python/Models/ML/SparkML/Models/GridSearchCV/pipelineModel_dt_smote_hpo_grid_moreParams')"
      ]
    },
    {
      "cell_type": "code",
      "execution_count": null,
      "metadata": {
        "colab": {
          "base_uri": "https://localhost:8080/"
        },
        "id": "EvSrxkNgJ6P0",
        "outputId": "bc5f241a-e8ad-4dbc-feb2-ed108569af38"
      },
      "outputs": [
        {
          "name": "stdout",
          "output_type": "stream",
          "text": [
            "GridSearchCV: Decision Tree\n",
            "Area under ROC curve: 0.959274\n",
            "Test Error: 0.0407262\n",
            "Accuracy: 0.9808149872940045\n"
          ]
        }
      ],
      "source": [
        "# Predict and find AUROC, test error and accuracy\n",
        "prediction_dt = pipelineModel_dt_hpo.transform(testDF) \n",
        "\n",
        "dt_auroc = evaluator_auroc.evaluate(prediction_dt)\n",
        "print('GridSearchCV: Decision Tree')\n",
        "print('Area under ROC curve: %g' % (dt_auroc))\n",
        "print('Test Error: %g '% (1.0 - dt_auroc))\n",
        "print('Accuracy:', evaluator_acc.evaluate(prediction_dt)) "
      ]
    },
    {
      "cell_type": "code",
      "execution_count": null,
      "metadata": {
        "colab": {
          "base_uri": "https://localhost:8080/"
        },
        "id": "4VnIwVUDqA0e",
        "outputId": "41d8c69a-7e84-4c53-cfd5-df9bc721b058",
        "scrolled": true,
        "tags": []
      },
      "outputs": [
        {
          "data": {
            "text/plain": [
              "[(0.9449530553497675,\n",
              "  {Param(parent='DecisionTreeClassifier_446eea5e6566', name='maxDepth', doc='Maximum depth of the tree. (>= 0) E.g., depth 0 means 1 leaf node; depth 1 means 1 internal node + 2 leaf nodes. Must be in range [0, 30].'): 5,\n",
              "   Param(parent='DecisionTreeClassifier_446eea5e6566', name='maxBins', doc='Max number of bins for discretizing continuous features.  Must be >=2 and >= number of categories for any categorical feature.'): 16,\n",
              "   Param(parent='DecisionTreeClassifier_446eea5e6566', name='impurity', doc='Criterion used for information gain calculation (case-insensitive). Supported options: entropy, gini'): 'gini'}),\n",
              " (0.9345136722725162,\n",
              "  {Param(parent='DecisionTreeClassifier_446eea5e6566', name='maxDepth', doc='Maximum depth of the tree. (>= 0) E.g., depth 0 means 1 leaf node; depth 1 means 1 internal node + 2 leaf nodes. Must be in range [0, 30].'): 5,\n",
              "   Param(parent='DecisionTreeClassifier_446eea5e6566', name='maxBins', doc='Max number of bins for discretizing continuous features.  Must be >=2 and >= number of categories for any categorical feature.'): 16,\n",
              "   Param(parent='DecisionTreeClassifier_446eea5e6566', name='impurity', doc='Criterion used for information gain calculation (case-insensitive). Supported options: entropy, gini'): 'entropy'}),\n",
              " (0.9450248853979878,\n",
              "  {Param(parent='DecisionTreeClassifier_446eea5e6566', name='maxDepth', doc='Maximum depth of the tree. (>= 0) E.g., depth 0 means 1 leaf node; depth 1 means 1 internal node + 2 leaf nodes. Must be in range [0, 30].'): 5,\n",
              "   Param(parent='DecisionTreeClassifier_446eea5e6566', name='maxBins', doc='Max number of bins for discretizing continuous features.  Must be >=2 and >= number of categories for any categorical feature.'): 32,\n",
              "   Param(parent='DecisionTreeClassifier_446eea5e6566', name='impurity', doc='Criterion used for information gain calculation (case-insensitive). Supported options: entropy, gini'): 'gini'}),\n",
              " (0.9368161185947987,\n",
              "  {Param(parent='DecisionTreeClassifier_446eea5e6566', name='maxDepth', doc='Maximum depth of the tree. (>= 0) E.g., depth 0 means 1 leaf node; depth 1 means 1 internal node + 2 leaf nodes. Must be in range [0, 30].'): 5,\n",
              "   Param(parent='DecisionTreeClassifier_446eea5e6566', name='maxBins', doc='Max number of bins for discretizing continuous features.  Must be >=2 and >= number of categories for any categorical feature.'): 32,\n",
              "   Param(parent='DecisionTreeClassifier_446eea5e6566', name='impurity', doc='Criterion used for information gain calculation (case-insensitive). Supported options: entropy, gini'): 'entropy'}),\n",
              " (0.9451248352385508,\n",
              "  {Param(parent='DecisionTreeClassifier_446eea5e6566', name='maxDepth', doc='Maximum depth of the tree. (>= 0) E.g., depth 0 means 1 leaf node; depth 1 means 1 internal node + 2 leaf nodes. Must be in range [0, 30].'): 5,\n",
              "   Param(parent='DecisionTreeClassifier_446eea5e6566', name='maxBins', doc='Max number of bins for discretizing continuous features.  Must be >=2 and >= number of categories for any categorical feature.'): 64,\n",
              "   Param(parent='DecisionTreeClassifier_446eea5e6566', name='impurity', doc='Criterion used for information gain calculation (case-insensitive). Supported options: entropy, gini'): 'gini'}),\n",
              " (0.9431361443950934,\n",
              "  {Param(parent='DecisionTreeClassifier_446eea5e6566', name='maxDepth', doc='Maximum depth of the tree. (>= 0) E.g., depth 0 means 1 leaf node; depth 1 means 1 internal node + 2 leaf nodes. Must be in range [0, 30].'): 5,\n",
              "   Param(parent='DecisionTreeClassifier_446eea5e6566', name='maxBins', doc='Max number of bins for discretizing continuous features.  Must be >=2 and >= number of categories for any categorical feature.'): 64,\n",
              "   Param(parent='DecisionTreeClassifier_446eea5e6566', name='impurity', doc='Criterion used for information gain calculation (case-insensitive). Supported options: entropy, gini'): 'entropy'}),\n",
              " (0.9452413499317822,\n",
              "  {Param(parent='DecisionTreeClassifier_446eea5e6566', name='maxDepth', doc='Maximum depth of the tree. (>= 0) E.g., depth 0 means 1 leaf node; depth 1 means 1 internal node + 2 leaf nodes. Must be in range [0, 30].'): 5,\n",
              "   Param(parent='DecisionTreeClassifier_446eea5e6566', name='maxBins', doc='Max number of bins for discretizing continuous features.  Must be >=2 and >= number of categories for any categorical feature.'): 128,\n",
              "   Param(parent='DecisionTreeClassifier_446eea5e6566', name='impurity', doc='Criterion used for information gain calculation (case-insensitive). Supported options: entropy, gini'): 'gini'}),\n",
              " (0.9392823721173558,\n",
              "  {Param(parent='DecisionTreeClassifier_446eea5e6566', name='maxDepth', doc='Maximum depth of the tree. (>= 0) E.g., depth 0 means 1 leaf node; depth 1 means 1 internal node + 2 leaf nodes. Must be in range [0, 30].'): 5,\n",
              "   Param(parent='DecisionTreeClassifier_446eea5e6566', name='maxBins', doc='Max number of bins for discretizing continuous features.  Must be >=2 and >= number of categories for any categorical feature.'): 128,\n",
              "   Param(parent='DecisionTreeClassifier_446eea5e6566', name='impurity', doc='Criterion used for information gain calculation (case-insensitive). Supported options: entropy, gini'): 'entropy'}),\n",
              " (0.9760763322445705,\n",
              "  {Param(parent='DecisionTreeClassifier_446eea5e6566', name='maxDepth', doc='Maximum depth of the tree. (>= 0) E.g., depth 0 means 1 leaf node; depth 1 means 1 internal node + 2 leaf nodes. Must be in range [0, 30].'): 10,\n",
              "   Param(parent='DecisionTreeClassifier_446eea5e6566', name='maxBins', doc='Max number of bins for discretizing continuous features.  Must be >=2 and >= number of categories for any categorical feature.'): 16,\n",
              "   Param(parent='DecisionTreeClassifier_446eea5e6566', name='impurity', doc='Criterion used for information gain calculation (case-insensitive). Supported options: entropy, gini'): 'gini'}),\n",
              " (0.978927880356887,\n",
              "  {Param(parent='DecisionTreeClassifier_446eea5e6566', name='maxDepth', doc='Maximum depth of the tree. (>= 0) E.g., depth 0 means 1 leaf node; depth 1 means 1 internal node + 2 leaf nodes. Must be in range [0, 30].'): 10,\n",
              "   Param(parent='DecisionTreeClassifier_446eea5e6566', name='maxBins', doc='Max number of bins for discretizing continuous features.  Must be >=2 and >= number of categories for any categorical feature.'): 16,\n",
              "   Param(parent='DecisionTreeClassifier_446eea5e6566', name='impurity', doc='Criterion used for information gain calculation (case-insensitive). Supported options: entropy, gini'): 'entropy'}),\n",
              " (0.979925837071381,\n",
              "  {Param(parent='DecisionTreeClassifier_446eea5e6566', name='maxDepth', doc='Maximum depth of the tree. (>= 0) E.g., depth 0 means 1 leaf node; depth 1 means 1 internal node + 2 leaf nodes. Must be in range [0, 30].'): 10,\n",
              "   Param(parent='DecisionTreeClassifier_446eea5e6566', name='maxBins', doc='Max number of bins for discretizing continuous features.  Must be >=2 and >= number of categories for any categorical feature.'): 32,\n",
              "   Param(parent='DecisionTreeClassifier_446eea5e6566', name='impurity', doc='Criterion used for information gain calculation (case-insensitive). Supported options: entropy, gini'): 'gini'}),\n",
              " (0.9785439198622573,\n",
              "  {Param(parent='DecisionTreeClassifier_446eea5e6566', name='maxDepth', doc='Maximum depth of the tree. (>= 0) E.g., depth 0 means 1 leaf node; depth 1 means 1 internal node + 2 leaf nodes. Must be in range [0, 30].'): 10,\n",
              "   Param(parent='DecisionTreeClassifier_446eea5e6566', name='maxBins', doc='Max number of bins for discretizing continuous features.  Must be >=2 and >= number of categories for any categorical feature.'): 32,\n",
              "   Param(parent='DecisionTreeClassifier_446eea5e6566', name='impurity', doc='Criterion used for information gain calculation (case-insensitive). Supported options: entropy, gini'): 'entropy'}),\n",
              " (0.9811065957469627,\n",
              "  {Param(parent='DecisionTreeClassifier_446eea5e6566', name='maxDepth', doc='Maximum depth of the tree. (>= 0) E.g., depth 0 means 1 leaf node; depth 1 means 1 internal node + 2 leaf nodes. Must be in range [0, 30].'): 10,\n",
              "   Param(parent='DecisionTreeClassifier_446eea5e6566', name='maxBins', doc='Max number of bins for discretizing continuous features.  Must be >=2 and >= number of categories for any categorical feature.'): 64,\n",
              "   Param(parent='DecisionTreeClassifier_446eea5e6566', name='impurity', doc='Criterion used for information gain calculation (case-insensitive). Supported options: entropy, gini'): 'gini'}),\n",
              " (0.9796823949290248,\n",
              "  {Param(parent='DecisionTreeClassifier_446eea5e6566', name='maxDepth', doc='Maximum depth of the tree. (>= 0) E.g., depth 0 means 1 leaf node; depth 1 means 1 internal node + 2 leaf nodes. Must be in range [0, 30].'): 10,\n",
              "   Param(parent='DecisionTreeClassifier_446eea5e6566', name='maxBins', doc='Max number of bins for discretizing continuous features.  Must be >=2 and >= number of categories for any categorical feature.'): 64,\n",
              "   Param(parent='DecisionTreeClassifier_446eea5e6566', name='impurity', doc='Criterion used for information gain calculation (case-insensitive). Supported options: entropy, gini'): 'entropy'}),\n",
              " (0.9806012390363557,\n",
              "  {Param(parent='DecisionTreeClassifier_446eea5e6566', name='maxDepth', doc='Maximum depth of the tree. (>= 0) E.g., depth 0 means 1 leaf node; depth 1 means 1 internal node + 2 leaf nodes. Must be in range [0, 30].'): 10,\n",
              "   Param(parent='DecisionTreeClassifier_446eea5e6566', name='maxBins', doc='Max number of bins for discretizing continuous features.  Must be >=2 and >= number of categories for any categorical feature.'): 128,\n",
              "   Param(parent='DecisionTreeClassifier_446eea5e6566', name='impurity', doc='Criterion used for information gain calculation (case-insensitive). Supported options: entropy, gini'): 'gini'}),\n",
              " (0.9801045453858498,\n",
              "  {Param(parent='DecisionTreeClassifier_446eea5e6566', name='maxDepth', doc='Maximum depth of the tree. (>= 0) E.g., depth 0 means 1 leaf node; depth 1 means 1 internal node + 2 leaf nodes. Must be in range [0, 30].'): 10,\n",
              "   Param(parent='DecisionTreeClassifier_446eea5e6566', name='maxBins', doc='Max number of bins for discretizing continuous features.  Must be >=2 and >= number of categories for any categorical feature.'): 128,\n",
              "   Param(parent='DecisionTreeClassifier_446eea5e6566', name='impurity', doc='Criterion used for information gain calculation (case-insensitive). Supported options: entropy, gini'): 'entropy'}),\n",
              " (0.9860642462099465,\n",
              "  {Param(parent='DecisionTreeClassifier_446eea5e6566', name='maxDepth', doc='Maximum depth of the tree. (>= 0) E.g., depth 0 means 1 leaf node; depth 1 means 1 internal node + 2 leaf nodes. Must be in range [0, 30].'): 15,\n",
              "   Param(parent='DecisionTreeClassifier_446eea5e6566', name='maxBins', doc='Max number of bins for discretizing continuous features.  Must be >=2 and >= number of categories for any categorical feature.'): 16,\n",
              "   Param(parent='DecisionTreeClassifier_446eea5e6566', name='impurity', doc='Criterion used for information gain calculation (case-insensitive). Supported options: entropy, gini'): 'gini'}),\n",
              " (0.9882650033768996,\n",
              "  {Param(parent='DecisionTreeClassifier_446eea5e6566', name='maxDepth', doc='Maximum depth of the tree. (>= 0) E.g., depth 0 means 1 leaf node; depth 1 means 1 internal node + 2 leaf nodes. Must be in range [0, 30].'): 15,\n",
              "   Param(parent='DecisionTreeClassifier_446eea5e6566', name='maxBins', doc='Max number of bins for discretizing continuous features.  Must be >=2 and >= number of categories for any categorical feature.'): 16,\n",
              "   Param(parent='DecisionTreeClassifier_446eea5e6566', name='impurity', doc='Criterion used for information gain calculation (case-insensitive). Supported options: entropy, gini'): 'entropy'}),\n",
              " (0.9877082753298417,\n",
              "  {Param(parent='DecisionTreeClassifier_446eea5e6566', name='maxDepth', doc='Maximum depth of the tree. (>= 0) E.g., depth 0 means 1 leaf node; depth 1 means 1 internal node + 2 leaf nodes. Must be in range [0, 30].'): 15,\n",
              "   Param(parent='DecisionTreeClassifier_446eea5e6566', name='maxBins', doc='Max number of bins for discretizing continuous features.  Must be >=2 and >= number of categories for any categorical feature.'): 32,\n",
              "   Param(parent='DecisionTreeClassifier_446eea5e6566', name='impurity', doc='Criterion used for information gain calculation (case-insensitive). Supported options: entropy, gini'): 'gini'}),\n",
              " (0.989942406434726,\n",
              "  {Param(parent='DecisionTreeClassifier_446eea5e6566', name='maxDepth', doc='Maximum depth of the tree. (>= 0) E.g., depth 0 means 1 leaf node; depth 1 means 1 internal node + 2 leaf nodes. Must be in range [0, 30].'): 15,\n",
              "   Param(parent='DecisionTreeClassifier_446eea5e6566', name='maxBins', doc='Max number of bins for discretizing continuous features.  Must be >=2 and >= number of categories for any categorical feature.'): 32,\n",
              "   Param(parent='DecisionTreeClassifier_446eea5e6566', name='impurity', doc='Criterion used for information gain calculation (case-insensitive). Supported options: entropy, gini'): 'entropy'}),\n",
              " (0.987259247153641,\n",
              "  {Param(parent='DecisionTreeClassifier_446eea5e6566', name='maxDepth', doc='Maximum depth of the tree. (>= 0) E.g., depth 0 means 1 leaf node; depth 1 means 1 internal node + 2 leaf nodes. Must be in range [0, 30].'): 15,\n",
              "   Param(parent='DecisionTreeClassifier_446eea5e6566', name='maxBins', doc='Max number of bins for discretizing continuous features.  Must be >=2 and >= number of categories for any categorical feature.'): 64,\n",
              "   Param(parent='DecisionTreeClassifier_446eea5e6566', name='impurity', doc='Criterion used for information gain calculation (case-insensitive). Supported options: entropy, gini'): 'gini'}),\n",
              " (0.9904770657454314,\n",
              "  {Param(parent='DecisionTreeClassifier_446eea5e6566', name='maxDepth', doc='Maximum depth of the tree. (>= 0) E.g., depth 0 means 1 leaf node; depth 1 means 1 internal node + 2 leaf nodes. Must be in range [0, 30].'): 15,\n",
              "   Param(parent='DecisionTreeClassifier_446eea5e6566', name='maxBins', doc='Max number of bins for discretizing continuous features.  Must be >=2 and >= number of categories for any categorical feature.'): 64,\n",
              "   Param(parent='DecisionTreeClassifier_446eea5e6566', name='impurity', doc='Criterion used for information gain calculation (case-insensitive). Supported options: entropy, gini'): 'entropy'}),\n",
              " (0.9864659835857426,\n",
              "  {Param(parent='DecisionTreeClassifier_446eea5e6566', name='maxDepth', doc='Maximum depth of the tree. (>= 0) E.g., depth 0 means 1 leaf node; depth 1 means 1 internal node + 2 leaf nodes. Must be in range [0, 30].'): 15,\n",
              "   Param(parent='DecisionTreeClassifier_446eea5e6566', name='maxBins', doc='Max number of bins for discretizing continuous features.  Must be >=2 and >= number of categories for any categorical feature.'): 128,\n",
              "   Param(parent='DecisionTreeClassifier_446eea5e6566', name='impurity', doc='Criterion used for information gain calculation (case-insensitive). Supported options: entropy, gini'): 'gini'}),\n",
              " (0.9907968076683082,\n",
              "  {Param(parent='DecisionTreeClassifier_446eea5e6566', name='maxDepth', doc='Maximum depth of the tree. (>= 0) E.g., depth 0 means 1 leaf node; depth 1 means 1 internal node + 2 leaf nodes. Must be in range [0, 30].'): 15,\n",
              "   Param(parent='DecisionTreeClassifier_446eea5e6566', name='maxBins', doc='Max number of bins for discretizing continuous features.  Must be >=2 and >= number of categories for any categorical feature.'): 128,\n",
              "   Param(parent='DecisionTreeClassifier_446eea5e6566', name='impurity', doc='Criterion used for information gain calculation (case-insensitive). Supported options: entropy, gini'): 'entropy'}),\n",
              " (0.9890328278229272,\n",
              "  {Param(parent='DecisionTreeClassifier_446eea5e6566', name='maxDepth', doc='Maximum depth of the tree. (>= 0) E.g., depth 0 means 1 leaf node; depth 1 means 1 internal node + 2 leaf nodes. Must be in range [0, 30].'): 20,\n",
              "   Param(parent='DecisionTreeClassifier_446eea5e6566', name='maxBins', doc='Max number of bins for discretizing continuous features.  Must be >=2 and >= number of categories for any categorical feature.'): 16,\n",
              "   Param(parent='DecisionTreeClassifier_446eea5e6566', name='impurity', doc='Criterion used for information gain calculation (case-insensitive). Supported options: entropy, gini'): 'gini'}),\n",
              " (0.9906689672286673,\n",
              "  {Param(parent='DecisionTreeClassifier_446eea5e6566', name='maxDepth', doc='Maximum depth of the tree. (>= 0) E.g., depth 0 means 1 leaf node; depth 1 means 1 internal node + 2 leaf nodes. Must be in range [0, 30].'): 20,\n",
              "   Param(parent='DecisionTreeClassifier_446eea5e6566', name='maxBins', doc='Max number of bins for discretizing continuous features.  Must be >=2 and >= number of categories for any categorical feature.'): 16,\n",
              "   Param(parent='DecisionTreeClassifier_446eea5e6566', name='impurity', doc='Criterion used for information gain calculation (case-insensitive). Supported options: entropy, gini'): 'entropy'}),\n",
              " (0.9904693717498493,\n",
              "  {Param(parent='DecisionTreeClassifier_446eea5e6566', name='maxDepth', doc='Maximum depth of the tree. (>= 0) E.g., depth 0 means 1 leaf node; depth 1 means 1 internal node + 2 leaf nodes. Must be in range [0, 30].'): 20,\n",
              "   Param(parent='DecisionTreeClassifier_446eea5e6566', name='maxBins', doc='Max number of bins for discretizing continuous features.  Must be >=2 and >= number of categories for any categorical feature.'): 32,\n",
              "   Param(parent='DecisionTreeClassifier_446eea5e6566', name='impurity', doc='Criterion used for information gain calculation (case-insensitive). Supported options: entropy, gini'): 'gini'}),\n",
              " (0.9920703814676812,\n",
              "  {Param(parent='DecisionTreeClassifier_446eea5e6566', name='maxDepth', doc='Maximum depth of the tree. (>= 0) E.g., depth 0 means 1 leaf node; depth 1 means 1 internal node + 2 leaf nodes. Must be in range [0, 30].'): 20,\n",
              "   Param(parent='DecisionTreeClassifier_446eea5e6566', name='maxBins', doc='Max number of bins for discretizing continuous features.  Must be >=2 and >= number of categories for any categorical feature.'): 32,\n",
              "   Param(parent='DecisionTreeClassifier_446eea5e6566', name='impurity', doc='Criterion used for information gain calculation (case-insensitive). Supported options: entropy, gini'): 'entropy'}),\n",
              " (0.9896394845349392,\n",
              "  {Param(parent='DecisionTreeClassifier_446eea5e6566', name='maxDepth', doc='Maximum depth of the tree. (>= 0) E.g., depth 0 means 1 leaf node; depth 1 means 1 internal node + 2 leaf nodes. Must be in range [0, 30].'): 20,\n",
              "   Param(parent='DecisionTreeClassifier_446eea5e6566', name='maxBins', doc='Max number of bins for discretizing continuous features.  Must be >=2 and >= number of categories for any categorical feature.'): 64,\n",
              "   Param(parent='DecisionTreeClassifier_446eea5e6566', name='impurity', doc='Criterion used for information gain calculation (case-insensitive). Supported options: entropy, gini'): 'gini'}),\n",
              " (0.9924259697857603,\n",
              "  {Param(parent='DecisionTreeClassifier_446eea5e6566', name='maxDepth', doc='Maximum depth of the tree. (>= 0) E.g., depth 0 means 1 leaf node; depth 1 means 1 internal node + 2 leaf nodes. Must be in range [0, 30].'): 20,\n",
              "   Param(parent='DecisionTreeClassifier_446eea5e6566', name='maxBins', doc='Max number of bins for discretizing continuous features.  Must be >=2 and >= number of categories for any categorical feature.'): 64,\n",
              "   Param(parent='DecisionTreeClassifier_446eea5e6566', name='impurity', doc='Criterion used for information gain calculation (case-insensitive). Supported options: entropy, gini'): 'entropy'}),\n",
              " (0.9889422166344906,\n",
              "  {Param(parent='DecisionTreeClassifier_446eea5e6566', name='maxDepth', doc='Maximum depth of the tree. (>= 0) E.g., depth 0 means 1 leaf node; depth 1 means 1 internal node + 2 leaf nodes. Must be in range [0, 30].'): 20,\n",
              "   Param(parent='DecisionTreeClassifier_446eea5e6566', name='maxBins', doc='Max number of bins for discretizing continuous features.  Must be >=2 and >= number of categories for any categorical feature.'): 128,\n",
              "   Param(parent='DecisionTreeClassifier_446eea5e6566', name='impurity', doc='Criterion used for information gain calculation (case-insensitive). Supported options: entropy, gini'): 'gini'}),\n",
              " (0.9925530981319233,\n",
              "  {Param(parent='DecisionTreeClassifier_446eea5e6566', name='maxDepth', doc='Maximum depth of the tree. (>= 0) E.g., depth 0 means 1 leaf node; depth 1 means 1 internal node + 2 leaf nodes. Must be in range [0, 30].'): 20,\n",
              "   Param(parent='DecisionTreeClassifier_446eea5e6566', name='maxBins', doc='Max number of bins for discretizing continuous features.  Must be >=2 and >= number of categories for any categorical feature.'): 128,\n",
              "   Param(parent='DecisionTreeClassifier_446eea5e6566', name='impurity', doc='Criterion used for information gain calculation (case-insensitive). Supported options: entropy, gini'): 'entropy'}),\n",
              " (0.9909983402316549,\n",
              "  {Param(parent='DecisionTreeClassifier_446eea5e6566', name='maxDepth', doc='Maximum depth of the tree. (>= 0) E.g., depth 0 means 1 leaf node; depth 1 means 1 internal node + 2 leaf nodes. Must be in range [0, 30].'): 25,\n",
              "   Param(parent='DecisionTreeClassifier_446eea5e6566', name='maxBins', doc='Max number of bins for discretizing continuous features.  Must be >=2 and >= number of categories for any categorical feature.'): 16,\n",
              "   Param(parent='DecisionTreeClassifier_446eea5e6566', name='impurity', doc='Criterion used for information gain calculation (case-insensitive). Supported options: entropy, gini'): 'gini'}),\n",
              " (0.9915723356560875,\n",
              "  {Param(parent='DecisionTreeClassifier_446eea5e6566', name='maxDepth', doc='Maximum depth of the tree. (>= 0) E.g., depth 0 means 1 leaf node; depth 1 means 1 internal node + 2 leaf nodes. Must be in range [0, 30].'): 25,\n",
              "   Param(parent='DecisionTreeClassifier_446eea5e6566', name='maxBins', doc='Max number of bins for discretizing continuous features.  Must be >=2 and >= number of categories for any categorical feature.'): 16,\n",
              "   Param(parent='DecisionTreeClassifier_446eea5e6566', name='impurity', doc='Criterion used for information gain calculation (case-insensitive). Supported options: entropy, gini'): 'entropy'}),\n",
              " (0.9921172012338861,\n",
              "  {Param(parent='DecisionTreeClassifier_446eea5e6566', name='maxDepth', doc='Maximum depth of the tree. (>= 0) E.g., depth 0 means 1 leaf node; depth 1 means 1 internal node + 2 leaf nodes. Must be in range [0, 30].'): 25,\n",
              "   Param(parent='DecisionTreeClassifier_446eea5e6566', name='maxBins', doc='Max number of bins for discretizing continuous features.  Must be >=2 and >= number of categories for any categorical feature.'): 32,\n",
              "   Param(parent='DecisionTreeClassifier_446eea5e6566', name='impurity', doc='Criterion used for information gain calculation (case-insensitive). Supported options: entropy, gini'): 'gini'}),\n",
              " (0.9926144223579912,\n",
              "  {Param(parent='DecisionTreeClassifier_446eea5e6566', name='maxDepth', doc='Maximum depth of the tree. (>= 0) E.g., depth 0 means 1 leaf node; depth 1 means 1 internal node + 2 leaf nodes. Must be in range [0, 30].'): 25,\n",
              "   Param(parent='DecisionTreeClassifier_446eea5e6566', name='maxBins', doc='Max number of bins for discretizing continuous features.  Must be >=2 and >= number of categories for any categorical feature.'): 32,\n",
              "   Param(parent='DecisionTreeClassifier_446eea5e6566', name='impurity', doc='Criterion used for information gain calculation (case-insensitive). Supported options: entropy, gini'): 'entropy'}),\n",
              " (0.992011014811077,\n",
              "  {Param(parent='DecisionTreeClassifier_446eea5e6566', name='maxDepth', doc='Maximum depth of the tree. (>= 0) E.g., depth 0 means 1 leaf node; depth 1 means 1 internal node + 2 leaf nodes. Must be in range [0, 30].'): 25,\n",
              "   Param(parent='DecisionTreeClassifier_446eea5e6566', name='maxBins', doc='Max number of bins for discretizing continuous features.  Must be >=2 and >= number of categories for any categorical feature.'): 64,\n",
              "   Param(parent='DecisionTreeClassifier_446eea5e6566', name='impurity', doc='Criterion used for information gain calculation (case-insensitive). Supported options: entropy, gini'): 'gini'}),\n",
              " (0.9929656254631993,\n",
              "  {Param(parent='DecisionTreeClassifier_446eea5e6566', name='maxDepth', doc='Maximum depth of the tree. (>= 0) E.g., depth 0 means 1 leaf node; depth 1 means 1 internal node + 2 leaf nodes. Must be in range [0, 30].'): 25,\n",
              "   Param(parent='DecisionTreeClassifier_446eea5e6566', name='maxBins', doc='Max number of bins for discretizing continuous features.  Must be >=2 and >= number of categories for any categorical feature.'): 64,\n",
              "   Param(parent='DecisionTreeClassifier_446eea5e6566', name='impurity', doc='Criterion used for information gain calculation (case-insensitive). Supported options: entropy, gini'): 'entropy'}),\n",
              " (0.9917184173664081,\n",
              "  {Param(parent='DecisionTreeClassifier_446eea5e6566', name='maxDepth', doc='Maximum depth of the tree. (>= 0) E.g., depth 0 means 1 leaf node; depth 1 means 1 internal node + 2 leaf nodes. Must be in range [0, 30].'): 25,\n",
              "   Param(parent='DecisionTreeClassifier_446eea5e6566', name='maxBins', doc='Max number of bins for discretizing continuous features.  Must be >=2 and >= number of categories for any categorical feature.'): 128,\n",
              "   Param(parent='DecisionTreeClassifier_446eea5e6566', name='impurity', doc='Criterion used for information gain calculation (case-insensitive). Supported options: entropy, gini'): 'gini'}),\n",
              " (0.9929710660937795,\n",
              "  {Param(parent='DecisionTreeClassifier_446eea5e6566', name='maxDepth', doc='Maximum depth of the tree. (>= 0) E.g., depth 0 means 1 leaf node; depth 1 means 1 internal node + 2 leaf nodes. Must be in range [0, 30].'): 25,\n",
              "   Param(parent='DecisionTreeClassifier_446eea5e6566', name='maxBins', doc='Max number of bins for discretizing continuous features.  Must be >=2 and >= number of categories for any categorical feature.'): 128,\n",
              "   Param(parent='DecisionTreeClassifier_446eea5e6566', name='impurity', doc='Criterion used for information gain calculation (case-insensitive). Supported options: entropy, gini'): 'entropy'}),\n",
              " (0.9913927645395181,\n",
              "  {Param(parent='DecisionTreeClassifier_446eea5e6566', name='maxDepth', doc='Maximum depth of the tree. (>= 0) E.g., depth 0 means 1 leaf node; depth 1 means 1 internal node + 2 leaf nodes. Must be in range [0, 30].'): 30,\n",
              "   Param(parent='DecisionTreeClassifier_446eea5e6566', name='maxBins', doc='Max number of bins for discretizing continuous features.  Must be >=2 and >= number of categories for any categorical feature.'): 16,\n",
              "   Param(parent='DecisionTreeClassifier_446eea5e6566', name='impurity', doc='Criterion used for information gain calculation (case-insensitive). Supported options: entropy, gini'): 'gini'}),\n",
              " (0.9916248948905961,\n",
              "  {Param(parent='DecisionTreeClassifier_446eea5e6566', name='maxDepth', doc='Maximum depth of the tree. (>= 0) E.g., depth 0 means 1 leaf node; depth 1 means 1 internal node + 2 leaf nodes. Must be in range [0, 30].'): 30,\n",
              "   Param(parent='DecisionTreeClassifier_446eea5e6566', name='maxBins', doc='Max number of bins for discretizing continuous features.  Must be >=2 and >= number of categories for any categorical feature.'): 16,\n",
              "   Param(parent='DecisionTreeClassifier_446eea5e6566', name='impurity', doc='Criterion used for information gain calculation (case-insensitive). Supported options: entropy, gini'): 'entropy'}),\n",
              " (0.9923266235811161,\n",
              "  {Param(parent='DecisionTreeClassifier_446eea5e6566', name='maxDepth', doc='Maximum depth of the tree. (>= 0) E.g., depth 0 means 1 leaf node; depth 1 means 1 internal node + 2 leaf nodes. Must be in range [0, 30].'): 30,\n",
              "   Param(parent='DecisionTreeClassifier_446eea5e6566', name='maxBins', doc='Max number of bins for discretizing continuous features.  Must be >=2 and >= number of categories for any categorical feature.'): 32,\n",
              "   Param(parent='DecisionTreeClassifier_446eea5e6566', name='impurity', doc='Criterion used for information gain calculation (case-insensitive). Supported options: entropy, gini'): 'gini'}),\n",
              " (0.9924987012387319,\n",
              "  {Param(parent='DecisionTreeClassifier_446eea5e6566', name='maxDepth', doc='Maximum depth of the tree. (>= 0) E.g., depth 0 means 1 leaf node; depth 1 means 1 internal node + 2 leaf nodes. Must be in range [0, 30].'): 30,\n",
              "   Param(parent='DecisionTreeClassifier_446eea5e6566', name='maxBins', doc='Max number of bins for discretizing continuous features.  Must be >=2 and >= number of categories for any categorical feature.'): 32,\n",
              "   Param(parent='DecisionTreeClassifier_446eea5e6566', name='impurity', doc='Criterion used for information gain calculation (case-insensitive). Supported options: entropy, gini'): 'entropy'}),\n",
              " (0.9925078162911074,\n",
              "  {Param(parent='DecisionTreeClassifier_446eea5e6566', name='maxDepth', doc='Maximum depth of the tree. (>= 0) E.g., depth 0 means 1 leaf node; depth 1 means 1 internal node + 2 leaf nodes. Must be in range [0, 30].'): 30,\n",
              "   Param(parent='DecisionTreeClassifier_446eea5e6566', name='maxBins', doc='Max number of bins for discretizing continuous features.  Must be >=2 and >= number of categories for any categorical feature.'): 64,\n",
              "   Param(parent='DecisionTreeClassifier_446eea5e6566', name='impurity', doc='Criterion used for information gain calculation (case-insensitive). Supported options: entropy, gini'): 'gini'}),\n",
              " (0.9928029528937641,\n",
              "  {Param(parent='DecisionTreeClassifier_446eea5e6566', name='maxDepth', doc='Maximum depth of the tree. (>= 0) E.g., depth 0 means 1 leaf node; depth 1 means 1 internal node + 2 leaf nodes. Must be in range [0, 30].'): 30,\n",
              "   Param(parent='DecisionTreeClassifier_446eea5e6566', name='maxBins', doc='Max number of bins for discretizing continuous features.  Must be >=2 and >= number of categories for any categorical feature.'): 64,\n",
              "   Param(parent='DecisionTreeClassifier_446eea5e6566', name='impurity', doc='Criterion used for information gain calculation (case-insensitive). Supported options: entropy, gini'): 'entropy'}),\n",
              " (0.992580050426616,\n",
              "  {Param(parent='DecisionTreeClassifier_446eea5e6566', name='maxDepth', doc='Maximum depth of the tree. (>= 0) E.g., depth 0 means 1 leaf node; depth 1 means 1 internal node + 2 leaf nodes. Must be in range [0, 30].'): 30,\n",
              "   Param(parent='DecisionTreeClassifier_446eea5e6566', name='maxBins', doc='Max number of bins for discretizing continuous features.  Must be >=2 and >= number of categories for any categorical feature.'): 128,\n",
              "   Param(parent='DecisionTreeClassifier_446eea5e6566', name='impurity', doc='Criterion used for information gain calculation (case-insensitive). Supported options: entropy, gini'): 'gini'}),\n",
              " (0.9928768579883263,\n",
              "  {Param(parent='DecisionTreeClassifier_446eea5e6566', name='maxDepth', doc='Maximum depth of the tree. (>= 0) E.g., depth 0 means 1 leaf node; depth 1 means 1 internal node + 2 leaf nodes. Must be in range [0, 30].'): 30,\n",
              "   Param(parent='DecisionTreeClassifier_446eea5e6566', name='maxBins', doc='Max number of bins for discretizing continuous features.  Must be >=2 and >= number of categories for any categorical feature.'): 128,\n",
              "   Param(parent='DecisionTreeClassifier_446eea5e6566', name='impurity', doc='Criterion used for information gain calculation (case-insensitive). Supported options: entropy, gini'): 'entropy'})]"
            ]
          },
          "execution_count": 24,
          "metadata": {},
          "output_type": "execute_result"
        }
      ],
      "source": [
        "# View all results (AUROC) by each params\n",
        "list(zip(pipelineModel_dt_hpo.avgMetrics, \n",
        "         pipelineModel_dt_hpo.getEstimatorParamMaps()))"
      ]
    },
    {
      "cell_type": "code",
      "execution_count": null,
      "metadata": {
        "colab": {
          "base_uri": "https://localhost:8080/"
        },
        "id": "Ig1SG0BLqA0f",
        "outputId": "a78a31b0-e4db-4f19-fcc0-3fc303c7d0b3",
        "scrolled": true,
        "tags": []
      },
      "outputs": [
        {
          "data": {
            "text/plain": [
              "{Param(parent='DecisionTreeClassifier_446eea5e6566', name='cacheNodeIds', doc='If false, the algorithm will pass trees to executors to match instances with nodes. If true, the algorithm will cache node IDs for each instance. Caching can speed up training of deeper trees. Users can set how often should the cache be checkpointed or disable it by setting checkpointInterval.'): False,\n",
              " Param(parent='DecisionTreeClassifier_446eea5e6566', name='checkpointInterval', doc='set checkpoint interval (>= 1) or disable checkpoint (-1). E.g. 10 means that the cache will get checkpointed every 10 iterations. Note: this setting will be ignored if the checkpoint directory is not set in the SparkContext.'): 10,\n",
              " Param(parent='DecisionTreeClassifier_446eea5e6566', name='featuresCol', doc='features column name.'): 'unscaledFeatures',\n",
              " Param(parent='DecisionTreeClassifier_446eea5e6566', name='impurity', doc='Criterion used for information gain calculation (case-insensitive). Supported options: entropy, gini'): 'entropy',\n",
              " Param(parent='DecisionTreeClassifier_446eea5e6566', name='labelCol', doc='label column name.'): 'label',\n",
              " Param(parent='DecisionTreeClassifier_446eea5e6566', name='leafCol', doc='Leaf indices column name. Predicted leaf index of each instance in each tree by preorder.'): '',\n",
              " Param(parent='DecisionTreeClassifier_446eea5e6566', name='maxBins', doc='Max number of bins for discretizing continuous features.  Must be >=2 and >= number of categories for any categorical feature.'): 128,\n",
              " Param(parent='DecisionTreeClassifier_446eea5e6566', name='maxDepth', doc='Maximum depth of the tree. (>= 0) E.g., depth 0 means 1 leaf node; depth 1 means 1 internal node + 2 leaf nodes. Must be in range [0, 30].'): 25,\n",
              " Param(parent='DecisionTreeClassifier_446eea5e6566', name='maxMemoryInMB', doc='Maximum memory in MB allocated to histogram aggregation. If too small, then 1 node will be split per iteration, and its aggregates may exceed this size.'): 256,\n",
              " Param(parent='DecisionTreeClassifier_446eea5e6566', name='minInfoGain', doc='Minimum information gain for a split to be considered at a tree node.'): 0.0,\n",
              " Param(parent='DecisionTreeClassifier_446eea5e6566', name='minInstancesPerNode', doc='Minimum number of instances each child must have after split. If a split causes the left or right child to have fewer than minInstancesPerNode, the split will be discarded as invalid. Should be >= 1.'): 1,\n",
              " Param(parent='DecisionTreeClassifier_446eea5e6566', name='minWeightFractionPerNode', doc='Minimum fraction of the weighted sample count that each child must have after split. If a split causes the fraction of the total weight in the left or right child to be less than minWeightFractionPerNode, the split will be discarded as invalid. Should be in interval [0.0, 0.5).'): 0.0,\n",
              " Param(parent='DecisionTreeClassifier_446eea5e6566', name='predictionCol', doc='prediction column name.'): 'prediction',\n",
              " Param(parent='DecisionTreeClassifier_446eea5e6566', name='probabilityCol', doc='Column name for predicted class conditional probabilities. Note: Not all models output well-calibrated probability estimates! These probabilities should be treated as confidences, not precise probabilities.'): 'probability',\n",
              " Param(parent='DecisionTreeClassifier_446eea5e6566', name='rawPredictionCol', doc='raw prediction (a.k.a. confidence) column name.'): 'rawPrediction',\n",
              " Param(parent='DecisionTreeClassifier_446eea5e6566', name='seed', doc='random seed.'): 42}"
            ]
          },
          "execution_count": 27,
          "metadata": {},
          "output_type": "execute_result"
        }
      ],
      "source": [
        "# Extract info from pipeline\n",
        "pipelineModel_dt_hpo.bestModel.stages[-1].extractParamMap()"
      ]
    },
    {
      "cell_type": "code",
      "execution_count": null,
      "metadata": {
        "colab": {
          "base_uri": "https://localhost:8080/"
        },
        "id": "efIrMz5uqA0g",
        "outputId": "bb2454ca-f89c-4690-f873-ce0db672ae30"
      },
      "outputs": [
        {
          "data": {
            "text/plain": [
              "{'cacheNodeIds': False,\n",
              " 'checkpointInterval': 10,\n",
              " 'featuresCol': 'unscaledFeatures',\n",
              " 'impurity': 'entropy',\n",
              " 'labelCol': 'label',\n",
              " 'leafCol': '',\n",
              " 'maxBins': 128,\n",
              " 'maxDepth': 25,\n",
              " 'maxMemoryInMB': 256,\n",
              " 'minInfoGain': 0.0,\n",
              " 'minInstancesPerNode': 1,\n",
              " 'minWeightFractionPerNode': 0.0,\n",
              " 'predictionCol': 'prediction',\n",
              " 'probabilityCol': 'probability',\n",
              " 'rawPredictionCol': 'rawPrediction',\n",
              " 'seed': 42}"
            ]
          },
          "execution_count": 28,
          "metadata": {},
          "output_type": "execute_result"
        }
      ],
      "source": [
        "# Find best model and params\n",
        "best_mod = pipelineModel_dt_hpo.bestModel\n",
        "param_dict = best_mod.stages[-1].extractParamMap()\n",
        "sane_dict = {}\n",
        "for k, v in param_dict.items():\n",
        "  sane_dict[k.name] = v\n",
        "sane_dict"
      ]
    },
    {
      "cell_type": "markdown",
      "metadata": {
        "id": "dmnRRkjXbyzh"
      },
      "source": [
        "### Random Forest"
      ]
    },
    {
      "cell_type": "code",
      "execution_count": null,
      "metadata": {
        "id": "skJbMIkSbyzi"
      },
      "outputs": [],
      "source": [
        "# Set up pipeline\n",
        "model = RandomForestClassifier(labelCol='label', \n",
        "                               featuresCol='unscaledFeatures',\n",
        "                               seed=seed_value)\n",
        "\t\t\t\t\t\t\n",
        "# Set up pipeline\n",
        "pipeline_rf_hpo = Pipeline(stages=[model])"
      ]
    },
    {
      "cell_type": "code",
      "execution_count": null,
      "metadata": {
        "id": "MYu54iIObyzk"
      },
      "outputs": [],
      "source": [
        "# Create parameter grid\n",
        "paramGrid = (ParamGridBuilder() \n",
        "            .addGrid(model.maxDepth, [10, 15])\n",
        "            .addGrid(model.maxBins, [32, 64])\n",
        "            .addGrid(model.numTrees, [10, 30])\n",
        "            .addGrid(model.impurity, ['gini', 'entropy'])\n",
        "            .build())"
      ]
    },
    {
      "cell_type": "code",
      "execution_count": null,
      "metadata": {
        "id": "r2MWsaa1byzl"
      },
      "outputs": [],
      "source": [
        "# Define type of cross-validation\n",
        "cv = CrossValidator(estimator=pipeline_rf_hpo,\n",
        "                    estimatorParamMaps=paramGrid,\n",
        "                    evaluator=evaluator_auroc,\n",
        "                    numFolds=5, parallelism=5)"
      ]
    },
    {
      "cell_type": "code",
      "execution_count": null,
      "metadata": {
        "colab": {
          "base_uri": "https://localhost:8080/"
        },
        "id": "uG03gXGdPM7r",
        "outputId": "bc15ba37-c074-4b5a-b3e1-9d8a873dc91a"
      },
      "outputs": [
        {
          "name": "stdout",
          "output_type": "stream",
          "text": [
            "2022/10/11 01:39:45 INFO mlflow.utils.autologging_utils: Created MLflow autologging run with ID '60f18565cfab405093e14b7c1b93532e', which will track hyperparameters, performance metrics, model artifacts, and lineage information for the current pyspark.ml workflow\n",
            "2022/10/11 12:48:28 WARNING mlflow.utils.environment: Encountered an unexpected error while inferring pip requirements (model URI: /tmp/tmp39kul443/model, flavor: spark), fall back to return ['pyspark==3.3.0']. Set logging level to DEBUG to see the full traceback.\n",
            "2022/10/11 12:49:15 WARNING mlflow.utils.environment: Encountered an unexpected error while inferring pip requirements (model URI: /tmp/tmpce9hlzj_/model, flavor: spark), fall back to return ['pyspark==3.3.0']. Set logging level to DEBUG to see the full traceback.\n",
            "Time to perform GridSearchCV: 40170.12471294403\n"
          ]
        }
      ],
      "source": [
        "# Start timer for experiment\n",
        "search_time_start = time.time()\n",
        "\n",
        "# Run HPO\n",
        "pipelineModel_rf_hpo = cv.fit(trainDF)\n",
        "\n",
        "# End timer for experiment\n",
        "print('Time to perform GridSearchCV:', time.time() - search_time_start)\n",
        "\n",
        "# Save best model\n",
        "rf_grid = pipelineModel_rf_hpo.bestModel\n",
        "rf_grid.save('/content/drive/MyDrive/LoanStatus/Python/Models/ML/SparkML/Models/GridSearchCV/pipelineModel_rf_smote_hpo_grid')"
      ]
    },
    {
      "cell_type": "code",
      "execution_count": null,
      "metadata": {
        "colab": {
          "base_uri": "https://localhost:8080/"
        },
        "id": "4MQrzqFLegUS",
        "outputId": "6ac0a8ba-bf35-46a7-f2d2-fafd881ffc79"
      },
      "outputs": [
        {
          "name": "stdout",
          "output_type": "stream",
          "text": [
            "{Param(parent='RandomForestClassifier_e535a2363763', name='maxDepth', doc='Maximum depth of the tree. (>= 0) E.g., depth 0 means 1 leaf node; depth 1 means 1 internal node + 2 leaf nodes. Must be in range [0, 30].'): 15, Param(parent='RandomForestClassifier_e535a2363763', name='maxBins', doc='Max number of bins for discretizing continuous features.  Must be >=2 and >= number of categories for any categorical feature.'): 64, Param(parent='RandomForestClassifier_e535a2363763', name='numTrees', doc='Number of trees to train (>= 1).'): 30, Param(parent='RandomForestClassifier_e535a2363763', name='impurity', doc='Criterion used for information gain calculation (case-insensitive). Supported options: entropy, gini'): 'gini'}\n"
          ]
        }
      ],
      "source": [
        "# Find best parameters\n",
        "print(pipelineModel_rf_hpo.getEstimatorParamMaps()[np.argmax(pipelineModel_rf_hpo.avgMetrics)])"
      ]
    },
    {
      "cell_type": "code",
      "execution_count": null,
      "metadata": {
        "colab": {
          "base_uri": "https://localhost:8080/"
        },
        "id": "FFQkgsl3egUT",
        "outputId": "b628b657-a41a-4702-8d45-18aa70762a46",
        "scrolled": true,
        "tags": []
      },
      "outputs": [
        {
          "data": {
            "text/plain": [
              "[(0.993415747629764,\n",
              "  {Param(parent='RandomForestClassifier_e535a2363763', name='maxDepth', doc='Maximum depth of the tree. (>= 0) E.g., depth 0 means 1 leaf node; depth 1 means 1 internal node + 2 leaf nodes. Must be in range [0, 30].'): 10,\n",
              "   Param(parent='RandomForestClassifier_e535a2363763', name='maxBins', doc='Max number of bins for discretizing continuous features.  Must be >=2 and >= number of categories for any categorical feature.'): 32,\n",
              "   Param(parent='RandomForestClassifier_e535a2363763', name='numTrees', doc='Number of trees to train (>= 1).'): 10,\n",
              "   Param(parent='RandomForestClassifier_e535a2363763', name='impurity', doc='Criterion used for information gain calculation (case-insensitive). Supported options: entropy, gini'): 'gini'}),\n",
              " (0.9937089892299895,\n",
              "  {Param(parent='RandomForestClassifier_e535a2363763', name='maxDepth', doc='Maximum depth of the tree. (>= 0) E.g., depth 0 means 1 leaf node; depth 1 means 1 internal node + 2 leaf nodes. Must be in range [0, 30].'): 10,\n",
              "   Param(parent='RandomForestClassifier_e535a2363763', name='maxBins', doc='Max number of bins for discretizing continuous features.  Must be >=2 and >= number of categories for any categorical feature.'): 32,\n",
              "   Param(parent='RandomForestClassifier_e535a2363763', name='numTrees', doc='Number of trees to train (>= 1).'): 10,\n",
              "   Param(parent='RandomForestClassifier_e535a2363763', name='impurity', doc='Criterion used for information gain calculation (case-insensitive). Supported options: entropy, gini'): 'entropy'}),\n",
              " (0.9941983910717249,\n",
              "  {Param(parent='RandomForestClassifier_e535a2363763', name='maxDepth', doc='Maximum depth of the tree. (>= 0) E.g., depth 0 means 1 leaf node; depth 1 means 1 internal node + 2 leaf nodes. Must be in range [0, 30].'): 10,\n",
              "   Param(parent='RandomForestClassifier_e535a2363763', name='maxBins', doc='Max number of bins for discretizing continuous features.  Must be >=2 and >= number of categories for any categorical feature.'): 32,\n",
              "   Param(parent='RandomForestClassifier_e535a2363763', name='numTrees', doc='Number of trees to train (>= 1).'): 30,\n",
              "   Param(parent='RandomForestClassifier_e535a2363763', name='impurity', doc='Criterion used for information gain calculation (case-insensitive). Supported options: entropy, gini'): 'gini'}),\n",
              " (0.9940216046946897,\n",
              "  {Param(parent='RandomForestClassifier_e535a2363763', name='maxDepth', doc='Maximum depth of the tree. (>= 0) E.g., depth 0 means 1 leaf node; depth 1 means 1 internal node + 2 leaf nodes. Must be in range [0, 30].'): 10,\n",
              "   Param(parent='RandomForestClassifier_e535a2363763', name='maxBins', doc='Max number of bins for discretizing continuous features.  Must be >=2 and >= number of categories for any categorical feature.'): 32,\n",
              "   Param(parent='RandomForestClassifier_e535a2363763', name='numTrees', doc='Number of trees to train (>= 1).'): 30,\n",
              "   Param(parent='RandomForestClassifier_e535a2363763', name='impurity', doc='Criterion used for information gain calculation (case-insensitive). Supported options: entropy, gini'): 'entropy'}),\n",
              " (0.9934878762377153,\n",
              "  {Param(parent='RandomForestClassifier_e535a2363763', name='maxDepth', doc='Maximum depth of the tree. (>= 0) E.g., depth 0 means 1 leaf node; depth 1 means 1 internal node + 2 leaf nodes. Must be in range [0, 30].'): 10,\n",
              "   Param(parent='RandomForestClassifier_e535a2363763', name='maxBins', doc='Max number of bins for discretizing continuous features.  Must be >=2 and >= number of categories for any categorical feature.'): 64,\n",
              "   Param(parent='RandomForestClassifier_e535a2363763', name='numTrees', doc='Number of trees to train (>= 1).'): 10,\n",
              "   Param(parent='RandomForestClassifier_e535a2363763', name='impurity', doc='Criterion used for information gain calculation (case-insensitive). Supported options: entropy, gini'): 'gini'}),\n",
              " (0.9937511794918977,\n",
              "  {Param(parent='RandomForestClassifier_e535a2363763', name='maxDepth', doc='Maximum depth of the tree. (>= 0) E.g., depth 0 means 1 leaf node; depth 1 means 1 internal node + 2 leaf nodes. Must be in range [0, 30].'): 10,\n",
              "   Param(parent='RandomForestClassifier_e535a2363763', name='maxBins', doc='Max number of bins for discretizing continuous features.  Must be >=2 and >= number of categories for any categorical feature.'): 64,\n",
              "   Param(parent='RandomForestClassifier_e535a2363763', name='numTrees', doc='Number of trees to train (>= 1).'): 10,\n",
              "   Param(parent='RandomForestClassifier_e535a2363763', name='impurity', doc='Criterion used for information gain calculation (case-insensitive). Supported options: entropy, gini'): 'entropy'}),\n",
              " (0.9942042339414482,\n",
              "  {Param(parent='RandomForestClassifier_e535a2363763', name='maxDepth', doc='Maximum depth of the tree. (>= 0) E.g., depth 0 means 1 leaf node; depth 1 means 1 internal node + 2 leaf nodes. Must be in range [0, 30].'): 10,\n",
              "   Param(parent='RandomForestClassifier_e535a2363763', name='maxBins', doc='Max number of bins for discretizing continuous features.  Must be >=2 and >= number of categories for any categorical feature.'): 64,\n",
              "   Param(parent='RandomForestClassifier_e535a2363763', name='numTrees', doc='Number of trees to train (>= 1).'): 30,\n",
              "   Param(parent='RandomForestClassifier_e535a2363763', name='impurity', doc='Criterion used for information gain calculation (case-insensitive). Supported options: entropy, gini'): 'gini'}),\n",
              " (0.9939927526642707,\n",
              "  {Param(parent='RandomForestClassifier_e535a2363763', name='maxDepth', doc='Maximum depth of the tree. (>= 0) E.g., depth 0 means 1 leaf node; depth 1 means 1 internal node + 2 leaf nodes. Must be in range [0, 30].'): 10,\n",
              "   Param(parent='RandomForestClassifier_e535a2363763', name='maxBins', doc='Max number of bins for discretizing continuous features.  Must be >=2 and >= number of categories for any categorical feature.'): 64,\n",
              "   Param(parent='RandomForestClassifier_e535a2363763', name='numTrees', doc='Number of trees to train (>= 1).'): 30,\n",
              "   Param(parent='RandomForestClassifier_e535a2363763', name='impurity', doc='Criterion used for information gain calculation (case-insensitive). Supported options: entropy, gini'): 'entropy'}),\n",
              " (0.9961831604578897,\n",
              "  {Param(parent='RandomForestClassifier_e535a2363763', name='maxDepth', doc='Maximum depth of the tree. (>= 0) E.g., depth 0 means 1 leaf node; depth 1 means 1 internal node + 2 leaf nodes. Must be in range [0, 30].'): 15,\n",
              "   Param(parent='RandomForestClassifier_e535a2363763', name='maxBins', doc='Max number of bins for discretizing continuous features.  Must be >=2 and >= number of categories for any categorical feature.'): 32,\n",
              "   Param(parent='RandomForestClassifier_e535a2363763', name='numTrees', doc='Number of trees to train (>= 1).'): 10,\n",
              "   Param(parent='RandomForestClassifier_e535a2363763', name='impurity', doc='Criterion used for information gain calculation (case-insensitive). Supported options: entropy, gini'): 'gini'}),\n",
              " (0.9962151749663698,\n",
              "  {Param(parent='RandomForestClassifier_e535a2363763', name='maxDepth', doc='Maximum depth of the tree. (>= 0) E.g., depth 0 means 1 leaf node; depth 1 means 1 internal node + 2 leaf nodes. Must be in range [0, 30].'): 15,\n",
              "   Param(parent='RandomForestClassifier_e535a2363763', name='maxBins', doc='Max number of bins for discretizing continuous features.  Must be >=2 and >= number of categories for any categorical feature.'): 32,\n",
              "   Param(parent='RandomForestClassifier_e535a2363763', name='numTrees', doc='Number of trees to train (>= 1).'): 10,\n",
              "   Param(parent='RandomForestClassifier_e535a2363763', name='impurity', doc='Criterion used for information gain calculation (case-insensitive). Supported options: entropy, gini'): 'entropy'}),\n",
              " (0.9965283852951331,\n",
              "  {Param(parent='RandomForestClassifier_e535a2363763', name='maxDepth', doc='Maximum depth of the tree. (>= 0) E.g., depth 0 means 1 leaf node; depth 1 means 1 internal node + 2 leaf nodes. Must be in range [0, 30].'): 15,\n",
              "   Param(parent='RandomForestClassifier_e535a2363763', name='maxBins', doc='Max number of bins for discretizing continuous features.  Must be >=2 and >= number of categories for any categorical feature.'): 32,\n",
              "   Param(parent='RandomForestClassifier_e535a2363763', name='numTrees', doc='Number of trees to train (>= 1).'): 30,\n",
              "   Param(parent='RandomForestClassifier_e535a2363763', name='impurity', doc='Criterion used for information gain calculation (case-insensitive). Supported options: entropy, gini'): 'gini'}),\n",
              " (0.9964390208316714,\n",
              "  {Param(parent='RandomForestClassifier_e535a2363763', name='maxDepth', doc='Maximum depth of the tree. (>= 0) E.g., depth 0 means 1 leaf node; depth 1 means 1 internal node + 2 leaf nodes. Must be in range [0, 30].'): 15,\n",
              "   Param(parent='RandomForestClassifier_e535a2363763', name='maxBins', doc='Max number of bins for discretizing continuous features.  Must be >=2 and >= number of categories for any categorical feature.'): 32,\n",
              "   Param(parent='RandomForestClassifier_e535a2363763', name='numTrees', doc='Number of trees to train (>= 1).'): 30,\n",
              "   Param(parent='RandomForestClassifier_e535a2363763', name='impurity', doc='Criterion used for information gain calculation (case-insensitive). Supported options: entropy, gini'): 'entropy'}),\n",
              " (0.9962301583960544,\n",
              "  {Param(parent='RandomForestClassifier_e535a2363763', name='maxDepth', doc='Maximum depth of the tree. (>= 0) E.g., depth 0 means 1 leaf node; depth 1 means 1 internal node + 2 leaf nodes. Must be in range [0, 30].'): 15,\n",
              "   Param(parent='RandomForestClassifier_e535a2363763', name='maxBins', doc='Max number of bins for discretizing continuous features.  Must be >=2 and >= number of categories for any categorical feature.'): 64,\n",
              "   Param(parent='RandomForestClassifier_e535a2363763', name='numTrees', doc='Number of trees to train (>= 1).'): 10,\n",
              "   Param(parent='RandomForestClassifier_e535a2363763', name='impurity', doc='Criterion used for information gain calculation (case-insensitive). Supported options: entropy, gini'): 'gini'}),\n",
              " (0.9962207435501649,\n",
              "  {Param(parent='RandomForestClassifier_e535a2363763', name='maxDepth', doc='Maximum depth of the tree. (>= 0) E.g., depth 0 means 1 leaf node; depth 1 means 1 internal node + 2 leaf nodes. Must be in range [0, 30].'): 15,\n",
              "   Param(parent='RandomForestClassifier_e535a2363763', name='maxBins', doc='Max number of bins for discretizing continuous features.  Must be >=2 and >= number of categories for any categorical feature.'): 64,\n",
              "   Param(parent='RandomForestClassifier_e535a2363763', name='numTrees', doc='Number of trees to train (>= 1).'): 10,\n",
              "   Param(parent='RandomForestClassifier_e535a2363763', name='impurity', doc='Criterion used for information gain calculation (case-insensitive). Supported options: entropy, gini'): 'entropy'}),\n",
              " (0.9965428564872912,\n",
              "  {Param(parent='RandomForestClassifier_e535a2363763', name='maxDepth', doc='Maximum depth of the tree. (>= 0) E.g., depth 0 means 1 leaf node; depth 1 means 1 internal node + 2 leaf nodes. Must be in range [0, 30].'): 15,\n",
              "   Param(parent='RandomForestClassifier_e535a2363763', name='maxBins', doc='Max number of bins for discretizing continuous features.  Must be >=2 and >= number of categories for any categorical feature.'): 64,\n",
              "   Param(parent='RandomForestClassifier_e535a2363763', name='numTrees', doc='Number of trees to train (>= 1).'): 30,\n",
              "   Param(parent='RandomForestClassifier_e535a2363763', name='impurity', doc='Criterion used for information gain calculation (case-insensitive). Supported options: entropy, gini'): 'gini'}),\n",
              " (0.9964855463953015,\n",
              "  {Param(parent='RandomForestClassifier_e535a2363763', name='maxDepth', doc='Maximum depth of the tree. (>= 0) E.g., depth 0 means 1 leaf node; depth 1 means 1 internal node + 2 leaf nodes. Must be in range [0, 30].'): 15,\n",
              "   Param(parent='RandomForestClassifier_e535a2363763', name='maxBins', doc='Max number of bins for discretizing continuous features.  Must be >=2 and >= number of categories for any categorical feature.'): 64,\n",
              "   Param(parent='RandomForestClassifier_e535a2363763', name='numTrees', doc='Number of trees to train (>= 1).'): 30,\n",
              "   Param(parent='RandomForestClassifier_e535a2363763', name='impurity', doc='Criterion used for information gain calculation (case-insensitive). Supported options: entropy, gini'): 'entropy'})]"
            ]
          },
          "execution_count": 35,
          "metadata": {},
          "output_type": "execute_result"
        }
      ],
      "source": [
        "# View all results (AUROC) by each params\n",
        "list(zip(pipelineModel_rf_hpo.avgMetrics, \n",
        "         pipelineModel_rf_hpo.getEstimatorParamMaps()))"
      ]
    },
    {
      "cell_type": "code",
      "execution_count": null,
      "metadata": {
        "colab": {
          "base_uri": "https://localhost:8080/"
        },
        "id": "m64cTMWhegUT",
        "outputId": "26935a7e-2ad6-4895-86f5-d1c3d3c0deea"
      },
      "outputs": [
        {
          "name": "stdout",
          "output_type": "stream",
          "text": [
            "GridSearchCV: Random Forest\n",
            "Area under ROC curve: 0.97809\n",
            "Test Error: 0.0219097 \n",
            "Accuracy: 0.975866701505065\n"
          ]
        }
      ],
      "source": [
        "# Predict and find AUROC, test error and accuracy\n",
        "prediction_rf = pipelineModel_rf_hpo.transform(testDF) \n",
        "\n",
        "rf_auroc = evaluator_auroc.evaluate(prediction_rf)\n",
        "print('GridSearchCV: Random Forest')\n",
        "print('Area under ROC curve: %g' % (rf_auroc))\n",
        "print('Test Error: %g ' % (1.0 - rf_auroc))\n",
        "print('Accuracy:', evaluator_acc.evaluate(prediction_rf)) "
      ]
    },
    {
      "cell_type": "code",
      "execution_count": null,
      "metadata": {
        "colab": {
          "base_uri": "https://localhost:8080/"
        },
        "id": "H-O0cGGHegUU",
        "outputId": "e2cfe424-6499-47a9-c0c8-243cf6575e9a",
        "scrolled": true,
        "tags": []
      },
      "outputs": [
        {
          "data": {
            "text/plain": [
              "{Param(parent='RandomForestClassifier_e535a2363763', name='bootstrap', doc='Whether bootstrap samples are used when building trees.'): True,\n",
              " Param(parent='RandomForestClassifier_e535a2363763', name='cacheNodeIds', doc='If false, the algorithm will pass trees to executors to match instances with nodes. If true, the algorithm will cache node IDs for each instance. Caching can speed up training of deeper trees. Users can set how often should the cache be checkpointed or disable it by setting checkpointInterval.'): False,\n",
              " Param(parent='RandomForestClassifier_e535a2363763', name='checkpointInterval', doc='set checkpoint interval (>= 1) or disable checkpoint (-1). E.g. 10 means that the cache will get checkpointed every 10 iterations. Note: this setting will be ignored if the checkpoint directory is not set in the SparkContext.'): 10,\n",
              " Param(parent='RandomForestClassifier_e535a2363763', name='featureSubsetStrategy', doc=\"The number of features to consider for splits at each tree node. Supported options: 'auto' (choose automatically for task: If numTrees == 1, set to 'all'. If numTrees > 1 (forest), set to 'sqrt' for classification and to 'onethird' for regression), 'all' (use all features), 'onethird' (use 1/3 of the features), 'sqrt' (use sqrt(number of features)), 'log2' (use log2(number of features)), 'n' (when n is in the range (0, 1.0], use n * number of features. When n is in the range (1, number of features), use n features). default = 'auto'\"): 'auto',\n",
              " Param(parent='RandomForestClassifier_e535a2363763', name='featuresCol', doc='features column name.'): 'unscaledFeatures',\n",
              " Param(parent='RandomForestClassifier_e535a2363763', name='impurity', doc='Criterion used for information gain calculation (case-insensitive). Supported options: entropy, gini'): 'gini',\n",
              " Param(parent='RandomForestClassifier_e535a2363763', name='labelCol', doc='label column name.'): 'label',\n",
              " Param(parent='RandomForestClassifier_e535a2363763', name='leafCol', doc='Leaf indices column name. Predicted leaf index of each instance in each tree by preorder.'): '',\n",
              " Param(parent='RandomForestClassifier_e535a2363763', name='maxBins', doc='Max number of bins for discretizing continuous features.  Must be >=2 and >= number of categories for any categorical feature.'): 64,\n",
              " Param(parent='RandomForestClassifier_e535a2363763', name='maxDepth', doc='Maximum depth of the tree. (>= 0) E.g., depth 0 means 1 leaf node; depth 1 means 1 internal node + 2 leaf nodes. Must be in range [0, 30].'): 15,\n",
              " Param(parent='RandomForestClassifier_e535a2363763', name='maxMemoryInMB', doc='Maximum memory in MB allocated to histogram aggregation. If too small, then 1 node will be split per iteration, and its aggregates may exceed this size.'): 256,\n",
              " Param(parent='RandomForestClassifier_e535a2363763', name='minInfoGain', doc='Minimum information gain for a split to be considered at a tree node.'): 0.0,\n",
              " Param(parent='RandomForestClassifier_e535a2363763', name='minInstancesPerNode', doc='Minimum number of instances each child must have after split. If a split causes the left or right child to have fewer than minInstancesPerNode, the split will be discarded as invalid. Should be >= 1.'): 1,\n",
              " Param(parent='RandomForestClassifier_e535a2363763', name='minWeightFractionPerNode', doc='Minimum fraction of the weighted sample count that each child must have after split. If a split causes the fraction of the total weight in the left or right child to be less than minWeightFractionPerNode, the split will be discarded as invalid. Should be in interval [0.0, 0.5).'): 0.0,\n",
              " Param(parent='RandomForestClassifier_e535a2363763', name='numTrees', doc='Number of trees to train (>= 1).'): 30,\n",
              " Param(parent='RandomForestClassifier_e535a2363763', name='predictionCol', doc='prediction column name.'): 'prediction',\n",
              " Param(parent='RandomForestClassifier_e535a2363763', name='probabilityCol', doc='Column name for predicted class conditional probabilities. Note: Not all models output well-calibrated probability estimates! These probabilities should be treated as confidences, not precise probabilities.'): 'probability',\n",
              " Param(parent='RandomForestClassifier_e535a2363763', name='rawPredictionCol', doc='raw prediction (a.k.a. confidence) column name.'): 'rawPrediction',\n",
              " Param(parent='RandomForestClassifier_e535a2363763', name='seed', doc='random seed.'): 42,\n",
              " Param(parent='RandomForestClassifier_e535a2363763', name='subsamplingRate', doc='Fraction of the training data used for learning each decision tree, in range (0, 1].'): 1.0}"
            ]
          },
          "execution_count": 37,
          "metadata": {},
          "output_type": "execute_result"
        }
      ],
      "source": [
        "# Extract info from pipeline\n",
        "pipelineModel_rf_hpo.bestModel.stages[-1].extractParamMap()"
      ]
    },
    {
      "cell_type": "code",
      "execution_count": null,
      "metadata": {
        "colab": {
          "base_uri": "https://localhost:8080/"
        },
        "id": "pBSGttU4egUU",
        "outputId": "399424f3-d2cb-4844-c95d-c1c9052f21b0"
      },
      "outputs": [
        {
          "data": {
            "text/plain": [
              "{'bootstrap': True,\n",
              " 'cacheNodeIds': False,\n",
              " 'checkpointInterval': 10,\n",
              " 'featureSubsetStrategy': 'auto',\n",
              " 'featuresCol': 'unscaledFeatures',\n",
              " 'impurity': 'gini',\n",
              " 'labelCol': 'label',\n",
              " 'leafCol': '',\n",
              " 'maxBins': 64,\n",
              " 'maxDepth': 15,\n",
              " 'maxMemoryInMB': 256,\n",
              " 'minInfoGain': 0.0,\n",
              " 'minInstancesPerNode': 1,\n",
              " 'minWeightFractionPerNode': 0.0,\n",
              " 'numTrees': 30,\n",
              " 'predictionCol': 'prediction',\n",
              " 'probabilityCol': 'probability',\n",
              " 'rawPredictionCol': 'rawPrediction',\n",
              " 'seed': 42,\n",
              " 'subsamplingRate': 1.0}"
            ]
          },
          "execution_count": 38,
          "metadata": {},
          "output_type": "execute_result"
        }
      ],
      "source": [
        "# Find best model and params\n",
        "best_mod = pipelineModel_rf_hpo.bestModel\n",
        "param_dict = best_mod.stages[-1].extractParamMap()\n",
        "sane_dict = {}\n",
        "for k, v in param_dict.items():\n",
        "  sane_dict[k.name] = v\n",
        "sane_dict"
      ]
    },
    {
      "cell_type": "code",
      "execution_count": null,
      "metadata": {
        "colab": {
          "base_uri": "https://localhost:8080/"
        },
        "id": "POUz7KtZegUV",
        "outputId": "e2091b99-c9bd-4c33-85b0-ac0d008ed210"
      },
      "outputs": [
        {
          "name": "stdout",
          "output_type": "stream",
          "text": [
            "gini\n",
            "30\n",
            "64\n",
            "15\n"
          ]
        }
      ],
      "source": [
        "# Find best model and params\n",
        "best_impurity = sane_dict['impurity']\n",
        "best_numTrees = sane_dict['numTrees']\n",
        "best_maxBins = sane_dict['maxBins']\n",
        "best_maxDepth = sane_dict['maxDepth']\n",
        "print(best_impurity)\n",
        "print(best_numTrees) \n",
        "print(best_maxBins)\n",
        "print(best_maxDepth)"
      ]
    },
    {
      "cell_type": "markdown",
      "metadata": {
        "id": "fuWax7tsRTFG"
      },
      "source": [
        "### Gradient Boosted Trees"
      ]
    },
    {
      "cell_type": "code",
      "execution_count": null,
      "metadata": {
        "id": "2PkmUst_UKkz"
      },
      "outputs": [],
      "source": [
        "# Set up pipeline\n",
        "model = GBTClassifier(labelCol='label', \n",
        "                      featuresCol='unscaledFeatures',\n",
        "                      seed=seed_value)\t\t\t\t\n",
        "\n",
        "pipeline_gbt_hpo = Pipeline(stages=[model])"
      ]
    },
    {
      "cell_type": "code",
      "execution_count": null,
      "metadata": {
        "id": "ZqRZcPSWUKk0"
      },
      "outputs": [],
      "source": [
        "# Create parameter grid\n",
        "paramGrid = (ParamGridBuilder() \n",
        "            .addGrid(model.maxDepth, [5, 10, 15])\n",
        "            .addGrid(model.maxBins, [32, 64])\n",
        "            .addGrid(model.maxIter, [10])\n",
        "            .build())"
      ]
    },
    {
      "cell_type": "code",
      "execution_count": null,
      "metadata": {
        "id": "uJ0vXK9iUKk0"
      },
      "outputs": [],
      "source": [
        "# Define type of cross-validation\n",
        "cv = CrossValidator(estimator=pipeline_gbt_hpo,\n",
        "                    estimatorParamMaps=paramGrid,\n",
        "                    evaluator=evaluator_auroc,\n",
        "                    numFolds=5, parallelism=5)"
      ]
    },
    {
      "cell_type": "code",
      "execution_count": null,
      "metadata": {
        "colab": {
          "base_uri": "https://localhost:8080/"
        },
        "id": "b44FVABnPXPI",
        "outputId": "29ededac-8c6c-4670-d523-4f96f0d8ad43"
      },
      "outputs": [
        {
          "name": "stdout",
          "output_type": "stream",
          "text": [
            "2022/10/11 16:02:42 INFO mlflow.utils.autologging_utils: Created MLflow autologging run with ID '632d76fa07cf4f7aba9967984272045f', which will track hyperparameters, performance metrics, model artifacts, and lineage information for the current pyspark.ml workflow\n",
            "2022/10/11 18:39:32 WARNING mlflow.pyspark.ml: Model inputs contain unsupported Spark data types: [StructField(unscaledFeatures,VectorUDT,true)]. Model signature is not logged.\n",
            "022/10/11 18:40:26 WARNING mlflow.utils.environment: Encountered an unexpected error while inferring pip requirements (model URI: /tmp/tmpsspix5l1/model, flavor: spark), fall back to return ['pyspark==3.3.0']. Set logging level to DEBUG to see the full traceback.\n",
            "2022/10/11 18:41:08 WARNING mlflow.utils.environment: Encountered an unexpected error while inferring pip requirements (model URI: /tmp/tmpkhylcbdh/model, flavor: spark), fall back to return ['pyspark==3.3.0']. Set logging level to DEBUG to see the full traceback.\n",
            "Time to perform GridSearchCV: 9517.265165090561\n"
          ]
        }
      ],
      "source": [
        "# Start timer for experiment\n",
        "search_time_start = time.time()\n",
        "\n",
        "# Run HPO\n",
        "pipelineModel_gbt_hpo = cv.fit(trainDF)\n",
        "\n",
        "# End timer for experiment\n",
        "print('Time to perform GridSearchCV:', time.time() - search_time_start)\n",
        "\n",
        "# Save best model\n",
        "gbt_grid = pipelineModel_gbt_hpo.bestModel\n",
        "gbt_grid.save('/content/drive/MyDrive/LoanStatus/Python/Models/ML/SparkML/Models/GridSearchCV/pipelineModel_gbt_smote_hpo_grid')"
      ]
    },
    {
      "cell_type": "code",
      "execution_count": null,
      "metadata": {
        "colab": {
          "base_uri": "https://localhost:8080/"
        },
        "id": "T62elqlhegUX",
        "outputId": "b79f46a7-2171-4dea-fa6a-fa90fef45d04"
      },
      "outputs": [
        {
          "name": "stdout",
          "output_type": "stream",
          "text": [
            "{Param(parent='GBTClassifier_8c9c74b6ce2d', name='maxDepth', doc='Maximum depth of the tree. (>= 0) E.g., depth 0 means 1 leaf node; depth 1 means 1 internal node + 2 leaf nodes. Must be in range [0, 30].'): 15, Param(parent='GBTClassifier_8c9c74b6ce2d', name='maxBins', doc='Max number of bins for discretizing continuous features.  Must be >=2 and >= number of categories for any categorical feature.'): 64, Param(parent='GBTClassifier_8c9c74b6ce2d', name='maxIter', doc='max number of iterations (>= 0).'): 10}\n"
          ]
        }
      ],
      "source": [
        "# Find best parameters\n",
        "print(pipelineModel_gbt_hpo.getEstimatorParamMaps()[np.argmax(pipelineModel_gbt_hpo.avgMetrics)])"
      ]
    },
    {
      "cell_type": "code",
      "execution_count": null,
      "metadata": {
        "colab": {
          "base_uri": "https://localhost:8080/"
        },
        "id": "29-11fdsegUX",
        "outputId": "5cd6c5ba-8643-47d4-f204-a2edc9ee3549",
        "scrolled": true,
        "tags": []
      },
      "outputs": [
        {
          "data": {
            "text/plain": [
              "[(0.991749422965293,\n",
              "  {Param(parent='GBTClassifier_8c9c74b6ce2d', name='maxDepth', doc='Maximum depth of the tree. (>= 0) E.g., depth 0 means 1 leaf node; depth 1 means 1 internal node + 2 leaf nodes. Must be in range [0, 30].'): 5,\n",
              "   Param(parent='GBTClassifier_8c9c74b6ce2d', name='maxBins', doc='Max number of bins for discretizing continuous features.  Must be >=2 and >= number of categories for any categorical feature.'): 32,\n",
              "   Param(parent='GBTClassifier_8c9c74b6ce2d', name='maxIter', doc='max number of iterations (>= 0).'): 10}),\n",
              " (0.9915485855418229,\n",
              "  {Param(parent='GBTClassifier_8c9c74b6ce2d', name='maxDepth', doc='Maximum depth of the tree. (>= 0) E.g., depth 0 means 1 leaf node; depth 1 means 1 internal node + 2 leaf nodes. Must be in range [0, 30].'): 5,\n",
              "   Param(parent='GBTClassifier_8c9c74b6ce2d', name='maxBins', doc='Max number of bins for discretizing continuous features.  Must be >=2 and >= number of categories for any categorical feature.'): 64,\n",
              "   Param(parent='GBTClassifier_8c9c74b6ce2d', name='maxIter', doc='max number of iterations (>= 0).'): 10}),\n",
              " (0.9972144428158407,\n",
              "  {Param(parent='GBTClassifier_8c9c74b6ce2d', name='maxDepth', doc='Maximum depth of the tree. (>= 0) E.g., depth 0 means 1 leaf node; depth 1 means 1 internal node + 2 leaf nodes. Must be in range [0, 30].'): 10,\n",
              "   Param(parent='GBTClassifier_8c9c74b6ce2d', name='maxBins', doc='Max number of bins for discretizing continuous features.  Must be >=2 and >= number of categories for any categorical feature.'): 32,\n",
              "   Param(parent='GBTClassifier_8c9c74b6ce2d', name='maxIter', doc='max number of iterations (>= 0).'): 10}),\n",
              " (0.9972290885240692,\n",
              "  {Param(parent='GBTClassifier_8c9c74b6ce2d', name='maxDepth', doc='Maximum depth of the tree. (>= 0) E.g., depth 0 means 1 leaf node; depth 1 means 1 internal node + 2 leaf nodes. Must be in range [0, 30].'): 10,\n",
              "   Param(parent='GBTClassifier_8c9c74b6ce2d', name='maxBins', doc='Max number of bins for discretizing continuous features.  Must be >=2 and >= number of categories for any categorical feature.'): 64,\n",
              "   Param(parent='GBTClassifier_8c9c74b6ce2d', name='maxIter', doc='max number of iterations (>= 0).'): 10}),\n",
              " (0.9976729746290087,\n",
              "  {Param(parent='GBTClassifier_8c9c74b6ce2d', name='maxDepth', doc='Maximum depth of the tree. (>= 0) E.g., depth 0 means 1 leaf node; depth 1 means 1 internal node + 2 leaf nodes. Must be in range [0, 30].'): 15,\n",
              "   Param(parent='GBTClassifier_8c9c74b6ce2d', name='maxBins', doc='Max number of bins for discretizing continuous features.  Must be >=2 and >= number of categories for any categorical feature.'): 32,\n",
              "   Param(parent='GBTClassifier_8c9c74b6ce2d', name='maxIter', doc='max number of iterations (>= 0).'): 10}),\n",
              " (0.9978078088357267,\n",
              "  {Param(parent='GBTClassifier_8c9c74b6ce2d', name='maxDepth', doc='Maximum depth of the tree. (>= 0) E.g., depth 0 means 1 leaf node; depth 1 means 1 internal node + 2 leaf nodes. Must be in range [0, 30].'): 15,\n",
              "   Param(parent='GBTClassifier_8c9c74b6ce2d', name='maxBins', doc='Max number of bins for discretizing continuous features.  Must be >=2 and >= number of categories for any categorical feature.'): 64,\n",
              "   Param(parent='GBTClassifier_8c9c74b6ce2d', name='maxIter', doc='max number of iterations (>= 0).'): 10})]"
            ]
          },
          "execution_count": 23,
          "metadata": {},
          "output_type": "execute_result"
        }
      ],
      "source": [
        "# View all results (AUROC) by each params\n",
        "list(zip(pipelineModel_gbt_hpo.avgMetrics, \n",
        "         pipelineModel_gbt_hpo.getEstimatorParamMaps()))"
      ]
    },
    {
      "cell_type": "code",
      "execution_count": null,
      "metadata": {
        "colab": {
          "base_uri": "https://localhost:8080/"
        },
        "id": "4hwaX36legUX",
        "outputId": "df699b1e-04f0-4406-ae29-069cc2a4d4e2"
      },
      "outputs": [
        {
          "name": "stdout",
          "output_type": "stream",
          "text": [
            "GridSearchCV: Gradient Boosted Trees\n",
            "Area under ROC curve: 0.986468\n",
            "Test Error: 0.013532 \n",
            "Accuracy: 0.9858603889722596\n"
          ]
        }
      ],
      "source": [
        "# Predict and find AUROC, test error and accuracy\n",
        "prediction_gbt = pipelineModel_gbt_hpo.transform(testDF) \n",
        "\n",
        "gbt_auroc = evaluator_auroc.evaluate(prediction_gbt)\n",
        "print('GridSearchCV: Gradient Boosted Trees')\n",
        "print('Area under ROC curve: %g' % (gbt_auroc))\n",
        "print('Test Error: %g ' % (1.0 - gbt_auroc))\n",
        "print('Accuracy:', evaluator_acc.evaluate(prediction_gbt)) "
      ]
    },
    {
      "cell_type": "code",
      "execution_count": null,
      "metadata": {
        "colab": {
          "base_uri": "https://localhost:8080/"
        },
        "id": "l3aGUKP9egUX",
        "outputId": "f75424bb-1797-46e5-c2eb-c936154f0e23",
        "scrolled": true,
        "tags": []
      },
      "outputs": [
        {
          "data": {
            "text/plain": [
              "{Param(parent='GBTClassifier_8c9c74b6ce2d', name='cacheNodeIds', doc='If false, the algorithm will pass trees to executors to match instances with nodes. If true, the algorithm will cache node IDs for each instance. Caching can speed up training of deeper trees. Users can set how often should the cache be checkpointed or disable it by setting checkpointInterval.'): False,\n",
              " Param(parent='GBTClassifier_8c9c74b6ce2d', name='checkpointInterval', doc='set checkpoint interval (>= 1) or disable checkpoint (-1). E.g. 10 means that the cache will get checkpointed every 10 iterations. Note: this setting will be ignored if the checkpoint directory is not set in the SparkContext.'): 10,\n",
              " Param(parent='GBTClassifier_8c9c74b6ce2d', name='featureSubsetStrategy', doc=\"The number of features to consider for splits at each tree node. Supported options: 'auto' (choose automatically for task: If numTrees == 1, set to 'all'. If numTrees > 1 (forest), set to 'sqrt' for classification and to 'onethird' for regression), 'all' (use all features), 'onethird' (use 1/3 of the features), 'sqrt' (use sqrt(number of features)), 'log2' (use log2(number of features)), 'n' (when n is in the range (0, 1.0], use n * number of features. When n is in the range (1, number of features), use n features). default = 'auto'\"): 'all',\n",
              " Param(parent='GBTClassifier_8c9c74b6ce2d', name='featuresCol', doc='features column name.'): 'unscaledFeatures',\n",
              " Param(parent='GBTClassifier_8c9c74b6ce2d', name='impurity', doc='Criterion used for information gain calculation (case-insensitive). Supported options: variance'): 'variance',\n",
              " Param(parent='GBTClassifier_8c9c74b6ce2d', name='labelCol', doc='label column name.'): 'label',\n",
              " Param(parent='GBTClassifier_8c9c74b6ce2d', name='leafCol', doc='Leaf indices column name. Predicted leaf index of each instance in each tree by preorder.'): '',\n",
              " Param(parent='GBTClassifier_8c9c74b6ce2d', name='lossType', doc='Loss function which GBT tries to minimize (case-insensitive). Supported options: logistic'): 'logistic',\n",
              " Param(parent='GBTClassifier_8c9c74b6ce2d', name='maxBins', doc='Max number of bins for discretizing continuous features.  Must be >=2 and >= number of categories for any categorical feature.'): 64,\n",
              " Param(parent='GBTClassifier_8c9c74b6ce2d', name='maxDepth', doc='Maximum depth of the tree. (>= 0) E.g., depth 0 means 1 leaf node; depth 1 means 1 internal node + 2 leaf nodes. Must be in range [0, 30].'): 15,\n",
              " Param(parent='GBTClassifier_8c9c74b6ce2d', name='maxIter', doc='max number of iterations (>= 0).'): 10,\n",
              " Param(parent='GBTClassifier_8c9c74b6ce2d', name='maxMemoryInMB', doc='Maximum memory in MB allocated to histogram aggregation. If too small, then 1 node will be split per iteration, and its aggregates may exceed this size.'): 256,\n",
              " Param(parent='GBTClassifier_8c9c74b6ce2d', name='minInfoGain', doc='Minimum information gain for a split to be considered at a tree node.'): 0.0,\n",
              " Param(parent='GBTClassifier_8c9c74b6ce2d', name='minInstancesPerNode', doc='Minimum number of instances each child must have after split. If a split causes the left or right child to have fewer than minInstancesPerNode, the split will be discarded as invalid. Should be >= 1.'): 1,\n",
              " Param(parent='GBTClassifier_8c9c74b6ce2d', name='minWeightFractionPerNode', doc='Minimum fraction of the weighted sample count that each child must have after split. If a split causes the fraction of the total weight in the left or right child to be less than minWeightFractionPerNode, the split will be discarded as invalid. Should be in interval [0.0, 0.5).'): 0.0,\n",
              " Param(parent='GBTClassifier_8c9c74b6ce2d', name='predictionCol', doc='prediction column name.'): 'prediction',\n",
              " Param(parent='GBTClassifier_8c9c74b6ce2d', name='probabilityCol', doc='Column name for predicted class conditional probabilities. Note: Not all models output well-calibrated probability estimates! These probabilities should be treated as confidences, not precise probabilities.'): 'probability',\n",
              " Param(parent='GBTClassifier_8c9c74b6ce2d', name='rawPredictionCol', doc='raw prediction (a.k.a. confidence) column name.'): 'rawPrediction',\n",
              " Param(parent='GBTClassifier_8c9c74b6ce2d', name='seed', doc='random seed.'): 42,\n",
              " Param(parent='GBTClassifier_8c9c74b6ce2d', name='stepSize', doc='Step size (a.k.a. learning rate) in interval (0, 1] for shrinking the contribution of each estimator.'): 0.1,\n",
              " Param(parent='GBTClassifier_8c9c74b6ce2d', name='subsamplingRate', doc='Fraction of the training data used for learning each decision tree, in range (0, 1].'): 1.0,\n",
              " Param(parent='GBTClassifier_8c9c74b6ce2d', name='validationTol', doc='Threshold for stopping early when fit with validation is used. If the error rate on the validation input changes by less than the validationTol, then learning will stop early (before `maxIter`). This parameter is ignored when fit without validation is used.'): 0.01}"
            ]
          },
          "execution_count": 25,
          "metadata": {},
          "output_type": "execute_result"
        }
      ],
      "source": [
        "# Extract info from pipeline\n",
        "pipelineModel_gbt_hpo.bestModel.stages[-1].extractParamMap()"
      ]
    },
    {
      "cell_type": "code",
      "execution_count": null,
      "metadata": {
        "colab": {
          "base_uri": "https://localhost:8080/"
        },
        "id": "zyKhNzB6egUY",
        "outputId": "a4f9d510-67a1-416d-958a-118f442ca884",
        "scrolled": true,
        "tags": []
      },
      "outputs": [
        {
          "name": "stdout",
          "output_type": "stream",
          "text": [
            "PipelineModel_7aed6edf9218\n",
            "\n",
            "\n",
            "GBTClassificationModel: uid = GBTClassifier_8c9c74b6ce2d, numTrees=10, numClasses=2, numFeatures=50\n",
            "\n",
            "\n",
            "{Param(parent='GBTClassifier_8c9c74b6ce2d', name='cacheNodeIds', doc='If false, the algorithm will pass trees to executors to match instances with nodes. If true, the algorithm will cache node IDs for each instance. Caching can speed up training of deeper trees. Users can set how often should the cache be checkpointed or disable it by setting checkpointInterval.'): False, Param(parent='GBTClassifier_8c9c74b6ce2d', name='checkpointInterval', doc='set checkpoint interval (>= 1) or disable checkpoint (-1). E.g. 10 means that the cache will get checkpointed every 10 iterations. Note: this setting will be ignored if the checkpoint directory is not set in the SparkContext.'): 10, Param(parent='GBTClassifier_8c9c74b6ce2d', name='featureSubsetStrategy', doc=\"The number of features to consider for splits at each tree node. Supported options: 'auto' (choose automatically for task: If numTrees == 1, set to 'all'. If numTrees > 1 (forest), set to 'sqrt' for classification and to 'onethird' for regression), 'all' (use all features), 'onethird' (use 1/3 of the features), 'sqrt' (use sqrt(number of features)), 'log2' (use log2(number of features)), 'n' (when n is in the range (0, 1.0], use n * number of features. When n is in the range (1, number of features), use n features). default = 'auto'\"): 'all', Param(parent='GBTClassifier_8c9c74b6ce2d', name='featuresCol', doc='features column name.'): 'unscaledFeatures', Param(parent='GBTClassifier_8c9c74b6ce2d', name='impurity', doc='Criterion used for information gain calculation (case-insensitive). Supported options: variance'): 'variance', Param(parent='GBTClassifier_8c9c74b6ce2d', name='labelCol', doc='label column name.'): 'label', Param(parent='GBTClassifier_8c9c74b6ce2d', name='leafCol', doc='Leaf indices column name. Predicted leaf index of each instance in each tree by preorder.'): '', Param(parent='GBTClassifier_8c9c74b6ce2d', name='lossType', doc='Loss function which GBT tries to minimize (case-insensitive). Supported options: logistic'): 'logistic', Param(parent='GBTClassifier_8c9c74b6ce2d', name='maxBins', doc='Max number of bins for discretizing continuous features.  Must be >=2 and >= number of categories for any categorical feature.'): 64, Param(parent='GBTClassifier_8c9c74b6ce2d', name='maxDepth', doc='Maximum depth of the tree. (>= 0) E.g., depth 0 means 1 leaf node; depth 1 means 1 internal node + 2 leaf nodes. Must be in range [0, 30].'): 15, Param(parent='GBTClassifier_8c9c74b6ce2d', name='maxIter', doc='max number of iterations (>= 0).'): 10, Param(parent='GBTClassifier_8c9c74b6ce2d', name='maxMemoryInMB', doc='Maximum memory in MB allocated to histogram aggregation. If too small, then 1 node will be split per iteration, and its aggregates may exceed this size.'): 256, Param(parent='GBTClassifier_8c9c74b6ce2d', name='minInfoGain', doc='Minimum information gain for a split to be considered at a tree node.'): 0.0, Param(parent='GBTClassifier_8c9c74b6ce2d', name='minInstancesPerNode', doc='Minimum number of instances each child must have after split. If a split causes the left or right child to have fewer than minInstancesPerNode, the split will be discarded as invalid. Should be >= 1.'): 1, Param(parent='GBTClassifier_8c9c74b6ce2d', name='minWeightFractionPerNode', doc='Minimum fraction of the weighted sample count that each child must have after split. If a split causes the fraction of the total weight in the left or right child to be less than minWeightFractionPerNode, the split will be discarded as invalid. Should be in interval [0.0, 0.5).'): 0.0, Param(parent='GBTClassifier_8c9c74b6ce2d', name='predictionCol', doc='prediction column name.'): 'prediction', Param(parent='GBTClassifier_8c9c74b6ce2d', name='probabilityCol', doc='Column name for predicted class conditional probabilities. Note: Not all models output well-calibrated probability estimates! These probabilities should be treated as confidences, not precise probabilities.'): 'probability', Param(parent='GBTClassifier_8c9c74b6ce2d', name='rawPredictionCol', doc='raw prediction (a.k.a. confidence) column name.'): 'rawPrediction', Param(parent='GBTClassifier_8c9c74b6ce2d', name='seed', doc='random seed.'): 42, Param(parent='GBTClassifier_8c9c74b6ce2d', name='stepSize', doc='Step size (a.k.a. learning rate) in interval (0, 1] for shrinking the contribution of each estimator.'): 0.1, Param(parent='GBTClassifier_8c9c74b6ce2d', name='subsamplingRate', doc='Fraction of the training data used for learning each decision tree, in range (0, 1].'): 1.0, Param(parent='GBTClassifier_8c9c74b6ce2d', name='validationTol', doc='Threshold for stopping early when fit with validation is used. If the error rate on the validation input changes by less than the validationTol, then learning will stop early (before `maxIter`). This parameter is ignored when fit without validation is used.'): 0.01}\n"
          ]
        }
      ],
      "source": [
        "# Find best model and params\n",
        "bestPipeline = pipelineModel_gbt_hpo.bestModel\n",
        "bestModel = bestPipeline.stages[-1]\n",
        "bestParams = bestModel.extractParamMap()\n",
        "print(bestPipeline)\n",
        "print('\\n')\n",
        "print(bestModel)\n",
        "print('\\n')\n",
        "print(bestParams)"
      ]
    },
    {
      "cell_type": "code",
      "execution_count": null,
      "metadata": {
        "colab": {
          "base_uri": "https://localhost:8080/"
        },
        "id": "CKp5vc4fegUY",
        "outputId": "382acc14-dd30-4130-e2c0-315c780e5c0a"
      },
      "outputs": [
        {
          "data": {
            "text/plain": [
              "{'cacheNodeIds': False,\n",
              " 'checkpointInterval': 10,\n",
              " 'featureSubsetStrategy': 'all',\n",
              " 'featuresCol': 'unscaledFeatures',\n",
              " 'impurity': 'variance',\n",
              " 'labelCol': 'label',\n",
              " 'leafCol': '',\n",
              " 'lossType': 'logistic',\n",
              " 'maxBins': 64,\n",
              " 'maxDepth': 15,\n",
              " 'maxIter': 10,\n",
              " 'maxMemoryInMB': 256,\n",
              " 'minInfoGain': 0.0,\n",
              " 'minInstancesPerNode': 1,\n",
              " 'minWeightFractionPerNode': 0.0,\n",
              " 'predictionCol': 'prediction',\n",
              " 'probabilityCol': 'probability',\n",
              " 'rawPredictionCol': 'rawPrediction',\n",
              " 'seed': 42,\n",
              " 'stepSize': 0.1,\n",
              " 'subsamplingRate': 1.0,\n",
              " 'validationTol': 0.01}"
            ]
          },
          "execution_count": 27,
          "metadata": {},
          "output_type": "execute_result"
        }
      ],
      "source": [
        "# Find best model and params\n",
        "best_mod = pipelineModel_gbt_hpo.bestModel\n",
        "param_dict = best_mod.stages[-1].extractParamMap()\n",
        "sane_dict = {}\n",
        "for k, v in param_dict.items():\n",
        "  sane_dict[k.name] = v\n",
        "sane_dict"
      ]
    }
  ],
  "metadata": {
    "colab": {
      "machine_shape": "hm",
      "provenance": [],
      "toc_visible": true
    },
    "gpuClass": "standard",
    "kernelspec": {
      "display_name": "Python 3 (ipykernel)",
      "language": "python",
      "name": "python3"
    },
    "language_info": {
      "codemirror_mode": {
        "name": "ipython",
        "version": 3
      },
      "file_extension": ".py",
      "mimetype": "text/x-python",
      "name": "python",
      "nbconvert_exporter": "python",
      "pygments_lexer": "ipython3",
      "version": "3.9.0"
    }
  },
  "nbformat": 4,
  "nbformat_minor": 0
}