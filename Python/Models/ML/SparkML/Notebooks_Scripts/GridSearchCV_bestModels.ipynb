{
  "cells": [
    {
      "cell_type": "markdown",
      "metadata": {
        "id": "xTlApJHhcaXl"
      },
      "source": [
        "# Lending Tree Loan Status - GridSearchCV Best Models"
      ]
    },
    {
      "cell_type": "markdown",
      "metadata": {
        "id": "YVZSGOovcSYV"
      },
      "source": [
        "# Set Up Environment for Spark"
      ]
    },
    {
      "cell_type": "code",
      "execution_count": null,
      "metadata": {
        "colab": {
          "base_uri": "https://localhost:8080/"
        },
        "id": "a14ZKnvXEBZC",
        "outputId": "ef265457-45cc-4da2-8d4b-a8bca6349af0"
      },
      "outputs": [
        {
          "name": "stdout",
          "output_type": "stream",
          "text": [
            "Mounted at /content/drive\n"
          ]
        }
      ],
      "source": [
        "from google.colab import drive \n",
        "drive.mount('/content/drive')"
      ]
    },
    {
      "cell_type": "code",
      "execution_count": null,
      "metadata": {
        "colab": {
          "base_uri": "https://localhost:8080/"
        },
        "id": "oluXR5BY2OiQ",
        "outputId": "fce83897-c00a-4439-ada8-7ce9b33be697"
      },
      "outputs": [
        {
          "name": "stdout",
          "output_type": "stream",
          "text": [
            "/content/drive/MyDrive/Spark\n"
          ]
        }
      ],
      "source": [
        "%cd /content/drive/MyDrive/Spark/"
      ]
    },
    {
      "cell_type": "code",
      "execution_count": null,
      "metadata": {
        "id": "KEfFnPs42OiR"
      },
      "outputs": [],
      "source": [
        "# Set up environment for Spark\n",
        "!apt-get install openjdk-8-jdk-headless -qq > /dev/null"
      ]
    },
    {
      "cell_type": "code",
      "execution_count": null,
      "metadata": {
        "id": "5zIO9VQ747wm"
      },
      "outputs": [],
      "source": [
        "!wget -q https://archive.apache.org/dist/spark/spark-3.3.0/spark-3.3.0-bin-hadoop3.tgz"
      ]
    },
    {
      "cell_type": "code",
      "execution_count": null,
      "metadata": {
        "colab": {
          "background_save": true
        },
        "id": "GCPM3e_F47wo"
      },
      "outputs": [],
      "source": [
        "!tar xf spark-3.3.0-bin-hadoop3.tgz"
      ]
    },
    {
      "cell_type": "code",
      "execution_count": null,
      "metadata": {
        "colab": {
          "background_save": true
        },
        "id": "lRFFz8-O47wq"
      },
      "outputs": [],
      "source": [
        "# Set your spark folder to your system path environment. \n",
        "import os\n",
        "os.environ['JAVA_HOME'] = '/usr/lib/jvm/java-8-openjdk-amd64'\n",
        "os.environ['SPARK_HOME'] = '/content/drive/MyDrive/Spark/spark-3.3.0-bin-hadoop3'"
      ]
    },
    {
      "cell_type": "code",
      "execution_count": null,
      "metadata": {
        "colab": {
          "background_save": true
        },
        "id": "JXgF3B_EEBZP",
        "outputId": "6e7c4a91-8448-4a5e-def5-596dad532256"
      },
      "outputs": [
        {
          "name": "stdout",
          "output_type": "stream",
          "text": [
            "Looking in indexes: https://pypi.org/simple, https://us-python.pkg.dev/colab-wheels/public/simple/\n",
            "Collecting pyspark==3.3\n",
            "  Downloading pyspark-3.3.0.tar.gz (281.3 MB)\n",
            "\u001b[K     |████████████████████████████████| 281.3 MB 59 kB/s \n",
            "\u001b[?25hCollecting py4j==0.10.9.5\n",
            "  Downloading py4j-0.10.9.5-py2.py3-none-any.whl (199 kB)\n",
            "\u001b[K     |████████████████████████████████| 199 kB 64.6 MB/s \n",
            "\u001b[?25hBuilding wheels for collected packages: pyspark\n",
            "  Building wheel for pyspark (setup.py) ... \u001b[?25l\u001b[?25hdone\n",
            "  Created wheel for pyspark: filename=pyspark-3.3.0-py2.py3-none-any.whl size=281764026 sha256=88c92d7a991b03264e76d480c170456e4388f806c01df5e99b5d246fd393dac6\n",
            "  Stored in directory: /root/.cache/pip/wheels/7a/8e/1b/f73a52650d2e5f337708d9f6a1750d451a7349a867f928b885\n",
            "Successfully built pyspark\n",
            "Installing collected packages: py4j, pyspark\n",
            "Successfully installed py4j-0.10.9.5 pyspark-3.3.0\n"
          ]
        }
      ],
      "source": [
        "# Install findspark using pip\n",
        "!pip install -q findspark\n",
        "!pip install -U pyspark==3.3\n",
        "import findspark\n",
        "findspark.init()"
      ]
    },
    {
      "cell_type": "code",
      "execution_count": null,
      "metadata": {
        "colab": {
          "background_save": true
        },
        "id": "C6Fata6mR3jx",
        "outputId": "857005c6-6ac2-40ca-b84c-e2325de53d86"
      },
      "outputs": [
        {
          "data": {
            "text/html": [
              "\n",
              "            <div>\n",
              "                <p><b>SparkSession - in-memory</b></p>\n",
              "                \n",
              "        <div>\n",
              "            <p><b>SparkContext</b></p>\n",
              "\n",
              "            <p><a href=\"http://dd02bac46804:4050\">Spark UI</a></p>\n",
              "\n",
              "            <dl>\n",
              "              <dt>Version</dt>\n",
              "                <dd><code>v3.3.0</code></dd>\n",
              "              <dt>Master</dt>\n",
              "                <dd><code>local</code></dd>\n",
              "              <dt>AppName</dt>\n",
              "                <dd><code>Colab</code></dd>\n",
              "            </dl>\n",
              "        </div>\n",
              "        \n",
              "            </div>\n",
              "        "
            ],
            "text/plain": [
              "<pyspark.sql.session.SparkSession at 0x7fe903758c50>"
            ]
          },
          "execution_count": 9,
          "metadata": {},
          "output_type": "execute_result"
        }
      ],
      "source": [
        "# Pyspark Session for Colab\n",
        "from pyspark.sql import SparkSession\n",
        "spark = SparkSession.builder\\\n",
        "        .master('local')\\\n",
        "        .appName('Colab')\\\n",
        "        .config('spark.driver.memory', '24g')\\\n",
        "        .config('spark.executor.pyspark.memory', '18g')\\\n",
        "        .config('spark.executor.cores', '4')\\\n",
        "        .config('spark.python.worker.memory', '18g')\\\n",
        "        .config('spark.sql.execution.arrow.pyspark.enabled', 'True')\\\n",
        "        .config('spark.sql.debug.maxToStringFields', '1000')\\\n",
        "        .config('spark.sql.autoBroadcastJoinThreshold', '-1')\\\n",
        "        .config('spark.ui.port', '4050')\\\n",
        "        .getOrCreate()\n",
        "\n",
        "spark"
      ]
    },
    {
      "cell_type": "code",
      "execution_count": null,
      "metadata": {
        "colab": {
          "background_save": true
        },
        "id": "7MZZD4FkvMYM"
      },
      "outputs": [],
      "source": [
        "# Remove warnings\n",
        "spark.sparkContext.setLogLevel('ERROR')"
      ]
    },
    {
      "cell_type": "markdown",
      "metadata": {
        "id": "Klg7Fl9GIkrl"
      },
      "source": [
        "# Install & Import Packages and Set Seed"
      ]
    },
    {
      "cell_type": "code",
      "execution_count": null,
      "metadata": {
        "colab": {
          "background_save": true
        },
        "id": "_43jxDYq2Oib",
        "outputId": "e4dcff5c-4af1-415a-a044-b600c72df0f9"
      },
      "outputs": [
        {
          "name": "stdout",
          "output_type": "stream",
          "text": [
            "Looking in indexes: https://pypi.org/simple, https://us-python.pkg.dev/colab-wheels/public/simple/\n",
            "Collecting mlflow\n",
            "  Downloading mlflow-1.29.0-py3-none-any.whl (16.9 MB)\n",
            "\u001b[K     |████████████████████████████████| 16.9 MB 25.9 MB/s \n",
            "\u001b[?25hCollecting alembic<2\n",
            "  Downloading alembic-1.8.1-py3-none-any.whl (209 kB)\n",
            "\u001b[K     |████████████████████████████████| 209 kB 92.4 MB/s \n",
            "\u001b[?25hRequirement already satisfied: click<9,>=7.0 in /usr/local/lib/python3.7/dist-packages (from mlflow) (7.1.2)\n",
            "Collecting importlib-metadata!=4.7.0,<5,>=3.7.0\n",
            "  Downloading importlib_metadata-4.13.0-py3-none-any.whl (23 kB)\n",
            "Collecting docker<7,>=4.0.0\n",
            "  Downloading docker-6.0.0-py3-none-any.whl (147 kB)\n",
            "\u001b[K     |████████████████████████████████| 147 kB 103.4 MB/s \n",
            "\u001b[?25hRequirement already satisfied: cloudpickle<3 in /usr/local/lib/python3.7/dist-packages (from mlflow) (1.5.0)\n",
            "Collecting databricks-cli<1,>=0.8.7\n",
            "  Downloading databricks-cli-0.17.3.tar.gz (77 kB)\n",
            "\u001b[K     |████████████████████████████████| 77 kB 7.0 MB/s \n",
            "\u001b[?25hRequirement already satisfied: numpy<2 in /usr/local/lib/python3.7/dist-packages (from mlflow) (1.21.6)\n",
            "Requirement already satisfied: packaging<22 in /usr/local/lib/python3.7/dist-packages (from mlflow) (21.3)\n",
            "Requirement already satisfied: pytz<2023 in /usr/local/lib/python3.7/dist-packages (from mlflow) (2022.4)\n",
            "Requirement already satisfied: Flask<3 in /usr/local/lib/python3.7/dist-packages (from mlflow) (1.1.4)\n",
            "Collecting gunicorn<21\n",
            "  Downloading gunicorn-20.1.0-py3-none-any.whl (79 kB)\n",
            "\u001b[K     |████████████████████████████████| 79 kB 8.8 MB/s \n",
            "\u001b[?25hCollecting prometheus-flask-exporter<1\n",
            "  Downloading prometheus_flask_exporter-0.20.3-py3-none-any.whl (18 kB)\n",
            "Requirement already satisfied: entrypoints<1 in /usr/local/lib/python3.7/dist-packages (from mlflow) (0.4)\n",
            "Requirement already satisfied: protobuf<5,>=3.12.0 in /usr/local/lib/python3.7/dist-packages (from mlflow) (3.17.3)\n",
            "Requirement already satisfied: requests<3,>=2.17.3 in /usr/local/lib/python3.7/dist-packages (from mlflow) (2.23.0)\n",
            "Requirement already satisfied: sqlparse<1,>=0.4.0 in /usr/local/lib/python3.7/dist-packages (from mlflow) (0.4.3)\n",
            "Collecting gitpython<4,>=2.1.0\n",
            "  Downloading GitPython-3.1.29-py3-none-any.whl (182 kB)\n",
            "\u001b[K     |████████████████████████████████| 182 kB 65.8 MB/s \n",
            "\u001b[?25hRequirement already satisfied: scipy<2 in /usr/local/lib/python3.7/dist-packages (from mlflow) (1.7.3)\n",
            "Requirement already satisfied: pandas<2 in /usr/local/lib/python3.7/dist-packages (from mlflow) (1.3.5)\n",
            "Collecting querystring-parser<2\n",
            "  Downloading querystring_parser-1.2.4-py2.py3-none-any.whl (7.9 kB)\n",
            "Requirement already satisfied: sqlalchemy<2,>=1.4.0 in /usr/local/lib/python3.7/dist-packages (from mlflow) (1.4.41)\n",
            "Requirement already satisfied: pyyaml<7,>=5.1 in /usr/local/lib/python3.7/dist-packages (from mlflow) (6.0)\n",
            "Requirement already satisfied: importlib-resources in /usr/local/lib/python3.7/dist-packages (from alembic<2->mlflow) (5.10.0)\n",
            "Collecting Mako\n",
            "  Downloading Mako-1.2.3-py3-none-any.whl (78 kB)\n",
            "\u001b[K     |████████████████████████████████| 78 kB 8.1 MB/s \n",
            "\u001b[?25hCollecting pyjwt>=1.7.0\n",
            "  Downloading PyJWT-2.5.0-py3-none-any.whl (20 kB)\n",
            "Requirement already satisfied: oauthlib>=3.1.0 in /usr/local/lib/python3.7/dist-packages (from databricks-cli<1,>=0.8.7->mlflow) (3.2.1)\n",
            "Requirement already satisfied: tabulate>=0.7.7 in /usr/local/lib/python3.7/dist-packages (from databricks-cli<1,>=0.8.7->mlflow) (0.8.10)\n",
            "Requirement already satisfied: six>=1.10.0 in /usr/local/lib/python3.7/dist-packages (from databricks-cli<1,>=0.8.7->mlflow) (1.15.0)\n",
            "Collecting requests<3,>=2.17.3\n",
            "  Downloading requests-2.28.1-py3-none-any.whl (62 kB)\n",
            "\u001b[K     |████████████████████████████████| 62 kB 1.6 MB/s \n",
            "\u001b[?25hCollecting websocket-client>=0.32.0\n",
            "  Downloading websocket_client-1.4.1-py3-none-any.whl (55 kB)\n",
            "\u001b[K     |████████████████████████████████| 55 kB 4.3 MB/s \n",
            "\u001b[?25hCollecting urllib3>=1.26.0\n",
            "  Downloading urllib3-1.26.12-py2.py3-none-any.whl (140 kB)\n",
            "\u001b[K     |████████████████████████████████| 140 kB 92.2 MB/s \n",
            "\u001b[?25hRequirement already satisfied: Jinja2<3.0,>=2.10.1 in /usr/local/lib/python3.7/dist-packages (from Flask<3->mlflow) (2.11.3)\n",
            "Requirement already satisfied: Werkzeug<2.0,>=0.15 in /usr/local/lib/python3.7/dist-packages (from Flask<3->mlflow) (1.0.1)\n",
            "Requirement already satisfied: itsdangerous<2.0,>=0.24 in /usr/local/lib/python3.7/dist-packages (from Flask<3->mlflow) (1.1.0)\n",
            "Requirement already satisfied: typing-extensions>=3.7.4.3 in /usr/local/lib/python3.7/dist-packages (from gitpython<4,>=2.1.0->mlflow) (4.1.1)\n",
            "Collecting gitdb<5,>=4.0.1\n",
            "  Downloading gitdb-4.0.9-py3-none-any.whl (63 kB)\n",
            "\u001b[K     |████████████████████████████████| 63 kB 1.8 MB/s \n",
            "\u001b[?25hCollecting smmap<6,>=3.0.1\n",
            "  Downloading smmap-5.0.0-py3-none-any.whl (24 kB)\n",
            "Requirement already satisfied: setuptools>=3.0 in /usr/local/lib/python3.7/dist-packages (from gunicorn<21->mlflow) (57.4.0)\n",
            "Requirement already satisfied: zipp>=0.5 in /usr/local/lib/python3.7/dist-packages (from importlib-metadata!=4.7.0,<5,>=3.7.0->mlflow) (3.9.0)\n",
            "Requirement already satisfied: MarkupSafe>=0.23 in /usr/local/lib/python3.7/dist-packages (from Jinja2<3.0,>=2.10.1->Flask<3->mlflow) (2.0.1)\n",
            "Requirement already satisfied: pyparsing!=3.0.5,>=2.0.2 in /usr/local/lib/python3.7/dist-packages (from packaging<22->mlflow) (3.0.9)\n",
            "Requirement already satisfied: python-dateutil>=2.7.3 in /usr/local/lib/python3.7/dist-packages (from pandas<2->mlflow) (2.8.2)\n",
            "Collecting prometheus-client\n",
            "  Downloading prometheus_client-0.14.1-py3-none-any.whl (59 kB)\n",
            "\u001b[K     |████████████████████████████████| 59 kB 7.9 MB/s \n",
            "\u001b[?25hRequirement already satisfied: certifi>=2017.4.17 in /usr/local/lib/python3.7/dist-packages (from requests<3,>=2.17.3->mlflow) (2022.9.24)\n",
            "Requirement already satisfied: charset-normalizer<3,>=2 in /usr/local/lib/python3.7/dist-packages (from requests<3,>=2.17.3->mlflow) (2.1.1)\n",
            "Requirement already satisfied: idna<4,>=2.5 in /usr/local/lib/python3.7/dist-packages (from requests<3,>=2.17.3->mlflow) (2.10)\n",
            "Requirement already satisfied: greenlet!=0.4.17 in /usr/local/lib/python3.7/dist-packages (from sqlalchemy<2,>=1.4.0->mlflow) (1.1.3.post0)\n",
            "Building wheels for collected packages: databricks-cli\n",
            "  Building wheel for databricks-cli (setup.py) ... \u001b[?25l\u001b[?25hdone\n",
            "  Created wheel for databricks-cli: filename=databricks_cli-0.17.3-py3-none-any.whl size=139102 sha256=ee299e10815461a74b80d5111b9abc57248892d12030958f7a5d4dcf98edfc1b\n",
            "  Stored in directory: /root/.cache/pip/wheels/3f/73/87/c1e4b2145eb6049bb6c9aaf7ea1e38302b77ca219b6fef5d5c\n",
            "Successfully built databricks-cli\n",
            "Installing collected packages: urllib3, smmap, importlib-metadata, websocket-client, requests, pyjwt, prometheus-client, Mako, gitdb, querystring-parser, prometheus-flask-exporter, gunicorn, gitpython, docker, databricks-cli, alembic, mlflow\n",
            "  Attempting uninstall: urllib3\n",
            "    Found existing installation: urllib3 1.24.3\n",
            "    Uninstalling urllib3-1.24.3:\n",
            "      Successfully uninstalled urllib3-1.24.3\n",
            "  Attempting uninstall: importlib-metadata\n",
            "    Found existing installation: importlib-metadata 5.0.0\n",
            "    Uninstalling importlib-metadata-5.0.0:\n",
            "      Successfully uninstalled importlib-metadata-5.0.0\n",
            "  Attempting uninstall: requests\n",
            "    Found existing installation: requests 2.23.0\n",
            "    Uninstalling requests-2.23.0:\n",
            "      Successfully uninstalled requests-2.23.0\n",
            "Successfully installed Mako-1.2.3 alembic-1.8.1 databricks-cli-0.17.3 docker-6.0.0 gitdb-4.0.9 gitpython-3.1.29 gunicorn-20.1.0 importlib-metadata-4.13.0 mlflow-1.29.0 prometheus-client-0.14.1 prometheus-flask-exporter-0.20.3 pyjwt-2.5.0 querystring-parser-1.2.4 requests-2.28.1 smmap-5.0.0 urllib3-1.26.12 websocket-client-1.4.1\n",
            "Looking in indexes: https://pypi.org/simple, https://us-python.pkg.dev/colab-wheels/public/simple/\n",
            "Requirement already satisfied: hyperopt in /usr/local/lib/python3.7/dist-packages (0.1.2)\n",
            "Requirement already satisfied: scipy in /usr/local/lib/python3.7/dist-packages (from hyperopt) (1.7.3)\n",
            "Requirement already satisfied: tqdm in /usr/local/lib/python3.7/dist-packages (from hyperopt) (4.64.1)\n",
            "Requirement already satisfied: networkx in /usr/local/lib/python3.7/dist-packages (from hyperopt) (2.6.3)\n",
            "Requirement already satisfied: pymongo in /usr/local/lib/python3.7/dist-packages (from hyperopt) (4.2.0)\n",
            "Requirement already satisfied: six in /usr/local/lib/python3.7/dist-packages (from hyperopt) (1.15.0)\n",
            "Requirement already satisfied: numpy in /usr/local/lib/python3.7/dist-packages (from hyperopt) (1.21.6)\n",
            "Requirement already satisfied: future in /usr/local/lib/python3.7/dist-packages (from hyperopt) (0.16.0)\n"
          ]
        }
      ],
      "source": [
        "!pip install --upgrade mlflow \n",
        "!pip install hyperopt\n",
        "import random\n",
        "import numpy as np\n",
        "import warnings\n",
        "from pyspark.sql.functions import col, round\n",
        "from pyspark.sql.types import IntegerType, FloatType\n",
        "from pyspark.ml.feature import VectorAssembler, MinMaxScaler, StandardScaler\n",
        "from pyspark.ml import PipelineModel\n",
        "from pyspark.ml.classification import LogisticRegression, LinearSVC\n",
        "from pyspark.ml.classification import DecisionTreeClassifier\n",
        "from pyspark.ml.classification import RandomForestClassifier, GBTClassifier\n",
        "from pyspark.ml.tuning import ParamGridBuilder, CrossValidator\n",
        "from pyspark.ml.evaluation import BinaryClassificationEvaluator\n",
        "from pyspark.ml.evaluation import MulticlassClassificationEvaluator\n",
        "from pyspark.mllib.evaluation import BinaryClassificationMetrics\n",
        "import time\n",
        "from datetime import datetime, timedelta\n",
        "from timeit import default_timer as timer\n",
        "try:\n",
        "  import mlflow.pyspark.ml\n",
        "  mlflow.pyspark.ml.autolog()\n",
        "except:\n",
        "  print(f'Your version of MLflow ({mlflow.__version__}) does not support pyspark.ml for autologging. To use autologging, upgrade your MLflow client version or use Databricks Runtime for ML 8.3 or above.')\n",
        "warnings.filterwarnings('ignore')  "
      ]
    },
    {
      "cell_type": "code",
      "execution_count": null,
      "metadata": {
        "colab": {
          "background_save": true
        },
        "id": "fPRxY9Z42Oib"
      },
      "outputs": [],
      "source": [
        "# Set seed \n",
        "seed_value = 42\n",
        "os.environ['SparkML_HPO'] = str(seed_value)\n",
        "random.seed(seed_value)\n",
        "np.random.seed(seed_value)"
      ]
    },
    {
      "cell_type": "markdown",
      "metadata": {
        "id": "8KG-CvYSe5IT"
      },
      "source": [
        "# Upsampling - Oversample Minority Class "
      ]
    },
    {
      "cell_type": "markdown",
      "metadata": {
        "id": "6GCn1BhEe5IW"
      },
      "source": [
        "## Read Data and View Schema"
      ]
    },
    {
      "cell_type": "code",
      "execution_count": null,
      "metadata": {
        "colab": {
          "background_save": true
        },
        "id": "5j6lGI7pe5IZ",
        "outputId": "43fdeaca-b62a-415f-e926-9a557034e39c"
      },
      "outputs": [
        {
          "name": "stdout",
          "output_type": "stream",
          "text": [
            "\n",
            "Train Schema\n",
            "root\n",
            " |-- loan_amnt: integer (nullable = true)\n",
            " |-- int_rate: double (nullable = true)\n",
            " |-- installment: double (nullable = true)\n",
            " |-- annual_inc: double (nullable = true)\n",
            " |-- inq_last_6mths: double (nullable = true)\n",
            " |-- pub_rec: double (nullable = true)\n",
            " |-- revol_bal: integer (nullable = true)\n",
            " |-- out_prncp: double (nullable = true)\n",
            " |-- total_pymnt: double (nullable = true)\n",
            " |-- total_rec_int: double (nullable = true)\n",
            " |-- total_rec_late_fee: double (nullable = true)\n",
            " |-- recoveries: double (nullable = true)\n",
            " |-- last_pymnt_amnt: double (nullable = true)\n",
            " |-- collections_12_mths_ex_med: double (nullable = true)\n",
            " |-- acc_open_past_24mths: double (nullable = true)\n",
            " |-- bc_open_to_buy: double (nullable = true)\n",
            " |-- chargeoff_within_12_mths: double (nullable = true)\n",
            " |-- delinq_amnt: double (nullable = true)\n",
            " |-- mths_since_recent_bc: double (nullable = true)\n",
            " |-- num_bc_sats: double (nullable = true)\n",
            " |-- num_bc_tl: double (nullable = true)\n",
            " |-- num_sats: double (nullable = true)\n",
            " |-- num_tl_30dpd: double (nullable = true)\n",
            " |-- tax_liens: double (nullable = true)\n",
            " |-- tot_hi_cred_lim: double (nullable = true)\n",
            " |-- total_bal_ex_mort: double (nullable = true)\n",
            " |-- total_bc_limit: double (nullable = true)\n",
            " |-- term_ 60 months: integer (nullable = true)\n",
            " |-- grade_B: integer (nullable = true)\n",
            " |-- grade_C: integer (nullable = true)\n",
            " |-- grade_D: integer (nullable = true)\n",
            " |-- home_ownership_MORTGAGE: integer (nullable = true)\n",
            " |-- home_ownership_OWN: integer (nullable = true)\n",
            " |-- home_ownership_RENT: integer (nullable = true)\n",
            " |-- verification_status_Source Verified: integer (nullable = true)\n",
            " |-- verification_status_Verified: integer (nullable = true)\n",
            " |-- purpose_credit_card: integer (nullable = true)\n",
            " |-- initial_list_status_w: integer (nullable = true)\n",
            " |-- application_type_Joint App: integer (nullable = true)\n",
            " |-- disbursement_method_DirectPay: integer (nullable = true)\n",
            " |-- num_il_tl: double (nullable = true)\n",
            " |-- num_accts_ever_120_pd: double (nullable = true)\n",
            " |-- mo_sin_old_rev_tl_op: double (nullable = true)\n",
            " |-- percent_bc_gt_75: double (nullable = true)\n",
            " |-- revol_util: double (nullable = true)\n",
            " |-- num_actv_rev_tl: double (nullable = true)\n",
            " |-- tot_coll_amt: double (nullable = true)\n",
            " |-- mort_acc: double (nullable = true)\n",
            " |-- delinq_2yrs: double (nullable = true)\n",
            " |-- num_tl_op_past_12m: double (nullable = true)\n",
            " |-- loan_status: integer (nullable = true)\n",
            "\n",
            "\n",
            "Test Schema\n",
            "root\n",
            " |-- loan_amnt: integer (nullable = true)\n",
            " |-- int_rate: double (nullable = true)\n",
            " |-- installment: double (nullable = true)\n",
            " |-- annual_inc: double (nullable = true)\n",
            " |-- inq_last_6mths: double (nullable = true)\n",
            " |-- pub_rec: double (nullable = true)\n",
            " |-- revol_bal: integer (nullable = true)\n",
            " |-- out_prncp: double (nullable = true)\n",
            " |-- total_pymnt: double (nullable = true)\n",
            " |-- total_rec_int: double (nullable = true)\n",
            " |-- total_rec_late_fee: double (nullable = true)\n",
            " |-- recoveries: double (nullable = true)\n",
            " |-- last_pymnt_amnt: double (nullable = true)\n",
            " |-- collections_12_mths_ex_med: double (nullable = true)\n",
            " |-- acc_open_past_24mths: double (nullable = true)\n",
            " |-- bc_open_to_buy: double (nullable = true)\n",
            " |-- chargeoff_within_12_mths: double (nullable = true)\n",
            " |-- delinq_amnt: double (nullable = true)\n",
            " |-- mths_since_recent_bc: double (nullable = true)\n",
            " |-- num_bc_sats: double (nullable = true)\n",
            " |-- num_bc_tl: double (nullable = true)\n",
            " |-- num_sats: double (nullable = true)\n",
            " |-- num_tl_30dpd: double (nullable = true)\n",
            " |-- tax_liens: double (nullable = true)\n",
            " |-- tot_hi_cred_lim: double (nullable = true)\n",
            " |-- total_bal_ex_mort: double (nullable = true)\n",
            " |-- total_bc_limit: double (nullable = true)\n",
            " |-- term_ 60 months: integer (nullable = true)\n",
            " |-- grade_B: integer (nullable = true)\n",
            " |-- grade_C: integer (nullable = true)\n",
            " |-- grade_D: integer (nullable = true)\n",
            " |-- home_ownership_MORTGAGE: integer (nullable = true)\n",
            " |-- home_ownership_OWN: integer (nullable = true)\n",
            " |-- home_ownership_RENT: integer (nullable = true)\n",
            " |-- verification_status_Source Verified: integer (nullable = true)\n",
            " |-- verification_status_Verified: integer (nullable = true)\n",
            " |-- purpose_credit_card: integer (nullable = true)\n",
            " |-- initial_list_status_w: integer (nullable = true)\n",
            " |-- application_type_Joint App: integer (nullable = true)\n",
            " |-- disbursement_method_DirectPay: integer (nullable = true)\n",
            " |-- num_il_tl: double (nullable = true)\n",
            " |-- num_accts_ever_120_pd: double (nullable = true)\n",
            " |-- mo_sin_old_rev_tl_op: double (nullable = true)\n",
            " |-- percent_bc_gt_75: double (nullable = true)\n",
            " |-- revol_util: double (nullable = true)\n",
            " |-- num_actv_rev_tl: double (nullable = true)\n",
            " |-- tot_coll_amt: double (nullable = true)\n",
            " |-- mort_acc: double (nullable = true)\n",
            " |-- delinq_2yrs: double (nullable = true)\n",
            " |-- num_tl_op_past_12m: double (nullable = true)\n",
            " |-- loan_status: integer (nullable = true)\n",
            "\n"
          ]
        }
      ],
      "source": [
        "trainDF_US = spark.read.csv('/content/drive/MyDrive/LoanStatus/Data/trainDF_US.csv',\n",
        "                         header=True, inferSchema=True)\n",
        "trainDF_US.cache()\n",
        "print('\\nTrain Schema')\n",
        "trainDF_US.printSchema()\n",
        "\n",
        "testDF_US = spark.read.csv('/content/drive/MyDrive/LoanStatus/Data/testDF_US.csv',\n",
        "                        header=True, inferSchema=True)\n",
        "testDF_US.cache()\n",
        "print('\\nTest Schema')\n",
        "testDF_US.printSchema()"
      ]
    },
    {
      "cell_type": "markdown",
      "metadata": {
        "id": "zflH6vMkmRBu"
      },
      "source": [
        "## Set up Vector Assembler, Scalers and Evaluators"
      ]
    },
    {
      "cell_type": "code",
      "execution_count": null,
      "metadata": {
        "colab": {
          "background_save": true
        },
        "id": "RtYI5DHne5Ig"
      },
      "outputs": [],
      "source": [
        "# Define features and label for train data\n",
        "features = trainDF_US.columns[0: len(trainDF_US.columns) - 1]\n",
        "trainDF_US = trainDF_US.select(col('loan_status').alias('label'), *features)"
      ]
    },
    {
      "cell_type": "code",
      "execution_count": null,
      "metadata": {
        "colab": {
          "background_save": true
        },
        "id": "y92YFqDUe5Ij"
      },
      "outputs": [],
      "source": [
        "# VectorAssembler \n",
        "vecAssembler = VectorAssembler(inputCols=features, \n",
        "                               outputCol='unscaledFeatures', \n",
        "                               handleInvalid='skip')  \n",
        "\n",
        "# Transform train data\n",
        "trainDF_US = vecAssembler.transform(trainDF_US)  "
      ]
    },
    {
      "cell_type": "code",
      "execution_count": null,
      "metadata": {
        "colab": {
          "background_save": true
        },
        "id": "V0pcWCo8e5Ik"
      },
      "outputs": [],
      "source": [
        "# Define features and label for test data \n",
        "features = testDF_US.columns[0: len(testDF_US.columns) - 1]\n",
        "testDF_US = testDF_US.select(col('loan_status').alias('label'), *features)\n",
        "\n",
        "# Transform test data\n",
        "testDF_US = vecAssembler.transform(testDF_US)  "
      ]
    },
    {
      "cell_type": "code",
      "execution_count": null,
      "metadata": {
        "colab": {
          "background_save": true
        },
        "id": "TOuLwXWXADxN"
      },
      "outputs": [],
      "source": [
        "# MinMaxScaler\n",
        "mmScaler = MinMaxScaler(inputCol='unscaledFeatures', \n",
        "                        outputCol='scaledFeatures',\n",
        "                        min=0, max=1)"
      ]
    },
    {
      "cell_type": "code",
      "execution_count": null,
      "metadata": {
        "colab": {
          "background_save": true
        },
        "id": "9aSyOEu-mRB6"
      },
      "outputs": [],
      "source": [
        "# Standard scaler\n",
        "stdScaler = StandardScaler(inputCol='unscaledFeatures', \n",
        "                           outputCol='scaledFeatures', \n",
        "                           withStd=True, \n",
        "                           withMean=False)"
      ]
    },
    {
      "cell_type": "code",
      "execution_count": null,
      "metadata": {
        "colab": {
          "background_save": true
        },
        "id": "096lwig4mRB9"
      },
      "outputs": [],
      "source": [
        "# Define model evaluation - AUROC\n",
        "evaluator_auroc = BinaryClassificationEvaluator(labelCol='label', \n",
        "                                                metricName='areaUnderROC')\n",
        "# Define model evaluation - Accuracy\n",
        "evaluator_acc = MulticlassClassificationEvaluator(labelCol='label', \n",
        "                                                  metricName='accuracy')"
      ]
    },
    {
      "cell_type": "markdown",
      "metadata": {
        "id": "ZppiPmMsmRCA"
      },
      "source": [
        "## Load Saved Models - Upsampling"
      ]
    },
    {
      "cell_type": "code",
      "execution_count": null,
      "metadata": {
        "colab": {
          "background_save": true
        },
        "id": "dIrVDCAveytM"
      },
      "outputs": [],
      "source": [
        "pipelineModel_lr_hpo_US = PipelineModel.load('/content/drive/MyDrive/LoanStatus/Python/Models/ML/SparkML/Models/GridSearchCV/pipelineModel_lr_us_hpo_grid/')\n",
        "pipelineModel_lsvc_hpo_US = PipelineModel.load('/content/drive/MyDrive/LoanStatus/Python/Models/ML/SparkML/Models/GridSearchCV/pipelineModel_lsvc_us_hpo_grid/')\n",
        "pipelineModel_dt_hpo_US = PipelineModel.load('/content/drive/MyDrive/LoanStatus/Python/Models/ML/SparkML/Models/GridSearchCV/pipelineModel_dt_us_hpo_grid/')\n",
        "pipelineModel_rf_hpo_US = PipelineModel.load('/content/drive/MyDrive/LoanStatus/Python/Models/ML/SparkML/Models/GridSearchCV/pipelineModel_rf_us_hpo_grid/')\n",
        "pipelineModel_gbt_hpo_US = PipelineModel.load('/content/drive/MyDrive/LoanStatus/Python/Models/ML/SparkML/Models/GridSearchCV/pipelineModel_gbt_us_hpo_grid/')"
      ]
    },
    {
      "cell_type": "markdown",
      "metadata": {
        "id": "I-PZUy-WAbFg"
      },
      "source": [
        "## Predict and Model Metrics using testDF of Upsampling Set"
      ]
    },
    {
      "cell_type": "code",
      "execution_count": null,
      "metadata": {
        "colab": {
          "base_uri": "https://localhost:8080/"
        },
        "id": "8feDqAxni2Dw",
        "outputId": "923eefe5-7c16-4160-a4e8-35bdc717da9a"
      },
      "outputs": [
        {
          "name": "stdout",
          "output_type": "stream",
          "text": [
            "GridSearchCV Best Models Metrics: Upsampling\n",
            "\n",
            "\n",
            "Area Under ROC Curve:\n",
            "Logistic Regression: 0.9716420492988681\n",
            "LinearSVC: 0.9802039596564845\n",
            "Decision Trees: 0.9602220402746184\n",
            "Random Forest: 0.9811805363162989\n",
            "Gradient Boosted Trees: 0.9849316561714048\n",
            "\n",
            "\n",
            "Accuracy:\n",
            "Logistic Regression: 0.9740423101557785\n",
            "LinearSVC: 0.9816335355039505\n",
            "Decision Trees: 0.9810508401680568\n",
            "Random Forest: 0.9791455189110072\n",
            "Gradient Boosted Trees: 0.9823503432584231\n"
          ]
        }
      ],
      "source": [
        "prediction_lr = pipelineModel_lr_hpo_US.transform(testDF_US)\n",
        "prediction_lsvc = pipelineModel_lsvc_hpo_US.transform(testDF_US)\n",
        "prediction_dt = pipelineModel_dt_hpo_US.transform(testDF_US)\n",
        "prediction_rf = pipelineModel_rf_hpo_US.transform(testDF_US)\n",
        "prediction_gbt = pipelineModel_gbt_hpo_US.transform(testDF_US)\n",
        "\n",
        "print('GridSearchCV Best Models Metrics: Upsampling')\n",
        "print('\\n')\n",
        "print('Area Under ROC Curve:')\n",
        "print('Logistic Regression:', evaluator_auroc.evaluate(prediction_lr)) \n",
        "print('LinearSVC:', evaluator_auroc.evaluate(prediction_lsvc)) \n",
        "print('Decision Trees:', evaluator_auroc.evaluate(prediction_dt)) \n",
        "print('Random Forest:', evaluator_auroc.evaluate(prediction_rf)) \n",
        "print('Gradient Boosted Trees:', evaluator_auroc.evaluate(prediction_gbt)) \n",
        "print('\\n')\n",
        "print('Accuracy:')\n",
        "print('Logistic Regression:', evaluator_acc.evaluate(prediction_lr)) \n",
        "print('LinearSVC:', evaluator_acc.evaluate(prediction_lsvc)) \n",
        "print('Decision Trees:', evaluator_acc.evaluate(prediction_dt)) \n",
        "print('Random Forest:', evaluator_acc.evaluate(prediction_rf)) \n",
        "print('Gradient Boosted Trees:', evaluator_acc.evaluate(prediction_gbt)) "
      ]
    },
    {
      "cell_type": "code",
      "execution_count": null,
      "metadata": {
        "colab": {
          "base_uri": "https://localhost:8080/"
        },
        "id": "fs41uiBZmRCH",
        "outputId": "3dc292ad-6aad-4a94-a036-16e3caedfd15"
      },
      "outputs": [
        {
          "name": "stdout",
          "output_type": "stream",
          "text": [
            "GridSearchCV Best Models Metrics: Upsampling\n",
            "\n",
            "Model: prediction_lr\n",
            "True Positives: 47818\n",
            "True Negatives: 373429\n",
            "False Positives: 4419\n",
            "False Negatives: 6807\n",
            "Total: 432473\n",
            "Accuracy: 0.9740423101557785\n",
            "Recall: 0.8753867276887872\n",
            "Precision:  0.9154047897084442\n",
            "F1 score: 0.8949486253298647\n",
            "\n",
            "\n",
            "\n",
            "Model: prediction_lsvc\n",
            "True Positives: 48966\n",
            "True Negatives: 375564\n",
            "False Positives: 2284\n",
            "False Negatives: 5659\n",
            "Total: 432473\n",
            "Accuracy: 0.9816335355039505\n",
            "Recall: 0.8964027459954234\n",
            "Precision:  0.9554341463414634\n",
            "F1 score: 0.9249775678866589\n",
            "\n",
            "\n",
            "\n",
            "Model: prediction_dt\n",
            "True Positives: 50419\n",
            "True Negatives: 373859\n",
            "False Positives: 3989\n",
            "False Negatives: 4206\n",
            "Total: 432473\n",
            "Accuracy: 0.9810508401680568\n",
            "Recall: 0.9230022883295195\n",
            "Precision:  0.9266835759447141\n",
            "F1 score: 0.924839268845212\n",
            "\n",
            "\n",
            "\n",
            "Model: prediction_rf\n",
            "True Positives: 49771\n",
            "True Negatives: 373683\n",
            "False Positives: 4165\n",
            "False Negatives: 4854\n",
            "Total: 432473\n",
            "Accuracy: 0.9791455189110072\n",
            "Recall: 0.9111395881006865\n",
            "Precision:  0.9227788490062296\n",
            "F1 score: 0.9169222833245826\n",
            "\n",
            "\n",
            "\n",
            "Model: prediction_gbt\n",
            "True Positives: 50339\n",
            "True Negatives: 374501\n",
            "False Positives: 3347\n",
            "False Negatives: 4286\n",
            "Total: 432473\n",
            "Accuracy: 0.9823503432584231\n",
            "Recall: 0.9215377574370709\n",
            "Precision:  0.9376559997019707\n",
            "F1 score: 0.9295270101836378\n",
            "\n",
            "\n",
            "\n",
            "\n"
          ]
        }
      ],
      "source": [
        "print('GridSearchCV Best Models Metrics: Upsampling')\n",
        "for model in ['prediction_lr', 'prediction_lsvc', 'prediction_dt', \n",
        "\t\t\t        'prediction_rf', 'prediction_gbt']:\n",
        "    df = globals()[model]\n",
        "    \n",
        "    tp = df[(df.label == 1) & (df.prediction == 1)].count()\n",
        "    tn = df[(df.label == 0) & (df.prediction == 0)].count()\n",
        "    fp = df[(df.label == 0) & (df.prediction == 1)].count()\n",
        "    fn = df[(df.label == 1) & (df.prediction == 0)].count()\n",
        "    a = ((tp + tn)/df.count())\n",
        "    \n",
        "    if(tp + fn == 0.0):\n",
        "        r = 0.0\n",
        "        p = float(tp) / (tp + fp)\n",
        "    elif(tp + fp == 0.0):\n",
        "        r = float(tp) / (tp + fn)\n",
        "        p = 0.0\n",
        "    else:\n",
        "        r = float(tp) / (tp + fn)\n",
        "        p = float(tp) / (tp + fp)\n",
        "    \n",
        "    if(p + r == 0):\n",
        "        f1 = 0\n",
        "    else:\n",
        "        f1 = 2 * ((p * r)/(p + r))\n",
        "    \n",
        "    print('\\nModel:', model)\n",
        "    print('True Positives:', tp)\n",
        "    print('True Negatives:', tn)\n",
        "    print('False Positives:', fp)\n",
        "    print('False Negatives:', fn)\n",
        "    print('Total:', df.count())\n",
        "    print('Accuracy:', a)\n",
        "    print('Recall:', r)\n",
        "    print('Precision: ', p)\n",
        "    print('F1 score:', f1)\n",
        "    print('\\n')\n",
        "print('\\n')"
      ]
    },
    {
      "cell_type": "markdown",
      "metadata": {
        "id": "KMEMPDZomRCK"
      },
      "source": [
        "## Load Saved Models - SMOTE"
      ]
    },
    {
      "cell_type": "code",
      "execution_count": null,
      "metadata": {
        "id": "bgzOCrxDmRCL"
      },
      "outputs": [],
      "source": [
        "pipelineModel_lr_hpo_SMOTE = PipelineModel.load('/content/drive/MyDrive/LoanStatus/Python/Models/ML/SparkML/Models/GridSearchCV/pipelineModel_lr_smote_hpo_grid/')\n",
        "pipelineModel_lsvc_hpo_SMOTE = PipelineModel.load('/content/drive/MyDrive/LoanStatus/Python/Models/ML/SparkML/Models/GridSearchCV/pipelineModel_lsvc_smote_hpo_grid/')\n",
        "pipelineModel_rf_hpo_SMOTE = PipelineModel.load('/content/drive/MyDrive/LoanStatus/Python/Models/ML/SparkML/Models/GridSearchCV/pipelineModel_rf_smote_hpo_grid/')\n",
        "pipelineModel_gbt_hpo_SMOTE = PipelineModel.load('/content/drive/MyDrive/LoanStatus/Python/Models/ML/SparkML/Models/GridSearchCV/pipelineModel_gbt_smote_hpo_grid/')\n",
        "pipelineModel_dt_hpo_SMOTE = PipelineModel.load('/content/drive/MyDrive/LoanStatus/Python/Models/ML/SparkML/Models/GridSearchCV/pipelineModel_dt_smote_hpo_grid/')"
      ]
    },
    {
      "cell_type": "markdown",
      "metadata": {
        "id": "c614B9WYAzdH"
      },
      "source": [
        "## Predict and SMOTE Model Metrics using testDF of Upsampling Set"
      ]
    },
    {
      "cell_type": "code",
      "execution_count": null,
      "metadata": {
        "colab": {
          "base_uri": "https://localhost:8080/"
        },
        "id": "Kj8lP7Hm7ZiP",
        "outputId": "ecc6b295-349f-4217-8ab8-26d83de678a9"
      },
      "outputs": [
        {
          "output_type": "stream",
          "name": "stdout",
          "text": [
            "GridSearchCV Best Models Metrics: SMOTE Models using Upsampling Data\n",
            "\n",
            "\n",
            "Area Under ROC Curve:\n",
            "Logistic Regression: 0.9705261720148816\n",
            "LinearSVC: 0.979112214992606\n",
            "Decision Trees: 0.9493941365983161\n",
            "Random Forest: 0.9780902581532774\n",
            "Gradient Boosted Trees: 0.9864679978587151\n",
            "\n",
            "\n",
            "Accuracy:\n",
            "Logistic Regression: 0.9745810721131724\n",
            "LinearSVC: 0.9819711288334763\n",
            "Decision Trees: 0.9851320198023923\n",
            "Random Forest: 0.975866701505065\n",
            "Gradient Boosted Trees: 0.9858603889722596\n"
          ]
        }
      ],
      "source": [
        "prediction_lr = pipelineModel_lr_hpo_SMOTE.transform(testDF_US)\n",
        "prediction_lsvc = pipelineModel_lsvc_hpo_SMOTE.transform(testDF_US)\n",
        "prediction_dt = pipelineModel_dt_hpo_SMOTE.transform(testDF_US)\n",
        "prediction_rf = pipelineModel_rf_hpo_SMOTE.transform(testDF_US)\n",
        "prediction_gbt = pipelineModel_gbt_hpo_SMOTE.transform(testDF_US)\n",
        "\n",
        "print('GridSearchCV Best Models Metrics: SMOTE Models using Upsampling Data')\n",
        "print('\\n')\n",
        "print('Area Under ROC Curve:')\n",
        "print('Logistic Regression:', evaluator_auroc.evaluate(prediction_lr)) \n",
        "print('LinearSVC:', evaluator_auroc.evaluate(prediction_lsvc)) \n",
        "print('Decision Trees:', evaluator_auroc.evaluate(prediction_dt)) \n",
        "print('Random Forest:', evaluator_auroc.evaluate(prediction_rf)) \n",
        "print('Gradient Boosted Trees:', evaluator_auroc.evaluate(prediction_gbt)) \n",
        "print('\\n')\n",
        "print('Accuracy:')\n",
        "print('Logistic Regression:', evaluator_acc.evaluate(prediction_lr)) \n",
        "print('LinearSVC:', evaluator_acc.evaluate(prediction_lsvc)) \n",
        "print('Decision Trees:', evaluator_acc.evaluate(prediction_dt)) \n",
        "print('Random Forest:', evaluator_acc.evaluate(prediction_rf)) \n",
        "print('Gradient Boosted Trees:', evaluator_acc.evaluate(prediction_gbt)) "
      ]
    },
    {
      "cell_type": "code",
      "execution_count": null,
      "metadata": {
        "colab": {
          "base_uri": "https://localhost:8080/"
        },
        "id": "LdcveFL8mRCP",
        "outputId": "7f376e2a-4326-41dd-cc65-e08763892a84"
      },
      "outputs": [
        {
          "output_type": "stream",
          "name": "stdout",
          "text": [
            "GridSearchCV Best Models Metrics: SMOTE Models using Upsampling Data\n",
            "\n",
            "Model: prediction_lr\n",
            "True Positives: 46901\n",
            "True Negatives: 374579\n",
            "False Positives: 3269\n",
            "False Negatives: 7724\n",
            "Total: 432473\n",
            "Accuracy: 0.9745810721131724\n",
            "Recall: 0.8585995423340961\n",
            "Precision:  0.9348415387681882\n",
            "F1 score: 0.89509995705902\n",
            "\n",
            "\n",
            "\n",
            "Model: prediction_lsvc\n",
            "True Positives: 48314\n",
            "True Negatives: 376362\n",
            "False Positives: 1486\n",
            "False Negatives: 6311\n",
            "Total: 432473\n",
            "Accuracy: 0.9819711288334763\n",
            "Recall: 0.884466819221968\n",
            "Precision:  0.9701606425702811\n",
            "F1 score: 0.9253339717500598\n",
            "\n",
            "\n",
            "\n",
            "Model: prediction_dt\n",
            "True Positives: 49542\n",
            "True Negatives: 376501\n",
            "False Positives: 1347\n",
            "False Negatives: 5083\n",
            "Total: 432473\n",
            "Accuracy: 0.9851320198023923\n",
            "Recall: 0.9069473684210526\n",
            "Precision:  0.9735306254789837\n",
            "F1 score: 0.9390602194969387\n",
            "\n",
            "\n",
            "\n",
            "Model: prediction_rf\n",
            "True Positives: 44961\n",
            "True Negatives: 377075\n",
            "False Positives: 773\n",
            "False Negatives: 9664\n",
            "Total: 432473\n",
            "Accuracy: 0.975866701505065\n",
            "Recall: 0.8230846681922197\n",
            "Precision:  0.9830979140245769\n",
            "F1 score: 0.896003347980749\n",
            "\n",
            "\n",
            "\n",
            "Model: prediction_gbt\n",
            "True Positives: 49576\n",
            "True Negatives: 376782\n",
            "False Positives: 1066\n",
            "False Negatives: 5049\n",
            "Total: 432473\n",
            "Accuracy: 0.9858603889722596\n",
            "Recall: 0.9075697940503432\n",
            "Precision:  0.9789502784250227\n",
            "F1 score: 0.941909620298859\n",
            "\n",
            "\n"
          ]
        }
      ],
      "source": [
        "print('GridSearchCV Best Models Metrics: SMOTE Models using Upsampling Data')\n",
        "for model in ['prediction_lr', 'prediction_lsvc', 'prediction_dt', \n",
        "\t\t\t        'prediction_rf', 'prediction_gbt']:\n",
        "    df = globals()[model]\n",
        "    \n",
        "    tp = df[(df.label == 1) & (df.prediction == 1)].count()\n",
        "    tn = df[(df.label == 0) & (df.prediction == 0)].count()\n",
        "    fp = df[(df.label == 0) & (df.prediction == 1)].count()\n",
        "    fn = df[(df.label == 1) & (df.prediction == 0)].count()\n",
        "    a = ((tp + tn)/df.count())\n",
        "    \n",
        "    if(tp + fn == 0.0):\n",
        "        r = 0.0\n",
        "        p = float(tp) / (tp + fp)\n",
        "    elif(tp + fp == 0.0):\n",
        "        r = float(tp) / (tp + fn)\n",
        "        p = 0.0\n",
        "    else:\n",
        "        r = float(tp) / (tp + fn)\n",
        "        p = float(tp) / (tp + fp)\n",
        "    \n",
        "    if(p + r == 0):\n",
        "        f1 = 0\n",
        "    else:\n",
        "        f1 = 2 * ((p * r)/(p + r))\n",
        "    \n",
        "    print('\\nModel:', model)\n",
        "    print('True Positives:', tp)\n",
        "    print('True Negatives:', tn)\n",
        "    print('False Positives:', fp)\n",
        "    print('False Negatives:', fn)\n",
        "    print('Total:', df.count())\n",
        "    print('Accuracy:', a)\n",
        "    print('Recall:', r)\n",
        "    print('Precision: ', p)\n",
        "    print('F1 score:', f1)\n",
        "    print('\\n')"
      ]
    },
    {
      "cell_type": "markdown",
      "metadata": {
        "id": "p-_B1hvFmRCS"
      },
      "source": [
        "# SMOTE - Split Over Upsampling "
      ]
    },
    {
      "cell_type": "markdown",
      "metadata": {
        "id": "AjJbHCXUmRCT"
      },
      "source": [
        "## Read Data and View Schema"
      ]
    },
    {
      "cell_type": "code",
      "execution_count": null,
      "metadata": {
        "colab": {
          "base_uri": "https://localhost:8080/"
        },
        "id": "Jp5nX-x-mRCU",
        "outputId": "31fc084e-7039-4f32-a301-1ef49f424c69"
      },
      "outputs": [
        {
          "output_type": "stream",
          "name": "stdout",
          "text": [
            "\n",
            "Train Schema\n",
            "root\n",
            " |-- loan_amnt: integer (nullable = true)\n",
            " |-- int_rate: double (nullable = true)\n",
            " |-- installment: double (nullable = true)\n",
            " |-- annual_inc: double (nullable = true)\n",
            " |-- inq_last_6mths: double (nullable = true)\n",
            " |-- pub_rec: double (nullable = true)\n",
            " |-- revol_bal: integer (nullable = true)\n",
            " |-- out_prncp: double (nullable = true)\n",
            " |-- total_pymnt: double (nullable = true)\n",
            " |-- total_rec_int: double (nullable = true)\n",
            " |-- total_rec_late_fee: double (nullable = true)\n",
            " |-- recoveries: double (nullable = true)\n",
            " |-- last_pymnt_amnt: double (nullable = true)\n",
            " |-- collections_12_mths_ex_med: double (nullable = true)\n",
            " |-- acc_open_past_24mths: double (nullable = true)\n",
            " |-- bc_open_to_buy: double (nullable = true)\n",
            " |-- chargeoff_within_12_mths: double (nullable = true)\n",
            " |-- delinq_amnt: double (nullable = true)\n",
            " |-- mths_since_recent_bc: double (nullable = true)\n",
            " |-- num_bc_sats: double (nullable = true)\n",
            " |-- num_bc_tl: double (nullable = true)\n",
            " |-- num_sats: double (nullable = true)\n",
            " |-- num_tl_30dpd: double (nullable = true)\n",
            " |-- tax_liens: double (nullable = true)\n",
            " |-- tot_hi_cred_lim: double (nullable = true)\n",
            " |-- total_bal_ex_mort: double (nullable = true)\n",
            " |-- total_bc_limit: double (nullable = true)\n",
            " |-- term_ 60 months: integer (nullable = true)\n",
            " |-- grade_B: integer (nullable = true)\n",
            " |-- grade_C: integer (nullable = true)\n",
            " |-- grade_D: integer (nullable = true)\n",
            " |-- home_ownership_MORTGAGE: integer (nullable = true)\n",
            " |-- home_ownership_OWN: integer (nullable = true)\n",
            " |-- home_ownership_RENT: integer (nullable = true)\n",
            " |-- verification_status_Source Verified: integer (nullable = true)\n",
            " |-- verification_status_Verified: integer (nullable = true)\n",
            " |-- purpose_credit_card: integer (nullable = true)\n",
            " |-- initial_list_status_w: integer (nullable = true)\n",
            " |-- application_type_Joint App: integer (nullable = true)\n",
            " |-- disbursement_method_DirectPay: integer (nullable = true)\n",
            " |-- num_il_tl: double (nullable = true)\n",
            " |-- num_accts_ever_120_pd: double (nullable = true)\n",
            " |-- mo_sin_old_rev_tl_op: double (nullable = true)\n",
            " |-- percent_bc_gt_75: double (nullable = true)\n",
            " |-- revol_util: double (nullable = true)\n",
            " |-- num_actv_rev_tl: double (nullable = true)\n",
            " |-- tot_coll_amt: double (nullable = true)\n",
            " |-- mort_acc: double (nullable = true)\n",
            " |-- delinq_2yrs: double (nullable = true)\n",
            " |-- num_tl_op_past_12m: double (nullable = true)\n",
            " |-- loan_status: integer (nullable = true)\n",
            "\n",
            "\n",
            "Test Schema\n",
            "root\n",
            " |-- loan_amnt: integer (nullable = true)\n",
            " |-- int_rate: double (nullable = true)\n",
            " |-- installment: double (nullable = true)\n",
            " |-- annual_inc: double (nullable = true)\n",
            " |-- inq_last_6mths: double (nullable = true)\n",
            " |-- pub_rec: double (nullable = true)\n",
            " |-- revol_bal: integer (nullable = true)\n",
            " |-- out_prncp: double (nullable = true)\n",
            " |-- total_pymnt: double (nullable = true)\n",
            " |-- total_rec_int: double (nullable = true)\n",
            " |-- total_rec_late_fee: double (nullable = true)\n",
            " |-- recoveries: double (nullable = true)\n",
            " |-- last_pymnt_amnt: double (nullable = true)\n",
            " |-- collections_12_mths_ex_med: double (nullable = true)\n",
            " |-- acc_open_past_24mths: double (nullable = true)\n",
            " |-- bc_open_to_buy: double (nullable = true)\n",
            " |-- chargeoff_within_12_mths: double (nullable = true)\n",
            " |-- delinq_amnt: double (nullable = true)\n",
            " |-- mths_since_recent_bc: double (nullable = true)\n",
            " |-- num_bc_sats: double (nullable = true)\n",
            " |-- num_bc_tl: double (nullable = true)\n",
            " |-- num_sats: double (nullable = true)\n",
            " |-- num_tl_30dpd: double (nullable = true)\n",
            " |-- tax_liens: double (nullable = true)\n",
            " |-- tot_hi_cred_lim: double (nullable = true)\n",
            " |-- total_bal_ex_mort: double (nullable = true)\n",
            " |-- total_bc_limit: double (nullable = true)\n",
            " |-- term_ 60 months: integer (nullable = true)\n",
            " |-- grade_B: integer (nullable = true)\n",
            " |-- grade_C: integer (nullable = true)\n",
            " |-- grade_D: integer (nullable = true)\n",
            " |-- home_ownership_MORTGAGE: integer (nullable = true)\n",
            " |-- home_ownership_OWN: integer (nullable = true)\n",
            " |-- home_ownership_RENT: integer (nullable = true)\n",
            " |-- verification_status_Source Verified: integer (nullable = true)\n",
            " |-- verification_status_Verified: integer (nullable = true)\n",
            " |-- purpose_credit_card: integer (nullable = true)\n",
            " |-- initial_list_status_w: integer (nullable = true)\n",
            " |-- application_type_Joint App: integer (nullable = true)\n",
            " |-- disbursement_method_DirectPay: integer (nullable = true)\n",
            " |-- num_il_tl: double (nullable = true)\n",
            " |-- num_accts_ever_120_pd: double (nullable = true)\n",
            " |-- mo_sin_old_rev_tl_op: double (nullable = true)\n",
            " |-- percent_bc_gt_75: double (nullable = true)\n",
            " |-- revol_util: double (nullable = true)\n",
            " |-- num_actv_rev_tl: double (nullable = true)\n",
            " |-- tot_coll_amt: double (nullable = true)\n",
            " |-- mort_acc: double (nullable = true)\n",
            " |-- delinq_2yrs: double (nullable = true)\n",
            " |-- num_tl_op_past_12m: double (nullable = true)\n",
            " |-- loan_status: integer (nullable = true)\n",
            "\n"
          ]
        }
      ],
      "source": [
        "trainDF_SMOTE = spark.read.csv('/content/drive/MyDrive/LoanStatus/Data/trainDF_SMOTE.csv', \n",
        "                               header=True, inferSchema=True)\n",
        "trainDF_SMOTE.cache()\n",
        "trainDF_SMOTE = trainDF_SMOTE \\\n",
        "  .withColumn('loan_amnt', trainDF_SMOTE['loan_amnt'].cast(IntegerType())) \\\n",
        "  .withColumn('revol_bal', trainDF_SMOTE['revol_bal'].cast(IntegerType())) \\\n",
        "  .withColumn('term_ 60 months', trainDF_SMOTE['term_ 60 months'].cast(IntegerType())) \\\n",
        "  .withColumn('grade_B', trainDF_SMOTE['grade_B'].cast(IntegerType())) \\\n",
        "  .withColumn('grade_C', trainDF_SMOTE['grade_C'].cast(IntegerType())) \\\n",
        "  .withColumn('grade_D', trainDF_SMOTE['grade_D'].cast(IntegerType())) \\\n",
        "  .withColumn('home_ownership_MORTGAGE', trainDF_SMOTE['home_ownership_MORTGAGE'].cast(IntegerType())) \\\n",
        "  .withColumn('home_ownership_OWN', trainDF_SMOTE['home_ownership_OWN'].cast(IntegerType())) \\\n",
        "  .withColumn('home_ownership_RENT', trainDF_SMOTE['home_ownership_RENT'].cast(IntegerType())) \\\n",
        "  .withColumn('verification_status_Source Verified', trainDF_SMOTE['verification_status_Source Verified'].cast(IntegerType())) \\\n",
        "  .withColumn('verification_status_Verified', trainDF_SMOTE['verification_status_Verified'].cast(IntegerType())) \\\n",
        "  .withColumn('purpose_credit_card', trainDF_SMOTE['purpose_credit_card'].cast(IntegerType())) \\\n",
        "  .withColumn('initial_list_status_w', trainDF_SMOTE['initial_list_status_w'].cast(IntegerType())) \\\n",
        "  .withColumn('application_type_Joint App', trainDF_SMOTE['application_type_Joint App'].cast(IntegerType())) \\\n",
        "  .withColumn('disbursement_method_DirectPay', trainDF_SMOTE['disbursement_method_DirectPay'].cast(IntegerType())) \n",
        "print('\\nTrain Schema')\n",
        "trainDF_SMOTE.printSchema()\n",
        "\n",
        "testDF_SMOTE = spark.read.csv('/content/drive/MyDrive/LoanStatus/Data/testDF_SMOTE.csv',\n",
        "                              header=True, inferSchema=True)\n",
        "testDF_SMOTE.cache()\n",
        "print('\\nTest Schema')\n",
        "testDF_SMOTE.printSchema()"
      ]
    },
    {
      "cell_type": "markdown",
      "metadata": {
        "id": "qcmOMEP_fdja"
      },
      "source": [
        "## Set up Vector Assembler"
      ]
    },
    {
      "cell_type": "code",
      "execution_count": null,
      "metadata": {
        "id": "R5sTKk1Afdjd"
      },
      "outputs": [],
      "source": [
        "# Define features and label for train data\n",
        "features = trainDF_SMOTE.columns[0: len(trainDF_SMOTE.columns) - 1]\n",
        "trainDF_SMOTE = trainDF_SMOTE.select(col('loan_status').alias('label'), *features)\n",
        "\n",
        "# Transform train data\n",
        "trainDF_SMOTE = vecAssembler.transform(trainDF_SMOTE)  "
      ]
    },
    {
      "cell_type": "code",
      "execution_count": null,
      "metadata": {
        "id": "tU5DagCqfdjm"
      },
      "outputs": [],
      "source": [
        "# Define features and label for test data \n",
        "features = testDF_SMOTE.columns[0: len(testDF_SMOTE.columns) - 1]\n",
        "testDF_SMOTE = testDF_SMOTE.select(col('loan_status').alias('label'), *features)\n",
        "\n",
        "# Transform test data\n",
        "testDF_SMOTE = vecAssembler.transform(testDF_SMOTE)  "
      ]
    },
    {
      "cell_type": "markdown",
      "metadata": {
        "id": "5z3yERcEA6o1"
      },
      "source": [
        "## Predict and Model Metrics using testDF of SMOTE Set"
      ]
    },
    {
      "cell_type": "code",
      "source": [
        "prediction_lr = pipelineModel_lr_hpo_SMOTE.transform(testDF_SMOTE)\n",
        "prediction_lsvc = pipelineModel_lsvc_hpo_SMOTE.transform(testDF_SMOTE)\n",
        "prediction_dt = pipelineModel_dt_hpo_SMOTE.transform(testDF_SMOTE)\n",
        "prediction_rf = pipelineModel_rf_hpo_SMOTE.transform(testDF_SMOTE)\n",
        "prediction_gbt = pipelineModel_gbt_hpo_SMOTE.transform(testDF_SMOTE)\n",
        "\n",
        "print('GridSearchCV Best Models Metrics: SMOTE')\n",
        "print('\\n')\n",
        "print('Area Under ROC Curve:')\n",
        "print('Logistic Regression:', evaluator_auroc.evaluate(prediction_lr)) \n",
        "print('LinearSVC:', evaluator_auroc.evaluate(prediction_lsvc)) \n",
        "print('Decision Trees:', evaluator_auroc.evaluate(prediction_dt)) \n",
        "print('Random Forest:', evaluator_auroc.evaluate(prediction_rf)) \n",
        "print('Gradient Boosted Trees:', evaluator_auroc.evaluate(prediction_gbt)) \n",
        "print('\\n')\n",
        "print('Accuracy:')\n",
        "print('Logistic Regression:', evaluator_acc.evaluate(prediction_lr)) \n",
        "print('LinearSVC:', evaluator_acc.evaluate(prediction_lsvc)) \n",
        "print('Decision Trees:', evaluator_acc.evaluate(prediction_dt)) \n",
        "print('Random Forest:', evaluator_acc.evaluate(prediction_rf)) \n",
        "print('Gradient Boosted Trees:', evaluator_acc.evaluate(prediction_gbt)) "
      ],
      "metadata": {
        "colab": {
          "base_uri": "https://localhost:8080/"
        },
        "id": "eQxjx2PQ-sag",
        "outputId": "43f1e397-4c54-42d9-b613-4995097d9c0f"
      },
      "execution_count": null,
      "outputs": [
        {
          "output_type": "stream",
          "name": "stdout",
          "text": [
            "GridSearchCV Best Models Metrics: SMOTE\n",
            "\n",
            "\n",
            "Area Under ROC Curve:\n",
            "Logistic Regression: 0.9705261720148816\n",
            "LinearSVC: 0.979112214992606\n",
            "Decision Trees: 0.9493941365983161\n",
            "Random Forest: 0.9780902581532774\n",
            "Gradient Boosted Trees: 0.9864679978587151\n",
            "\n",
            "\n",
            "Accuracy:\n",
            "Logistic Regression: 0.9745810721131724\n",
            "LinearSVC: 0.9819711288334763\n",
            "Decision Trees: 0.9851320198023923\n",
            "Random Forest: 0.975866701505065\n",
            "Gradient Boosted Trees: 0.9858603889722596\n"
          ]
        }
      ]
    },
    {
      "cell_type": "code",
      "execution_count": null,
      "metadata": {
        "colab": {
          "base_uri": "https://localhost:8080/"
        },
        "id": "-Dp76f6jmRCe",
        "outputId": "181d0bea-ca4a-4660-81d0-cf9949202e38"
      },
      "outputs": [
        {
          "output_type": "stream",
          "name": "stdout",
          "text": [
            "GridSearchCV Best Models Metrics: SMOTE\n",
            "\n",
            "Model: prediction_lr\n",
            "True Positives: 46901\n",
            "True Negatives: 374579\n",
            "False Positives: 3269\n",
            "False Negatives: 7724\n",
            "Total: 432473\n",
            "Accuracy: 0.9745810721131724\n",
            "Recall: 0.8585995423340961\n",
            "Precision:  0.9348415387681882\n",
            "F1 score: 0.89509995705902\n",
            "\n",
            "\n",
            "\n",
            "Model: prediction_lsvc\n",
            "True Positives: 48314\n",
            "True Negatives: 376362\n",
            "False Positives: 1486\n",
            "False Negatives: 6311\n",
            "Total: 432473\n",
            "Accuracy: 0.9819711288334763\n",
            "Recall: 0.884466819221968\n",
            "Precision:  0.9701606425702811\n",
            "F1 score: 0.9253339717500598\n",
            "\n",
            "\n",
            "\n",
            "Model: prediction_dt\n",
            "True Positives: 49542\n",
            "True Negatives: 376501\n",
            "False Positives: 1347\n",
            "False Negatives: 5083\n",
            "Total: 432473\n",
            "Accuracy: 0.9851320198023923\n",
            "Recall: 0.9069473684210526\n",
            "Precision:  0.9735306254789837\n",
            "F1 score: 0.9390602194969387\n",
            "\n",
            "\n",
            "\n",
            "Model: prediction_rf\n",
            "True Positives: 44961\n",
            "True Negatives: 377075\n",
            "False Positives: 773\n",
            "False Negatives: 9664\n",
            "Total: 432473\n",
            "Accuracy: 0.975866701505065\n",
            "Recall: 0.8230846681922197\n",
            "Precision:  0.9830979140245769\n",
            "F1 score: 0.896003347980749\n",
            "\n",
            "\n",
            "\n",
            "Model: prediction_gbt\n",
            "True Positives: 49576\n",
            "True Negatives: 376782\n",
            "False Positives: 1066\n",
            "False Negatives: 5049\n",
            "Total: 432473\n",
            "Accuracy: 0.9858603889722596\n",
            "Recall: 0.9075697940503432\n",
            "Precision:  0.9789502784250227\n",
            "F1 score: 0.941909620298859\n",
            "\n",
            "\n"
          ]
        }
      ],
      "source": [
        "print('GridSearchCV Best Models Metrics: SMOTE')\n",
        "for model in ['prediction_lr', 'prediction_lsvc', 'prediction_dt', \n",
        "              'prediction_rf', 'prediction_gbt']:\n",
        "    df = globals()[model]\n",
        "    \n",
        "    tp = df[(df.label == 1) & (df.prediction == 1)].count()\n",
        "    tn = df[(df.label == 0) & (df.prediction == 0)].count()\n",
        "    fp = df[(df.label == 0) & (df.prediction == 1)].count()\n",
        "    fn = df[(df.label == 1) & (df.prediction == 0)].count()\n",
        "    a = ((tp + tn)/df.count())\n",
        "    \n",
        "    if(tp + fn == 0.0):\n",
        "        r = 0.0\n",
        "        p = float(tp) / (tp + fp)\n",
        "    elif(tp + fp == 0.0):\n",
        "        r = float(tp) / (tp + fn)\n",
        "        p = 0.0\n",
        "    else:\n",
        "        r = float(tp) / (tp + fn)\n",
        "        p = float(tp) / (tp + fp)\n",
        "    \n",
        "    if(p + r == 0):\n",
        "        f1 = 0\n",
        "    else:\n",
        "        f1 = 2 * ((p * r)/(p + r))\n",
        "    \n",
        "    print('\\nModel:', model)\n",
        "    print('True Positives:', tp)\n",
        "    print('True Negatives:', tn)\n",
        "    print('False Positives:', fp)\n",
        "    print('False Negatives:', fn)\n",
        "    print('Total:', df.count())\n",
        "    print('Accuracy:', a)\n",
        "    print('Recall:', r)\n",
        "    print('Precision: ', p)\n",
        "    print('F1 score:', f1)\n",
        "    print('\\n')"
      ]
    },
    {
      "cell_type": "markdown",
      "metadata": {
        "id": "rWpEpuzDA_6H"
      },
      "source": [
        "## Predict and Upsampling Model Metrics using testDF of SMOTE Set"
      ]
    },
    {
      "cell_type": "code",
      "execution_count": null,
      "metadata": {
        "colab": {
          "base_uri": "https://localhost:8080/"
        },
        "id": "TvJr88ZmmRCh",
        "outputId": "d82c4dbf-e684-4887-a630-ab5aa364a688"
      },
      "outputs": [
        {
          "output_type": "stream",
          "name": "stdout",
          "text": [
            "GridSearchCV Best Models Metrics: US Models using SMOTE Data\n",
            "\n",
            "\n",
            "Area Under ROC Curve:\n",
            "Logistic Regression: 0.9716420492988681\n",
            "LinearSVC: 0.9802039596564845\n",
            "Decision Trees: 0.9602220402746184\n",
            "Random Forest: 0.9811805363162989\n",
            "Gradient Boosted Trees: 0.9849316561714048\n",
            "\n",
            "\n",
            "Accuracy:\n",
            "Logistic Regression: 0.9740423101557785\n",
            "LinearSVC: 0.9816335355039505\n",
            "Decision Trees: 0.9810508401680568\n",
            "Random Forest: 0.9791455189110072\n",
            "Gradient Boosted Trees: 0.9823503432584231\n"
          ]
        }
      ],
      "source": [
        "prediction_lr = pipelineModel_lr_hpo_US.transform(testDF_SMOTE)\n",
        "prediction_lsvc = pipelineModel_lsvc_hpo_US.transform(testDF_SMOTE)\n",
        "prediction_dt = pipelineModel_dt_hpo_US.transform(testDF_SMOTE)\n",
        "prediction_rf = pipelineModel_rf_hpo_US.transform(testDF_SMOTE)\n",
        "prediction_gbt = pipelineModel_gbt_hpo_US.transform(testDF_SMOTE)\n",
        "\n",
        "print('GridSearchCV Best Models Metrics: US Models using SMOTE Data')\n",
        "print('\\n')\n",
        "print('Area Under ROC Curve:')\n",
        "print('Logistic Regression:', evaluator_auroc.evaluate(prediction_lr)) \n",
        "print('LinearSVC:', evaluator_auroc.evaluate(prediction_lsvc)) \n",
        "print('Decision Trees:', evaluator_auroc.evaluate(prediction_dt)) \n",
        "print('Random Forest:', evaluator_auroc.evaluate(prediction_rf)) \n",
        "print('Gradient Boosted Trees:', evaluator_auroc.evaluate(prediction_gbt)) \n",
        "print('\\n')\n",
        "print('Accuracy:')\n",
        "print('Logistic Regression:', evaluator_acc.evaluate(prediction_lr)) \n",
        "print('LinearSVC:', evaluator_acc.evaluate(prediction_lsvc)) \n",
        "print('Decision Trees:', evaluator_acc.evaluate(prediction_dt)) \n",
        "print('Random Forest:', evaluator_acc.evaluate(prediction_rf)) \n",
        "print('Gradient Boosted Trees:', evaluator_acc.evaluate(prediction_gbt)) "
      ]
    },
    {
      "cell_type": "code",
      "execution_count": null,
      "metadata": {
        "colab": {
          "base_uri": "https://localhost:8080/"
        },
        "id": "r2BZ54eqmRCj",
        "outputId": "5f0dfee3-0a9c-4f48-b9a3-959d0a16c1c7"
      },
      "outputs": [
        {
          "output_type": "stream",
          "name": "stdout",
          "text": [
            "GridSearchCV Best Models Metrics: US Models using SMOTE Data\n",
            "\n",
            "Model: prediction_lr\n",
            "True Positives: 47818\n",
            "True Negatives: 373429\n",
            "False Positives: 4419\n",
            "False Negatives: 6807\n",
            "Total: 432473\n",
            "Accuracy: 0.9740423101557785\n",
            "Recall: 0.8753867276887872\n",
            "Precision:  0.9154047897084442\n",
            "F1 score: 0.8949486253298647\n",
            "\n",
            "\n",
            "\n",
            "Model: prediction_lsvc\n",
            "True Positives: 48966\n",
            "True Negatives: 375564\n",
            "False Positives: 2284\n",
            "False Negatives: 5659\n",
            "Total: 432473\n",
            "Accuracy: 0.9816335355039505\n",
            "Recall: 0.8964027459954234\n",
            "Precision:  0.9554341463414634\n",
            "F1 score: 0.9249775678866589\n",
            "\n",
            "\n",
            "\n",
            "Model: prediction_dt\n",
            "True Positives: 50419\n",
            "True Negatives: 373859\n",
            "False Positives: 3989\n",
            "False Negatives: 4206\n",
            "Total: 432473\n",
            "Accuracy: 0.9810508401680568\n",
            "Recall: 0.9230022883295195\n",
            "Precision:  0.9266835759447141\n",
            "F1 score: 0.924839268845212\n",
            "\n",
            "\n",
            "\n",
            "Model: prediction_rf\n",
            "True Positives: 49771\n",
            "True Negatives: 373683\n",
            "False Positives: 4165\n",
            "False Negatives: 4854\n",
            "Total: 432473\n",
            "Accuracy: 0.9791455189110072\n",
            "Recall: 0.9111395881006865\n",
            "Precision:  0.9227788490062296\n",
            "F1 score: 0.9169222833245826\n",
            "\n",
            "\n",
            "\n",
            "Model: prediction_gbt\n",
            "True Positives: 50339\n",
            "True Negatives: 374501\n",
            "False Positives: 3347\n",
            "False Negatives: 4286\n",
            "Total: 432473\n",
            "Accuracy: 0.9823503432584231\n",
            "Recall: 0.9215377574370709\n",
            "Precision:  0.9376559997019707\n",
            "F1 score: 0.9295270101836378\n",
            "\n",
            "\n"
          ]
        }
      ],
      "source": [
        "print('GridSearchCV Best Models Metrics: US Models using SMOTE Data')\n",
        "for model in ['prediction_lr', 'prediction_lsvc', 'prediction_dt', \n",
        "\t\t\t'prediction_rf', 'prediction_gbt']:\n",
        "    df = globals()[model]\n",
        "    \n",
        "    tp = df[(df.label == 1) & (df.prediction == 1)].count()\n",
        "    tn = df[(df.label == 0) & (df.prediction == 0)].count()\n",
        "    fp = df[(df.label == 0) & (df.prediction == 1)].count()\n",
        "    fn = df[(df.label == 1) & (df.prediction == 0)].count()\n",
        "    a = ((tp + tn)/df.count())\n",
        "    \n",
        "    if(tp + fn == 0.0):\n",
        "        r = 0.0\n",
        "        p = float(tp) / (tp + fp)\n",
        "    elif(tp + fp == 0.0):\n",
        "        r = float(tp) / (tp + fn)\n",
        "        p = 0.0\n",
        "    else:\n",
        "        r = float(tp) / (tp + fn)\n",
        "        p = float(tp) / (tp + fp)\n",
        "    \n",
        "    if(p + r == 0):\n",
        "        f1 = 0\n",
        "    else:\n",
        "        f1 = 2 * ((p * r)/(p + r))\n",
        "    \n",
        "    print('\\nModel:', model)\n",
        "    print('True Positives:', tp)\n",
        "    print('True Negatives:', tn)\n",
        "    print('False Positives:', fp)\n",
        "    print('False Negatives:', fn)\n",
        "    print('Total:', df.count())\n",
        "    print('Accuracy:', a)\n",
        "    print('Recall:', r)\n",
        "    print('Precision: ', p)\n",
        "    print('F1 score:', f1)\n",
        "    print('\\n')"
      ]
    }
  ],
  "metadata": {
    "colab": {
      "collapsed_sections": [],
      "toc_visible": true,
      "provenance": []
    },
    "kernelspec": {
      "display_name": "Python 3",
      "name": "python3"
    },
    "language_info": {
      "name": "python"
    }
  },
  "nbformat": 4,
  "nbformat_minor": 0
}