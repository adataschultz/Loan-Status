{
  "cells": [
    {
      "cell_type": "markdown",
      "metadata": {
        "id": "xTlApJHhcaXl"
      },
      "source": [
        "# Lending Tree Loan Status - Hyperopt Best Models"
      ]
    },
    {
      "cell_type": "markdown",
      "metadata": {
        "id": "YVZSGOovcSYV"
      },
      "source": [
        "# Set Up Environment for Spark"
      ]
    },
    {
      "cell_type": "code",
      "execution_count": null,
      "metadata": {
        "colab": {
          "base_uri": "https://localhost:8080/"
        },
        "id": "a14ZKnvXEBZC",
        "outputId": "4c3546da-3b80-4693-9465-c73b5a150dd2"
      },
      "outputs": [
        {
          "name": "stdout",
          "output_type": "stream",
          "text": [
            "Mounted at /content/drive\n"
          ]
        }
      ],
      "source": [
        "from google.colab import drive \n",
        "drive.mount('/content/drive')"
      ]
    },
    {
      "cell_type": "code",
      "execution_count": null,
      "metadata": {
        "colab": {
          "base_uri": "https://localhost:8080/"
        },
        "id": "oluXR5BY2OiQ",
        "outputId": "8d26185f-e4fe-4dd3-a6c2-337f44d612e0"
      },
      "outputs": [
        {
          "name": "stdout",
          "output_type": "stream",
          "text": [
            "/content/drive/MyDrive/Spark\n"
          ]
        }
      ],
      "source": [
        "%cd /content/drive/MyDrive/Spark/"
      ]
    },
    {
      "cell_type": "code",
      "execution_count": null,
      "metadata": {
        "id": "KEfFnPs42OiR"
      },
      "outputs": [],
      "source": [
        "# Set up environment for Spark\n",
        "!apt-get install openjdk-8-jdk-headless -qq > /dev/null"
      ]
    },
    {
      "cell_type": "code",
      "execution_count": null,
      "metadata": {
        "id": "5zIO9VQ747wm"
      },
      "outputs": [],
      "source": [
        "!wget -q https://archive.apache.org/dist/spark/spark-3.3.0/spark-3.3.0-bin-hadoop3.tgz"
      ]
    },
    {
      "cell_type": "code",
      "execution_count": null,
      "metadata": {
        "id": "GCPM3e_F47wo"
      },
      "outputs": [],
      "source": [
        "!tar xf spark-3.3.0-bin-hadoop3.tgz"
      ]
    },
    {
      "cell_type": "code",
      "execution_count": null,
      "metadata": {
        "id": "lRFFz8-O47wq"
      },
      "outputs": [],
      "source": [
        "# Set your spark folder to your system path environment. \n",
        "import os\n",
        "os.environ['JAVA_HOME'] = '/usr/lib/jvm/java-8-openjdk-amd64'\n",
        "os.environ['SPARK_HOME'] = '/content/drive/MyDrive/Spark/spark-3.3.0-bin-hadoop3'"
      ]
    },
    {
      "cell_type": "code",
      "execution_count": null,
      "metadata": {
        "colab": {
          "base_uri": "https://localhost:8080/"
        },
        "outputId": "cbb1ded5-e460-47e7-8898-a08916efe401",
        "id": "NnE3_XXfVnkE"
      },
      "outputs": [
        {
          "output_type": "stream",
          "name": "stdout",
          "text": [
            "Looking in indexes: https://pypi.org/simple, https://us-python.pkg.dev/colab-wheels/public/simple/\n",
            "Collecting pyspark==3.3\n",
            "  Downloading pyspark-3.3.0.tar.gz (281.3 MB)\n",
            "\u001b[K     |████████████████████████████████| 281.3 MB 43 kB/s \n",
            "\u001b[?25hCollecting py4j==0.10.9.5\n",
            "  Downloading py4j-0.10.9.5-py2.py3-none-any.whl (199 kB)\n",
            "\u001b[K     |████████████████████████████████| 199 kB 63.5 MB/s \n",
            "\u001b[?25hBuilding wheels for collected packages: pyspark\n",
            "  Building wheel for pyspark (setup.py) ... \u001b[?25l\u001b[?25hdone\n",
            "  Created wheel for pyspark: filename=pyspark-3.3.0-py2.py3-none-any.whl size=281764026 sha256=2ac9238506d28218a2c824c8c7bc44df580e10a8b1f116a72abe92b2f2219e0d\n",
            "  Stored in directory: /root/.cache/pip/wheels/7a/8e/1b/f73a52650d2e5f337708d9f6a1750d451a7349a867f928b885\n",
            "Successfully built pyspark\n",
            "Installing collected packages: py4j, pyspark\n",
            "Successfully installed py4j-0.10.9.5 pyspark-3.3.0\n"
          ]
        }
      ],
      "source": [
        "# Install findspark using pip\n",
        "!pip install -q findspark\n",
        "!pip install -U pyspark==3.3\n",
        "import findspark\n",
        "findspark.init()"
      ]
    },
    {
      "cell_type": "code",
      "execution_count": null,
      "metadata": {
        "colab": {
          "base_uri": "https://localhost:8080/",
          "height": 221
        },
        "outputId": "179d124c-0eec-40fe-cc1d-b51be4610f19",
        "id": "C6Fata6mR3jx"
      },
      "outputs": [
        {
          "output_type": "execute_result",
          "data": {
            "text/plain": [
              "<pyspark.sql.session.SparkSession at 0x7f29ff6c7850>"
            ],
            "text/html": [
              "\n",
              "            <div>\n",
              "                <p><b>SparkSession - in-memory</b></p>\n",
              "                \n",
              "        <div>\n",
              "            <p><b>SparkContext</b></p>\n",
              "\n",
              "            <p><a href=\"http://0d90345f9f3a:4050\">Spark UI</a></p>\n",
              "\n",
              "            <dl>\n",
              "              <dt>Version</dt>\n",
              "                <dd><code>v3.3.0</code></dd>\n",
              "              <dt>Master</dt>\n",
              "                <dd><code>local</code></dd>\n",
              "              <dt>AppName</dt>\n",
              "                <dd><code>Colab</code></dd>\n",
              "            </dl>\n",
              "        </div>\n",
              "        \n",
              "            </div>\n",
              "        "
            ]
          },
          "metadata": {},
          "execution_count": 14
        }
      ],
      "source": [
        "# Pyspark Session for Colab\n",
        "from pyspark.sql import SparkSession\n",
        "spark = SparkSession.builder\\\n",
        "        .master('local')\\\n",
        "        .appName('Colab')\\\n",
        "        .config('spark.driver.memory', '24g')\\\n",
        "        .config('spark.executor.pyspark.memory', '18g')\\\n",
        "        .config('spark.executor.cores', '4')\\\n",
        "        .config('spark.python.worker.memory', '18g')\\\n",
        "        .config('spark.sql.execution.arrow.pyspark.enabled', 'True')\\\n",
        "        .config('spark.sql.debug.maxToStringFields', '1000')\\\n",
        "        .config('spark.sql.autoBroadcastJoinThreshold', '-1')\\\n",
        "        .config('spark.ui.port', '4050')\\\n",
        "        .getOrCreate()\n",
        "\n",
        "spark"
      ]
    },
    {
      "cell_type": "code",
      "execution_count": null,
      "metadata": {
        "id": "7MZZD4FkvMYM"
      },
      "outputs": [],
      "source": [
        "# Remove warnings\n",
        "spark.sparkContext.setLogLevel('ERROR')"
      ]
    },
    {
      "cell_type": "markdown",
      "metadata": {
        "id": "OPoWM380Ihtj"
      },
      "source": [
        "# Install & Import Packages and Set Seed"
      ]
    },
    {
      "cell_type": "code",
      "execution_count": null,
      "metadata": {
        "colab": {
          "base_uri": "https://localhost:8080/"
        },
        "id": "mzEE-fcNYc5r",
        "outputId": "4ceb9066-41c7-4cce-ed11-f431cb13955e"
      },
      "outputs": [
        {
          "name": "stdout",
          "output_type": "stream",
          "text": [
            "Looking in indexes: https://pypi.org/simple, https://us-python.pkg.dev/colab-wheels/public/simple/\n",
            "Collecting mlflow\n",
            "  Downloading mlflow-1.29.0-py3-none-any.whl (16.9 MB)\n",
            "\u001b[K     |████████████████████████████████| 16.9 MB 4.3 MB/s \n",
            "\u001b[?25hRequirement already satisfied: pytz<2023 in /usr/local/lib/python3.7/dist-packages (from mlflow) (2022.4)\n",
            "Requirement already satisfied: packaging<22 in /usr/local/lib/python3.7/dist-packages (from mlflow) (21.3)\n",
            "Collecting prometheus-flask-exporter<1\n",
            "  Downloading prometheus_flask_exporter-0.20.3-py3-none-any.whl (18 kB)\n",
            "Requirement already satisfied: sqlalchemy<2,>=1.4.0 in /usr/local/lib/python3.7/dist-packages (from mlflow) (1.4.41)\n",
            "Requirement already satisfied: scipy<2 in /usr/local/lib/python3.7/dist-packages (from mlflow) (1.7.3)\n",
            "Collecting databricks-cli<1,>=0.8.7\n",
            "  Downloading databricks-cli-0.17.3.tar.gz (77 kB)\n",
            "\u001b[K     |████████████████████████████████| 77 kB 6.2 MB/s \n",
            "\u001b[?25hRequirement already satisfied: Flask<3 in /usr/local/lib/python3.7/dist-packages (from mlflow) (1.1.4)\n",
            "Requirement already satisfied: pyyaml<7,>=5.1 in /usr/local/lib/python3.7/dist-packages (from mlflow) (6.0)\n",
            "Requirement already satisfied: requests<3,>=2.17.3 in /usr/local/lib/python3.7/dist-packages (from mlflow) (2.23.0)\n",
            "Requirement already satisfied: protobuf<5,>=3.12.0 in /usr/local/lib/python3.7/dist-packages (from mlflow) (3.17.3)\n",
            "Requirement already satisfied: sqlparse<1,>=0.4.0 in /usr/local/lib/python3.7/dist-packages (from mlflow) (0.4.3)\n",
            "Requirement already satisfied: numpy<2 in /usr/local/lib/python3.7/dist-packages (from mlflow) (1.21.6)\n",
            "Collecting importlib-metadata!=4.7.0,<5,>=3.7.0\n",
            "  Downloading importlib_metadata-4.13.0-py3-none-any.whl (23 kB)\n",
            "Collecting alembic<2\n",
            "  Downloading alembic-1.8.1-py3-none-any.whl (209 kB)\n",
            "\u001b[K     |████████████████████████████████| 209 kB 51.6 MB/s \n",
            "\u001b[?25hRequirement already satisfied: pandas<2 in /usr/local/lib/python3.7/dist-packages (from mlflow) (1.3.5)\n",
            "Requirement already satisfied: cloudpickle<3 in /usr/local/lib/python3.7/dist-packages (from mlflow) (1.5.0)\n",
            "Collecting querystring-parser<2\n",
            "  Downloading querystring_parser-1.2.4-py2.py3-none-any.whl (7.9 kB)\n",
            "Requirement already satisfied: click<9,>=7.0 in /usr/local/lib/python3.7/dist-packages (from mlflow) (7.1.2)\n",
            "Requirement already satisfied: entrypoints<1 in /usr/local/lib/python3.7/dist-packages (from mlflow) (0.4)\n",
            "Collecting docker<7,>=4.0.0\n",
            "  Downloading docker-6.0.0-py3-none-any.whl (147 kB)\n",
            "\u001b[K     |████████████████████████████████| 147 kB 42.1 MB/s \n",
            "\u001b[?25hCollecting gunicorn<21\n",
            "  Downloading gunicorn-20.1.0-py3-none-any.whl (79 kB)\n",
            "\u001b[K     |████████████████████████████████| 79 kB 7.8 MB/s \n",
            "\u001b[?25hCollecting gitpython<4,>=2.1.0\n",
            "  Downloading GitPython-3.1.28-py3-none-any.whl (182 kB)\n",
            "\u001b[K     |████████████████████████████████| 182 kB 35.3 MB/s \n",
            "\u001b[?25hRequirement already satisfied: importlib-resources in /usr/local/lib/python3.7/dist-packages (from alembic<2->mlflow) (5.9.0)\n",
            "Collecting Mako\n",
            "  Downloading Mako-1.2.3-py3-none-any.whl (78 kB)\n",
            "\u001b[K     |████████████████████████████████| 78 kB 7.4 MB/s \n",
            "\u001b[?25hCollecting pyjwt>=1.7.0\n",
            "  Downloading PyJWT-2.5.0-py3-none-any.whl (20 kB)\n",
            "Requirement already satisfied: oauthlib>=3.1.0 in /usr/local/lib/python3.7/dist-packages (from databricks-cli<1,>=0.8.7->mlflow) (3.2.1)\n",
            "Requirement already satisfied: tabulate>=0.7.7 in /usr/local/lib/python3.7/dist-packages (from databricks-cli<1,>=0.8.7->mlflow) (0.8.10)\n",
            "Requirement already satisfied: six>=1.10.0 in /usr/local/lib/python3.7/dist-packages (from databricks-cli<1,>=0.8.7->mlflow) (1.15.0)\n",
            "Collecting urllib3>=1.26.0\n",
            "  Downloading urllib3-1.26.12-py2.py3-none-any.whl (140 kB)\n",
            "\u001b[K     |████████████████████████████████| 140 kB 78.0 MB/s \n",
            "\u001b[?25hCollecting requests<3,>=2.17.3\n",
            "  Downloading requests-2.28.1-py3-none-any.whl (62 kB)\n",
            "\u001b[K     |████████████████████████████████| 62 kB 1.4 MB/s \n",
            "\u001b[?25hCollecting websocket-client>=0.32.0\n",
            "  Downloading websocket_client-1.4.1-py3-none-any.whl (55 kB)\n",
            "\u001b[K     |████████████████████████████████| 55 kB 3.5 MB/s \n",
            "\u001b[?25hRequirement already satisfied: itsdangerous<2.0,>=0.24 in /usr/local/lib/python3.7/dist-packages (from Flask<3->mlflow) (1.1.0)\n",
            "Requirement already satisfied: Jinja2<3.0,>=2.10.1 in /usr/local/lib/python3.7/dist-packages (from Flask<3->mlflow) (2.11.3)\n",
            "Requirement already satisfied: Werkzeug<2.0,>=0.15 in /usr/local/lib/python3.7/dist-packages (from Flask<3->mlflow) (1.0.1)\n",
            "Requirement already satisfied: typing-extensions>=3.7.4.3 in /usr/local/lib/python3.7/dist-packages (from gitpython<4,>=2.1.0->mlflow) (4.1.1)\n",
            "Collecting gitdb<5,>=4.0.1\n",
            "  Downloading gitdb-4.0.9-py3-none-any.whl (63 kB)\n",
            "\u001b[K     |████████████████████████████████| 63 kB 1.6 MB/s \n",
            "\u001b[?25hCollecting smmap<6,>=3.0.1\n",
            "  Downloading smmap-5.0.0-py3-none-any.whl (24 kB)\n",
            "Requirement already satisfied: setuptools>=3.0 in /usr/local/lib/python3.7/dist-packages (from gunicorn<21->mlflow) (57.4.0)\n",
            "Requirement already satisfied: zipp>=0.5 in /usr/local/lib/python3.7/dist-packages (from importlib-metadata!=4.7.0,<5,>=3.7.0->mlflow) (3.8.1)\n",
            "Requirement already satisfied: MarkupSafe>=0.23 in /usr/local/lib/python3.7/dist-packages (from Jinja2<3.0,>=2.10.1->Flask<3->mlflow) (2.0.1)\n",
            "Requirement already satisfied: pyparsing!=3.0.5,>=2.0.2 in /usr/local/lib/python3.7/dist-packages (from packaging<22->mlflow) (3.0.9)\n",
            "Requirement already satisfied: python-dateutil>=2.7.3 in /usr/local/lib/python3.7/dist-packages (from pandas<2->mlflow) (2.8.2)\n",
            "Collecting prometheus-client\n",
            "  Downloading prometheus_client-0.14.1-py3-none-any.whl (59 kB)\n",
            "\u001b[K     |████████████████████████████████| 59 kB 5.2 MB/s \n",
            "\u001b[?25hRequirement already satisfied: charset-normalizer<3,>=2 in /usr/local/lib/python3.7/dist-packages (from requests<3,>=2.17.3->mlflow) (2.1.1)\n",
            "Requirement already satisfied: idna<4,>=2.5 in /usr/local/lib/python3.7/dist-packages (from requests<3,>=2.17.3->mlflow) (2.10)\n",
            "Requirement already satisfied: certifi>=2017.4.17 in /usr/local/lib/python3.7/dist-packages (from requests<3,>=2.17.3->mlflow) (2022.9.24)\n",
            "Requirement already satisfied: greenlet!=0.4.17 in /usr/local/lib/python3.7/dist-packages (from sqlalchemy<2,>=1.4.0->mlflow) (1.1.3)\n",
            "Building wheels for collected packages: databricks-cli\n",
            "  Building wheel for databricks-cli (setup.py) ... \u001b[?25l\u001b[?25hdone\n",
            "  Created wheel for databricks-cli: filename=databricks_cli-0.17.3-py3-none-any.whl size=139102 sha256=2cd2f825eab343e60db23f175c48854998a9501d61373ec82a9f13470d5e29bf\n",
            "  Stored in directory: /root/.cache/pip/wheels/3f/73/87/c1e4b2145eb6049bb6c9aaf7ea1e38302b77ca219b6fef5d5c\n",
            "Successfully built databricks-cli\n",
            "Installing collected packages: urllib3, smmap, importlib-metadata, websocket-client, requests, pyjwt, prometheus-client, Mako, gitdb, querystring-parser, prometheus-flask-exporter, gunicorn, gitpython, docker, databricks-cli, alembic, mlflow\n",
            "  Attempting uninstall: urllib3\n",
            "    Found existing installation: urllib3 1.24.3\n",
            "    Uninstalling urllib3-1.24.3:\n",
            "      Successfully uninstalled urllib3-1.24.3\n",
            "  Attempting uninstall: importlib-metadata\n",
            "    Found existing installation: importlib-metadata 5.0.0\n",
            "    Uninstalling importlib-metadata-5.0.0:\n",
            "      Successfully uninstalled importlib-metadata-5.0.0\n",
            "  Attempting uninstall: requests\n",
            "    Found existing installation: requests 2.23.0\n",
            "    Uninstalling requests-2.23.0:\n",
            "      Successfully uninstalled requests-2.23.0\n",
            "Successfully installed Mako-1.2.3 alembic-1.8.1 databricks-cli-0.17.3 docker-6.0.0 gitdb-4.0.9 gitpython-3.1.28 gunicorn-20.1.0 importlib-metadata-4.13.0 mlflow-1.29.0 prometheus-client-0.14.1 prometheus-flask-exporter-0.20.3 pyjwt-2.5.0 querystring-parser-1.2.4 requests-2.28.1 smmap-5.0.0 urllib3-1.26.12 websocket-client-1.4.1\n",
            "Looking in indexes: https://pypi.org/simple, https://us-python.pkg.dev/colab-wheels/public/simple/\n",
            "Requirement already satisfied: hyperopt in /usr/local/lib/python3.7/dist-packages (0.1.2)\n",
            "Requirement already satisfied: pymongo in /usr/local/lib/python3.7/dist-packages (from hyperopt) (4.2.0)\n",
            "Requirement already satisfied: six in /usr/local/lib/python3.7/dist-packages (from hyperopt) (1.15.0)\n",
            "Requirement already satisfied: future in /usr/local/lib/python3.7/dist-packages (from hyperopt) (0.16.0)\n",
            "Requirement already satisfied: tqdm in /usr/local/lib/python3.7/dist-packages (from hyperopt) (4.64.1)\n",
            "Requirement already satisfied: scipy in /usr/local/lib/python3.7/dist-packages (from hyperopt) (1.7.3)\n",
            "Requirement already satisfied: numpy in /usr/local/lib/python3.7/dist-packages (from hyperopt) (1.21.6)\n",
            "Requirement already satisfied: networkx in /usr/local/lib/python3.7/dist-packages (from hyperopt) (2.6.3)\n"
          ]
        }
      ],
      "source": [
        "!pip install --upgrade mlflow \n",
        "!pip install hyperopt\n",
        "import random\n",
        "import numpy as np\n",
        "import warnings\n",
        "from pyspark.sql.functions import col, round\n",
        "from pyspark.sql.types import IntegerType, FloatType\n",
        "from pyspark.ml.feature import VectorAssembler, MinMaxScaler, StandardScaler\n",
        "from pyspark.ml import PipelineModel\n",
        "from pyspark.ml.classification import LogisticRegression, LinearSVC\n",
        "from pyspark.ml.classification import DecisionTreeClassifier\n",
        "from pyspark.ml.classification import RandomForestClassifier, GBTClassifier\n",
        "from pyspark.ml.tuning import ParamGridBuilder, CrossValidator\n",
        "from pyspark.ml.evaluation import BinaryClassificationEvaluator\n",
        "from pyspark.ml.evaluation import MulticlassClassificationEvaluator\n",
        "from pyspark.mllib.evaluation import BinaryClassificationMetrics\n",
        "import time\n",
        "from datetime import datetime, timedelta\n",
        "from timeit import default_timer as timer\n",
        "try:\n",
        "  import mlflow.pyspark.ml\n",
        "  mlflow.pyspark.ml.autolog()\n",
        "except:\n",
        "  print(f'Your version of MLflow ({mlflow.__version__}) does not support pyspark.ml for autologging. To use autologging, upgrade your MLflow client version or use Databricks Runtime for ML 8.3 or above.')\n",
        "warnings.filterwarnings('ignore')"
      ]
    },
    {
      "cell_type": "code",
      "execution_count": null,
      "metadata": {
        "id": "zxq23AoWjaF5"
      },
      "outputs": [],
      "source": [
        "# Set seed \n",
        "seed_value = 42\n",
        "os.environ['SparkML_HPO'] = str(seed_value)\n",
        "random.seed(seed_value)\n",
        "np.random.seed(seed_value)"
      ]
    },
    {
      "cell_type": "markdown",
      "metadata": {
        "id": "Vu6FTxoSPNmk"
      },
      "source": [
        "# Upsampling - Oversample Minority Class "
      ]
    },
    {
      "cell_type": "markdown",
      "metadata": {
        "id": "e5-G8VmkR7ys"
      },
      "source": [
        "## Read Data and View Schema"
      ]
    },
    {
      "cell_type": "code",
      "execution_count": null,
      "metadata": {
        "colab": {
          "base_uri": "https://localhost:8080/"
        },
        "id": "5j6lGI7pe5IZ",
        "outputId": "c4db3e60-dd64-45b6-fe99-d14f401dbee4"
      },
      "outputs": [
        {
          "name": "stdout",
          "output_type": "stream",
          "text": [
            "\n",
            "Train Schema\n",
            "root\n",
            " |-- loan_amnt: integer (nullable = true)\n",
            " |-- int_rate: double (nullable = true)\n",
            " |-- installment: double (nullable = true)\n",
            " |-- annual_inc: double (nullable = true)\n",
            " |-- inq_last_6mths: double (nullable = true)\n",
            " |-- pub_rec: double (nullable = true)\n",
            " |-- revol_bal: integer (nullable = true)\n",
            " |-- out_prncp: double (nullable = true)\n",
            " |-- total_pymnt: double (nullable = true)\n",
            " |-- total_rec_int: double (nullable = true)\n",
            " |-- total_rec_late_fee: double (nullable = true)\n",
            " |-- recoveries: double (nullable = true)\n",
            " |-- last_pymnt_amnt: double (nullable = true)\n",
            " |-- collections_12_mths_ex_med: double (nullable = true)\n",
            " |-- acc_open_past_24mths: double (nullable = true)\n",
            " |-- bc_open_to_buy: double (nullable = true)\n",
            " |-- chargeoff_within_12_mths: double (nullable = true)\n",
            " |-- delinq_amnt: double (nullable = true)\n",
            " |-- mths_since_recent_bc: double (nullable = true)\n",
            " |-- num_bc_sats: double (nullable = true)\n",
            " |-- num_bc_tl: double (nullable = true)\n",
            " |-- num_sats: double (nullable = true)\n",
            " |-- num_tl_30dpd: double (nullable = true)\n",
            " |-- tax_liens: double (nullable = true)\n",
            " |-- tot_hi_cred_lim: double (nullable = true)\n",
            " |-- total_bal_ex_mort: double (nullable = true)\n",
            " |-- total_bc_limit: double (nullable = true)\n",
            " |-- term_ 60 months: integer (nullable = true)\n",
            " |-- grade_B: integer (nullable = true)\n",
            " |-- grade_C: integer (nullable = true)\n",
            " |-- grade_D: integer (nullable = true)\n",
            " |-- home_ownership_MORTGAGE: integer (nullable = true)\n",
            " |-- home_ownership_OWN: integer (nullable = true)\n",
            " |-- home_ownership_RENT: integer (nullable = true)\n",
            " |-- verification_status_Source Verified: integer (nullable = true)\n",
            " |-- verification_status_Verified: integer (nullable = true)\n",
            " |-- purpose_credit_card: integer (nullable = true)\n",
            " |-- initial_list_status_w: integer (nullable = true)\n",
            " |-- application_type_Joint App: integer (nullable = true)\n",
            " |-- disbursement_method_DirectPay: integer (nullable = true)\n",
            " |-- num_il_tl: double (nullable = true)\n",
            " |-- num_accts_ever_120_pd: double (nullable = true)\n",
            " |-- mo_sin_old_rev_tl_op: double (nullable = true)\n",
            " |-- percent_bc_gt_75: double (nullable = true)\n",
            " |-- revol_util: double (nullable = true)\n",
            " |-- num_actv_rev_tl: double (nullable = true)\n",
            " |-- tot_coll_amt: double (nullable = true)\n",
            " |-- mort_acc: double (nullable = true)\n",
            " |-- delinq_2yrs: double (nullable = true)\n",
            " |-- num_tl_op_past_12m: double (nullable = true)\n",
            " |-- loan_status: integer (nullable = true)\n",
            "\n",
            "\n",
            "Test Schema\n",
            "root\n",
            " |-- loan_amnt: integer (nullable = true)\n",
            " |-- int_rate: double (nullable = true)\n",
            " |-- installment: double (nullable = true)\n",
            " |-- annual_inc: double (nullable = true)\n",
            " |-- inq_last_6mths: double (nullable = true)\n",
            " |-- pub_rec: double (nullable = true)\n",
            " |-- revol_bal: integer (nullable = true)\n",
            " |-- out_prncp: double (nullable = true)\n",
            " |-- total_pymnt: double (nullable = true)\n",
            " |-- total_rec_int: double (nullable = true)\n",
            " |-- total_rec_late_fee: double (nullable = true)\n",
            " |-- recoveries: double (nullable = true)\n",
            " |-- last_pymnt_amnt: double (nullable = true)\n",
            " |-- collections_12_mths_ex_med: double (nullable = true)\n",
            " |-- acc_open_past_24mths: double (nullable = true)\n",
            " |-- bc_open_to_buy: double (nullable = true)\n",
            " |-- chargeoff_within_12_mths: double (nullable = true)\n",
            " |-- delinq_amnt: double (nullable = true)\n",
            " |-- mths_since_recent_bc: double (nullable = true)\n",
            " |-- num_bc_sats: double (nullable = true)\n",
            " |-- num_bc_tl: double (nullable = true)\n",
            " |-- num_sats: double (nullable = true)\n",
            " |-- num_tl_30dpd: double (nullable = true)\n",
            " |-- tax_liens: double (nullable = true)\n",
            " |-- tot_hi_cred_lim: double (nullable = true)\n",
            " |-- total_bal_ex_mort: double (nullable = true)\n",
            " |-- total_bc_limit: double (nullable = true)\n",
            " |-- term_ 60 months: integer (nullable = true)\n",
            " |-- grade_B: integer (nullable = true)\n",
            " |-- grade_C: integer (nullable = true)\n",
            " |-- grade_D: integer (nullable = true)\n",
            " |-- home_ownership_MORTGAGE: integer (nullable = true)\n",
            " |-- home_ownership_OWN: integer (nullable = true)\n",
            " |-- home_ownership_RENT: integer (nullable = true)\n",
            " |-- verification_status_Source Verified: integer (nullable = true)\n",
            " |-- verification_status_Verified: integer (nullable = true)\n",
            " |-- purpose_credit_card: integer (nullable = true)\n",
            " |-- initial_list_status_w: integer (nullable = true)\n",
            " |-- application_type_Joint App: integer (nullable = true)\n",
            " |-- disbursement_method_DirectPay: integer (nullable = true)\n",
            " |-- num_il_tl: double (nullable = true)\n",
            " |-- num_accts_ever_120_pd: double (nullable = true)\n",
            " |-- mo_sin_old_rev_tl_op: double (nullable = true)\n",
            " |-- percent_bc_gt_75: double (nullable = true)\n",
            " |-- revol_util: double (nullable = true)\n",
            " |-- num_actv_rev_tl: double (nullable = true)\n",
            " |-- tot_coll_amt: double (nullable = true)\n",
            " |-- mort_acc: double (nullable = true)\n",
            " |-- delinq_2yrs: double (nullable = true)\n",
            " |-- num_tl_op_past_12m: double (nullable = true)\n",
            " |-- loan_status: integer (nullable = true)\n",
            "\n"
          ]
        }
      ],
      "source": [
        "trainDF_US = spark.read.csv('/content/drive/MyDrive/LoanStatus/Data/trainDF_US.csv',\n",
        "                         header=True, inferSchema=True)\n",
        "trainDF_US.cache()\n",
        "print('\\nTrain Schema')\n",
        "trainDF_US.printSchema()\n",
        "\n",
        "testDF_US = spark.read.csv('/content/drive/MyDrive/LoanStatus/Data/testDF_US.csv',\n",
        "                        header=True, inferSchema=True)\n",
        "testDF_US.cache()\n",
        "print('\\nTest Schema')\n",
        "testDF_US.printSchema()"
      ]
    },
    {
      "cell_type": "markdown",
      "metadata": {
        "id": "zflH6vMkmRBu"
      },
      "source": [
        "## Set up Vector Assembler, Scalers and Evaluators"
      ]
    },
    {
      "cell_type": "code",
      "execution_count": null,
      "metadata": {
        "id": "RtYI5DHne5Ig"
      },
      "outputs": [],
      "source": [
        "# Define features and label for train data\n",
        "features = trainDF_US.columns[0: len(trainDF_US.columns) - 1]\n",
        "trainDF_US = trainDF_US.select(col('loan_status').alias('label'), *features)"
      ]
    },
    {
      "cell_type": "code",
      "execution_count": null,
      "metadata": {
        "id": "y92YFqDUe5Ij"
      },
      "outputs": [],
      "source": [
        "# VectorAssembler \n",
        "vecAssembler = VectorAssembler(inputCols=features, \n",
        "                               outputCol='unscaledFeatures', \n",
        "                               handleInvalid='skip')  \n",
        "\n",
        "# Transform train data\n",
        "trainDF_US = vecAssembler.transform(trainDF_US)  "
      ]
    },
    {
      "cell_type": "code",
      "execution_count": null,
      "metadata": {
        "id": "V0pcWCo8e5Ik"
      },
      "outputs": [],
      "source": [
        "# Define features and label for test data \n",
        "features = testDF_US.columns[0: len(testDF_US.columns) - 1]\n",
        "testDF_US = testDF_US.select(col('loan_status').alias('label'), *features)\n",
        "\n",
        "# Transform test data\n",
        "testDF_US = vecAssembler.transform(testDF_US)  "
      ]
    },
    {
      "cell_type": "code",
      "execution_count": null,
      "metadata": {
        "id": "5ma2aHvD1c26"
      },
      "outputs": [],
      "source": [
        "# MinMaxScaler\n",
        "mmScaler = MinMaxScaler(inputCol='unscaledFeatures', \n",
        "                        outputCol='scaledFeatures',\n",
        "                        min=0, max=1)"
      ]
    },
    {
      "cell_type": "code",
      "execution_count": null,
      "metadata": {
        "id": "1sx6AITa1c27"
      },
      "outputs": [],
      "source": [
        "# Standard scaler\n",
        "stdScaler = StandardScaler(inputCol='unscaledFeatures', \n",
        "                           outputCol='scaledFeatures', \n",
        "                           withStd=True, \n",
        "                           withMean=False)"
      ]
    },
    {
      "cell_type": "code",
      "execution_count": null,
      "metadata": {
        "id": "v5lYSawUcH3g"
      },
      "outputs": [],
      "source": [
        "# Define model evaluation - AUROC\n",
        "evaluator_auroc = BinaryClassificationEvaluator(labelCol='label', \n",
        "                                                metricName='areaUnderROC')\n",
        "# Define model evaluation - Accuracy\n",
        "evaluator_acc = MulticlassClassificationEvaluator(labelCol='label', \n",
        "                                                  metricName='accuracy')"
      ]
    },
    {
      "cell_type": "markdown",
      "metadata": {
        "id": "PMxAn7m_YPnJ"
      },
      "source": [
        "## Load Saved Models - Upsampling"
      ]
    },
    {
      "cell_type": "code",
      "execution_count": null,
      "metadata": {
        "id": "yVVmK9xdssNL"
      },
      "outputs": [],
      "source": [
        "# AUROC\n",
        "pipelineModel_lr_hyperopt_auroc_US = PipelineModel.load('/content/drive/MyDrive/LoanStatus/Python/Models/ML/SparkML/Models/Hyperopt/pipelineModel_lr_hyperopt_us_auroc_100trials/')\n",
        "pipelineModel_lsvc_hyperopt_auroc_US = PipelineModel.load('/content/drive/MyDrive/LoanStatus/Python/Models/ML/SparkML/Models/Hyperopt/pipelineModel_lsvc_hyperopt_us_auroc/')\n",
        "pipelineModel_dt_hyperopt_auroc_US = PipelineModel.load('/content/drive/MyDrive/LoanStatus/Python/Models/ML/SparkML/Models/Hyperopt/pipelineModel_dt_hyperopt_us_auroc/')\n",
        "pipelineModel_rf_hyperopt_auroc_US = PipelineModel.load('/content/drive/MyDrive/LoanStatus/Python/Models/ML/SparkML/Models/Hyperopt/pipelineModel_rf_hyperopt_us_auroc_30trials/')\n",
        "pipelineModel_rf_hyperopt_auroc1_US = PipelineModel.load('/content/drive/MyDrive/LoanStatus/Python/Models/ML/SparkML/Models/Hyperopt/pipelineModel_rf_hyperopt_us_auroc_moreParams/')\n",
        "pipelineModel_gbt_hyperopt_auroc_US = PipelineModel.load('/content/drive/MyDrive/LoanStatus/Python/Models/ML/SparkML/Models/Hyperopt/pipelineModel_gbt_hyperopt_us_auroc/')\n",
        "\n",
        "# F1\n",
        "pipelineModel_lr_hyperopt_f1_US = PipelineModel.load('/content/drive/MyDrive/LoanStatus/Python/Models/ML/SparkML/Models/Hyperopt/pipelineModel_lr_hyperopt_us_f1_100trials/')\n",
        "pipelineModel_lsvc_hyperopt_f1_US = PipelineModel.load('/content/drive/MyDrive/LoanStatus/Python/Models/ML/SparkML/Models/Hyperopt/pipelineModel_lsvc_hyperopt_us_f1/')\n",
        "pipelineModel_dt_hyperopt_f1_US = PipelineModel.load('/content/drive/MyDrive/LoanStatus/Python/Models/ML/SparkML/Models/Hyperopt/pipelineModel_dt_hyperopt_us_f1/')\n",
        "pipelineModel_rf_hyperopt_f1_US = PipelineModel.load('/content/drive/MyDrive/LoanStatus/Python/Models/ML/SparkML/Models/Hyperopt/pipelineModel_rf_hyperopt_us_f1_30trials/')\n",
        "pipelineModel_rf_hyperopt_f1_1_US = PipelineModel.load('/content/drive/MyDrive/LoanStatus/Python/Models/ML/SparkML/Models/Hyperopt/pipelineModel_rf_hyperopt_us_f1_moreParams/')\n",
        "pipelineModel_gbt_hyperopt_f1_US = PipelineModel.load('/content/drive/MyDrive/LoanStatus/Python/Models/ML/SparkML/Models/Hyperopt/pipelineModel_gbt_hyperopt_us_f1/')"
      ]
    },
    {
      "cell_type": "markdown",
      "metadata": {
        "id": "fkJy-AzZBL-8"
      },
      "source": [
        "## Predict and AUROC Model Metrics using testDF of Upsampling Set"
      ]
    },
    {
      "cell_type": "code",
      "execution_count": null,
      "metadata": {
        "colab": {
          "base_uri": "https://localhost:8080/"
        },
        "id": "slrk7ij2mRCF",
        "outputId": "cbceeb88-e611-49ef-9212-785d8e174afe"
      },
      "outputs": [
        {
          "name": "stdout",
          "output_type": "stream",
          "text": [
            "Hyperopt Best Models AUROC Metrics: Upsampling\n",
            "\n",
            "\n",
            "Area Under ROC Curve:\n",
            "Logistic Regression: 0.9870101538778137\n",
            "LinearSVC: 0.980184661932512\n",
            "Decision Trees: 0.9625074740986497\n",
            "Random Forest: 0.9845460058836394\n",
            "Random Forest - More Params: 0.9849490161239277\n",
            "Gradient Boosted Trees: 0.9866776626412849\n",
            "\n",
            "\n",
            "Accuracy:\n",
            "Logistic Regression: 0.9858303292922332\n",
            "LinearSVC: 0.9812543210790038\n",
            "Decision Trees: 0.974555636999304\n",
            "Random Forest: 0.9845169525033933\n",
            "Random Forest - More Params: 0.9847504930943666\n",
            "Gradient Boosted Trees: 0.9810554647342146\n"
          ]
        }
      ],
      "source": [
        "prediction_lr = pipelineModel_lr_hyperopt_auroc_US.transform(testDF_US)\n",
        "prediction_lsvc = pipelineModel_lsvc_hyperopt_auroc_US.transform(testDF_US)\n",
        "prediction_dt = pipelineModel_dt_hyperopt_auroc_US.transform(testDF_US)\n",
        "prediction_rf = pipelineModel_rf_hyperopt_auroc_US.transform(testDF_US)\n",
        "prediction_rf1 = pipelineModel_rf_hyperopt_auroc1_US.transform(testDF_US)\n",
        "prediction_gbt = pipelineModel_gbt_hyperopt_auroc_US.transform(testDF_US)\n",
        "\n",
        "print('Hyperopt Best Models AUROC Metrics: Upsampling')\n",
        "print('\\n')\n",
        "print('Area Under ROC Curve:')\n",
        "print('Logistic Regression:', evaluator_auroc.evaluate(prediction_lr)) \n",
        "print('LinearSVC:', evaluator_auroc.evaluate(prediction_lsvc)) \n",
        "print('Decision Trees:', evaluator_auroc.evaluate(prediction_dt)) \n",
        "print('Random Forest:', evaluator_auroc.evaluate(prediction_rf)) \n",
        "print('Random Forest - More Params:', evaluator_auroc.evaluate(prediction_rf1)) \n",
        "print('Gradient Boosted Trees:', evaluator_auroc.evaluate(prediction_gbt)) \n",
        "print('\\n')\n",
        "print('Accuracy:')\n",
        "print('Logistic Regression:', evaluator_acc.evaluate(prediction_lr)) \n",
        "print('LinearSVC:', evaluator_acc.evaluate(prediction_lsvc)) \n",
        "print('Decision Trees:', evaluator_acc.evaluate(prediction_dt)) \n",
        "print('Random Forest:', evaluator_acc.evaluate(prediction_rf)) \n",
        "print('Random Forest - More Params:', evaluator_acc.evaluate(prediction_rf1)) \n",
        "print('Gradient Boosted Trees:', evaluator_acc.evaluate(prediction_gbt)) "
      ]
    },
    {
      "cell_type": "code",
      "execution_count": null,
      "metadata": {
        "colab": {
          "base_uri": "https://localhost:8080/"
        },
        "id": "fs41uiBZmRCH",
        "outputId": "f6ee2d90-3542-4412-ca07-5790da7554bd"
      },
      "outputs": [
        {
          "name": "stdout",
          "output_type": "stream",
          "text": [
            "Hyperopt Best Models AUROC Metrics: Upsampling\n",
            "\n",
            "Model: prediction_lr\n",
            "True Positives: 50199\n",
            "True Negatives: 376146\n",
            "False Positives: 1702\n",
            "False Negatives: 4426\n",
            "Total: 432473\n",
            "Accuracy: 0.9858303292922332\n",
            "Recall: 0.918974828375286\n",
            "Precision:  0.9672067975568871\n",
            "F1 score: 0.9424741377691831\n",
            "\n",
            "\n",
            "\n",
            "Model: prediction_lsvc\n",
            "True Positives: 48829\n",
            "True Negatives: 375537\n",
            "False Positives: 2311\n",
            "False Negatives: 5796\n",
            "Total: 432473\n",
            "Accuracy: 0.9812543210790038\n",
            "Recall: 0.8938947368421053\n",
            "Precision:  0.9548103245991396\n",
            "F1 score: 0.9233489339573584\n",
            "\n",
            "\n",
            "\n",
            "Model: prediction_dt\n",
            "True Positives: 50116\n",
            "True Negatives: 371353\n",
            "False Positives: 6495\n",
            "False Negatives: 4509\n",
            "Total: 432473\n",
            "Accuracy: 0.974555636999304\n",
            "Recall: 0.9174553775743707\n",
            "Precision:  0.8852696472417021\n",
            "F1 score: 0.9010751914847711\n",
            "\n",
            "\n",
            "\n",
            "Model: prediction_rf\n",
            "True Positives: 49231\n",
            "True Negatives: 376546\n",
            "False Positives: 1302\n",
            "False Negatives: 5394\n",
            "Total: 432473\n",
            "Accuracy: 0.9845169525033933\n",
            "Recall: 0.901254004576659\n",
            "Precision:  0.9742346585399639\n",
            "F1 score: 0.9363243880636756\n",
            "\n",
            "\n",
            "\n",
            "Model: prediction_rf1\n",
            "True Positives: 49268\n",
            "True Negatives: 376610\n",
            "False Positives: 1238\n",
            "False Negatives: 5357\n",
            "Total: 432473\n",
            "Accuracy: 0.9847504930943666\n",
            "Recall: 0.9019313501144165\n",
            "Precision:  0.9754880608244565\n",
            "F1 score: 0.9372687409042053\n",
            "\n",
            "\n",
            "\n",
            "Model: prediction_gbt\n",
            "True Positives: 50383\n",
            "True Negatives: 373897\n",
            "False Positives: 3951\n",
            "False Negatives: 4242\n",
            "Total: 432473\n",
            "Accuracy: 0.9810554647342146\n",
            "Recall: 0.9223432494279176\n",
            "Precision:  0.9272831008208489\n",
            "F1 score: 0.9248065786213163\n",
            "\n",
            "\n",
            "\n",
            "\n"
          ]
        }
      ],
      "source": [
        "print('Hyperopt Best Models AUROC Metrics: Upsampling')\n",
        "for model in ['prediction_lr', 'prediction_lsvc', 'prediction_dt', \n",
        "\t\t\t        'prediction_rf', 'prediction_rf1', 'prediction_gbt']:\n",
        "    df = globals()[model]\n",
        "    \n",
        "    tp = df[(df.label == 1) & (df.prediction == 1)].count()\n",
        "    tn = df[(df.label == 0) & (df.prediction == 0)].count()\n",
        "    fp = df[(df.label == 0) & (df.prediction == 1)].count()\n",
        "    fn = df[(df.label == 1) & (df.prediction == 0)].count()\n",
        "    a = ((tp + tn)/df.count())\n",
        "    \n",
        "    if(tp + fn == 0.0):\n",
        "        r = 0.0\n",
        "        p = float(tp) / (tp + fp)\n",
        "    elif(tp + fp == 0.0):\n",
        "        r = float(tp) / (tp + fn)\n",
        "        p = 0.0\n",
        "    else:\n",
        "        r = float(tp) / (tp + fn)\n",
        "        p = float(tp) / (tp + fp)\n",
        "    \n",
        "    if(p + r == 0):\n",
        "        f1 = 0\n",
        "    else:\n",
        "        f1 = 2 * ((p * r)/(p + r))\n",
        "    \n",
        "    print('\\nModel:', model)\n",
        "    print('True Positives:', tp)\n",
        "    print('True Negatives:', tn)\n",
        "    print('False Positives:', fp)\n",
        "    print('False Negatives:', fn)\n",
        "    print('Total:', df.count())\n",
        "    print('Accuracy:', a)\n",
        "    print('Recall:', r)\n",
        "    print('Precision: ', p)\n",
        "    print('F1 score:', f1)\n",
        "    print('\\n')\n",
        "print('\\n')"
      ]
    },
    {
      "cell_type": "markdown",
      "metadata": {
        "id": "-_BBTqRCBUkQ"
      },
      "source": [
        "## Predict and F1 Model Metrics using testDF of Upsampling Set"
      ]
    },
    {
      "cell_type": "code",
      "execution_count": null,
      "metadata": {
        "colab": {
          "background_save": true,
          "base_uri": "https://localhost:8080/"
        },
        "id": "d141iyi8-u7a",
        "outputId": "771aa0c3-eb13-4cf2-e827-2ec85c9612a5"
      },
      "outputs": [
        {
          "name": "stdout",
          "output_type": "stream",
          "text": [
            "Hyperopt Best Models F1 Metrics: Upsampling\n",
            "\n",
            "\n",
            "Area Under ROC Curve:\n",
            "Logistic Regression: 0.9870101538778137\n",
            "LinearSVC: 0.9801636688553507\n",
            "Decision Trees: 0.9564704240277363\n",
            "Random Forest: 0.9845886468846079\n",
            "Random Forest - More Params: 0.9832680256640207\n",
            "Gradient Boosted Trees: 0.9848670786073231\n",
            "\n",
            "\n",
            "Accuracy:\n",
            "Logistic Regression: 0.9858303292922332\n",
            "LinearSVC: 0.9814716756884245\n",
            "Decision Trees: 0.9809121031833201\n",
            "Random Forest: 0.9849354757406821\n",
            "Random Forest - More Params: 0.9861586734894433\n",
            "Gradient Boosted Trees: 0.983296067037711\n"
          ]
        }
      ],
      "source": [
        "prediction_lr = pipelineModel_lr_hyperopt_f1_US.transform(testDF_US)\n",
        "prediction_lsvc = pipelineModel_lsvc_hyperopt_f1_US.transform(testDF_US)\n",
        "prediction_dt = pipelineModel_dt_hyperopt_f1_US.transform(testDF_US)\n",
        "prediction_rf = pipelineModel_rf_hyperopt_f1_US.transform(testDF_US)\n",
        "prediction_rf1 = pipelineModel_rf_hyperopt_f1_1_US.transform(testDF_US)\n",
        "prediction_gbt = pipelineModel_gbt_hyperopt_f1_US.transform(testDF_US)\n",
        "\n",
        "print('Hyperopt Best Models F1 Metrics: Upsampling')\n",
        "print('\\n')\n",
        "print('Area Under ROC Curve:')\n",
        "print('Logistic Regression:', evaluator_auroc.evaluate(prediction_lr)) \n",
        "print('LinearSVC:', evaluator_auroc.evaluate(prediction_lsvc)) \n",
        "print('Decision Trees:', evaluator_auroc.evaluate(prediction_dt)) \n",
        "print('Random Forest:', evaluator_auroc.evaluate(prediction_rf)) \n",
        "print('Random Forest - More Params:', evaluator_auroc.evaluate(prediction_rf1)) \n",
        "print('Gradient Boosted Trees:', evaluator_auroc.evaluate(prediction_gbt)) \n",
        "print('\\n')\n",
        "print('Accuracy:')\n",
        "print('Logistic Regression:', evaluator_acc.evaluate(prediction_lr)) \n",
        "print('LinearSVC:', evaluator_acc.evaluate(prediction_lsvc)) \n",
        "print('Decision Trees:', evaluator_acc.evaluate(prediction_dt)) \n",
        "print('Random Forest:', evaluator_acc.evaluate(prediction_rf)) \n",
        "print('Random Forest - More Params:', evaluator_acc.evaluate(prediction_rf1)) \n",
        "print('Gradient Boosted Trees:', evaluator_acc.evaluate(prediction_gbt)) "
      ]
    },
    {
      "cell_type": "code",
      "execution_count": null,
      "metadata": {
        "colab": {
          "background_save": true
        },
        "id": "JRr2TTDN_CcW",
        "outputId": "c58ebb67-6734-402a-ea99-c8842f8dafed"
      },
      "outputs": [
        {
          "name": "stdout",
          "output_type": "stream",
          "text": [
            "Hyperopt Best Models F1 Metrics: Upsampling\n",
            "\n",
            "Model: prediction_lr\n",
            "True Positives: 50199\n",
            "True Negatives: 376146\n",
            "False Positives: 1702\n",
            "False Negatives: 4426\n",
            "Total: 432473\n",
            "Accuracy: 0.9858303292922332\n",
            "Recall: 0.918974828375286\n",
            "Precision:  0.9672067975568871\n",
            "F1 score: 0.9424741377691831\n",
            "\n",
            "\n",
            "\n",
            "Model: prediction_lsvc\n",
            "True Positives: 48978\n",
            "True Negatives: 375482\n",
            "False Positives: 2366\n",
            "False Negatives: 5647\n",
            "Total: 432473\n",
            "Accuracy: 0.9814716756884245\n",
            "Recall: 0.8966224256292906\n",
            "Precision:  0.9539186662511686\n",
            "F1 score: 0.9243835461314158\n",
            "\n",
            "\n",
            "\n",
            "Model: prediction_dt\n",
            "True Positives: 50417\n",
            "True Negatives: 373801\n",
            "False Positives: 4047\n",
            "False Negatives: 4208\n",
            "Total: 432473\n",
            "Accuracy: 0.9809121031833201\n",
            "Recall: 0.9229656750572083\n",
            "Precision:  0.9256940364277321\n",
            "F1 score: 0.9243278424039088\n",
            "\n",
            "\n",
            "\n",
            "Model: prediction_rf\n",
            "True Positives: 49291\n",
            "True Negatives: 376667\n",
            "False Positives: 1181\n",
            "False Negatives: 5334\n",
            "Total: 432473\n",
            "Accuracy: 0.9849354757406821\n",
            "Recall: 0.9023524027459954\n",
            "Precision:  0.9766008876208591\n",
            "F1 score: 0.9380096482297305\n",
            "\n",
            "\n",
            "\n",
            "Model: prediction_rf1\n",
            "True Positives: 48881\n",
            "True Negatives: 377606\n",
            "False Positives: 242\n",
            "False Negatives: 5744\n",
            "Total: 432473\n",
            "Accuracy: 0.9861586734894433\n",
            "Recall: 0.8948466819221969\n",
            "Precision:  0.9950735907823219\n",
            "F1 score: 0.9423025022169103\n",
            "\n",
            "\n",
            "\n",
            "Model: prediction_gbt\n",
            "True Positives: 50218\n",
            "True Negatives: 375031\n",
            "False Positives: 2817\n",
            "False Negatives: 4407\n",
            "Total: 432473\n",
            "Accuracy: 0.983296067037711\n",
            "Recall: 0.9193226544622426\n",
            "Precision:  0.9468841331196379\n",
            "F1 score: 0.9328998699609883\n",
            "\n",
            "\n",
            "\n",
            "\n"
          ]
        }
      ],
      "source": [
        "print('Hyperopt Best Models F1 Metrics: Upsampling')\n",
        "for model in ['prediction_lr', 'prediction_lsvc', 'prediction_dt', \n",
        "\t\t\t        'prediction_rf', 'prediction_rf1', 'prediction_gbt']:\n",
        "    df = globals()[model]\n",
        "    \n",
        "    tp = df[(df.label == 1) & (df.prediction == 1)].count()\n",
        "    tn = df[(df.label == 0) & (df.prediction == 0)].count()\n",
        "    fp = df[(df.label == 0) & (df.prediction == 1)].count()\n",
        "    fn = df[(df.label == 1) & (df.prediction == 0)].count()\n",
        "    a = ((tp + tn)/df.count())\n",
        "    \n",
        "    if(tp + fn == 0.0):\n",
        "        r = 0.0\n",
        "        p = float(tp) / (tp + fp)\n",
        "    elif(tp + fp == 0.0):\n",
        "        r = float(tp) / (tp + fn)\n",
        "        p = 0.0\n",
        "    else:\n",
        "        r = float(tp) / (tp + fn)\n",
        "        p = float(tp) / (tp + fp)\n",
        "    \n",
        "    if(p + r == 0):\n",
        "        f1 = 0\n",
        "    else:\n",
        "        f1 = 2 * ((p * r)/(p + r))\n",
        "    \n",
        "    print('\\nModel:', model)\n",
        "    print('True Positives:', tp)\n",
        "    print('True Negatives:', tn)\n",
        "    print('False Positives:', fp)\n",
        "    print('False Negatives:', fn)\n",
        "    print('Total:', df.count())\n",
        "    print('Accuracy:', a)\n",
        "    print('Recall:', r)\n",
        "    print('Precision: ', p)\n",
        "    print('F1 score:', f1)\n",
        "    print('\\n')\n",
        "print('\\n')"
      ]
    },
    {
      "cell_type": "markdown",
      "metadata": {
        "id": "0UrlqcEFxCb5"
      },
      "source": [
        "## Load Saved Models - SMOTE"
      ]
    },
    {
      "cell_type": "code",
      "execution_count": null,
      "metadata": {
        "id": "hkAd8l0vzO0J"
      },
      "outputs": [],
      "source": [
        "# AUROC\n",
        "pipelineModel_lr_hyperopt_auroc_SMOTE = PipelineModel.load('/content/drive/MyDrive/LoanStatus/Python/Models/ML/SparkML/Models/Hyperopt/pipelineModel_lr_hyperopt_smote_auroc_100trials/')\n",
        "pipelineModel_lsvc_hyperopt_auroc_SMOTE = PipelineModel.load('/content/drive/MyDrive/LoanStatus/Python/Models/ML/SparkML/Models/Hyperopt/pipelineModel_lsvc_hyperopt_smote_auroc/')\n",
        "pipelineModel_dt_hyperopt_auroc_SMOTE = PipelineModel.load('/content/drive/MyDrive/LoanStatus/Python/Models/ML/SparkML/Models/Hyperopt/pipelineModel_dt_hyperopt_smote_auroc/')\n",
        "pipelineModel_rf_hyperopt_auroc_SMOTE = PipelineModel.load('/content/drive/MyDrive/LoanStatus/Python/Models/ML/SparkML/Models/Hyperopt/pipelineModel_rf_hyperopt_smote_auroc_30trials/')\n",
        "pipelineModel_rf_hyperopt_auroc1_SMOTE = PipelineModel.load('/content/drive/MyDrive/LoanStatus/Python/Models/ML/SparkML/Models/Hyperopt/pipelineModel_rf_hyperopt_smote_auroc_moreParams/')\n",
        "pipelineModel_gbt_hyperopt_auroc_SMOTE = PipelineModel.load('/content/drive/MyDrive/LoanStatus/Python/Models/ML/SparkML/Models/Hyperopt/pipelineModel_gbt_hyperopt_smote_auroc/')\n",
        "\n",
        "# F1\n",
        "pipelineModel_lr_hyperopt_f1_SMOTE = PipelineModel.load('/content/drive/MyDrive/LoanStatus/Python/Models/ML/SparkML/Models/Hyperopt/pipelineModel_lr_hyperopt_smote_f1_100trials/')\n",
        "pipelineModel_lsvc_hyperopt_f1_SMOTE = PipelineModel.load('/content/drive/MyDrive/LoanStatus/Python/Models/ML/SparkML/Models/Hyperopt/pipelineModel_lsvc_hyperopt_smote_f1/')\n",
        "pipelineModel_dt_hyperopt_f1_SMOTE = PipelineModel.load('/content/drive/MyDrive/LoanStatus/Python/Models/ML/SparkML/Models/Hyperopt/pipelineModel_dt_hyperopt_smote_f1/')\n",
        "pipelineModel_rf_hyperopt_f1_SMOTE = PipelineModel.load('/content/drive/MyDrive/LoanStatus/Python/Models/ML/SparkML/Models/Hyperopt/pipelineModel_rf_hyperopt_smote_f1_29trials/')\n",
        "pipelineModel_rf_hyperopt_f1_1_SMOTE = PipelineModel.load('/content/drive/MyDrive/LoanStatus/Python/Models/ML/SparkML/Models/Hyperopt/pipelineModel_rf_hyperopt_smote_f1_moreParams/')\n",
        "pipelineModel_gbt_hyperopt_f1_SMOTE = PipelineModel.load('/content/drive/MyDrive/LoanStatus/Python/Models/ML/SparkML/Models/Hyperopt/pipelineModel_gbt_hyperopt_smote_f1/')"
      ]
    },
    {
      "cell_type": "markdown",
      "metadata": {
        "id": "yx5JUfOdBayH"
      },
      "source": [
        "## Predict and SMOTE AUROC Model Metrics using testDF of Upsampling Set"
      ]
    },
    {
      "cell_type": "code",
      "execution_count": null,
      "metadata": {
        "colab": {
          "base_uri": "https://localhost:8080/"
        },
        "id": "PN-ZhfY_mRCN",
        "outputId": "1330ab80-1c35-45c9-bf71-fc3a292d2546"
      },
      "outputs": [
        {
          "name": "stdout",
          "output_type": "stream",
          "text": [
            "Hyperopt Best Models AUROC Metrics: SMOTE Models using Upsampling Data\n",
            "\n",
            "\n",
            "Area Under ROC Curve:\n",
            "Logistic Regression: 0.9860501025753575\n",
            "LinearSVC: 0.9792529293074257\n",
            "Decision Trees: 0.9619760183492718\n",
            "Random Forest: 0.9807582878240927\n",
            "Random Forest - More Params: 0.9809293771442331\n",
            "Gradient Boosted Trees: 0.9871254350362428\n",
            "\n",
            "\n",
            "Accuracy:\n",
            "Logistic Regression: 0.9866072564067584\n",
            "LinearSVC: 0.9824312731661861\n",
            "Decision Trees: 0.980546762456847\n",
            "Random Forest: 0.9816127249562401\n",
            "Random Forest - More Params: 0.9837770219181313\n",
            "Gradient Boosted Trees: 0.9866095686898373\n"
          ]
        }
      ],
      "source": [
        "prediction_lr = pipelineModel_lr_hyperopt_auroc_SMOTE.transform(testDF_US)\n",
        "prediction_lsvc = pipelineModel_lsvc_hyperopt_auroc_SMOTE.transform(testDF_US)\n",
        "prediction_dt = pipelineModel_dt_hyperopt_auroc_SMOTE.transform(testDF_US)\n",
        "prediction_rf = pipelineModel_rf_hyperopt_auroc_SMOTE.transform(testDF_US)\n",
        "prediction_rf1 = pipelineModel_rf_hyperopt_auroc1_SMOTE.transform(testDF_US)\n",
        "prediction_gbt = pipelineModel_gbt_hyperopt_auroc_SMOTE.transform(testDF_US)\n",
        "\n",
        "print('Hyperopt Best Models AUROC Metrics: SMOTE Models using Upsampling Data')\n",
        "print('\\n')\n",
        "print('Area Under ROC Curve:')\n",
        "print('Logistic Regression:', evaluator_auroc.evaluate(prediction_lr)) \n",
        "print('LinearSVC:', evaluator_auroc.evaluate(prediction_lsvc)) \n",
        "print('Decision Trees:', evaluator_auroc.evaluate(prediction_dt)) \n",
        "print('Random Forest:', evaluator_auroc.evaluate(prediction_rf)) \n",
        "print('Random Forest - More Params:', evaluator_auroc.evaluate(prediction_rf1)) \n",
        "print('Gradient Boosted Trees:', evaluator_auroc.evaluate(prediction_gbt)) \n",
        "print('\\n')\n",
        "print('Accuracy:')\n",
        "print('Logistic Regression:', evaluator_acc.evaluate(prediction_lr)) \n",
        "print('LinearSVC:', evaluator_acc.evaluate(prediction_lsvc)) \n",
        "print('Decision Trees:', evaluator_acc.evaluate(prediction_dt)) \n",
        "print('Random Forest:', evaluator_acc.evaluate(prediction_rf)) \n",
        "print('Random Forest - More Params:', evaluator_acc.evaluate(prediction_rf1)) \n",
        "print('Gradient Boosted Trees:', evaluator_acc.evaluate(prediction_gbt)) "
      ]
    },
    {
      "cell_type": "code",
      "execution_count": null,
      "metadata": {
        "colab": {
          "base_uri": "https://localhost:8080/"
        },
        "id": "LdcveFL8mRCP",
        "outputId": "6d4c5c3b-eb3d-4fe6-cf24-5316281510ec"
      },
      "outputs": [
        {
          "name": "stdout",
          "output_type": "stream",
          "text": [
            "Hyperopt Best Models AUROC Metrics: SMOTE Models using Upsampling Data\n",
            "\n",
            "Model: prediction_lr\n",
            "True Positives: 50014\n",
            "True Negatives: 376667\n",
            "False Positives: 1181\n",
            "False Negatives: 4611\n",
            "Total: 432473\n",
            "Accuracy: 0.9866072564067584\n",
            "Recall: 0.9155881006864989\n",
            "Precision:  0.9769313409512648\n",
            "F1 score: 0.9452655452655452\n",
            "\n",
            "\n",
            "\n",
            "Model: prediction_lsvc\n",
            "True Positives: 48353\n",
            "True Negatives: 376522\n",
            "False Positives: 1326\n",
            "False Negatives: 6272\n",
            "Total: 432473\n",
            "Accuracy: 0.9824312731661861\n",
            "Recall: 0.8851807780320367\n",
            "Precision:  0.9733086414782907\n",
            "F1 score: 0.9271552385335173\n",
            "\n",
            "\n",
            "\n",
            "Model: prediction_dt\n",
            "True Positives: 49885\n",
            "True Negatives: 374175\n",
            "False Positives: 3673\n",
            "False Negatives: 4740\n",
            "Total: 432473\n",
            "Accuracy: 0.980546762456847\n",
            "Recall: 0.9132265446224256\n",
            "Precision:  0.9314201426490907\n",
            "F1 score: 0.9222336226579038\n",
            "\n",
            "\n",
            "\n",
            "Model: prediction_rf\n",
            "True Positives: 46904\n",
            "True Negatives: 377617\n",
            "False Positives: 231\n",
            "False Negatives: 7721\n",
            "Total: 432473\n",
            "Accuracy: 0.9816127249562401\n",
            "Recall: 0.8586544622425629\n",
            "Precision:  0.9950991831971996\n",
            "F1 score: 0.9218553459119497\n",
            "\n",
            "\n",
            "\n",
            "Model: prediction_rf1\n",
            "True Positives: 47756\n",
            "True Negatives: 377701\n",
            "False Positives: 147\n",
            "False Negatives: 6869\n",
            "Total: 432473\n",
            "Accuracy: 0.9837770219181313\n",
            "Recall: 0.8742517162471396\n",
            "Precision:  0.9969312986660543\n",
            "F1 score: 0.9315699126092384\n",
            "\n",
            "\n",
            "\n",
            "Model: prediction_gbt\n",
            "True Positives: 49358\n",
            "True Negatives: 377324\n",
            "False Positives: 524\n",
            "False Negatives: 5267\n",
            "Total: 432473\n",
            "Accuracy: 0.9866095686898373\n",
            "Recall: 0.903578947368421\n",
            "Precision:  0.9894952086925143\n",
            "F1 score: 0.9445874439032792\n",
            "\n",
            "\n"
          ]
        }
      ],
      "source": [
        "print('Hyperopt Best Models AUROC Metrics: SMOTE Models using Upsampling Data')\n",
        "for model in ['prediction_lr', 'prediction_lsvc', 'prediction_dt', \n",
        "\t\t\t        'prediction_rf', 'prediction_rf1', 'prediction_gbt']:\n",
        "    df = globals()[model]\n",
        "    \n",
        "    tp = df[(df.label == 1) & (df.prediction == 1)].count()\n",
        "    tn = df[(df.label == 0) & (df.prediction == 0)].count()\n",
        "    fp = df[(df.label == 0) & (df.prediction == 1)].count()\n",
        "    fn = df[(df.label == 1) & (df.prediction == 0)].count()\n",
        "    a = ((tp + tn)/df.count())\n",
        "    \n",
        "    if(tp + fn == 0.0):\n",
        "        r = 0.0\n",
        "        p = float(tp) / (tp + fp)\n",
        "    elif(tp + fp == 0.0):\n",
        "        r = float(tp) / (tp + fn)\n",
        "        p = 0.0\n",
        "    else:\n",
        "        r = float(tp) / (tp + fn)\n",
        "        p = float(tp) / (tp + fp)\n",
        "    \n",
        "    if(p + r == 0):\n",
        "        f1 = 0\n",
        "    else:\n",
        "        f1 = 2 * ((p * r)/(p + r))\n",
        "    \n",
        "    print('\\nModel:', model)\n",
        "    print('True Positives:', tp)\n",
        "    print('True Negatives:', tn)\n",
        "    print('False Positives:', fp)\n",
        "    print('False Negatives:', fn)\n",
        "    print('Total:', df.count())\n",
        "    print('Accuracy:', a)\n",
        "    print('Recall:', r)\n",
        "    print('Precision: ', p)\n",
        "    print('F1 score:', f1)\n",
        "    print('\\n')"
      ]
    },
    {
      "cell_type": "markdown",
      "metadata": {
        "id": "IpVplIp3Be1j"
      },
      "source": [
        "## Predict and SMOTE F1 Model Metrics using testDF of Upsampling Set"
      ]
    },
    {
      "cell_type": "code",
      "execution_count": null,
      "metadata": {
        "colab": {
          "base_uri": "https://localhost:8080/"
        },
        "id": "pnklHw7m_eiJ",
        "outputId": "02d36479-5917-4b41-bb51-150e24c79daa"
      },
      "outputs": [
        {
          "name": "stdout",
          "output_type": "stream",
          "text": [
            "Hyperopt Best Models F1 Metrics: SMOTE Models using Upsampling Data\n",
            "\n",
            "\n",
            "Area Under ROC Curve:\n",
            "Logistic Regression: 0.9860501025753575\n",
            "LinearSVC: 0.981959571141341\n",
            "Decision Trees: 0.9494460525988754\n",
            "Random Forest: 0.9805702355001202\n",
            "Random Forest - More Params: 0.9804896037281486\n",
            "Gradient Boosted Trees: 0.9869668327152193\n",
            "\n",
            "\n",
            "Accuracy:\n",
            "Logistic Regression: 0.9866072564067584\n",
            "LinearSVC: 0.9841793591738675\n",
            "Decision Trees: 0.9862858490587851\n",
            "Random Forest: 0.9815433564638717\n",
            "Random Forest - More Params: 0.9834856742501844\n",
            "Gradient Boosted Trees: 0.9867483056745739\n"
          ]
        }
      ],
      "source": [
        "prediction_lr = pipelineModel_lr_hyperopt_f1_SMOTE.transform(testDF_US)\n",
        "prediction_lsvc = pipelineModel_lsvc_hyperopt_f1_SMOTE.transform(testDF_US)\n",
        "prediction_dt = pipelineModel_dt_hyperopt_f1_SMOTE.transform(testDF_US)\n",
        "prediction_rf = pipelineModel_rf_hyperopt_f1_SMOTE.transform(testDF_US)\n",
        "prediction_rf1 = pipelineModel_rf_hyperopt_f1_1_SMOTE.transform(testDF_US)\n",
        "prediction_gbt = pipelineModel_gbt_hyperopt_f1_SMOTE.transform(testDF_US)\n",
        "\n",
        "print('Hyperopt Best Models F1 Metrics: SMOTE Models using Upsampling Data')\n",
        "print('\\n')\n",
        "print('Area Under ROC Curve:')\n",
        "print('Logistic Regression:', evaluator_auroc.evaluate(prediction_lr)) \n",
        "print('LinearSVC:', evaluator_auroc.evaluate(prediction_lsvc)) \n",
        "print('Decision Trees:', evaluator_auroc.evaluate(prediction_dt)) \n",
        "print('Random Forest:', evaluator_auroc.evaluate(prediction_rf)) \n",
        "print('Random Forest - More Params:', evaluator_auroc.evaluate(prediction_rf1)) \n",
        "print('Gradient Boosted Trees:', evaluator_auroc.evaluate(prediction_gbt)) \n",
        "print('\\n')\n",
        "print('Accuracy:')\n",
        "print('Logistic Regression:', evaluator_acc.evaluate(prediction_lr)) \n",
        "print('LinearSVC:', evaluator_acc.evaluate(prediction_lsvc)) \n",
        "print('Decision Trees:', evaluator_acc.evaluate(prediction_dt)) \n",
        "print('Random Forest:', evaluator_acc.evaluate(prediction_rf)) \n",
        "print('Random Forest - More Params:', evaluator_acc.evaluate(prediction_rf1)) \n",
        "print('Gradient Boosted Trees:', evaluator_acc.evaluate(prediction_gbt)) "
      ]
    },
    {
      "cell_type": "code",
      "execution_count": null,
      "metadata": {
        "colab": {
          "base_uri": "https://localhost:8080/"
        },
        "id": "ZefNDOR0_eiL",
        "outputId": "24eda14f-2691-43ab-8eb1-5643cedce924"
      },
      "outputs": [
        {
          "name": "stdout",
          "output_type": "stream",
          "text": [
            "Hyperopt Best Models F1 Metrics: SMOTE Models using Upsampling Data\n",
            "\n",
            "Model: prediction_lr\n",
            "True Positives: 50014\n",
            "True Negatives: 376667\n",
            "False Positives: 1181\n",
            "False Negatives: 4611\n",
            "Total: 432473\n",
            "Accuracy: 0.9866072564067584\n",
            "Recall: 0.9155881006864989\n",
            "Precision:  0.9769313409512648\n",
            "F1 score: 0.9452655452655452\n",
            "\n",
            "\n",
            "\n",
            "Model: prediction_lsvc\n",
            "True Positives: 48896\n",
            "True Negatives: 376735\n",
            "False Positives: 1113\n",
            "False Negatives: 5729\n",
            "Total: 432473\n",
            "Accuracy: 0.9841793591738675\n",
            "Recall: 0.8951212814645308\n",
            "Precision:  0.9777440060789058\n",
            "F1 score: 0.9346101649559416\n",
            "\n",
            "\n",
            "\n",
            "Model: prediction_dt\n",
            "True Positives: 49561\n",
            "True Negatives: 376981\n",
            "False Positives: 867\n",
            "False Negatives: 5064\n",
            "Total: 432473\n",
            "Accuracy: 0.9862858490587851\n",
            "Recall: 0.9072951945080091\n",
            "Precision:  0.9828071706194971\n",
            "F1 score: 0.943542783166592\n",
            "\n",
            "\n",
            "\n",
            "Model: prediction_rf\n",
            "True Positives: 46869\n",
            "True Negatives: 377622\n",
            "False Positives: 226\n",
            "False Negatives: 7756\n",
            "Total: 432473\n",
            "Accuracy: 0.9815433564638717\n",
            "Recall: 0.8580137299771167\n",
            "Precision:  0.9952011890858902\n",
            "F1 score: 0.9215296893432953\n",
            "\n",
            "\n",
            "\n",
            "Model: prediction_rf1\n",
            "True Positives: 47673\n",
            "True Negatives: 377658\n",
            "False Positives: 190\n",
            "False Negatives: 6952\n",
            "Total: 432473\n",
            "Accuracy: 0.9834856742501844\n",
            "Recall: 0.8727322654462243\n",
            "Precision:  0.9960303365856716\n",
            "F1 score: 0.9303137928342832\n",
            "\n",
            "\n",
            "\n",
            "Model: prediction_gbt\n",
            "True Positives: 49354\n",
            "True Negatives: 377388\n",
            "False Positives: 460\n",
            "False Negatives: 5271\n",
            "Total: 432473\n",
            "Accuracy: 0.9867483056745739\n",
            "Recall: 0.9035057208237987\n",
            "Precision:  0.9907656482113462\n",
            "F1 score: 0.9451258629439193\n",
            "\n",
            "\n"
          ]
        }
      ],
      "source": [
        "print('Hyperopt Best Models F1 Metrics: SMOTE Models using Upsampling Data')\n",
        "for model in ['prediction_lr', 'prediction_lsvc', 'prediction_dt', \n",
        "\t\t\t        'prediction_rf', 'prediction_rf1', 'prediction_gbt']:\n",
        "    df = globals()[model]\n",
        "    \n",
        "    tp = df[(df.label == 1) & (df.prediction == 1)].count()\n",
        "    tn = df[(df.label == 0) & (df.prediction == 0)].count()\n",
        "    fp = df[(df.label == 0) & (df.prediction == 1)].count()\n",
        "    fn = df[(df.label == 1) & (df.prediction == 0)].count()\n",
        "    a = ((tp + tn)/df.count())\n",
        "    \n",
        "    if(tp + fn == 0.0):\n",
        "        r = 0.0\n",
        "        p = float(tp) / (tp + fp)\n",
        "    elif(tp + fp == 0.0):\n",
        "        r = float(tp) / (tp + fn)\n",
        "        p = 0.0\n",
        "    else:\n",
        "        r = float(tp) / (tp + fn)\n",
        "        p = float(tp) / (tp + fp)\n",
        "    \n",
        "    if(p + r == 0):\n",
        "        f1 = 0\n",
        "    else:\n",
        "        f1 = 2 * ((p * r)/(p + r))\n",
        "    \n",
        "    print('\\nModel:', model)\n",
        "    print('True Positives:', tp)\n",
        "    print('True Negatives:', tn)\n",
        "    print('False Positives:', fp)\n",
        "    print('False Negatives:', fn)\n",
        "    print('Total:', df.count())\n",
        "    print('Accuracy:', a)\n",
        "    print('Recall:', r)\n",
        "    print('Precision: ', p)\n",
        "    print('F1 score:', f1)\n",
        "    print('\\n')"
      ]
    },
    {
      "cell_type": "markdown",
      "metadata": {
        "id": "AkGcRZadQj0t"
      },
      "source": [
        "# SMOTE - Split Over Upsampling "
      ]
    },
    {
      "cell_type": "markdown",
      "metadata": {
        "id": "FrpLEgGnQqkQ"
      },
      "source": [
        "## Read Data and View Schema"
      ]
    },
    {
      "cell_type": "code",
      "execution_count": null,
      "metadata": {
        "colab": {
          "base_uri": "https://localhost:8080/"
        },
        "id": "Jp5nX-x-mRCU",
        "outputId": "ed452ecb-a95b-40d2-c4f7-c90f2c102f1f"
      },
      "outputs": [
        {
          "name": "stdout",
          "output_type": "stream",
          "text": [
            "\n",
            "Train Schema\n",
            "root\n",
            " |-- loan_amnt: integer (nullable = true)\n",
            " |-- int_rate: double (nullable = true)\n",
            " |-- installment: double (nullable = true)\n",
            " |-- annual_inc: double (nullable = true)\n",
            " |-- inq_last_6mths: double (nullable = true)\n",
            " |-- pub_rec: double (nullable = true)\n",
            " |-- revol_bal: integer (nullable = true)\n",
            " |-- out_prncp: double (nullable = true)\n",
            " |-- total_pymnt: double (nullable = true)\n",
            " |-- total_rec_int: double (nullable = true)\n",
            " |-- total_rec_late_fee: double (nullable = true)\n",
            " |-- recoveries: double (nullable = true)\n",
            " |-- last_pymnt_amnt: double (nullable = true)\n",
            " |-- collections_12_mths_ex_med: double (nullable = true)\n",
            " |-- acc_open_past_24mths: double (nullable = true)\n",
            " |-- bc_open_to_buy: double (nullable = true)\n",
            " |-- chargeoff_within_12_mths: double (nullable = true)\n",
            " |-- delinq_amnt: double (nullable = true)\n",
            " |-- mths_since_recent_bc: double (nullable = true)\n",
            " |-- num_bc_sats: double (nullable = true)\n",
            " |-- num_bc_tl: double (nullable = true)\n",
            " |-- num_sats: double (nullable = true)\n",
            " |-- num_tl_30dpd: double (nullable = true)\n",
            " |-- tax_liens: double (nullable = true)\n",
            " |-- tot_hi_cred_lim: double (nullable = true)\n",
            " |-- total_bal_ex_mort: double (nullable = true)\n",
            " |-- total_bc_limit: double (nullable = true)\n",
            " |-- term_ 60 months: integer (nullable = true)\n",
            " |-- grade_B: integer (nullable = true)\n",
            " |-- grade_C: integer (nullable = true)\n",
            " |-- grade_D: integer (nullable = true)\n",
            " |-- home_ownership_MORTGAGE: integer (nullable = true)\n",
            " |-- home_ownership_OWN: integer (nullable = true)\n",
            " |-- home_ownership_RENT: integer (nullable = true)\n",
            " |-- verification_status_Source Verified: integer (nullable = true)\n",
            " |-- verification_status_Verified: integer (nullable = true)\n",
            " |-- purpose_credit_card: integer (nullable = true)\n",
            " |-- initial_list_status_w: integer (nullable = true)\n",
            " |-- application_type_Joint App: integer (nullable = true)\n",
            " |-- disbursement_method_DirectPay: integer (nullable = true)\n",
            " |-- num_il_tl: double (nullable = true)\n",
            " |-- num_accts_ever_120_pd: double (nullable = true)\n",
            " |-- mo_sin_old_rev_tl_op: double (nullable = true)\n",
            " |-- percent_bc_gt_75: double (nullable = true)\n",
            " |-- revol_util: double (nullable = true)\n",
            " |-- num_actv_rev_tl: double (nullable = true)\n",
            " |-- tot_coll_amt: double (nullable = true)\n",
            " |-- mort_acc: double (nullable = true)\n",
            " |-- delinq_2yrs: double (nullable = true)\n",
            " |-- num_tl_op_past_12m: double (nullable = true)\n",
            " |-- loan_status: integer (nullable = true)\n",
            "\n",
            "\n",
            "Test Schema\n",
            "root\n",
            " |-- loan_amnt: integer (nullable = true)\n",
            " |-- int_rate: double (nullable = true)\n",
            " |-- installment: double (nullable = true)\n",
            " |-- annual_inc: double (nullable = true)\n",
            " |-- inq_last_6mths: double (nullable = true)\n",
            " |-- pub_rec: double (nullable = true)\n",
            " |-- revol_bal: integer (nullable = true)\n",
            " |-- out_prncp: double (nullable = true)\n",
            " |-- total_pymnt: double (nullable = true)\n",
            " |-- total_rec_int: double (nullable = true)\n",
            " |-- total_rec_late_fee: double (nullable = true)\n",
            " |-- recoveries: double (nullable = true)\n",
            " |-- last_pymnt_amnt: double (nullable = true)\n",
            " |-- collections_12_mths_ex_med: double (nullable = true)\n",
            " |-- acc_open_past_24mths: double (nullable = true)\n",
            " |-- bc_open_to_buy: double (nullable = true)\n",
            " |-- chargeoff_within_12_mths: double (nullable = true)\n",
            " |-- delinq_amnt: double (nullable = true)\n",
            " |-- mths_since_recent_bc: double (nullable = true)\n",
            " |-- num_bc_sats: double (nullable = true)\n",
            " |-- num_bc_tl: double (nullable = true)\n",
            " |-- num_sats: double (nullable = true)\n",
            " |-- num_tl_30dpd: double (nullable = true)\n",
            " |-- tax_liens: double (nullable = true)\n",
            " |-- tot_hi_cred_lim: double (nullable = true)\n",
            " |-- total_bal_ex_mort: double (nullable = true)\n",
            " |-- total_bc_limit: double (nullable = true)\n",
            " |-- term_ 60 months: integer (nullable = true)\n",
            " |-- grade_B: integer (nullable = true)\n",
            " |-- grade_C: integer (nullable = true)\n",
            " |-- grade_D: integer (nullable = true)\n",
            " |-- home_ownership_MORTGAGE: integer (nullable = true)\n",
            " |-- home_ownership_OWN: integer (nullable = true)\n",
            " |-- home_ownership_RENT: integer (nullable = true)\n",
            " |-- verification_status_Source Verified: integer (nullable = true)\n",
            " |-- verification_status_Verified: integer (nullable = true)\n",
            " |-- purpose_credit_card: integer (nullable = true)\n",
            " |-- initial_list_status_w: integer (nullable = true)\n",
            " |-- application_type_Joint App: integer (nullable = true)\n",
            " |-- disbursement_method_DirectPay: integer (nullable = true)\n",
            " |-- num_il_tl: double (nullable = true)\n",
            " |-- num_accts_ever_120_pd: double (nullable = true)\n",
            " |-- mo_sin_old_rev_tl_op: double (nullable = true)\n",
            " |-- percent_bc_gt_75: double (nullable = true)\n",
            " |-- revol_util: double (nullable = true)\n",
            " |-- num_actv_rev_tl: double (nullable = true)\n",
            " |-- tot_coll_amt: double (nullable = true)\n",
            " |-- mort_acc: double (nullable = true)\n",
            " |-- delinq_2yrs: double (nullable = true)\n",
            " |-- num_tl_op_past_12m: double (nullable = true)\n",
            " |-- loan_status: integer (nullable = true)\n",
            "\n"
          ]
        }
      ],
      "source": [
        "trainDF_SMOTE = spark.read.csv('/content/drive/MyDrive/LoanStatus/Data/trainDF_SMOTE.csv', \n",
        "                               header=True, inferSchema=True)\n",
        "trainDF_SMOTE.cache()\n",
        "trainDF_SMOTE = trainDF_SMOTE \\\n",
        "  .withColumn('loan_amnt', trainDF_SMOTE['loan_amnt'].cast(IntegerType())) \\\n",
        "  .withColumn('revol_bal', trainDF_SMOTE['revol_bal'].cast(IntegerType())) \\\n",
        "  .withColumn('term_ 60 months', trainDF_SMOTE['term_ 60 months'].cast(IntegerType())) \\\n",
        "  .withColumn('grade_B', trainDF_SMOTE['grade_B'].cast(IntegerType())) \\\n",
        "  .withColumn('grade_C', trainDF_SMOTE['grade_C'].cast(IntegerType())) \\\n",
        "  .withColumn('grade_D', trainDF_SMOTE['grade_D'].cast(IntegerType())) \\\n",
        "  .withColumn('home_ownership_MORTGAGE', trainDF_SMOTE['home_ownership_MORTGAGE'].cast(IntegerType())) \\\n",
        "  .withColumn('home_ownership_OWN', trainDF_SMOTE['home_ownership_OWN'].cast(IntegerType())) \\\n",
        "  .withColumn('home_ownership_RENT', trainDF_SMOTE['home_ownership_RENT'].cast(IntegerType())) \\\n",
        "  .withColumn('verification_status_Source Verified', trainDF_SMOTE['verification_status_Source Verified'].cast(IntegerType())) \\\n",
        "  .withColumn('verification_status_Verified', trainDF_SMOTE['verification_status_Verified'].cast(IntegerType())) \\\n",
        "  .withColumn('purpose_credit_card', trainDF_SMOTE['purpose_credit_card'].cast(IntegerType())) \\\n",
        "  .withColumn('initial_list_status_w', trainDF_SMOTE['initial_list_status_w'].cast(IntegerType())) \\\n",
        "  .withColumn('application_type_Joint App', trainDF_SMOTE['application_type_Joint App'].cast(IntegerType())) \\\n",
        "  .withColumn('disbursement_method_DirectPay', trainDF_SMOTE['disbursement_method_DirectPay'].cast(IntegerType())) \n",
        "print('\\nTrain Schema')\n",
        "trainDF_SMOTE.printSchema()\n",
        "\n",
        "testDF_SMOTE = spark.read.csv('/content/drive/MyDrive/LoanStatus/Data/testDF_SMOTE.csv',\n",
        "                              header=True, inferSchema=True)\n",
        "testDF_SMOTE.cache()\n",
        "print('\\nTest Schema')\n",
        "testDF_SMOTE.printSchema()"
      ]
    },
    {
      "cell_type": "markdown",
      "metadata": {
        "id": "qcmOMEP_fdja"
      },
      "source": [
        "## Set up Vector Assembler"
      ]
    },
    {
      "cell_type": "code",
      "execution_count": null,
      "metadata": {
        "id": "R5sTKk1Afdjd"
      },
      "outputs": [],
      "source": [
        "# Define features and label for train data\n",
        "features = trainDF_SMOTE.columns[0: len(trainDF_SMOTE.columns) - 1]\n",
        "trainDF_SMOTE = trainDF_SMOTE.select(col('loan_status').alias('label'), *features)\n",
        "\n",
        "# Transform train data\n",
        "trainDF_SMOTE = vecAssembler.transform(trainDF_SMOTE)  "
      ]
    },
    {
      "cell_type": "code",
      "execution_count": null,
      "metadata": {
        "id": "tU5DagCqfdjm"
      },
      "outputs": [],
      "source": [
        "# Define features and label for test data \n",
        "features = testDF_SMOTE.columns[0: len(testDF_SMOTE.columns) - 1]\n",
        "testDF_SMOTE = testDF_SMOTE.select(col('loan_status').alias('label'), *features)\n",
        "\n",
        "# Transform test data\n",
        "testDF_SMOTE = vecAssembler.transform(testDF_SMOTE)  "
      ]
    },
    {
      "cell_type": "markdown",
      "metadata": {
        "id": "uemRx0NHB0Mw"
      },
      "source": [
        "## Predict and AUROC Model Metrics using testDF of SMOTE Set"
      ]
    },
    {
      "cell_type": "code",
      "execution_count": null,
      "metadata": {
        "colab": {
          "base_uri": "https://localhost:8080/"
        },
        "id": "IsURk9cMmRCc",
        "outputId": "ca9599f5-31f0-4b14-e72a-efe5e1d99087"
      },
      "outputs": [
        {
          "name": "stdout",
          "output_type": "stream",
          "text": [
            "Hyperopt Best Models AUROC Metrics: SMOTE\n",
            "\n",
            "\n",
            "Area Under ROC Curve:\n",
            "Logistic Regression: 0.9860501025753575\n",
            "LinearSVC: 0.9792529293074257\n",
            "Decision Trees: 0.9619760183492718\n",
            "Random Forest: 0.9807582878240927\n",
            "Random Forest - More Params: 0.9809293771442331\n",
            "Gradient Boosted Trees: 0.9871254350362428\n",
            "\n",
            "\n",
            "Accuracy:\n",
            "Logistic Regression: 0.9866072564067584\n",
            "LinearSVC: 0.9824312731661861\n",
            "Decision Trees: 0.980546762456847\n",
            "Random Forest: 0.9816127249562401\n",
            "Random Forest - More Params: 0.9837770219181313\n",
            "Gradient Boosted Trees: 0.9866095686898373\n"
          ]
        }
      ],
      "source": [
        "prediction_lr = pipelineModel_lr_hyperopt_auroc_SMOTE.transform(testDF_SMOTE)\n",
        "prediction_lsvc = pipelineModel_lsvc_hyperopt_auroc_SMOTE.transform(testDF_SMOTE)\n",
        "prediction_dt = pipelineModel_dt_hyperopt_auroc_SMOTE.transform(testDF_SMOTE)\n",
        "prediction_rf = pipelineModel_rf_hyperopt_auroc_SMOTE.transform(testDF_SMOTE)\n",
        "prediction_rf1 = pipelineModel_rf_hyperopt_auroc1_SMOTE.transform(testDF_SMOTE)\n",
        "prediction_gbt = pipelineModel_gbt_hyperopt_auroc_SMOTE.transform(testDF_SMOTE)\n",
        "\n",
        "print('Hyperopt Best Models AUROC Metrics: SMOTE')\n",
        "print('\\n')\n",
        "print('Area Under ROC Curve:')\n",
        "print('Logistic Regression:', evaluator_auroc.evaluate(prediction_lr)) \n",
        "print('LinearSVC:', evaluator_auroc.evaluate(prediction_lsvc)) \n",
        "print('Decision Trees:', evaluator_auroc.evaluate(prediction_dt)) \n",
        "print('Random Forest:', evaluator_auroc.evaluate(prediction_rf)) \n",
        "print('Random Forest - More Params:', evaluator_auroc.evaluate(prediction_rf1)) \n",
        "print('Gradient Boosted Trees:', evaluator_auroc.evaluate(prediction_gbt)) \n",
        "print('\\n')\n",
        "print('Accuracy:')\n",
        "print('Logistic Regression:', evaluator_acc.evaluate(prediction_lr)) \n",
        "print('LinearSVC:', evaluator_acc.evaluate(prediction_lsvc)) \n",
        "print('Decision Trees:', evaluator_acc.evaluate(prediction_dt)) \n",
        "print('Random Forest:', evaluator_acc.evaluate(prediction_rf)) \n",
        "print('Random Forest - More Params:', evaluator_acc.evaluate(prediction_rf1)) \n",
        "print('Gradient Boosted Trees:', evaluator_acc.evaluate(prediction_gbt)) "
      ]
    },
    {
      "cell_type": "code",
      "execution_count": null,
      "metadata": {
        "colab": {
          "base_uri": "https://localhost:8080/"
        },
        "id": "CDbF2sG0fAsm",
        "outputId": "fac59fad-2816-42df-de64-12befb3baf9a"
      },
      "outputs": [
        {
          "name": "stdout",
          "output_type": "stream",
          "text": [
            "Hyperopt Best Models AUROC Metrics: SMOTE\n",
            "\n",
            "Model: prediction_lr\n",
            "True Positives: 50014\n",
            "True Negatives: 376667\n",
            "False Positives: 1181\n",
            "False Negatives: 4611\n",
            "Total: 432473\n",
            "Accuracy: 0.9866072564067584\n",
            "Recall: 0.9155881006864989\n",
            "Precision:  0.9769313409512648\n",
            "F1 score: 0.9452655452655452\n",
            "\n",
            "\n",
            "\n",
            "Model: prediction_lsvc\n",
            "True Positives: 48353\n",
            "True Negatives: 376522\n",
            "False Positives: 1326\n",
            "False Negatives: 6272\n",
            "Total: 432473\n",
            "Accuracy: 0.9824312731661861\n",
            "Recall: 0.8851807780320367\n",
            "Precision:  0.9733086414782907\n",
            "F1 score: 0.9271552385335173\n",
            "\n",
            "\n",
            "\n",
            "Model: prediction_dt\n",
            "True Positives: 49885\n",
            "True Negatives: 374175\n",
            "False Positives: 3673\n",
            "False Negatives: 4740\n",
            "Total: 432473\n",
            "Accuracy: 0.980546762456847\n",
            "Recall: 0.9132265446224256\n",
            "Precision:  0.9314201426490907\n",
            "F1 score: 0.9222336226579038\n",
            "\n",
            "\n",
            "\n",
            "Model: prediction_rf\n",
            "True Positives: 46904\n",
            "True Negatives: 377617\n",
            "False Positives: 231\n",
            "False Negatives: 7721\n",
            "Total: 432473\n",
            "Accuracy: 0.9816127249562401\n",
            "Recall: 0.8586544622425629\n",
            "Precision:  0.9950991831971996\n",
            "F1 score: 0.9218553459119497\n",
            "\n",
            "\n",
            "\n",
            "Model: prediction_rf1\n",
            "True Positives: 47756\n",
            "True Negatives: 377701\n",
            "False Positives: 147\n",
            "False Negatives: 6869\n",
            "Total: 432473\n",
            "Accuracy: 0.9837770219181313\n",
            "Recall: 0.8742517162471396\n",
            "Precision:  0.9969312986660543\n",
            "F1 score: 0.9315699126092384\n",
            "\n",
            "\n",
            "\n",
            "Model: prediction_gbt\n",
            "True Positives: 49358\n",
            "True Negatives: 377324\n",
            "False Positives: 524\n",
            "False Negatives: 5267\n",
            "Total: 432473\n",
            "Accuracy: 0.9866095686898373\n",
            "Recall: 0.903578947368421\n",
            "Precision:  0.9894952086925143\n",
            "F1 score: 0.9445874439032792\n",
            "\n",
            "\n"
          ]
        }
      ],
      "source": [
        "print('Hyperopt Best Models AUROC Metrics: SMOTE')\n",
        "for model in ['prediction_lr', 'prediction_lsvc', 'prediction_dt',\n",
        "              'prediction_rf', 'prediction_rf1', 'prediction_gbt']:\n",
        "    df = globals()[model]\n",
        "    \n",
        "    tp = df[(df.label == 1) & (df.prediction == 1)].count()\n",
        "    tn = df[(df.label == 0) & (df.prediction == 0)].count()\n",
        "    fp = df[(df.label == 0) & (df.prediction == 1)].count()\n",
        "    fn = df[(df.label == 1) & (df.prediction == 0)].count()\n",
        "    a = ((tp + tn)/df.count())\n",
        "    \n",
        "    if(tp + fn == 0.0):\n",
        "        r = 0.0\n",
        "        p = float(tp) / (tp + fp)\n",
        "    elif(tp + fp == 0.0):\n",
        "        r = float(tp) / (tp + fn)\n",
        "        p = 0.0\n",
        "    else:\n",
        "        r = float(tp) / (tp + fn)\n",
        "        p = float(tp) / (tp + fp)\n",
        "    \n",
        "    if(p + r == 0):\n",
        "        f1 = 0\n",
        "    else:\n",
        "        f1 = 2 * ((p * r)/(p + r))\n",
        "    \n",
        "    print('\\nModel:', model)\n",
        "    print('True Positives:', tp)\n",
        "    print('True Negatives:', tn)\n",
        "    print('False Positives:', fp)\n",
        "    print('False Negatives:', fn)\n",
        "    print('Total:', df.count())\n",
        "    print('Accuracy:', a)\n",
        "    print('Recall:', r)\n",
        "    print('Precision: ', p)\n",
        "    print('F1 score:', f1)\n",
        "    print('\\n')"
      ]
    },
    {
      "cell_type": "markdown",
      "metadata": {
        "id": "E1qe4Y46IbEE"
      },
      "source": [
        "## Predict and F1 Model Metrics using testDF of SMOTE Set"
      ]
    },
    {
      "cell_type": "code",
      "execution_count": null,
      "metadata": {
        "colab": {
          "base_uri": "https://localhost:8080/"
        },
        "id": "ruYsNoXNIbEF",
        "outputId": "d8e6b771-5c8c-48e7-b210-f1cd49bc80ef"
      },
      "outputs": [
        {
          "name": "stdout",
          "output_type": "stream",
          "text": [
            "Hyperopt Best Models F1 Metrics: SMOTE\n",
            "\n",
            "\n",
            "Area Under ROC Curve:\n",
            "Logistic Regression: 0.9860501025753575\n",
            "LinearSVC: 0.981959571141341\n",
            "Decision Trees: 0.9494460525988754\n",
            "Random Forest: 0.9805702355001202\n",
            "Random Forest - More Params: 0.9804896037281486\n",
            "Gradient Boosted Trees: 0.9869668327152193\n",
            "\n",
            "\n",
            "Accuracy:\n",
            "Logistic Regression: 0.9866072564067584\n",
            "LinearSVC: 0.9841793591738675\n",
            "Decision Trees: 0.9862858490587851\n",
            "Random Forest: 0.9815433564638717\n",
            "Random Forest - More Params: 0.9834856742501844\n",
            "Gradient Boosted Trees: 0.9867483056745739\n"
          ]
        }
      ],
      "source": [
        "prediction_lr = pipelineModel_lr_hyperopt_f1_SMOTE.transform(testDF_SMOTE)\n",
        "prediction_lsvc = pipelineModel_lsvc_hyperopt_f1_SMOTE.transform(testDF_SMOTE)\n",
        "prediction_dt = pipelineModel_dt_hyperopt_f1_SMOTE.transform(testDF_SMOTE)\n",
        "prediction_rf = pipelineModel_rf_hyperopt_f1_SMOTE.transform(testDF_SMOTE)\n",
        "prediction_rf1 = pipelineModel_rf_hyperopt_f1_1_SMOTE.transform(testDF_SMOTE)\n",
        "prediction_gbt = pipelineModel_gbt_hyperopt_f1_SMOTE.transform(testDF_SMOTE)\n",
        "\n",
        "print('Hyperopt Best Models F1 Metrics: SMOTE')\n",
        "print('\\n')\n",
        "print('Area Under ROC Curve:')\n",
        "print('Logistic Regression:', evaluator_auroc.evaluate(prediction_lr)) \n",
        "print('LinearSVC:', evaluator_auroc.evaluate(prediction_lsvc)) \n",
        "print('Decision Trees:', evaluator_auroc.evaluate(prediction_dt)) \n",
        "print('Random Forest:', evaluator_auroc.evaluate(prediction_rf)) \n",
        "print('Random Forest - More Params:', evaluator_auroc.evaluate(prediction_rf1))\n",
        "print('Gradient Boosted Trees:', evaluator_auroc.evaluate(prediction_gbt)) \n",
        "print('\\n')\n",
        "print('Accuracy:')\n",
        "print('Logistic Regression:', evaluator_acc.evaluate(prediction_lr)) \n",
        "print('LinearSVC:', evaluator_acc.evaluate(prediction_lsvc)) \n",
        "print('Decision Trees:', evaluator_acc.evaluate(prediction_dt)) \n",
        "print('Random Forest:', evaluator_acc.evaluate(prediction_rf)) \n",
        "print('Random Forest - More Params:', evaluator_acc.evaluate(prediction_rf1))\n",
        "print('Gradient Boosted Trees:', evaluator_acc.evaluate(prediction_gbt)) "
      ]
    },
    {
      "cell_type": "code",
      "execution_count": null,
      "metadata": {
        "colab": {
          "base_uri": "https://localhost:8080/"
        },
        "id": "I486twx1IbEI",
        "outputId": "3dde0782-75a0-466e-b0d9-17324e6a462e"
      },
      "outputs": [
        {
          "name": "stdout",
          "output_type": "stream",
          "text": [
            "Hyperopt Best Models F1 Metrics: SMOTE\n",
            "\n",
            "Model: prediction_lr\n",
            "True Positives: 50014\n",
            "True Negatives: 376667\n",
            "False Positives: 1181\n",
            "False Negatives: 4611\n",
            "Total: 432473\n",
            "Accuracy: 0.9866072564067584\n",
            "Recall: 0.9155881006864989\n",
            "Precision:  0.9769313409512648\n",
            "F1 score: 0.9452655452655452\n",
            "\n",
            "\n",
            "\n",
            "Model: prediction_lsvc\n",
            "True Positives: 48896\n",
            "True Negatives: 376735\n",
            "False Positives: 1113\n",
            "False Negatives: 5729\n",
            "Total: 432473\n",
            "Accuracy: 0.9841793591738675\n",
            "Recall: 0.8951212814645308\n",
            "Precision:  0.9777440060789058\n",
            "F1 score: 0.9346101649559416\n",
            "\n",
            "\n",
            "\n",
            "Model: prediction_dt\n",
            "True Positives: 49561\n",
            "True Negatives: 376981\n",
            "False Positives: 867\n",
            "False Negatives: 5064\n",
            "Total: 432473\n",
            "Accuracy: 0.9862858490587851\n",
            "Recall: 0.9072951945080091\n",
            "Precision:  0.9828071706194971\n",
            "F1 score: 0.943542783166592\n",
            "\n",
            "\n",
            "\n",
            "Model: prediction_rf\n",
            "True Positives: 46869\n",
            "True Negatives: 377622\n",
            "False Positives: 226\n",
            "False Negatives: 7756\n",
            "Total: 432473\n",
            "Accuracy: 0.9815433564638717\n",
            "Recall: 0.8580137299771167\n",
            "Precision:  0.9952011890858902\n",
            "F1 score: 0.9215296893432953\n",
            "\n",
            "\n",
            "\n",
            "Model: prediction_rf1\n",
            "True Positives: 47673\n",
            "True Negatives: 377658\n",
            "False Positives: 190\n",
            "False Negatives: 6952\n",
            "Total: 432473\n",
            "Accuracy: 0.9834856742501844\n",
            "Recall: 0.8727322654462243\n",
            "Precision:  0.9960303365856716\n",
            "F1 score: 0.9303137928342832\n",
            "\n",
            "\n",
            "\n",
            "Model: prediction_gbt\n",
            "True Positives: 49354\n",
            "True Negatives: 377388\n",
            "False Positives: 460\n",
            "False Negatives: 5271\n",
            "Total: 432473\n",
            "Accuracy: 0.9867483056745739\n",
            "Recall: 0.9035057208237987\n",
            "Precision:  0.9907656482113462\n",
            "F1 score: 0.9451258629439193\n",
            "\n",
            "\n"
          ]
        }
      ],
      "source": [
        "print('Hyperopt Best Models F1 Metrics: SMOTE')\n",
        "for model in ['prediction_lr', 'prediction_lsvc', 'prediction_dt',\n",
        "              'prediction_rf', 'prediction_rf1', 'prediction_gbt']:\n",
        "    df = globals()[model]\n",
        "    \n",
        "    tp = df[(df.label == 1) & (df.prediction == 1)].count()\n",
        "    tn = df[(df.label == 0) & (df.prediction == 0)].count()\n",
        "    fp = df[(df.label == 0) & (df.prediction == 1)].count()\n",
        "    fn = df[(df.label == 1) & (df.prediction == 0)].count()\n",
        "    a = ((tp + tn)/df.count())\n",
        "    \n",
        "    if(tp + fn == 0.0):\n",
        "        r = 0.0\n",
        "        p = float(tp) / (tp + fp)\n",
        "    elif(tp + fp == 0.0):\n",
        "        r = float(tp) / (tp + fn)\n",
        "        p = 0.0\n",
        "    else:\n",
        "        r = float(tp) / (tp + fn)\n",
        "        p = float(tp) / (tp + fp)\n",
        "    \n",
        "    if(p + r == 0):\n",
        "        f1 = 0\n",
        "    else:\n",
        "        f1 = 2 * ((p * r)/(p + r))\n",
        "    \n",
        "    print('\\nModel:', model)\n",
        "    print('True Positives:', tp)\n",
        "    print('True Negatives:', tn)\n",
        "    print('False Positives:', fp)\n",
        "    print('False Negatives:', fn)\n",
        "    print('Total:', df.count())\n",
        "    print('Accuracy:', a)\n",
        "    print('Recall:', r)\n",
        "    print('Precision: ', p)\n",
        "    print('F1 score:', f1)\n",
        "    print('\\n')"
      ]
    },
    {
      "cell_type": "markdown",
      "metadata": {
        "id": "LbYfUUpWFTyS"
      },
      "source": [
        "## Predict and Upsampling AUROC Model Metrics using testDF of SMOTE Set"
      ]
    },
    {
      "cell_type": "code",
      "execution_count": null,
      "metadata": {
        "colab": {
          "base_uri": "https://localhost:8080/"
        },
        "id": "Qk5NveEWFTyU",
        "outputId": "338c1a21-a6ad-404f-f44e-40b8fbaa0e86"
      },
      "outputs": [
        {
          "name": "stdout",
          "output_type": "stream",
          "text": [
            "Hyperopt Best Models AUROC Metrics: Upsampling Models using SMOTE Data\n",
            "\n",
            "\n",
            "Area Under ROC Curve:\n",
            "Logistic Regression: 0.9870101538778137\n",
            "LinearSVC: 0.980184661932512\n",
            "Decision Trees: 0.9625074740986497\n",
            "Random Forest: 0.9845460058836394\n",
            "Random Forest - More Params: 0.9849490161239277\n",
            "Gradient Boosted Trees: 0.9866776626412849\n",
            "\n",
            "\n",
            "Accuracy:\n",
            "Logistic Regression: 0.9858303292922332\n",
            "LinearSVC: 0.9812543210790038\n",
            "Decision Trees: 0.974555636999304\n",
            "Random Forest: 0.9845169525033933\n",
            "Random Forest - More Params: 0.9847504930943666\n",
            "Gradient Boosted Trees: 0.9810554647342146\n"
          ]
        }
      ],
      "source": [
        "prediction_lr = pipelineModel_lr_hyperopt_auroc_US.transform(testDF_SMOTE)\n",
        "prediction_lsvc = pipelineModel_lsvc_hyperopt_auroc_US.transform(testDF_SMOTE)\n",
        "prediction_dt = pipelineModel_dt_hyperopt_auroc_US.transform(testDF_SMOTE)\n",
        "prediction_rf = pipelineModel_rf_hyperopt_auroc_US.transform(testDF_SMOTE)\n",
        "prediction_rf1 = pipelineModel_rf_hyperopt_auroc1_US.transform(testDF_SMOTE)\n",
        "prediction_gbt = pipelineModel_gbt_hyperopt_auroc_US.transform(testDF_SMOTE)\n",
        "\n",
        "print('Hyperopt Best Models AUROC Metrics: Upsampling Models using SMOTE Data')\n",
        "print('\\n')\n",
        "print('Area Under ROC Curve:')\n",
        "print('Logistic Regression:', evaluator_auroc.evaluate(prediction_lr)) \n",
        "print('LinearSVC:', evaluator_auroc.evaluate(prediction_lsvc)) \n",
        "print('Decision Trees:', evaluator_auroc.evaluate(prediction_dt)) \n",
        "print('Random Forest:', evaluator_auroc.evaluate(prediction_rf)) \n",
        "print('Random Forest - More Params:', evaluator_auroc.evaluate(prediction_rf1))\n",
        "print('Gradient Boosted Trees:', evaluator_auroc.evaluate(prediction_gbt)) \n",
        "print('\\n')\n",
        "print('Accuracy:')\n",
        "print('Logistic Regression:', evaluator_acc.evaluate(prediction_lr)) \n",
        "print('LinearSVC:', evaluator_acc.evaluate(prediction_lsvc)) \n",
        "print('Decision Trees:', evaluator_acc.evaluate(prediction_dt)) \n",
        "print('Random Forest:', evaluator_acc.evaluate(prediction_rf)) \n",
        "print('Random Forest - More Params:', evaluator_acc.evaluate(prediction_rf1))\n",
        "print('Gradient Boosted Trees:', evaluator_acc.evaluate(prediction_gbt)) "
      ]
    },
    {
      "cell_type": "code",
      "execution_count": null,
      "metadata": {
        "colab": {
          "base_uri": "https://localhost:8080/"
        },
        "id": "g9b0lfZ4FTyV",
        "outputId": "cdd77333-39a5-4529-ccf8-b3f993f038f8"
      },
      "outputs": [
        {
          "name": "stdout",
          "output_type": "stream",
          "text": [
            "Hyperopt Best Models AUROC Metrics: Upsampling Models using SMOTE Data\n",
            "\n",
            "Model: prediction_lr\n",
            "True Positives: 50199\n",
            "True Negatives: 376146\n",
            "False Positives: 1702\n",
            "False Negatives: 4426\n",
            "Total: 432473\n",
            "Accuracy: 0.9858303292922332\n",
            "Recall: 0.918974828375286\n",
            "Precision:  0.9672067975568871\n",
            "F1 score: 0.9424741377691831\n",
            "\n",
            "\n",
            "\n",
            "Model: prediction_lsvc\n",
            "True Positives: 48829\n",
            "True Negatives: 375537\n",
            "False Positives: 2311\n",
            "False Negatives: 5796\n",
            "Total: 432473\n",
            "Accuracy: 0.9812543210790038\n",
            "Recall: 0.8938947368421053\n",
            "Precision:  0.9548103245991396\n",
            "F1 score: 0.9233489339573584\n",
            "\n",
            "\n",
            "\n",
            "Model: prediction_dt\n",
            "True Positives: 50116\n",
            "True Negatives: 371353\n",
            "False Positives: 6495\n",
            "False Negatives: 4509\n",
            "Total: 432473\n",
            "Accuracy: 0.974555636999304\n",
            "Recall: 0.9174553775743707\n",
            "Precision:  0.8852696472417021\n",
            "F1 score: 0.9010751914847711\n",
            "\n",
            "\n",
            "\n",
            "Model: prediction_rf\n",
            "True Positives: 49231\n",
            "True Negatives: 376546\n",
            "False Positives: 1302\n",
            "False Negatives: 5394\n",
            "Total: 432473\n",
            "Accuracy: 0.9845169525033933\n",
            "Recall: 0.901254004576659\n",
            "Precision:  0.9742346585399639\n",
            "F1 score: 0.9363243880636756\n",
            "\n",
            "\n",
            "\n",
            "Model: prediction_rf1\n",
            "True Positives: 49268\n",
            "True Negatives: 376610\n",
            "False Positives: 1238\n",
            "False Negatives: 5357\n",
            "Total: 432473\n",
            "Accuracy: 0.9847504930943666\n",
            "Recall: 0.9019313501144165\n",
            "Precision:  0.9754880608244565\n",
            "F1 score: 0.9372687409042053\n",
            "\n",
            "\n",
            "\n",
            "Model: prediction_gbt\n",
            "True Positives: 50383\n",
            "True Negatives: 373897\n",
            "False Positives: 3951\n",
            "False Negatives: 4242\n",
            "Total: 432473\n",
            "Accuracy: 0.9810554647342146\n",
            "Recall: 0.9223432494279176\n",
            "Precision:  0.9272831008208489\n",
            "F1 score: 0.9248065786213163\n",
            "\n",
            "\n"
          ]
        }
      ],
      "source": [
        "print('Hyperopt Best Models AUROC Metrics: Upsampling Models using SMOTE Data')\n",
        "for model in ['prediction_lr', 'prediction_lsvc', 'prediction_dt', \n",
        "\t\t\t        'prediction_rf', 'prediction_rf1', 'prediction_gbt']:\n",
        "    df = globals()[model]\n",
        "    \n",
        "    tp = df[(df.label == 1) & (df.prediction == 1)].count()\n",
        "    tn = df[(df.label == 0) & (df.prediction == 0)].count()\n",
        "    fp = df[(df.label == 0) & (df.prediction == 1)].count()\n",
        "    fn = df[(df.label == 1) & (df.prediction == 0)].count()\n",
        "    a = ((tp + tn)/df.count())\n",
        "    \n",
        "    if(tp + fn == 0.0):\n",
        "        r = 0.0\n",
        "        p = float(tp) / (tp + fp)\n",
        "    elif(tp + fp == 0.0):\n",
        "        r = float(tp) / (tp + fn)\n",
        "        p = 0.0\n",
        "    else:\n",
        "        r = float(tp) / (tp + fn)\n",
        "        p = float(tp) / (tp + fp)\n",
        "    \n",
        "    if(p + r == 0):\n",
        "        f1 = 0\n",
        "    else:\n",
        "        f1 = 2 * ((p * r)/(p + r))\n",
        "    \n",
        "    print('\\nModel:', model)\n",
        "    print('True Positives:', tp)\n",
        "    print('True Negatives:', tn)\n",
        "    print('False Positives:', fp)\n",
        "    print('False Negatives:', fn)\n",
        "    print('Total:', df.count())\n",
        "    print('Accuracy:', a)\n",
        "    print('Recall:', r)\n",
        "    print('Precision: ', p)\n",
        "    print('F1 score:', f1)\n",
        "    print('\\n')"
      ]
    },
    {
      "cell_type": "markdown",
      "metadata": {
        "id": "Qog4ZUezFTyX"
      },
      "source": [
        "## Predict and Upsampling F1 Model Metrics using testDF of SMOTE Set"
      ]
    },
    {
      "cell_type": "code",
      "execution_count": null,
      "metadata": {
        "colab": {
          "base_uri": "https://localhost:8080/"
        },
        "id": "v7pCWWzLFTyZ",
        "outputId": "a6a43557-2d0d-40a8-8cff-db42fb36201c"
      },
      "outputs": [
        {
          "name": "stdout",
          "output_type": "stream",
          "text": [
            "Hyperopt Best Models F1 Metrics: Upsampling Models using SMOTE Data\n",
            "\n",
            "\n",
            "Area Under ROC Curve:\n",
            "Logistic Regression: 0.9870101538778137\n",
            "LinearSVC: 0.9801636688553507\n",
            "Decision Trees: 0.9564704240277363\n",
            "Random Forest: 0.9845886468846079\n",
            "Random Forest - More Params: 0.9832680256640207\n",
            "Gradient Boosted Trees: 0.9848670786073231\n",
            "\n",
            "\n",
            "Accuracy:\n",
            "Logistic Regression: 0.9858303292922332\n",
            "LinearSVC: 0.9814716756884245\n",
            "Decision Trees: 0.9809121031833201\n",
            "Random Forest: 0.9849354757406821\n",
            "Random Forest - More Params: 0.9861586734894433\n",
            "Gradient Boosted Trees: 0.983296067037711\n"
          ]
        }
      ],
      "source": [
        "prediction_lr = pipelineModel_lr_hyperopt_f1_US.transform(testDF_SMOTE)\n",
        "prediction_lsvc = pipelineModel_lsvc_hyperopt_f1_US.transform(testDF_SMOTE)\n",
        "prediction_dt = pipelineModel_dt_hyperopt_f1_US.transform(testDF_SMOTE)\n",
        "prediction_rf = pipelineModel_rf_hyperopt_f1_US.transform(testDF_SMOTE)\n",
        "prediction_rf1 = pipelineModel_rf_hyperopt_f1_1_US.transform(testDF_SMOTE)\n",
        "prediction_gbt = pipelineModel_gbt_hyperopt_f1_US.transform(testDF_SMOTE)\n",
        "\n",
        "print('Hyperopt Best Models F1 Metrics: Upsampling Models using SMOTE Data')\n",
        "print('\\n')\n",
        "print('Area Under ROC Curve:')\n",
        "print('Logistic Regression:', evaluator_auroc.evaluate(prediction_lr)) \n",
        "print('LinearSVC:', evaluator_auroc.evaluate(prediction_lsvc)) \n",
        "print('Decision Trees:', evaluator_auroc.evaluate(prediction_dt)) \n",
        "print('Random Forest:', evaluator_auroc.evaluate(prediction_rf)) \n",
        "print('Random Forest - More Params:', evaluator_auroc.evaluate(prediction_rf1))\n",
        "print('Gradient Boosted Trees:', evaluator_auroc.evaluate(prediction_gbt)) \n",
        "print('\\n')\n",
        "print('Accuracy:')\n",
        "print('Logistic Regression:', evaluator_acc.evaluate(prediction_lr)) \n",
        "print('LinearSVC:', evaluator_acc.evaluate(prediction_lsvc)) \n",
        "print('Decision Trees:', evaluator_acc.evaluate(prediction_dt)) \n",
        "print('Random Forest:', evaluator_acc.evaluate(prediction_rf)) \n",
        "print('Random Forest - More Params:', evaluator_acc.evaluate(prediction_rf1))\n",
        "print('Gradient Boosted Trees:', evaluator_acc.evaluate(prediction_gbt)) "
      ]
    },
    {
      "cell_type": "code",
      "execution_count": null,
      "metadata": {
        "colab": {
          "base_uri": "https://localhost:8080/"
        },
        "id": "tmolnwGHFTya",
        "outputId": "6a2eb677-a4c1-4a74-9192-b6901e3daca4"
      },
      "outputs": [
        {
          "name": "stdout",
          "output_type": "stream",
          "text": [
            "Hyperopt Best Models F1 Metrics: Upsampling Models using SMOTE Data\n",
            "\n",
            "Model: prediction_lr\n",
            "True Positives: 50199\n",
            "True Negatives: 376146\n",
            "False Positives: 1702\n",
            "False Negatives: 4426\n",
            "Total: 432473\n",
            "Accuracy: 0.9858303292922332\n",
            "Recall: 0.918974828375286\n",
            "Precision:  0.9672067975568871\n",
            "F1 score: 0.9424741377691831\n",
            "\n",
            "\n",
            "\n",
            "Model: prediction_lsvc\n",
            "True Positives: 48978\n",
            "True Negatives: 375482\n",
            "False Positives: 2366\n",
            "False Negatives: 5647\n",
            "Total: 432473\n",
            "Accuracy: 0.9814716756884245\n",
            "Recall: 0.8966224256292906\n",
            "Precision:  0.9539186662511686\n",
            "F1 score: 0.9243835461314158\n",
            "\n",
            "\n",
            "\n",
            "Model: prediction_dt\n",
            "True Positives: 50417\n",
            "True Negatives: 373801\n",
            "False Positives: 4047\n",
            "False Negatives: 4208\n",
            "Total: 432473\n",
            "Accuracy: 0.9809121031833201\n",
            "Recall: 0.9229656750572083\n",
            "Precision:  0.9256940364277321\n",
            "F1 score: 0.9243278424039088\n",
            "\n",
            "\n",
            "\n",
            "Model: prediction_rf\n",
            "True Positives: 49291\n",
            "True Negatives: 376667\n",
            "False Positives: 1181\n",
            "False Negatives: 5334\n",
            "Total: 432473\n",
            "Accuracy: 0.9849354757406821\n",
            "Recall: 0.9023524027459954\n",
            "Precision:  0.9766008876208591\n",
            "F1 score: 0.9380096482297305\n",
            "\n",
            "\n",
            "\n",
            "Model: prediction_rf1\n",
            "True Positives: 48881\n",
            "True Negatives: 377606\n",
            "False Positives: 242\n",
            "False Negatives: 5744\n",
            "Total: 432473\n",
            "Accuracy: 0.9861586734894433\n",
            "Recall: 0.8948466819221969\n",
            "Precision:  0.9950735907823219\n",
            "F1 score: 0.9423025022169103\n",
            "\n",
            "\n",
            "\n",
            "Model: prediction_gbt\n",
            "True Positives: 50218\n",
            "True Negatives: 375031\n",
            "False Positives: 2817\n",
            "False Negatives: 4407\n",
            "Total: 432473\n",
            "Accuracy: 0.983296067037711\n",
            "Recall: 0.9193226544622426\n",
            "Precision:  0.9468841331196379\n",
            "F1 score: 0.9328998699609883\n",
            "\n",
            "\n"
          ]
        }
      ],
      "source": [
        "print('Hyperopt Best Models F1 Metrics: Upsampling Models using SMOTE Data')\n",
        "for model in ['prediction_lr', 'prediction_lsvc', 'prediction_dt', \n",
        "\t\t\t        'prediction_rf', 'prediction_rf1', 'prediction_gbt']:\n",
        "    df = globals()[model]\n",
        "    \n",
        "    tp = df[(df.label == 1) & (df.prediction == 1)].count()\n",
        "    tn = df[(df.label == 0) & (df.prediction == 0)].count()\n",
        "    fp = df[(df.label == 0) & (df.prediction == 1)].count()\n",
        "    fn = df[(df.label == 1) & (df.prediction == 0)].count()\n",
        "    a = ((tp + tn)/df.count())\n",
        "    \n",
        "    if(tp + fn == 0.0):\n",
        "        r = 0.0\n",
        "        p = float(tp) / (tp + fp)\n",
        "    elif(tp + fp == 0.0):\n",
        "        r = float(tp) / (tp + fn)\n",
        "        p = 0.0\n",
        "    else:\n",
        "        r = float(tp) / (tp + fn)\n",
        "        p = float(tp) / (tp + fp)\n",
        "    \n",
        "    if(p + r == 0):\n",
        "        f1 = 0\n",
        "    else:\n",
        "        f1 = 2 * ((p * r)/(p + r))\n",
        "    \n",
        "    print('\\nModel:', model)\n",
        "    print('True Positives:', tp)\n",
        "    print('True Negatives:', tn)\n",
        "    print('False Positives:', fp)\n",
        "    print('False Negatives:', fn)\n",
        "    print('Total:', df.count())\n",
        "    print('Accuracy:', a)\n",
        "    print('Recall:', r)\n",
        "    print('Precision: ', p)\n",
        "    print('F1 score:', f1)\n",
        "    print('\\n')"
      ]
    }
  ],
  "metadata": {
    "colab": {
      "collapsed_sections": [],
      "machine_shape": "hm",
      "toc_visible": true,
      "provenance": []
    },
    "gpuClass": "standard",
    "kernelspec": {
      "display_name": "Python 3",
      "name": "python3"
    },
    "language_info": {
      "name": "python"
    }
  },
  "nbformat": 4,
  "nbformat_minor": 0
}