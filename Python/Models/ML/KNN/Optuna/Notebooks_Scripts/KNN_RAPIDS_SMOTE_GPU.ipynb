{
  "cells": [
    {
      "cell_type": "markdown",
      "source": [
        "# Lending Tree Loan Status: SMOTE\n",
        "## Classification - K-Nearest Neighbors HPO GPU"
      ],
      "metadata": {
        "id": "uGgt95J-gz00"
      }
    },
    {
      "cell_type": "markdown",
      "source": [
        "## Set Up Environment, Read Data, Split Train/Test Sets"
      ],
      "metadata": {
        "id": "4Cx-Urh5g-xc"
      }
    },
    {
      "cell_type": "code",
      "execution_count": null,
      "metadata": {
        "colab": {
          "base_uri": "https://localhost:8080/"
        },
        "id": "0GM0SPJvbtpp",
        "outputId": "8d599b18-51da-48ff-91e4-b9c6f0cee056"
      },
      "outputs": [
        {
          "output_type": "stream",
          "name": "stdout",
          "text": [
            "Mounted at /content/drive\n"
          ]
        }
      ],
      "source": [
        "from google.colab import drive \n",
        "drive.mount('/content/drive')"
      ]
    },
    {
      "cell_type": "code",
      "execution_count": null,
      "metadata": {
        "colab": {
          "base_uri": "https://localhost:8080/"
        },
        "outputId": "b702656f-556d-43d6-ed2c-403f77c4f8ed",
        "id": "k4PTlo2PgBq6"
      },
      "outputs": [
        {
          "output_type": "stream",
          "name": "stdout",
          "text": [
            "/content/drive/MyDrive/RAPIDS\n"
          ]
        }
      ],
      "source": [
        "%cd /content/drive/MyDrive/RAPIDS/"
      ]
    },
    {
      "cell_type": "code",
      "execution_count": null,
      "metadata": {
        "id": "nE-jTvqUZwaz"
      },
      "outputs": [],
      "source": [
        "# Clone RAPIDS-Colab install files and see if GPU is compatible\n",
        "!git clone https://github.com/rapidsai/rapidsai-csp-utils.git\n",
        "!python rapidsai-csp-utils/colab/env-check.py"
      ]
    },
    {
      "cell_type": "code",
      "execution_count": null,
      "metadata": {
        "id": "JI7UTXbhaBon"
      },
      "outputs": [],
      "source": [
        "# Update the Colab environment and restart the kernel\n",
        "!bash rapidsai-csp-utils/colab/update_gcc.sh\n",
        "import os\n",
        "os._exit(00)"
      ]
    },
    {
      "cell_type": "code",
      "execution_count": null,
      "metadata": {
        "colab": {
          "base_uri": "https://localhost:8080/"
        },
        "id": "qg2SasWKaBsB",
        "outputId": "032892b9-a8e4-4cac-ecde-0f9f348c5e93"
      },
      "outputs": [
        {
          "output_type": "stream",
          "name": "stdout",
          "text": [
            "⏬ Downloading https://github.com/jaimergp/miniforge/releases/latest/download/Mambaforge-colab-Linux-x86_64.sh...\n",
            "📦 Installing...\n",
            "📌 Adjusting configuration...\n",
            "🩹 Patching environment...\n",
            "⏲ Done in 0:00:29\n",
            "🔁 Restarting kernel...\n"
          ]
        }
      ],
      "source": [
        "# Install CondaColab and restart the kernel \n",
        "import condacolab\n",
        "condacolab.install()"
      ]
    },
    {
      "cell_type": "code",
      "execution_count": null,
      "metadata": {
        "colab": {
          "base_uri": "https://localhost:8080/"
        },
        "id": "fKSMDrN_aB-v",
        "outputId": "00caa93d-8ac2-42c4-dd57-6be41a2b46f8"
      },
      "outputs": [
        {
          "output_type": "stream",
          "name": "stdout",
          "text": [
            "✨🍰✨ Everything looks OK!\n"
          ]
        }
      ],
      "source": [
        "# See if environment is ready to install RAPIDS\n",
        "import condacolab\n",
        "condacolab.check()"
      ]
    },
    {
      "cell_type": "code",
      "execution_count": null,
      "metadata": {
        "id": "m0jdXBRiDSzj"
      },
      "outputs": [],
      "source": [
        "# Install RAPIDS using the 'stable' release\n",
        "!python rapidsai-csp-utils/colab/install_rapids.py stable\n",
        "import os\n",
        "os.environ['NUMBAPRO_NVVM'] = '/usr/local/cuda/nvvm/lib64/libnvvm.so'\n",
        "os.environ['NUMBAPRO_LIBDEVICE'] = '/usr/local/cuda/nvvm/libdevice/'\n",
        "os.environ['CONDA_PREFIX'] = '/usr/local'"
      ]
    },
    {
      "cell_type": "code",
      "execution_count": null,
      "metadata": {
        "colab": {
          "base_uri": "https://localhost:8080/"
        },
        "id": "XNzwlQNYiVrF",
        "outputId": "0b35197a-ebd5-4036-f8a9-c9ea0ad442e5"
      },
      "outputs": [
        {
          "output_type": "stream",
          "name": "stdout",
          "text": [
            "Looking in indexes: https://pypi.org/simple, https://us-python.pkg.dev/colab-wheels/public/simple/\n",
            "Collecting optuna\n",
            "  Downloading optuna-2.10.1-py3-none-any.whl (308 kB)\n",
            "\u001b[K     |████████████████████████████████| 308 kB 5.2 MB/s \n",
            "\u001b[?25hCollecting alembic\n",
            "  Downloading alembic-1.8.0-py3-none-any.whl (209 kB)\n",
            "\u001b[K     |████████████████████████████████| 209 kB 53.1 MB/s \n",
            "\u001b[?25hCollecting colorlog\n",
            "  Downloading colorlog-6.6.0-py2.py3-none-any.whl (11 kB)\n",
            "Collecting sqlalchemy>=1.1.0\n",
            "  Downloading SQLAlchemy-1.4.39-cp37-cp37m-manylinux_2_5_x86_64.manylinux1_x86_64.manylinux_2_17_x86_64.manylinux2014_x86_64.whl (1.6 MB)\n",
            "\u001b[K     |████████████████████████████████| 1.6 MB 52.4 MB/s \n",
            "\u001b[?25hCollecting cmaes>=0.8.2\n",
            "  Downloading cmaes-0.8.2-py3-none-any.whl (15 kB)\n",
            "Requirement already satisfied: numpy in /usr/local/lib/python3.7/site-packages (from optuna) (1.21.6)\n",
            "Collecting cliff\n",
            "  Downloading cliff-3.10.1-py3-none-any.whl (81 kB)\n",
            "\u001b[K     |████████████████████████████████| 81 kB 8.5 MB/s \n",
            "\u001b[?25hRequirement already satisfied: packaging>=20.0 in /usr/local/lib/python3.7/site-packages (from optuna) (21.3)\n",
            "Requirement already satisfied: tqdm in /usr/local/lib/python3.7/site-packages (from optuna) (4.59.0)\n",
            "Requirement already satisfied: PyYAML in /usr/local/lib/python3.7/site-packages (from optuna) (6.0)\n",
            "Requirement already satisfied: scipy!=1.4.0 in /usr/local/lib/python3.7/site-packages (from optuna) (1.7.3)\n",
            "Requirement already satisfied: pyparsing!=3.0.5,>=2.0.2 in /usr/local/lib/python3.7/site-packages (from packaging>=20.0->optuna) (3.0.9)\n",
            "Requirement already satisfied: importlib-metadata in /usr/local/lib/python3.7/site-packages (from sqlalchemy>=1.1.0->optuna) (4.11.4)\n",
            "Collecting greenlet!=0.4.17\n",
            "  Downloading greenlet-1.1.2-cp37-cp37m-manylinux_2_17_x86_64.manylinux2014_x86_64.whl (150 kB)\n",
            "\u001b[K     |████████████████████████████████| 150 kB 51.5 MB/s \n",
            "\u001b[?25hRequirement already satisfied: importlib-resources in /usr/local/lib/python3.7/site-packages (from alembic->optuna) (5.8.0)\n",
            "Collecting Mako\n",
            "  Downloading Mako-1.2.0-py3-none-any.whl (78 kB)\n",
            "\u001b[K     |████████████████████████████████| 78 kB 142 kB/s \n",
            "\u001b[?25hCollecting stevedore>=2.0.1\n",
            "  Downloading stevedore-3.5.0-py3-none-any.whl (49 kB)\n",
            "\u001b[K     |████████████████████████████████| 49 kB 5.2 MB/s \n",
            "\u001b[?25hCollecting autopage>=0.4.0\n",
            "  Downloading autopage-0.5.1-py3-none-any.whl (29 kB)\n",
            "Collecting pbr!=2.1.0,>=2.0.0\n",
            "  Downloading pbr-5.9.0-py2.py3-none-any.whl (112 kB)\n",
            "\u001b[K     |████████████████████████████████| 112 kB 53.6 MB/s \n",
            "\u001b[?25hCollecting PrettyTable>=0.7.2\n",
            "  Downloading prettytable-3.3.0-py3-none-any.whl (26 kB)\n",
            "Collecting cmd2>=1.0.0\n",
            "  Downloading cmd2-2.4.1-py3-none-any.whl (146 kB)\n",
            "\u001b[K     |████████████████████████████████| 146 kB 39.9 MB/s \n",
            "\u001b[?25hRequirement already satisfied: attrs>=16.3.0 in /usr/local/lib/python3.7/site-packages (from cmd2>=1.0.0->cliff->optuna) (21.4.0)\n",
            "Requirement already satisfied: wcwidth>=0.1.7 in /usr/local/lib/python3.7/site-packages (from cmd2>=1.0.0->cliff->optuna) (0.2.5)\n",
            "Requirement already satisfied: typing-extensions in /usr/local/lib/python3.7/site-packages (from cmd2>=1.0.0->cliff->optuna) (4.2.0)\n",
            "Collecting pyperclip>=1.6\n",
            "  Downloading pyperclip-1.8.2.tar.gz (20 kB)\n",
            "Requirement already satisfied: zipp>=0.5 in /usr/local/lib/python3.7/site-packages (from importlib-metadata->sqlalchemy>=1.1.0->optuna) (3.8.0)\n",
            "Requirement already satisfied: MarkupSafe>=0.9.2 in /usr/local/lib/python3.7/site-packages (from Mako->alembic->optuna) (2.1.1)\n",
            "Building wheels for collected packages: pyperclip\n",
            "  Building wheel for pyperclip (setup.py) ... \u001b[?25l\u001b[?25hdone\n",
            "  Created wheel for pyperclip: filename=pyperclip-1.8.2-py3-none-any.whl size=11137 sha256=6d9eb8be74822dc4828aed1717f9f16993e4902ee1a41156c63312d7485f9139\n",
            "  Stored in directory: /root/.cache/pip/wheels/9f/18/84/8f69f8b08169c7bae2dde6bd7daf0c19fca8c8e500ee620a28\n",
            "Successfully built pyperclip\n",
            "Installing collected packages: pyperclip, pbr, greenlet, stevedore, sqlalchemy, PrettyTable, Mako, cmd2, autopage, colorlog, cmaes, cliff, alembic, optuna\n",
            "Successfully installed Mako-1.2.0 PrettyTable-3.3.0 alembic-1.8.0 autopage-0.5.1 cliff-3.10.1 cmaes-0.8.2 cmd2-2.4.1 colorlog-6.6.0 greenlet-1.1.2 optuna-2.10.1 pbr-5.9.0 pyperclip-1.8.2 sqlalchemy-1.4.39 stevedore-3.5.0\n",
            "Looking in indexes: https://pypi.org/simple, https://us-python.pkg.dev/colab-wheels/public/simple/\n",
            "Collecting dask_optuna\n",
            "  Downloading dask_optuna-0.0.2-py3-none-any.whl (9.1 kB)\n",
            "Requirement already satisfied: optuna>=2.1.0 in /usr/local/lib/python3.7/site-packages (from dask_optuna) (2.10.1)\n",
            "Requirement already satisfied: distributed in /usr/local/lib/python3.7/site-packages (from dask_optuna) (2021.11.2)\n",
            "Requirement already satisfied: dask in /usr/local/lib/python3.7/site-packages (from dask_optuna) (2021.11.2)\n",
            "Requirement already satisfied: colorlog in /usr/local/lib/python3.7/site-packages (from optuna>=2.1.0->dask_optuna) (6.6.0)\n",
            "Requirement already satisfied: cliff in /usr/local/lib/python3.7/site-packages (from optuna>=2.1.0->dask_optuna) (3.10.1)\n",
            "Requirement already satisfied: packaging>=20.0 in /usr/local/lib/python3.7/site-packages (from optuna>=2.1.0->dask_optuna) (21.3)\n",
            "Requirement already satisfied: scipy!=1.4.0 in /usr/local/lib/python3.7/site-packages (from optuna>=2.1.0->dask_optuna) (1.7.3)\n",
            "Requirement already satisfied: cmaes>=0.8.2 in /usr/local/lib/python3.7/site-packages (from optuna>=2.1.0->dask_optuna) (0.8.2)\n",
            "Requirement already satisfied: alembic in /usr/local/lib/python3.7/site-packages (from optuna>=2.1.0->dask_optuna) (1.8.0)\n",
            "Requirement already satisfied: numpy in /usr/local/lib/python3.7/site-packages (from optuna>=2.1.0->dask_optuna) (1.21.6)\n",
            "Requirement already satisfied: tqdm in /usr/local/lib/python3.7/site-packages (from optuna>=2.1.0->dask_optuna) (4.59.0)\n",
            "Requirement already satisfied: sqlalchemy>=1.1.0 in /usr/local/lib/python3.7/site-packages (from optuna>=2.1.0->dask_optuna) (1.4.39)\n",
            "Requirement already satisfied: PyYAML in /usr/local/lib/python3.7/site-packages (from optuna>=2.1.0->dask_optuna) (6.0)\n",
            "Requirement already satisfied: pyparsing!=3.0.5,>=2.0.2 in /usr/local/lib/python3.7/site-packages (from packaging>=20.0->optuna>=2.1.0->dask_optuna) (3.0.9)\n",
            "Requirement already satisfied: greenlet!=0.4.17 in /usr/local/lib/python3.7/site-packages (from sqlalchemy>=1.1.0->optuna>=2.1.0->dask_optuna) (1.1.2)\n",
            "Requirement already satisfied: importlib-metadata in /usr/local/lib/python3.7/site-packages (from sqlalchemy>=1.1.0->optuna>=2.1.0->dask_optuna) (4.11.4)\n",
            "Requirement already satisfied: importlib-resources in /usr/local/lib/python3.7/site-packages (from alembic->optuna>=2.1.0->dask_optuna) (5.8.0)\n",
            "Requirement already satisfied: Mako in /usr/local/lib/python3.7/site-packages (from alembic->optuna>=2.1.0->dask_optuna) (1.2.0)\n",
            "Requirement already satisfied: pbr!=2.1.0,>=2.0.0 in /usr/local/lib/python3.7/site-packages (from cliff->optuna>=2.1.0->dask_optuna) (5.9.0)\n",
            "Requirement already satisfied: stevedore>=2.0.1 in /usr/local/lib/python3.7/site-packages (from cliff->optuna>=2.1.0->dask_optuna) (3.5.0)\n",
            "Requirement already satisfied: cmd2>=1.0.0 in /usr/local/lib/python3.7/site-packages (from cliff->optuna>=2.1.0->dask_optuna) (2.4.1)\n",
            "Requirement already satisfied: autopage>=0.4.0 in /usr/local/lib/python3.7/site-packages (from cliff->optuna>=2.1.0->dask_optuna) (0.5.1)\n",
            "Requirement already satisfied: PrettyTable>=0.7.2 in /usr/local/lib/python3.7/site-packages (from cliff->optuna>=2.1.0->dask_optuna) (3.3.0)\n",
            "Requirement already satisfied: wcwidth>=0.1.7 in /usr/local/lib/python3.7/site-packages (from cmd2>=1.0.0->cliff->optuna>=2.1.0->dask_optuna) (0.2.5)\n",
            "Requirement already satisfied: attrs>=16.3.0 in /usr/local/lib/python3.7/site-packages (from cmd2>=1.0.0->cliff->optuna>=2.1.0->dask_optuna) (21.4.0)\n",
            "Requirement already satisfied: typing-extensions in /usr/local/lib/python3.7/site-packages (from cmd2>=1.0.0->cliff->optuna>=2.1.0->dask_optuna) (4.2.0)\n",
            "Requirement already satisfied: pyperclip>=1.6 in /usr/local/lib/python3.7/site-packages (from cmd2>=1.0.0->cliff->optuna>=2.1.0->dask_optuna) (1.8.2)\n",
            "Requirement already satisfied: zipp>=0.5 in /usr/local/lib/python3.7/site-packages (from importlib-metadata->sqlalchemy>=1.1.0->optuna>=2.1.0->dask_optuna) (3.8.0)\n",
            "Requirement already satisfied: cloudpickle>=1.1.1 in /usr/local/lib/python3.7/site-packages (from dask->dask_optuna) (2.1.0)\n",
            "Requirement already satisfied: partd>=0.3.10 in /usr/local/lib/python3.7/site-packages (from dask->dask_optuna) (1.2.0)\n",
            "Requirement already satisfied: toolz>=0.8.2 in /usr/local/lib/python3.7/site-packages (from dask->dask_optuna) (0.11.2)\n",
            "Requirement already satisfied: fsspec>=0.6.0 in /usr/local/lib/python3.7/site-packages (from dask->dask_optuna) (2022.5.0)\n",
            "Requirement already satisfied: locket in /usr/local/lib/python3.7/site-packages (from partd>=0.3.10->dask->dask_optuna) (1.0.0)\n",
            "Requirement already satisfied: psutil>=5.0 in /usr/local/lib/python3.7/site-packages (from distributed->dask_optuna) (5.9.1)\n",
            "Requirement already satisfied: tornado>=5 in /usr/local/lib/python3.7/site-packages (from distributed->dask_optuna) (6.1)\n",
            "Requirement already satisfied: sortedcontainers!=2.0.0,!=2.0.1 in /usr/local/lib/python3.7/site-packages (from distributed->dask_optuna) (2.4.0)\n",
            "Requirement already satisfied: zict>=0.1.3 in /usr/local/lib/python3.7/site-packages (from distributed->dask_optuna) (2.2.0)\n",
            "Requirement already satisfied: jinja2 in /usr/local/lib/python3.7/site-packages (from distributed->dask_optuna) (3.1.2)\n",
            "Requirement already satisfied: setuptools in /usr/local/lib/python3.7/site-packages (from distributed->dask_optuna) (59.8.0)\n",
            "Requirement already satisfied: tblib>=1.6.0 in /usr/local/lib/python3.7/site-packages (from distributed->dask_optuna) (1.7.0)\n",
            "Requirement already satisfied: msgpack>=0.6.0 in /usr/local/lib/python3.7/site-packages (from distributed->dask_optuna) (1.0.4)\n",
            "Requirement already satisfied: click>=6.6 in /usr/local/lib/python3.7/site-packages (from distributed->dask_optuna) (8.1.3)\n",
            "Requirement already satisfied: heapdict in /usr/local/lib/python3.7/site-packages (from zict>=0.1.3->distributed->dask_optuna) (1.0.1)\n",
            "Requirement already satisfied: MarkupSafe>=2.0 in /usr/local/lib/python3.7/site-packages (from jinja2->distributed->dask_optuna) (2.1.1)\n",
            "Installing collected packages: dask-optuna\n",
            "Successfully installed dask-optuna-0.0.2\n",
            "\n",
            "\n",
            "nvcc: NVIDIA (R) Cuda compiler driver\n",
            "Copyright (c) 2005-2020 NVIDIA Corporation\n",
            "Built on Mon_Oct_12_20:09:46_PDT_2020\n",
            "Cuda compilation tools, release 11.1, V11.1.105\n",
            "Build cuda_11.1.TC455_06.29190527_0\n",
            "Mon Jun 27 23:16:42 2022       \n",
            "+-----------------------------------------------------------------------------+\n",
            "| NVIDIA-SMI 460.32.03    Driver Version: 460.32.03    CUDA Version: 11.2     |\n",
            "|-------------------------------+----------------------+----------------------+\n",
            "| GPU  Name        Persistence-M| Bus-Id        Disp.A | Volatile Uncorr. ECC |\n",
            "| Fan  Temp  Perf  Pwr:Usage/Cap|         Memory-Usage | GPU-Util  Compute M. |\n",
            "|                               |                      |               MIG M. |\n",
            "|===============================+======================+======================|\n",
            "|   0  Tesla P100-PCIE...  Off  | 00000000:00:04.0 Off |                    0 |\n",
            "| N/A   42C    P0    28W / 250W |      2MiB / 16280MiB |      0%      Default |\n",
            "|                               |                      |                  N/A |\n",
            "+-------------------------------+----------------------+----------------------+\n",
            "                                                                               \n",
            "+-----------------------------------------------------------------------------+\n",
            "| Processes:                                                                  |\n",
            "|  GPU   GI   CI        PID   Type   Process name                  GPU Memory |\n",
            "|        ID   ID                                                   Usage      |\n",
            "|=============================================================================|\n",
            "|  No running processes found                                                 |\n",
            "+-----------------------------------------------------------------------------+\n"
          ]
        }
      ],
      "source": [
        "# Install/import dependencies\n",
        "!pip install optuna\n",
        "!pip install dask_optuna\n",
        "import os\n",
        "import warnings\n",
        "import random\n",
        "import numpy as np\n",
        "import cupy as cp\n",
        "from cupy import asnumpy\n",
        "import dask\n",
        "from dask.distributed import Client, wait\n",
        "from dask.diagnostics import ProgressBar\n",
        "from dask.utils import parse_bytes\n",
        "from dask_cuda import LocalCUDACluster\n",
        "import dask_cudf\n",
        "import dask_optuna\n",
        "import urllib.request\n",
        "from contextlib import contextmanager\n",
        "import time\n",
        "from datetime import datetime, timedelta\n",
        "from timeit import default_timer as timer\n",
        "import cudf\n",
        "import cumlt\n",
        "from cuml.neighbors import KNeighborsClassifier\n",
        "import optuna\n",
        "from optuna import Trial\n",
        "optuna.logging.set_verbosity(optuna.logging.WARNING) \n",
        "import joblib\n",
        "import pickle\n",
        "import pandas as pd\n",
        "import sklearn\n",
        "from sklearn.metrics import f1_score, roc_auc_score, accuracy_score\n",
        "from sklearn.metrics import recall_score, precision_score\n",
        "from sklearn.metrics import classification_report, confusion_matrix\n",
        "import plotly.offline as py\n",
        "import matplotlib.pyplot as plt\n",
        "import seaborn as sns\n",
        "warnings.filterwarnings('ignore')\n",
        "os.environ['CUDA_VISIBLE_DEVICES'] = '0'\n",
        "print('\\n')\n",
        "!/usr/local/cuda/bin/nvcc --version\n",
        "!nvidia-smi"
      ]
    },
    {
      "cell_type": "code",
      "execution_count": null,
      "metadata": {
        "id": "TNRuWLyLDzCm"
      },
      "outputs": [],
      "source": [
        "# Define function to time code blocks\n",
        "@contextmanager\n",
        "def timed(name):\n",
        "    t0 = time.time()\n",
        "    yield\n",
        "    t1 = time.time()\n",
        "    print('..%-24s:  %8.4f' % (name, t1 - t0))"
      ]
    },
    {
      "cell_type": "code",
      "execution_count": null,
      "metadata": {
        "colab": {
          "base_uri": "https://localhost:8080/",
          "height": 162
        },
        "id": "00_fGScYevVb",
        "outputId": "d629f2a2-d429-4d7c-f50c-e1bdab8ffd32"
      },
      "outputs": [
        {
          "output_type": "execute_result",
          "data": {
            "text/plain": [
              "<Client: 'tcp://172.28.0.2:46077' processes=1 threads=1, memory=25.46 GiB>"
            ],
            "text/html": [
              "<div>\n",
              "    <div style=\"width: 24px; height: 24px; background-color: #e1e1e1; border: 3px solid #9D9D9D; border-radius: 5px; position: absolute;\"> </div>\n",
              "    <div style=\"margin-left: 48px;\">\n",
              "        <h3 style=\"margin-bottom: 0px;\">Client</h3>\n",
              "        <p style=\"color: #9D9D9D; margin-bottom: 0px;\">Client-37b3b982-f66f-11ec-8985-0242ac1c0002</p>\n",
              "        <table style=\"width: 100%; text-align: left;\">\n",
              "\n",
              "        <tr>\n",
              "        \n",
              "            <td style=\"text-align: left;\"><strong>Connection method:</strong> Cluster object</td>\n",
              "            <td style=\"text-align: left;\"><strong>Cluster type:</strong> dask_cuda.LocalCUDACluster</td>\n",
              "        \n",
              "        </tr>\n",
              "\n",
              "        \n",
              "            <tr>\n",
              "                <td style=\"text-align: left;\">\n",
              "                    <strong>Dashboard: </strong> <a href=\"http://172.28.0.2:8081/status\" target=\"_blank\">http://172.28.0.2:8081/status</a>\n",
              "                </td>\n",
              "                <td style=\"text-align: left;\"></td>\n",
              "            </tr>\n",
              "        \n",
              "\n",
              "        </table>\n",
              "\n",
              "        \n",
              "            <details>\n",
              "            <summary style=\"margin-bottom: 20px;\"><h3 style=\"display: inline;\">Cluster Info</h3></summary>\n",
              "            <div class=\"jp-RenderedHTMLCommon jp-RenderedHTML jp-mod-trusted jp-OutputArea-output\">\n",
              "    <div style=\"width: 24px; height: 24px; background-color: #e1e1e1; border: 3px solid #9D9D9D; border-radius: 5px; position: absolute;\">\n",
              "    </div>\n",
              "    <div style=\"margin-left: 48px;\">\n",
              "        <h3 style=\"margin-bottom: 0px; margin-top: 0px;\">LocalCUDACluster</h3>\n",
              "        <p style=\"color: #9D9D9D; margin-bottom: 0px;\">9e36ae23</p>\n",
              "        <table style=\"width: 100%; text-align: left;\">\n",
              "            <tr>\n",
              "                <td style=\"text-align: left;\">\n",
              "                    <strong>Dashboard:</strong> <a href=\"http://172.28.0.2:8081/status\" target=\"_blank\">http://172.28.0.2:8081/status</a>\n",
              "                </td>\n",
              "                <td style=\"text-align: left;\">\n",
              "                    <strong>Workers:</strong> 1\n",
              "                </td>\n",
              "            </tr>\n",
              "            <tr>\n",
              "                <td style=\"text-align: left;\">\n",
              "                    <strong>Total threads:</strong> 1\n",
              "                </td>\n",
              "                <td style=\"text-align: left;\">\n",
              "                    <strong>Total memory:</strong> 25.46 GiB\n",
              "                </td>\n",
              "            </tr>\n",
              "            \n",
              "            <tr>\n",
              "    <td style=\"text-align: left;\"><strong>Status:</strong> running</td>\n",
              "    <td style=\"text-align: left;\"><strong>Using processes:</strong> True</td>\n",
              "</tr>\n",
              "\n",
              "            \n",
              "        </table>\n",
              "\n",
              "        <details>\n",
              "            <summary style=\"margin-bottom: 20px;\">\n",
              "                <h3 style=\"display: inline;\">Scheduler Info</h3>\n",
              "            </summary>\n",
              "\n",
              "            <div style=\"\">\n",
              "    <div>\n",
              "        <div style=\"width: 24px; height: 24px; background-color: #FFF7E5; border: 3px solid #FF6132; border-radius: 5px; position: absolute;\"> </div>\n",
              "        <div style=\"margin-left: 48px;\">\n",
              "            <h3 style=\"margin-bottom: 0px;\">Scheduler</h3>\n",
              "            <p style=\"color: #9D9D9D; margin-bottom: 0px;\">Scheduler-bd8a7071-ea5f-4107-bc4b-40e271edb130</p>\n",
              "            <table style=\"width: 100%; text-align: left;\">\n",
              "                <tr>\n",
              "                    <td style=\"text-align: left;\">\n",
              "                        <strong>Comm:</strong> tcp://172.28.0.2:46077\n",
              "                    </td>\n",
              "                    <td style=\"text-align: left;\">\n",
              "                        <strong>Workers:</strong> 1\n",
              "                    </td>\n",
              "                </tr>\n",
              "                <tr>\n",
              "                    <td style=\"text-align: left;\">\n",
              "                        <strong>Dashboard:</strong> <a href=\"http://172.28.0.2:8081/status\" target=\"_blank\">http://172.28.0.2:8081/status</a>\n",
              "                    </td>\n",
              "                    <td style=\"text-align: left;\">\n",
              "                        <strong>Total threads:</strong> 1\n",
              "                    </td>\n",
              "                </tr>\n",
              "                <tr>\n",
              "                    <td style=\"text-align: left;\">\n",
              "                        <strong>Started:</strong> Just now\n",
              "                    </td>\n",
              "                    <td style=\"text-align: left;\">\n",
              "                        <strong>Total memory:</strong> 25.46 GiB\n",
              "                    </td>\n",
              "                </tr>\n",
              "            </table>\n",
              "        </div>\n",
              "    </div>\n",
              "\n",
              "    <details style=\"margin-left: 48px;\">\n",
              "        <summary style=\"margin-bottom: 20px;\">\n",
              "            <h3 style=\"display: inline;\">Workers</h3>\n",
              "        </summary>\n",
              "\n",
              "        \n",
              "        <div style=\"margin-bottom: 20px;\">\n",
              "            <div style=\"width: 24px; height: 24px; background-color: #DBF5FF; border: 3px solid #4CC9FF; border-radius: 5px; position: absolute;\"> </div>\n",
              "            <div style=\"margin-left: 48px;\">\n",
              "            <details>\n",
              "                <summary>\n",
              "                    <h4 style=\"margin-bottom: 0px; display: inline;\">Worker: 0</h4>\n",
              "                </summary>\n",
              "                <table style=\"width: 100%; text-align: left;\">\n",
              "                    <tr>\n",
              "                        <td style=\"text-align: left;\">\n",
              "                            <strong>Comm: </strong> tcp://172.28.0.2:35693\n",
              "                        </td>\n",
              "                        <td style=\"text-align: left;\">\n",
              "                            <strong>Total threads: </strong> 1\n",
              "                        </td>\n",
              "                    </tr>\n",
              "                    <tr>\n",
              "                        <td style=\"text-align: left;\">\n",
              "                            <strong>Dashboard: </strong> <a href=\"http://172.28.0.2:43883/status\" target=\"_blank\">http://172.28.0.2:43883/status</a>\n",
              "                        </td>\n",
              "                        <td style=\"text-align: left;\">\n",
              "                            <strong>Memory: </strong> 25.46 GiB\n",
              "                        </td>\n",
              "                    </tr>\n",
              "                    <tr>\n",
              "                        <td style=\"text-align: left;\">\n",
              "                            <strong>Nanny: </strong> tcp://172.28.0.2:46245\n",
              "                        </td>\n",
              "                        <td style=\"text-align: left;\"></td>\n",
              "                    </tr>\n",
              "                    <tr>\n",
              "                        <td colspan=\"2\" style=\"text-align: left;\">\n",
              "                            <strong>Local directory: </strong> /content/drive/MyDrive/LoanStatus/ML/RAPIDS/dask-worker-space/worker-ixfhinnp\n",
              "                        </td>\n",
              "                    </tr>\n",
              "\n",
              "                    \n",
              "                    <tr>\n",
              "                        <td style=\"text-align: left;\">\n",
              "                            <strong>GPU: </strong>Tesla P100-PCIE-16GB\n",
              "                        </td>\n",
              "                        <td style=\"text-align: left;\">\n",
              "                            <strong>GPU memory: </strong> 15.90 GiB\n",
              "                        </td>\n",
              "                    </tr>\n",
              "                    \n",
              "\n",
              "                    \n",
              "\n",
              "                </table>\n",
              "            </details>\n",
              "            </div>\n",
              "        </div>\n",
              "        \n",
              "\n",
              "    </details>\n",
              "</div>\n",
              "\n",
              "        </details>\n",
              "    </div>\n",
              "</div>\n",
              "            </details>\n",
              "        \n",
              "\n",
              "    </div>\n",
              "</div>"
            ]
          },
          "metadata": {},
          "execution_count": 7
        }
      ],
      "source": [
        "# Set up local CUDA cluster for Dask\n",
        "cluster = LocalCUDACluster(threads_per_worker=1, ip='', dashboard_address='8081') \n",
        "c = Client(cluster)\n",
        "\n",
        "# Query the client for all connected workers\n",
        "workers = c.has_what().keys()\n",
        "n_workers = len(workers)\n",
        "c"
      ]
    },
    {
      "cell_type": "code",
      "execution_count": null,
      "metadata": {
        "id": "WXqV1ZA5ggI_"
      },
      "outputs": [],
      "source": [
        "# Set seed \n",
        "seed_value = 42\n",
        "os.environ['KNN_GPU'] = str(seed_value)\n",
        "random.seed(seed_value)\n",
        "cp.random.seed(seed_value)\n",
        "np.random.seed(seed_value)"
      ]
    },
    {
      "cell_type": "code",
      "execution_count": null,
      "metadata": {
        "colab": {
          "base_uri": "https://localhost:8080/"
        },
        "id": "nzT30kAv4ouf",
        "outputId": "d092001e-5a1f-4065-e183-570e39babe45"
      },
      "outputs": [
        {
          "output_type": "stream",
          "name": "stdout",
          "text": [
            "/content/drive/MyDrive/LoanStatus/Data\n"
          ]
        }
      ],
      "source": [
        "%cd /content/drive/MyDrive/LoanStatus/Data/"
      ]
    },
    {
      "cell_type": "code",
      "execution_count": null,
      "metadata": {
        "colab": {
          "base_uri": "https://localhost:8080/"
        },
        "id": "boK6SYJNkhKs",
        "outputId": "7c004ba4-7839-4fee-a5a3-461905aa7d84"
      },
      "outputs": [
        {
          "output_type": "stream",
          "name": "stdout",
          "text": [
            "Train set: Number of rows and columns: (3022132, 51)\n",
            "Test set: Number of rows and columns: (432473, 51)\n"
          ]
        }
      ],
      "source": [
        "# Read data\n",
        "trainDF = cudf.read_csv('trainDF_SMOTE.csv', low_memory=False)\n",
        "print('Train set: Number of rows and columns:', trainDF.shape)\n",
        "\n",
        "testDF = cudf.read_csv('testDF_SMOTE.csv', low_memory=False)\n",
        "print('Test set: Number of rows and columns:', testDF.shape)"
      ]
    },
    {
      "cell_type": "code",
      "execution_count": null,
      "metadata": {
        "id": "yOVECtd4aXb9"
      },
      "outputs": [],
      "source": [
        "# Set up features and target\n",
        "X_train, y_train = trainDF.drop('loan_status', \n",
        "                                axis=1), trainDF['loan_status'].astype('int32')\n",
        "X_train = X_train.astype('float32')\n",
        "\n",
        "X_test, y_test= testDF.drop('loan_status', \n",
        "                            axis=1), testDF['loan_status'].astype('int32')\n",
        "X_test = X_test.astype('float32')"
      ]
    },
    {
      "cell_type": "markdown",
      "source": [
        "## Weighted F1 "
      ],
      "metadata": {
        "id": "Ahj0uNLQalgZ"
      }
    },
    {
      "cell_type": "markdown",
      "source": [
        "### 100 Trials"
      ],
      "metadata": {
        "id": "YGBIIKoAhxb6"
      }
    },
    {
      "cell_type": "code",
      "source": [
        "%cd /content/drive/MyDrive/LoanStatus/Python/Models/ML/KNN/Optuna/Model_PKL/\n",
        "\n",
        "# Define a name for the trials\n",
        "study_name = 'dask_knn_optuna_SMOTE_100_weightedF1_tpe'"
      ],
      "metadata": {
        "colab": {
          "base_uri": "https://localhost:8080/"
        },
        "id": "wVLpy7k-lX7e",
        "outputId": "01adbe35-006a-4ccb-c1c1-211249856131"
      },
      "execution_count": null,
      "outputs": [
        {
          "output_type": "stream",
          "name": "stdout",
          "text": [
            "/content/drive/MyDrive/LoanStatus/Python/Models/ML/KNN/Optuna/Model_PKL\n"
          ]
        }
      ]
    },
    {
      "cell_type": "code",
      "execution_count": null,
      "metadata": {
        "id": "bFjjmC2yplme"
      },
      "outputs": [],
      "source": [
        "# Define function to train/evaluate the model\n",
        "def train_and_eval(X_param, y_param, n_neighbors=10, \n",
        "                   metric='euclidean', verbose=False): \n",
        "    \"\"\"\n",
        "    Partition data into train/test sets, train and evaluate the model\n",
        "    for the given parameters.\n",
        "        \n",
        "    Params\n",
        "    ______\n",
        "        \n",
        "    X_param:  DataFrame. \n",
        "              The data to use for training and testing. \n",
        "    y_param:  Series. \n",
        "              The label for training\n",
        "\n",
        "    Returns\n",
        "    score: F1 weighted of the fitted model\n",
        "    \"\"\"\n",
        "    \n",
        "    # Set up train/test sets\n",
        "    X_train, y_train = trainDF.drop('loan_status', \n",
        "                                    axis=1), trainDF['loan_status'].astype('int32')\n",
        "    X_train = X_train.astype('float32')\n",
        "\n",
        "    X_test, y_test= testDF.drop('loan_status', \n",
        "                                axis=1), testDF['loan_status'].astype('int32')\n",
        "    X_test = X_test.astype('float32')\n",
        "\n",
        "    # Define model\n",
        "    model = KNeighborsClassifier(n_neighbors=n_neighbors, \n",
        "                                 metric=metric, \n",
        "                                 verbose=verbose)\n",
        "    \n",
        "    # Start timer for each trial\n",
        "    start = timer()\n",
        "\n",
        "    # Fit model\n",
        "    model.fit(X_train, y_train)\n",
        "    \n",
        "    # Predict\n",
        "    y_pred = model.predict(X_test)\n",
        "    score = f1_score(y_test.to_numpy(), y_pred.to_numpy(), average='weighted')\n",
        "    run_time = timer() - start\n",
        "    print('- Trial time:', run_time) \n",
        "    print('- Trial weighted F1:', score)\n",
        "    print('######################################################')\n",
        "\n",
        "    return score"
      ]
    },
    {
      "cell_type": "code",
      "execution_count": null,
      "metadata": {
        "colab": {
          "base_uri": "https://localhost:8080/"
        },
        "id": "8a4tVNJ6rt_s",
        "outputId": "46dfc403-cf91-40b7-a885-d4b2184e5cd7"
      },
      "outputs": [
        {
          "name": "stdout",
          "output_type": "stream",
          "text": [
            "- Trial time: 40.219344400999944\n",
            "- Trial weighted F1: 0.8629177061332236\n",
            "######################################################\n",
            "Score with default parameters :  0.8629177061332236\n"
          ]
        }
      ],
      "source": [
        "print('Score with default parameters : ', train_and_eval(X_train, y_train))"
      ]
    },
    {
      "cell_type": "code",
      "execution_count": null,
      "metadata": {
        "id": "qup7QLFXVk3G"
      },
      "outputs": [],
      "source": [
        "# Define objective function with the parameters to be tested\n",
        "def objective(trial, X_param, y_param):\n",
        "    \n",
        "    joblib.dump(study, 'KNN_Optuna_SMOTE_100_GPU_weightedF1.pkl')\n",
        "    \n",
        "    # Search parameters\n",
        "    n_neighbors = trial.suggest_int('n_neighbors', 3, 50) \n",
        "    metric = trial.suggest_categorical('metric', ['euclidean', 'manhattan', \n",
        "                                                  'chebyshev', 'minkowski'])\n",
        "\n",
        "    score = train_and_eval(X_param, y_param,\n",
        "                           n_neighbors=n_neighbors, \n",
        "                           verbose=False)\n",
        "\n",
        "    return score"
      ]
    },
    {
      "cell_type": "code",
      "execution_count": null,
      "metadata": {
        "colab": {
          "base_uri": "https://localhost:8080/"
        },
        "id": "jV03z1nAb20l",
        "outputId": "f263b603-b31f-4fbb-a540-1bda3cf6bf5e"
      },
      "outputs": [
        {
          "name": "stdout",
          "output_type": "stream",
          "text": [
            "Start Time           2022-06-15 03:40:57.848260\n",
            "- Trial time: 37.80832760899989\n",
            "- Trial weighted F1: 0.8359641577884183\n",
            "######################################################\n",
            "- Trial time: 38.034264845999814\n",
            "- Trial weighted F1: 0.8344895377359629\n",
            "######################################################\n",
            "- Trial time: 37.14290788299991\n",
            "- Trial weighted F1: 0.8387366839780154\n",
            "######################################################\n",
            "- Trial time: 36.59460053199996\n",
            "- Trial weighted F1: 0.8441244386649177\n",
            "######################################################\n",
            "- Trial time: 36.316031345000056\n",
            "- Trial weighted F1: 0.8480416698060846\n",
            "######################################################\n",
            "- Trial time: 36.92772758399997\n",
            "- Trial weighted F1: 0.8408875880107282\n",
            "######################################################\n",
            "- Trial time: 36.28065224300008\n",
            "- Trial weighted F1: 0.8754888483580192\n",
            "######################################################\n",
            "- Trial time: 36.287281455000084\n",
            "- Trial weighted F1: 0.853141410762725\n",
            "######################################################\n",
            "- Trial time: 36.88358394800025\n",
            "- Trial weighted F1: 0.8519771445717934\n",
            "######################################################\n",
            "- Trial time: 36.36820183499958\n",
            "- Trial weighted F1: 0.8629177061332236\n",
            "######################################################\n",
            "- Trial time: 38.05056819799984\n",
            "- Trial weighted F1: 0.8393057460384556\n",
            "######################################################\n",
            "- Trial time: 36.06720650300031\n",
            "- Trial weighted F1: 0.8745442642202647\n",
            "######################################################\n",
            "- Trial time: 36.072647467000024\n",
            "- Trial weighted F1: 0.8745442642202647\n",
            "######################################################\n",
            "- Trial time: 36.584009241999865\n",
            "- Trial weighted F1: 0.8435524407310374\n",
            "######################################################\n",
            "- Trial time: 36.59371895200002\n",
            "- Trial weighted F1: 0.8435524407310374\n",
            "######################################################\n",
            "- Trial time: 36.06245600000011\n",
            "- Trial weighted F1: 0.8871272944825377\n",
            "######################################################\n",
            "- Trial time: 36.391087662000245\n",
            "- Trial weighted F1: 0.8445266111128282\n",
            "######################################################\n",
            "- Trial time: 36.66257288399993\n",
            "- Trial weighted F1: 0.8546850260852006\n",
            "######################################################\n",
            "- Trial time: 37.049962093999966\n",
            "- Trial weighted F1: 0.8474108654253479\n",
            "######################################################\n",
            "- Trial time: 36.18221363500015\n",
            "- Trial weighted F1: 0.853141410762725\n",
            "######################################################\n",
            "- Trial time: 36.78765450400033\n",
            "- Trial weighted F1: 0.842684756167157\n",
            "######################################################\n",
            "- Trial time: 36.02978871899995\n",
            "- Trial weighted F1: 0.8745442642202647\n",
            "######################################################\n",
            "- Trial time: 36.01202559300009\n",
            "- Trial weighted F1: 0.8745442642202647\n",
            "######################################################\n",
            "- Trial time: 36.28538893899986\n",
            "- Trial weighted F1: 0.8455852941811514\n",
            "######################################################\n",
            "- Trial time: 36.12733156500008\n",
            "- Trial weighted F1: 0.8754888483580192\n",
            "######################################################\n",
            "- Trial time: 36.17993745099966\n",
            "- Trial weighted F1: 0.8676569511272121\n",
            "######################################################\n",
            "- Trial time: 36.36231937399998\n",
            "- Trial weighted F1: 0.8445266111128282\n",
            "######################################################\n",
            "- Trial time: 37.02957157600031\n",
            "- Trial weighted F1: 0.8485096554180344\n",
            "######################################################\n",
            "- Trial time: 36.09645622100015\n",
            "- Trial weighted F1: 0.8754888483580192\n",
            "######################################################\n",
            "- Trial time: 37.58679808399984\n",
            "- Trial weighted F1: 0.8367078503484335\n",
            "######################################################\n",
            "- Trial time: 36.30364265800017\n",
            "- Trial weighted F1: 0.8603934232030688\n",
            "######################################################\n",
            "- Trial time: 36.13629049699966\n",
            "- Trial weighted F1: 0.853141410762725\n",
            "######################################################\n",
            "- Trial time: 36.06346127300003\n",
            "- Trial weighted F1: 0.8615440085601886\n",
            "######################################################\n",
            "- Trial time: 36.09392266800023\n",
            "- Trial weighted F1: 0.8754888483580192\n",
            "######################################################\n",
            "- Trial time: 36.2271627770001\n",
            "- Trial weighted F1: 0.8629177061332236\n",
            "######################################################\n",
            "- Trial time: 36.390233351000006\n",
            "- Trial weighted F1: 0.8587364928479639\n",
            "######################################################\n",
            "- Trial time: 36.498658667999734\n",
            "- Trial weighted F1: 0.8435524407310374\n",
            "######################################################\n",
            "- Trial time: 36.04653003900012\n",
            "- Trial weighted F1: 0.8615440085601886\n",
            "######################################################\n",
            "- Trial time: 36.20367646299974\n",
            "- Trial weighted F1: 0.8480416698060846\n",
            "######################################################\n",
            "- Trial time: 36.602259284999946\n",
            "- Trial weighted F1: 0.8546850260852006\n",
            "######################################################\n",
            "- Trial time: 36.418549575999805\n",
            "- Trial weighted F1: 0.8441244386649177\n",
            "######################################################\n",
            "- Trial time: 36.0595173329998\n",
            "- Trial weighted F1: 0.8754888483580192\n",
            "######################################################\n",
            "- Trial time: 36.06279645299992\n",
            "- Trial weighted F1: 0.8615440085601886\n",
            "######################################################\n",
            "- Trial time: 36.17858206700021\n",
            "- Trial weighted F1: 0.8676569511272121\n",
            "######################################################\n",
            "- Trial time: 36.244510671999706\n",
            "- Trial weighted F1: 0.8629177061332236\n",
            "######################################################\n",
            "- Trial time: 36.07538908600009\n",
            "- Trial weighted F1: 0.8615440085601886\n",
            "######################################################\n",
            "- Trial time: 36.34309606199986\n",
            "- Trial weighted F1: 0.8455852941811514\n",
            "######################################################\n",
            "- Trial time: 36.00302987799978\n",
            "- Trial weighted F1: 0.8745442642202647\n",
            "######################################################\n",
            "- Trial time: 37.74671876499997\n",
            "- Trial weighted F1: 0.8426692948819388\n",
            "######################################################\n",
            "- Trial time: 36.17034522100039\n",
            "- Trial weighted F1: 0.8676569511272121\n",
            "######################################################\n",
            "- Trial time: 36.10277841800007\n",
            "- Trial weighted F1: 0.8754888483580192\n",
            "######################################################\n",
            "- Trial time: 37.946947334000015\n",
            "- Trial weighted F1: 0.8325299009947823\n",
            "######################################################\n",
            "- Trial time: 36.10315679699988\n",
            "- Trial weighted F1: 0.8754888483580192\n",
            "######################################################\n",
            "- Trial time: 36.20526885499976\n",
            "- Trial weighted F1: 0.8480416698060846\n",
            "######################################################\n",
            "- Trial time: 36.430426273000194\n",
            "- Trial weighted F1: 0.8441244386649177\n",
            "######################################################\n",
            "- Trial time: 36.02631821599971\n",
            "- Trial weighted F1: 0.8871272944825377\n",
            "######################################################\n",
            "- Trial time: 36.026756731000205\n",
            "- Trial weighted F1: 0.8871272944825377\n",
            "######################################################\n",
            "- Trial time: 36.00356014199997\n",
            "- Trial weighted F1: 0.8745442642202647\n",
            "######################################################\n",
            "- Trial time: 36.0135555920001\n",
            "- Trial weighted F1: 0.8871272944825377\n",
            "######################################################\n",
            "- Trial time: 36.02520637100042\n",
            "- Trial weighted F1: 0.8871272944825377\n",
            "######################################################\n",
            "- Trial time: 36.0052013630002\n",
            "- Trial weighted F1: 0.8871272944825377\n",
            "######################################################\n",
            "- Trial time: 36.016012570000385\n",
            "- Trial weighted F1: 0.8871272944825377\n",
            "######################################################\n",
            "- Trial time: 36.011518777000674\n",
            "- Trial weighted F1: 0.8871272944825377\n",
            "######################################################\n",
            "- Trial time: 36.022838507000415\n",
            "- Trial weighted F1: 0.8871272944825377\n",
            "######################################################\n",
            "- Trial time: 35.97637407300044\n",
            "- Trial weighted F1: 0.8745442642202647\n",
            "######################################################\n",
            "- Trial time: 36.17545940400032\n",
            "- Trial weighted F1: 0.8676569511272121\n",
            "######################################################\n",
            "- Trial time: 36.863731704999736\n",
            "- Trial weighted F1: 0.8401927855535841\n",
            "######################################################\n",
            "- Trial time: 36.19116328600012\n",
            "- Trial weighted F1: 0.8676569511272121\n",
            "######################################################\n",
            "- Trial time: 36.02054817299995\n",
            "- Trial weighted F1: 0.8871272944825377\n",
            "######################################################\n",
            "- Trial time: 36.264174269999785\n",
            "- Trial weighted F1: 0.8455852941811514\n",
            "######################################################\n",
            "- Trial time: 37.50956803200006\n",
            "- Trial weighted F1: 0.8372184155573122\n",
            "######################################################\n",
            "- Trial time: 36.01299299499988\n",
            "- Trial weighted F1: 0.8871272944825377\n",
            "######################################################\n",
            "- Trial time: 36.15561927100043\n",
            "- Trial weighted F1: 0.853141410762725\n",
            "######################################################\n",
            "- Trial time: 36.027823882999655\n",
            "- Trial weighted F1: 0.8871272944825377\n",
            "######################################################\n",
            "- Trial time: 36.11520892499993\n",
            "- Trial weighted F1: 0.8615440085601886\n",
            "######################################################\n",
            "- Trial time: 36.14003764100016\n",
            "- Trial weighted F1: 0.853141410762725\n",
            "######################################################\n",
            "- Trial time: 35.97803948500041\n",
            "- Trial weighted F1: 0.8745442642202647\n",
            "######################################################\n",
            "- Trial time: 36.212001699999746\n",
            "- Trial weighted F1: 0.8480416698060846\n",
            "######################################################\n",
            "- Trial time: 36.06297435500073\n",
            "- Trial weighted F1: 0.8615440085601886\n",
            "######################################################\n",
            "- Trial time: 36.3550243869995\n",
            "- Trial weighted F1: 0.8445266111128282\n",
            "######################################################\n",
            "- Trial time: 36.13054436799939\n",
            "- Trial weighted F1: 0.853141410762725\n",
            "######################################################\n",
            "- Trial time: 36.01928193299955\n",
            "- Trial weighted F1: 0.8871272944825377\n",
            "######################################################\n",
            "- Trial time: 36.04260725900076\n",
            "- Trial weighted F1: 0.8615440085601886\n",
            "######################################################\n",
            "- Trial time: 36.01933533800002\n",
            "- Trial weighted F1: 0.8871272944825377\n",
            "######################################################\n",
            "- Trial time: 36.228839926000546\n",
            "- Trial weighted F1: 0.8629177061332236\n",
            "######################################################\n",
            "- Trial time: 35.990715781999825\n",
            "- Trial weighted F1: 0.8745442642202647\n",
            "######################################################\n",
            "- Trial time: 36.12734301599994\n",
            "- Trial weighted F1: 0.853141410762725\n",
            "######################################################\n",
            "- Trial time: 36.018797527999595\n",
            "- Trial weighted F1: 0.8871272944825377\n",
            "######################################################\n",
            "- Trial time: 36.09064171499995\n",
            "- Trial weighted F1: 0.8754888483580192\n",
            "######################################################\n",
            "- Trial time: 36.28060964999986\n",
            "- Trial weighted F1: 0.8480416698060846\n",
            "######################################################\n",
            "- Trial time: 36.32329761999972\n",
            "- Trial weighted F1: 0.8603934232030688\n",
            "######################################################\n",
            "- Trial time: 36.055067774000236\n",
            "- Trial weighted F1: 0.8615440085601886\n",
            "######################################################\n",
            "- Trial time: 36.0014788389999\n",
            "- Trial weighted F1: 0.8871272944825377\n",
            "######################################################\n",
            "- Trial time: 35.97521123500064\n",
            "- Trial weighted F1: 0.8745442642202647\n",
            "######################################################\n",
            "- Trial time: 36.08834698700048\n",
            "- Trial weighted F1: 0.8754888483580192\n",
            "######################################################\n",
            "- Trial time: 36.02441988999999\n",
            "- Trial weighted F1: 0.8871272944825377\n",
            "######################################################\n",
            "- Trial time: 36.16777810200074\n",
            "- Trial weighted F1: 0.8676569511272121\n",
            "######################################################\n",
            "- Trial time: 36.04530865099969\n",
            "- Trial weighted F1: 0.8615440085601886\n",
            "######################################################\n",
            "- Trial time: 36.1332784440001\n",
            "- Trial weighted F1: 0.853141410762725\n",
            "######################################################\n",
            "- Trial time: 35.973095989000285\n",
            "- Trial weighted F1: 0.8745442642202647\n",
            "######################################################\n",
            "..dask_optuna             :  3651.7881\n",
            "Start Time           2022-06-15 03:40:57.848260\n",
            "End Time             2022-06-15 04:41:49.636546\n",
            "1:00:51\n",
            "\n",
            "\n",
            "Number of finished trials: 100\n",
            "Best trial: {'n_neighbors': 4, 'metric': 'euclidean'}\n",
            "Highest F1 Score 0.8871272944825377\n"
          ]
        }
      ],
      "source": [
        "with timed('dask_optuna'):\n",
        "    # Begin HPO trials \n",
        "    # Start timer for experiment\n",
        "    start_time = datetime.now()\n",
        "    print('%-20s %s' % ('Start Time', start_time))\n",
        "    if os.path.isfile('KNN_Optuna_SMOTE_100_GPU_weightedF1.pkl'): \n",
        "      study = joblib.load('KNN_Optuna_SMOTE_100_GPU_weightedF1.pkl')\n",
        "    else: \n",
        "      study = optuna.create_study(sampler=optuna.samplers.TPESampler(), \n",
        "                                  study_name=study_name,\n",
        "                                  direction='maximize')\n",
        "      \n",
        "    # Optimize in parallel on Dask cluster\n",
        "    with parallel_backend('dask'):\n",
        "        study.optimize(lambda trial: objective(trial, X_train, y_train), \n",
        "                       n_trials=100,\n",
        "                       n_jobs=n_workers)\n",
        "\n",
        "# End timer for experiment\n",
        "end_time = datetime.now()\n",
        "print('%-20s %s' % ('Start Time', start_time))\n",
        "print('%-20s %s' % ('End Time', end_time))\n",
        "print(str(timedelta(seconds=(end_time-start_time).seconds)))\n",
        "print('\\n')\n",
        "print('Number of finished trials:', len(study.trials))\n",
        "print('Best trial:', study.best_trial.params)\n",
        "print('Highest F1 Score', study.best_value)"
      ]
    },
    {
      "cell_type": "code",
      "source": [
        "%cd /content/drive/MyDrive/LoanStatus/Python/Models/ML/KNN/Optuna/trialOptions/"
      ],
      "metadata": {
        "colab": {
          "base_uri": "https://localhost:8080/"
        },
        "outputId": "d5ebbb01-249d-4e7d-ddf1-01e73e3bc864",
        "id": "CqhcHLQxlX7f"
      },
      "execution_count": null,
      "outputs": [
        {
          "output_type": "stream",
          "name": "stdout",
          "text": [
            "/content/drive/MyDrive/LoanStatus/Python/Models/ML/KNN/Optuna/trialOptions\n"
          ]
        }
      ]
    },
    {
      "cell_type": "code",
      "execution_count": null,
      "metadata": {
        "colab": {
          "base_uri": "https://localhost:8080/"
        },
        "id": "03Fn8BhHfNSf",
        "outputId": "c76b4cfc-51c1-47cd-fbc9-6911281aa832"
      },
      "outputs": [
        {
          "name": "stdout",
          "output_type": "stream",
          "text": [
            "    iteration  f1_weighted             datetime_start  \\\n",
            "63         63     0.887127 2022-06-15 04:19:24.813360   \n",
            "60         60     0.887127 2022-06-15 04:17:36.183038   \n",
            "56         56     0.887127 2022-06-15 04:15:11.340191   \n",
            "71         71     0.887127 2022-06-15 04:24:17.413753   \n",
            "87         87     0.887127 2022-06-15 04:33:58.036005   \n",
            "..        ...          ...                        ...   \n",
            "29         29     0.836708 2022-06-15 03:58:44.106483   \n",
            "0           0     0.835964 2022-06-15 03:40:57.853508   \n",
            "1           1     0.834490 2022-06-15 03:41:35.790828   \n",
            "51         51     0.832530 2022-06-15 04:12:07.662774   \n",
            "99         99          NaN 2022-06-15 04:41:13.517968   \n",
            "\n",
            "            datetime_complete               duration     metric  n_neighbors  \\\n",
            "63 2022-06-15 04:20:01.025956 0 days 00:00:36.212596  manhattan          4.0   \n",
            "60 2022-06-15 04:18:12.431706 0 days 00:00:36.248668  manhattan          4.0   \n",
            "56 2022-06-15 04:15:47.583367 0 days 00:00:36.243176  manhattan          4.0   \n",
            "71 2022-06-15 04:24:53.575050 0 days 00:00:36.161297  manhattan          4.0   \n",
            "87 2022-06-15 04:34:34.202760 0 days 00:00:36.166755  manhattan          4.0   \n",
            "..                        ...                    ...        ...          ...   \n",
            "29 2022-06-15 03:59:21.902304 0 days 00:00:37.795821  chebyshev         37.0   \n",
            "0  2022-06-15 03:41:35.790635 0 days 00:00:37.937127  chebyshev         39.0   \n",
            "1  2022-06-15 03:42:13.990709 0 days 00:00:38.199881  manhattan         43.0   \n",
            "51 2022-06-15 04:12:45.823269 0 days 00:00:38.160495  chebyshev         49.0   \n",
            "99                        NaT                    NaT        NaN          NaN   \n",
            "\n",
            "       state  \n",
            "63  COMPLETE  \n",
            "60  COMPLETE  \n",
            "56  COMPLETE  \n",
            "71  COMPLETE  \n",
            "87  COMPLETE  \n",
            "..       ...  \n",
            "29  COMPLETE  \n",
            "0   COMPLETE  \n",
            "1   COMPLETE  \n",
            "51  COMPLETE  \n",
            "99   RUNNING  \n",
            "\n",
            "[100 rows x 8 columns]\n"
          ]
        }
      ],
      "source": [
        "# Output from HPO trials\n",
        "trials_df = study.trials_dataframe()\n",
        "trials_df.rename(columns={'number': 'iteration'}, inplace=True)\n",
        "trials_df.rename(columns={'value': 'f1_weighted'}, inplace=True)\n",
        "trials_df.rename(columns={'params_metric': 'metric'}, inplace=True)\n",
        "trials_df.rename(columns={'params_n_neighbors': 'n_neighbors'}, inplace=True)\n",
        "\n",
        "# Write processed data to csv\n",
        "trials_df = trials_df.sort_values('f1_weighted', ascending=False)\n",
        "trials_df.to_csv('KNN_Optuna_SMOTE_100_GPU_weightedF1.csv', index=False)\n",
        "print(trials_df) "
      ]
    },
    {
      "cell_type": "code",
      "source": [
        "%cd /content/drive/MyDrive/LoanStatus/Python/Models/ML/KNN/Optuna/Model_Explanations/"
      ],
      "metadata": {
        "colab": {
          "base_uri": "https://localhost:8080/"
        },
        "outputId": "669962b4-0ef7-4ee8-822e-724a890a3555",
        "id": "tHj7EKt8lX7g"
      },
      "execution_count": null,
      "outputs": [
        {
          "output_type": "stream",
          "name": "stdout",
          "text": [
            "/content/drive/MyDrive/LoanStatus/Python/Models/ML/KNN/Optuna/Model_Explanations\n"
          ]
        }
      ]
    },
    {
      "cell_type": "code",
      "execution_count": null,
      "metadata": {
        "colab": {
          "base_uri": "https://localhost:8080/",
          "height": 542
        },
        "id": "j2R1Zz4r5xkX",
        "outputId": "553ff45d-6d80-4357-fa39-749e7a2b7627"
      },
      "outputs": [
        {
          "data": {
            "text/html": [
              "<html>\n",
              "<head><meta charset=\"utf-8\" /></head>\n",
              "<body>\n",
              "    <div>            <script src=\"https://cdnjs.cloudflare.com/ajax/libs/mathjax/2.7.5/MathJax.js?config=TeX-AMS-MML_SVG\"></script><script type=\"text/javascript\">if (window.MathJax) {MathJax.Hub.Config({SVG: {font: \"STIX-Web\"}});}</script>                <script type=\"text/javascript\">window.PlotlyConfig = {MathJaxConfig: 'local'};</script>\n",
              "        <script src=\"https://cdn.plot.ly/plotly-2.8.3.min.js\"></script>                <div id=\"7aa8f31e-0537-426e-b9bf-d73acf47e0f6\" class=\"plotly-graph-div\" style=\"height:525px; width:100%;\"></div>            <script type=\"text/javascript\">                                    window.PLOTLYENV=window.PLOTLYENV || {};                                    if (document.getElementById(\"7aa8f31e-0537-426e-b9bf-d73acf47e0f6\")) {                    Plotly.newPlot(                        \"7aa8f31e-0537-426e-b9bf-d73acf47e0f6\",                        [{\"mode\":\"markers\",\"name\":\"Objective Value\",\"x\":[0,1,2,3,4,5,6,7,8,9,10,11,12,13,14,15,16,17,18,19,20,21,22,23,24,25,26,27,28,29,30,31,32,33,34,35,36,37,38,39,40,41,42,43,44,45,46,47,48,49,50,51,52,53,54,55,56,57,58,59,60,61,62,63,64,65,66,67,68,69,70,71,72,73,74,75,76,77,78,79,80,81,82,83,84,85,86,87,88,89,90,91,92,93,94,95,96,97,98,99],\"y\":[0.8359641577884183,0.8344895377359629,0.8387366839780154,0.8441244386649177,0.8480416698060846,0.8408875880107282,0.8754888483580192,0.853141410762725,0.8519771445717934,0.8629177061332236,0.8393057460384556,0.8745442642202647,0.8745442642202647,0.8435524407310374,0.8435524407310374,0.8871272944825377,0.8445266111128282,0.8546850260852006,0.8474108654253479,0.853141410762725,0.842684756167157,0.8745442642202647,0.8745442642202647,0.8455852941811514,0.8754888483580192,0.8676569511272121,0.8445266111128282,0.8485096554180344,0.8754888483580192,0.8367078503484335,0.8603934232030688,0.853141410762725,0.8615440085601886,0.8754888483580192,0.8629177061332236,0.8587364928479639,0.8435524407310374,0.8615440085601886,0.8480416698060846,0.8546850260852006,0.8441244386649177,0.8754888483580192,0.8615440085601886,0.8676569511272121,0.8629177061332236,0.8615440085601886,0.8455852941811514,0.8745442642202647,0.8426692948819388,0.8676569511272121,0.8754888483580192,0.8325299009947823,0.8754888483580192,0.8480416698060846,0.8441244386649177,0.8871272944825377,0.8871272944825377,0.8745442642202647,0.8871272944825377,0.8871272944825377,0.8871272944825377,0.8871272944825377,0.8871272944825377,0.8871272944825377,0.8745442642202647,0.8676569511272121,0.8401927855535841,0.8676569511272121,0.8871272944825377,0.8455852941811514,0.8372184155573122,0.8871272944825377,0.853141410762725,0.8871272944825377,0.8615440085601886,0.853141410762725,0.8745442642202647,0.8480416698060846,0.8615440085601886,0.8445266111128282,0.853141410762725,0.8871272944825377,0.8615440085601886,0.8871272944825377,0.8629177061332236,0.8745442642202647,0.853141410762725,0.8871272944825377,0.8754888483580192,0.8480416698060846,0.8603934232030688,0.8615440085601886,0.8871272944825377,0.8745442642202647,0.8754888483580192,0.8871272944825377,0.8676569511272121,0.8615440085601886,0.853141410762725,0.8745442642202647],\"type\":\"scatter\"},{\"name\":\"Best Value\",\"x\":[0,1,2,3,4,5,6,7,8,9,10,11,12,13,14,15,16,17,18,19,20,21,22,23,24,25,26,27,28,29,30,31,32,33,34,35,36,37,38,39,40,41,42,43,44,45,46,47,48,49,50,51,52,53,54,55,56,57,58,59,60,61,62,63,64,65,66,67,68,69,70,71,72,73,74,75,76,77,78,79,80,81,82,83,84,85,86,87,88,89,90,91,92,93,94,95,96,97,98,99],\"y\":[0.8359641577884183,0.8359641577884183,0.8387366839780154,0.8441244386649177,0.8480416698060846,0.8480416698060846,0.8754888483580192,0.8754888483580192,0.8754888483580192,0.8754888483580192,0.8754888483580192,0.8754888483580192,0.8754888483580192,0.8754888483580192,0.8754888483580192,0.8871272944825377,0.8871272944825377,0.8871272944825377,0.8871272944825377,0.8871272944825377,0.8871272944825377,0.8871272944825377,0.8871272944825377,0.8871272944825377,0.8871272944825377,0.8871272944825377,0.8871272944825377,0.8871272944825377,0.8871272944825377,0.8871272944825377,0.8871272944825377,0.8871272944825377,0.8871272944825377,0.8871272944825377,0.8871272944825377,0.8871272944825377,0.8871272944825377,0.8871272944825377,0.8871272944825377,0.8871272944825377,0.8871272944825377,0.8871272944825377,0.8871272944825377,0.8871272944825377,0.8871272944825377,0.8871272944825377,0.8871272944825377,0.8871272944825377,0.8871272944825377,0.8871272944825377,0.8871272944825377,0.8871272944825377,0.8871272944825377,0.8871272944825377,0.8871272944825377,0.8871272944825377,0.8871272944825377,0.8871272944825377,0.8871272944825377,0.8871272944825377,0.8871272944825377,0.8871272944825377,0.8871272944825377,0.8871272944825377,0.8871272944825377,0.8871272944825377,0.8871272944825377,0.8871272944825377,0.8871272944825377,0.8871272944825377,0.8871272944825377,0.8871272944825377,0.8871272944825377,0.8871272944825377,0.8871272944825377,0.8871272944825377,0.8871272944825377,0.8871272944825377,0.8871272944825377,0.8871272944825377,0.8871272944825377,0.8871272944825377,0.8871272944825377,0.8871272944825377,0.8871272944825377,0.8871272944825377,0.8871272944825377,0.8871272944825377,0.8871272944825377,0.8871272944825377,0.8871272944825377,0.8871272944825377,0.8871272944825377,0.8871272944825377,0.8871272944825377,0.8871272944825377,0.8871272944825377,0.8871272944825377,0.8871272944825377,0.8871272944825377],\"type\":\"scatter\"}],                        {\"title\":{\"text\":\"Optimization History Plot\"},\"xaxis\":{\"title\":{\"text\":\"#Trials\"}},\"yaxis\":{\"title\":{\"text\":\"Objective Value\"}},\"template\":{\"data\":{\"bar\":[{\"error_x\":{\"color\":\"#2a3f5f\"},\"error_y\":{\"color\":\"#2a3f5f\"},\"marker\":{\"line\":{\"color\":\"#E5ECF6\",\"width\":0.5},\"pattern\":{\"fillmode\":\"overlay\",\"size\":10,\"solidity\":0.2}},\"type\":\"bar\"}],\"barpolar\":[{\"marker\":{\"line\":{\"color\":\"#E5ECF6\",\"width\":0.5},\"pattern\":{\"fillmode\":\"overlay\",\"size\":10,\"solidity\":0.2}},\"type\":\"barpolar\"}],\"carpet\":[{\"aaxis\":{\"endlinecolor\":\"#2a3f5f\",\"gridcolor\":\"white\",\"linecolor\":\"white\",\"minorgridcolor\":\"white\",\"startlinecolor\":\"#2a3f5f\"},\"baxis\":{\"endlinecolor\":\"#2a3f5f\",\"gridcolor\":\"white\",\"linecolor\":\"white\",\"minorgridcolor\":\"white\",\"startlinecolor\":\"#2a3f5f\"},\"type\":\"carpet\"}],\"choropleth\":[{\"colorbar\":{\"outlinewidth\":0,\"ticks\":\"\"},\"type\":\"choropleth\"}],\"contour\":[{\"colorbar\":{\"outlinewidth\":0,\"ticks\":\"\"},\"colorscale\":[[0.0,\"#0d0887\"],[0.1111111111111111,\"#46039f\"],[0.2222222222222222,\"#7201a8\"],[0.3333333333333333,\"#9c179e\"],[0.4444444444444444,\"#bd3786\"],[0.5555555555555556,\"#d8576b\"],[0.6666666666666666,\"#ed7953\"],[0.7777777777777778,\"#fb9f3a\"],[0.8888888888888888,\"#fdca26\"],[1.0,\"#f0f921\"]],\"type\":\"contour\"}],\"contourcarpet\":[{\"colorbar\":{\"outlinewidth\":0,\"ticks\":\"\"},\"type\":\"contourcarpet\"}],\"heatmap\":[{\"colorbar\":{\"outlinewidth\":0,\"ticks\":\"\"},\"colorscale\":[[0.0,\"#0d0887\"],[0.1111111111111111,\"#46039f\"],[0.2222222222222222,\"#7201a8\"],[0.3333333333333333,\"#9c179e\"],[0.4444444444444444,\"#bd3786\"],[0.5555555555555556,\"#d8576b\"],[0.6666666666666666,\"#ed7953\"],[0.7777777777777778,\"#fb9f3a\"],[0.8888888888888888,\"#fdca26\"],[1.0,\"#f0f921\"]],\"type\":\"heatmap\"}],\"heatmapgl\":[{\"colorbar\":{\"outlinewidth\":0,\"ticks\":\"\"},\"colorscale\":[[0.0,\"#0d0887\"],[0.1111111111111111,\"#46039f\"],[0.2222222222222222,\"#7201a8\"],[0.3333333333333333,\"#9c179e\"],[0.4444444444444444,\"#bd3786\"],[0.5555555555555556,\"#d8576b\"],[0.6666666666666666,\"#ed7953\"],[0.7777777777777778,\"#fb9f3a\"],[0.8888888888888888,\"#fdca26\"],[1.0,\"#f0f921\"]],\"type\":\"heatmapgl\"}],\"histogram\":[{\"marker\":{\"pattern\":{\"fillmode\":\"overlay\",\"size\":10,\"solidity\":0.2}},\"type\":\"histogram\"}],\"histogram2d\":[{\"colorbar\":{\"outlinewidth\":0,\"ticks\":\"\"},\"colorscale\":[[0.0,\"#0d0887\"],[0.1111111111111111,\"#46039f\"],[0.2222222222222222,\"#7201a8\"],[0.3333333333333333,\"#9c179e\"],[0.4444444444444444,\"#bd3786\"],[0.5555555555555556,\"#d8576b\"],[0.6666666666666666,\"#ed7953\"],[0.7777777777777778,\"#fb9f3a\"],[0.8888888888888888,\"#fdca26\"],[1.0,\"#f0f921\"]],\"type\":\"histogram2d\"}],\"histogram2dcontour\":[{\"colorbar\":{\"outlinewidth\":0,\"ticks\":\"\"},\"colorscale\":[[0.0,\"#0d0887\"],[0.1111111111111111,\"#46039f\"],[0.2222222222222222,\"#7201a8\"],[0.3333333333333333,\"#9c179e\"],[0.4444444444444444,\"#bd3786\"],[0.5555555555555556,\"#d8576b\"],[0.6666666666666666,\"#ed7953\"],[0.7777777777777778,\"#fb9f3a\"],[0.8888888888888888,\"#fdca26\"],[1.0,\"#f0f921\"]],\"type\":\"histogram2dcontour\"}],\"mesh3d\":[{\"colorbar\":{\"outlinewidth\":0,\"ticks\":\"\"},\"type\":\"mesh3d\"}],\"parcoords\":[{\"line\":{\"colorbar\":{\"outlinewidth\":0,\"ticks\":\"\"}},\"type\":\"parcoords\"}],\"pie\":[{\"automargin\":true,\"type\":\"pie\"}],\"scatter\":[{\"marker\":{\"colorbar\":{\"outlinewidth\":0,\"ticks\":\"\"}},\"type\":\"scatter\"}],\"scatter3d\":[{\"line\":{\"colorbar\":{\"outlinewidth\":0,\"ticks\":\"\"}},\"marker\":{\"colorbar\":{\"outlinewidth\":0,\"ticks\":\"\"}},\"type\":\"scatter3d\"}],\"scattercarpet\":[{\"marker\":{\"colorbar\":{\"outlinewidth\":0,\"ticks\":\"\"}},\"type\":\"scattercarpet\"}],\"scattergeo\":[{\"marker\":{\"colorbar\":{\"outlinewidth\":0,\"ticks\":\"\"}},\"type\":\"scattergeo\"}],\"scattergl\":[{\"marker\":{\"colorbar\":{\"outlinewidth\":0,\"ticks\":\"\"}},\"type\":\"scattergl\"}],\"scattermapbox\":[{\"marker\":{\"colorbar\":{\"outlinewidth\":0,\"ticks\":\"\"}},\"type\":\"scattermapbox\"}],\"scatterpolar\":[{\"marker\":{\"colorbar\":{\"outlinewidth\":0,\"ticks\":\"\"}},\"type\":\"scatterpolar\"}],\"scatterpolargl\":[{\"marker\":{\"colorbar\":{\"outlinewidth\":0,\"ticks\":\"\"}},\"type\":\"scatterpolargl\"}],\"scatterternary\":[{\"marker\":{\"colorbar\":{\"outlinewidth\":0,\"ticks\":\"\"}},\"type\":\"scatterternary\"}],\"surface\":[{\"colorbar\":{\"outlinewidth\":0,\"ticks\":\"\"},\"colorscale\":[[0.0,\"#0d0887\"],[0.1111111111111111,\"#46039f\"],[0.2222222222222222,\"#7201a8\"],[0.3333333333333333,\"#9c179e\"],[0.4444444444444444,\"#bd3786\"],[0.5555555555555556,\"#d8576b\"],[0.6666666666666666,\"#ed7953\"],[0.7777777777777778,\"#fb9f3a\"],[0.8888888888888888,\"#fdca26\"],[1.0,\"#f0f921\"]],\"type\":\"surface\"}],\"table\":[{\"cells\":{\"fill\":{\"color\":\"#EBF0F8\"},\"line\":{\"color\":\"white\"}},\"header\":{\"fill\":{\"color\":\"#C8D4E3\"},\"line\":{\"color\":\"white\"}},\"type\":\"table\"}]},\"layout\":{\"annotationdefaults\":{\"arrowcolor\":\"#2a3f5f\",\"arrowhead\":0,\"arrowwidth\":1},\"autotypenumbers\":\"strict\",\"coloraxis\":{\"colorbar\":{\"outlinewidth\":0,\"ticks\":\"\"}},\"colorscale\":{\"diverging\":[[0,\"#8e0152\"],[0.1,\"#c51b7d\"],[0.2,\"#de77ae\"],[0.3,\"#f1b6da\"],[0.4,\"#fde0ef\"],[0.5,\"#f7f7f7\"],[0.6,\"#e6f5d0\"],[0.7,\"#b8e186\"],[0.8,\"#7fbc41\"],[0.9,\"#4d9221\"],[1,\"#276419\"]],\"sequential\":[[0.0,\"#0d0887\"],[0.1111111111111111,\"#46039f\"],[0.2222222222222222,\"#7201a8\"],[0.3333333333333333,\"#9c179e\"],[0.4444444444444444,\"#bd3786\"],[0.5555555555555556,\"#d8576b\"],[0.6666666666666666,\"#ed7953\"],[0.7777777777777778,\"#fb9f3a\"],[0.8888888888888888,\"#fdca26\"],[1.0,\"#f0f921\"]],\"sequentialminus\":[[0.0,\"#0d0887\"],[0.1111111111111111,\"#46039f\"],[0.2222222222222222,\"#7201a8\"],[0.3333333333333333,\"#9c179e\"],[0.4444444444444444,\"#bd3786\"],[0.5555555555555556,\"#d8576b\"],[0.6666666666666666,\"#ed7953\"],[0.7777777777777778,\"#fb9f3a\"],[0.8888888888888888,\"#fdca26\"],[1.0,\"#f0f921\"]]},\"colorway\":[\"#636efa\",\"#EF553B\",\"#00cc96\",\"#ab63fa\",\"#FFA15A\",\"#19d3f3\",\"#FF6692\",\"#B6E880\",\"#FF97FF\",\"#FECB52\"],\"font\":{\"color\":\"#2a3f5f\"},\"geo\":{\"bgcolor\":\"white\",\"lakecolor\":\"white\",\"landcolor\":\"#E5ECF6\",\"showlakes\":true,\"showland\":true,\"subunitcolor\":\"white\"},\"hoverlabel\":{\"align\":\"left\"},\"hovermode\":\"closest\",\"mapbox\":{\"style\":\"light\"},\"paper_bgcolor\":\"white\",\"plot_bgcolor\":\"#E5ECF6\",\"polar\":{\"angularaxis\":{\"gridcolor\":\"white\",\"linecolor\":\"white\",\"ticks\":\"\"},\"bgcolor\":\"#E5ECF6\",\"radialaxis\":{\"gridcolor\":\"white\",\"linecolor\":\"white\",\"ticks\":\"\"}},\"scene\":{\"xaxis\":{\"backgroundcolor\":\"#E5ECF6\",\"gridcolor\":\"white\",\"gridwidth\":2,\"linecolor\":\"white\",\"showbackground\":true,\"ticks\":\"\",\"zerolinecolor\":\"white\"},\"yaxis\":{\"backgroundcolor\":\"#E5ECF6\",\"gridcolor\":\"white\",\"gridwidth\":2,\"linecolor\":\"white\",\"showbackground\":true,\"ticks\":\"\",\"zerolinecolor\":\"white\"},\"zaxis\":{\"backgroundcolor\":\"#E5ECF6\",\"gridcolor\":\"white\",\"gridwidth\":2,\"linecolor\":\"white\",\"showbackground\":true,\"ticks\":\"\",\"zerolinecolor\":\"white\"}},\"shapedefaults\":{\"line\":{\"color\":\"#2a3f5f\"}},\"ternary\":{\"aaxis\":{\"gridcolor\":\"white\",\"linecolor\":\"white\",\"ticks\":\"\"},\"baxis\":{\"gridcolor\":\"white\",\"linecolor\":\"white\",\"ticks\":\"\"},\"bgcolor\":\"#E5ECF6\",\"caxis\":{\"gridcolor\":\"white\",\"linecolor\":\"white\",\"ticks\":\"\"}},\"title\":{\"x\":0.05},\"xaxis\":{\"automargin\":true,\"gridcolor\":\"white\",\"linecolor\":\"white\",\"ticks\":\"\",\"title\":{\"standoff\":15},\"zerolinecolor\":\"white\",\"zerolinewidth\":2},\"yaxis\":{\"automargin\":true,\"gridcolor\":\"white\",\"linecolor\":\"white\",\"ticks\":\"\",\"title\":{\"standoff\":15},\"zerolinecolor\":\"white\",\"zerolinewidth\":2}}}},                        {\"responsive\": true}                    ).then(function(){\n",
              "                            \n",
              "var gd = document.getElementById('7aa8f31e-0537-426e-b9bf-d73acf47e0f6');\n",
              "var x = new MutationObserver(function (mutations, observer) {{\n",
              "        var display = window.getComputedStyle(gd).display;\n",
              "        if (!display || display === 'none') {{\n",
              "            console.log([gd, 'removed!']);\n",
              "            Plotly.purge(gd);\n",
              "            observer.disconnect();\n",
              "        }}\n",
              "}});\n",
              "\n",
              "// Listen for the removal of the full notebook cells\n",
              "var notebookContainer = gd.closest('#notebook-container');\n",
              "if (notebookContainer) {{\n",
              "    x.observe(notebookContainer, {childList: true});\n",
              "}}\n",
              "\n",
              "// Listen for the clearing of the current output cell\n",
              "var outputEl = gd.closest('.output');\n",
              "if (outputEl) {{\n",
              "    x.observe(outputEl, {childList: true});\n",
              "}}\n",
              "\n",
              "                        })                };                            </script>        </div>\n",
              "</body>\n",
              "</html>"
            ]
          },
          "metadata": {},
          "output_type": "display_data"
        }
      ],
      "source": [
        "# Plot_optimization_history: shows the scores from all trials as well as the best score so far at each point.\n",
        "fig = optuna.visualization.plot_optimization_history(study)\n",
        "py.plot(fig, filename='optimizationHistory_KNN_Optuna_SMOTE_100_GPU_weightedF1.html')\n",
        "fig.show()"
      ]
    },
    {
      "cell_type": "code",
      "execution_count": null,
      "metadata": {
        "colab": {
          "base_uri": "https://localhost:8080/",
          "height": 542
        },
        "id": "HhcsxqSzdHsr",
        "outputId": "c76b8cdf-6bc6-4b73-89ee-e11a2750309a"
      },
      "outputs": [
        {
          "data": {
            "text/html": [
              "<html>\n",
              "<head><meta charset=\"utf-8\" /></head>\n",
              "<body>\n",
              "    <div>            <script src=\"https://cdnjs.cloudflare.com/ajax/libs/mathjax/2.7.5/MathJax.js?config=TeX-AMS-MML_SVG\"></script><script type=\"text/javascript\">if (window.MathJax) {MathJax.Hub.Config({SVG: {font: \"STIX-Web\"}});}</script>                <script type=\"text/javascript\">window.PlotlyConfig = {MathJaxConfig: 'local'};</script>\n",
              "        <script src=\"https://cdn.plot.ly/plotly-2.8.3.min.js\"></script>                <div id=\"001da53b-cc01-423b-a59a-f2d9de3db5e5\" class=\"plotly-graph-div\" style=\"height:525px; width:100%;\"></div>            <script type=\"text/javascript\">                                    window.PLOTLYENV=window.PLOTLYENV || {};                                    if (document.getElementById(\"001da53b-cc01-423b-a59a-f2d9de3db5e5\")) {                    Plotly.newPlot(                        \"001da53b-cc01-423b-a59a-f2d9de3db5e5\",                        [{\"dimensions\":[{\"label\":\"Objective Value\",\"range\":[0.8325299009947823,0.8871272944825377],\"values\":[0.8359641577884183,0.8344895377359629,0.8387366839780154,0.8441244386649177,0.8480416698060846,0.8408875880107282,0.8754888483580192,0.853141410762725,0.8519771445717934,0.8629177061332236,0.8393057460384556,0.8745442642202647,0.8745442642202647,0.8435524407310374,0.8435524407310374,0.8871272944825377,0.8445266111128282,0.8546850260852006,0.8474108654253479,0.853141410762725,0.842684756167157,0.8745442642202647,0.8745442642202647,0.8455852941811514,0.8754888483580192,0.8676569511272121,0.8445266111128282,0.8485096554180344,0.8754888483580192,0.8367078503484335,0.8603934232030688,0.853141410762725,0.8615440085601886,0.8754888483580192,0.8629177061332236,0.8587364928479639,0.8435524407310374,0.8615440085601886,0.8480416698060846,0.8546850260852006,0.8441244386649177,0.8754888483580192,0.8615440085601886,0.8676569511272121,0.8629177061332236,0.8615440085601886,0.8455852941811514,0.8745442642202647,0.8426692948819388,0.8676569511272121,0.8754888483580192,0.8325299009947823,0.8754888483580192,0.8480416698060846,0.8441244386649177,0.8871272944825377,0.8871272944825377,0.8745442642202647,0.8871272944825377,0.8871272944825377,0.8871272944825377,0.8871272944825377,0.8871272944825377,0.8871272944825377,0.8745442642202647,0.8676569511272121,0.8401927855535841,0.8676569511272121,0.8871272944825377,0.8455852941811514,0.8372184155573122,0.8871272944825377,0.853141410762725,0.8871272944825377,0.8615440085601886,0.853141410762725,0.8745442642202647,0.8480416698060846,0.8615440085601886,0.8445266111128282,0.853141410762725,0.8871272944825377,0.8615440085601886,0.8871272944825377,0.8629177061332236,0.8745442642202647,0.853141410762725,0.8871272944825377,0.8754888483580192,0.8480416698060846,0.8603934232030688,0.8615440085601886,0.8871272944825377,0.8745442642202647,0.8754888483580192,0.8871272944825377,0.8676569511272121,0.8615440085601886,0.853141410762725,0.8745442642202647]},{\"label\":\"metric\",\"range\":[0,3],\"ticktext\":[\"chebyshev\",\"manhattan\",\"minkowski\",\"euclidean\"],\"tickvals\":[0,1,2,3],\"values\":[0,1,2,2,1,0,0,2,1,2,3,0,0,0,0,3,3,3,3,3,3,0,0,0,0,0,3,1,0,0,3,0,0,0,0,1,2,0,0,2,0,0,0,1,0,0,2,0,3,0,0,0,0,0,3,0,1,1,1,1,1,1,1,1,1,1,1,1,1,1,1,1,1,1,1,1,1,1,1,3,1,1,1,1,1,1,1,1,2,3,1,1,1,1,1,3,1,2,1,1]},{\"label\":\"n_neighbors\",\"range\":[3,50],\"values\":[39,43,31,15,9,25,6,7,24,10,50,3,3,17,17,4,13,20,32,7,21,3,3,11,6,8,13,30,6,37,12,7,5,6,10,14,17,5,9,20,15,6,5,8,10,5,11,3,42,8,6,49,6,9,15,4,4,3,4,4,4,4,4,4,3,8,27,8,4,11,35,4,7,4,5,7,3,9,5,13,7,4,5,4,10,3,7,4,6,9,12,5,4,3,6,4,8,5,7,3]}],\"labelangle\":30,\"labelside\":\"bottom\",\"line\":{\"color\":[0.8359641577884183,0.8344895377359629,0.8387366839780154,0.8441244386649177,0.8480416698060846,0.8408875880107282,0.8754888483580192,0.853141410762725,0.8519771445717934,0.8629177061332236,0.8393057460384556,0.8745442642202647,0.8745442642202647,0.8435524407310374,0.8435524407310374,0.8871272944825377,0.8445266111128282,0.8546850260852006,0.8474108654253479,0.853141410762725,0.842684756167157,0.8745442642202647,0.8745442642202647,0.8455852941811514,0.8754888483580192,0.8676569511272121,0.8445266111128282,0.8485096554180344,0.8754888483580192,0.8367078503484335,0.8603934232030688,0.853141410762725,0.8615440085601886,0.8754888483580192,0.8629177061332236,0.8587364928479639,0.8435524407310374,0.8615440085601886,0.8480416698060846,0.8546850260852006,0.8441244386649177,0.8754888483580192,0.8615440085601886,0.8676569511272121,0.8629177061332236,0.8615440085601886,0.8455852941811514,0.8745442642202647,0.8426692948819388,0.8676569511272121,0.8754888483580192,0.8325299009947823,0.8754888483580192,0.8480416698060846,0.8441244386649177,0.8871272944825377,0.8871272944825377,0.8745442642202647,0.8871272944825377,0.8871272944825377,0.8871272944825377,0.8871272944825377,0.8871272944825377,0.8871272944825377,0.8745442642202647,0.8676569511272121,0.8401927855535841,0.8676569511272121,0.8871272944825377,0.8455852941811514,0.8372184155573122,0.8871272944825377,0.853141410762725,0.8871272944825377,0.8615440085601886,0.853141410762725,0.8745442642202647,0.8480416698060846,0.8615440085601886,0.8445266111128282,0.853141410762725,0.8871272944825377,0.8615440085601886,0.8871272944825377,0.8629177061332236,0.8745442642202647,0.853141410762725,0.8871272944825377,0.8754888483580192,0.8480416698060846,0.8603934232030688,0.8615440085601886,0.8871272944825377,0.8745442642202647,0.8754888483580192,0.8871272944825377,0.8676569511272121,0.8615440085601886,0.853141410762725,0.8745442642202647],\"colorbar\":{\"title\":{\"text\":\"Objective Value\"}},\"colorscale\":[[0.0,\"rgb(247,251,255)\"],[0.125,\"rgb(222,235,247)\"],[0.25,\"rgb(198,219,239)\"],[0.375,\"rgb(158,202,225)\"],[0.5,\"rgb(107,174,214)\"],[0.625,\"rgb(66,146,198)\"],[0.75,\"rgb(33,113,181)\"],[0.875,\"rgb(8,81,156)\"],[1.0,\"rgb(8,48,107)\"]],\"reversescale\":false,\"showscale\":true},\"type\":\"parcoords\"}],                        {\"title\":{\"text\":\"Parallel Coordinate Plot\"},\"template\":{\"data\":{\"bar\":[{\"error_x\":{\"color\":\"#2a3f5f\"},\"error_y\":{\"color\":\"#2a3f5f\"},\"marker\":{\"line\":{\"color\":\"#E5ECF6\",\"width\":0.5},\"pattern\":{\"fillmode\":\"overlay\",\"size\":10,\"solidity\":0.2}},\"type\":\"bar\"}],\"barpolar\":[{\"marker\":{\"line\":{\"color\":\"#E5ECF6\",\"width\":0.5},\"pattern\":{\"fillmode\":\"overlay\",\"size\":10,\"solidity\":0.2}},\"type\":\"barpolar\"}],\"carpet\":[{\"aaxis\":{\"endlinecolor\":\"#2a3f5f\",\"gridcolor\":\"white\",\"linecolor\":\"white\",\"minorgridcolor\":\"white\",\"startlinecolor\":\"#2a3f5f\"},\"baxis\":{\"endlinecolor\":\"#2a3f5f\",\"gridcolor\":\"white\",\"linecolor\":\"white\",\"minorgridcolor\":\"white\",\"startlinecolor\":\"#2a3f5f\"},\"type\":\"carpet\"}],\"choropleth\":[{\"colorbar\":{\"outlinewidth\":0,\"ticks\":\"\"},\"type\":\"choropleth\"}],\"contour\":[{\"colorbar\":{\"outlinewidth\":0,\"ticks\":\"\"},\"colorscale\":[[0.0,\"#0d0887\"],[0.1111111111111111,\"#46039f\"],[0.2222222222222222,\"#7201a8\"],[0.3333333333333333,\"#9c179e\"],[0.4444444444444444,\"#bd3786\"],[0.5555555555555556,\"#d8576b\"],[0.6666666666666666,\"#ed7953\"],[0.7777777777777778,\"#fb9f3a\"],[0.8888888888888888,\"#fdca26\"],[1.0,\"#f0f921\"]],\"type\":\"contour\"}],\"contourcarpet\":[{\"colorbar\":{\"outlinewidth\":0,\"ticks\":\"\"},\"type\":\"contourcarpet\"}],\"heatmap\":[{\"colorbar\":{\"outlinewidth\":0,\"ticks\":\"\"},\"colorscale\":[[0.0,\"#0d0887\"],[0.1111111111111111,\"#46039f\"],[0.2222222222222222,\"#7201a8\"],[0.3333333333333333,\"#9c179e\"],[0.4444444444444444,\"#bd3786\"],[0.5555555555555556,\"#d8576b\"],[0.6666666666666666,\"#ed7953\"],[0.7777777777777778,\"#fb9f3a\"],[0.8888888888888888,\"#fdca26\"],[1.0,\"#f0f921\"]],\"type\":\"heatmap\"}],\"heatmapgl\":[{\"colorbar\":{\"outlinewidth\":0,\"ticks\":\"\"},\"colorscale\":[[0.0,\"#0d0887\"],[0.1111111111111111,\"#46039f\"],[0.2222222222222222,\"#7201a8\"],[0.3333333333333333,\"#9c179e\"],[0.4444444444444444,\"#bd3786\"],[0.5555555555555556,\"#d8576b\"],[0.6666666666666666,\"#ed7953\"],[0.7777777777777778,\"#fb9f3a\"],[0.8888888888888888,\"#fdca26\"],[1.0,\"#f0f921\"]],\"type\":\"heatmapgl\"}],\"histogram\":[{\"marker\":{\"pattern\":{\"fillmode\":\"overlay\",\"size\":10,\"solidity\":0.2}},\"type\":\"histogram\"}],\"histogram2d\":[{\"colorbar\":{\"outlinewidth\":0,\"ticks\":\"\"},\"colorscale\":[[0.0,\"#0d0887\"],[0.1111111111111111,\"#46039f\"],[0.2222222222222222,\"#7201a8\"],[0.3333333333333333,\"#9c179e\"],[0.4444444444444444,\"#bd3786\"],[0.5555555555555556,\"#d8576b\"],[0.6666666666666666,\"#ed7953\"],[0.7777777777777778,\"#fb9f3a\"],[0.8888888888888888,\"#fdca26\"],[1.0,\"#f0f921\"]],\"type\":\"histogram2d\"}],\"histogram2dcontour\":[{\"colorbar\":{\"outlinewidth\":0,\"ticks\":\"\"},\"colorscale\":[[0.0,\"#0d0887\"],[0.1111111111111111,\"#46039f\"],[0.2222222222222222,\"#7201a8\"],[0.3333333333333333,\"#9c179e\"],[0.4444444444444444,\"#bd3786\"],[0.5555555555555556,\"#d8576b\"],[0.6666666666666666,\"#ed7953\"],[0.7777777777777778,\"#fb9f3a\"],[0.8888888888888888,\"#fdca26\"],[1.0,\"#f0f921\"]],\"type\":\"histogram2dcontour\"}],\"mesh3d\":[{\"colorbar\":{\"outlinewidth\":0,\"ticks\":\"\"},\"type\":\"mesh3d\"}],\"parcoords\":[{\"line\":{\"colorbar\":{\"outlinewidth\":0,\"ticks\":\"\"}},\"type\":\"parcoords\"}],\"pie\":[{\"automargin\":true,\"type\":\"pie\"}],\"scatter\":[{\"marker\":{\"colorbar\":{\"outlinewidth\":0,\"ticks\":\"\"}},\"type\":\"scatter\"}],\"scatter3d\":[{\"line\":{\"colorbar\":{\"outlinewidth\":0,\"ticks\":\"\"}},\"marker\":{\"colorbar\":{\"outlinewidth\":0,\"ticks\":\"\"}},\"type\":\"scatter3d\"}],\"scattercarpet\":[{\"marker\":{\"colorbar\":{\"outlinewidth\":0,\"ticks\":\"\"}},\"type\":\"scattercarpet\"}],\"scattergeo\":[{\"marker\":{\"colorbar\":{\"outlinewidth\":0,\"ticks\":\"\"}},\"type\":\"scattergeo\"}],\"scattergl\":[{\"marker\":{\"colorbar\":{\"outlinewidth\":0,\"ticks\":\"\"}},\"type\":\"scattergl\"}],\"scattermapbox\":[{\"marker\":{\"colorbar\":{\"outlinewidth\":0,\"ticks\":\"\"}},\"type\":\"scattermapbox\"}],\"scatterpolar\":[{\"marker\":{\"colorbar\":{\"outlinewidth\":0,\"ticks\":\"\"}},\"type\":\"scatterpolar\"}],\"scatterpolargl\":[{\"marker\":{\"colorbar\":{\"outlinewidth\":0,\"ticks\":\"\"}},\"type\":\"scatterpolargl\"}],\"scatterternary\":[{\"marker\":{\"colorbar\":{\"outlinewidth\":0,\"ticks\":\"\"}},\"type\":\"scatterternary\"}],\"surface\":[{\"colorbar\":{\"outlinewidth\":0,\"ticks\":\"\"},\"colorscale\":[[0.0,\"#0d0887\"],[0.1111111111111111,\"#46039f\"],[0.2222222222222222,\"#7201a8\"],[0.3333333333333333,\"#9c179e\"],[0.4444444444444444,\"#bd3786\"],[0.5555555555555556,\"#d8576b\"],[0.6666666666666666,\"#ed7953\"],[0.7777777777777778,\"#fb9f3a\"],[0.8888888888888888,\"#fdca26\"],[1.0,\"#f0f921\"]],\"type\":\"surface\"}],\"table\":[{\"cells\":{\"fill\":{\"color\":\"#EBF0F8\"},\"line\":{\"color\":\"white\"}},\"header\":{\"fill\":{\"color\":\"#C8D4E3\"},\"line\":{\"color\":\"white\"}},\"type\":\"table\"}]},\"layout\":{\"annotationdefaults\":{\"arrowcolor\":\"#2a3f5f\",\"arrowhead\":0,\"arrowwidth\":1},\"autotypenumbers\":\"strict\",\"coloraxis\":{\"colorbar\":{\"outlinewidth\":0,\"ticks\":\"\"}},\"colorscale\":{\"diverging\":[[0,\"#8e0152\"],[0.1,\"#c51b7d\"],[0.2,\"#de77ae\"],[0.3,\"#f1b6da\"],[0.4,\"#fde0ef\"],[0.5,\"#f7f7f7\"],[0.6,\"#e6f5d0\"],[0.7,\"#b8e186\"],[0.8,\"#7fbc41\"],[0.9,\"#4d9221\"],[1,\"#276419\"]],\"sequential\":[[0.0,\"#0d0887\"],[0.1111111111111111,\"#46039f\"],[0.2222222222222222,\"#7201a8\"],[0.3333333333333333,\"#9c179e\"],[0.4444444444444444,\"#bd3786\"],[0.5555555555555556,\"#d8576b\"],[0.6666666666666666,\"#ed7953\"],[0.7777777777777778,\"#fb9f3a\"],[0.8888888888888888,\"#fdca26\"],[1.0,\"#f0f921\"]],\"sequentialminus\":[[0.0,\"#0d0887\"],[0.1111111111111111,\"#46039f\"],[0.2222222222222222,\"#7201a8\"],[0.3333333333333333,\"#9c179e\"],[0.4444444444444444,\"#bd3786\"],[0.5555555555555556,\"#d8576b\"],[0.6666666666666666,\"#ed7953\"],[0.7777777777777778,\"#fb9f3a\"],[0.8888888888888888,\"#fdca26\"],[1.0,\"#f0f921\"]]},\"colorway\":[\"#636efa\",\"#EF553B\",\"#00cc96\",\"#ab63fa\",\"#FFA15A\",\"#19d3f3\",\"#FF6692\",\"#B6E880\",\"#FF97FF\",\"#FECB52\"],\"font\":{\"color\":\"#2a3f5f\"},\"geo\":{\"bgcolor\":\"white\",\"lakecolor\":\"white\",\"landcolor\":\"#E5ECF6\",\"showlakes\":true,\"showland\":true,\"subunitcolor\":\"white\"},\"hoverlabel\":{\"align\":\"left\"},\"hovermode\":\"closest\",\"mapbox\":{\"style\":\"light\"},\"paper_bgcolor\":\"white\",\"plot_bgcolor\":\"#E5ECF6\",\"polar\":{\"angularaxis\":{\"gridcolor\":\"white\",\"linecolor\":\"white\",\"ticks\":\"\"},\"bgcolor\":\"#E5ECF6\",\"radialaxis\":{\"gridcolor\":\"white\",\"linecolor\":\"white\",\"ticks\":\"\"}},\"scene\":{\"xaxis\":{\"backgroundcolor\":\"#E5ECF6\",\"gridcolor\":\"white\",\"gridwidth\":2,\"linecolor\":\"white\",\"showbackground\":true,\"ticks\":\"\",\"zerolinecolor\":\"white\"},\"yaxis\":{\"backgroundcolor\":\"#E5ECF6\",\"gridcolor\":\"white\",\"gridwidth\":2,\"linecolor\":\"white\",\"showbackground\":true,\"ticks\":\"\",\"zerolinecolor\":\"white\"},\"zaxis\":{\"backgroundcolor\":\"#E5ECF6\",\"gridcolor\":\"white\",\"gridwidth\":2,\"linecolor\":\"white\",\"showbackground\":true,\"ticks\":\"\",\"zerolinecolor\":\"white\"}},\"shapedefaults\":{\"line\":{\"color\":\"#2a3f5f\"}},\"ternary\":{\"aaxis\":{\"gridcolor\":\"white\",\"linecolor\":\"white\",\"ticks\":\"\"},\"baxis\":{\"gridcolor\":\"white\",\"linecolor\":\"white\",\"ticks\":\"\"},\"bgcolor\":\"#E5ECF6\",\"caxis\":{\"gridcolor\":\"white\",\"linecolor\":\"white\",\"ticks\":\"\"}},\"title\":{\"x\":0.05},\"xaxis\":{\"automargin\":true,\"gridcolor\":\"white\",\"linecolor\":\"white\",\"ticks\":\"\",\"title\":{\"standoff\":15},\"zerolinecolor\":\"white\",\"zerolinewidth\":2},\"yaxis\":{\"automargin\":true,\"gridcolor\":\"white\",\"linecolor\":\"white\",\"ticks\":\"\",\"title\":{\"standoff\":15},\"zerolinecolor\":\"white\",\"zerolinewidth\":2}}}},                        {\"responsive\": true}                    ).then(function(){\n",
              "                            \n",
              "var gd = document.getElementById('001da53b-cc01-423b-a59a-f2d9de3db5e5');\n",
              "var x = new MutationObserver(function (mutations, observer) {{\n",
              "        var display = window.getComputedStyle(gd).display;\n",
              "        if (!display || display === 'none') {{\n",
              "            console.log([gd, 'removed!']);\n",
              "            Plotly.purge(gd);\n",
              "            observer.disconnect();\n",
              "        }}\n",
              "}});\n",
              "\n",
              "// Listen for the removal of the full notebook cells\n",
              "var notebookContainer = gd.closest('#notebook-container');\n",
              "if (notebookContainer) {{\n",
              "    x.observe(notebookContainer, {childList: true});\n",
              "}}\n",
              "\n",
              "// Listen for the clearing of the current output cell\n",
              "var outputEl = gd.closest('.output');\n",
              "if (outputEl) {{\n",
              "    x.observe(outputEl, {childList: true});\n",
              "}}\n",
              "\n",
              "                        })                };                            </script>        </div>\n",
              "</body>\n",
              "</html>"
            ]
          },
          "metadata": {},
          "output_type": "display_data"
        }
      ],
      "source": [
        "# plot_parallel_coordinate: interactively visualizes the hyperparameters and scores\n",
        "fig = optuna.visualization.plot_parallel_coordinate(study)\n",
        "py.plot(fig, filename='parallelCoordinate_KNN_Optuna_SMOTE_100_GPU_weightedF1.html')\n",
        "fig.show()"
      ]
    },
    {
      "cell_type": "code",
      "execution_count": null,
      "metadata": {
        "colab": {
          "base_uri": "https://localhost:8080/",
          "height": 542
        },
        "id": "05-00KPAdJnW",
        "outputId": "a8b6ff53-3572-42af-ca51-0dcff1d564c5"
      },
      "outputs": [
        {
          "data": {
            "text/html": [
              "<html>\n",
              "<head><meta charset=\"utf-8\" /></head>\n",
              "<body>\n",
              "    <div>            <script src=\"https://cdnjs.cloudflare.com/ajax/libs/mathjax/2.7.5/MathJax.js?config=TeX-AMS-MML_SVG\"></script><script type=\"text/javascript\">if (window.MathJax) {MathJax.Hub.Config({SVG: {font: \"STIX-Web\"}});}</script>                <script type=\"text/javascript\">window.PlotlyConfig = {MathJaxConfig: 'local'};</script>\n",
              "        <script src=\"https://cdn.plot.ly/plotly-2.8.3.min.js\"></script>                <div id=\"cbf9de82-769d-42c5-b992-d4f2e92a9e91\" class=\"plotly-graph-div\" style=\"height:525px; width:100%;\"></div>            <script type=\"text/javascript\">                                    window.PLOTLYENV=window.PLOTLYENV || {};                                    if (document.getElementById(\"cbf9de82-769d-42c5-b992-d4f2e92a9e91\")) {                    Plotly.newPlot(                        \"cbf9de82-769d-42c5-b992-d4f2e92a9e91\",                        [{\"marker\":{\"color\":[0,1,2,3,4,5,6,7,8,9,10,11,12,13,14,15,16,17,18,19,20,21,22,23,24,25,26,27,28,29,30,31,32,33,34,35,36,37,38,39,40,41,42,43,44,45,46,47,48,49,50,51,52,53,54,55,56,57,58,59,60,61,62,63,64,65,66,67,68,69,70,71,72,73,74,75,76,77,78,79,80,81,82,83,84,85,86,87,88,89,90,91,92,93,94,95,96,97,98,99],\"colorbar\":{\"title\":{\"text\":\"#Trials\"},\"x\":1.0,\"xpad\":40},\"colorscale\":[[0.0,\"rgb(247,251,255)\"],[0.125,\"rgb(222,235,247)\"],[0.25,\"rgb(198,219,239)\"],[0.375,\"rgb(158,202,225)\"],[0.5,\"rgb(107,174,214)\"],[0.625,\"rgb(66,146,198)\"],[0.75,\"rgb(33,113,181)\"],[0.875,\"rgb(8,81,156)\"],[1.0,\"rgb(8,48,107)\"]],\"line\":{\"color\":\"Grey\",\"width\":0.5},\"showscale\":true},\"mode\":\"markers\",\"showlegend\":false,\"x\":[\"chebyshev\",\"manhattan\",\"minkowski\",\"minkowski\",\"manhattan\",\"chebyshev\",\"chebyshev\",\"minkowski\",\"manhattan\",\"minkowski\",\"euclidean\",\"chebyshev\",\"chebyshev\",\"chebyshev\",\"chebyshev\",\"euclidean\",\"euclidean\",\"euclidean\",\"euclidean\",\"euclidean\",\"euclidean\",\"chebyshev\",\"chebyshev\",\"chebyshev\",\"chebyshev\",\"chebyshev\",\"euclidean\",\"manhattan\",\"chebyshev\",\"chebyshev\",\"euclidean\",\"chebyshev\",\"chebyshev\",\"chebyshev\",\"chebyshev\",\"manhattan\",\"minkowski\",\"chebyshev\",\"chebyshev\",\"minkowski\",\"chebyshev\",\"chebyshev\",\"chebyshev\",\"manhattan\",\"chebyshev\",\"chebyshev\",\"minkowski\",\"chebyshev\",\"euclidean\",\"chebyshev\",\"chebyshev\",\"chebyshev\",\"chebyshev\",\"chebyshev\",\"euclidean\",\"chebyshev\",\"manhattan\",\"manhattan\",\"manhattan\",\"manhattan\",\"manhattan\",\"manhattan\",\"manhattan\",\"manhattan\",\"manhattan\",\"manhattan\",\"manhattan\",\"manhattan\",\"manhattan\",\"manhattan\",\"manhattan\",\"manhattan\",\"manhattan\",\"manhattan\",\"manhattan\",\"manhattan\",\"manhattan\",\"manhattan\",\"manhattan\",\"euclidean\",\"manhattan\",\"manhattan\",\"manhattan\",\"manhattan\",\"manhattan\",\"manhattan\",\"manhattan\",\"manhattan\",\"minkowski\",\"euclidean\",\"manhattan\",\"manhattan\",\"manhattan\",\"manhattan\",\"manhattan\",\"euclidean\",\"manhattan\",\"minkowski\",\"manhattan\",\"manhattan\"],\"y\":[0.8359641577884183,0.8344895377359629,0.8387366839780154,0.8441244386649177,0.8480416698060846,0.8408875880107282,0.8754888483580192,0.853141410762725,0.8519771445717934,0.8629177061332236,0.8393057460384556,0.8745442642202647,0.8745442642202647,0.8435524407310374,0.8435524407310374,0.8871272944825377,0.8445266111128282,0.8546850260852006,0.8474108654253479,0.853141410762725,0.842684756167157,0.8745442642202647,0.8745442642202647,0.8455852941811514,0.8754888483580192,0.8676569511272121,0.8445266111128282,0.8485096554180344,0.8754888483580192,0.8367078503484335,0.8603934232030688,0.853141410762725,0.8615440085601886,0.8754888483580192,0.8629177061332236,0.8587364928479639,0.8435524407310374,0.8615440085601886,0.8480416698060846,0.8546850260852006,0.8441244386649177,0.8754888483580192,0.8615440085601886,0.8676569511272121,0.8629177061332236,0.8615440085601886,0.8455852941811514,0.8745442642202647,0.8426692948819388,0.8676569511272121,0.8754888483580192,0.8325299009947823,0.8754888483580192,0.8480416698060846,0.8441244386649177,0.8871272944825377,0.8871272944825377,0.8745442642202647,0.8871272944825377,0.8871272944825377,0.8871272944825377,0.8871272944825377,0.8871272944825377,0.8871272944825377,0.8745442642202647,0.8676569511272121,0.8401927855535841,0.8676569511272121,0.8871272944825377,0.8455852941811514,0.8372184155573122,0.8871272944825377,0.853141410762725,0.8871272944825377,0.8615440085601886,0.853141410762725,0.8745442642202647,0.8480416698060846,0.8615440085601886,0.8445266111128282,0.853141410762725,0.8871272944825377,0.8615440085601886,0.8871272944825377,0.8629177061332236,0.8745442642202647,0.853141410762725,0.8871272944825377,0.8754888483580192,0.8480416698060846,0.8603934232030688,0.8615440085601886,0.8871272944825377,0.8745442642202647,0.8754888483580192,0.8871272944825377,0.8676569511272121,0.8615440085601886,0.853141410762725,0.8745442642202647],\"type\":\"scatter\",\"xaxis\":\"x\",\"yaxis\":\"y\"},{\"marker\":{\"color\":[0,1,2,3,4,5,6,7,8,9,10,11,12,13,14,15,16,17,18,19,20,21,22,23,24,25,26,27,28,29,30,31,32,33,34,35,36,37,38,39,40,41,42,43,44,45,46,47,48,49,50,51,52,53,54,55,56,57,58,59,60,61,62,63,64,65,66,67,68,69,70,71,72,73,74,75,76,77,78,79,80,81,82,83,84,85,86,87,88,89,90,91,92,93,94,95,96,97,98,99],\"colorbar\":{\"title\":{\"text\":\"#Trials\"},\"x\":1.0,\"xpad\":40},\"colorscale\":[[0.0,\"rgb(247,251,255)\"],[0.125,\"rgb(222,235,247)\"],[0.25,\"rgb(198,219,239)\"],[0.375,\"rgb(158,202,225)\"],[0.5,\"rgb(107,174,214)\"],[0.625,\"rgb(66,146,198)\"],[0.75,\"rgb(33,113,181)\"],[0.875,\"rgb(8,81,156)\"],[1.0,\"rgb(8,48,107)\"]],\"line\":{\"color\":\"Grey\",\"width\":0.5},\"showscale\":false},\"mode\":\"markers\",\"showlegend\":false,\"x\":[39,43,31,15,9,25,6,7,24,10,50,3,3,17,17,4,13,20,32,7,21,3,3,11,6,8,13,30,6,37,12,7,5,6,10,14,17,5,9,20,15,6,5,8,10,5,11,3,42,8,6,49,6,9,15,4,4,3,4,4,4,4,4,4,3,8,27,8,4,11,35,4,7,4,5,7,3,9,5,13,7,4,5,4,10,3,7,4,6,9,12,5,4,3,6,4,8,5,7,3],\"y\":[0.8359641577884183,0.8344895377359629,0.8387366839780154,0.8441244386649177,0.8480416698060846,0.8408875880107282,0.8754888483580192,0.853141410762725,0.8519771445717934,0.8629177061332236,0.8393057460384556,0.8745442642202647,0.8745442642202647,0.8435524407310374,0.8435524407310374,0.8871272944825377,0.8445266111128282,0.8546850260852006,0.8474108654253479,0.853141410762725,0.842684756167157,0.8745442642202647,0.8745442642202647,0.8455852941811514,0.8754888483580192,0.8676569511272121,0.8445266111128282,0.8485096554180344,0.8754888483580192,0.8367078503484335,0.8603934232030688,0.853141410762725,0.8615440085601886,0.8754888483580192,0.8629177061332236,0.8587364928479639,0.8435524407310374,0.8615440085601886,0.8480416698060846,0.8546850260852006,0.8441244386649177,0.8754888483580192,0.8615440085601886,0.8676569511272121,0.8629177061332236,0.8615440085601886,0.8455852941811514,0.8745442642202647,0.8426692948819388,0.8676569511272121,0.8754888483580192,0.8325299009947823,0.8754888483580192,0.8480416698060846,0.8441244386649177,0.8871272944825377,0.8871272944825377,0.8745442642202647,0.8871272944825377,0.8871272944825377,0.8871272944825377,0.8871272944825377,0.8871272944825377,0.8871272944825377,0.8745442642202647,0.8676569511272121,0.8401927855535841,0.8676569511272121,0.8871272944825377,0.8455852941811514,0.8372184155573122,0.8871272944825377,0.853141410762725,0.8871272944825377,0.8615440085601886,0.853141410762725,0.8745442642202647,0.8480416698060846,0.8615440085601886,0.8445266111128282,0.853141410762725,0.8871272944825377,0.8615440085601886,0.8871272944825377,0.8629177061332236,0.8745442642202647,0.853141410762725,0.8871272944825377,0.8754888483580192,0.8480416698060846,0.8603934232030688,0.8615440085601886,0.8871272944825377,0.8745442642202647,0.8754888483580192,0.8871272944825377,0.8676569511272121,0.8615440085601886,0.853141410762725,0.8745442642202647],\"type\":\"scatter\",\"xaxis\":\"x2\",\"yaxis\":\"y2\"}],                        {\"template\":{\"data\":{\"bar\":[{\"error_x\":{\"color\":\"#2a3f5f\"},\"error_y\":{\"color\":\"#2a3f5f\"},\"marker\":{\"line\":{\"color\":\"#E5ECF6\",\"width\":0.5},\"pattern\":{\"fillmode\":\"overlay\",\"size\":10,\"solidity\":0.2}},\"type\":\"bar\"}],\"barpolar\":[{\"marker\":{\"line\":{\"color\":\"#E5ECF6\",\"width\":0.5},\"pattern\":{\"fillmode\":\"overlay\",\"size\":10,\"solidity\":0.2}},\"type\":\"barpolar\"}],\"carpet\":[{\"aaxis\":{\"endlinecolor\":\"#2a3f5f\",\"gridcolor\":\"white\",\"linecolor\":\"white\",\"minorgridcolor\":\"white\",\"startlinecolor\":\"#2a3f5f\"},\"baxis\":{\"endlinecolor\":\"#2a3f5f\",\"gridcolor\":\"white\",\"linecolor\":\"white\",\"minorgridcolor\":\"white\",\"startlinecolor\":\"#2a3f5f\"},\"type\":\"carpet\"}],\"choropleth\":[{\"colorbar\":{\"outlinewidth\":0,\"ticks\":\"\"},\"type\":\"choropleth\"}],\"contour\":[{\"colorbar\":{\"outlinewidth\":0,\"ticks\":\"\"},\"colorscale\":[[0.0,\"#0d0887\"],[0.1111111111111111,\"#46039f\"],[0.2222222222222222,\"#7201a8\"],[0.3333333333333333,\"#9c179e\"],[0.4444444444444444,\"#bd3786\"],[0.5555555555555556,\"#d8576b\"],[0.6666666666666666,\"#ed7953\"],[0.7777777777777778,\"#fb9f3a\"],[0.8888888888888888,\"#fdca26\"],[1.0,\"#f0f921\"]],\"type\":\"contour\"}],\"contourcarpet\":[{\"colorbar\":{\"outlinewidth\":0,\"ticks\":\"\"},\"type\":\"contourcarpet\"}],\"heatmap\":[{\"colorbar\":{\"outlinewidth\":0,\"ticks\":\"\"},\"colorscale\":[[0.0,\"#0d0887\"],[0.1111111111111111,\"#46039f\"],[0.2222222222222222,\"#7201a8\"],[0.3333333333333333,\"#9c179e\"],[0.4444444444444444,\"#bd3786\"],[0.5555555555555556,\"#d8576b\"],[0.6666666666666666,\"#ed7953\"],[0.7777777777777778,\"#fb9f3a\"],[0.8888888888888888,\"#fdca26\"],[1.0,\"#f0f921\"]],\"type\":\"heatmap\"}],\"heatmapgl\":[{\"colorbar\":{\"outlinewidth\":0,\"ticks\":\"\"},\"colorscale\":[[0.0,\"#0d0887\"],[0.1111111111111111,\"#46039f\"],[0.2222222222222222,\"#7201a8\"],[0.3333333333333333,\"#9c179e\"],[0.4444444444444444,\"#bd3786\"],[0.5555555555555556,\"#d8576b\"],[0.6666666666666666,\"#ed7953\"],[0.7777777777777778,\"#fb9f3a\"],[0.8888888888888888,\"#fdca26\"],[1.0,\"#f0f921\"]],\"type\":\"heatmapgl\"}],\"histogram\":[{\"marker\":{\"pattern\":{\"fillmode\":\"overlay\",\"size\":10,\"solidity\":0.2}},\"type\":\"histogram\"}],\"histogram2d\":[{\"colorbar\":{\"outlinewidth\":0,\"ticks\":\"\"},\"colorscale\":[[0.0,\"#0d0887\"],[0.1111111111111111,\"#46039f\"],[0.2222222222222222,\"#7201a8\"],[0.3333333333333333,\"#9c179e\"],[0.4444444444444444,\"#bd3786\"],[0.5555555555555556,\"#d8576b\"],[0.6666666666666666,\"#ed7953\"],[0.7777777777777778,\"#fb9f3a\"],[0.8888888888888888,\"#fdca26\"],[1.0,\"#f0f921\"]],\"type\":\"histogram2d\"}],\"histogram2dcontour\":[{\"colorbar\":{\"outlinewidth\":0,\"ticks\":\"\"},\"colorscale\":[[0.0,\"#0d0887\"],[0.1111111111111111,\"#46039f\"],[0.2222222222222222,\"#7201a8\"],[0.3333333333333333,\"#9c179e\"],[0.4444444444444444,\"#bd3786\"],[0.5555555555555556,\"#d8576b\"],[0.6666666666666666,\"#ed7953\"],[0.7777777777777778,\"#fb9f3a\"],[0.8888888888888888,\"#fdca26\"],[1.0,\"#f0f921\"]],\"type\":\"histogram2dcontour\"}],\"mesh3d\":[{\"colorbar\":{\"outlinewidth\":0,\"ticks\":\"\"},\"type\":\"mesh3d\"}],\"parcoords\":[{\"line\":{\"colorbar\":{\"outlinewidth\":0,\"ticks\":\"\"}},\"type\":\"parcoords\"}],\"pie\":[{\"automargin\":true,\"type\":\"pie\"}],\"scatter\":[{\"marker\":{\"colorbar\":{\"outlinewidth\":0,\"ticks\":\"\"}},\"type\":\"scatter\"}],\"scatter3d\":[{\"line\":{\"colorbar\":{\"outlinewidth\":0,\"ticks\":\"\"}},\"marker\":{\"colorbar\":{\"outlinewidth\":0,\"ticks\":\"\"}},\"type\":\"scatter3d\"}],\"scattercarpet\":[{\"marker\":{\"colorbar\":{\"outlinewidth\":0,\"ticks\":\"\"}},\"type\":\"scattercarpet\"}],\"scattergeo\":[{\"marker\":{\"colorbar\":{\"outlinewidth\":0,\"ticks\":\"\"}},\"type\":\"scattergeo\"}],\"scattergl\":[{\"marker\":{\"colorbar\":{\"outlinewidth\":0,\"ticks\":\"\"}},\"type\":\"scattergl\"}],\"scattermapbox\":[{\"marker\":{\"colorbar\":{\"outlinewidth\":0,\"ticks\":\"\"}},\"type\":\"scattermapbox\"}],\"scatterpolar\":[{\"marker\":{\"colorbar\":{\"outlinewidth\":0,\"ticks\":\"\"}},\"type\":\"scatterpolar\"}],\"scatterpolargl\":[{\"marker\":{\"colorbar\":{\"outlinewidth\":0,\"ticks\":\"\"}},\"type\":\"scatterpolargl\"}],\"scatterternary\":[{\"marker\":{\"colorbar\":{\"outlinewidth\":0,\"ticks\":\"\"}},\"type\":\"scatterternary\"}],\"surface\":[{\"colorbar\":{\"outlinewidth\":0,\"ticks\":\"\"},\"colorscale\":[[0.0,\"#0d0887\"],[0.1111111111111111,\"#46039f\"],[0.2222222222222222,\"#7201a8\"],[0.3333333333333333,\"#9c179e\"],[0.4444444444444444,\"#bd3786\"],[0.5555555555555556,\"#d8576b\"],[0.6666666666666666,\"#ed7953\"],[0.7777777777777778,\"#fb9f3a\"],[0.8888888888888888,\"#fdca26\"],[1.0,\"#f0f921\"]],\"type\":\"surface\"}],\"table\":[{\"cells\":{\"fill\":{\"color\":\"#EBF0F8\"},\"line\":{\"color\":\"white\"}},\"header\":{\"fill\":{\"color\":\"#C8D4E3\"},\"line\":{\"color\":\"white\"}},\"type\":\"table\"}]},\"layout\":{\"annotationdefaults\":{\"arrowcolor\":\"#2a3f5f\",\"arrowhead\":0,\"arrowwidth\":1},\"autotypenumbers\":\"strict\",\"coloraxis\":{\"colorbar\":{\"outlinewidth\":0,\"ticks\":\"\"}},\"colorscale\":{\"diverging\":[[0,\"#8e0152\"],[0.1,\"#c51b7d\"],[0.2,\"#de77ae\"],[0.3,\"#f1b6da\"],[0.4,\"#fde0ef\"],[0.5,\"#f7f7f7\"],[0.6,\"#e6f5d0\"],[0.7,\"#b8e186\"],[0.8,\"#7fbc41\"],[0.9,\"#4d9221\"],[1,\"#276419\"]],\"sequential\":[[0.0,\"#0d0887\"],[0.1111111111111111,\"#46039f\"],[0.2222222222222222,\"#7201a8\"],[0.3333333333333333,\"#9c179e\"],[0.4444444444444444,\"#bd3786\"],[0.5555555555555556,\"#d8576b\"],[0.6666666666666666,\"#ed7953\"],[0.7777777777777778,\"#fb9f3a\"],[0.8888888888888888,\"#fdca26\"],[1.0,\"#f0f921\"]],\"sequentialminus\":[[0.0,\"#0d0887\"],[0.1111111111111111,\"#46039f\"],[0.2222222222222222,\"#7201a8\"],[0.3333333333333333,\"#9c179e\"],[0.4444444444444444,\"#bd3786\"],[0.5555555555555556,\"#d8576b\"],[0.6666666666666666,\"#ed7953\"],[0.7777777777777778,\"#fb9f3a\"],[0.8888888888888888,\"#fdca26\"],[1.0,\"#f0f921\"]]},\"colorway\":[\"#636efa\",\"#EF553B\",\"#00cc96\",\"#ab63fa\",\"#FFA15A\",\"#19d3f3\",\"#FF6692\",\"#B6E880\",\"#FF97FF\",\"#FECB52\"],\"font\":{\"color\":\"#2a3f5f\"},\"geo\":{\"bgcolor\":\"white\",\"lakecolor\":\"white\",\"landcolor\":\"#E5ECF6\",\"showlakes\":true,\"showland\":true,\"subunitcolor\":\"white\"},\"hoverlabel\":{\"align\":\"left\"},\"hovermode\":\"closest\",\"mapbox\":{\"style\":\"light\"},\"paper_bgcolor\":\"white\",\"plot_bgcolor\":\"#E5ECF6\",\"polar\":{\"angularaxis\":{\"gridcolor\":\"white\",\"linecolor\":\"white\",\"ticks\":\"\"},\"bgcolor\":\"#E5ECF6\",\"radialaxis\":{\"gridcolor\":\"white\",\"linecolor\":\"white\",\"ticks\":\"\"}},\"scene\":{\"xaxis\":{\"backgroundcolor\":\"#E5ECF6\",\"gridcolor\":\"white\",\"gridwidth\":2,\"linecolor\":\"white\",\"showbackground\":true,\"ticks\":\"\",\"zerolinecolor\":\"white\"},\"yaxis\":{\"backgroundcolor\":\"#E5ECF6\",\"gridcolor\":\"white\",\"gridwidth\":2,\"linecolor\":\"white\",\"showbackground\":true,\"ticks\":\"\",\"zerolinecolor\":\"white\"},\"zaxis\":{\"backgroundcolor\":\"#E5ECF6\",\"gridcolor\":\"white\",\"gridwidth\":2,\"linecolor\":\"white\",\"showbackground\":true,\"ticks\":\"\",\"zerolinecolor\":\"white\"}},\"shapedefaults\":{\"line\":{\"color\":\"#2a3f5f\"}},\"ternary\":{\"aaxis\":{\"gridcolor\":\"white\",\"linecolor\":\"white\",\"ticks\":\"\"},\"baxis\":{\"gridcolor\":\"white\",\"linecolor\":\"white\",\"ticks\":\"\"},\"bgcolor\":\"#E5ECF6\",\"caxis\":{\"gridcolor\":\"white\",\"linecolor\":\"white\",\"ticks\":\"\"}},\"title\":{\"x\":0.05},\"xaxis\":{\"automargin\":true,\"gridcolor\":\"white\",\"linecolor\":\"white\",\"ticks\":\"\",\"title\":{\"standoff\":15},\"zerolinecolor\":\"white\",\"zerolinewidth\":2},\"yaxis\":{\"automargin\":true,\"gridcolor\":\"white\",\"linecolor\":\"white\",\"ticks\":\"\",\"title\":{\"standoff\":15},\"zerolinecolor\":\"white\",\"zerolinewidth\":2}}},\"xaxis\":{\"anchor\":\"y\",\"domain\":[0.0,0.45],\"title\":{\"text\":\"metric\"}},\"yaxis\":{\"anchor\":\"x\",\"domain\":[0.0,1.0],\"title\":{\"text\":\"Objective Value\"}},\"xaxis2\":{\"anchor\":\"y2\",\"domain\":[0.55,1.0],\"title\":{\"text\":\"n_neighbors\"}},\"yaxis2\":{\"anchor\":\"x2\",\"domain\":[0.0,1.0],\"matches\":\"y\",\"showticklabels\":false},\"title\":{\"text\":\"Slice Plot\"}},                        {\"responsive\": true}                    ).then(function(){\n",
              "                            \n",
              "var gd = document.getElementById('cbf9de82-769d-42c5-b992-d4f2e92a9e91');\n",
              "var x = new MutationObserver(function (mutations, observer) {{\n",
              "        var display = window.getComputedStyle(gd).display;\n",
              "        if (!display || display === 'none') {{\n",
              "            console.log([gd, 'removed!']);\n",
              "            Plotly.purge(gd);\n",
              "            observer.disconnect();\n",
              "        }}\n",
              "}});\n",
              "\n",
              "// Listen for the removal of the full notebook cells\n",
              "var notebookContainer = gd.closest('#notebook-container');\n",
              "if (notebookContainer) {{\n",
              "    x.observe(notebookContainer, {childList: true});\n",
              "}}\n",
              "\n",
              "// Listen for the clearing of the current output cell\n",
              "var outputEl = gd.closest('.output');\n",
              "if (outputEl) {{\n",
              "    x.observe(outputEl, {childList: true});\n",
              "}}\n",
              "\n",
              "                        })                };                            </script>        </div>\n",
              "</body>\n",
              "</html>"
            ]
          },
          "metadata": {},
          "output_type": "display_data"
        }
      ],
      "source": [
        "# plot_slice: shows the change of the hyperparamters space over the search. \n",
        "fig = optuna.visualization.plot_slice(study)\n",
        "py.plot(fig, filename='slice_KNN_Optuna_SMOTE_100_GPU_weightedF1.html')\n",
        "fig.show()"
      ]
    },
    {
      "cell_type": "code",
      "execution_count": null,
      "metadata": {
        "colab": {
          "base_uri": "https://localhost:8080/",
          "height": 542
        },
        "id": "LZG5CpBadUA9",
        "outputId": "5076e8ed-eeae-4744-a39e-5bbe1a0d58f1"
      },
      "outputs": [
        {
          "data": {
            "text/html": [
              "<html>\n",
              "<head><meta charset=\"utf-8\" /></head>\n",
              "<body>\n",
              "    <div>            <script src=\"https://cdnjs.cloudflare.com/ajax/libs/mathjax/2.7.5/MathJax.js?config=TeX-AMS-MML_SVG\"></script><script type=\"text/javascript\">if (window.MathJax) {MathJax.Hub.Config({SVG: {font: \"STIX-Web\"}});}</script>                <script type=\"text/javascript\">window.PlotlyConfig = {MathJaxConfig: 'local'};</script>\n",
              "        <script src=\"https://cdn.plot.ly/plotly-2.8.3.min.js\"></script>                <div id=\"31f9f6f0-a2a5-45af-8a1a-4701ccc166e8\" class=\"plotly-graph-div\" style=\"height:525px; width:100%;\"></div>            <script type=\"text/javascript\">                                    window.PLOTLYENV=window.PLOTLYENV || {};                                    if (document.getElementById(\"31f9f6f0-a2a5-45af-8a1a-4701ccc166e8\")) {                    Plotly.newPlot(                        \"31f9f6f0-a2a5-45af-8a1a-4701ccc166e8\",                        [{\"mode\":\"lines\",\"name\":\"dask_optuna_knn_100_rmse_tpe\",\"x\":[0.8325299009947823,0.8330813898178909,0.8336328786409996,0.8341843674641082,0.8347358562872169,0.8352873451103255,0.8358388339334342,0.8363903227565428,0.8369418115796514,0.83749330040276,0.8380447892258687,0.8385962780489773,0.839147766872086,0.8396992556951947,0.8402507445183033,0.8408022333414119,0.8413537221645205,0.8419052109876292,0.8424566998107378,0.8430081886338464,0.8435596774569551,0.8441111662800638,0.8446626551031724,0.845214143926281,0.8457656327493897,0.8463171215724983,0.8468686103956069,0.8474200992187156,0.8479715880418243,0.8485230768649329,0.8490745656880415,0.8496260545111501,0.8501775433342588,0.8507290321573674,0.851280520980476,0.8518320098035848,0.8523834986266934,0.852934987449802,0.8534864762729106,0.8540379650960193,0.8545894539191279,0.8551409427422365,0.8556924315653451,0.8562439203884539,0.8567954092115625,0.8573468980346711,0.8578983868577797,0.8584498756808884,0.859001364503997,0.8595528533271056,0.8601043421502144,0.860655830973323,0.8612073197964316,0.8617588086195402,0.8623102974426489,0.8628617862657575,0.8634132750888661,0.8639647639119747,0.8645162527350835,0.8650677415581921,0.8656192303813007,0.8661707192044094,0.866722208027518,0.8672736968506266,0.8678251856737352,0.868376674496844,0.8689281633199526,0.8694796521430612,0.8700311409661698,0.8705826297892785,0.8711341186123871,0.8716856074354957,0.8722370962586043,0.8727885850817131,0.8733400739048217,0.8738915627279303,0.874443051551039,0.8749945403741476,0.8755460291972562,0.8760975180203648,0.8766490068434736,0.8772004956665822,0.8777519844896908,0.8783034733127995,0.8788549621359081,0.8794064509590167,0.8799579397821253,0.880509428605234,0.8810609174283426,0.8816124062514513,0.88216389507456,0.8827153838976686,0.8832668727207772,0.8838183615438858,0.8843698503669944,0.8849213391901031,0.8854728280132118,0.8860243168363204,0.8865758056594291,0.8871272944825377],\"y\":[0.01,0.01,0.01,0.01,0.02,0.02,0.02,0.03,0.04,0.05,0.05,0.05,0.06,0.07,0.08,0.08,0.09,0.09,0.09,0.11,0.14,0.14,0.2,0.2,0.23,0.23,0.23,0.24,0.24,0.3,0.3,0.3,0.3,0.3,0.3,0.3,0.31,0.31,0.39,0.39,0.39,0.41,0.41,0.41,0.41,0.41,0.41,0.41,0.42,0.42,0.42,0.44,0.44,0.53,0.53,0.53,0.57,0.57,0.57,0.57,0.57,0.57,0.57,0.57,0.63,0.63,0.63,0.63,0.63,0.63,0.63,0.63,0.63,0.63,0.63,0.63,0.63,0.74,0.83,0.83,0.83,0.83,0.83,0.83,0.83,0.83,0.83,0.83,0.83,0.83,0.83,0.83,0.83,0.83,0.83,0.83,0.83,0.83,0.83,1.0],\"type\":\"scatter\"}],                        {\"title\":{\"text\":\"Empirical Distribution Function Plot\"},\"xaxis\":{\"title\":{\"text\":\"Objective Value\"}},\"yaxis\":{\"title\":{\"text\":\"Cumulative Probability\"},\"range\":[0,1]},\"template\":{\"data\":{\"bar\":[{\"error_x\":{\"color\":\"#2a3f5f\"},\"error_y\":{\"color\":\"#2a3f5f\"},\"marker\":{\"line\":{\"color\":\"#E5ECF6\",\"width\":0.5},\"pattern\":{\"fillmode\":\"overlay\",\"size\":10,\"solidity\":0.2}},\"type\":\"bar\"}],\"barpolar\":[{\"marker\":{\"line\":{\"color\":\"#E5ECF6\",\"width\":0.5},\"pattern\":{\"fillmode\":\"overlay\",\"size\":10,\"solidity\":0.2}},\"type\":\"barpolar\"}],\"carpet\":[{\"aaxis\":{\"endlinecolor\":\"#2a3f5f\",\"gridcolor\":\"white\",\"linecolor\":\"white\",\"minorgridcolor\":\"white\",\"startlinecolor\":\"#2a3f5f\"},\"baxis\":{\"endlinecolor\":\"#2a3f5f\",\"gridcolor\":\"white\",\"linecolor\":\"white\",\"minorgridcolor\":\"white\",\"startlinecolor\":\"#2a3f5f\"},\"type\":\"carpet\"}],\"choropleth\":[{\"colorbar\":{\"outlinewidth\":0,\"ticks\":\"\"},\"type\":\"choropleth\"}],\"contour\":[{\"colorbar\":{\"outlinewidth\":0,\"ticks\":\"\"},\"colorscale\":[[0.0,\"#0d0887\"],[0.1111111111111111,\"#46039f\"],[0.2222222222222222,\"#7201a8\"],[0.3333333333333333,\"#9c179e\"],[0.4444444444444444,\"#bd3786\"],[0.5555555555555556,\"#d8576b\"],[0.6666666666666666,\"#ed7953\"],[0.7777777777777778,\"#fb9f3a\"],[0.8888888888888888,\"#fdca26\"],[1.0,\"#f0f921\"]],\"type\":\"contour\"}],\"contourcarpet\":[{\"colorbar\":{\"outlinewidth\":0,\"ticks\":\"\"},\"type\":\"contourcarpet\"}],\"heatmap\":[{\"colorbar\":{\"outlinewidth\":0,\"ticks\":\"\"},\"colorscale\":[[0.0,\"#0d0887\"],[0.1111111111111111,\"#46039f\"],[0.2222222222222222,\"#7201a8\"],[0.3333333333333333,\"#9c179e\"],[0.4444444444444444,\"#bd3786\"],[0.5555555555555556,\"#d8576b\"],[0.6666666666666666,\"#ed7953\"],[0.7777777777777778,\"#fb9f3a\"],[0.8888888888888888,\"#fdca26\"],[1.0,\"#f0f921\"]],\"type\":\"heatmap\"}],\"heatmapgl\":[{\"colorbar\":{\"outlinewidth\":0,\"ticks\":\"\"},\"colorscale\":[[0.0,\"#0d0887\"],[0.1111111111111111,\"#46039f\"],[0.2222222222222222,\"#7201a8\"],[0.3333333333333333,\"#9c179e\"],[0.4444444444444444,\"#bd3786\"],[0.5555555555555556,\"#d8576b\"],[0.6666666666666666,\"#ed7953\"],[0.7777777777777778,\"#fb9f3a\"],[0.8888888888888888,\"#fdca26\"],[1.0,\"#f0f921\"]],\"type\":\"heatmapgl\"}],\"histogram\":[{\"marker\":{\"pattern\":{\"fillmode\":\"overlay\",\"size\":10,\"solidity\":0.2}},\"type\":\"histogram\"}],\"histogram2d\":[{\"colorbar\":{\"outlinewidth\":0,\"ticks\":\"\"},\"colorscale\":[[0.0,\"#0d0887\"],[0.1111111111111111,\"#46039f\"],[0.2222222222222222,\"#7201a8\"],[0.3333333333333333,\"#9c179e\"],[0.4444444444444444,\"#bd3786\"],[0.5555555555555556,\"#d8576b\"],[0.6666666666666666,\"#ed7953\"],[0.7777777777777778,\"#fb9f3a\"],[0.8888888888888888,\"#fdca26\"],[1.0,\"#f0f921\"]],\"type\":\"histogram2d\"}],\"histogram2dcontour\":[{\"colorbar\":{\"outlinewidth\":0,\"ticks\":\"\"},\"colorscale\":[[0.0,\"#0d0887\"],[0.1111111111111111,\"#46039f\"],[0.2222222222222222,\"#7201a8\"],[0.3333333333333333,\"#9c179e\"],[0.4444444444444444,\"#bd3786\"],[0.5555555555555556,\"#d8576b\"],[0.6666666666666666,\"#ed7953\"],[0.7777777777777778,\"#fb9f3a\"],[0.8888888888888888,\"#fdca26\"],[1.0,\"#f0f921\"]],\"type\":\"histogram2dcontour\"}],\"mesh3d\":[{\"colorbar\":{\"outlinewidth\":0,\"ticks\":\"\"},\"type\":\"mesh3d\"}],\"parcoords\":[{\"line\":{\"colorbar\":{\"outlinewidth\":0,\"ticks\":\"\"}},\"type\":\"parcoords\"}],\"pie\":[{\"automargin\":true,\"type\":\"pie\"}],\"scatter\":[{\"marker\":{\"colorbar\":{\"outlinewidth\":0,\"ticks\":\"\"}},\"type\":\"scatter\"}],\"scatter3d\":[{\"line\":{\"colorbar\":{\"outlinewidth\":0,\"ticks\":\"\"}},\"marker\":{\"colorbar\":{\"outlinewidth\":0,\"ticks\":\"\"}},\"type\":\"scatter3d\"}],\"scattercarpet\":[{\"marker\":{\"colorbar\":{\"outlinewidth\":0,\"ticks\":\"\"}},\"type\":\"scattercarpet\"}],\"scattergeo\":[{\"marker\":{\"colorbar\":{\"outlinewidth\":0,\"ticks\":\"\"}},\"type\":\"scattergeo\"}],\"scattergl\":[{\"marker\":{\"colorbar\":{\"outlinewidth\":0,\"ticks\":\"\"}},\"type\":\"scattergl\"}],\"scattermapbox\":[{\"marker\":{\"colorbar\":{\"outlinewidth\":0,\"ticks\":\"\"}},\"type\":\"scattermapbox\"}],\"scatterpolar\":[{\"marker\":{\"colorbar\":{\"outlinewidth\":0,\"ticks\":\"\"}},\"type\":\"scatterpolar\"}],\"scatterpolargl\":[{\"marker\":{\"colorbar\":{\"outlinewidth\":0,\"ticks\":\"\"}},\"type\":\"scatterpolargl\"}],\"scatterternary\":[{\"marker\":{\"colorbar\":{\"outlinewidth\":0,\"ticks\":\"\"}},\"type\":\"scatterternary\"}],\"surface\":[{\"colorbar\":{\"outlinewidth\":0,\"ticks\":\"\"},\"colorscale\":[[0.0,\"#0d0887\"],[0.1111111111111111,\"#46039f\"],[0.2222222222222222,\"#7201a8\"],[0.3333333333333333,\"#9c179e\"],[0.4444444444444444,\"#bd3786\"],[0.5555555555555556,\"#d8576b\"],[0.6666666666666666,\"#ed7953\"],[0.7777777777777778,\"#fb9f3a\"],[0.8888888888888888,\"#fdca26\"],[1.0,\"#f0f921\"]],\"type\":\"surface\"}],\"table\":[{\"cells\":{\"fill\":{\"color\":\"#EBF0F8\"},\"line\":{\"color\":\"white\"}},\"header\":{\"fill\":{\"color\":\"#C8D4E3\"},\"line\":{\"color\":\"white\"}},\"type\":\"table\"}]},\"layout\":{\"annotationdefaults\":{\"arrowcolor\":\"#2a3f5f\",\"arrowhead\":0,\"arrowwidth\":1},\"autotypenumbers\":\"strict\",\"coloraxis\":{\"colorbar\":{\"outlinewidth\":0,\"ticks\":\"\"}},\"colorscale\":{\"diverging\":[[0,\"#8e0152\"],[0.1,\"#c51b7d\"],[0.2,\"#de77ae\"],[0.3,\"#f1b6da\"],[0.4,\"#fde0ef\"],[0.5,\"#f7f7f7\"],[0.6,\"#e6f5d0\"],[0.7,\"#b8e186\"],[0.8,\"#7fbc41\"],[0.9,\"#4d9221\"],[1,\"#276419\"]],\"sequential\":[[0.0,\"#0d0887\"],[0.1111111111111111,\"#46039f\"],[0.2222222222222222,\"#7201a8\"],[0.3333333333333333,\"#9c179e\"],[0.4444444444444444,\"#bd3786\"],[0.5555555555555556,\"#d8576b\"],[0.6666666666666666,\"#ed7953\"],[0.7777777777777778,\"#fb9f3a\"],[0.8888888888888888,\"#fdca26\"],[1.0,\"#f0f921\"]],\"sequentialminus\":[[0.0,\"#0d0887\"],[0.1111111111111111,\"#46039f\"],[0.2222222222222222,\"#7201a8\"],[0.3333333333333333,\"#9c179e\"],[0.4444444444444444,\"#bd3786\"],[0.5555555555555556,\"#d8576b\"],[0.6666666666666666,\"#ed7953\"],[0.7777777777777778,\"#fb9f3a\"],[0.8888888888888888,\"#fdca26\"],[1.0,\"#f0f921\"]]},\"colorway\":[\"#636efa\",\"#EF553B\",\"#00cc96\",\"#ab63fa\",\"#FFA15A\",\"#19d3f3\",\"#FF6692\",\"#B6E880\",\"#FF97FF\",\"#FECB52\"],\"font\":{\"color\":\"#2a3f5f\"},\"geo\":{\"bgcolor\":\"white\",\"lakecolor\":\"white\",\"landcolor\":\"#E5ECF6\",\"showlakes\":true,\"showland\":true,\"subunitcolor\":\"white\"},\"hoverlabel\":{\"align\":\"left\"},\"hovermode\":\"closest\",\"mapbox\":{\"style\":\"light\"},\"paper_bgcolor\":\"white\",\"plot_bgcolor\":\"#E5ECF6\",\"polar\":{\"angularaxis\":{\"gridcolor\":\"white\",\"linecolor\":\"white\",\"ticks\":\"\"},\"bgcolor\":\"#E5ECF6\",\"radialaxis\":{\"gridcolor\":\"white\",\"linecolor\":\"white\",\"ticks\":\"\"}},\"scene\":{\"xaxis\":{\"backgroundcolor\":\"#E5ECF6\",\"gridcolor\":\"white\",\"gridwidth\":2,\"linecolor\":\"white\",\"showbackground\":true,\"ticks\":\"\",\"zerolinecolor\":\"white\"},\"yaxis\":{\"backgroundcolor\":\"#E5ECF6\",\"gridcolor\":\"white\",\"gridwidth\":2,\"linecolor\":\"white\",\"showbackground\":true,\"ticks\":\"\",\"zerolinecolor\":\"white\"},\"zaxis\":{\"backgroundcolor\":\"#E5ECF6\",\"gridcolor\":\"white\",\"gridwidth\":2,\"linecolor\":\"white\",\"showbackground\":true,\"ticks\":\"\",\"zerolinecolor\":\"white\"}},\"shapedefaults\":{\"line\":{\"color\":\"#2a3f5f\"}},\"ternary\":{\"aaxis\":{\"gridcolor\":\"white\",\"linecolor\":\"white\",\"ticks\":\"\"},\"baxis\":{\"gridcolor\":\"white\",\"linecolor\":\"white\",\"ticks\":\"\"},\"bgcolor\":\"#E5ECF6\",\"caxis\":{\"gridcolor\":\"white\",\"linecolor\":\"white\",\"ticks\":\"\"}},\"title\":{\"x\":0.05},\"xaxis\":{\"automargin\":true,\"gridcolor\":\"white\",\"linecolor\":\"white\",\"ticks\":\"\",\"title\":{\"standoff\":15},\"zerolinecolor\":\"white\",\"zerolinewidth\":2},\"yaxis\":{\"automargin\":true,\"gridcolor\":\"white\",\"linecolor\":\"white\",\"ticks\":\"\",\"title\":{\"standoff\":15},\"zerolinecolor\":\"white\",\"zerolinewidth\":2}}}},                        {\"responsive\": true}                    ).then(function(){\n",
              "                            \n",
              "var gd = document.getElementById('31f9f6f0-a2a5-45af-8a1a-4701ccc166e8');\n",
              "var x = new MutationObserver(function (mutations, observer) {{\n",
              "        var display = window.getComputedStyle(gd).display;\n",
              "        if (!display || display === 'none') {{\n",
              "            console.log([gd, 'removed!']);\n",
              "            Plotly.purge(gd);\n",
              "            observer.disconnect();\n",
              "        }}\n",
              "}});\n",
              "\n",
              "// Listen for the removal of the full notebook cells\n",
              "var notebookContainer = gd.closest('#notebook-container');\n",
              "if (notebookContainer) {{\n",
              "    x.observe(notebookContainer, {childList: true});\n",
              "}}\n",
              "\n",
              "// Listen for the clearing of the current output cell\n",
              "var outputEl = gd.closest('.output');\n",
              "if (outputEl) {{\n",
              "    x.observe(outputEl, {childList: true});\n",
              "}}\n",
              "\n",
              "                        })                };                            </script>        </div>\n",
              "</body>\n",
              "</html>"
            ]
          },
          "metadata": {},
          "output_type": "display_data"
        }
      ],
      "source": [
        "# Visualize empirical distribution function\n",
        "fig = optuna.visualization.plot_edf(study)\n",
        "py.plot(fig, filename='edf_KNN_Optuna_SMOTE_100_GPU_weightedF1.html')\n",
        "fig.show()"
      ]
    },
    {
      "cell_type": "code",
      "execution_count": null,
      "metadata": {
        "colab": {
          "base_uri": "https://localhost:8080/"
        },
        "id": "4uoL3znNjOD1",
        "outputId": "8f92adbe-3f93-49aa-ec43-f66a9d94f25e"
      },
      "outputs": [
        {
          "data": {
            "text/plain": [
              "{'metric': 'euclidean', 'n_neighbors': 4}"
            ]
          },
          "execution_count": 24,
          "metadata": {},
          "output_type": "execute_result"
        }
      ],
      "source": [
        "# Arrange best parameters to fit model for model metrics\n",
        "params = study.best_params   \n",
        "params"
      ]
    },
    {
      "cell_type": "code",
      "source": [
        "%cd /content/drive/MyDrive/LoanStatus/Python/Models/ML/KNN/Optuna/Model_PKL/\n",
        "\n",
        "# Define a name for the trials\n",
        "study_name = 'dask_knn_optuna_SMOTE_100_weightedF1_tpe'"
      ],
      "metadata": {
        "colab": {
          "base_uri": "https://localhost:8080/"
        },
        "outputId": "01adbe35-006a-4ccb-c1c1-211249856131",
        "id": "hX_VazkqcMyx"
      },
      "execution_count": null,
      "outputs": [
        {
          "output_type": "stream",
          "name": "stdout",
          "text": [
            "/content/drive/MyDrive/LoanStatus/Python/Models/ML/KNN/Optuna/Model_PKL\n"
          ]
        }
      ]
    },
    {
      "cell_type": "code",
      "execution_count": null,
      "metadata": {
        "id": "JCXx2cQqh0Gp"
      },
      "outputs": [],
      "source": [
        "# Re-create the best model and train on the training data\n",
        "best_model = KNeighborsClassifier(n_neighbors=4, metric='euclidean')\n",
        "\n",
        "# Fit the model\n",
        "best_model.fit(X_train, y_train)\n",
        "\n",
        "# Save model\n",
        "Pkl_Filename = 'KNN_Optuna_SMOTE_trials100_GPU_weightedF1.pkl'  \n",
        "\n",
        "with open(Pkl_Filename, 'wb') as file:  \n",
        "    pickle.dump(best_model, file)\n",
        "\n",
        "# =============================================================================\n",
        "# # To load saved model\n",
        "# model = joblib.load('KNN_Optuna_SMOTE_trials100_GPU_weightedF1.pkl')\n",
        "# print(model)\n",
        "# ============================================================================="
      ]
    },
    {
      "cell_type": "code",
      "execution_count": null,
      "metadata": {
        "colab": {
          "base_uri": "https://localhost:8080/"
        },
        "id": "CwwwQXv1Pf1l",
        "outputId": "9acfd62a-557d-414f-e5da-4c3425384219"
      },
      "outputs": [
        {
          "name": "stdout",
          "output_type": "stream",
          "text": [
            "\n",
            "Model Metrics for KNN HPO SMOTE 100trials GPU\n",
            "\n",
            "\n",
            "Classification Report:\n",
            "              precision    recall  f1-score   support\n",
            "\n",
            "           0       0.95      0.91      0.93    377848\n",
            "           1       0.52      0.70      0.60     54625\n",
            "\n",
            "    accuracy                           0.88    432473\n",
            "   macro avg       0.74      0.80      0.76    432473\n",
            "weighted avg       0.90      0.88      0.89    432473\n",
            "\n",
            "\n",
            "\n",
            "Confusion matrix:\n",
            "[[342198  35650]\n",
            " [ 16384  38241]]\n",
            "\n",
            "\n",
            "Accuracy score : 0.880\n",
            "Precision score : 0.518\n",
            "Recall score : 0.700\n",
            "F1 score : 0.595\n"
          ]
        }
      ],
      "source": [
        "print('\\nModel Metrics for KNN HPO SMOTE 100trials GPU')\n",
        "# Predict based on training \n",
        "y_train_pred = best_model.predict(X_train)\n",
        "y_test_pred = best_model.predict(X_test)\n",
        "\n",
        "print('\\n')\n",
        "print('Classification Report:')\n",
        "clf_rpt = classification_report(y_test.to_numpy(), y_test_pred.to_numpy())\n",
        "print(clf_rpt)\n",
        "print('\\n')\n",
        "print('Confusion matrix:')\n",
        "print(confusion_matrix(y_test.to_numpy(), y_test_pred.to_numpy()))\n",
        "print('\\n')\n",
        "print('Accuracy score : %.3f' % accuracy_score(y_test.to_numpy(), \n",
        "                                               y_test_pred.to_numpy()))\n",
        "print('Precision score : %.3f' % precision_score(y_test.to_numpy(), \n",
        "                                                 y_test_pred.to_numpy()))\n",
        "print('Recall score : %.3f' % recall_score(y_test.to_numpy(), \n",
        "                                           y_test_pred.to_numpy()))\n",
        "print('F1 score : %.3f' % f1_score(y_test.to_numpy(), y_test_pred.to_numpy()))"
      ]
    },
    {
      "cell_type": "code",
      "execution_count": null,
      "metadata": {
        "colab": {
          "base_uri": "https://localhost:8080/"
        },
        "id": "oZk4s7L9Pf1m",
        "outputId": "b73244a8-09ee-4319-98f9-32ce70ae405e"
      },
      "outputs": [
        {
          "name": "stdout",
          "output_type": "stream",
          "text": [
            "The best model from SMOTE 100 GPU trials optimization scores 0.80286 AUC ROC on the test set.\n",
            "This was achieved using these conditions:\n",
            "iteration                                    63\n",
            "f1_weighted                            0.887127\n",
            "datetime_start       2022-06-15 04:19:24.813360\n",
            "datetime_complete    2022-06-15 04:20:01.025956\n",
            "duration                 0 days 00:00:36.212596\n",
            "metric                                manhattan\n",
            "n_neighbors                                 4.0\n",
            "state                                  COMPLETE\n",
            "Name: 63, dtype: object\n"
          ]
        }
      ],
      "source": [
        "# Evaluate on the testing data \n",
        "print('The best model from SMOTE 100 GPU trials optimization scores {:.5f} AUC ROC on the test set.'.format(roc_auc_score(y_test.to_numpy(), \n",
        "                                                                                                                          y_test_pred.to_numpy())))\n",
        "print('This was achieved using these conditions:')\n",
        "print(trials_df.iloc[0])"
      ]
    },
    {
      "cell_type": "markdown",
      "source": [
        "## Weighted ROC"
      ],
      "metadata": {
        "id": "P-TrGHu0sKw-"
      }
    },
    {
      "cell_type": "markdown",
      "source": [
        "### 100 Trials"
      ],
      "metadata": {
        "id": "FbUOSJiesMTJ"
      }
    },
    {
      "cell_type": "code",
      "source": [
        "%cd /content/drive/MyDrive/LoanStatus/Python/Models/ML/KNN/Optuna/Model_PKL/\n",
        "\n",
        "# Define a name for the trials\n",
        "study_name = 'dask_knn_optuna_SMOTE_100_weightedROC_tpe'"
      ],
      "metadata": {
        "colab": {
          "base_uri": "https://localhost:8080/"
        },
        "outputId": "01adbe35-006a-4ccb-c1c1-211249856131",
        "id": "_BLNJdrrcQXS"
      },
      "execution_count": null,
      "outputs": [
        {
          "output_type": "stream",
          "name": "stdout",
          "text": [
            "/content/drive/MyDrive/LoanStatus/Python/Models/ML/KNN/Optuna/Model_PKL\n"
          ]
        }
      ]
    },
    {
      "cell_type": "code",
      "execution_count": null,
      "metadata": {
        "id": "fd1O0OPSqC-1"
      },
      "outputs": [],
      "source": [
        "# Define function to train/evaluate the model\n",
        "def train_and_eval(X_param, y_param, n_neighbors=10, \n",
        "                   metric='euclidean', verbose=False): \n",
        "    \"\"\"\n",
        "    Partition data into train/test sets, train and evaluate the model\n",
        "    for the given parameters.\n",
        "        \n",
        "    Params\n",
        "    ______\n",
        "        \n",
        "    X_param:  DataFrame. \n",
        "              The data to use for training and testing. \n",
        "    y_param:  Series. \n",
        "              The label for training\n",
        "\n",
        "    Returns\n",
        "    score: ROC weighted of the fitted model\n",
        "    \"\"\"\n",
        "    \n",
        "    # Set up train/test sets\n",
        "    X_train, y_train = trainDF.drop('loan_status', \n",
        "                                    axis=1), trainDF['loan_status'].astype('int32')\n",
        "    X_train = X_train.astype('float32')\n",
        "\n",
        "    X_test, y_test= testDF.drop('loan_status', \n",
        "                                axis=1), testDF['loan_status'].astype('int32')\n",
        "    X_test = X_test.astype('float32')\n",
        "\n",
        "    # Define model\n",
        "    model = KNeighborsClassifier(n_neighbors=n_neighbors, \n",
        "                                 metric=metric, \n",
        "                                 verbose=verbose)\n",
        "    \n",
        "    # Start timer for each trial\n",
        "    start = timer()\n",
        "\n",
        "    # Fit model\n",
        "    model.fit(X_train, y_train)\n",
        "    \n",
        "    # Predict\n",
        "    y_pred = model.predict(X_test)\n",
        "    score = roc_auc_score(y_test.to_numpy(), y_pred.to_numpy(), \n",
        "                          average='weighted')\n",
        "    run_time = timer() - start\n",
        "    print('- Trial time:', run_time) \n",
        "    print('- Trial weighted ROC:', score)\n",
        "    print('######################################################')\n",
        "\n",
        "    return score"
      ]
    },
    {
      "cell_type": "code",
      "execution_count": null,
      "metadata": {
        "colab": {
          "base_uri": "https://localhost:8080/"
        },
        "id": "ffvZwNZRqC-2",
        "outputId": "571cd4f0-8db8-4ab8-8355-e24c41f6a12d"
      },
      "outputs": [
        {
          "name": "stdout",
          "output_type": "stream",
          "text": [
            "- Trial time: 90.05875284800004\n",
            "- Trial weighted ROC: 0.8128493671761852\n",
            "######################################################\n",
            "Score with default parameters :  0.8128493671761852\n"
          ]
        }
      ],
      "source": [
        "print('Score with default parameters : ', train_and_eval(X_train, y_train))"
      ]
    },
    {
      "cell_type": "code",
      "execution_count": null,
      "metadata": {
        "id": "SyY6BSiOqC-4"
      },
      "outputs": [],
      "source": [
        "# Define objective function with the parameters to be tested\n",
        "def objective(trial, X_param, y_param):\n",
        "\n",
        "    joblib.dump(study, 'KNN_Optuna_SMOTE_100_GPU_ROCweighted.pkl')\n",
        "    \n",
        "    # Search parameters\n",
        "    n_neighbors = trial.suggest_int('n_neighbors', 3, 50) \n",
        "    metric = trial.suggest_categorical('metric', ['euclidean', 'manhattan', \n",
        "                                                  'chebyshev', 'minkowski'])\n",
        "\n",
        "    score = train_and_eval(X_param, y_param,\n",
        "                           n_neighbors=n_neighbors, \n",
        "                           verbose=False)\n",
        "\n",
        "    return score"
      ]
    },
    {
      "cell_type": "code",
      "execution_count": null,
      "metadata": {
        "colab": {
          "base_uri": "https://localhost:8080/"
        },
        "id": "d_M1flMnqC-5",
        "outputId": "eeef2c9c-d362-4ae2-b879-6428f47917ce"
      },
      "outputs": [
        {
          "name": "stdout",
          "output_type": "stream",
          "text": [
            "Start Time           2022-06-15 10:42:53.325264\n",
            "- Trial time: 95.52003119699975\n",
            "- Trial weighted ROC: 0.8214216063393962\n",
            "######################################################\n",
            "- Trial time: 88.91099538100025\n",
            "- Trial weighted ROC: 0.8060404902687008\n",
            "######################################################\n",
            "- Trial time: 95.72916410700009\n",
            "- Trial weighted ROC: 0.8190257901582789\n",
            "######################################################\n",
            "- Trial time: 89.08241719699981\n",
            "- Trial weighted ROC: 0.8032500025314987\n",
            "######################################################\n",
            "- Trial time: 92.14610471200012\n",
            "- Trial weighted ROC: 0.8189230795020938\n",
            "######################################################\n",
            "- Trial time: 94.36857157600025\n",
            "- Trial weighted ROC: 0.818811075532316\n",
            "######################################################\n",
            "- Trial time: 92.1999644829998\n",
            "- Trial weighted ROC: 0.8215751888800877\n",
            "######################################################\n",
            "- Trial time: 91.89845101900028\n",
            "- Trial weighted ROC: 0.8189230795020938\n",
            "######################################################\n",
            "- Trial time: 95.60555734700029\n",
            "- Trial weighted ROC: 0.8193450085894116\n",
            "######################################################\n",
            "- Trial time: 89.87603017199945\n",
            "- Trial weighted ROC: 0.8112993904490162\n",
            "######################################################\n",
            "- Trial time: 90.69706919599957\n",
            "- Trial weighted ROC: 0.819270842289469\n",
            "######################################################\n",
            "- Trial time: 95.05764096300027\n",
            "- Trial weighted ROC: 0.8191763816786933\n",
            "######################################################\n",
            "- Trial time: 91.31761238000036\n",
            "- Trial weighted ROC: 0.8172888985373847\n",
            "######################################################\n",
            "- Trial time: 94.93951664500037\n",
            "- Trial weighted ROC: 0.8214260959342579\n",
            "######################################################\n",
            "- Trial time: 94.67588020099993\n",
            "- Trial weighted ROC: 0.8189146422226762\n",
            "######################################################\n",
            "- Trial time: 94.65786768099952\n",
            "- Trial weighted ROC: 0.8214260959342579\n",
            "######################################################\n",
            "- Trial time: 91.77727862000029\n",
            "- Trial weighted ROC: 0.8205716436190461\n",
            "######################################################\n",
            "- Trial time: 94.60696827899937\n",
            "- Trial weighted ROC: 0.8211769753575434\n",
            "######################################################\n",
            "- Trial time: 91.7112419289997\n",
            "- Trial weighted ROC: 0.8177406643534502\n",
            "######################################################\n",
            "- Trial time: 90.19935338300002\n",
            "- Trial weighted ROC: 0.8144896211942794\n",
            "######################################################\n",
            "- Trial time: 94.43498197400004\n",
            "- Trial weighted ROC: 0.8191035716322332\n",
            "######################################################\n",
            "- Trial time: 95.19576838699959\n",
            "- Trial weighted ROC: 0.8191763816786933\n",
            "######################################################\n",
            "- Trial time: 94.97298479100027\n",
            "- Trial weighted ROC: 0.8187609441778121\n",
            "######################################################\n",
            "- Trial time: 91.78347967199988\n",
            "- Trial weighted ROC: 0.8208432235557581\n",
            "######################################################\n",
            "- Trial time: 94.48729065899988\n",
            "- Trial weighted ROC: 0.8216597323142351\n",
            "######################################################\n",
            "- Trial time: 95.48143845400045\n",
            "- Trial weighted ROC: 0.8216165533758396\n",
            "######################################################\n",
            "- Trial time: 95.73594871500063\n",
            "- Trial weighted ROC: 0.8191035716322332\n",
            "######################################################\n",
            "- Trial time: 95.1037045560006\n",
            "- Trial weighted ROC: 0.8191233628409995\n",
            "######################################################\n",
            "- Trial time: 95.57675108799958\n",
            "- Trial weighted ROC: 0.8216165533758396\n",
            "######################################################\n",
            "- Trial time: 96.20136087799983\n",
            "- Trial weighted ROC: 0.8214216063393962\n",
            "######################################################\n",
            "- Trial time: 95.71987752400037\n",
            "- Trial weighted ROC: 0.8191035716322332\n",
            "######################################################\n",
            "- Trial time: 95.19894172599925\n",
            "- Trial weighted ROC: 0.8217075895592173\n",
            "######################################################\n",
            "- Trial time: 95.10415288599961\n",
            "- Trial weighted ROC: 0.819253848447382\n",
            "######################################################\n",
            "- Trial time: 95.31018861299981\n",
            "- Trial weighted ROC: 0.8212968376566083\n",
            "######################################################\n",
            "- Trial time: 94.67267252900001\n",
            "- Trial weighted ROC: 0.8191233628409995\n",
            "######################################################\n",
            "- Trial time: 95.30124549199991\n",
            "- Trial weighted ROC: 0.819253848447382\n",
            "######################################################\n",
            "- Trial time: 95.58820488400033\n",
            "- Trial weighted ROC: 0.8193450085894116\n",
            "######################################################\n",
            "- Trial time: 96.04018474500026\n",
            "- Trial weighted ROC: 0.8214216063393962\n",
            "######################################################\n",
            "- Trial time: 94.60890306800047\n",
            "- Trial weighted ROC: 0.818811075532316\n",
            "######################################################\n",
            "- Trial time: 95.32008722399951\n",
            "- Trial weighted ROC: 0.8216165533758396\n",
            "######################################################\n",
            "- Trial time: 92.03892895699937\n",
            "- Trial weighted ROC: 0.8186044242749266\n",
            "######################################################\n",
            "- Trial time: 95.36631579099958\n",
            "- Trial weighted ROC: 0.819253848447382\n",
            "######################################################\n",
            "- Trial time: 95.67119841699969\n",
            "- Trial weighted ROC: 0.821455149254986\n",
            "######################################################\n",
            "- Trial time: 94.86594205999972\n",
            "- Trial weighted ROC: 0.8216597323142351\n",
            "######################################################\n",
            "- Trial time: 94.39136686199981\n",
            "- Trial weighted ROC: 0.8213563425332439\n",
            "######################################################\n",
            "- Trial time: 94.40183350999996\n",
            "- Trial weighted ROC: 0.8216597323142351\n",
            "######################################################\n",
            "- Trial time: 94.5918578210003\n",
            "- Trial weighted ROC: 0.8191233628409995\n",
            "######################################################\n",
            "- Trial time: 94.63545018399964\n",
            "- Trial weighted ROC: 0.8189146422226762\n",
            "######################################################\n",
            "- Trial time: 92.29299125899979\n",
            "- Trial weighted ROC: 0.8211825175713872\n",
            "######################################################\n",
            "- Trial time: 95.26720583800034\n",
            "- Trial weighted ROC: 0.8217075895592173\n",
            "######################################################\n",
            "- Trial time: 94.39279377399998\n",
            "- Trial weighted ROC: 0.8189146422226762\n",
            "######################################################\n",
            "- Trial time: 94.61181252999995\n",
            "- Trial weighted ROC: 0.8191763816786933\n",
            "######################################################\n",
            "- Trial time: 94.97159456100053\n",
            "- Trial weighted ROC: 0.8217075895592173\n",
            "######################################################\n",
            "- Trial time: 94.62679212700095\n",
            "- Trial weighted ROC: 0.8216597323142351\n",
            "######################################################\n",
            "- Trial time: 94.64651688499907\n",
            "- Trial weighted ROC: 0.8187609441778121\n",
            "######################################################\n",
            "- Trial time: 94.64511397000024\n",
            "- Trial weighted ROC: 0.8217075895592173\n",
            "######################################################\n",
            "- Trial time: 91.8654308260011\n",
            "- Trial weighted ROC: 0.8215751888800877\n",
            "######################################################\n",
            "- Trial time: 95.28045376699993\n",
            "- Trial weighted ROC: 0.8217075895592173\n",
            "######################################################\n",
            "- Trial time: 89.15473252300035\n",
            "- Trial weighted ROC: 0.8081143075851891\n",
            "######################################################\n",
            "- Trial time: 94.74723038400043\n",
            "- Trial weighted ROC: 0.8191763816786933\n",
            "######################################################\n",
            "- Trial time: 95.704020793999\n",
            "- Trial weighted ROC: 0.8212968376566083\n",
            "######################################################\n",
            "- Trial time: 95.18540039899926\n",
            "- Trial weighted ROC: 0.8217075895592173\n",
            "######################################################\n",
            "- Trial time: 94.43729228800112\n",
            "- Trial weighted ROC: 0.8191763816786933\n",
            "######################################################\n",
            "- Trial time: 94.9715017619983\n",
            "- Trial weighted ROC: 0.8193450085894116\n",
            "######################################################\n",
            "- Trial time: 94.84339863900095\n",
            "- Trial weighted ROC: 0.8217075895592173\n",
            "######################################################\n",
            "- Trial time: 94.42481229900113\n",
            "- Trial weighted ROC: 0.819253848447382\n",
            "######################################################\n",
            "- Trial time: 94.75414511200142\n",
            "- Trial weighted ROC: 0.8217075895592173\n",
            "######################################################\n",
            "- Trial time: 95.62468777600043\n",
            "- Trial weighted ROC: 0.821455149254986\n",
            "######################################################\n",
            "- Trial time: 94.6867006249995\n",
            "- Trial weighted ROC: 0.8214260959342579\n",
            "######################################################\n",
            "- Trial time: 94.48549265600013\n",
            "- Trial weighted ROC: 0.8217075895592173\n",
            "######################################################\n",
            "- Trial time: 94.35333426999932\n",
            "- Trial weighted ROC: 0.8187609441778121\n",
            "######################################################\n",
            "- Trial time: 94.40647521000028\n",
            "- Trial weighted ROC: 0.8217075895592173\n",
            "######################################################\n",
            "- Trial time: 90.17004814100073\n",
            "- Trial weighted ROC: 0.8144896211942794\n",
            "######################################################\n",
            "- Trial time: 95.45877361599923\n",
            "- Trial weighted ROC: 0.8191035716322332\n",
            "######################################################\n",
            "- Trial time: 94.80602405799982\n",
            "- Trial weighted ROC: 0.8214260959342579\n",
            "######################################################\n",
            "- Trial time: 94.4770863699996\n",
            "- Trial weighted ROC: 0.8217075895592173\n",
            "######################################################\n",
            "- Trial time: 95.50145271100155\n",
            "- Trial weighted ROC: 0.8190257901582789\n",
            "######################################################\n",
            "- Trial time: 90.9452229159997\n",
            "- Trial weighted ROC: 0.8200585316425474\n",
            "######################################################\n",
            "- Trial time: 94.62652208099826\n",
            "- Trial weighted ROC: 0.821455149254986\n",
            "######################################################\n",
            "- Trial time: 95.23588050699982\n",
            "- Trial weighted ROC: 0.8216165533758396\n",
            "######################################################\n",
            "- Trial time: 94.4248782930008\n",
            "- Trial weighted ROC: 0.8214260959342579\n",
            "######################################################\n",
            "- Trial time: 94.38323217900142\n",
            "- Trial weighted ROC: 0.8217075895592173\n",
            "######################################################\n",
            "- Trial time: 94.4059695649994\n",
            "- Trial weighted ROC: 0.8217075895592173\n",
            "######################################################\n",
            "- Trial time: 94.46961715700127\n",
            "- Trial weighted ROC: 0.8216165533758396\n",
            "######################################################\n",
            "- Trial time: 94.30855771799907\n",
            "- Trial weighted ROC: 0.8211769753575434\n",
            "######################################################\n",
            "- Trial time: 95.00764092099962\n",
            "- Trial weighted ROC: 0.8189146422226762\n",
            "######################################################\n",
            "- Trial time: 94.97209505899991\n",
            "- Trial weighted ROC: 0.819253848447382\n",
            "######################################################\n",
            "- Trial time: 95.38261899999998\n",
            "- Trial weighted ROC: 0.8212968376566083\n",
            "######################################################\n",
            "- Trial time: 94.98954768799922\n",
            "- Trial weighted ROC: 0.8217075895592173\n",
            "######################################################\n",
            "- Trial time: 95.44207677199847\n",
            "- Trial weighted ROC: 0.821455149254986\n",
            "######################################################\n",
            "- Trial time: 95.04046338100125\n",
            "- Trial weighted ROC: 0.8189146422226762\n",
            "######################################################\n",
            "- Trial time: 94.70455534299981\n",
            "- Trial weighted ROC: 0.8217075895592173\n",
            "######################################################\n",
            "- Trial time: 94.41438893200029\n",
            "- Trial weighted ROC: 0.8214260959342579\n",
            "######################################################\n",
            "- Trial time: 94.60664407500008\n",
            "- Trial weighted ROC: 0.8191035716322332\n",
            "######################################################\n",
            "- Trial time: 94.83509172900085\n",
            "- Trial weighted ROC: 0.8191763816786933\n",
            "######################################################\n",
            "- Trial time: 94.94280807900032\n",
            "- Trial weighted ROC: 0.8191233628409995\n",
            "######################################################\n",
            "- Trial time: 95.11929550599962\n",
            "- Trial weighted ROC: 0.819253848447382\n",
            "######################################################\n",
            "- Trial time: 95.2310435319996\n",
            "- Trial weighted ROC: 0.8216165533758396\n",
            "######################################################\n",
            "- Trial time: 94.66799128599996\n",
            "- Trial weighted ROC: 0.8217075895592173\n",
            "######################################################\n",
            "- Trial time: 94.84431558999859\n",
            "- Trial weighted ROC: 0.8191763816786933\n",
            "######################################################\n",
            "..dask_optuna             :  9440.9599\n",
            "Start Time           2022-06-15 10:42:53.325264\n",
            "End Time             2022-06-15 13:20:14.285268\n",
            "2:37:20\n",
            "\n",
            "\n",
            "Number of finished trials: 100\n",
            "Best trial: {'n_neighbors': 42, 'metric': 'manhattan'}\n",
            "Highest ROCweighted score 0.8217075895592173\n"
          ]
        }
      ],
      "source": [
        "with timed('dask_optuna'):\n",
        "    # Begin HPO trials \n",
        "    # Start timer for experiment\n",
        "    start_time = datetime.now()\n",
        "    print('%-20s %s' % ('Start Time', start_time))\n",
        "    if os.path.isfile('KNN_Optuna_SMOTE_100_GPU_ROCweighted.pkl'): \n",
        "      study = joblib.load('KNN_Optuna_SMOTE_100_GPU_ROCweighted.pkl')\n",
        "    else: \n",
        "      study = optuna.create_study(sampler=optuna.samplers.TPESampler(), \n",
        "                                  study_name=study_name,\n",
        "                                  direction='maximize')\n",
        "      \n",
        "    # Optimize in parallel on Dask cluster\n",
        "    with parallel_backend('dask'):\n",
        "        study.optimize(lambda trial: objective(trial, X_train, y_train), \n",
        "                       n_trials=100,\n",
        "                       n_jobs=n_workers)\n",
        "\n",
        "# End timer for experiment\n",
        "end_time = datetime.now()\n",
        "print('%-20s %s' % ('Start Time', start_time))\n",
        "print('%-20s %s' % ('End Time', end_time))\n",
        "print(str(timedelta(seconds=(end_time-start_time).seconds)))\n",
        "print('\\n')\n",
        "print('Number of finished trials:', len(study.trials))\n",
        "print('Best trial:', study.best_trial.params)\n",
        "print('Highest ROCweighted score', study.best_value)"
      ]
    },
    {
      "cell_type": "code",
      "source": [
        "%cd /content/drive/MyDrive/LoanStatus/Python/Models/ML/KNN/Optuna/trialOptions/"
      ],
      "metadata": {
        "colab": {
          "base_uri": "https://localhost:8080/"
        },
        "outputId": "d5ebbb01-249d-4e7d-ddf1-01e73e3bc864",
        "id": "liIkH-akb5IZ"
      },
      "execution_count": null,
      "outputs": [
        {
          "output_type": "stream",
          "name": "stdout",
          "text": [
            "/content/drive/MyDrive/LoanStatus/Python/Models/ML/KNN/Optuna/trialOptions\n"
          ]
        }
      ]
    },
    {
      "cell_type": "code",
      "execution_count": null,
      "metadata": {
        "colab": {
          "base_uri": "https://localhost:8080/"
        },
        "id": "5lomoJ29qC-8",
        "outputId": "a53e905a-ec8e-45db-fe86-60954e0642fd"
      },
      "outputs": [
        {
          "name": "stdout",
          "output_type": "stream",
          "text": [
            "    iteration  roc_weighted             datetime_start  \\\n",
            "31         31      0.821708 2022-06-15 11:31:17.719770   \n",
            "82         82      0.821708 2022-06-15 12:51:43.905532   \n",
            "64         64      0.821708 2022-06-15 12:23:23.186703   \n",
            "57         57      0.821708 2022-06-15 12:12:22.620830   \n",
            "55         55      0.821708 2022-06-15 12:09:15.684258   \n",
            "..        ...           ...                        ...   \n",
            "72         72      0.814490 2022-06-15 12:36:02.101745   \n",
            "9           9      0.811299 2022-06-15 10:56:50.160364   \n",
            "58         58      0.808114 2022-06-15 12:13:58.051609   \n",
            "1           1      0.806040 2022-06-15 10:44:28.983375   \n",
            "3           3      0.803250 2022-06-15 10:47:33.919397   \n",
            "\n",
            "            datetime_complete               duration     metric  n_neighbors  \\\n",
            "31 2022-06-15 11:32:53.068772 0 days 00:01:35.349002  manhattan           42   \n",
            "82 2022-06-15 12:53:18.468557 0 days 00:01:34.563025  chebyshev           42   \n",
            "64 2022-06-15 12:24:58.185676 0 days 00:01:34.998973  chebyshev           42   \n",
            "57 2022-06-15 12:13:58.051477 0 days 00:01:35.430647  chebyshev           42   \n",
            "55 2022-06-15 12:10:50.493129 0 days 00:01:34.808871  chebyshev           42   \n",
            "..                        ...                    ...        ...          ...   \n",
            "72 2022-06-15 12:37:32.429164 0 days 00:01:30.327419  minkowski           15   \n",
            "9  2022-06-15 10:58:20.179021 0 days 00:01:30.018657  chebyshev           11   \n",
            "58 2022-06-15 12:15:27.342697 0 days 00:01:29.291088  chebyshev            7   \n",
            "1  2022-06-15 10:45:58.036516 0 days 00:01:29.053141  chebyshev            5   \n",
            "3  2022-06-15 10:49:03.134223 0 days 00:01:29.214826  euclidean            3   \n",
            "\n",
            "       state  \n",
            "31  COMPLETE  \n",
            "82  COMPLETE  \n",
            "64  COMPLETE  \n",
            "57  COMPLETE  \n",
            "55  COMPLETE  \n",
            "..       ...  \n",
            "72  COMPLETE  \n",
            "9   COMPLETE  \n",
            "58  COMPLETE  \n",
            "1   COMPLETE  \n",
            "3   COMPLETE  \n",
            "\n",
            "[100 rows x 8 columns]\n"
          ]
        }
      ],
      "source": [
        "# Output from HPO trials\n",
        "trials_df = study.trials_dataframe()\n",
        "trials_df.rename(columns={'number': 'iteration'}, inplace=True)\n",
        "trials_df.rename(columns={'value': 'roc_weighted'}, inplace=True)\n",
        "trials_df.rename(columns={'params_metric': 'metric'}, inplace=True)\n",
        "\n",
        "# Write processed data to csv\n",
        "trials_df = trials_df.sort_values('roc_weighted', ascending=False)\n",
        "trials_df.to_csv('KNN_Optuna_SMOTE_100_GPU_ROCweighted.csv', index=False)\n",
        "print(trials_df) "
      ]
    },
    {
      "cell_type": "code",
      "source": [
        "%cd /content/drive/MyDrive/LoanStatus/Python/Models/ML/KNN/Optuna/Model_Explanations/"
      ],
      "metadata": {
        "colab": {
          "base_uri": "https://localhost:8080/"
        },
        "outputId": "669962b4-0ef7-4ee8-822e-724a890a3555",
        "id": "b3tjGZrIcDed"
      },
      "execution_count": null,
      "outputs": [
        {
          "output_type": "stream",
          "name": "stdout",
          "text": [
            "/content/drive/MyDrive/LoanStatus/Python/Models/ML/KNN/Optuna/Model_Explanations\n"
          ]
        }
      ]
    },
    {
      "cell_type": "code",
      "execution_count": null,
      "metadata": {
        "colab": {
          "base_uri": "https://localhost:8080/",
          "height": 542
        },
        "id": "Eniwzlg4qC-9",
        "outputId": "cc5ef5ea-958c-4456-c50e-db969aa47834"
      },
      "outputs": [
        {
          "data": {
            "text/html": [
              "<html>\n",
              "<head><meta charset=\"utf-8\" /></head>\n",
              "<body>\n",
              "    <div>            <script src=\"https://cdnjs.cloudflare.com/ajax/libs/mathjax/2.7.5/MathJax.js?config=TeX-AMS-MML_SVG\"></script><script type=\"text/javascript\">if (window.MathJax) {MathJax.Hub.Config({SVG: {font: \"STIX-Web\"}});}</script>                <script type=\"text/javascript\">window.PlotlyConfig = {MathJaxConfig: 'local'};</script>\n",
              "        <script src=\"https://cdn.plot.ly/plotly-2.8.3.min.js\"></script>                <div id=\"8913e37a-1e9d-4fc7-8481-983d2286863b\" class=\"plotly-graph-div\" style=\"height:525px; width:100%;\"></div>            <script type=\"text/javascript\">                                    window.PLOTLYENV=window.PLOTLYENV || {};                                    if (document.getElementById(\"8913e37a-1e9d-4fc7-8481-983d2286863b\")) {                    Plotly.newPlot(                        \"8913e37a-1e9d-4fc7-8481-983d2286863b\",                        [{\"mode\":\"markers\",\"name\":\"Objective Value\",\"x\":[0,1,2,3,4,5,6,7,8,9,10,11,12,13,14,15,16,17,18,19,20,21,22,23,24,25,26,27,28,29,30,31,32,33,34,35,36,37,38,39,40,41,42,43,44,45,46,47,48,49,50,51,52,53,54,55,56,57,58,59,60,61,62,63,64,65,66,67,68,69,70,71,72,73,74,75,76,77,78,79,80,81,82,83,84,85,86,87,88,89,90,91,92,93,94,95,96,97,98,99],\"y\":[0.8214216063393962,0.8060404902687008,0.8190257901582789,0.8032500025314987,0.8189230795020938,0.818811075532316,0.8215751888800877,0.8189230795020938,0.8193450085894116,0.8112993904490162,0.819270842289469,0.8191763816786933,0.8172888985373847,0.8214260959342579,0.8189146422226762,0.8214260959342579,0.8205716436190461,0.8211769753575434,0.8177406643534502,0.8144896211942794,0.8191035716322332,0.8191763816786933,0.8187609441778121,0.8208432235557581,0.8216597323142351,0.8216165533758396,0.8191035716322332,0.8191233628409995,0.8216165533758396,0.8214216063393962,0.8191035716322332,0.8217075895592173,0.819253848447382,0.8212968376566083,0.8191233628409995,0.819253848447382,0.8193450085894116,0.8214216063393962,0.818811075532316,0.8216165533758396,0.8186044242749266,0.819253848447382,0.821455149254986,0.8216597323142351,0.8213563425332439,0.8216597323142351,0.8191233628409995,0.8189146422226762,0.8211825175713872,0.8217075895592173,0.8189146422226762,0.8191763816786933,0.8217075895592173,0.8216597323142351,0.8187609441778121,0.8217075895592173,0.8215751888800877,0.8217075895592173,0.8081143075851891,0.8191763816786933,0.8212968376566083,0.8217075895592173,0.8191763816786933,0.8193450085894116,0.8217075895592173,0.819253848447382,0.8217075895592173,0.821455149254986,0.8214260959342579,0.8217075895592173,0.8187609441778121,0.8217075895592173,0.8144896211942794,0.8191035716322332,0.8214260959342579,0.8217075895592173,0.8190257901582789,0.8200585316425474,0.821455149254986,0.8216165533758396,0.8214260959342579,0.8217075895592173,0.8217075895592173,0.8216165533758396,0.8211769753575434,0.8189146422226762,0.819253848447382,0.8212968376566083,0.8217075895592173,0.821455149254986,0.8189146422226762,0.8217075895592173,0.8214260959342579,0.8191035716322332,0.8191763816786933,0.8191233628409995,0.819253848447382,0.8216165533758396,0.8217075895592173,0.8191763816786933],\"type\":\"scatter\"},{\"name\":\"Best Value\",\"x\":[0,1,2,3,4,5,6,7,8,9,10,11,12,13,14,15,16,17,18,19,20,21,22,23,24,25,26,27,28,29,30,31,32,33,34,35,36,37,38,39,40,41,42,43,44,45,46,47,48,49,50,51,52,53,54,55,56,57,58,59,60,61,62,63,64,65,66,67,68,69,70,71,72,73,74,75,76,77,78,79,80,81,82,83,84,85,86,87,88,89,90,91,92,93,94,95,96,97,98,99],\"y\":[0.8214216063393962,0.8214216063393962,0.8214216063393962,0.8214216063393962,0.8214216063393962,0.8214216063393962,0.8215751888800877,0.8215751888800877,0.8215751888800877,0.8215751888800877,0.8215751888800877,0.8215751888800877,0.8215751888800877,0.8215751888800877,0.8215751888800877,0.8215751888800877,0.8215751888800877,0.8215751888800877,0.8215751888800877,0.8215751888800877,0.8215751888800877,0.8215751888800877,0.8215751888800877,0.8215751888800877,0.8216597323142351,0.8216597323142351,0.8216597323142351,0.8216597323142351,0.8216597323142351,0.8216597323142351,0.8216597323142351,0.8217075895592173,0.8217075895592173,0.8217075895592173,0.8217075895592173,0.8217075895592173,0.8217075895592173,0.8217075895592173,0.8217075895592173,0.8217075895592173,0.8217075895592173,0.8217075895592173,0.8217075895592173,0.8217075895592173,0.8217075895592173,0.8217075895592173,0.8217075895592173,0.8217075895592173,0.8217075895592173,0.8217075895592173,0.8217075895592173,0.8217075895592173,0.8217075895592173,0.8217075895592173,0.8217075895592173,0.8217075895592173,0.8217075895592173,0.8217075895592173,0.8217075895592173,0.8217075895592173,0.8217075895592173,0.8217075895592173,0.8217075895592173,0.8217075895592173,0.8217075895592173,0.8217075895592173,0.8217075895592173,0.8217075895592173,0.8217075895592173,0.8217075895592173,0.8217075895592173,0.8217075895592173,0.8217075895592173,0.8217075895592173,0.8217075895592173,0.8217075895592173,0.8217075895592173,0.8217075895592173,0.8217075895592173,0.8217075895592173,0.8217075895592173,0.8217075895592173,0.8217075895592173,0.8217075895592173,0.8217075895592173,0.8217075895592173,0.8217075895592173,0.8217075895592173,0.8217075895592173,0.8217075895592173,0.8217075895592173,0.8217075895592173,0.8217075895592173,0.8217075895592173,0.8217075895592173,0.8217075895592173,0.8217075895592173,0.8217075895592173,0.8217075895592173,0.8217075895592173],\"type\":\"scatter\"}],                        {\"title\":{\"text\":\"Optimization History Plot\"},\"xaxis\":{\"title\":{\"text\":\"#Trials\"}},\"yaxis\":{\"title\":{\"text\":\"Objective Value\"}},\"template\":{\"data\":{\"bar\":[{\"error_x\":{\"color\":\"#2a3f5f\"},\"error_y\":{\"color\":\"#2a3f5f\"},\"marker\":{\"line\":{\"color\":\"#E5ECF6\",\"width\":0.5},\"pattern\":{\"fillmode\":\"overlay\",\"size\":10,\"solidity\":0.2}},\"type\":\"bar\"}],\"barpolar\":[{\"marker\":{\"line\":{\"color\":\"#E5ECF6\",\"width\":0.5},\"pattern\":{\"fillmode\":\"overlay\",\"size\":10,\"solidity\":0.2}},\"type\":\"barpolar\"}],\"carpet\":[{\"aaxis\":{\"endlinecolor\":\"#2a3f5f\",\"gridcolor\":\"white\",\"linecolor\":\"white\",\"minorgridcolor\":\"white\",\"startlinecolor\":\"#2a3f5f\"},\"baxis\":{\"endlinecolor\":\"#2a3f5f\",\"gridcolor\":\"white\",\"linecolor\":\"white\",\"minorgridcolor\":\"white\",\"startlinecolor\":\"#2a3f5f\"},\"type\":\"carpet\"}],\"choropleth\":[{\"colorbar\":{\"outlinewidth\":0,\"ticks\":\"\"},\"type\":\"choropleth\"}],\"contour\":[{\"colorbar\":{\"outlinewidth\":0,\"ticks\":\"\"},\"colorscale\":[[0.0,\"#0d0887\"],[0.1111111111111111,\"#46039f\"],[0.2222222222222222,\"#7201a8\"],[0.3333333333333333,\"#9c179e\"],[0.4444444444444444,\"#bd3786\"],[0.5555555555555556,\"#d8576b\"],[0.6666666666666666,\"#ed7953\"],[0.7777777777777778,\"#fb9f3a\"],[0.8888888888888888,\"#fdca26\"],[1.0,\"#f0f921\"]],\"type\":\"contour\"}],\"contourcarpet\":[{\"colorbar\":{\"outlinewidth\":0,\"ticks\":\"\"},\"type\":\"contourcarpet\"}],\"heatmap\":[{\"colorbar\":{\"outlinewidth\":0,\"ticks\":\"\"},\"colorscale\":[[0.0,\"#0d0887\"],[0.1111111111111111,\"#46039f\"],[0.2222222222222222,\"#7201a8\"],[0.3333333333333333,\"#9c179e\"],[0.4444444444444444,\"#bd3786\"],[0.5555555555555556,\"#d8576b\"],[0.6666666666666666,\"#ed7953\"],[0.7777777777777778,\"#fb9f3a\"],[0.8888888888888888,\"#fdca26\"],[1.0,\"#f0f921\"]],\"type\":\"heatmap\"}],\"heatmapgl\":[{\"colorbar\":{\"outlinewidth\":0,\"ticks\":\"\"},\"colorscale\":[[0.0,\"#0d0887\"],[0.1111111111111111,\"#46039f\"],[0.2222222222222222,\"#7201a8\"],[0.3333333333333333,\"#9c179e\"],[0.4444444444444444,\"#bd3786\"],[0.5555555555555556,\"#d8576b\"],[0.6666666666666666,\"#ed7953\"],[0.7777777777777778,\"#fb9f3a\"],[0.8888888888888888,\"#fdca26\"],[1.0,\"#f0f921\"]],\"type\":\"heatmapgl\"}],\"histogram\":[{\"marker\":{\"pattern\":{\"fillmode\":\"overlay\",\"size\":10,\"solidity\":0.2}},\"type\":\"histogram\"}],\"histogram2d\":[{\"colorbar\":{\"outlinewidth\":0,\"ticks\":\"\"},\"colorscale\":[[0.0,\"#0d0887\"],[0.1111111111111111,\"#46039f\"],[0.2222222222222222,\"#7201a8\"],[0.3333333333333333,\"#9c179e\"],[0.4444444444444444,\"#bd3786\"],[0.5555555555555556,\"#d8576b\"],[0.6666666666666666,\"#ed7953\"],[0.7777777777777778,\"#fb9f3a\"],[0.8888888888888888,\"#fdca26\"],[1.0,\"#f0f921\"]],\"type\":\"histogram2d\"}],\"histogram2dcontour\":[{\"colorbar\":{\"outlinewidth\":0,\"ticks\":\"\"},\"colorscale\":[[0.0,\"#0d0887\"],[0.1111111111111111,\"#46039f\"],[0.2222222222222222,\"#7201a8\"],[0.3333333333333333,\"#9c179e\"],[0.4444444444444444,\"#bd3786\"],[0.5555555555555556,\"#d8576b\"],[0.6666666666666666,\"#ed7953\"],[0.7777777777777778,\"#fb9f3a\"],[0.8888888888888888,\"#fdca26\"],[1.0,\"#f0f921\"]],\"type\":\"histogram2dcontour\"}],\"mesh3d\":[{\"colorbar\":{\"outlinewidth\":0,\"ticks\":\"\"},\"type\":\"mesh3d\"}],\"parcoords\":[{\"line\":{\"colorbar\":{\"outlinewidth\":0,\"ticks\":\"\"}},\"type\":\"parcoords\"}],\"pie\":[{\"automargin\":true,\"type\":\"pie\"}],\"scatter\":[{\"marker\":{\"colorbar\":{\"outlinewidth\":0,\"ticks\":\"\"}},\"type\":\"scatter\"}],\"scatter3d\":[{\"line\":{\"colorbar\":{\"outlinewidth\":0,\"ticks\":\"\"}},\"marker\":{\"colorbar\":{\"outlinewidth\":0,\"ticks\":\"\"}},\"type\":\"scatter3d\"}],\"scattercarpet\":[{\"marker\":{\"colorbar\":{\"outlinewidth\":0,\"ticks\":\"\"}},\"type\":\"scattercarpet\"}],\"scattergeo\":[{\"marker\":{\"colorbar\":{\"outlinewidth\":0,\"ticks\":\"\"}},\"type\":\"scattergeo\"}],\"scattergl\":[{\"marker\":{\"colorbar\":{\"outlinewidth\":0,\"ticks\":\"\"}},\"type\":\"scattergl\"}],\"scattermapbox\":[{\"marker\":{\"colorbar\":{\"outlinewidth\":0,\"ticks\":\"\"}},\"type\":\"scattermapbox\"}],\"scatterpolar\":[{\"marker\":{\"colorbar\":{\"outlinewidth\":0,\"ticks\":\"\"}},\"type\":\"scatterpolar\"}],\"scatterpolargl\":[{\"marker\":{\"colorbar\":{\"outlinewidth\":0,\"ticks\":\"\"}},\"type\":\"scatterpolargl\"}],\"scatterternary\":[{\"marker\":{\"colorbar\":{\"outlinewidth\":0,\"ticks\":\"\"}},\"type\":\"scatterternary\"}],\"surface\":[{\"colorbar\":{\"outlinewidth\":0,\"ticks\":\"\"},\"colorscale\":[[0.0,\"#0d0887\"],[0.1111111111111111,\"#46039f\"],[0.2222222222222222,\"#7201a8\"],[0.3333333333333333,\"#9c179e\"],[0.4444444444444444,\"#bd3786\"],[0.5555555555555556,\"#d8576b\"],[0.6666666666666666,\"#ed7953\"],[0.7777777777777778,\"#fb9f3a\"],[0.8888888888888888,\"#fdca26\"],[1.0,\"#f0f921\"]],\"type\":\"surface\"}],\"table\":[{\"cells\":{\"fill\":{\"color\":\"#EBF0F8\"},\"line\":{\"color\":\"white\"}},\"header\":{\"fill\":{\"color\":\"#C8D4E3\"},\"line\":{\"color\":\"white\"}},\"type\":\"table\"}]},\"layout\":{\"annotationdefaults\":{\"arrowcolor\":\"#2a3f5f\",\"arrowhead\":0,\"arrowwidth\":1},\"autotypenumbers\":\"strict\",\"coloraxis\":{\"colorbar\":{\"outlinewidth\":0,\"ticks\":\"\"}},\"colorscale\":{\"diverging\":[[0,\"#8e0152\"],[0.1,\"#c51b7d\"],[0.2,\"#de77ae\"],[0.3,\"#f1b6da\"],[0.4,\"#fde0ef\"],[0.5,\"#f7f7f7\"],[0.6,\"#e6f5d0\"],[0.7,\"#b8e186\"],[0.8,\"#7fbc41\"],[0.9,\"#4d9221\"],[1,\"#276419\"]],\"sequential\":[[0.0,\"#0d0887\"],[0.1111111111111111,\"#46039f\"],[0.2222222222222222,\"#7201a8\"],[0.3333333333333333,\"#9c179e\"],[0.4444444444444444,\"#bd3786\"],[0.5555555555555556,\"#d8576b\"],[0.6666666666666666,\"#ed7953\"],[0.7777777777777778,\"#fb9f3a\"],[0.8888888888888888,\"#fdca26\"],[1.0,\"#f0f921\"]],\"sequentialminus\":[[0.0,\"#0d0887\"],[0.1111111111111111,\"#46039f\"],[0.2222222222222222,\"#7201a8\"],[0.3333333333333333,\"#9c179e\"],[0.4444444444444444,\"#bd3786\"],[0.5555555555555556,\"#d8576b\"],[0.6666666666666666,\"#ed7953\"],[0.7777777777777778,\"#fb9f3a\"],[0.8888888888888888,\"#fdca26\"],[1.0,\"#f0f921\"]]},\"colorway\":[\"#636efa\",\"#EF553B\",\"#00cc96\",\"#ab63fa\",\"#FFA15A\",\"#19d3f3\",\"#FF6692\",\"#B6E880\",\"#FF97FF\",\"#FECB52\"],\"font\":{\"color\":\"#2a3f5f\"},\"geo\":{\"bgcolor\":\"white\",\"lakecolor\":\"white\",\"landcolor\":\"#E5ECF6\",\"showlakes\":true,\"showland\":true,\"subunitcolor\":\"white\"},\"hoverlabel\":{\"align\":\"left\"},\"hovermode\":\"closest\",\"mapbox\":{\"style\":\"light\"},\"paper_bgcolor\":\"white\",\"plot_bgcolor\":\"#E5ECF6\",\"polar\":{\"angularaxis\":{\"gridcolor\":\"white\",\"linecolor\":\"white\",\"ticks\":\"\"},\"bgcolor\":\"#E5ECF6\",\"radialaxis\":{\"gridcolor\":\"white\",\"linecolor\":\"white\",\"ticks\":\"\"}},\"scene\":{\"xaxis\":{\"backgroundcolor\":\"#E5ECF6\",\"gridcolor\":\"white\",\"gridwidth\":2,\"linecolor\":\"white\",\"showbackground\":true,\"ticks\":\"\",\"zerolinecolor\":\"white\"},\"yaxis\":{\"backgroundcolor\":\"#E5ECF6\",\"gridcolor\":\"white\",\"gridwidth\":2,\"linecolor\":\"white\",\"showbackground\":true,\"ticks\":\"\",\"zerolinecolor\":\"white\"},\"zaxis\":{\"backgroundcolor\":\"#E5ECF6\",\"gridcolor\":\"white\",\"gridwidth\":2,\"linecolor\":\"white\",\"showbackground\":true,\"ticks\":\"\",\"zerolinecolor\":\"white\"}},\"shapedefaults\":{\"line\":{\"color\":\"#2a3f5f\"}},\"ternary\":{\"aaxis\":{\"gridcolor\":\"white\",\"linecolor\":\"white\",\"ticks\":\"\"},\"baxis\":{\"gridcolor\":\"white\",\"linecolor\":\"white\",\"ticks\":\"\"},\"bgcolor\":\"#E5ECF6\",\"caxis\":{\"gridcolor\":\"white\",\"linecolor\":\"white\",\"ticks\":\"\"}},\"title\":{\"x\":0.05},\"xaxis\":{\"automargin\":true,\"gridcolor\":\"white\",\"linecolor\":\"white\",\"ticks\":\"\",\"title\":{\"standoff\":15},\"zerolinecolor\":\"white\",\"zerolinewidth\":2},\"yaxis\":{\"automargin\":true,\"gridcolor\":\"white\",\"linecolor\":\"white\",\"ticks\":\"\",\"title\":{\"standoff\":15},\"zerolinecolor\":\"white\",\"zerolinewidth\":2}}}},                        {\"responsive\": true}                    ).then(function(){\n",
              "                            \n",
              "var gd = document.getElementById('8913e37a-1e9d-4fc7-8481-983d2286863b');\n",
              "var x = new MutationObserver(function (mutations, observer) {{\n",
              "        var display = window.getComputedStyle(gd).display;\n",
              "        if (!display || display === 'none') {{\n",
              "            console.log([gd, 'removed!']);\n",
              "            Plotly.purge(gd);\n",
              "            observer.disconnect();\n",
              "        }}\n",
              "}});\n",
              "\n",
              "// Listen for the removal of the full notebook cells\n",
              "var notebookContainer = gd.closest('#notebook-container');\n",
              "if (notebookContainer) {{\n",
              "    x.observe(notebookContainer, {childList: true});\n",
              "}}\n",
              "\n",
              "// Listen for the clearing of the current output cell\n",
              "var outputEl = gd.closest('.output');\n",
              "if (outputEl) {{\n",
              "    x.observe(outputEl, {childList: true});\n",
              "}}\n",
              "\n",
              "                        })                };                            </script>        </div>\n",
              "</body>\n",
              "</html>"
            ]
          },
          "metadata": {},
          "output_type": "display_data"
        }
      ],
      "source": [
        "# Plot_optimization_history: shows the scores from all trials as well as the best score so far at each point.\n",
        "fig = optuna.visualization.plot_optimization_history(study)\n",
        "py.plot(fig, filename='optimizationHistory_KNN_Optuna_SMOTE_100_GPU_ROCweighted.html')\n",
        "fig.show()"
      ]
    },
    {
      "cell_type": "code",
      "execution_count": null,
      "metadata": {
        "colab": {
          "base_uri": "https://localhost:8080/",
          "height": 542
        },
        "id": "kws38fXOqC--",
        "outputId": "f3e4eb07-e979-422d-c084-72dc7eda1d61"
      },
      "outputs": [
        {
          "data": {
            "text/html": [
              "<html>\n",
              "<head><meta charset=\"utf-8\" /></head>\n",
              "<body>\n",
              "    <div>            <script src=\"https://cdnjs.cloudflare.com/ajax/libs/mathjax/2.7.5/MathJax.js?config=TeX-AMS-MML_SVG\"></script><script type=\"text/javascript\">if (window.MathJax) {MathJax.Hub.Config({SVG: {font: \"STIX-Web\"}});}</script>                <script type=\"text/javascript\">window.PlotlyConfig = {MathJaxConfig: 'local'};</script>\n",
              "        <script src=\"https://cdn.plot.ly/plotly-2.8.3.min.js\"></script>                <div id=\"bd4d9828-7db6-4fb8-ba3c-6aeacd9ab728\" class=\"plotly-graph-div\" style=\"height:525px; width:100%;\"></div>            <script type=\"text/javascript\">                                    window.PLOTLYENV=window.PLOTLYENV || {};                                    if (document.getElementById(\"bd4d9828-7db6-4fb8-ba3c-6aeacd9ab728\")) {                    Plotly.newPlot(                        \"bd4d9828-7db6-4fb8-ba3c-6aeacd9ab728\",                        [{\"dimensions\":[{\"label\":\"Objective Value\",\"range\":[0.8032500025314987,0.8217075895592173],\"values\":[0.8214216063393962,0.8060404902687008,0.8190257901582789,0.8032500025314987,0.8189230795020938,0.818811075532316,0.8215751888800877,0.8189230795020938,0.8193450085894116,0.8112993904490162,0.819270842289469,0.8191763816786933,0.8172888985373847,0.8214260959342579,0.8189146422226762,0.8214260959342579,0.8205716436190461,0.8211769753575434,0.8177406643534502,0.8144896211942794,0.8191035716322332,0.8191763816786933,0.8187609441778121,0.8208432235557581,0.8216597323142351,0.8216165533758396,0.8191035716322332,0.8191233628409995,0.8216165533758396,0.8214216063393962,0.8191035716322332,0.8217075895592173,0.819253848447382,0.8212968376566083,0.8191233628409995,0.819253848447382,0.8193450085894116,0.8214216063393962,0.818811075532316,0.8216165533758396,0.8186044242749266,0.819253848447382,0.821455149254986,0.8216597323142351,0.8213563425332439,0.8216597323142351,0.8191233628409995,0.8189146422226762,0.8211825175713872,0.8217075895592173,0.8189146422226762,0.8191763816786933,0.8217075895592173,0.8216597323142351,0.8187609441778121,0.8217075895592173,0.8215751888800877,0.8217075895592173,0.8081143075851891,0.8191763816786933,0.8212968376566083,0.8217075895592173,0.8191763816786933,0.8193450085894116,0.8217075895592173,0.819253848447382,0.8217075895592173,0.821455149254986,0.8214260959342579,0.8217075895592173,0.8187609441778121,0.8217075895592173,0.8144896211942794,0.8191035716322332,0.8214260959342579,0.8217075895592173,0.8190257901582789,0.8200585316425474,0.821455149254986,0.8216165533758396,0.8214260959342579,0.8217075895592173,0.8217075895592173,0.8216165533758396,0.8211769753575434,0.8189146422226762,0.819253848447382,0.8212968376566083,0.8217075895592173,0.821455149254986,0.8189146422226762,0.8217075895592173,0.8214260959342579,0.8191035716322332,0.8191763816786933,0.8191233628409995,0.819253848447382,0.8216165533758396,0.8217075895592173,0.8191763816786933]},{\"label\":\"metric\",\"range\":[0,3],\"ticktext\":[\"euclidean\",\"chebyshev\",\"manhattan\",\"minkowski\"],\"tickvals\":[0,1,2,3],\"values\":[0,1,0,0,2,3,3,1,1,1,3,3,0,2,2,2,3,2,2,3,3,2,2,2,2,2,2,3,2,2,2,2,2,2,0,2,2,0,2,1,1,1,1,1,1,1,1,1,1,1,1,1,1,1,1,1,1,1,1,0,1,1,1,1,1,1,1,1,1,3,3,3,3,3,3,3,3,0,1,3,3,1,1,1,3,1,0,3,3,1,1,3,3,3,3,1,1,1,1,3]},{\"label\":\"n_neighbors\",\"range\":[3,50],\"values\":[50,5,49,3,31,33,32,31,47,11,20,41,21,40,39,40,26,36,23,15,45,41,35,28,38,44,45,37,44,50,45,42,43,48,37,43,47,50,33,44,29,43,46,38,34,38,37,39,30,42,39,41,42,38,35,42,32,42,7,41,48,42,41,47,42,43,42,46,40,42,35,42,15,45,40,42,49,24,46,44,40,42,42,44,36,39,43,48,42,46,39,42,40,45,41,37,43,44,42,41]}],\"labelangle\":30,\"labelside\":\"bottom\",\"line\":{\"color\":[0.8214216063393962,0.8060404902687008,0.8190257901582789,0.8032500025314987,0.8189230795020938,0.818811075532316,0.8215751888800877,0.8189230795020938,0.8193450085894116,0.8112993904490162,0.819270842289469,0.8191763816786933,0.8172888985373847,0.8214260959342579,0.8189146422226762,0.8214260959342579,0.8205716436190461,0.8211769753575434,0.8177406643534502,0.8144896211942794,0.8191035716322332,0.8191763816786933,0.8187609441778121,0.8208432235557581,0.8216597323142351,0.8216165533758396,0.8191035716322332,0.8191233628409995,0.8216165533758396,0.8214216063393962,0.8191035716322332,0.8217075895592173,0.819253848447382,0.8212968376566083,0.8191233628409995,0.819253848447382,0.8193450085894116,0.8214216063393962,0.818811075532316,0.8216165533758396,0.8186044242749266,0.819253848447382,0.821455149254986,0.8216597323142351,0.8213563425332439,0.8216597323142351,0.8191233628409995,0.8189146422226762,0.8211825175713872,0.8217075895592173,0.8189146422226762,0.8191763816786933,0.8217075895592173,0.8216597323142351,0.8187609441778121,0.8217075895592173,0.8215751888800877,0.8217075895592173,0.8081143075851891,0.8191763816786933,0.8212968376566083,0.8217075895592173,0.8191763816786933,0.8193450085894116,0.8217075895592173,0.819253848447382,0.8217075895592173,0.821455149254986,0.8214260959342579,0.8217075895592173,0.8187609441778121,0.8217075895592173,0.8144896211942794,0.8191035716322332,0.8214260959342579,0.8217075895592173,0.8190257901582789,0.8200585316425474,0.821455149254986,0.8216165533758396,0.8214260959342579,0.8217075895592173,0.8217075895592173,0.8216165533758396,0.8211769753575434,0.8189146422226762,0.819253848447382,0.8212968376566083,0.8217075895592173,0.821455149254986,0.8189146422226762,0.8217075895592173,0.8214260959342579,0.8191035716322332,0.8191763816786933,0.8191233628409995,0.819253848447382,0.8216165533758396,0.8217075895592173,0.8191763816786933],\"colorbar\":{\"title\":{\"text\":\"Objective Value\"}},\"colorscale\":[[0.0,\"rgb(247,251,255)\"],[0.125,\"rgb(222,235,247)\"],[0.25,\"rgb(198,219,239)\"],[0.375,\"rgb(158,202,225)\"],[0.5,\"rgb(107,174,214)\"],[0.625,\"rgb(66,146,198)\"],[0.75,\"rgb(33,113,181)\"],[0.875,\"rgb(8,81,156)\"],[1.0,\"rgb(8,48,107)\"]],\"reversescale\":false,\"showscale\":true},\"type\":\"parcoords\"}],                        {\"title\":{\"text\":\"Parallel Coordinate Plot\"},\"template\":{\"data\":{\"bar\":[{\"error_x\":{\"color\":\"#2a3f5f\"},\"error_y\":{\"color\":\"#2a3f5f\"},\"marker\":{\"line\":{\"color\":\"#E5ECF6\",\"width\":0.5},\"pattern\":{\"fillmode\":\"overlay\",\"size\":10,\"solidity\":0.2}},\"type\":\"bar\"}],\"barpolar\":[{\"marker\":{\"line\":{\"color\":\"#E5ECF6\",\"width\":0.5},\"pattern\":{\"fillmode\":\"overlay\",\"size\":10,\"solidity\":0.2}},\"type\":\"barpolar\"}],\"carpet\":[{\"aaxis\":{\"endlinecolor\":\"#2a3f5f\",\"gridcolor\":\"white\",\"linecolor\":\"white\",\"minorgridcolor\":\"white\",\"startlinecolor\":\"#2a3f5f\"},\"baxis\":{\"endlinecolor\":\"#2a3f5f\",\"gridcolor\":\"white\",\"linecolor\":\"white\",\"minorgridcolor\":\"white\",\"startlinecolor\":\"#2a3f5f\"},\"type\":\"carpet\"}],\"choropleth\":[{\"colorbar\":{\"outlinewidth\":0,\"ticks\":\"\"},\"type\":\"choropleth\"}],\"contour\":[{\"colorbar\":{\"outlinewidth\":0,\"ticks\":\"\"},\"colorscale\":[[0.0,\"#0d0887\"],[0.1111111111111111,\"#46039f\"],[0.2222222222222222,\"#7201a8\"],[0.3333333333333333,\"#9c179e\"],[0.4444444444444444,\"#bd3786\"],[0.5555555555555556,\"#d8576b\"],[0.6666666666666666,\"#ed7953\"],[0.7777777777777778,\"#fb9f3a\"],[0.8888888888888888,\"#fdca26\"],[1.0,\"#f0f921\"]],\"type\":\"contour\"}],\"contourcarpet\":[{\"colorbar\":{\"outlinewidth\":0,\"ticks\":\"\"},\"type\":\"contourcarpet\"}],\"heatmap\":[{\"colorbar\":{\"outlinewidth\":0,\"ticks\":\"\"},\"colorscale\":[[0.0,\"#0d0887\"],[0.1111111111111111,\"#46039f\"],[0.2222222222222222,\"#7201a8\"],[0.3333333333333333,\"#9c179e\"],[0.4444444444444444,\"#bd3786\"],[0.5555555555555556,\"#d8576b\"],[0.6666666666666666,\"#ed7953\"],[0.7777777777777778,\"#fb9f3a\"],[0.8888888888888888,\"#fdca26\"],[1.0,\"#f0f921\"]],\"type\":\"heatmap\"}],\"heatmapgl\":[{\"colorbar\":{\"outlinewidth\":0,\"ticks\":\"\"},\"colorscale\":[[0.0,\"#0d0887\"],[0.1111111111111111,\"#46039f\"],[0.2222222222222222,\"#7201a8\"],[0.3333333333333333,\"#9c179e\"],[0.4444444444444444,\"#bd3786\"],[0.5555555555555556,\"#d8576b\"],[0.6666666666666666,\"#ed7953\"],[0.7777777777777778,\"#fb9f3a\"],[0.8888888888888888,\"#fdca26\"],[1.0,\"#f0f921\"]],\"type\":\"heatmapgl\"}],\"histogram\":[{\"marker\":{\"pattern\":{\"fillmode\":\"overlay\",\"size\":10,\"solidity\":0.2}},\"type\":\"histogram\"}],\"histogram2d\":[{\"colorbar\":{\"outlinewidth\":0,\"ticks\":\"\"},\"colorscale\":[[0.0,\"#0d0887\"],[0.1111111111111111,\"#46039f\"],[0.2222222222222222,\"#7201a8\"],[0.3333333333333333,\"#9c179e\"],[0.4444444444444444,\"#bd3786\"],[0.5555555555555556,\"#d8576b\"],[0.6666666666666666,\"#ed7953\"],[0.7777777777777778,\"#fb9f3a\"],[0.8888888888888888,\"#fdca26\"],[1.0,\"#f0f921\"]],\"type\":\"histogram2d\"}],\"histogram2dcontour\":[{\"colorbar\":{\"outlinewidth\":0,\"ticks\":\"\"},\"colorscale\":[[0.0,\"#0d0887\"],[0.1111111111111111,\"#46039f\"],[0.2222222222222222,\"#7201a8\"],[0.3333333333333333,\"#9c179e\"],[0.4444444444444444,\"#bd3786\"],[0.5555555555555556,\"#d8576b\"],[0.6666666666666666,\"#ed7953\"],[0.7777777777777778,\"#fb9f3a\"],[0.8888888888888888,\"#fdca26\"],[1.0,\"#f0f921\"]],\"type\":\"histogram2dcontour\"}],\"mesh3d\":[{\"colorbar\":{\"outlinewidth\":0,\"ticks\":\"\"},\"type\":\"mesh3d\"}],\"parcoords\":[{\"line\":{\"colorbar\":{\"outlinewidth\":0,\"ticks\":\"\"}},\"type\":\"parcoords\"}],\"pie\":[{\"automargin\":true,\"type\":\"pie\"}],\"scatter\":[{\"marker\":{\"colorbar\":{\"outlinewidth\":0,\"ticks\":\"\"}},\"type\":\"scatter\"}],\"scatter3d\":[{\"line\":{\"colorbar\":{\"outlinewidth\":0,\"ticks\":\"\"}},\"marker\":{\"colorbar\":{\"outlinewidth\":0,\"ticks\":\"\"}},\"type\":\"scatter3d\"}],\"scattercarpet\":[{\"marker\":{\"colorbar\":{\"outlinewidth\":0,\"ticks\":\"\"}},\"type\":\"scattercarpet\"}],\"scattergeo\":[{\"marker\":{\"colorbar\":{\"outlinewidth\":0,\"ticks\":\"\"}},\"type\":\"scattergeo\"}],\"scattergl\":[{\"marker\":{\"colorbar\":{\"outlinewidth\":0,\"ticks\":\"\"}},\"type\":\"scattergl\"}],\"scattermapbox\":[{\"marker\":{\"colorbar\":{\"outlinewidth\":0,\"ticks\":\"\"}},\"type\":\"scattermapbox\"}],\"scatterpolar\":[{\"marker\":{\"colorbar\":{\"outlinewidth\":0,\"ticks\":\"\"}},\"type\":\"scatterpolar\"}],\"scatterpolargl\":[{\"marker\":{\"colorbar\":{\"outlinewidth\":0,\"ticks\":\"\"}},\"type\":\"scatterpolargl\"}],\"scatterternary\":[{\"marker\":{\"colorbar\":{\"outlinewidth\":0,\"ticks\":\"\"}},\"type\":\"scatterternary\"}],\"surface\":[{\"colorbar\":{\"outlinewidth\":0,\"ticks\":\"\"},\"colorscale\":[[0.0,\"#0d0887\"],[0.1111111111111111,\"#46039f\"],[0.2222222222222222,\"#7201a8\"],[0.3333333333333333,\"#9c179e\"],[0.4444444444444444,\"#bd3786\"],[0.5555555555555556,\"#d8576b\"],[0.6666666666666666,\"#ed7953\"],[0.7777777777777778,\"#fb9f3a\"],[0.8888888888888888,\"#fdca26\"],[1.0,\"#f0f921\"]],\"type\":\"surface\"}],\"table\":[{\"cells\":{\"fill\":{\"color\":\"#EBF0F8\"},\"line\":{\"color\":\"white\"}},\"header\":{\"fill\":{\"color\":\"#C8D4E3\"},\"line\":{\"color\":\"white\"}},\"type\":\"table\"}]},\"layout\":{\"annotationdefaults\":{\"arrowcolor\":\"#2a3f5f\",\"arrowhead\":0,\"arrowwidth\":1},\"autotypenumbers\":\"strict\",\"coloraxis\":{\"colorbar\":{\"outlinewidth\":0,\"ticks\":\"\"}},\"colorscale\":{\"diverging\":[[0,\"#8e0152\"],[0.1,\"#c51b7d\"],[0.2,\"#de77ae\"],[0.3,\"#f1b6da\"],[0.4,\"#fde0ef\"],[0.5,\"#f7f7f7\"],[0.6,\"#e6f5d0\"],[0.7,\"#b8e186\"],[0.8,\"#7fbc41\"],[0.9,\"#4d9221\"],[1,\"#276419\"]],\"sequential\":[[0.0,\"#0d0887\"],[0.1111111111111111,\"#46039f\"],[0.2222222222222222,\"#7201a8\"],[0.3333333333333333,\"#9c179e\"],[0.4444444444444444,\"#bd3786\"],[0.5555555555555556,\"#d8576b\"],[0.6666666666666666,\"#ed7953\"],[0.7777777777777778,\"#fb9f3a\"],[0.8888888888888888,\"#fdca26\"],[1.0,\"#f0f921\"]],\"sequentialminus\":[[0.0,\"#0d0887\"],[0.1111111111111111,\"#46039f\"],[0.2222222222222222,\"#7201a8\"],[0.3333333333333333,\"#9c179e\"],[0.4444444444444444,\"#bd3786\"],[0.5555555555555556,\"#d8576b\"],[0.6666666666666666,\"#ed7953\"],[0.7777777777777778,\"#fb9f3a\"],[0.8888888888888888,\"#fdca26\"],[1.0,\"#f0f921\"]]},\"colorway\":[\"#636efa\",\"#EF553B\",\"#00cc96\",\"#ab63fa\",\"#FFA15A\",\"#19d3f3\",\"#FF6692\",\"#B6E880\",\"#FF97FF\",\"#FECB52\"],\"font\":{\"color\":\"#2a3f5f\"},\"geo\":{\"bgcolor\":\"white\",\"lakecolor\":\"white\",\"landcolor\":\"#E5ECF6\",\"showlakes\":true,\"showland\":true,\"subunitcolor\":\"white\"},\"hoverlabel\":{\"align\":\"left\"},\"hovermode\":\"closest\",\"mapbox\":{\"style\":\"light\"},\"paper_bgcolor\":\"white\",\"plot_bgcolor\":\"#E5ECF6\",\"polar\":{\"angularaxis\":{\"gridcolor\":\"white\",\"linecolor\":\"white\",\"ticks\":\"\"},\"bgcolor\":\"#E5ECF6\",\"radialaxis\":{\"gridcolor\":\"white\",\"linecolor\":\"white\",\"ticks\":\"\"}},\"scene\":{\"xaxis\":{\"backgroundcolor\":\"#E5ECF6\",\"gridcolor\":\"white\",\"gridwidth\":2,\"linecolor\":\"white\",\"showbackground\":true,\"ticks\":\"\",\"zerolinecolor\":\"white\"},\"yaxis\":{\"backgroundcolor\":\"#E5ECF6\",\"gridcolor\":\"white\",\"gridwidth\":2,\"linecolor\":\"white\",\"showbackground\":true,\"ticks\":\"\",\"zerolinecolor\":\"white\"},\"zaxis\":{\"backgroundcolor\":\"#E5ECF6\",\"gridcolor\":\"white\",\"gridwidth\":2,\"linecolor\":\"white\",\"showbackground\":true,\"ticks\":\"\",\"zerolinecolor\":\"white\"}},\"shapedefaults\":{\"line\":{\"color\":\"#2a3f5f\"}},\"ternary\":{\"aaxis\":{\"gridcolor\":\"white\",\"linecolor\":\"white\",\"ticks\":\"\"},\"baxis\":{\"gridcolor\":\"white\",\"linecolor\":\"white\",\"ticks\":\"\"},\"bgcolor\":\"#E5ECF6\",\"caxis\":{\"gridcolor\":\"white\",\"linecolor\":\"white\",\"ticks\":\"\"}},\"title\":{\"x\":0.05},\"xaxis\":{\"automargin\":true,\"gridcolor\":\"white\",\"linecolor\":\"white\",\"ticks\":\"\",\"title\":{\"standoff\":15},\"zerolinecolor\":\"white\",\"zerolinewidth\":2},\"yaxis\":{\"automargin\":true,\"gridcolor\":\"white\",\"linecolor\":\"white\",\"ticks\":\"\",\"title\":{\"standoff\":15},\"zerolinecolor\":\"white\",\"zerolinewidth\":2}}}},                        {\"responsive\": true}                    ).then(function(){\n",
              "                            \n",
              "var gd = document.getElementById('bd4d9828-7db6-4fb8-ba3c-6aeacd9ab728');\n",
              "var x = new MutationObserver(function (mutations, observer) {{\n",
              "        var display = window.getComputedStyle(gd).display;\n",
              "        if (!display || display === 'none') {{\n",
              "            console.log([gd, 'removed!']);\n",
              "            Plotly.purge(gd);\n",
              "            observer.disconnect();\n",
              "        }}\n",
              "}});\n",
              "\n",
              "// Listen for the removal of the full notebook cells\n",
              "var notebookContainer = gd.closest('#notebook-container');\n",
              "if (notebookContainer) {{\n",
              "    x.observe(notebookContainer, {childList: true});\n",
              "}}\n",
              "\n",
              "// Listen for the clearing of the current output cell\n",
              "var outputEl = gd.closest('.output');\n",
              "if (outputEl) {{\n",
              "    x.observe(outputEl, {childList: true});\n",
              "}}\n",
              "\n",
              "                        })                };                            </script>        </div>\n",
              "</body>\n",
              "</html>"
            ]
          },
          "metadata": {},
          "output_type": "display_data"
        }
      ],
      "source": [
        "# plot_parallel_coordinate: interactively visualizes the hyperparameters and scores\n",
        "fig = optuna.visualization.plot_parallel_coordinate(study)\n",
        "py.plot(fig, filename='parallelCoordinate_KNN_Optuna_SMOTE_100_GPU_ROCweighted.html')\n",
        "fig.show()"
      ]
    },
    {
      "cell_type": "code",
      "execution_count": null,
      "metadata": {
        "colab": {
          "base_uri": "https://localhost:8080/",
          "height": 542
        },
        "id": "U8_KwUGqqC--",
        "outputId": "373abfce-a1e7-4537-d367-47e318f1beb5"
      },
      "outputs": [
        {
          "data": {
            "text/html": [
              "<html>\n",
              "<head><meta charset=\"utf-8\" /></head>\n",
              "<body>\n",
              "    <div>            <script src=\"https://cdnjs.cloudflare.com/ajax/libs/mathjax/2.7.5/MathJax.js?config=TeX-AMS-MML_SVG\"></script><script type=\"text/javascript\">if (window.MathJax) {MathJax.Hub.Config({SVG: {font: \"STIX-Web\"}});}</script>                <script type=\"text/javascript\">window.PlotlyConfig = {MathJaxConfig: 'local'};</script>\n",
              "        <script src=\"https://cdn.plot.ly/plotly-2.8.3.min.js\"></script>                <div id=\"a0c42f4c-1001-4e46-91af-e86774860b71\" class=\"plotly-graph-div\" style=\"height:525px; width:100%;\"></div>            <script type=\"text/javascript\">                                    window.PLOTLYENV=window.PLOTLYENV || {};                                    if (document.getElementById(\"a0c42f4c-1001-4e46-91af-e86774860b71\")) {                    Plotly.newPlot(                        \"a0c42f4c-1001-4e46-91af-e86774860b71\",                        [{\"marker\":{\"color\":[0,1,2,3,4,5,6,7,8,9,10,11,12,13,14,15,16,17,18,19,20,21,22,23,24,25,26,27,28,29,30,31,32,33,34,35,36,37,38,39,40,41,42,43,44,45,46,47,48,49,50,51,52,53,54,55,56,57,58,59,60,61,62,63,64,65,66,67,68,69,70,71,72,73,74,75,76,77,78,79,80,81,82,83,84,85,86,87,88,89,90,91,92,93,94,95,96,97,98,99],\"colorbar\":{\"title\":{\"text\":\"#Trials\"},\"x\":1.0,\"xpad\":40},\"colorscale\":[[0.0,\"rgb(247,251,255)\"],[0.125,\"rgb(222,235,247)\"],[0.25,\"rgb(198,219,239)\"],[0.375,\"rgb(158,202,225)\"],[0.5,\"rgb(107,174,214)\"],[0.625,\"rgb(66,146,198)\"],[0.75,\"rgb(33,113,181)\"],[0.875,\"rgb(8,81,156)\"],[1.0,\"rgb(8,48,107)\"]],\"line\":{\"color\":\"Grey\",\"width\":0.5},\"showscale\":true},\"mode\":\"markers\",\"showlegend\":false,\"x\":[\"euclidean\",\"chebyshev\",\"euclidean\",\"euclidean\",\"manhattan\",\"minkowski\",\"minkowski\",\"chebyshev\",\"chebyshev\",\"chebyshev\",\"minkowski\",\"minkowski\",\"euclidean\",\"manhattan\",\"manhattan\",\"manhattan\",\"minkowski\",\"manhattan\",\"manhattan\",\"minkowski\",\"minkowski\",\"manhattan\",\"manhattan\",\"manhattan\",\"manhattan\",\"manhattan\",\"manhattan\",\"minkowski\",\"manhattan\",\"manhattan\",\"manhattan\",\"manhattan\",\"manhattan\",\"manhattan\",\"euclidean\",\"manhattan\",\"manhattan\",\"euclidean\",\"manhattan\",\"chebyshev\",\"chebyshev\",\"chebyshev\",\"chebyshev\",\"chebyshev\",\"chebyshev\",\"chebyshev\",\"chebyshev\",\"chebyshev\",\"chebyshev\",\"chebyshev\",\"chebyshev\",\"chebyshev\",\"chebyshev\",\"chebyshev\",\"chebyshev\",\"chebyshev\",\"chebyshev\",\"chebyshev\",\"chebyshev\",\"euclidean\",\"chebyshev\",\"chebyshev\",\"chebyshev\",\"chebyshev\",\"chebyshev\",\"chebyshev\",\"chebyshev\",\"chebyshev\",\"chebyshev\",\"minkowski\",\"minkowski\",\"minkowski\",\"minkowski\",\"minkowski\",\"minkowski\",\"minkowski\",\"minkowski\",\"euclidean\",\"chebyshev\",\"minkowski\",\"minkowski\",\"chebyshev\",\"chebyshev\",\"chebyshev\",\"minkowski\",\"chebyshev\",\"euclidean\",\"minkowski\",\"minkowski\",\"chebyshev\",\"chebyshev\",\"minkowski\",\"minkowski\",\"minkowski\",\"minkowski\",\"chebyshev\",\"chebyshev\",\"chebyshev\",\"chebyshev\",\"minkowski\"],\"y\":[0.8214216063393962,0.8060404902687008,0.8190257901582789,0.8032500025314987,0.8189230795020938,0.818811075532316,0.8215751888800877,0.8189230795020938,0.8193450085894116,0.8112993904490162,0.819270842289469,0.8191763816786933,0.8172888985373847,0.8214260959342579,0.8189146422226762,0.8214260959342579,0.8205716436190461,0.8211769753575434,0.8177406643534502,0.8144896211942794,0.8191035716322332,0.8191763816786933,0.8187609441778121,0.8208432235557581,0.8216597323142351,0.8216165533758396,0.8191035716322332,0.8191233628409995,0.8216165533758396,0.8214216063393962,0.8191035716322332,0.8217075895592173,0.819253848447382,0.8212968376566083,0.8191233628409995,0.819253848447382,0.8193450085894116,0.8214216063393962,0.818811075532316,0.8216165533758396,0.8186044242749266,0.819253848447382,0.821455149254986,0.8216597323142351,0.8213563425332439,0.8216597323142351,0.8191233628409995,0.8189146422226762,0.8211825175713872,0.8217075895592173,0.8189146422226762,0.8191763816786933,0.8217075895592173,0.8216597323142351,0.8187609441778121,0.8217075895592173,0.8215751888800877,0.8217075895592173,0.8081143075851891,0.8191763816786933,0.8212968376566083,0.8217075895592173,0.8191763816786933,0.8193450085894116,0.8217075895592173,0.819253848447382,0.8217075895592173,0.821455149254986,0.8214260959342579,0.8217075895592173,0.8187609441778121,0.8217075895592173,0.8144896211942794,0.8191035716322332,0.8214260959342579,0.8217075895592173,0.8190257901582789,0.8200585316425474,0.821455149254986,0.8216165533758396,0.8214260959342579,0.8217075895592173,0.8217075895592173,0.8216165533758396,0.8211769753575434,0.8189146422226762,0.819253848447382,0.8212968376566083,0.8217075895592173,0.821455149254986,0.8189146422226762,0.8217075895592173,0.8214260959342579,0.8191035716322332,0.8191763816786933,0.8191233628409995,0.819253848447382,0.8216165533758396,0.8217075895592173,0.8191763816786933],\"type\":\"scatter\",\"xaxis\":\"x\",\"yaxis\":\"y\"},{\"marker\":{\"color\":[0,1,2,3,4,5,6,7,8,9,10,11,12,13,14,15,16,17,18,19,20,21,22,23,24,25,26,27,28,29,30,31,32,33,34,35,36,37,38,39,40,41,42,43,44,45,46,47,48,49,50,51,52,53,54,55,56,57,58,59,60,61,62,63,64,65,66,67,68,69,70,71,72,73,74,75,76,77,78,79,80,81,82,83,84,85,86,87,88,89,90,91,92,93,94,95,96,97,98,99],\"colorbar\":{\"title\":{\"text\":\"#Trials\"},\"x\":1.0,\"xpad\":40},\"colorscale\":[[0.0,\"rgb(247,251,255)\"],[0.125,\"rgb(222,235,247)\"],[0.25,\"rgb(198,219,239)\"],[0.375,\"rgb(158,202,225)\"],[0.5,\"rgb(107,174,214)\"],[0.625,\"rgb(66,146,198)\"],[0.75,\"rgb(33,113,181)\"],[0.875,\"rgb(8,81,156)\"],[1.0,\"rgb(8,48,107)\"]],\"line\":{\"color\":\"Grey\",\"width\":0.5},\"showscale\":false},\"mode\":\"markers\",\"showlegend\":false,\"x\":[50,5,49,3,31,33,32,31,47,11,20,41,21,40,39,40,26,36,23,15,45,41,35,28,38,44,45,37,44,50,45,42,43,48,37,43,47,50,33,44,29,43,46,38,34,38,37,39,30,42,39,41,42,38,35,42,32,42,7,41,48,42,41,47,42,43,42,46,40,42,35,42,15,45,40,42,49,24,46,44,40,42,42,44,36,39,43,48,42,46,39,42,40,45,41,37,43,44,42,41],\"y\":[0.8214216063393962,0.8060404902687008,0.8190257901582789,0.8032500025314987,0.8189230795020938,0.818811075532316,0.8215751888800877,0.8189230795020938,0.8193450085894116,0.8112993904490162,0.819270842289469,0.8191763816786933,0.8172888985373847,0.8214260959342579,0.8189146422226762,0.8214260959342579,0.8205716436190461,0.8211769753575434,0.8177406643534502,0.8144896211942794,0.8191035716322332,0.8191763816786933,0.8187609441778121,0.8208432235557581,0.8216597323142351,0.8216165533758396,0.8191035716322332,0.8191233628409995,0.8216165533758396,0.8214216063393962,0.8191035716322332,0.8217075895592173,0.819253848447382,0.8212968376566083,0.8191233628409995,0.819253848447382,0.8193450085894116,0.8214216063393962,0.818811075532316,0.8216165533758396,0.8186044242749266,0.819253848447382,0.821455149254986,0.8216597323142351,0.8213563425332439,0.8216597323142351,0.8191233628409995,0.8189146422226762,0.8211825175713872,0.8217075895592173,0.8189146422226762,0.8191763816786933,0.8217075895592173,0.8216597323142351,0.8187609441778121,0.8217075895592173,0.8215751888800877,0.8217075895592173,0.8081143075851891,0.8191763816786933,0.8212968376566083,0.8217075895592173,0.8191763816786933,0.8193450085894116,0.8217075895592173,0.819253848447382,0.8217075895592173,0.821455149254986,0.8214260959342579,0.8217075895592173,0.8187609441778121,0.8217075895592173,0.8144896211942794,0.8191035716322332,0.8214260959342579,0.8217075895592173,0.8190257901582789,0.8200585316425474,0.821455149254986,0.8216165533758396,0.8214260959342579,0.8217075895592173,0.8217075895592173,0.8216165533758396,0.8211769753575434,0.8189146422226762,0.819253848447382,0.8212968376566083,0.8217075895592173,0.821455149254986,0.8189146422226762,0.8217075895592173,0.8214260959342579,0.8191035716322332,0.8191763816786933,0.8191233628409995,0.819253848447382,0.8216165533758396,0.8217075895592173,0.8191763816786933],\"type\":\"scatter\",\"xaxis\":\"x2\",\"yaxis\":\"y2\"}],                        {\"template\":{\"data\":{\"bar\":[{\"error_x\":{\"color\":\"#2a3f5f\"},\"error_y\":{\"color\":\"#2a3f5f\"},\"marker\":{\"line\":{\"color\":\"#E5ECF6\",\"width\":0.5},\"pattern\":{\"fillmode\":\"overlay\",\"size\":10,\"solidity\":0.2}},\"type\":\"bar\"}],\"barpolar\":[{\"marker\":{\"line\":{\"color\":\"#E5ECF6\",\"width\":0.5},\"pattern\":{\"fillmode\":\"overlay\",\"size\":10,\"solidity\":0.2}},\"type\":\"barpolar\"}],\"carpet\":[{\"aaxis\":{\"endlinecolor\":\"#2a3f5f\",\"gridcolor\":\"white\",\"linecolor\":\"white\",\"minorgridcolor\":\"white\",\"startlinecolor\":\"#2a3f5f\"},\"baxis\":{\"endlinecolor\":\"#2a3f5f\",\"gridcolor\":\"white\",\"linecolor\":\"white\",\"minorgridcolor\":\"white\",\"startlinecolor\":\"#2a3f5f\"},\"type\":\"carpet\"}],\"choropleth\":[{\"colorbar\":{\"outlinewidth\":0,\"ticks\":\"\"},\"type\":\"choropleth\"}],\"contour\":[{\"colorbar\":{\"outlinewidth\":0,\"ticks\":\"\"},\"colorscale\":[[0.0,\"#0d0887\"],[0.1111111111111111,\"#46039f\"],[0.2222222222222222,\"#7201a8\"],[0.3333333333333333,\"#9c179e\"],[0.4444444444444444,\"#bd3786\"],[0.5555555555555556,\"#d8576b\"],[0.6666666666666666,\"#ed7953\"],[0.7777777777777778,\"#fb9f3a\"],[0.8888888888888888,\"#fdca26\"],[1.0,\"#f0f921\"]],\"type\":\"contour\"}],\"contourcarpet\":[{\"colorbar\":{\"outlinewidth\":0,\"ticks\":\"\"},\"type\":\"contourcarpet\"}],\"heatmap\":[{\"colorbar\":{\"outlinewidth\":0,\"ticks\":\"\"},\"colorscale\":[[0.0,\"#0d0887\"],[0.1111111111111111,\"#46039f\"],[0.2222222222222222,\"#7201a8\"],[0.3333333333333333,\"#9c179e\"],[0.4444444444444444,\"#bd3786\"],[0.5555555555555556,\"#d8576b\"],[0.6666666666666666,\"#ed7953\"],[0.7777777777777778,\"#fb9f3a\"],[0.8888888888888888,\"#fdca26\"],[1.0,\"#f0f921\"]],\"type\":\"heatmap\"}],\"heatmapgl\":[{\"colorbar\":{\"outlinewidth\":0,\"ticks\":\"\"},\"colorscale\":[[0.0,\"#0d0887\"],[0.1111111111111111,\"#46039f\"],[0.2222222222222222,\"#7201a8\"],[0.3333333333333333,\"#9c179e\"],[0.4444444444444444,\"#bd3786\"],[0.5555555555555556,\"#d8576b\"],[0.6666666666666666,\"#ed7953\"],[0.7777777777777778,\"#fb9f3a\"],[0.8888888888888888,\"#fdca26\"],[1.0,\"#f0f921\"]],\"type\":\"heatmapgl\"}],\"histogram\":[{\"marker\":{\"pattern\":{\"fillmode\":\"overlay\",\"size\":10,\"solidity\":0.2}},\"type\":\"histogram\"}],\"histogram2d\":[{\"colorbar\":{\"outlinewidth\":0,\"ticks\":\"\"},\"colorscale\":[[0.0,\"#0d0887\"],[0.1111111111111111,\"#46039f\"],[0.2222222222222222,\"#7201a8\"],[0.3333333333333333,\"#9c179e\"],[0.4444444444444444,\"#bd3786\"],[0.5555555555555556,\"#d8576b\"],[0.6666666666666666,\"#ed7953\"],[0.7777777777777778,\"#fb9f3a\"],[0.8888888888888888,\"#fdca26\"],[1.0,\"#f0f921\"]],\"type\":\"histogram2d\"}],\"histogram2dcontour\":[{\"colorbar\":{\"outlinewidth\":0,\"ticks\":\"\"},\"colorscale\":[[0.0,\"#0d0887\"],[0.1111111111111111,\"#46039f\"],[0.2222222222222222,\"#7201a8\"],[0.3333333333333333,\"#9c179e\"],[0.4444444444444444,\"#bd3786\"],[0.5555555555555556,\"#d8576b\"],[0.6666666666666666,\"#ed7953\"],[0.7777777777777778,\"#fb9f3a\"],[0.8888888888888888,\"#fdca26\"],[1.0,\"#f0f921\"]],\"type\":\"histogram2dcontour\"}],\"mesh3d\":[{\"colorbar\":{\"outlinewidth\":0,\"ticks\":\"\"},\"type\":\"mesh3d\"}],\"parcoords\":[{\"line\":{\"colorbar\":{\"outlinewidth\":0,\"ticks\":\"\"}},\"type\":\"parcoords\"}],\"pie\":[{\"automargin\":true,\"type\":\"pie\"}],\"scatter\":[{\"marker\":{\"colorbar\":{\"outlinewidth\":0,\"ticks\":\"\"}},\"type\":\"scatter\"}],\"scatter3d\":[{\"line\":{\"colorbar\":{\"outlinewidth\":0,\"ticks\":\"\"}},\"marker\":{\"colorbar\":{\"outlinewidth\":0,\"ticks\":\"\"}},\"type\":\"scatter3d\"}],\"scattercarpet\":[{\"marker\":{\"colorbar\":{\"outlinewidth\":0,\"ticks\":\"\"}},\"type\":\"scattercarpet\"}],\"scattergeo\":[{\"marker\":{\"colorbar\":{\"outlinewidth\":0,\"ticks\":\"\"}},\"type\":\"scattergeo\"}],\"scattergl\":[{\"marker\":{\"colorbar\":{\"outlinewidth\":0,\"ticks\":\"\"}},\"type\":\"scattergl\"}],\"scattermapbox\":[{\"marker\":{\"colorbar\":{\"outlinewidth\":0,\"ticks\":\"\"}},\"type\":\"scattermapbox\"}],\"scatterpolar\":[{\"marker\":{\"colorbar\":{\"outlinewidth\":0,\"ticks\":\"\"}},\"type\":\"scatterpolar\"}],\"scatterpolargl\":[{\"marker\":{\"colorbar\":{\"outlinewidth\":0,\"ticks\":\"\"}},\"type\":\"scatterpolargl\"}],\"scatterternary\":[{\"marker\":{\"colorbar\":{\"outlinewidth\":0,\"ticks\":\"\"}},\"type\":\"scatterternary\"}],\"surface\":[{\"colorbar\":{\"outlinewidth\":0,\"ticks\":\"\"},\"colorscale\":[[0.0,\"#0d0887\"],[0.1111111111111111,\"#46039f\"],[0.2222222222222222,\"#7201a8\"],[0.3333333333333333,\"#9c179e\"],[0.4444444444444444,\"#bd3786\"],[0.5555555555555556,\"#d8576b\"],[0.6666666666666666,\"#ed7953\"],[0.7777777777777778,\"#fb9f3a\"],[0.8888888888888888,\"#fdca26\"],[1.0,\"#f0f921\"]],\"type\":\"surface\"}],\"table\":[{\"cells\":{\"fill\":{\"color\":\"#EBF0F8\"},\"line\":{\"color\":\"white\"}},\"header\":{\"fill\":{\"color\":\"#C8D4E3\"},\"line\":{\"color\":\"white\"}},\"type\":\"table\"}]},\"layout\":{\"annotationdefaults\":{\"arrowcolor\":\"#2a3f5f\",\"arrowhead\":0,\"arrowwidth\":1},\"autotypenumbers\":\"strict\",\"coloraxis\":{\"colorbar\":{\"outlinewidth\":0,\"ticks\":\"\"}},\"colorscale\":{\"diverging\":[[0,\"#8e0152\"],[0.1,\"#c51b7d\"],[0.2,\"#de77ae\"],[0.3,\"#f1b6da\"],[0.4,\"#fde0ef\"],[0.5,\"#f7f7f7\"],[0.6,\"#e6f5d0\"],[0.7,\"#b8e186\"],[0.8,\"#7fbc41\"],[0.9,\"#4d9221\"],[1,\"#276419\"]],\"sequential\":[[0.0,\"#0d0887\"],[0.1111111111111111,\"#46039f\"],[0.2222222222222222,\"#7201a8\"],[0.3333333333333333,\"#9c179e\"],[0.4444444444444444,\"#bd3786\"],[0.5555555555555556,\"#d8576b\"],[0.6666666666666666,\"#ed7953\"],[0.7777777777777778,\"#fb9f3a\"],[0.8888888888888888,\"#fdca26\"],[1.0,\"#f0f921\"]],\"sequentialminus\":[[0.0,\"#0d0887\"],[0.1111111111111111,\"#46039f\"],[0.2222222222222222,\"#7201a8\"],[0.3333333333333333,\"#9c179e\"],[0.4444444444444444,\"#bd3786\"],[0.5555555555555556,\"#d8576b\"],[0.6666666666666666,\"#ed7953\"],[0.7777777777777778,\"#fb9f3a\"],[0.8888888888888888,\"#fdca26\"],[1.0,\"#f0f921\"]]},\"colorway\":[\"#636efa\",\"#EF553B\",\"#00cc96\",\"#ab63fa\",\"#FFA15A\",\"#19d3f3\",\"#FF6692\",\"#B6E880\",\"#FF97FF\",\"#FECB52\"],\"font\":{\"color\":\"#2a3f5f\"},\"geo\":{\"bgcolor\":\"white\",\"lakecolor\":\"white\",\"landcolor\":\"#E5ECF6\",\"showlakes\":true,\"showland\":true,\"subunitcolor\":\"white\"},\"hoverlabel\":{\"align\":\"left\"},\"hovermode\":\"closest\",\"mapbox\":{\"style\":\"light\"},\"paper_bgcolor\":\"white\",\"plot_bgcolor\":\"#E5ECF6\",\"polar\":{\"angularaxis\":{\"gridcolor\":\"white\",\"linecolor\":\"white\",\"ticks\":\"\"},\"bgcolor\":\"#E5ECF6\",\"radialaxis\":{\"gridcolor\":\"white\",\"linecolor\":\"white\",\"ticks\":\"\"}},\"scene\":{\"xaxis\":{\"backgroundcolor\":\"#E5ECF6\",\"gridcolor\":\"white\",\"gridwidth\":2,\"linecolor\":\"white\",\"showbackground\":true,\"ticks\":\"\",\"zerolinecolor\":\"white\"},\"yaxis\":{\"backgroundcolor\":\"#E5ECF6\",\"gridcolor\":\"white\",\"gridwidth\":2,\"linecolor\":\"white\",\"showbackground\":true,\"ticks\":\"\",\"zerolinecolor\":\"white\"},\"zaxis\":{\"backgroundcolor\":\"#E5ECF6\",\"gridcolor\":\"white\",\"gridwidth\":2,\"linecolor\":\"white\",\"showbackground\":true,\"ticks\":\"\",\"zerolinecolor\":\"white\"}},\"shapedefaults\":{\"line\":{\"color\":\"#2a3f5f\"}},\"ternary\":{\"aaxis\":{\"gridcolor\":\"white\",\"linecolor\":\"white\",\"ticks\":\"\"},\"baxis\":{\"gridcolor\":\"white\",\"linecolor\":\"white\",\"ticks\":\"\"},\"bgcolor\":\"#E5ECF6\",\"caxis\":{\"gridcolor\":\"white\",\"linecolor\":\"white\",\"ticks\":\"\"}},\"title\":{\"x\":0.05},\"xaxis\":{\"automargin\":true,\"gridcolor\":\"white\",\"linecolor\":\"white\",\"ticks\":\"\",\"title\":{\"standoff\":15},\"zerolinecolor\":\"white\",\"zerolinewidth\":2},\"yaxis\":{\"automargin\":true,\"gridcolor\":\"white\",\"linecolor\":\"white\",\"ticks\":\"\",\"title\":{\"standoff\":15},\"zerolinecolor\":\"white\",\"zerolinewidth\":2}}},\"xaxis\":{\"anchor\":\"y\",\"domain\":[0.0,0.45],\"title\":{\"text\":\"metric\"}},\"yaxis\":{\"anchor\":\"x\",\"domain\":[0.0,1.0],\"title\":{\"text\":\"Objective Value\"}},\"xaxis2\":{\"anchor\":\"y2\",\"domain\":[0.55,1.0],\"title\":{\"text\":\"n_neighbors\"}},\"yaxis2\":{\"anchor\":\"x2\",\"domain\":[0.0,1.0],\"matches\":\"y\",\"showticklabels\":false},\"title\":{\"text\":\"Slice Plot\"}},                        {\"responsive\": true}                    ).then(function(){\n",
              "                            \n",
              "var gd = document.getElementById('a0c42f4c-1001-4e46-91af-e86774860b71');\n",
              "var x = new MutationObserver(function (mutations, observer) {{\n",
              "        var display = window.getComputedStyle(gd).display;\n",
              "        if (!display || display === 'none') {{\n",
              "            console.log([gd, 'removed!']);\n",
              "            Plotly.purge(gd);\n",
              "            observer.disconnect();\n",
              "        }}\n",
              "}});\n",
              "\n",
              "// Listen for the removal of the full notebook cells\n",
              "var notebookContainer = gd.closest('#notebook-container');\n",
              "if (notebookContainer) {{\n",
              "    x.observe(notebookContainer, {childList: true});\n",
              "}}\n",
              "\n",
              "// Listen for the clearing of the current output cell\n",
              "var outputEl = gd.closest('.output');\n",
              "if (outputEl) {{\n",
              "    x.observe(outputEl, {childList: true});\n",
              "}}\n",
              "\n",
              "                        })                };                            </script>        </div>\n",
              "</body>\n",
              "</html>"
            ]
          },
          "metadata": {},
          "output_type": "display_data"
        }
      ],
      "source": [
        "# plot_slice: shows the change of the hyperparamters space over the search. \n",
        "fig = optuna.visualization.plot_slice(study)\n",
        "py.plot(fig, filename='slice_KNN_Optuna_SMOTE_100_GPU_ROCweighted.html')\n",
        "fig.show()"
      ]
    },
    {
      "cell_type": "code",
      "execution_count": null,
      "metadata": {
        "colab": {
          "base_uri": "https://localhost:8080/",
          "height": 542
        },
        "id": "0OOvdC89qC_B",
        "outputId": "f457e97a-4b0e-4e8f-b5d7-9b9b152a248a"
      },
      "outputs": [
        {
          "data": {
            "text/html": [
              "<html>\n",
              "<head><meta charset=\"utf-8\" /></head>\n",
              "<body>\n",
              "    <div>            <script src=\"https://cdnjs.cloudflare.com/ajax/libs/mathjax/2.7.5/MathJax.js?config=TeX-AMS-MML_SVG\"></script><script type=\"text/javascript\">if (window.MathJax) {MathJax.Hub.Config({SVG: {font: \"STIX-Web\"}});}</script>                <script type=\"text/javascript\">window.PlotlyConfig = {MathJaxConfig: 'local'};</script>\n",
              "        <script src=\"https://cdn.plot.ly/plotly-2.8.3.min.js\"></script>                <div id=\"1122072c-5e5c-426c-b7bb-f0f246c296e9\" class=\"plotly-graph-div\" style=\"height:525px; width:100%;\"></div>            <script type=\"text/javascript\">                                    window.PLOTLYENV=window.PLOTLYENV || {};                                    if (document.getElementById(\"1122072c-5e5c-426c-b7bb-f0f246c296e9\")) {                    Plotly.newPlot(                        \"1122072c-5e5c-426c-b7bb-f0f246c296e9\",                        [{\"mode\":\"lines\",\"name\":\"dask_optuna_knn_100_rmse_tpe\",\"x\":[0.8032500025314987,0.803436442804506,0.8036228830775132,0.8038093233505205,0.8039957636235278,0.8041822038965349,0.8043686441695422,0.8045550844425495,0.8047415247155567,0.804927964988564,0.8051144052615713,0.8053008455345786,0.8054872858075858,0.8056737260805931,0.8058601663536004,0.8060466066266075,0.8062330468996148,0.8064194871726221,0.8066059274456293,0.8067923677186366,0.8069788079916439,0.8071652482646511,0.8073516885376584,0.8075381288106657,0.8077245690836728,0.8079110093566801,0.8080974496296874,0.8082838899026947,0.8084703301757019,0.8086567704487092,0.8088432107217165,0.8090296509947237,0.809216091267731,0.8094025315407383,0.8095889718137455,0.8097754120867527,0.80996185235976,0.8101482926327672,0.8103347329057745,0.8105211731787818,0.810707613451789,0.8108940537247963,0.8110804939978036,0.8112669342708109,0.811453374543818,0.8116398148168253,0.8118262550898326,0.8120126953628398,0.8121991356358471,0.8123855759088544,0.8125720161818616,0.8127584564548689,0.8129448967278762,0.8131313370008834,0.8133177772738907,0.813504217546898,0.8136906578199051,0.8138770980929124,0.8140635383659197,0.814249978638927,0.8144364189119342,0.8146228591849415,0.8148092994579488,0.814995739730956,0.8151821800039633,0.8153686202769705,0.8155550605499777,0.815741500822985,0.8159279410959923,0.8161143813689995,0.8163008216420068,0.8164872619150141,0.8166737021880213,0.8168601424610286,0.8170465827340359,0.817233023007043,0.8174194632800503,0.8176059035530576,0.8177923438260649,0.8179787840990721,0.8181652243720794,0.8183516646450867,0.8185381049180939,0.8187245451911012,0.8189109854641085,0.8190974257371156,0.8192838660101229,0.8194703062831302,0.8196567465561374,0.8198431868291447,0.820029627102152,0.8202160673751593,0.8204025076481665,0.8205889479211738,0.820775388194181,0.8209618284671882,0.8211482687401955,0.8213347090132028,0.82152114928621,0.8217075895592173],\"y\":[0.01,0.01,0.01,0.01,0.01,0.01,0.01,0.01,0.01,0.01,0.01,0.01,0.01,0.01,0.01,0.02,0.02,0.02,0.02,0.02,0.02,0.02,0.02,0.02,0.02,0.02,0.02,0.03,0.03,0.03,0.03,0.03,0.03,0.03,0.03,0.03,0.03,0.03,0.03,0.03,0.03,0.03,0.03,0.03,0.04,0.04,0.04,0.04,0.04,0.04,0.04,0.04,0.04,0.04,0.04,0.04,0.04,0.04,0.04,0.04,0.04,0.06,0.06,0.06,0.06,0.06,0.06,0.06,0.06,0.06,0.06,0.06,0.06,0.06,0.06,0.06,0.07,0.07,0.08,0.08,0.08,0.08,0.08,0.09,0.14,0.23,0.46,0.49,0.49,0.49,0.49,0.5,0.5,0.51,0.51,0.52,0.52,0.58,0.72,1.0],\"type\":\"scatter\"}],                        {\"title\":{\"text\":\"Empirical Distribution Function Plot\"},\"xaxis\":{\"title\":{\"text\":\"Objective Value\"}},\"yaxis\":{\"title\":{\"text\":\"Cumulative Probability\"},\"range\":[0,1]},\"template\":{\"data\":{\"bar\":[{\"error_x\":{\"color\":\"#2a3f5f\"},\"error_y\":{\"color\":\"#2a3f5f\"},\"marker\":{\"line\":{\"color\":\"#E5ECF6\",\"width\":0.5},\"pattern\":{\"fillmode\":\"overlay\",\"size\":10,\"solidity\":0.2}},\"type\":\"bar\"}],\"barpolar\":[{\"marker\":{\"line\":{\"color\":\"#E5ECF6\",\"width\":0.5},\"pattern\":{\"fillmode\":\"overlay\",\"size\":10,\"solidity\":0.2}},\"type\":\"barpolar\"}],\"carpet\":[{\"aaxis\":{\"endlinecolor\":\"#2a3f5f\",\"gridcolor\":\"white\",\"linecolor\":\"white\",\"minorgridcolor\":\"white\",\"startlinecolor\":\"#2a3f5f\"},\"baxis\":{\"endlinecolor\":\"#2a3f5f\",\"gridcolor\":\"white\",\"linecolor\":\"white\",\"minorgridcolor\":\"white\",\"startlinecolor\":\"#2a3f5f\"},\"type\":\"carpet\"}],\"choropleth\":[{\"colorbar\":{\"outlinewidth\":0,\"ticks\":\"\"},\"type\":\"choropleth\"}],\"contour\":[{\"colorbar\":{\"outlinewidth\":0,\"ticks\":\"\"},\"colorscale\":[[0.0,\"#0d0887\"],[0.1111111111111111,\"#46039f\"],[0.2222222222222222,\"#7201a8\"],[0.3333333333333333,\"#9c179e\"],[0.4444444444444444,\"#bd3786\"],[0.5555555555555556,\"#d8576b\"],[0.6666666666666666,\"#ed7953\"],[0.7777777777777778,\"#fb9f3a\"],[0.8888888888888888,\"#fdca26\"],[1.0,\"#f0f921\"]],\"type\":\"contour\"}],\"contourcarpet\":[{\"colorbar\":{\"outlinewidth\":0,\"ticks\":\"\"},\"type\":\"contourcarpet\"}],\"heatmap\":[{\"colorbar\":{\"outlinewidth\":0,\"ticks\":\"\"},\"colorscale\":[[0.0,\"#0d0887\"],[0.1111111111111111,\"#46039f\"],[0.2222222222222222,\"#7201a8\"],[0.3333333333333333,\"#9c179e\"],[0.4444444444444444,\"#bd3786\"],[0.5555555555555556,\"#d8576b\"],[0.6666666666666666,\"#ed7953\"],[0.7777777777777778,\"#fb9f3a\"],[0.8888888888888888,\"#fdca26\"],[1.0,\"#f0f921\"]],\"type\":\"heatmap\"}],\"heatmapgl\":[{\"colorbar\":{\"outlinewidth\":0,\"ticks\":\"\"},\"colorscale\":[[0.0,\"#0d0887\"],[0.1111111111111111,\"#46039f\"],[0.2222222222222222,\"#7201a8\"],[0.3333333333333333,\"#9c179e\"],[0.4444444444444444,\"#bd3786\"],[0.5555555555555556,\"#d8576b\"],[0.6666666666666666,\"#ed7953\"],[0.7777777777777778,\"#fb9f3a\"],[0.8888888888888888,\"#fdca26\"],[1.0,\"#f0f921\"]],\"type\":\"heatmapgl\"}],\"histogram\":[{\"marker\":{\"pattern\":{\"fillmode\":\"overlay\",\"size\":10,\"solidity\":0.2}},\"type\":\"histogram\"}],\"histogram2d\":[{\"colorbar\":{\"outlinewidth\":0,\"ticks\":\"\"},\"colorscale\":[[0.0,\"#0d0887\"],[0.1111111111111111,\"#46039f\"],[0.2222222222222222,\"#7201a8\"],[0.3333333333333333,\"#9c179e\"],[0.4444444444444444,\"#bd3786\"],[0.5555555555555556,\"#d8576b\"],[0.6666666666666666,\"#ed7953\"],[0.7777777777777778,\"#fb9f3a\"],[0.8888888888888888,\"#fdca26\"],[1.0,\"#f0f921\"]],\"type\":\"histogram2d\"}],\"histogram2dcontour\":[{\"colorbar\":{\"outlinewidth\":0,\"ticks\":\"\"},\"colorscale\":[[0.0,\"#0d0887\"],[0.1111111111111111,\"#46039f\"],[0.2222222222222222,\"#7201a8\"],[0.3333333333333333,\"#9c179e\"],[0.4444444444444444,\"#bd3786\"],[0.5555555555555556,\"#d8576b\"],[0.6666666666666666,\"#ed7953\"],[0.7777777777777778,\"#fb9f3a\"],[0.8888888888888888,\"#fdca26\"],[1.0,\"#f0f921\"]],\"type\":\"histogram2dcontour\"}],\"mesh3d\":[{\"colorbar\":{\"outlinewidth\":0,\"ticks\":\"\"},\"type\":\"mesh3d\"}],\"parcoords\":[{\"line\":{\"colorbar\":{\"outlinewidth\":0,\"ticks\":\"\"}},\"type\":\"parcoords\"}],\"pie\":[{\"automargin\":true,\"type\":\"pie\"}],\"scatter\":[{\"marker\":{\"colorbar\":{\"outlinewidth\":0,\"ticks\":\"\"}},\"type\":\"scatter\"}],\"scatter3d\":[{\"line\":{\"colorbar\":{\"outlinewidth\":0,\"ticks\":\"\"}},\"marker\":{\"colorbar\":{\"outlinewidth\":0,\"ticks\":\"\"}},\"type\":\"scatter3d\"}],\"scattercarpet\":[{\"marker\":{\"colorbar\":{\"outlinewidth\":0,\"ticks\":\"\"}},\"type\":\"scattercarpet\"}],\"scattergeo\":[{\"marker\":{\"colorbar\":{\"outlinewidth\":0,\"ticks\":\"\"}},\"type\":\"scattergeo\"}],\"scattergl\":[{\"marker\":{\"colorbar\":{\"outlinewidth\":0,\"ticks\":\"\"}},\"type\":\"scattergl\"}],\"scattermapbox\":[{\"marker\":{\"colorbar\":{\"outlinewidth\":0,\"ticks\":\"\"}},\"type\":\"scattermapbox\"}],\"scatterpolar\":[{\"marker\":{\"colorbar\":{\"outlinewidth\":0,\"ticks\":\"\"}},\"type\":\"scatterpolar\"}],\"scatterpolargl\":[{\"marker\":{\"colorbar\":{\"outlinewidth\":0,\"ticks\":\"\"}},\"type\":\"scatterpolargl\"}],\"scatterternary\":[{\"marker\":{\"colorbar\":{\"outlinewidth\":0,\"ticks\":\"\"}},\"type\":\"scatterternary\"}],\"surface\":[{\"colorbar\":{\"outlinewidth\":0,\"ticks\":\"\"},\"colorscale\":[[0.0,\"#0d0887\"],[0.1111111111111111,\"#46039f\"],[0.2222222222222222,\"#7201a8\"],[0.3333333333333333,\"#9c179e\"],[0.4444444444444444,\"#bd3786\"],[0.5555555555555556,\"#d8576b\"],[0.6666666666666666,\"#ed7953\"],[0.7777777777777778,\"#fb9f3a\"],[0.8888888888888888,\"#fdca26\"],[1.0,\"#f0f921\"]],\"type\":\"surface\"}],\"table\":[{\"cells\":{\"fill\":{\"color\":\"#EBF0F8\"},\"line\":{\"color\":\"white\"}},\"header\":{\"fill\":{\"color\":\"#C8D4E3\"},\"line\":{\"color\":\"white\"}},\"type\":\"table\"}]},\"layout\":{\"annotationdefaults\":{\"arrowcolor\":\"#2a3f5f\",\"arrowhead\":0,\"arrowwidth\":1},\"autotypenumbers\":\"strict\",\"coloraxis\":{\"colorbar\":{\"outlinewidth\":0,\"ticks\":\"\"}},\"colorscale\":{\"diverging\":[[0,\"#8e0152\"],[0.1,\"#c51b7d\"],[0.2,\"#de77ae\"],[0.3,\"#f1b6da\"],[0.4,\"#fde0ef\"],[0.5,\"#f7f7f7\"],[0.6,\"#e6f5d0\"],[0.7,\"#b8e186\"],[0.8,\"#7fbc41\"],[0.9,\"#4d9221\"],[1,\"#276419\"]],\"sequential\":[[0.0,\"#0d0887\"],[0.1111111111111111,\"#46039f\"],[0.2222222222222222,\"#7201a8\"],[0.3333333333333333,\"#9c179e\"],[0.4444444444444444,\"#bd3786\"],[0.5555555555555556,\"#d8576b\"],[0.6666666666666666,\"#ed7953\"],[0.7777777777777778,\"#fb9f3a\"],[0.8888888888888888,\"#fdca26\"],[1.0,\"#f0f921\"]],\"sequentialminus\":[[0.0,\"#0d0887\"],[0.1111111111111111,\"#46039f\"],[0.2222222222222222,\"#7201a8\"],[0.3333333333333333,\"#9c179e\"],[0.4444444444444444,\"#bd3786\"],[0.5555555555555556,\"#d8576b\"],[0.6666666666666666,\"#ed7953\"],[0.7777777777777778,\"#fb9f3a\"],[0.8888888888888888,\"#fdca26\"],[1.0,\"#f0f921\"]]},\"colorway\":[\"#636efa\",\"#EF553B\",\"#00cc96\",\"#ab63fa\",\"#FFA15A\",\"#19d3f3\",\"#FF6692\",\"#B6E880\",\"#FF97FF\",\"#FECB52\"],\"font\":{\"color\":\"#2a3f5f\"},\"geo\":{\"bgcolor\":\"white\",\"lakecolor\":\"white\",\"landcolor\":\"#E5ECF6\",\"showlakes\":true,\"showland\":true,\"subunitcolor\":\"white\"},\"hoverlabel\":{\"align\":\"left\"},\"hovermode\":\"closest\",\"mapbox\":{\"style\":\"light\"},\"paper_bgcolor\":\"white\",\"plot_bgcolor\":\"#E5ECF6\",\"polar\":{\"angularaxis\":{\"gridcolor\":\"white\",\"linecolor\":\"white\",\"ticks\":\"\"},\"bgcolor\":\"#E5ECF6\",\"radialaxis\":{\"gridcolor\":\"white\",\"linecolor\":\"white\",\"ticks\":\"\"}},\"scene\":{\"xaxis\":{\"backgroundcolor\":\"#E5ECF6\",\"gridcolor\":\"white\",\"gridwidth\":2,\"linecolor\":\"white\",\"showbackground\":true,\"ticks\":\"\",\"zerolinecolor\":\"white\"},\"yaxis\":{\"backgroundcolor\":\"#E5ECF6\",\"gridcolor\":\"white\",\"gridwidth\":2,\"linecolor\":\"white\",\"showbackground\":true,\"ticks\":\"\",\"zerolinecolor\":\"white\"},\"zaxis\":{\"backgroundcolor\":\"#E5ECF6\",\"gridcolor\":\"white\",\"gridwidth\":2,\"linecolor\":\"white\",\"showbackground\":true,\"ticks\":\"\",\"zerolinecolor\":\"white\"}},\"shapedefaults\":{\"line\":{\"color\":\"#2a3f5f\"}},\"ternary\":{\"aaxis\":{\"gridcolor\":\"white\",\"linecolor\":\"white\",\"ticks\":\"\"},\"baxis\":{\"gridcolor\":\"white\",\"linecolor\":\"white\",\"ticks\":\"\"},\"bgcolor\":\"#E5ECF6\",\"caxis\":{\"gridcolor\":\"white\",\"linecolor\":\"white\",\"ticks\":\"\"}},\"title\":{\"x\":0.05},\"xaxis\":{\"automargin\":true,\"gridcolor\":\"white\",\"linecolor\":\"white\",\"ticks\":\"\",\"title\":{\"standoff\":15},\"zerolinecolor\":\"white\",\"zerolinewidth\":2},\"yaxis\":{\"automargin\":true,\"gridcolor\":\"white\",\"linecolor\":\"white\",\"ticks\":\"\",\"title\":{\"standoff\":15},\"zerolinecolor\":\"white\",\"zerolinewidth\":2}}}},                        {\"responsive\": true}                    ).then(function(){\n",
              "                            \n",
              "var gd = document.getElementById('1122072c-5e5c-426c-b7bb-f0f246c296e9');\n",
              "var x = new MutationObserver(function (mutations, observer) {{\n",
              "        var display = window.getComputedStyle(gd).display;\n",
              "        if (!display || display === 'none') {{\n",
              "            console.log([gd, 'removed!']);\n",
              "            Plotly.purge(gd);\n",
              "            observer.disconnect();\n",
              "        }}\n",
              "}});\n",
              "\n",
              "// Listen for the removal of the full notebook cells\n",
              "var notebookContainer = gd.closest('#notebook-container');\n",
              "if (notebookContainer) {{\n",
              "    x.observe(notebookContainer, {childList: true});\n",
              "}}\n",
              "\n",
              "// Listen for the clearing of the current output cell\n",
              "var outputEl = gd.closest('.output');\n",
              "if (outputEl) {{\n",
              "    x.observe(outputEl, {childList: true});\n",
              "}}\n",
              "\n",
              "                        })                };                            </script>        </div>\n",
              "</body>\n",
              "</html>"
            ]
          },
          "metadata": {},
          "output_type": "display_data"
        }
      ],
      "source": [
        "# Visualize empirical distribution function\n",
        "fig = optuna.visualization.plot_edf(study)\n",
        "py.plot(fig, filename='edf_KNN_Optuna_SMOTE_100_GPU_ROCweighted.html')\n",
        "fig.show()"
      ]
    },
    {
      "cell_type": "code",
      "execution_count": null,
      "metadata": {
        "colab": {
          "base_uri": "https://localhost:8080/"
        },
        "id": "tXLd_Kc5qC_B",
        "outputId": "60481de7-da37-430d-9028-6103001c1e21"
      },
      "outputs": [
        {
          "data": {
            "text/plain": [
              "{'metric': 'manhattan', 'n_neighbors': 42}"
            ]
          },
          "execution_count": 39,
          "metadata": {},
          "output_type": "execute_result"
        }
      ],
      "source": [
        "# Arrange best parameters to fit model for model metrics\n",
        "params = study.best_params   \n",
        "params"
      ]
    },
    {
      "cell_type": "code",
      "source": [
        "%cd /content/drive/MyDrive/LoanStatus/Python/Models/ML/KNN/Optuna/Model_PKL/"
      ],
      "metadata": {
        "colab": {
          "base_uri": "https://localhost:8080/"
        },
        "outputId": "01adbe35-006a-4ccb-c1c1-211249856131",
        "id": "DjMqAqtwcUIw"
      },
      "execution_count": null,
      "outputs": [
        {
          "output_type": "stream",
          "name": "stdout",
          "text": [
            "/content/drive/MyDrive/LoanStatus/Python/Models/ML/KNN/Optuna/Model_PKL\n"
          ]
        }
      ]
    },
    {
      "cell_type": "code",
      "execution_count": null,
      "metadata": {
        "id": "PRg8rgrKqC_C"
      },
      "outputs": [],
      "source": [
        "# Re-create the best model and train on the training data\n",
        "best_model = KNeighborsClassifier(n_neighbors=42, metric='manhattan')\n",
        "\n",
        "# Fit the model\n",
        "best_model.fit(X_train, y_train)\n",
        "\n",
        "# Save model\n",
        "Pkl_Filename = 'KNN_Optuna_SMOTE_trials100_GPU_ROCweighted.pkl'  \n",
        "\n",
        "with open(Pkl_Filename, 'wb') as file:  \n",
        "    pickle.dump(best_model, file)\n",
        "\n",
        "# =============================================================================\n",
        "# # To load saved model\n",
        "# model = joblib.load('KNN_Optuna_SMOTE_trials100_GPU_ROCweighted.pkl')\n",
        "# print(model)\n",
        "# ============================================================================="
      ]
    },
    {
      "cell_type": "code",
      "execution_count": null,
      "metadata": {
        "id": "oJJ5yWDSqC_C",
        "colab": {
          "base_uri": "https://localhost:8080/"
        },
        "outputId": "618f2767-e4bd-43b4-91ce-8133f346a9ca"
      },
      "outputs": [
        {
          "output_type": "stream",
          "name": "stdout",
          "text": [
            "\n",
            "Model Metrics for KNN HPO SMOTE 100trials GPU ROCweighted\n",
            "\n",
            "\n",
            "Classification Report:\n",
            "              precision    recall  f1-score   support\n",
            "\n",
            "           0       0.98      0.85      0.91    377848\n",
            "           1       0.45      0.85      0.59     54625\n",
            "\n",
            "    accuracy                           0.85    432473\n",
            "   macro avg       0.71      0.85      0.75    432473\n",
            "weighted avg       0.91      0.85      0.87    432473\n",
            "\n",
            "\n",
            "\n",
            "Confusion matrix:\n",
            "[[321684  56164]\n",
            " [  8011  46614]]\n",
            "\n",
            "\n",
            "Accuracy score : 0.852\n",
            "Precision score : 0.454\n",
            "Recall score : 0.853\n",
            "F1 score : 0.592\n"
          ]
        }
      ],
      "source": [
        "print('\\nModel Metrics for KNN HPO SMOTE 100trials GPU ROCweighted')\n",
        "# Predict based on training \n",
        "y_train_pred = best_model.predict(X_train)\n",
        "y_test_pred = best_model.predict(X_test)\n",
        "\n",
        "print('\\n')\n",
        "print('Classification Report:')\n",
        "clf_rpt = classification_report(y_test.to_numpy(), y_test_pred.to_numpy())\n",
        "print(clf_rpt)\n",
        "print('\\n')\n",
        "print('Confusion matrix:')\n",
        "print(confusion_matrix(y_test.to_numpy(), y_test_pred.to_numpy()))\n",
        "print('\\n')\n",
        "print('Accuracy score : %.3f' % accuracy_score(y_test.to_numpy(), \n",
        "                                               y_test_pred.to_numpy()))\n",
        "print('Precision score : %.3f' % precision_score(y_test.to_numpy(), \n",
        "                                                 y_test_pred.to_numpy()))\n",
        "print('Recall score : %.3f' % recall_score(y_test.to_numpy(), \n",
        "                                           y_test_pred.to_numpy()))\n",
        "print('F1 score : %.3f' % f1_score(y_test.to_numpy(), y_test_pred.to_numpy()))"
      ]
    },
    {
      "cell_type": "code",
      "execution_count": null,
      "metadata": {
        "id": "DkC_JVpFqC_D",
        "colab": {
          "base_uri": "https://localhost:8080/"
        },
        "outputId": "1158dcc8-1d6a-4e18-c5d3-abbcca214f8c"
      },
      "outputs": [
        {
          "output_type": "stream",
          "name": "stdout",
          "text": [
            "The best model from SMOTE 100 ROCweighted GPU trials optimization scores 0.85235 AUC ROC on the test set.\n",
            "This was achieved using these conditions:\n",
            "iteration                                    31\n",
            "roc_weighted                           0.821708\n",
            "datetime_start       2022-06-15 11:31:17.719770\n",
            "datetime_complete    2022-06-15 11:32:53.068772\n",
            "duration                 0 days 00:01:35.349002\n",
            "metric                                manhattan\n",
            "n_neighbors                                  42\n",
            "state                                  COMPLETE\n",
            "Name: 0, dtype: object\n"
          ]
        }
      ],
      "source": [
        "# Evaluate on the testing data \n",
        "print('The best model from SMOTE 100 ROCweighted GPU trials optimization scores {:.5f} AUC ROC on the test set.'.format(roc_auc_score(y_test.to_numpy(), \n",
        "                                                                                                                                      y_test_pred.to_numpy())))\n",
        "print('This was achieved using these conditions:')\n",
        "print(trials_df.iloc[0])"
      ]
    },
    {
      "cell_type": "markdown",
      "source": [
        "## Recall"
      ],
      "metadata": {
        "id": "GMr19OTgslDz"
      }
    },
    {
      "cell_type": "markdown",
      "source": [
        "### 100 Trials"
      ],
      "metadata": {
        "id": "vhj0Z5tqsmX8"
      }
    },
    {
      "cell_type": "code",
      "source": [
        "%cd /content/drive/MyDrive/LoanStatus/Python/Models/ML/KNN/Optuna/Model_PKL/\n",
        "\n",
        "# Define a name for the trials\n",
        "study_name = 'dask_knn_optuna_SMOTE_100_Recall_tpe'"
      ],
      "metadata": {
        "colab": {
          "base_uri": "https://localhost:8080/"
        },
        "outputId": "01adbe35-006a-4ccb-c1c1-211249856131",
        "id": "lbcUhpmxcXOn"
      },
      "execution_count": null,
      "outputs": [
        {
          "output_type": "stream",
          "name": "stdout",
          "text": [
            "/content/drive/MyDrive/LoanStatus/Python/Models/ML/KNN/Optuna/Model_PKL\n"
          ]
        }
      ]
    },
    {
      "cell_type": "code",
      "execution_count": null,
      "metadata": {
        "colab": {
          "background_save": true
        },
        "id": "R46jnEeElXmI"
      },
      "outputs": [],
      "source": [
        "# Define function to train/evaluate the model\n",
        "def train_and_eval(X_param, y_param, n_neighbors=10, \n",
        "                   metric='euclidean', verbose=False): \n",
        "    \"\"\"\n",
        "    Partition data into train/test sets, train and evaluate the model\n",
        "    for the given parameters.\n",
        "        \n",
        "    Params\n",
        "    ______\n",
        "        \n",
        "    X_param:  DataFrame. \n",
        "              The data to use for training and testing. \n",
        "    y_param:  Series. \n",
        "              The label for training\n",
        "\n",
        "    Returns\n",
        "    score: F1 weighted of the fitted model\n",
        "    \"\"\"\n",
        "    \n",
        "    # Set up train/test sets\n",
        "    X_train, y_train = trainDF.drop('loan_status', \n",
        "                                    axis=1), trainDF['loan_status'].astype('int32')\n",
        "    X_train = X_train.astype('float32')\n",
        "\n",
        "    X_test, y_test= testDF.drop('loan_status', \n",
        "                                axis=1), testDF['loan_status'].astype('int32')\n",
        "    X_test = X_test.astype('float32')\n",
        "\n",
        "    # Define model\n",
        "    model = KNeighborsClassifier(n_neighbors=n_neighbors, \n",
        "                                 metric=metric, \n",
        "                                 verbose=verbose)\n",
        "    \n",
        "    # Start timer for each trial\n",
        "    start = timer()\n",
        "\n",
        "    # Fit model\n",
        "    model.fit(X_train, y_train)\n",
        "    \n",
        "    # Predict\n",
        "    y_pred = model.predict(X_test)\n",
        "    score = recall_score(y_test.to_numpy(), y_pred.to_numpy())\n",
        "\n",
        "    run_time = timer() - start\n",
        "    print('- Trial time:', run_time) \n",
        "    print('- Trial recall score:', score)\n",
        "    print('######################################################')\n",
        "\n",
        "    return score"
      ]
    },
    {
      "cell_type": "code",
      "execution_count": null,
      "metadata": {
        "colab": {
          "base_uri": "https://localhost:8080/"
        },
        "id": "m6R9raCqlXmJ",
        "outputId": "7e6cb8fe-a6d3-4071-d9ed-412d460039cc"
      },
      "outputs": [
        {
          "name": "stdout",
          "output_type": "stream",
          "text": [
            "- Trial time: 90.0641979789998\n",
            "- Trial recall score: 0.7680549199084669\n",
            "######################################################\n",
            "Score with default parameters :  0.7680549199084669\n"
          ]
        }
      ],
      "source": [
        "print('Score with default parameters : ', train_and_eval(X_train, y_train))"
      ]
    },
    {
      "cell_type": "code",
      "execution_count": null,
      "metadata": {
        "colab": {
          "background_save": true
        },
        "id": "3ZO94Y3GlXmK"
      },
      "outputs": [],
      "source": [
        "# Define objective function with the parameters to be tested\n",
        "def objective(trial, X_param, y_param):\n",
        "\n",
        "    joblib.dump(study, 'KNN_Optuna_SMOTE_100_GPU_Recall.pkl')\n",
        "\n",
        "    # Search parameters\n",
        "    n_neighbors = trial.suggest_int('n_neighbors', 3, 50) \n",
        "    metric = trial.suggest_categorical('metric', ['euclidean', 'manhattan', \n",
        "                                                  'chebyshev', 'minkowski'])\n",
        "\n",
        "    score = train_and_eval(X_param, y_param,\n",
        "                           n_neighbors=n_neighbors, \n",
        "                           verbose=False)\n",
        "\n",
        "    return score"
      ]
    },
    {
      "cell_type": "code",
      "execution_count": null,
      "metadata": {
        "id": "Fw4073GOrivH",
        "colab": {
          "base_uri": "https://localhost:8080/"
        },
        "outputId": "a961ea47-c484-4ba6-a00a-48f8e05a95d2"
      },
      "outputs": [
        {
          "output_type": "stream",
          "name": "stdout",
          "text": [
            "Start Time           2022-06-15 19:09:33.497171\n",
            "- Trial time: 41.311747205000074\n",
            "- Trial recall score: 0.732558352402746\n",
            "######################################################\n",
            "- Trial time: 38.07488493699998\n",
            "- Trial recall score: 0.8370343249427917\n",
            "######################################################\n",
            "- Trial time: 37.903391219000014\n",
            "- Trial recall score: 0.8261235697940503\n",
            "######################################################\n",
            "- Trial time: 37.71077408500014\n",
            "- Trial recall score: 0.8287231121281464\n",
            "######################################################\n",
            "- Trial time: 38.09518563300003\n",
            "- Trial recall score: 0.8299679633867277\n",
            "######################################################\n",
            "- Trial time: 36.149850195\n",
            "- Trial recall score: 0.7234782608695652\n",
            "######################################################\n",
            "- Trial time: 36.71281062900016\n",
            "- Trial recall score: 0.8123935926773456\n",
            "######################################################\n",
            "- Trial time: 38.086212108999916\n",
            "- Trial recall score: 0.8314508009153319\n",
            "######################################################\n",
            "- Trial time: 37.904372758000136\n",
            "- Trial recall score: 0.8348009153318078\n",
            "######################################################\n",
            "- Trial time: 38.03567543100007\n",
            "- Trial recall score: 0.8370343249427917\n",
            "######################################################\n",
            "- Trial time: 37.937485103999734\n",
            "- Trial recall score: 0.8238535469107552\n",
            "######################################################\n",
            "- Trial time: 37.979898522999974\n",
            "- Trial recall score: 0.8370343249427917\n",
            "######################################################\n",
            "- Trial time: 37.884238198000276\n",
            "- Trial recall score: 0.8276247139588101\n",
            "######################################################\n",
            "- Trial time: 38.00383912999996\n",
            "- Trial recall score: 0.8377482837528604\n",
            "######################################################\n",
            "- Trial time: 37.99411599299992\n",
            "- Trial recall score: 0.8377482837528604\n",
            "######################################################\n",
            "- Trial time: 38.01573681699983\n",
            "- Trial recall score: 0.8377482837528604\n",
            "######################################################\n",
            "- Trial time: 37.99251346000028\n",
            "- Trial recall score: 0.8377482837528604\n",
            "######################################################\n",
            "- Trial time: 37.99631671099996\n",
            "- Trial recall score: 0.8314508009153319\n",
            "######################################################\n",
            "- Trial time: 37.972104316999776\n",
            "- Trial recall score: 0.8377482837528604\n",
            "######################################################\n",
            "- Trial time: 37.98208914499992\n",
            "- Trial recall score: 0.8377482837528604\n",
            "######################################################\n",
            "- Trial time: 37.96183516799965\n",
            "- Trial recall score: 0.8377482837528604\n",
            "######################################################\n",
            "- Trial time: 37.9829290130001\n",
            "- Trial recall score: 0.8377482837528604\n",
            "######################################################\n",
            "- Trial time: 37.96928127299998\n",
            "- Trial recall score: 0.8377482837528604\n",
            "######################################################\n",
            "- Trial time: 38.07519611099997\n",
            "- Trial recall score: 0.8377482837528604\n",
            "######################################################\n",
            "- Trial time: 37.830845960999795\n",
            "- Trial recall score: 0.8355881006864988\n",
            "######################################################\n",
            "- Trial time: 37.99747344300022\n",
            "- Trial recall score: 0.8314508009153319\n",
            "######################################################\n",
            "- Trial time: 37.95510430200011\n",
            "- Trial recall score: 0.8377482837528604\n",
            "######################################################\n",
            "- Trial time: 36.395203165999646\n",
            "- Trial recall score: 0.7846590389016018\n",
            "######################################################\n",
            "- Trial time: 36.928026750999834\n",
            "- Trial recall score: 0.8089885583524028\n",
            "######################################################\n",
            "- Trial time: 37.82867801300017\n",
            "- Trial recall score: 0.8355881006864988\n",
            "######################################################\n",
            "- Trial time: 37.81190211300009\n",
            "- Trial recall score: 0.8276247139588101\n",
            "######################################################\n",
            "- Trial time: 37.96247161100018\n",
            "- Trial recall score: 0.8377482837528604\n",
            "######################################################\n",
            "- Trial time: 37.961550916000306\n",
            "- Trial recall score: 0.8377482837528604\n",
            "######################################################\n",
            "- Trial time: 37.89148257399984\n",
            "- Trial recall score: 0.8287231121281464\n",
            "######################################################\n",
            "- Trial time: 37.96755685900007\n",
            "- Trial recall score: 0.8377482837528604\n",
            "######################################################\n",
            "- Trial time: 37.99923010200018\n",
            "- Trial recall score: 0.8314508009153319\n",
            "######################################################\n",
            "- Trial time: 37.901860467000006\n",
            "- Trial recall score: 0.8287231121281464\n",
            "######################################################\n",
            "- Trial time: 37.90718570200033\n",
            "- Trial recall score: 0.8348009153318078\n",
            "######################################################\n",
            "- Trial time: 37.93006213600029\n",
            "- Trial recall score: 0.8299679633867277\n",
            "######################################################\n",
            "- Trial time: 37.872968408999895\n",
            "- Trial recall score: 0.8287231121281464\n",
            "######################################################\n",
            "- Trial time: 37.75048609700025\n",
            "- Trial recall score: 0.8261235697940503\n",
            "######################################################\n",
            "- Trial time: 37.95609053099997\n",
            "- Trial recall score: 0.8377482837528604\n",
            "######################################################\n",
            "- Trial time: 38.08448345399984\n",
            "- Trial recall score: 0.8377482837528604\n",
            "######################################################\n",
            "- Trial time: 37.94695448600032\n",
            "- Trial recall score: 0.8299679633867277\n",
            "######################################################\n",
            "- Trial time: 37.98669319999999\n",
            "- Trial recall score: 0.8314508009153319\n",
            "######################################################\n",
            "- Trial time: 37.850599843000055\n",
            "- Trial recall score: 0.8355881006864988\n",
            "######################################################\n",
            "- Trial time: 37.93586086799996\n",
            "- Trial recall score: 0.8299679633867277\n",
            "######################################################\n",
            "- Trial time: 36.945265199000005\n",
            "- Trial recall score: 0.8143707093821511\n",
            "######################################################\n",
            "- Trial time: 37.8478790449999\n",
            "- Trial recall score: 0.8287231121281464\n",
            "######################################################\n",
            "..dask_optuna             :  1865.5230\n",
            "Start Time           2022-06-15 19:09:33.497171\n",
            "End Time             2022-06-15 19:40:39.020352\n",
            "0:31:05\n",
            "\n",
            "\n",
            "Number of finished trials: 100\n",
            "Best trial: {'n_neighbors': 49, 'metric': 'chebyshev'}\n",
            "Highest Recall score 0.8377482837528604\n"
          ]
        }
      ],
      "source": [
        "with timed('dask_optuna'):\n",
        "    # Begin HPO trials \n",
        "    # Start timer for experiment\n",
        "    start_time = datetime.now()\n",
        "    print('%-20s %s' % ('Start Time', start_time))\n",
        "    if os.path.isfile('KNN_Optuna_SMOTE_100_GPU_Recall.pkl'): \n",
        "      study = joblib.load('KNN_Optuna_SMOTE_100_GPU_Recall.pkl')\n",
        "    else: \n",
        "      study = optuna.create_study(sampler=optuna.samplers.TPESampler(), \n",
        "                                  study_name=study_name,\n",
        "                                  direction='maximize')\n",
        "      \n",
        "    # Optimize in parallel on Dask cluster\n",
        "    with parallel_backend('dask'):\n",
        "        study.optimize(lambda trial: objective(trial, X_train, y_train), \n",
        "                       n_trials=100,\n",
        "                       n_jobs=n_workers)\n",
        "\n",
        "# End timer for experiment\n",
        "end_time = datetime.now()\n",
        "print('%-20s %s' % ('Start Time', start_time))\n",
        "print('%-20s %s' % ('End Time', end_time))\n",
        "print(str(timedelta(seconds=(end_time-start_time).seconds)))\n",
        "print('\\n')\n",
        "print('Number of finished trials:', len(study.trials))\n",
        "print('Best trial:', study.best_trial.params)\n",
        "print('Highest Recall score', study.best_value)"
      ]
    },
    {
      "cell_type": "code",
      "source": [
        "%cd /content/drive/MyDrive/LoanStatus/Python/Models/ML/KNN/Optuna/trialOptions/"
      ],
      "metadata": {
        "colab": {
          "base_uri": "https://localhost:8080/"
        },
        "outputId": "d5ebbb01-249d-4e7d-ddf1-01e73e3bc864",
        "id": "MQvzYhrVb6lk"
      },
      "execution_count": null,
      "outputs": [
        {
          "output_type": "stream",
          "name": "stdout",
          "text": [
            "/content/drive/MyDrive/LoanStatus/Python/Models/ML/KNN/Optuna/trialOptions\n"
          ]
        }
      ]
    },
    {
      "cell_type": "code",
      "execution_count": null,
      "metadata": {
        "id": "PAaILKsUlXmM",
        "colab": {
          "base_uri": "https://localhost:8080/"
        },
        "outputId": "4311cc2a-cdb9-4340-891d-d4a44f9b8125"
      },
      "outputs": [
        {
          "output_type": "stream",
          "name": "stdout",
          "text": [
            "    iteration    recall             datetime_start          datetime_complete  \\\n",
            "73         73  0.837748 2022-06-15 19:23:33.410434 2022-06-15 19:24:11.559496   \n",
            "92         92  0.837748 2022-06-15 19:35:34.889325 2022-06-15 19:36:13.025016   \n",
            "83         83  0.837748 2022-06-15 19:29:51.958832 2022-06-15 19:30:30.101071   \n",
            "77         77  0.837748 2022-06-15 19:26:05.998864 2022-06-15 19:26:44.136118   \n",
            "74         74  0.837748 2022-06-15 19:24:11.559645 2022-06-15 19:24:49.813967   \n",
            "..        ...       ...                        ...                        ...   \n",
            "78         78  0.784659 2022-06-15 19:26:44.136260 2022-06-15 19:27:20.716535   \n",
            "6           6  0.732558 2022-06-15 13:31:14.226533 2022-06-15 13:32:44.191983   \n",
            "51         51  0.732558 2022-06-15 19:09:33.506073 2022-06-15 19:10:15.000489   \n",
            "56         56  0.723478 2022-06-15 19:12:47.454995 2022-06-15 19:13:23.910785   \n",
            "50         50       NaN 2022-06-15 14:40:46.556251                        NaT   \n",
            "\n",
            "                 duration     metric  n_neighbors     state  \n",
            "73 0 days 00:00:38.149062  minkowski         49.0  COMPLETE  \n",
            "92 0 days 00:00:38.135691  minkowski         49.0  COMPLETE  \n",
            "83 0 days 00:00:38.142239  minkowski         49.0  COMPLETE  \n",
            "77 0 days 00:00:38.137254  minkowski         49.0  COMPLETE  \n",
            "74 0 days 00:00:38.254322  minkowski         49.0  COMPLETE  \n",
            "..                    ...        ...          ...       ...  \n",
            "78 0 days 00:00:36.580275  minkowski         14.0  COMPLETE  \n",
            "6  0 days 00:01:29.965450  chebyshev          6.0  COMPLETE  \n",
            "51 0 days 00:00:41.494416  chebyshev          6.0  COMPLETE  \n",
            "56 0 days 00:00:36.455790  chebyshev          3.0  COMPLETE  \n",
            "50                    NaT        NaN          NaN   RUNNING  \n",
            "\n",
            "[100 rows x 8 columns]\n"
          ]
        }
      ],
      "source": [
        "# Output from HPO trials\n",
        "trials_df = study.trials_dataframe()\n",
        "trials_df.rename(columns={'number': 'iteration'}, inplace=True)\n",
        "trials_df.rename(columns={'value': 'recall'}, inplace=True)\n",
        "trials_df.rename(columns={'params_metric': 'metric'}, inplace=True)\n",
        "trials_df.rename(columns={'params_n_neighbors': 'n_neighbors'}, inplace=True)\n",
        "\n",
        "# Write processed data to csv\n",
        "trials_df = trials_df.sort_values('recall', ascending=False)\n",
        "trials_df.to_csv('KNN_Optuna_SMOTE_100_GPU_Recall.csv', index=False)\n",
        "print(trials_df) "
      ]
    },
    {
      "cell_type": "code",
      "source": [
        "%cd /content/drive/MyDrive/LoanStatus/Python/Models/ML/KNN/Optuna/Model_Explanations/"
      ],
      "metadata": {
        "colab": {
          "base_uri": "https://localhost:8080/"
        },
        "outputId": "669962b4-0ef7-4ee8-822e-724a890a3555",
        "id": "MKrXuM0WcEro"
      },
      "execution_count": null,
      "outputs": [
        {
          "output_type": "stream",
          "name": "stdout",
          "text": [
            "/content/drive/MyDrive/LoanStatus/Python/Models/ML/KNN/Optuna/Model_Explanations\n"
          ]
        }
      ]
    },
    {
      "cell_type": "code",
      "execution_count": null,
      "metadata": {
        "id": "cFP85MGJlXmN",
        "colab": {
          "base_uri": "https://localhost:8080/",
          "height": 542
        },
        "outputId": "9c9dde38-c7a3-4b42-9058-84d301ffbcfb"
      },
      "outputs": [
        {
          "output_type": "display_data",
          "data": {
            "text/html": [
              "<html>\n",
              "<head><meta charset=\"utf-8\" /></head>\n",
              "<body>\n",
              "    <div>            <script src=\"https://cdnjs.cloudflare.com/ajax/libs/mathjax/2.7.5/MathJax.js?config=TeX-AMS-MML_SVG\"></script><script type=\"text/javascript\">if (window.MathJax) {MathJax.Hub.Config({SVG: {font: \"STIX-Web\"}});}</script>                <script type=\"text/javascript\">window.PlotlyConfig = {MathJaxConfig: 'local'};</script>\n",
              "        <script src=\"https://cdn.plot.ly/plotly-2.8.3.min.js\"></script>                <div id=\"a34032cc-d8a0-4e4a-aa6b-5a3e73629d8e\" class=\"plotly-graph-div\" style=\"height:525px; width:100%;\"></div>            <script type=\"text/javascript\">                                    window.PLOTLYENV=window.PLOTLYENV || {};                                    if (document.getElementById(\"a34032cc-d8a0-4e4a-aa6b-5a3e73629d8e\")) {                    Plotly.newPlot(                        \"a34032cc-d8a0-4e4a-aa6b-5a3e73629d8e\",                        [{\"mode\":\"markers\",\"name\":\"Objective Value\",\"x\":[0,1,2,3,4,5,6,7,8,9,10,11,12,13,14,15,16,17,18,19,20,21,22,23,24,25,26,27,28,29,30,31,32,33,34,35,36,37,38,39,40,41,42,43,44,45,46,47,48,49,51,52,53,54,55,56,57,58,59,60,61,62,63,64,65,66,67,68,69,70,71,72,73,74,75,76,77,78,79,80,81,82,83,84,85,86,87,88,89,90,91,92,93,94,95,96,97,98,99],\"y\":[0.8274233409610984,0.8172997711670481,0.8201556064073227,0.8287231121281464,0.8313409610983982,0.8238535469107552,0.732558352402746,0.8314508009153319,0.8025446224256293,0.7873318077803204,0.8314508009153319,0.8314508009153319,0.8153409610983982,0.8314508009153319,0.8276247139588101,0.8115881006864989,0.8059313501144165,0.8276247139588101,0.8331533180778032,0.8331533180778032,0.8115881006864989,0.8238535469107552,0.8355881006864988,0.8287231121281464,0.8348009153318078,0.8355881006864988,0.8287231121281464,0.8355881006864988,0.8305171624713958,0.8172997711670481,0.8287231121281464,0.8348009153318078,0.8355881006864988,0.8370343249427917,0.8274233409610984,0.8299679633867277,0.8305171624713958,0.8370343249427917,0.8370343249427917,0.8299679633867277,0.8299679633867277,0.8228466819221968,0.8261235697940503,0.8370343249427917,0.8299679633867277,0.8370343249427917,0.8370343249427917,0.8313409610983982,0.8314508009153319,0.8025446224256293,0.732558352402746,0.8370343249427917,0.8261235697940503,0.8287231121281464,0.8299679633867277,0.7234782608695652,0.8123935926773456,0.8314508009153319,0.8348009153318078,0.8370343249427917,0.8238535469107552,0.8370343249427917,0.8276247139588101,0.8377482837528604,0.8377482837528604,0.8377482837528604,0.8377482837528604,0.8314508009153319,0.8377482837528604,0.8377482837528604,0.8377482837528604,0.8377482837528604,0.8377482837528604,0.8377482837528604,0.8355881006864988,0.8314508009153319,0.8377482837528604,0.7846590389016018,0.8089885583524028,0.8355881006864988,0.8276247139588101,0.8377482837528604,0.8377482837528604,0.8287231121281464,0.8377482837528604,0.8314508009153319,0.8287231121281464,0.8348009153318078,0.8299679633867277,0.8287231121281464,0.8261235697940503,0.8377482837528604,0.8377482837528604,0.8299679633867277,0.8314508009153319,0.8355881006864988,0.8299679633867277,0.8143707093821511,0.8287231121281464],\"type\":\"scatter\"},{\"name\":\"Best Value\",\"x\":[0,1,2,3,4,5,6,7,8,9,10,11,12,13,14,15,16,17,18,19,20,21,22,23,24,25,26,27,28,29,30,31,32,33,34,35,36,37,38,39,40,41,42,43,44,45,46,47,48,49,51,52,53,54,55,56,57,58,59,60,61,62,63,64,65,66,67,68,69,70,71,72,73,74,75,76,77,78,79,80,81,82,83,84,85,86,87,88,89,90,91,92,93,94,95,96,97,98,99],\"y\":[0.8274233409610984,0.8274233409610984,0.8274233409610984,0.8287231121281464,0.8313409610983982,0.8313409610983982,0.8313409610983982,0.8314508009153319,0.8314508009153319,0.8314508009153319,0.8314508009153319,0.8314508009153319,0.8314508009153319,0.8314508009153319,0.8314508009153319,0.8314508009153319,0.8314508009153319,0.8314508009153319,0.8331533180778032,0.8331533180778032,0.8331533180778032,0.8331533180778032,0.8355881006864988,0.8355881006864988,0.8355881006864988,0.8355881006864988,0.8355881006864988,0.8355881006864988,0.8355881006864988,0.8355881006864988,0.8355881006864988,0.8355881006864988,0.8355881006864988,0.8370343249427917,0.8370343249427917,0.8370343249427917,0.8370343249427917,0.8370343249427917,0.8370343249427917,0.8370343249427917,0.8370343249427917,0.8370343249427917,0.8370343249427917,0.8370343249427917,0.8370343249427917,0.8370343249427917,0.8370343249427917,0.8370343249427917,0.8370343249427917,0.8370343249427917,0.8370343249427917,0.8370343249427917,0.8370343249427917,0.8370343249427917,0.8370343249427917,0.8370343249427917,0.8370343249427917,0.8370343249427917,0.8370343249427917,0.8370343249427917,0.8370343249427917,0.8370343249427917,0.8370343249427917,0.8377482837528604,0.8377482837528604,0.8377482837528604,0.8377482837528604,0.8377482837528604,0.8377482837528604,0.8377482837528604,0.8377482837528604,0.8377482837528604,0.8377482837528604,0.8377482837528604,0.8377482837528604,0.8377482837528604,0.8377482837528604,0.8377482837528604,0.8377482837528604,0.8377482837528604,0.8377482837528604,0.8377482837528604,0.8377482837528604,0.8377482837528604,0.8377482837528604,0.8377482837528604,0.8377482837528604,0.8377482837528604,0.8377482837528604,0.8377482837528604,0.8377482837528604,0.8377482837528604,0.8377482837528604,0.8377482837528604,0.8377482837528604,0.8377482837528604,0.8377482837528604,0.8377482837528604,0.8377482837528604],\"type\":\"scatter\"}],                        {\"title\":{\"text\":\"Optimization History Plot\"},\"xaxis\":{\"title\":{\"text\":\"#Trials\"}},\"yaxis\":{\"title\":{\"text\":\"Objective Value\"}},\"template\":{\"data\":{\"bar\":[{\"error_x\":{\"color\":\"#2a3f5f\"},\"error_y\":{\"color\":\"#2a3f5f\"},\"marker\":{\"line\":{\"color\":\"#E5ECF6\",\"width\":0.5},\"pattern\":{\"fillmode\":\"overlay\",\"size\":10,\"solidity\":0.2}},\"type\":\"bar\"}],\"barpolar\":[{\"marker\":{\"line\":{\"color\":\"#E5ECF6\",\"width\":0.5},\"pattern\":{\"fillmode\":\"overlay\",\"size\":10,\"solidity\":0.2}},\"type\":\"barpolar\"}],\"carpet\":[{\"aaxis\":{\"endlinecolor\":\"#2a3f5f\",\"gridcolor\":\"white\",\"linecolor\":\"white\",\"minorgridcolor\":\"white\",\"startlinecolor\":\"#2a3f5f\"},\"baxis\":{\"endlinecolor\":\"#2a3f5f\",\"gridcolor\":\"white\",\"linecolor\":\"white\",\"minorgridcolor\":\"white\",\"startlinecolor\":\"#2a3f5f\"},\"type\":\"carpet\"}],\"choropleth\":[{\"colorbar\":{\"outlinewidth\":0,\"ticks\":\"\"},\"type\":\"choropleth\"}],\"contour\":[{\"colorbar\":{\"outlinewidth\":0,\"ticks\":\"\"},\"colorscale\":[[0.0,\"#0d0887\"],[0.1111111111111111,\"#46039f\"],[0.2222222222222222,\"#7201a8\"],[0.3333333333333333,\"#9c179e\"],[0.4444444444444444,\"#bd3786\"],[0.5555555555555556,\"#d8576b\"],[0.6666666666666666,\"#ed7953\"],[0.7777777777777778,\"#fb9f3a\"],[0.8888888888888888,\"#fdca26\"],[1.0,\"#f0f921\"]],\"type\":\"contour\"}],\"contourcarpet\":[{\"colorbar\":{\"outlinewidth\":0,\"ticks\":\"\"},\"type\":\"contourcarpet\"}],\"heatmap\":[{\"colorbar\":{\"outlinewidth\":0,\"ticks\":\"\"},\"colorscale\":[[0.0,\"#0d0887\"],[0.1111111111111111,\"#46039f\"],[0.2222222222222222,\"#7201a8\"],[0.3333333333333333,\"#9c179e\"],[0.4444444444444444,\"#bd3786\"],[0.5555555555555556,\"#d8576b\"],[0.6666666666666666,\"#ed7953\"],[0.7777777777777778,\"#fb9f3a\"],[0.8888888888888888,\"#fdca26\"],[1.0,\"#f0f921\"]],\"type\":\"heatmap\"}],\"heatmapgl\":[{\"colorbar\":{\"outlinewidth\":0,\"ticks\":\"\"},\"colorscale\":[[0.0,\"#0d0887\"],[0.1111111111111111,\"#46039f\"],[0.2222222222222222,\"#7201a8\"],[0.3333333333333333,\"#9c179e\"],[0.4444444444444444,\"#bd3786\"],[0.5555555555555556,\"#d8576b\"],[0.6666666666666666,\"#ed7953\"],[0.7777777777777778,\"#fb9f3a\"],[0.8888888888888888,\"#fdca26\"],[1.0,\"#f0f921\"]],\"type\":\"heatmapgl\"}],\"histogram\":[{\"marker\":{\"pattern\":{\"fillmode\":\"overlay\",\"size\":10,\"solidity\":0.2}},\"type\":\"histogram\"}],\"histogram2d\":[{\"colorbar\":{\"outlinewidth\":0,\"ticks\":\"\"},\"colorscale\":[[0.0,\"#0d0887\"],[0.1111111111111111,\"#46039f\"],[0.2222222222222222,\"#7201a8\"],[0.3333333333333333,\"#9c179e\"],[0.4444444444444444,\"#bd3786\"],[0.5555555555555556,\"#d8576b\"],[0.6666666666666666,\"#ed7953\"],[0.7777777777777778,\"#fb9f3a\"],[0.8888888888888888,\"#fdca26\"],[1.0,\"#f0f921\"]],\"type\":\"histogram2d\"}],\"histogram2dcontour\":[{\"colorbar\":{\"outlinewidth\":0,\"ticks\":\"\"},\"colorscale\":[[0.0,\"#0d0887\"],[0.1111111111111111,\"#46039f\"],[0.2222222222222222,\"#7201a8\"],[0.3333333333333333,\"#9c179e\"],[0.4444444444444444,\"#bd3786\"],[0.5555555555555556,\"#d8576b\"],[0.6666666666666666,\"#ed7953\"],[0.7777777777777778,\"#fb9f3a\"],[0.8888888888888888,\"#fdca26\"],[1.0,\"#f0f921\"]],\"type\":\"histogram2dcontour\"}],\"mesh3d\":[{\"colorbar\":{\"outlinewidth\":0,\"ticks\":\"\"},\"type\":\"mesh3d\"}],\"parcoords\":[{\"line\":{\"colorbar\":{\"outlinewidth\":0,\"ticks\":\"\"}},\"type\":\"parcoords\"}],\"pie\":[{\"automargin\":true,\"type\":\"pie\"}],\"scatter\":[{\"marker\":{\"colorbar\":{\"outlinewidth\":0,\"ticks\":\"\"}},\"type\":\"scatter\"}],\"scatter3d\":[{\"line\":{\"colorbar\":{\"outlinewidth\":0,\"ticks\":\"\"}},\"marker\":{\"colorbar\":{\"outlinewidth\":0,\"ticks\":\"\"}},\"type\":\"scatter3d\"}],\"scattercarpet\":[{\"marker\":{\"colorbar\":{\"outlinewidth\":0,\"ticks\":\"\"}},\"type\":\"scattercarpet\"}],\"scattergeo\":[{\"marker\":{\"colorbar\":{\"outlinewidth\":0,\"ticks\":\"\"}},\"type\":\"scattergeo\"}],\"scattergl\":[{\"marker\":{\"colorbar\":{\"outlinewidth\":0,\"ticks\":\"\"}},\"type\":\"scattergl\"}],\"scattermapbox\":[{\"marker\":{\"colorbar\":{\"outlinewidth\":0,\"ticks\":\"\"}},\"type\":\"scattermapbox\"}],\"scatterpolar\":[{\"marker\":{\"colorbar\":{\"outlinewidth\":0,\"ticks\":\"\"}},\"type\":\"scatterpolar\"}],\"scatterpolargl\":[{\"marker\":{\"colorbar\":{\"outlinewidth\":0,\"ticks\":\"\"}},\"type\":\"scatterpolargl\"}],\"scatterternary\":[{\"marker\":{\"colorbar\":{\"outlinewidth\":0,\"ticks\":\"\"}},\"type\":\"scatterternary\"}],\"surface\":[{\"colorbar\":{\"outlinewidth\":0,\"ticks\":\"\"},\"colorscale\":[[0.0,\"#0d0887\"],[0.1111111111111111,\"#46039f\"],[0.2222222222222222,\"#7201a8\"],[0.3333333333333333,\"#9c179e\"],[0.4444444444444444,\"#bd3786\"],[0.5555555555555556,\"#d8576b\"],[0.6666666666666666,\"#ed7953\"],[0.7777777777777778,\"#fb9f3a\"],[0.8888888888888888,\"#fdca26\"],[1.0,\"#f0f921\"]],\"type\":\"surface\"}],\"table\":[{\"cells\":{\"fill\":{\"color\":\"#EBF0F8\"},\"line\":{\"color\":\"white\"}},\"header\":{\"fill\":{\"color\":\"#C8D4E3\"},\"line\":{\"color\":\"white\"}},\"type\":\"table\"}]},\"layout\":{\"annotationdefaults\":{\"arrowcolor\":\"#2a3f5f\",\"arrowhead\":0,\"arrowwidth\":1},\"autotypenumbers\":\"strict\",\"coloraxis\":{\"colorbar\":{\"outlinewidth\":0,\"ticks\":\"\"}},\"colorscale\":{\"diverging\":[[0,\"#8e0152\"],[0.1,\"#c51b7d\"],[0.2,\"#de77ae\"],[0.3,\"#f1b6da\"],[0.4,\"#fde0ef\"],[0.5,\"#f7f7f7\"],[0.6,\"#e6f5d0\"],[0.7,\"#b8e186\"],[0.8,\"#7fbc41\"],[0.9,\"#4d9221\"],[1,\"#276419\"]],\"sequential\":[[0.0,\"#0d0887\"],[0.1111111111111111,\"#46039f\"],[0.2222222222222222,\"#7201a8\"],[0.3333333333333333,\"#9c179e\"],[0.4444444444444444,\"#bd3786\"],[0.5555555555555556,\"#d8576b\"],[0.6666666666666666,\"#ed7953\"],[0.7777777777777778,\"#fb9f3a\"],[0.8888888888888888,\"#fdca26\"],[1.0,\"#f0f921\"]],\"sequentialminus\":[[0.0,\"#0d0887\"],[0.1111111111111111,\"#46039f\"],[0.2222222222222222,\"#7201a8\"],[0.3333333333333333,\"#9c179e\"],[0.4444444444444444,\"#bd3786\"],[0.5555555555555556,\"#d8576b\"],[0.6666666666666666,\"#ed7953\"],[0.7777777777777778,\"#fb9f3a\"],[0.8888888888888888,\"#fdca26\"],[1.0,\"#f0f921\"]]},\"colorway\":[\"#636efa\",\"#EF553B\",\"#00cc96\",\"#ab63fa\",\"#FFA15A\",\"#19d3f3\",\"#FF6692\",\"#B6E880\",\"#FF97FF\",\"#FECB52\"],\"font\":{\"color\":\"#2a3f5f\"},\"geo\":{\"bgcolor\":\"white\",\"lakecolor\":\"white\",\"landcolor\":\"#E5ECF6\",\"showlakes\":true,\"showland\":true,\"subunitcolor\":\"white\"},\"hoverlabel\":{\"align\":\"left\"},\"hovermode\":\"closest\",\"mapbox\":{\"style\":\"light\"},\"paper_bgcolor\":\"white\",\"plot_bgcolor\":\"#E5ECF6\",\"polar\":{\"angularaxis\":{\"gridcolor\":\"white\",\"linecolor\":\"white\",\"ticks\":\"\"},\"bgcolor\":\"#E5ECF6\",\"radialaxis\":{\"gridcolor\":\"white\",\"linecolor\":\"white\",\"ticks\":\"\"}},\"scene\":{\"xaxis\":{\"backgroundcolor\":\"#E5ECF6\",\"gridcolor\":\"white\",\"gridwidth\":2,\"linecolor\":\"white\",\"showbackground\":true,\"ticks\":\"\",\"zerolinecolor\":\"white\"},\"yaxis\":{\"backgroundcolor\":\"#E5ECF6\",\"gridcolor\":\"white\",\"gridwidth\":2,\"linecolor\":\"white\",\"showbackground\":true,\"ticks\":\"\",\"zerolinecolor\":\"white\"},\"zaxis\":{\"backgroundcolor\":\"#E5ECF6\",\"gridcolor\":\"white\",\"gridwidth\":2,\"linecolor\":\"white\",\"showbackground\":true,\"ticks\":\"\",\"zerolinecolor\":\"white\"}},\"shapedefaults\":{\"line\":{\"color\":\"#2a3f5f\"}},\"ternary\":{\"aaxis\":{\"gridcolor\":\"white\",\"linecolor\":\"white\",\"ticks\":\"\"},\"baxis\":{\"gridcolor\":\"white\",\"linecolor\":\"white\",\"ticks\":\"\"},\"bgcolor\":\"#E5ECF6\",\"caxis\":{\"gridcolor\":\"white\",\"linecolor\":\"white\",\"ticks\":\"\"}},\"title\":{\"x\":0.05},\"xaxis\":{\"automargin\":true,\"gridcolor\":\"white\",\"linecolor\":\"white\",\"ticks\":\"\",\"title\":{\"standoff\":15},\"zerolinecolor\":\"white\",\"zerolinewidth\":2},\"yaxis\":{\"automargin\":true,\"gridcolor\":\"white\",\"linecolor\":\"white\",\"ticks\":\"\",\"title\":{\"standoff\":15},\"zerolinecolor\":\"white\",\"zerolinewidth\":2}}}},                        {\"responsive\": true}                    ).then(function(){\n",
              "                            \n",
              "var gd = document.getElementById('a34032cc-d8a0-4e4a-aa6b-5a3e73629d8e');\n",
              "var x = new MutationObserver(function (mutations, observer) {{\n",
              "        var display = window.getComputedStyle(gd).display;\n",
              "        if (!display || display === 'none') {{\n",
              "            console.log([gd, 'removed!']);\n",
              "            Plotly.purge(gd);\n",
              "            observer.disconnect();\n",
              "        }}\n",
              "}});\n",
              "\n",
              "// Listen for the removal of the full notebook cells\n",
              "var notebookContainer = gd.closest('#notebook-container');\n",
              "if (notebookContainer) {{\n",
              "    x.observe(notebookContainer, {childList: true});\n",
              "}}\n",
              "\n",
              "// Listen for the clearing of the current output cell\n",
              "var outputEl = gd.closest('.output');\n",
              "if (outputEl) {{\n",
              "    x.observe(outputEl, {childList: true});\n",
              "}}\n",
              "\n",
              "                        })                };                            </script>        </div>\n",
              "</body>\n",
              "</html>"
            ]
          },
          "metadata": {}
        }
      ],
      "source": [
        "# Plot_optimization_history: shows the scores from all trials as well as the best score so far at each point.\n",
        "fig = optuna.visualization.plot_optimization_history(study)\n",
        "py.plot(fig, filename='optimizationHistory_KNN_Optuna_SMOTE_100_GPU_Recall.html')\n",
        "fig.show()"
      ]
    },
    {
      "cell_type": "code",
      "execution_count": null,
      "metadata": {
        "id": "kPRhmsFWlXmN",
        "colab": {
          "base_uri": "https://localhost:8080/",
          "height": 542
        },
        "outputId": "667e3034-3039-488e-aaad-baa1f3bc85a4"
      },
      "outputs": [
        {
          "output_type": "display_data",
          "data": {
            "text/html": [
              "<html>\n",
              "<head><meta charset=\"utf-8\" /></head>\n",
              "<body>\n",
              "    <div>            <script src=\"https://cdnjs.cloudflare.com/ajax/libs/mathjax/2.7.5/MathJax.js?config=TeX-AMS-MML_SVG\"></script><script type=\"text/javascript\">if (window.MathJax) {MathJax.Hub.Config({SVG: {font: \"STIX-Web\"}});}</script>                <script type=\"text/javascript\">window.PlotlyConfig = {MathJaxConfig: 'local'};</script>\n",
              "        <script src=\"https://cdn.plot.ly/plotly-2.8.3.min.js\"></script>                <div id=\"3d93b36c-1f3f-4120-916c-1406306e37d7\" class=\"plotly-graph-div\" style=\"height:525px; width:100%;\"></div>            <script type=\"text/javascript\">                                    window.PLOTLYENV=window.PLOTLYENV || {};                                    if (document.getElementById(\"3d93b36c-1f3f-4120-916c-1406306e37d7\")) {                    Plotly.newPlot(                        \"3d93b36c-1f3f-4120-916c-1406306e37d7\",                        [{\"dimensions\":[{\"label\":\"Objective Value\",\"range\":[0.7234782608695652,0.8377482837528604],\"values\":[0.8274233409610984,0.8172997711670481,0.8201556064073227,0.8287231121281464,0.8313409610983982,0.8238535469107552,0.732558352402746,0.8314508009153319,0.8025446224256293,0.7873318077803204,0.8314508009153319,0.8314508009153319,0.8153409610983982,0.8314508009153319,0.8276247139588101,0.8115881006864989,0.8059313501144165,0.8276247139588101,0.8331533180778032,0.8331533180778032,0.8115881006864989,0.8238535469107552,0.8355881006864988,0.8287231121281464,0.8348009153318078,0.8355881006864988,0.8287231121281464,0.8355881006864988,0.8305171624713958,0.8172997711670481,0.8287231121281464,0.8348009153318078,0.8355881006864988,0.8370343249427917,0.8274233409610984,0.8299679633867277,0.8305171624713958,0.8370343249427917,0.8370343249427917,0.8299679633867277,0.8299679633867277,0.8228466819221968,0.8261235697940503,0.8370343249427917,0.8299679633867277,0.8370343249427917,0.8370343249427917,0.8313409610983982,0.8314508009153319,0.8025446224256293,0.732558352402746,0.8370343249427917,0.8261235697940503,0.8287231121281464,0.8299679633867277,0.7234782608695652,0.8123935926773456,0.8314508009153319,0.8348009153318078,0.8370343249427917,0.8238535469107552,0.8370343249427917,0.8276247139588101,0.8377482837528604,0.8377482837528604,0.8377482837528604,0.8377482837528604,0.8314508009153319,0.8377482837528604,0.8377482837528604,0.8377482837528604,0.8377482837528604,0.8377482837528604,0.8377482837528604,0.8355881006864988,0.8314508009153319,0.8377482837528604,0.7846590389016018,0.8089885583524028,0.8355881006864988,0.8276247139588101,0.8377482837528604,0.8377482837528604,0.8287231121281464,0.8377482837528604,0.8314508009153319,0.8287231121281464,0.8348009153318078,0.8299679633867277,0.8287231121281464,0.8261235697940503,0.8377482837528604,0.8377482837528604,0.8299679633867277,0.8314508009153319,0.8355881006864988,0.8299679633867277,0.8143707093821511,0.8287231121281464]},{\"label\":\"metric\",\"range\":[0,3],\"ticktext\":[\"manhattan\",\"minkowski\",\"chebyshev\",\"euclidean\"],\"tickvals\":[0,1,2,3],\"values\":[0,0,0,1,0,1,2,1,2,1,3,3,3,3,1,3,1,3,3,3,3,3,3,3,3,2,2,2,2,2,2,2,2,2,2,0,2,2,2,2,0,2,2,2,2,2,2,2,0,2,2,2,2,2,1,2,2,2,1,2,0,2,2,2,2,2,2,2,2,1,1,1,1,1,1,1,1,1,1,1,1,1,1,1,1,1,1,1,0,1,1,1,1,1,1,1,1,1,1]},{\"label\":\"n_neighbors\",\"range\":[3,50],\"values\":[33,32,36,46,39,40,6,50,22,9,50,50,21,50,44,28,15,44,41,41,28,40,45,35,43,45,46,45,37,32,46,43,45,47,33,48,37,47,47,48,48,38,42,47,48,47,47,39,50,22,6,47,42,35,48,3,19,50,43,47,40,47,44,49,49,49,49,50,49,49,49,49,49,49,45,50,49,14,26,45,44,49,49,46,49,50,46,43,48,46,42,49,49,48,50,45,48,30,46]}],\"labelangle\":30,\"labelside\":\"bottom\",\"line\":{\"color\":[0.8274233409610984,0.8172997711670481,0.8201556064073227,0.8287231121281464,0.8313409610983982,0.8238535469107552,0.732558352402746,0.8314508009153319,0.8025446224256293,0.7873318077803204,0.8314508009153319,0.8314508009153319,0.8153409610983982,0.8314508009153319,0.8276247139588101,0.8115881006864989,0.8059313501144165,0.8276247139588101,0.8331533180778032,0.8331533180778032,0.8115881006864989,0.8238535469107552,0.8355881006864988,0.8287231121281464,0.8348009153318078,0.8355881006864988,0.8287231121281464,0.8355881006864988,0.8305171624713958,0.8172997711670481,0.8287231121281464,0.8348009153318078,0.8355881006864988,0.8370343249427917,0.8274233409610984,0.8299679633867277,0.8305171624713958,0.8370343249427917,0.8370343249427917,0.8299679633867277,0.8299679633867277,0.8228466819221968,0.8261235697940503,0.8370343249427917,0.8299679633867277,0.8370343249427917,0.8370343249427917,0.8313409610983982,0.8314508009153319,0.8025446224256293,0.732558352402746,0.8370343249427917,0.8261235697940503,0.8287231121281464,0.8299679633867277,0.7234782608695652,0.8123935926773456,0.8314508009153319,0.8348009153318078,0.8370343249427917,0.8238535469107552,0.8370343249427917,0.8276247139588101,0.8377482837528604,0.8377482837528604,0.8377482837528604,0.8377482837528604,0.8314508009153319,0.8377482837528604,0.8377482837528604,0.8377482837528604,0.8377482837528604,0.8377482837528604,0.8377482837528604,0.8355881006864988,0.8314508009153319,0.8377482837528604,0.7846590389016018,0.8089885583524028,0.8355881006864988,0.8276247139588101,0.8377482837528604,0.8377482837528604,0.8287231121281464,0.8377482837528604,0.8314508009153319,0.8287231121281464,0.8348009153318078,0.8299679633867277,0.8287231121281464,0.8261235697940503,0.8377482837528604,0.8377482837528604,0.8299679633867277,0.8314508009153319,0.8355881006864988,0.8299679633867277,0.8143707093821511,0.8287231121281464],\"colorbar\":{\"title\":{\"text\":\"Objective Value\"}},\"colorscale\":[[0.0,\"rgb(247,251,255)\"],[0.125,\"rgb(222,235,247)\"],[0.25,\"rgb(198,219,239)\"],[0.375,\"rgb(158,202,225)\"],[0.5,\"rgb(107,174,214)\"],[0.625,\"rgb(66,146,198)\"],[0.75,\"rgb(33,113,181)\"],[0.875,\"rgb(8,81,156)\"],[1.0,\"rgb(8,48,107)\"]],\"reversescale\":false,\"showscale\":true},\"type\":\"parcoords\"}],                        {\"title\":{\"text\":\"Parallel Coordinate Plot\"},\"template\":{\"data\":{\"bar\":[{\"error_x\":{\"color\":\"#2a3f5f\"},\"error_y\":{\"color\":\"#2a3f5f\"},\"marker\":{\"line\":{\"color\":\"#E5ECF6\",\"width\":0.5},\"pattern\":{\"fillmode\":\"overlay\",\"size\":10,\"solidity\":0.2}},\"type\":\"bar\"}],\"barpolar\":[{\"marker\":{\"line\":{\"color\":\"#E5ECF6\",\"width\":0.5},\"pattern\":{\"fillmode\":\"overlay\",\"size\":10,\"solidity\":0.2}},\"type\":\"barpolar\"}],\"carpet\":[{\"aaxis\":{\"endlinecolor\":\"#2a3f5f\",\"gridcolor\":\"white\",\"linecolor\":\"white\",\"minorgridcolor\":\"white\",\"startlinecolor\":\"#2a3f5f\"},\"baxis\":{\"endlinecolor\":\"#2a3f5f\",\"gridcolor\":\"white\",\"linecolor\":\"white\",\"minorgridcolor\":\"white\",\"startlinecolor\":\"#2a3f5f\"},\"type\":\"carpet\"}],\"choropleth\":[{\"colorbar\":{\"outlinewidth\":0,\"ticks\":\"\"},\"type\":\"choropleth\"}],\"contour\":[{\"colorbar\":{\"outlinewidth\":0,\"ticks\":\"\"},\"colorscale\":[[0.0,\"#0d0887\"],[0.1111111111111111,\"#46039f\"],[0.2222222222222222,\"#7201a8\"],[0.3333333333333333,\"#9c179e\"],[0.4444444444444444,\"#bd3786\"],[0.5555555555555556,\"#d8576b\"],[0.6666666666666666,\"#ed7953\"],[0.7777777777777778,\"#fb9f3a\"],[0.8888888888888888,\"#fdca26\"],[1.0,\"#f0f921\"]],\"type\":\"contour\"}],\"contourcarpet\":[{\"colorbar\":{\"outlinewidth\":0,\"ticks\":\"\"},\"type\":\"contourcarpet\"}],\"heatmap\":[{\"colorbar\":{\"outlinewidth\":0,\"ticks\":\"\"},\"colorscale\":[[0.0,\"#0d0887\"],[0.1111111111111111,\"#46039f\"],[0.2222222222222222,\"#7201a8\"],[0.3333333333333333,\"#9c179e\"],[0.4444444444444444,\"#bd3786\"],[0.5555555555555556,\"#d8576b\"],[0.6666666666666666,\"#ed7953\"],[0.7777777777777778,\"#fb9f3a\"],[0.8888888888888888,\"#fdca26\"],[1.0,\"#f0f921\"]],\"type\":\"heatmap\"}],\"heatmapgl\":[{\"colorbar\":{\"outlinewidth\":0,\"ticks\":\"\"},\"colorscale\":[[0.0,\"#0d0887\"],[0.1111111111111111,\"#46039f\"],[0.2222222222222222,\"#7201a8\"],[0.3333333333333333,\"#9c179e\"],[0.4444444444444444,\"#bd3786\"],[0.5555555555555556,\"#d8576b\"],[0.6666666666666666,\"#ed7953\"],[0.7777777777777778,\"#fb9f3a\"],[0.8888888888888888,\"#fdca26\"],[1.0,\"#f0f921\"]],\"type\":\"heatmapgl\"}],\"histogram\":[{\"marker\":{\"pattern\":{\"fillmode\":\"overlay\",\"size\":10,\"solidity\":0.2}},\"type\":\"histogram\"}],\"histogram2d\":[{\"colorbar\":{\"outlinewidth\":0,\"ticks\":\"\"},\"colorscale\":[[0.0,\"#0d0887\"],[0.1111111111111111,\"#46039f\"],[0.2222222222222222,\"#7201a8\"],[0.3333333333333333,\"#9c179e\"],[0.4444444444444444,\"#bd3786\"],[0.5555555555555556,\"#d8576b\"],[0.6666666666666666,\"#ed7953\"],[0.7777777777777778,\"#fb9f3a\"],[0.8888888888888888,\"#fdca26\"],[1.0,\"#f0f921\"]],\"type\":\"histogram2d\"}],\"histogram2dcontour\":[{\"colorbar\":{\"outlinewidth\":0,\"ticks\":\"\"},\"colorscale\":[[0.0,\"#0d0887\"],[0.1111111111111111,\"#46039f\"],[0.2222222222222222,\"#7201a8\"],[0.3333333333333333,\"#9c179e\"],[0.4444444444444444,\"#bd3786\"],[0.5555555555555556,\"#d8576b\"],[0.6666666666666666,\"#ed7953\"],[0.7777777777777778,\"#fb9f3a\"],[0.8888888888888888,\"#fdca26\"],[1.0,\"#f0f921\"]],\"type\":\"histogram2dcontour\"}],\"mesh3d\":[{\"colorbar\":{\"outlinewidth\":0,\"ticks\":\"\"},\"type\":\"mesh3d\"}],\"parcoords\":[{\"line\":{\"colorbar\":{\"outlinewidth\":0,\"ticks\":\"\"}},\"type\":\"parcoords\"}],\"pie\":[{\"automargin\":true,\"type\":\"pie\"}],\"scatter\":[{\"marker\":{\"colorbar\":{\"outlinewidth\":0,\"ticks\":\"\"}},\"type\":\"scatter\"}],\"scatter3d\":[{\"line\":{\"colorbar\":{\"outlinewidth\":0,\"ticks\":\"\"}},\"marker\":{\"colorbar\":{\"outlinewidth\":0,\"ticks\":\"\"}},\"type\":\"scatter3d\"}],\"scattercarpet\":[{\"marker\":{\"colorbar\":{\"outlinewidth\":0,\"ticks\":\"\"}},\"type\":\"scattercarpet\"}],\"scattergeo\":[{\"marker\":{\"colorbar\":{\"outlinewidth\":0,\"ticks\":\"\"}},\"type\":\"scattergeo\"}],\"scattergl\":[{\"marker\":{\"colorbar\":{\"outlinewidth\":0,\"ticks\":\"\"}},\"type\":\"scattergl\"}],\"scattermapbox\":[{\"marker\":{\"colorbar\":{\"outlinewidth\":0,\"ticks\":\"\"}},\"type\":\"scattermapbox\"}],\"scatterpolar\":[{\"marker\":{\"colorbar\":{\"outlinewidth\":0,\"ticks\":\"\"}},\"type\":\"scatterpolar\"}],\"scatterpolargl\":[{\"marker\":{\"colorbar\":{\"outlinewidth\":0,\"ticks\":\"\"}},\"type\":\"scatterpolargl\"}],\"scatterternary\":[{\"marker\":{\"colorbar\":{\"outlinewidth\":0,\"ticks\":\"\"}},\"type\":\"scatterternary\"}],\"surface\":[{\"colorbar\":{\"outlinewidth\":0,\"ticks\":\"\"},\"colorscale\":[[0.0,\"#0d0887\"],[0.1111111111111111,\"#46039f\"],[0.2222222222222222,\"#7201a8\"],[0.3333333333333333,\"#9c179e\"],[0.4444444444444444,\"#bd3786\"],[0.5555555555555556,\"#d8576b\"],[0.6666666666666666,\"#ed7953\"],[0.7777777777777778,\"#fb9f3a\"],[0.8888888888888888,\"#fdca26\"],[1.0,\"#f0f921\"]],\"type\":\"surface\"}],\"table\":[{\"cells\":{\"fill\":{\"color\":\"#EBF0F8\"},\"line\":{\"color\":\"white\"}},\"header\":{\"fill\":{\"color\":\"#C8D4E3\"},\"line\":{\"color\":\"white\"}},\"type\":\"table\"}]},\"layout\":{\"annotationdefaults\":{\"arrowcolor\":\"#2a3f5f\",\"arrowhead\":0,\"arrowwidth\":1},\"autotypenumbers\":\"strict\",\"coloraxis\":{\"colorbar\":{\"outlinewidth\":0,\"ticks\":\"\"}},\"colorscale\":{\"diverging\":[[0,\"#8e0152\"],[0.1,\"#c51b7d\"],[0.2,\"#de77ae\"],[0.3,\"#f1b6da\"],[0.4,\"#fde0ef\"],[0.5,\"#f7f7f7\"],[0.6,\"#e6f5d0\"],[0.7,\"#b8e186\"],[0.8,\"#7fbc41\"],[0.9,\"#4d9221\"],[1,\"#276419\"]],\"sequential\":[[0.0,\"#0d0887\"],[0.1111111111111111,\"#46039f\"],[0.2222222222222222,\"#7201a8\"],[0.3333333333333333,\"#9c179e\"],[0.4444444444444444,\"#bd3786\"],[0.5555555555555556,\"#d8576b\"],[0.6666666666666666,\"#ed7953\"],[0.7777777777777778,\"#fb9f3a\"],[0.8888888888888888,\"#fdca26\"],[1.0,\"#f0f921\"]],\"sequentialminus\":[[0.0,\"#0d0887\"],[0.1111111111111111,\"#46039f\"],[0.2222222222222222,\"#7201a8\"],[0.3333333333333333,\"#9c179e\"],[0.4444444444444444,\"#bd3786\"],[0.5555555555555556,\"#d8576b\"],[0.6666666666666666,\"#ed7953\"],[0.7777777777777778,\"#fb9f3a\"],[0.8888888888888888,\"#fdca26\"],[1.0,\"#f0f921\"]]},\"colorway\":[\"#636efa\",\"#EF553B\",\"#00cc96\",\"#ab63fa\",\"#FFA15A\",\"#19d3f3\",\"#FF6692\",\"#B6E880\",\"#FF97FF\",\"#FECB52\"],\"font\":{\"color\":\"#2a3f5f\"},\"geo\":{\"bgcolor\":\"white\",\"lakecolor\":\"white\",\"landcolor\":\"#E5ECF6\",\"showlakes\":true,\"showland\":true,\"subunitcolor\":\"white\"},\"hoverlabel\":{\"align\":\"left\"},\"hovermode\":\"closest\",\"mapbox\":{\"style\":\"light\"},\"paper_bgcolor\":\"white\",\"plot_bgcolor\":\"#E5ECF6\",\"polar\":{\"angularaxis\":{\"gridcolor\":\"white\",\"linecolor\":\"white\",\"ticks\":\"\"},\"bgcolor\":\"#E5ECF6\",\"radialaxis\":{\"gridcolor\":\"white\",\"linecolor\":\"white\",\"ticks\":\"\"}},\"scene\":{\"xaxis\":{\"backgroundcolor\":\"#E5ECF6\",\"gridcolor\":\"white\",\"gridwidth\":2,\"linecolor\":\"white\",\"showbackground\":true,\"ticks\":\"\",\"zerolinecolor\":\"white\"},\"yaxis\":{\"backgroundcolor\":\"#E5ECF6\",\"gridcolor\":\"white\",\"gridwidth\":2,\"linecolor\":\"white\",\"showbackground\":true,\"ticks\":\"\",\"zerolinecolor\":\"white\"},\"zaxis\":{\"backgroundcolor\":\"#E5ECF6\",\"gridcolor\":\"white\",\"gridwidth\":2,\"linecolor\":\"white\",\"showbackground\":true,\"ticks\":\"\",\"zerolinecolor\":\"white\"}},\"shapedefaults\":{\"line\":{\"color\":\"#2a3f5f\"}},\"ternary\":{\"aaxis\":{\"gridcolor\":\"white\",\"linecolor\":\"white\",\"ticks\":\"\"},\"baxis\":{\"gridcolor\":\"white\",\"linecolor\":\"white\",\"ticks\":\"\"},\"bgcolor\":\"#E5ECF6\",\"caxis\":{\"gridcolor\":\"white\",\"linecolor\":\"white\",\"ticks\":\"\"}},\"title\":{\"x\":0.05},\"xaxis\":{\"automargin\":true,\"gridcolor\":\"white\",\"linecolor\":\"white\",\"ticks\":\"\",\"title\":{\"standoff\":15},\"zerolinecolor\":\"white\",\"zerolinewidth\":2},\"yaxis\":{\"automargin\":true,\"gridcolor\":\"white\",\"linecolor\":\"white\",\"ticks\":\"\",\"title\":{\"standoff\":15},\"zerolinecolor\":\"white\",\"zerolinewidth\":2}}}},                        {\"responsive\": true}                    ).then(function(){\n",
              "                            \n",
              "var gd = document.getElementById('3d93b36c-1f3f-4120-916c-1406306e37d7');\n",
              "var x = new MutationObserver(function (mutations, observer) {{\n",
              "        var display = window.getComputedStyle(gd).display;\n",
              "        if (!display || display === 'none') {{\n",
              "            console.log([gd, 'removed!']);\n",
              "            Plotly.purge(gd);\n",
              "            observer.disconnect();\n",
              "        }}\n",
              "}});\n",
              "\n",
              "// Listen for the removal of the full notebook cells\n",
              "var notebookContainer = gd.closest('#notebook-container');\n",
              "if (notebookContainer) {{\n",
              "    x.observe(notebookContainer, {childList: true});\n",
              "}}\n",
              "\n",
              "// Listen for the clearing of the current output cell\n",
              "var outputEl = gd.closest('.output');\n",
              "if (outputEl) {{\n",
              "    x.observe(outputEl, {childList: true});\n",
              "}}\n",
              "\n",
              "                        })                };                            </script>        </div>\n",
              "</body>\n",
              "</html>"
            ]
          },
          "metadata": {}
        }
      ],
      "source": [
        "# plot_parallel_coordinate: interactively visualizes the hyperparameters and scores\n",
        "fig = optuna.visualization.plot_parallel_coordinate(study)\n",
        "py.plot(fig, filename='parallelCoordinate_KNN_Optuna_SMOTE_100_GPU_Recall.html')\n",
        "fig.show()"
      ]
    },
    {
      "cell_type": "code",
      "execution_count": null,
      "metadata": {
        "id": "gzufyVlMlXmN",
        "colab": {
          "base_uri": "https://localhost:8080/",
          "height": 542
        },
        "outputId": "9e96be98-e570-4b6b-93ff-e6e5a36eb95f"
      },
      "outputs": [
        {
          "output_type": "display_data",
          "data": {
            "text/html": [
              "<html>\n",
              "<head><meta charset=\"utf-8\" /></head>\n",
              "<body>\n",
              "    <div>            <script src=\"https://cdnjs.cloudflare.com/ajax/libs/mathjax/2.7.5/MathJax.js?config=TeX-AMS-MML_SVG\"></script><script type=\"text/javascript\">if (window.MathJax) {MathJax.Hub.Config({SVG: {font: \"STIX-Web\"}});}</script>                <script type=\"text/javascript\">window.PlotlyConfig = {MathJaxConfig: 'local'};</script>\n",
              "        <script src=\"https://cdn.plot.ly/plotly-2.8.3.min.js\"></script>                <div id=\"53a50385-c2f1-460e-98bf-9be62f937dbd\" class=\"plotly-graph-div\" style=\"height:525px; width:100%;\"></div>            <script type=\"text/javascript\">                                    window.PLOTLYENV=window.PLOTLYENV || {};                                    if (document.getElementById(\"53a50385-c2f1-460e-98bf-9be62f937dbd\")) {                    Plotly.newPlot(                        \"53a50385-c2f1-460e-98bf-9be62f937dbd\",                        [{\"marker\":{\"color\":[0,1,2,3,4,5,6,7,8,9,10,11,12,13,14,15,16,17,18,19,20,21,22,23,24,25,26,27,28,29,30,31,32,33,34,35,36,37,38,39,40,41,42,43,44,45,46,47,48,49,51,52,53,54,55,56,57,58,59,60,61,62,63,64,65,66,67,68,69,70,71,72,73,74,75,76,77,78,79,80,81,82,83,84,85,86,87,88,89,90,91,92,93,94,95,96,97,98,99],\"colorbar\":{\"title\":{\"text\":\"#Trials\"},\"x\":1.0,\"xpad\":40},\"colorscale\":[[0.0,\"rgb(247,251,255)\"],[0.125,\"rgb(222,235,247)\"],[0.25,\"rgb(198,219,239)\"],[0.375,\"rgb(158,202,225)\"],[0.5,\"rgb(107,174,214)\"],[0.625,\"rgb(66,146,198)\"],[0.75,\"rgb(33,113,181)\"],[0.875,\"rgb(8,81,156)\"],[1.0,\"rgb(8,48,107)\"]],\"line\":{\"color\":\"Grey\",\"width\":0.5},\"showscale\":true},\"mode\":\"markers\",\"showlegend\":false,\"x\":[\"manhattan\",\"manhattan\",\"manhattan\",\"minkowski\",\"manhattan\",\"minkowski\",\"chebyshev\",\"minkowski\",\"chebyshev\",\"minkowski\",\"euclidean\",\"euclidean\",\"euclidean\",\"euclidean\",\"minkowski\",\"euclidean\",\"minkowski\",\"euclidean\",\"euclidean\",\"euclidean\",\"euclidean\",\"euclidean\",\"euclidean\",\"euclidean\",\"euclidean\",\"chebyshev\",\"chebyshev\",\"chebyshev\",\"chebyshev\",\"chebyshev\",\"chebyshev\",\"chebyshev\",\"chebyshev\",\"chebyshev\",\"chebyshev\",\"manhattan\",\"chebyshev\",\"chebyshev\",\"chebyshev\",\"chebyshev\",\"manhattan\",\"chebyshev\",\"chebyshev\",\"chebyshev\",\"chebyshev\",\"chebyshev\",\"chebyshev\",\"chebyshev\",\"manhattan\",\"chebyshev\",\"chebyshev\",\"chebyshev\",\"chebyshev\",\"chebyshev\",\"minkowski\",\"chebyshev\",\"chebyshev\",\"chebyshev\",\"minkowski\",\"chebyshev\",\"manhattan\",\"chebyshev\",\"chebyshev\",\"chebyshev\",\"chebyshev\",\"chebyshev\",\"chebyshev\",\"chebyshev\",\"chebyshev\",\"minkowski\",\"minkowski\",\"minkowski\",\"minkowski\",\"minkowski\",\"minkowski\",\"minkowski\",\"minkowski\",\"minkowski\",\"minkowski\",\"minkowski\",\"minkowski\",\"minkowski\",\"minkowski\",\"minkowski\",\"minkowski\",\"minkowski\",\"minkowski\",\"minkowski\",\"manhattan\",\"minkowski\",\"minkowski\",\"minkowski\",\"minkowski\",\"minkowski\",\"minkowski\",\"minkowski\",\"minkowski\",\"minkowski\",\"minkowski\"],\"y\":[0.8274233409610984,0.8172997711670481,0.8201556064073227,0.8287231121281464,0.8313409610983982,0.8238535469107552,0.732558352402746,0.8314508009153319,0.8025446224256293,0.7873318077803204,0.8314508009153319,0.8314508009153319,0.8153409610983982,0.8314508009153319,0.8276247139588101,0.8115881006864989,0.8059313501144165,0.8276247139588101,0.8331533180778032,0.8331533180778032,0.8115881006864989,0.8238535469107552,0.8355881006864988,0.8287231121281464,0.8348009153318078,0.8355881006864988,0.8287231121281464,0.8355881006864988,0.8305171624713958,0.8172997711670481,0.8287231121281464,0.8348009153318078,0.8355881006864988,0.8370343249427917,0.8274233409610984,0.8299679633867277,0.8305171624713958,0.8370343249427917,0.8370343249427917,0.8299679633867277,0.8299679633867277,0.8228466819221968,0.8261235697940503,0.8370343249427917,0.8299679633867277,0.8370343249427917,0.8370343249427917,0.8313409610983982,0.8314508009153319,0.8025446224256293,0.732558352402746,0.8370343249427917,0.8261235697940503,0.8287231121281464,0.8299679633867277,0.7234782608695652,0.8123935926773456,0.8314508009153319,0.8348009153318078,0.8370343249427917,0.8238535469107552,0.8370343249427917,0.8276247139588101,0.8377482837528604,0.8377482837528604,0.8377482837528604,0.8377482837528604,0.8314508009153319,0.8377482837528604,0.8377482837528604,0.8377482837528604,0.8377482837528604,0.8377482837528604,0.8377482837528604,0.8355881006864988,0.8314508009153319,0.8377482837528604,0.7846590389016018,0.8089885583524028,0.8355881006864988,0.8276247139588101,0.8377482837528604,0.8377482837528604,0.8287231121281464,0.8377482837528604,0.8314508009153319,0.8287231121281464,0.8348009153318078,0.8299679633867277,0.8287231121281464,0.8261235697940503,0.8377482837528604,0.8377482837528604,0.8299679633867277,0.8314508009153319,0.8355881006864988,0.8299679633867277,0.8143707093821511,0.8287231121281464],\"type\":\"scatter\",\"xaxis\":\"x\",\"yaxis\":\"y\"},{\"marker\":{\"color\":[0,1,2,3,4,5,6,7,8,9,10,11,12,13,14,15,16,17,18,19,20,21,22,23,24,25,26,27,28,29,30,31,32,33,34,35,36,37,38,39,40,41,42,43,44,45,46,47,48,49,51,52,53,54,55,56,57,58,59,60,61,62,63,64,65,66,67,68,69,70,71,72,73,74,75,76,77,78,79,80,81,82,83,84,85,86,87,88,89,90,91,92,93,94,95,96,97,98,99],\"colorbar\":{\"title\":{\"text\":\"#Trials\"},\"x\":1.0,\"xpad\":40},\"colorscale\":[[0.0,\"rgb(247,251,255)\"],[0.125,\"rgb(222,235,247)\"],[0.25,\"rgb(198,219,239)\"],[0.375,\"rgb(158,202,225)\"],[0.5,\"rgb(107,174,214)\"],[0.625,\"rgb(66,146,198)\"],[0.75,\"rgb(33,113,181)\"],[0.875,\"rgb(8,81,156)\"],[1.0,\"rgb(8,48,107)\"]],\"line\":{\"color\":\"Grey\",\"width\":0.5},\"showscale\":false},\"mode\":\"markers\",\"showlegend\":false,\"x\":[33,32,36,46,39,40,6,50,22,9,50,50,21,50,44,28,15,44,41,41,28,40,45,35,43,45,46,45,37,32,46,43,45,47,33,48,37,47,47,48,48,38,42,47,48,47,47,39,50,22,6,47,42,35,48,3,19,50,43,47,40,47,44,49,49,49,49,50,49,49,49,49,49,49,45,50,49,14,26,45,44,49,49,46,49,50,46,43,48,46,42,49,49,48,50,45,48,30,46],\"y\":[0.8274233409610984,0.8172997711670481,0.8201556064073227,0.8287231121281464,0.8313409610983982,0.8238535469107552,0.732558352402746,0.8314508009153319,0.8025446224256293,0.7873318077803204,0.8314508009153319,0.8314508009153319,0.8153409610983982,0.8314508009153319,0.8276247139588101,0.8115881006864989,0.8059313501144165,0.8276247139588101,0.8331533180778032,0.8331533180778032,0.8115881006864989,0.8238535469107552,0.8355881006864988,0.8287231121281464,0.8348009153318078,0.8355881006864988,0.8287231121281464,0.8355881006864988,0.8305171624713958,0.8172997711670481,0.8287231121281464,0.8348009153318078,0.8355881006864988,0.8370343249427917,0.8274233409610984,0.8299679633867277,0.8305171624713958,0.8370343249427917,0.8370343249427917,0.8299679633867277,0.8299679633867277,0.8228466819221968,0.8261235697940503,0.8370343249427917,0.8299679633867277,0.8370343249427917,0.8370343249427917,0.8313409610983982,0.8314508009153319,0.8025446224256293,0.732558352402746,0.8370343249427917,0.8261235697940503,0.8287231121281464,0.8299679633867277,0.7234782608695652,0.8123935926773456,0.8314508009153319,0.8348009153318078,0.8370343249427917,0.8238535469107552,0.8370343249427917,0.8276247139588101,0.8377482837528604,0.8377482837528604,0.8377482837528604,0.8377482837528604,0.8314508009153319,0.8377482837528604,0.8377482837528604,0.8377482837528604,0.8377482837528604,0.8377482837528604,0.8377482837528604,0.8355881006864988,0.8314508009153319,0.8377482837528604,0.7846590389016018,0.8089885583524028,0.8355881006864988,0.8276247139588101,0.8377482837528604,0.8377482837528604,0.8287231121281464,0.8377482837528604,0.8314508009153319,0.8287231121281464,0.8348009153318078,0.8299679633867277,0.8287231121281464,0.8261235697940503,0.8377482837528604,0.8377482837528604,0.8299679633867277,0.8314508009153319,0.8355881006864988,0.8299679633867277,0.8143707093821511,0.8287231121281464],\"type\":\"scatter\",\"xaxis\":\"x2\",\"yaxis\":\"y2\"}],                        {\"template\":{\"data\":{\"bar\":[{\"error_x\":{\"color\":\"#2a3f5f\"},\"error_y\":{\"color\":\"#2a3f5f\"},\"marker\":{\"line\":{\"color\":\"#E5ECF6\",\"width\":0.5},\"pattern\":{\"fillmode\":\"overlay\",\"size\":10,\"solidity\":0.2}},\"type\":\"bar\"}],\"barpolar\":[{\"marker\":{\"line\":{\"color\":\"#E5ECF6\",\"width\":0.5},\"pattern\":{\"fillmode\":\"overlay\",\"size\":10,\"solidity\":0.2}},\"type\":\"barpolar\"}],\"carpet\":[{\"aaxis\":{\"endlinecolor\":\"#2a3f5f\",\"gridcolor\":\"white\",\"linecolor\":\"white\",\"minorgridcolor\":\"white\",\"startlinecolor\":\"#2a3f5f\"},\"baxis\":{\"endlinecolor\":\"#2a3f5f\",\"gridcolor\":\"white\",\"linecolor\":\"white\",\"minorgridcolor\":\"white\",\"startlinecolor\":\"#2a3f5f\"},\"type\":\"carpet\"}],\"choropleth\":[{\"colorbar\":{\"outlinewidth\":0,\"ticks\":\"\"},\"type\":\"choropleth\"}],\"contour\":[{\"colorbar\":{\"outlinewidth\":0,\"ticks\":\"\"},\"colorscale\":[[0.0,\"#0d0887\"],[0.1111111111111111,\"#46039f\"],[0.2222222222222222,\"#7201a8\"],[0.3333333333333333,\"#9c179e\"],[0.4444444444444444,\"#bd3786\"],[0.5555555555555556,\"#d8576b\"],[0.6666666666666666,\"#ed7953\"],[0.7777777777777778,\"#fb9f3a\"],[0.8888888888888888,\"#fdca26\"],[1.0,\"#f0f921\"]],\"type\":\"contour\"}],\"contourcarpet\":[{\"colorbar\":{\"outlinewidth\":0,\"ticks\":\"\"},\"type\":\"contourcarpet\"}],\"heatmap\":[{\"colorbar\":{\"outlinewidth\":0,\"ticks\":\"\"},\"colorscale\":[[0.0,\"#0d0887\"],[0.1111111111111111,\"#46039f\"],[0.2222222222222222,\"#7201a8\"],[0.3333333333333333,\"#9c179e\"],[0.4444444444444444,\"#bd3786\"],[0.5555555555555556,\"#d8576b\"],[0.6666666666666666,\"#ed7953\"],[0.7777777777777778,\"#fb9f3a\"],[0.8888888888888888,\"#fdca26\"],[1.0,\"#f0f921\"]],\"type\":\"heatmap\"}],\"heatmapgl\":[{\"colorbar\":{\"outlinewidth\":0,\"ticks\":\"\"},\"colorscale\":[[0.0,\"#0d0887\"],[0.1111111111111111,\"#46039f\"],[0.2222222222222222,\"#7201a8\"],[0.3333333333333333,\"#9c179e\"],[0.4444444444444444,\"#bd3786\"],[0.5555555555555556,\"#d8576b\"],[0.6666666666666666,\"#ed7953\"],[0.7777777777777778,\"#fb9f3a\"],[0.8888888888888888,\"#fdca26\"],[1.0,\"#f0f921\"]],\"type\":\"heatmapgl\"}],\"histogram\":[{\"marker\":{\"pattern\":{\"fillmode\":\"overlay\",\"size\":10,\"solidity\":0.2}},\"type\":\"histogram\"}],\"histogram2d\":[{\"colorbar\":{\"outlinewidth\":0,\"ticks\":\"\"},\"colorscale\":[[0.0,\"#0d0887\"],[0.1111111111111111,\"#46039f\"],[0.2222222222222222,\"#7201a8\"],[0.3333333333333333,\"#9c179e\"],[0.4444444444444444,\"#bd3786\"],[0.5555555555555556,\"#d8576b\"],[0.6666666666666666,\"#ed7953\"],[0.7777777777777778,\"#fb9f3a\"],[0.8888888888888888,\"#fdca26\"],[1.0,\"#f0f921\"]],\"type\":\"histogram2d\"}],\"histogram2dcontour\":[{\"colorbar\":{\"outlinewidth\":0,\"ticks\":\"\"},\"colorscale\":[[0.0,\"#0d0887\"],[0.1111111111111111,\"#46039f\"],[0.2222222222222222,\"#7201a8\"],[0.3333333333333333,\"#9c179e\"],[0.4444444444444444,\"#bd3786\"],[0.5555555555555556,\"#d8576b\"],[0.6666666666666666,\"#ed7953\"],[0.7777777777777778,\"#fb9f3a\"],[0.8888888888888888,\"#fdca26\"],[1.0,\"#f0f921\"]],\"type\":\"histogram2dcontour\"}],\"mesh3d\":[{\"colorbar\":{\"outlinewidth\":0,\"ticks\":\"\"},\"type\":\"mesh3d\"}],\"parcoords\":[{\"line\":{\"colorbar\":{\"outlinewidth\":0,\"ticks\":\"\"}},\"type\":\"parcoords\"}],\"pie\":[{\"automargin\":true,\"type\":\"pie\"}],\"scatter\":[{\"marker\":{\"colorbar\":{\"outlinewidth\":0,\"ticks\":\"\"}},\"type\":\"scatter\"}],\"scatter3d\":[{\"line\":{\"colorbar\":{\"outlinewidth\":0,\"ticks\":\"\"}},\"marker\":{\"colorbar\":{\"outlinewidth\":0,\"ticks\":\"\"}},\"type\":\"scatter3d\"}],\"scattercarpet\":[{\"marker\":{\"colorbar\":{\"outlinewidth\":0,\"ticks\":\"\"}},\"type\":\"scattercarpet\"}],\"scattergeo\":[{\"marker\":{\"colorbar\":{\"outlinewidth\":0,\"ticks\":\"\"}},\"type\":\"scattergeo\"}],\"scattergl\":[{\"marker\":{\"colorbar\":{\"outlinewidth\":0,\"ticks\":\"\"}},\"type\":\"scattergl\"}],\"scattermapbox\":[{\"marker\":{\"colorbar\":{\"outlinewidth\":0,\"ticks\":\"\"}},\"type\":\"scattermapbox\"}],\"scatterpolar\":[{\"marker\":{\"colorbar\":{\"outlinewidth\":0,\"ticks\":\"\"}},\"type\":\"scatterpolar\"}],\"scatterpolargl\":[{\"marker\":{\"colorbar\":{\"outlinewidth\":0,\"ticks\":\"\"}},\"type\":\"scatterpolargl\"}],\"scatterternary\":[{\"marker\":{\"colorbar\":{\"outlinewidth\":0,\"ticks\":\"\"}},\"type\":\"scatterternary\"}],\"surface\":[{\"colorbar\":{\"outlinewidth\":0,\"ticks\":\"\"},\"colorscale\":[[0.0,\"#0d0887\"],[0.1111111111111111,\"#46039f\"],[0.2222222222222222,\"#7201a8\"],[0.3333333333333333,\"#9c179e\"],[0.4444444444444444,\"#bd3786\"],[0.5555555555555556,\"#d8576b\"],[0.6666666666666666,\"#ed7953\"],[0.7777777777777778,\"#fb9f3a\"],[0.8888888888888888,\"#fdca26\"],[1.0,\"#f0f921\"]],\"type\":\"surface\"}],\"table\":[{\"cells\":{\"fill\":{\"color\":\"#EBF0F8\"},\"line\":{\"color\":\"white\"}},\"header\":{\"fill\":{\"color\":\"#C8D4E3\"},\"line\":{\"color\":\"white\"}},\"type\":\"table\"}]},\"layout\":{\"annotationdefaults\":{\"arrowcolor\":\"#2a3f5f\",\"arrowhead\":0,\"arrowwidth\":1},\"autotypenumbers\":\"strict\",\"coloraxis\":{\"colorbar\":{\"outlinewidth\":0,\"ticks\":\"\"}},\"colorscale\":{\"diverging\":[[0,\"#8e0152\"],[0.1,\"#c51b7d\"],[0.2,\"#de77ae\"],[0.3,\"#f1b6da\"],[0.4,\"#fde0ef\"],[0.5,\"#f7f7f7\"],[0.6,\"#e6f5d0\"],[0.7,\"#b8e186\"],[0.8,\"#7fbc41\"],[0.9,\"#4d9221\"],[1,\"#276419\"]],\"sequential\":[[0.0,\"#0d0887\"],[0.1111111111111111,\"#46039f\"],[0.2222222222222222,\"#7201a8\"],[0.3333333333333333,\"#9c179e\"],[0.4444444444444444,\"#bd3786\"],[0.5555555555555556,\"#d8576b\"],[0.6666666666666666,\"#ed7953\"],[0.7777777777777778,\"#fb9f3a\"],[0.8888888888888888,\"#fdca26\"],[1.0,\"#f0f921\"]],\"sequentialminus\":[[0.0,\"#0d0887\"],[0.1111111111111111,\"#46039f\"],[0.2222222222222222,\"#7201a8\"],[0.3333333333333333,\"#9c179e\"],[0.4444444444444444,\"#bd3786\"],[0.5555555555555556,\"#d8576b\"],[0.6666666666666666,\"#ed7953\"],[0.7777777777777778,\"#fb9f3a\"],[0.8888888888888888,\"#fdca26\"],[1.0,\"#f0f921\"]]},\"colorway\":[\"#636efa\",\"#EF553B\",\"#00cc96\",\"#ab63fa\",\"#FFA15A\",\"#19d3f3\",\"#FF6692\",\"#B6E880\",\"#FF97FF\",\"#FECB52\"],\"font\":{\"color\":\"#2a3f5f\"},\"geo\":{\"bgcolor\":\"white\",\"lakecolor\":\"white\",\"landcolor\":\"#E5ECF6\",\"showlakes\":true,\"showland\":true,\"subunitcolor\":\"white\"},\"hoverlabel\":{\"align\":\"left\"},\"hovermode\":\"closest\",\"mapbox\":{\"style\":\"light\"},\"paper_bgcolor\":\"white\",\"plot_bgcolor\":\"#E5ECF6\",\"polar\":{\"angularaxis\":{\"gridcolor\":\"white\",\"linecolor\":\"white\",\"ticks\":\"\"},\"bgcolor\":\"#E5ECF6\",\"radialaxis\":{\"gridcolor\":\"white\",\"linecolor\":\"white\",\"ticks\":\"\"}},\"scene\":{\"xaxis\":{\"backgroundcolor\":\"#E5ECF6\",\"gridcolor\":\"white\",\"gridwidth\":2,\"linecolor\":\"white\",\"showbackground\":true,\"ticks\":\"\",\"zerolinecolor\":\"white\"},\"yaxis\":{\"backgroundcolor\":\"#E5ECF6\",\"gridcolor\":\"white\",\"gridwidth\":2,\"linecolor\":\"white\",\"showbackground\":true,\"ticks\":\"\",\"zerolinecolor\":\"white\"},\"zaxis\":{\"backgroundcolor\":\"#E5ECF6\",\"gridcolor\":\"white\",\"gridwidth\":2,\"linecolor\":\"white\",\"showbackground\":true,\"ticks\":\"\",\"zerolinecolor\":\"white\"}},\"shapedefaults\":{\"line\":{\"color\":\"#2a3f5f\"}},\"ternary\":{\"aaxis\":{\"gridcolor\":\"white\",\"linecolor\":\"white\",\"ticks\":\"\"},\"baxis\":{\"gridcolor\":\"white\",\"linecolor\":\"white\",\"ticks\":\"\"},\"bgcolor\":\"#E5ECF6\",\"caxis\":{\"gridcolor\":\"white\",\"linecolor\":\"white\",\"ticks\":\"\"}},\"title\":{\"x\":0.05},\"xaxis\":{\"automargin\":true,\"gridcolor\":\"white\",\"linecolor\":\"white\",\"ticks\":\"\",\"title\":{\"standoff\":15},\"zerolinecolor\":\"white\",\"zerolinewidth\":2},\"yaxis\":{\"automargin\":true,\"gridcolor\":\"white\",\"linecolor\":\"white\",\"ticks\":\"\",\"title\":{\"standoff\":15},\"zerolinecolor\":\"white\",\"zerolinewidth\":2}}},\"xaxis\":{\"anchor\":\"y\",\"domain\":[0.0,0.45],\"title\":{\"text\":\"metric\"}},\"yaxis\":{\"anchor\":\"x\",\"domain\":[0.0,1.0],\"title\":{\"text\":\"Objective Value\"}},\"xaxis2\":{\"anchor\":\"y2\",\"domain\":[0.55,1.0],\"title\":{\"text\":\"n_neighbors\"}},\"yaxis2\":{\"anchor\":\"x2\",\"domain\":[0.0,1.0],\"matches\":\"y\",\"showticklabels\":false},\"title\":{\"text\":\"Slice Plot\"}},                        {\"responsive\": true}                    ).then(function(){\n",
              "                            \n",
              "var gd = document.getElementById('53a50385-c2f1-460e-98bf-9be62f937dbd');\n",
              "var x = new MutationObserver(function (mutations, observer) {{\n",
              "        var display = window.getComputedStyle(gd).display;\n",
              "        if (!display || display === 'none') {{\n",
              "            console.log([gd, 'removed!']);\n",
              "            Plotly.purge(gd);\n",
              "            observer.disconnect();\n",
              "        }}\n",
              "}});\n",
              "\n",
              "// Listen for the removal of the full notebook cells\n",
              "var notebookContainer = gd.closest('#notebook-container');\n",
              "if (notebookContainer) {{\n",
              "    x.observe(notebookContainer, {childList: true});\n",
              "}}\n",
              "\n",
              "// Listen for the clearing of the current output cell\n",
              "var outputEl = gd.closest('.output');\n",
              "if (outputEl) {{\n",
              "    x.observe(outputEl, {childList: true});\n",
              "}}\n",
              "\n",
              "                        })                };                            </script>        </div>\n",
              "</body>\n",
              "</html>"
            ]
          },
          "metadata": {}
        }
      ],
      "source": [
        "# plot_slice: shows the change of the hyperparamters space over the search. \n",
        "fig = optuna.visualization.plot_slice(study)\n",
        "py.plot(fig, filename='slice_KNN_Optuna_SMOTE_100_GPU_Recall.html')\n",
        "fig.show()"
      ]
    },
    {
      "cell_type": "code",
      "execution_count": null,
      "metadata": {
        "id": "NovcY8vNlXmP",
        "colab": {
          "base_uri": "https://localhost:8080/",
          "height": 542
        },
        "outputId": "e02e6a95-1c54-48a8-c731-24ea4e0a377d"
      },
      "outputs": [
        {
          "output_type": "display_data",
          "data": {
            "text/html": [
              "<html>\n",
              "<head><meta charset=\"utf-8\" /></head>\n",
              "<body>\n",
              "    <div>            <script src=\"https://cdnjs.cloudflare.com/ajax/libs/mathjax/2.7.5/MathJax.js?config=TeX-AMS-MML_SVG\"></script><script type=\"text/javascript\">if (window.MathJax) {MathJax.Hub.Config({SVG: {font: \"STIX-Web\"}});}</script>                <script type=\"text/javascript\">window.PlotlyConfig = {MathJaxConfig: 'local'};</script>\n",
              "        <script src=\"https://cdn.plot.ly/plotly-2.8.3.min.js\"></script>                <div id=\"3396af1e-f6fc-475c-a5f6-f50d2d1a5de8\" class=\"plotly-graph-div\" style=\"height:525px; width:100%;\"></div>            <script type=\"text/javascript\">                                    window.PLOTLYENV=window.PLOTLYENV || {};                                    if (document.getElementById(\"3396af1e-f6fc-475c-a5f6-f50d2d1a5de8\")) {                    Plotly.newPlot(                        \"3396af1e-f6fc-475c-a5f6-f50d2d1a5de8\",                        [{\"cliponaxis\":false,\"hovertemplate\":[\"metric (CategoricalDistribution): 0.022508677567096045<extra></extra>\",\"n_neighbors (IntUniformDistribution): 0.977491322432904<extra></extra>\"],\"marker\":{\"color\":\"rgb(66,146,198)\"},\"orientation\":\"h\",\"text\":[\"0.022508677567096045\",\"0.977491322432904\"],\"textposition\":\"outside\",\"texttemplate\":\"%{text:.2f}\",\"x\":[0.022508677567096045,0.977491322432904],\"y\":[\"metric\",\"n_neighbors\"],\"type\":\"bar\"}],                        {\"showlegend\":false,\"title\":{\"text\":\"Hyperparameter Importances\"},\"xaxis\":{\"title\":{\"text\":\"Importance for Objective Value\"}},\"yaxis\":{\"title\":{\"text\":\"Hyperparameter\"}},\"template\":{\"data\":{\"bar\":[{\"error_x\":{\"color\":\"#2a3f5f\"},\"error_y\":{\"color\":\"#2a3f5f\"},\"marker\":{\"line\":{\"color\":\"#E5ECF6\",\"width\":0.5},\"pattern\":{\"fillmode\":\"overlay\",\"size\":10,\"solidity\":0.2}},\"type\":\"bar\"}],\"barpolar\":[{\"marker\":{\"line\":{\"color\":\"#E5ECF6\",\"width\":0.5},\"pattern\":{\"fillmode\":\"overlay\",\"size\":10,\"solidity\":0.2}},\"type\":\"barpolar\"}],\"carpet\":[{\"aaxis\":{\"endlinecolor\":\"#2a3f5f\",\"gridcolor\":\"white\",\"linecolor\":\"white\",\"minorgridcolor\":\"white\",\"startlinecolor\":\"#2a3f5f\"},\"baxis\":{\"endlinecolor\":\"#2a3f5f\",\"gridcolor\":\"white\",\"linecolor\":\"white\",\"minorgridcolor\":\"white\",\"startlinecolor\":\"#2a3f5f\"},\"type\":\"carpet\"}],\"choropleth\":[{\"colorbar\":{\"outlinewidth\":0,\"ticks\":\"\"},\"type\":\"choropleth\"}],\"contour\":[{\"colorbar\":{\"outlinewidth\":0,\"ticks\":\"\"},\"colorscale\":[[0.0,\"#0d0887\"],[0.1111111111111111,\"#46039f\"],[0.2222222222222222,\"#7201a8\"],[0.3333333333333333,\"#9c179e\"],[0.4444444444444444,\"#bd3786\"],[0.5555555555555556,\"#d8576b\"],[0.6666666666666666,\"#ed7953\"],[0.7777777777777778,\"#fb9f3a\"],[0.8888888888888888,\"#fdca26\"],[1.0,\"#f0f921\"]],\"type\":\"contour\"}],\"contourcarpet\":[{\"colorbar\":{\"outlinewidth\":0,\"ticks\":\"\"},\"type\":\"contourcarpet\"}],\"heatmap\":[{\"colorbar\":{\"outlinewidth\":0,\"ticks\":\"\"},\"colorscale\":[[0.0,\"#0d0887\"],[0.1111111111111111,\"#46039f\"],[0.2222222222222222,\"#7201a8\"],[0.3333333333333333,\"#9c179e\"],[0.4444444444444444,\"#bd3786\"],[0.5555555555555556,\"#d8576b\"],[0.6666666666666666,\"#ed7953\"],[0.7777777777777778,\"#fb9f3a\"],[0.8888888888888888,\"#fdca26\"],[1.0,\"#f0f921\"]],\"type\":\"heatmap\"}],\"heatmapgl\":[{\"colorbar\":{\"outlinewidth\":0,\"ticks\":\"\"},\"colorscale\":[[0.0,\"#0d0887\"],[0.1111111111111111,\"#46039f\"],[0.2222222222222222,\"#7201a8\"],[0.3333333333333333,\"#9c179e\"],[0.4444444444444444,\"#bd3786\"],[0.5555555555555556,\"#d8576b\"],[0.6666666666666666,\"#ed7953\"],[0.7777777777777778,\"#fb9f3a\"],[0.8888888888888888,\"#fdca26\"],[1.0,\"#f0f921\"]],\"type\":\"heatmapgl\"}],\"histogram\":[{\"marker\":{\"pattern\":{\"fillmode\":\"overlay\",\"size\":10,\"solidity\":0.2}},\"type\":\"histogram\"}],\"histogram2d\":[{\"colorbar\":{\"outlinewidth\":0,\"ticks\":\"\"},\"colorscale\":[[0.0,\"#0d0887\"],[0.1111111111111111,\"#46039f\"],[0.2222222222222222,\"#7201a8\"],[0.3333333333333333,\"#9c179e\"],[0.4444444444444444,\"#bd3786\"],[0.5555555555555556,\"#d8576b\"],[0.6666666666666666,\"#ed7953\"],[0.7777777777777778,\"#fb9f3a\"],[0.8888888888888888,\"#fdca26\"],[1.0,\"#f0f921\"]],\"type\":\"histogram2d\"}],\"histogram2dcontour\":[{\"colorbar\":{\"outlinewidth\":0,\"ticks\":\"\"},\"colorscale\":[[0.0,\"#0d0887\"],[0.1111111111111111,\"#46039f\"],[0.2222222222222222,\"#7201a8\"],[0.3333333333333333,\"#9c179e\"],[0.4444444444444444,\"#bd3786\"],[0.5555555555555556,\"#d8576b\"],[0.6666666666666666,\"#ed7953\"],[0.7777777777777778,\"#fb9f3a\"],[0.8888888888888888,\"#fdca26\"],[1.0,\"#f0f921\"]],\"type\":\"histogram2dcontour\"}],\"mesh3d\":[{\"colorbar\":{\"outlinewidth\":0,\"ticks\":\"\"},\"type\":\"mesh3d\"}],\"parcoords\":[{\"line\":{\"colorbar\":{\"outlinewidth\":0,\"ticks\":\"\"}},\"type\":\"parcoords\"}],\"pie\":[{\"automargin\":true,\"type\":\"pie\"}],\"scatter\":[{\"marker\":{\"colorbar\":{\"outlinewidth\":0,\"ticks\":\"\"}},\"type\":\"scatter\"}],\"scatter3d\":[{\"line\":{\"colorbar\":{\"outlinewidth\":0,\"ticks\":\"\"}},\"marker\":{\"colorbar\":{\"outlinewidth\":0,\"ticks\":\"\"}},\"type\":\"scatter3d\"}],\"scattercarpet\":[{\"marker\":{\"colorbar\":{\"outlinewidth\":0,\"ticks\":\"\"}},\"type\":\"scattercarpet\"}],\"scattergeo\":[{\"marker\":{\"colorbar\":{\"outlinewidth\":0,\"ticks\":\"\"}},\"type\":\"scattergeo\"}],\"scattergl\":[{\"marker\":{\"colorbar\":{\"outlinewidth\":0,\"ticks\":\"\"}},\"type\":\"scattergl\"}],\"scattermapbox\":[{\"marker\":{\"colorbar\":{\"outlinewidth\":0,\"ticks\":\"\"}},\"type\":\"scattermapbox\"}],\"scatterpolar\":[{\"marker\":{\"colorbar\":{\"outlinewidth\":0,\"ticks\":\"\"}},\"type\":\"scatterpolar\"}],\"scatterpolargl\":[{\"marker\":{\"colorbar\":{\"outlinewidth\":0,\"ticks\":\"\"}},\"type\":\"scatterpolargl\"}],\"scatterternary\":[{\"marker\":{\"colorbar\":{\"outlinewidth\":0,\"ticks\":\"\"}},\"type\":\"scatterternary\"}],\"surface\":[{\"colorbar\":{\"outlinewidth\":0,\"ticks\":\"\"},\"colorscale\":[[0.0,\"#0d0887\"],[0.1111111111111111,\"#46039f\"],[0.2222222222222222,\"#7201a8\"],[0.3333333333333333,\"#9c179e\"],[0.4444444444444444,\"#bd3786\"],[0.5555555555555556,\"#d8576b\"],[0.6666666666666666,\"#ed7953\"],[0.7777777777777778,\"#fb9f3a\"],[0.8888888888888888,\"#fdca26\"],[1.0,\"#f0f921\"]],\"type\":\"surface\"}],\"table\":[{\"cells\":{\"fill\":{\"color\":\"#EBF0F8\"},\"line\":{\"color\":\"white\"}},\"header\":{\"fill\":{\"color\":\"#C8D4E3\"},\"line\":{\"color\":\"white\"}},\"type\":\"table\"}]},\"layout\":{\"annotationdefaults\":{\"arrowcolor\":\"#2a3f5f\",\"arrowhead\":0,\"arrowwidth\":1},\"autotypenumbers\":\"strict\",\"coloraxis\":{\"colorbar\":{\"outlinewidth\":0,\"ticks\":\"\"}},\"colorscale\":{\"diverging\":[[0,\"#8e0152\"],[0.1,\"#c51b7d\"],[0.2,\"#de77ae\"],[0.3,\"#f1b6da\"],[0.4,\"#fde0ef\"],[0.5,\"#f7f7f7\"],[0.6,\"#e6f5d0\"],[0.7,\"#b8e186\"],[0.8,\"#7fbc41\"],[0.9,\"#4d9221\"],[1,\"#276419\"]],\"sequential\":[[0.0,\"#0d0887\"],[0.1111111111111111,\"#46039f\"],[0.2222222222222222,\"#7201a8\"],[0.3333333333333333,\"#9c179e\"],[0.4444444444444444,\"#bd3786\"],[0.5555555555555556,\"#d8576b\"],[0.6666666666666666,\"#ed7953\"],[0.7777777777777778,\"#fb9f3a\"],[0.8888888888888888,\"#fdca26\"],[1.0,\"#f0f921\"]],\"sequentialminus\":[[0.0,\"#0d0887\"],[0.1111111111111111,\"#46039f\"],[0.2222222222222222,\"#7201a8\"],[0.3333333333333333,\"#9c179e\"],[0.4444444444444444,\"#bd3786\"],[0.5555555555555556,\"#d8576b\"],[0.6666666666666666,\"#ed7953\"],[0.7777777777777778,\"#fb9f3a\"],[0.8888888888888888,\"#fdca26\"],[1.0,\"#f0f921\"]]},\"colorway\":[\"#636efa\",\"#EF553B\",\"#00cc96\",\"#ab63fa\",\"#FFA15A\",\"#19d3f3\",\"#FF6692\",\"#B6E880\",\"#FF97FF\",\"#FECB52\"],\"font\":{\"color\":\"#2a3f5f\"},\"geo\":{\"bgcolor\":\"white\",\"lakecolor\":\"white\",\"landcolor\":\"#E5ECF6\",\"showlakes\":true,\"showland\":true,\"subunitcolor\":\"white\"},\"hoverlabel\":{\"align\":\"left\"},\"hovermode\":\"closest\",\"mapbox\":{\"style\":\"light\"},\"paper_bgcolor\":\"white\",\"plot_bgcolor\":\"#E5ECF6\",\"polar\":{\"angularaxis\":{\"gridcolor\":\"white\",\"linecolor\":\"white\",\"ticks\":\"\"},\"bgcolor\":\"#E5ECF6\",\"radialaxis\":{\"gridcolor\":\"white\",\"linecolor\":\"white\",\"ticks\":\"\"}},\"scene\":{\"xaxis\":{\"backgroundcolor\":\"#E5ECF6\",\"gridcolor\":\"white\",\"gridwidth\":2,\"linecolor\":\"white\",\"showbackground\":true,\"ticks\":\"\",\"zerolinecolor\":\"white\"},\"yaxis\":{\"backgroundcolor\":\"#E5ECF6\",\"gridcolor\":\"white\",\"gridwidth\":2,\"linecolor\":\"white\",\"showbackground\":true,\"ticks\":\"\",\"zerolinecolor\":\"white\"},\"zaxis\":{\"backgroundcolor\":\"#E5ECF6\",\"gridcolor\":\"white\",\"gridwidth\":2,\"linecolor\":\"white\",\"showbackground\":true,\"ticks\":\"\",\"zerolinecolor\":\"white\"}},\"shapedefaults\":{\"line\":{\"color\":\"#2a3f5f\"}},\"ternary\":{\"aaxis\":{\"gridcolor\":\"white\",\"linecolor\":\"white\",\"ticks\":\"\"},\"baxis\":{\"gridcolor\":\"white\",\"linecolor\":\"white\",\"ticks\":\"\"},\"bgcolor\":\"#E5ECF6\",\"caxis\":{\"gridcolor\":\"white\",\"linecolor\":\"white\",\"ticks\":\"\"}},\"title\":{\"x\":0.05},\"xaxis\":{\"automargin\":true,\"gridcolor\":\"white\",\"linecolor\":\"white\",\"ticks\":\"\",\"title\":{\"standoff\":15},\"zerolinecolor\":\"white\",\"zerolinewidth\":2},\"yaxis\":{\"automargin\":true,\"gridcolor\":\"white\",\"linecolor\":\"white\",\"ticks\":\"\",\"title\":{\"standoff\":15},\"zerolinecolor\":\"white\",\"zerolinewidth\":2}}}},                        {\"responsive\": true}                    ).then(function(){\n",
              "                            \n",
              "var gd = document.getElementById('3396af1e-f6fc-475c-a5f6-f50d2d1a5de8');\n",
              "var x = new MutationObserver(function (mutations, observer) {{\n",
              "        var display = window.getComputedStyle(gd).display;\n",
              "        if (!display || display === 'none') {{\n",
              "            console.log([gd, 'removed!']);\n",
              "            Plotly.purge(gd);\n",
              "            observer.disconnect();\n",
              "        }}\n",
              "}});\n",
              "\n",
              "// Listen for the removal of the full notebook cells\n",
              "var notebookContainer = gd.closest('#notebook-container');\n",
              "if (notebookContainer) {{\n",
              "    x.observe(notebookContainer, {childList: true});\n",
              "}}\n",
              "\n",
              "// Listen for the clearing of the current output cell\n",
              "var outputEl = gd.closest('.output');\n",
              "if (outputEl) {{\n",
              "    x.observe(outputEl, {childList: true});\n",
              "}}\n",
              "\n",
              "                        })                };                            </script>        </div>\n",
              "</body>\n",
              "</html>"
            ]
          },
          "metadata": {}
        }
      ],
      "source": [
        "# Visualize parameter importances\n",
        "fig = optuna.visualization.plot_param_importances(study)\n",
        "py.plot(fig, filename='paramImportance_KNN_Optuna_SMOTE_100_GPU_Recall.html')\n",
        "fig.show()"
      ]
    },
    {
      "cell_type": "code",
      "execution_count": null,
      "metadata": {
        "id": "BfzNv9uqlXmQ",
        "colab": {
          "base_uri": "https://localhost:8080/",
          "height": 542
        },
        "outputId": "b2680ae1-f290-489a-c349-be47772a2a75"
      },
      "outputs": [
        {
          "output_type": "display_data",
          "data": {
            "text/html": [
              "<html>\n",
              "<head><meta charset=\"utf-8\" /></head>\n",
              "<body>\n",
              "    <div>            <script src=\"https://cdnjs.cloudflare.com/ajax/libs/mathjax/2.7.5/MathJax.js?config=TeX-AMS-MML_SVG\"></script><script type=\"text/javascript\">if (window.MathJax) {MathJax.Hub.Config({SVG: {font: \"STIX-Web\"}});}</script>                <script type=\"text/javascript\">window.PlotlyConfig = {MathJaxConfig: 'local'};</script>\n",
              "        <script src=\"https://cdn.plot.ly/plotly-2.8.3.min.js\"></script>                <div id=\"5040fc19-1806-493a-a494-1601c7e68efe\" class=\"plotly-graph-div\" style=\"height:525px; width:100%;\"></div>            <script type=\"text/javascript\">                                    window.PLOTLYENV=window.PLOTLYENV || {};                                    if (document.getElementById(\"5040fc19-1806-493a-a494-1601c7e68efe\")) {                    Plotly.newPlot(                        \"5040fc19-1806-493a-a494-1601c7e68efe\",                        [{\"mode\":\"lines\",\"name\":\"dask_optuna_knn_100_rmse_tpe\",\"x\":[0.7234782608695652,0.724632503524952,0.7257867461803389,0.7269409888357257,0.7280952314911125,0.7292494741464993,0.7304037168018862,0.731557959457273,0.7327122021126597,0.7338664447680466,0.7350206874234334,0.7361749300788203,0.7373291727342071,0.738483415389594,0.7396376580449807,0.7407919007003675,0.7419461433557544,0.7431003860111411,0.744254628666528,0.7454088713219148,0.7465631139773016,0.7477173566326885,0.7488715992880752,0.7500258419434621,0.7511800845988489,0.7523343272542358,0.7534885699096225,0.7546428125650093,0.7557970552203962,0.756951297875783,0.7581055405311699,0.7592597831865566,0.7604140258419435,0.7615682684973303,0.762722511152717,0.7638767538081039,0.7650309964634907,0.7661852391188776,0.7673394817742644,0.7684937244296512,0.769647967085038,0.7708022097404248,0.7719564523958117,0.7731106950511984,0.7742649377065853,0.7754191803619721,0.7765734230173589,0.7777276656727458,0.7788819083281325,0.7800361509835194,0.7811903936389062,0.7823446362942931,0.7834988789496798,0.7846531216050666,0.7858073642604535,0.7869616069158403,0.7881158495712272,0.7892700922266139,0.7904243348820008,0.7915785775373876,0.7927328201927744,0.7938870628481612,0.795041305503548,0.7961955481589349,0.7973497908143217,0.7985040334697084,0.7996582761250953,0.8008125187804821,0.801966761435869,0.8031210040912558,0.8042752467466426,0.8054294894020294,0.8065837320574163,0.8077379747128031,0.8088922173681898,0.8100464600235767,0.8112007026789635,0.8123549453343504,0.8135091879897371,0.8146634306451239,0.8158176733005108,0.8169719159558976,0.8181261586112845,0.8192804012666712,0.8204346439220581,0.8215888865774449,0.8227431292328318,0.8238973718882185,0.8250516145436053,0.8262058571989922,0.827360099854379,0.8285143425097659,0.8296685851651526,0.8308228278205394,0.8319770704759263,0.8331313131313131,0.8342855557866999,0.8354397984420867,0.8365940410974735,0.8377482837528604],\"y\":[0.010101010101010102,0.010101010101010102,0.010101010101010102,0.010101010101010102,0.010101010101010102,0.010101010101010102,0.010101010101010102,0.010101010101010102,0.030303030303030304,0.030303030303030304,0.030303030303030304,0.030303030303030304,0.030303030303030304,0.030303030303030304,0.030303030303030304,0.030303030303030304,0.030303030303030304,0.030303030303030304,0.030303030303030304,0.030303030303030304,0.030303030303030304,0.030303030303030304,0.030303030303030304,0.030303030303030304,0.030303030303030304,0.030303030303030304,0.030303030303030304,0.030303030303030304,0.030303030303030304,0.030303030303030304,0.030303030303030304,0.030303030303030304,0.030303030303030304,0.030303030303030304,0.030303030303030304,0.030303030303030304,0.030303030303030304,0.030303030303030304,0.030303030303030304,0.030303030303030304,0.030303030303030304,0.030303030303030304,0.030303030303030304,0.030303030303030304,0.030303030303030304,0.030303030303030304,0.030303030303030304,0.030303030303030304,0.030303030303030304,0.030303030303030304,0.030303030303030304,0.030303030303030304,0.030303030303030304,0.030303030303030304,0.04040404040404041,0.04040404040404041,0.050505050505050504,0.050505050505050504,0.050505050505050504,0.050505050505050504,0.050505050505050504,0.050505050505050504,0.050505050505050504,0.050505050505050504,0.050505050505050504,0.050505050505050504,0.050505050505050504,0.050505050505050504,0.050505050505050504,0.0707070707070707,0.0707070707070707,0.0707070707070707,0.08080808080808081,0.08080808080808081,0.08080808080808081,0.09090909090909091,0.09090909090909091,0.1111111111111111,0.12121212121212122,0.13131313131313133,0.1414141414141414,0.1414141414141414,0.16161616161616163,0.16161616161616163,0.1717171717171717,0.1717171717171717,0.1717171717171717,0.21212121212121213,0.21212121212121213,0.24242424242424243,0.24242424242424243,0.30303030303030304,0.3939393939393939,0.494949494949495,0.6161616161616161,0.6161616161616161,0.6363636363636364,0.6767676767676768,0.7474747474747475,1.0],\"type\":\"scatter\"}],                        {\"title\":{\"text\":\"Empirical Distribution Function Plot\"},\"xaxis\":{\"title\":{\"text\":\"Objective Value\"}},\"yaxis\":{\"title\":{\"text\":\"Cumulative Probability\"},\"range\":[0,1]},\"template\":{\"data\":{\"bar\":[{\"error_x\":{\"color\":\"#2a3f5f\"},\"error_y\":{\"color\":\"#2a3f5f\"},\"marker\":{\"line\":{\"color\":\"#E5ECF6\",\"width\":0.5},\"pattern\":{\"fillmode\":\"overlay\",\"size\":10,\"solidity\":0.2}},\"type\":\"bar\"}],\"barpolar\":[{\"marker\":{\"line\":{\"color\":\"#E5ECF6\",\"width\":0.5},\"pattern\":{\"fillmode\":\"overlay\",\"size\":10,\"solidity\":0.2}},\"type\":\"barpolar\"}],\"carpet\":[{\"aaxis\":{\"endlinecolor\":\"#2a3f5f\",\"gridcolor\":\"white\",\"linecolor\":\"white\",\"minorgridcolor\":\"white\",\"startlinecolor\":\"#2a3f5f\"},\"baxis\":{\"endlinecolor\":\"#2a3f5f\",\"gridcolor\":\"white\",\"linecolor\":\"white\",\"minorgridcolor\":\"white\",\"startlinecolor\":\"#2a3f5f\"},\"type\":\"carpet\"}],\"choropleth\":[{\"colorbar\":{\"outlinewidth\":0,\"ticks\":\"\"},\"type\":\"choropleth\"}],\"contour\":[{\"colorbar\":{\"outlinewidth\":0,\"ticks\":\"\"},\"colorscale\":[[0.0,\"#0d0887\"],[0.1111111111111111,\"#46039f\"],[0.2222222222222222,\"#7201a8\"],[0.3333333333333333,\"#9c179e\"],[0.4444444444444444,\"#bd3786\"],[0.5555555555555556,\"#d8576b\"],[0.6666666666666666,\"#ed7953\"],[0.7777777777777778,\"#fb9f3a\"],[0.8888888888888888,\"#fdca26\"],[1.0,\"#f0f921\"]],\"type\":\"contour\"}],\"contourcarpet\":[{\"colorbar\":{\"outlinewidth\":0,\"ticks\":\"\"},\"type\":\"contourcarpet\"}],\"heatmap\":[{\"colorbar\":{\"outlinewidth\":0,\"ticks\":\"\"},\"colorscale\":[[0.0,\"#0d0887\"],[0.1111111111111111,\"#46039f\"],[0.2222222222222222,\"#7201a8\"],[0.3333333333333333,\"#9c179e\"],[0.4444444444444444,\"#bd3786\"],[0.5555555555555556,\"#d8576b\"],[0.6666666666666666,\"#ed7953\"],[0.7777777777777778,\"#fb9f3a\"],[0.8888888888888888,\"#fdca26\"],[1.0,\"#f0f921\"]],\"type\":\"heatmap\"}],\"heatmapgl\":[{\"colorbar\":{\"outlinewidth\":0,\"ticks\":\"\"},\"colorscale\":[[0.0,\"#0d0887\"],[0.1111111111111111,\"#46039f\"],[0.2222222222222222,\"#7201a8\"],[0.3333333333333333,\"#9c179e\"],[0.4444444444444444,\"#bd3786\"],[0.5555555555555556,\"#d8576b\"],[0.6666666666666666,\"#ed7953\"],[0.7777777777777778,\"#fb9f3a\"],[0.8888888888888888,\"#fdca26\"],[1.0,\"#f0f921\"]],\"type\":\"heatmapgl\"}],\"histogram\":[{\"marker\":{\"pattern\":{\"fillmode\":\"overlay\",\"size\":10,\"solidity\":0.2}},\"type\":\"histogram\"}],\"histogram2d\":[{\"colorbar\":{\"outlinewidth\":0,\"ticks\":\"\"},\"colorscale\":[[0.0,\"#0d0887\"],[0.1111111111111111,\"#46039f\"],[0.2222222222222222,\"#7201a8\"],[0.3333333333333333,\"#9c179e\"],[0.4444444444444444,\"#bd3786\"],[0.5555555555555556,\"#d8576b\"],[0.6666666666666666,\"#ed7953\"],[0.7777777777777778,\"#fb9f3a\"],[0.8888888888888888,\"#fdca26\"],[1.0,\"#f0f921\"]],\"type\":\"histogram2d\"}],\"histogram2dcontour\":[{\"colorbar\":{\"outlinewidth\":0,\"ticks\":\"\"},\"colorscale\":[[0.0,\"#0d0887\"],[0.1111111111111111,\"#46039f\"],[0.2222222222222222,\"#7201a8\"],[0.3333333333333333,\"#9c179e\"],[0.4444444444444444,\"#bd3786\"],[0.5555555555555556,\"#d8576b\"],[0.6666666666666666,\"#ed7953\"],[0.7777777777777778,\"#fb9f3a\"],[0.8888888888888888,\"#fdca26\"],[1.0,\"#f0f921\"]],\"type\":\"histogram2dcontour\"}],\"mesh3d\":[{\"colorbar\":{\"outlinewidth\":0,\"ticks\":\"\"},\"type\":\"mesh3d\"}],\"parcoords\":[{\"line\":{\"colorbar\":{\"outlinewidth\":0,\"ticks\":\"\"}},\"type\":\"parcoords\"}],\"pie\":[{\"automargin\":true,\"type\":\"pie\"}],\"scatter\":[{\"marker\":{\"colorbar\":{\"outlinewidth\":0,\"ticks\":\"\"}},\"type\":\"scatter\"}],\"scatter3d\":[{\"line\":{\"colorbar\":{\"outlinewidth\":0,\"ticks\":\"\"}},\"marker\":{\"colorbar\":{\"outlinewidth\":0,\"ticks\":\"\"}},\"type\":\"scatter3d\"}],\"scattercarpet\":[{\"marker\":{\"colorbar\":{\"outlinewidth\":0,\"ticks\":\"\"}},\"type\":\"scattercarpet\"}],\"scattergeo\":[{\"marker\":{\"colorbar\":{\"outlinewidth\":0,\"ticks\":\"\"}},\"type\":\"scattergeo\"}],\"scattergl\":[{\"marker\":{\"colorbar\":{\"outlinewidth\":0,\"ticks\":\"\"}},\"type\":\"scattergl\"}],\"scattermapbox\":[{\"marker\":{\"colorbar\":{\"outlinewidth\":0,\"ticks\":\"\"}},\"type\":\"scattermapbox\"}],\"scatterpolar\":[{\"marker\":{\"colorbar\":{\"outlinewidth\":0,\"ticks\":\"\"}},\"type\":\"scatterpolar\"}],\"scatterpolargl\":[{\"marker\":{\"colorbar\":{\"outlinewidth\":0,\"ticks\":\"\"}},\"type\":\"scatterpolargl\"}],\"scatterternary\":[{\"marker\":{\"colorbar\":{\"outlinewidth\":0,\"ticks\":\"\"}},\"type\":\"scatterternary\"}],\"surface\":[{\"colorbar\":{\"outlinewidth\":0,\"ticks\":\"\"},\"colorscale\":[[0.0,\"#0d0887\"],[0.1111111111111111,\"#46039f\"],[0.2222222222222222,\"#7201a8\"],[0.3333333333333333,\"#9c179e\"],[0.4444444444444444,\"#bd3786\"],[0.5555555555555556,\"#d8576b\"],[0.6666666666666666,\"#ed7953\"],[0.7777777777777778,\"#fb9f3a\"],[0.8888888888888888,\"#fdca26\"],[1.0,\"#f0f921\"]],\"type\":\"surface\"}],\"table\":[{\"cells\":{\"fill\":{\"color\":\"#EBF0F8\"},\"line\":{\"color\":\"white\"}},\"header\":{\"fill\":{\"color\":\"#C8D4E3\"},\"line\":{\"color\":\"white\"}},\"type\":\"table\"}]},\"layout\":{\"annotationdefaults\":{\"arrowcolor\":\"#2a3f5f\",\"arrowhead\":0,\"arrowwidth\":1},\"autotypenumbers\":\"strict\",\"coloraxis\":{\"colorbar\":{\"outlinewidth\":0,\"ticks\":\"\"}},\"colorscale\":{\"diverging\":[[0,\"#8e0152\"],[0.1,\"#c51b7d\"],[0.2,\"#de77ae\"],[0.3,\"#f1b6da\"],[0.4,\"#fde0ef\"],[0.5,\"#f7f7f7\"],[0.6,\"#e6f5d0\"],[0.7,\"#b8e186\"],[0.8,\"#7fbc41\"],[0.9,\"#4d9221\"],[1,\"#276419\"]],\"sequential\":[[0.0,\"#0d0887\"],[0.1111111111111111,\"#46039f\"],[0.2222222222222222,\"#7201a8\"],[0.3333333333333333,\"#9c179e\"],[0.4444444444444444,\"#bd3786\"],[0.5555555555555556,\"#d8576b\"],[0.6666666666666666,\"#ed7953\"],[0.7777777777777778,\"#fb9f3a\"],[0.8888888888888888,\"#fdca26\"],[1.0,\"#f0f921\"]],\"sequentialminus\":[[0.0,\"#0d0887\"],[0.1111111111111111,\"#46039f\"],[0.2222222222222222,\"#7201a8\"],[0.3333333333333333,\"#9c179e\"],[0.4444444444444444,\"#bd3786\"],[0.5555555555555556,\"#d8576b\"],[0.6666666666666666,\"#ed7953\"],[0.7777777777777778,\"#fb9f3a\"],[0.8888888888888888,\"#fdca26\"],[1.0,\"#f0f921\"]]},\"colorway\":[\"#636efa\",\"#EF553B\",\"#00cc96\",\"#ab63fa\",\"#FFA15A\",\"#19d3f3\",\"#FF6692\",\"#B6E880\",\"#FF97FF\",\"#FECB52\"],\"font\":{\"color\":\"#2a3f5f\"},\"geo\":{\"bgcolor\":\"white\",\"lakecolor\":\"white\",\"landcolor\":\"#E5ECF6\",\"showlakes\":true,\"showland\":true,\"subunitcolor\":\"white\"},\"hoverlabel\":{\"align\":\"left\"},\"hovermode\":\"closest\",\"mapbox\":{\"style\":\"light\"},\"paper_bgcolor\":\"white\",\"plot_bgcolor\":\"#E5ECF6\",\"polar\":{\"angularaxis\":{\"gridcolor\":\"white\",\"linecolor\":\"white\",\"ticks\":\"\"},\"bgcolor\":\"#E5ECF6\",\"radialaxis\":{\"gridcolor\":\"white\",\"linecolor\":\"white\",\"ticks\":\"\"}},\"scene\":{\"xaxis\":{\"backgroundcolor\":\"#E5ECF6\",\"gridcolor\":\"white\",\"gridwidth\":2,\"linecolor\":\"white\",\"showbackground\":true,\"ticks\":\"\",\"zerolinecolor\":\"white\"},\"yaxis\":{\"backgroundcolor\":\"#E5ECF6\",\"gridcolor\":\"white\",\"gridwidth\":2,\"linecolor\":\"white\",\"showbackground\":true,\"ticks\":\"\",\"zerolinecolor\":\"white\"},\"zaxis\":{\"backgroundcolor\":\"#E5ECF6\",\"gridcolor\":\"white\",\"gridwidth\":2,\"linecolor\":\"white\",\"showbackground\":true,\"ticks\":\"\",\"zerolinecolor\":\"white\"}},\"shapedefaults\":{\"line\":{\"color\":\"#2a3f5f\"}},\"ternary\":{\"aaxis\":{\"gridcolor\":\"white\",\"linecolor\":\"white\",\"ticks\":\"\"},\"baxis\":{\"gridcolor\":\"white\",\"linecolor\":\"white\",\"ticks\":\"\"},\"bgcolor\":\"#E5ECF6\",\"caxis\":{\"gridcolor\":\"white\",\"linecolor\":\"white\",\"ticks\":\"\"}},\"title\":{\"x\":0.05},\"xaxis\":{\"automargin\":true,\"gridcolor\":\"white\",\"linecolor\":\"white\",\"ticks\":\"\",\"title\":{\"standoff\":15},\"zerolinecolor\":\"white\",\"zerolinewidth\":2},\"yaxis\":{\"automargin\":true,\"gridcolor\":\"white\",\"linecolor\":\"white\",\"ticks\":\"\",\"title\":{\"standoff\":15},\"zerolinecolor\":\"white\",\"zerolinewidth\":2}}}},                        {\"responsive\": true}                    ).then(function(){\n",
              "                            \n",
              "var gd = document.getElementById('5040fc19-1806-493a-a494-1601c7e68efe');\n",
              "var x = new MutationObserver(function (mutations, observer) {{\n",
              "        var display = window.getComputedStyle(gd).display;\n",
              "        if (!display || display === 'none') {{\n",
              "            console.log([gd, 'removed!']);\n",
              "            Plotly.purge(gd);\n",
              "            observer.disconnect();\n",
              "        }}\n",
              "}});\n",
              "\n",
              "// Listen for the removal of the full notebook cells\n",
              "var notebookContainer = gd.closest('#notebook-container');\n",
              "if (notebookContainer) {{\n",
              "    x.observe(notebookContainer, {childList: true});\n",
              "}}\n",
              "\n",
              "// Listen for the clearing of the current output cell\n",
              "var outputEl = gd.closest('.output');\n",
              "if (outputEl) {{\n",
              "    x.observe(outputEl, {childList: true});\n",
              "}}\n",
              "\n",
              "                        })                };                            </script>        </div>\n",
              "</body>\n",
              "</html>"
            ]
          },
          "metadata": {}
        }
      ],
      "source": [
        "# Visualize empirical distribution function\n",
        "fig = optuna.visualization.plot_edf(study)\n",
        "py.plot(fig, filename='edf_KNN_Optuna_SMOTE_100_GPU_Recall.html')\n",
        "fig.show()"
      ]
    },
    {
      "cell_type": "code",
      "execution_count": null,
      "metadata": {
        "id": "XtSFdOLolXmQ",
        "colab": {
          "base_uri": "https://localhost:8080/"
        },
        "outputId": "9d28fcb5-70a3-4f19-b3b4-f33dd3562a83"
      },
      "outputs": [
        {
          "output_type": "execute_result",
          "data": {
            "text/plain": [
              "{'metric': 'chebyshev', 'n_neighbors': 49}"
            ]
          },
          "metadata": {},
          "execution_count": 27
        }
      ],
      "source": [
        "# Arrange best parameters to fit model for model metrics\n",
        "params = study.best_params   \n",
        "params"
      ]
    },
    {
      "cell_type": "code",
      "source": [
        "%cd /content/drive/MyDrive/LoanStatus/Python/Models/ML/KNN/Optuna/Model_PKL/"
      ],
      "metadata": {
        "colab": {
          "base_uri": "https://localhost:8080/"
        },
        "outputId": "01adbe35-006a-4ccb-c1c1-211249856131",
        "id": "hopKSK1Lcai5"
      },
      "execution_count": null,
      "outputs": [
        {
          "output_type": "stream",
          "name": "stdout",
          "text": [
            "/content/drive/MyDrive/LoanStatus/Python/Models/ML/KNN/Optuna/Model_PKL\n"
          ]
        }
      ]
    },
    {
      "cell_type": "code",
      "execution_count": null,
      "metadata": {
        "id": "41-3ttNClXmR"
      },
      "outputs": [],
      "source": [
        "# Re-create the best model and train on the training data\n",
        "best_model = KNeighborsClassifier(n_neighbors=49, metric='chebyshev')\n",
        "\n",
        "# Fit the model\n",
        "best_model.fit(X_train, y_train)\n",
        "\n",
        "# Save model\n",
        "Pkl_Filename = 'KNN_Optuna_SMOTE_trials100_GPU_Recall.pkl'  \n",
        "\n",
        "with open(Pkl_Filename, 'wb') as file:  \n",
        "    pickle.dump(best_model, file)\n",
        "\n",
        "# =============================================================================\n",
        "# # To load saved model\n",
        "# model = joblib.load('KNN_Optuna_SMOTE_trials100_GPU_ROCweighted.pkl')\n",
        "# print(model)\n",
        "# ============================================================================="
      ]
    },
    {
      "cell_type": "code",
      "execution_count": null,
      "metadata": {
        "id": "B-YENGf8lXmS",
        "colab": {
          "base_uri": "https://localhost:8080/"
        },
        "outputId": "96d155da-68ff-4390-db5f-759db208f7df"
      },
      "outputs": [
        {
          "output_type": "stream",
          "name": "stdout",
          "text": [
            "\n",
            "Model Metrics for KNN HPO SMOTE 100trials GPU Recall\n",
            "\n",
            "\n",
            "Classification Report:\n",
            "              precision    recall  f1-score   support\n",
            "\n",
            "           0       0.97      0.80      0.87    377848\n",
            "           1       0.37      0.80      0.50     54625\n",
            "\n",
            "    accuracy                           0.80    432473\n",
            "   macro avg       0.67      0.80      0.69    432473\n",
            "weighted avg       0.89      0.80      0.83    432473\n",
            "\n",
            "\n",
            "\n",
            "Confusion matrix:\n",
            "[[302351  75497]\n",
            " [ 10938  43687]]\n",
            "\n",
            "\n",
            "Accuracy score : 0.800\n",
            "Precision score : 0.367\n",
            "Recall score : 0.800\n",
            "F1 score : 0.503\n"
          ]
        }
      ],
      "source": [
        "print('\\nModel Metrics for KNN HPO SMOTE 100trials GPU Recall')\n",
        "# Predict based on training \n",
        "y_train_pred = best_model.predict(X_train)\n",
        "y_test_pred = best_model.predict(X_test)\n",
        "print('\\n')\n",
        "print('Classification Report:')\n",
        "clf_rpt = classification_report(y_test.to_numpy(), y_test_pred.to_numpy())\n",
        "print(clf_rpt)\n",
        "print('\\n')\n",
        "print('Confusion matrix:')\n",
        "print(confusion_matrix(y_test.to_numpy(), y_test_pred.to_numpy()))\n",
        "print('\\n')\n",
        "print('Accuracy score : %.3f' % accuracy_score(y_test.to_numpy(), \n",
        "                                               y_test_pred.to_numpy()))\n",
        "print('Precision score : %.3f' % precision_score(y_test.to_numpy(), \n",
        "                                                 y_test_pred.to_numpy()))\n",
        "print('Recall score : %.3f' % recall_score(y_test.to_numpy(), \n",
        "                                           y_test_pred.to_numpy()))\n",
        "print('F1 score : %.3f' % f1_score(y_test.to_numpy(), y_test_pred.to_numpy()))"
      ]
    },
    {
      "cell_type": "code",
      "execution_count": null,
      "metadata": {
        "id": "jSbHqnczlXmS",
        "colab": {
          "base_uri": "https://localhost:8080/"
        },
        "outputId": "5bc7e6f9-3767-4d01-e72b-f545c3f42373"
      },
      "outputs": [
        {
          "output_type": "stream",
          "name": "stdout",
          "text": [
            "The best model from SMOTE 100 Recall GPU trials optimization scores 0.79998 AUC ROC on the test set.\n",
            "This was achieved using these conditions:\n",
            "iteration                                    73\n",
            "recall                                 0.837748\n",
            "datetime_start       2022-06-15 19:23:33.410434\n",
            "datetime_complete    2022-06-15 19:24:11.559496\n",
            "duration                 0 days 00:00:38.149062\n",
            "metric                                minkowski\n",
            "n_neighbors                                49.0\n",
            "state                                  COMPLETE\n",
            "Name: 73, dtype: object\n"
          ]
        }
      ],
      "source": [
        "# Evaluate on the testing data \n",
        "print('The best model from SMOTE 100 Recall GPU trials optimization scores {:.5f} AUC ROC on the test set.'.format(roc_auc_score(y_test.to_numpy(), \n",
        "                                                                                                                                 y_test_pred.to_numpy())))\n",
        "print('This was achieved using these conditions:')\n",
        "print(trials_df.iloc[0])"
      ]
    },
    {
      "cell_type": "markdown",
      "source": [
        "## Precision"
      ],
      "metadata": {
        "id": "wSHpS-Y5s1Vr"
      }
    },
    {
      "cell_type": "markdown",
      "source": [
        "### 100 Trials"
      ],
      "metadata": {
        "id": "AokDpEE_s266"
      }
    },
    {
      "cell_type": "code",
      "source": [
        "%cd /content/drive/MyDrive/LoanStatus/Python/Models/ML/KNN/Optuna/Model_PKL/\n",
        "\n",
        "# Define a name for the trials\n",
        "study_name = 'dask_knn_optuna_SMOTE_100_Precision_tpe'"
      ],
      "metadata": {
        "colab": {
          "base_uri": "https://localhost:8080/"
        },
        "outputId": "01adbe35-006a-4ccb-c1c1-211249856131",
        "id": "ShaYQYcacdjw"
      },
      "execution_count": null,
      "outputs": [
        {
          "output_type": "stream",
          "name": "stdout",
          "text": [
            "/content/drive/MyDrive/LoanStatus/Python/Models/ML/KNN/Optuna/Model_PKL\n"
          ]
        }
      ]
    },
    {
      "cell_type": "code",
      "execution_count": null,
      "metadata": {
        "id": "Pp6wlbysWw_k"
      },
      "outputs": [],
      "source": [
        "# Define function to train/evaluate the model\n",
        "def train_and_eval(X_param, y_param, n_neighbors=10, \n",
        "                   metric='euclidean', verbose=False): \n",
        "    \"\"\"\n",
        "    Partition data into train/test sets, train and evaluate the model\n",
        "    for the given parameters.\n",
        "        \n",
        "    Params\n",
        "    ______\n",
        "        \n",
        "    X_param:  DataFrame. \n",
        "              The data to use for training and testing. \n",
        "    y_param:  Series. \n",
        "              The label for training\n",
        "\n",
        "    Returns\n",
        "    score: Precision of the fitted model\n",
        "    \"\"\"\n",
        "    \n",
        "    # Set up train/test sets\n",
        "    X_train, y_train = trainDF.drop('loan_status', \n",
        "                                    axis=1), trainDF['loan_status'].astype('int32')\n",
        "    X_train = X_train.astype('float32')\n",
        "\n",
        "    X_test, y_test= testDF.drop('loan_status', \n",
        "                                axis=1), testDF['loan_status'].astype('int32')\n",
        "    X_test = X_test.astype('float32')\n",
        "\n",
        "    # Define model\n",
        "    model = KNeighborsClassifier(n_neighbors=n_neighbors, \n",
        "                                 metric=metric, \n",
        "                                 verbose=verbose)\n",
        "    \n",
        "    # Start timer for each trial\n",
        "    start = timer()\n",
        "\n",
        "    # Fit model\n",
        "    model.fit(X_train, y_train)\n",
        "    \n",
        "    # Predict\n",
        "    y_pred = model.predict(X_test)\n",
        "    score = precision_score(y_test.to_numpy(), y_pred.to_numpy())\n",
        "     \n",
        "    run_time = timer() - start\n",
        "\n",
        "    print('- Trial time:', run_time) \n",
        "    print('- Trial precision score:', score)\n",
        "    print('######################################################')\n",
        "\n",
        "    return score"
      ]
    },
    {
      "cell_type": "code",
      "execution_count": null,
      "metadata": {
        "id": "PuHdxRwQWw_o",
        "colab": {
          "base_uri": "https://localhost:8080/"
        },
        "outputId": "9460afb3-c907-41d9-ed13-495c429bf22d"
      },
      "outputs": [
        {
          "output_type": "stream",
          "name": "stdout",
          "text": [
            "- Trial time: 36.392250201000024\n",
            "- Trial precision score: 0.43819978275401067\n",
            "######################################################\n",
            "Score with default parameters :  0.43819978275401067\n"
          ]
        }
      ],
      "source": [
        "print('Score with default parameters : ', train_and_eval(X_train, y_train))"
      ]
    },
    {
      "cell_type": "code",
      "execution_count": null,
      "metadata": {
        "id": "qevoSrYLWw_o"
      },
      "outputs": [],
      "source": [
        "# Define objective function with the parameters to be tested\n",
        "def objective(trial, X_param, y_param):\n",
        "\n",
        "    joblib.dump(study, 'KNN_Optuna_SMOTE_100_GPU_Precision.pkl')\n",
        "\n",
        "    # Search parameters\n",
        "    n_neighbors = trial.suggest_int('n_neighbors', 3, 50) \n",
        "    metric = trial.suggest_categorical('metric', ['euclidean', 'manhattan', \n",
        "                                                  'chebyshev', 'minkowski'])\n",
        "\n",
        "    score = train_and_eval(X_param, y_param,\n",
        "                           n_neighbors=n_neighbors, \n",
        "                           verbose=False)\n",
        "\n",
        "    return score"
      ]
    },
    {
      "cell_type": "code",
      "execution_count": null,
      "metadata": {
        "id": "BFQl5NI1Ww_q",
        "colab": {
          "base_uri": "https://localhost:8080/"
        },
        "outputId": "fa6ce1e2-7099-4522-b81f-36d391eb6ecc"
      },
      "outputs": [
        {
          "output_type": "stream",
          "name": "stdout",
          "text": [
            "Start Time           2022-06-15 20:01:56.873616\n",
            "- Trial time: 36.64731320700048\n",
            "- Trial precision score: 0.39604714740285935\n",
            "######################################################\n",
            "- Trial time: 36.76108234300045\n",
            "- Trial precision score: 0.41903847077469863\n",
            "######################################################\n",
            "- Trial time: 36.200918913999885\n",
            "- Trial precision score: 0.4347036591288191\n",
            "######################################################\n",
            "- Trial time: 37.07216035500005\n",
            "- Trial precision score: 0.38786451978760333\n",
            "######################################################\n",
            "- Trial time: 36.44326538800033\n",
            "- Trial precision score: 0.43196542079837275\n",
            "######################################################\n",
            "- Trial time: 37.12226190000001\n",
            "- Trial precision score: 0.40422102909087615\n",
            "######################################################\n",
            "- Trial time: 36.44924952400015\n",
            "- Trial precision score: 0.43196542079837275\n",
            "######################################################\n",
            "- Trial time: 37.87999960400066\n",
            "- Trial precision score: 0.3820729373048121\n",
            "######################################################\n",
            "- Trial time: 36.89617865400032\n",
            "- Trial precision score: 0.4133042734882148\n",
            "######################################################\n",
            "- Trial time: 36.52023710100002\n",
            "- Trial precision score: 0.397601082327731\n",
            "######################################################\n",
            "- Trial time: 36.235651414999666\n",
            "- Trial precision score: 0.4743930197268589\n",
            "######################################################\n",
            "- Trial time: 36.15186134099986\n",
            "- Trial precision score: 0.4720496894409938\n",
            "######################################################\n",
            "- Trial time: 36.137474027999815\n",
            "- Trial precision score: 0.4720496894409938\n",
            "######################################################\n",
            "- Trial time: 36.160275330999866\n",
            "- Trial precision score: 0.4720496894409938\n",
            "######################################################\n",
            "- Trial time: 38.0019508940004\n",
            "- Trial precision score: 0.3789188427656277\n",
            "######################################################\n",
            "- Trial time: 36.42159777000052\n",
            "- Trial precision score: 0.45081123688993013\n",
            "######################################################\n",
            "- Trial time: 36.35029904299972\n",
            "- Trial precision score: 0.40416494380333046\n",
            "######################################################\n",
            "- Trial time: 36.67562296000051\n",
            "- Trial precision score: 0.4219650370715875\n",
            "######################################################\n",
            "- Trial time: 36.8841952570001\n",
            "- Trial precision score: 0.4133042734882148\n",
            "######################################################\n",
            "- Trial time: 37.101955043999624\n",
            "- Trial precision score: 0.38786451978760333\n",
            "######################################################\n",
            "- Trial time: 37.77235798699985\n",
            "- Trial precision score: 0.3831266346072724\n",
            "######################################################\n",
            "- Trial time: 36.183513891000075\n",
            "- Trial precision score: 0.517532581775859\n",
            "######################################################\n",
            "- Trial time: 36.32032230300047\n",
            "- Trial precision score: 0.45081123688993013\n",
            "######################################################\n",
            "- Trial time: 36.27059108100002\n",
            "- Trial precision score: 0.41484591913820673\n",
            "######################################################\n",
            "- Trial time: 36.55967020800017\n",
            "- Trial precision score: 0.39702394372548133\n",
            "######################################################\n",
            "- Trial time: 36.11247292400003\n",
            "- Trial precision score: 0.4720496894409938\n",
            "######################################################\n",
            "- Trial time: 36.377487535\n",
            "- Trial precision score: 0.43819978275401067\n",
            "######################################################\n",
            "- Trial time: 36.246579339000164\n",
            "- Trial precision score: 0.4743930197268589\n",
            "######################################################\n",
            "- Trial time: 36.890683709999394\n",
            "- Trial precision score: 0.4155867547659901\n",
            "######################################################\n",
            "- Trial time: 36.587552431000404\n",
            "- Trial precision score: 0.4245680966755489\n",
            "######################################################\n",
            "- Trial time: 36.683527439999125\n",
            "- Trial precision score: 0.4219650370715875\n",
            "######################################################\n",
            "- Trial time: 36.260559835000095\n",
            "- Trial precision score: 0.4743930197268589\n",
            "######################################################\n",
            "- Trial time: 36.282544933999816\n",
            "- Trial precision score: 0.41484591913820673\n",
            "######################################################\n",
            "- Trial time: 36.2550005789999\n",
            "- Trial precision score: 0.4743930197268589\n",
            "######################################################\n",
            "- Trial time: 36.48104462000083\n",
            "- Trial precision score: 0.39943561507845315\n",
            "######################################################\n",
            "- Trial time: 36.535178486000405\n",
            "- Trial precision score: 0.39702394372548133\n",
            "######################################################\n",
            "- Trial time: 36.20009942099932\n",
            "- Trial precision score: 0.4347036591288191\n",
            "######################################################\n",
            "- Trial time: 36.47345333800058\n",
            "- Trial precision score: 0.397601082327731\n",
            "######################################################\n",
            "- Trial time: 36.383373057000426\n",
            "- Trial precision score: 0.43819978275401067\n",
            "######################################################\n",
            "- Trial time: 37.03997060399979\n",
            "- Trial precision score: 0.38925924965197617\n",
            "######################################################\n",
            "- Trial time: 36.2226041949998\n",
            "- Trial precision score: 0.4347036591288191\n",
            "######################################################\n",
            "- Trial time: 36.32733330300016\n",
            "- Trial precision score: 0.4743930197268589\n",
            "######################################################\n",
            "- Trial time: 36.20209990999956\n",
            "- Trial precision score: 0.4347036591288191\n",
            "######################################################\n",
            "- Trial time: 36.4754733030004\n",
            "- Trial precision score: 0.397601082327731\n",
            "######################################################\n",
            "- Trial time: 36.3880024959999\n",
            "- Trial precision score: 0.39943561507845315\n",
            "######################################################\n",
            "- Trial time: 36.27463070199974\n",
            "- Trial precision score: 0.41484591913820673\n",
            "######################################################\n",
            "- Trial time: 37.6913982140004\n",
            "- Trial precision score: 0.40006965342953843\n",
            "######################################################\n",
            "- Trial time: 36.80625900300038\n",
            "- Trial precision score: 0.41903847077469863\n",
            "######################################################\n",
            "- Trial time: 36.204605225000705\n",
            "- Trial precision score: 0.4347036591288191\n",
            "######################################################\n",
            "- Trial time: 36.33719907899922\n",
            "- Trial precision score: 0.40416494380333046\n",
            "######################################################\n",
            "- Trial time: 36.160305862000314\n",
            "- Trial precision score: 0.517532581775859\n",
            "######################################################\n",
            "- Trial time: 36.14276037399941\n",
            "- Trial precision score: 0.4720496894409938\n",
            "######################################################\n",
            "- Trial time: 36.256486221999694\n",
            "- Trial precision score: 0.4743930197268589\n",
            "######################################################\n",
            "- Trial time: 36.3221961600002\n",
            "- Trial precision score: 0.45081123688993013\n",
            "######################################################\n",
            "- Trial time: 36.16284944100062\n",
            "- Trial precision score: 0.4720496894409938\n",
            "######################################################\n",
            "- Trial time: 38.104430465000405\n",
            "- Trial precision score: 0.3892426488862988\n",
            "######################################################\n",
            "- Trial time: 36.44548263800061\n",
            "- Trial precision score: 0.43196542079837275\n",
            "######################################################\n",
            "- Trial time: 36.36328548799975\n",
            "- Trial precision score: 0.40416494380333046\n",
            "######################################################\n",
            "- Trial time: 36.18664582200017\n",
            "- Trial precision score: 0.4347036591288191\n",
            "######################################################\n",
            "- Trial time: 36.29280878099962\n",
            "- Trial precision score: 0.41484591913820673\n",
            "######################################################\n",
            "- Trial time: 36.60232192900003\n",
            "- Trial precision score: 0.42806779254761357\n",
            "######################################################\n",
            "- Trial time: 36.18594710300022\n",
            "- Trial precision score: 0.517532581775859\n",
            "######################################################\n",
            "- Trial time: 36.16894301799948\n",
            "- Trial precision score: 0.517532581775859\n",
            "######################################################\n",
            "- Trial time: 36.15209797100033\n",
            "- Trial precision score: 0.4720496894409938\n",
            "######################################################\n",
            "- Trial time: 36.18795994799984\n",
            "- Trial precision score: 0.517532581775859\n",
            "######################################################\n",
            "- Trial time: 36.181316846999835\n",
            "- Trial precision score: 0.517532581775859\n",
            "######################################################\n",
            "- Trial time: 36.154468817000634\n",
            "- Trial precision score: 0.517532581775859\n",
            "######################################################\n",
            "- Trial time: 36.171191254000405\n",
            "- Trial precision score: 0.517532581775859\n",
            "######################################################\n",
            "- Trial time: 36.17311794499983\n",
            "- Trial precision score: 0.517532581775859\n",
            "######################################################\n",
            "- Trial time: 36.37147659599941\n",
            "- Trial precision score: 0.40416494380333046\n",
            "######################################################\n",
            "- Trial time: 36.315150099000675\n",
            "- Trial precision score: 0.45081123688993013\n",
            "######################################################\n",
            "- Trial time: 36.186999582999306\n",
            "- Trial precision score: 0.517532581775859\n",
            "######################################################\n",
            "- Trial time: 36.17476389900003\n",
            "- Trial precision score: 0.517532581775859\n",
            "######################################################\n",
            "- Trial time: 36.151960954999595\n",
            "- Trial precision score: 0.517532581775859\n",
            "######################################################\n",
            "- Trial time: 36.28754231400035\n",
            "- Trial precision score: 0.41484591913820673\n",
            "######################################################\n",
            "- Trial time: 36.389925339\n",
            "- Trial precision score: 0.43819978275401067\n",
            "######################################################\n",
            "- Trial time: 36.12488144800045\n",
            "- Trial precision score: 0.4720496894409938\n",
            "######################################################\n",
            "- Trial time: 36.144218104000174\n",
            "- Trial precision score: 0.517532581775859\n",
            "######################################################\n",
            "- Trial time: 36.39032305300043\n",
            "- Trial precision score: 0.39943561507845315\n",
            "######################################################\n",
            "- Trial time: 36.304477951999615\n",
            "- Trial precision score: 0.45081123688993013\n",
            "######################################################\n",
            "- Trial time: 36.23598290300015\n",
            "- Trial precision score: 0.4743930197268589\n",
            "######################################################\n",
            "- Trial time: 36.16456727700006\n",
            "- Trial precision score: 0.517532581775859\n",
            "######################################################\n",
            "- Trial time: 36.21039063799981\n",
            "- Trial precision score: 0.4347036591288191\n",
            "######################################################\n",
            "- Trial time: 36.14935294799943\n",
            "- Trial precision score: 0.4720496894409938\n",
            "######################################################\n",
            "- Trial time: 36.93480021799951\n",
            "- Trial precision score: 0.41065504455864177\n",
            "######################################################\n",
            "- Trial time: 36.2182276249996\n",
            "- Trial precision score: 0.4347036591288191\n",
            "######################################################\n",
            "- Trial time: 36.29153898500044\n",
            "- Trial precision score: 0.41484591913820673\n",
            "######################################################\n",
            "- Trial time: 36.187446799999634\n",
            "- Trial precision score: 0.517532581775859\n",
            "######################################################\n",
            "- Trial time: 38.03623746100038\n",
            "- Trial precision score: 0.38073808132253484\n",
            "######################################################\n",
            "- Trial time: 36.31092336399888\n",
            "- Trial precision score: 0.45081123688993013\n",
            "######################################################\n",
            "- Trial time: 36.267412182000044\n",
            "- Trial precision score: 0.4743930197268589\n",
            "######################################################\n",
            "- Trial time: 36.1872435510013\n",
            "- Trial precision score: 0.517532581775859\n",
            "######################################################\n",
            "- Trial time: 36.15491261399984\n",
            "- Trial precision score: 0.517532581775859\n",
            "######################################################\n",
            "- Trial time: 36.17948309900021\n",
            "- Trial precision score: 0.4347036591288191\n",
            "######################################################\n",
            "- Trial time: 36.27171968500079\n",
            "- Trial precision score: 0.41484591913820673\n",
            "######################################################\n",
            "- Trial time: 36.191713014000925\n",
            "- Trial precision score: 0.4720496894409938\n",
            "######################################################\n",
            "- Trial time: 37.663553911001145\n",
            "- Trial precision score: 0.402096707485929\n",
            "######################################################\n",
            "- Trial time: 36.227447029999894\n",
            "- Trial precision score: 0.4743930197268589\n",
            "######################################################\n",
            "- Trial time: 36.402644973999486\n",
            "- Trial precision score: 0.43819978275401067\n",
            "######################################################\n",
            "- Trial time: 36.38485127199965\n",
            "- Trial precision score: 0.40416494380333046\n",
            "######################################################\n",
            "..dask_optuna             :  3665.1907\n",
            "Start Time           2022-06-15 20:01:56.873616\n",
            "End Time             2022-06-15 21:03:02.064460\n",
            "1:01:05\n",
            "\n",
            "\n",
            "Number of finished trials: 100\n",
            "Best trial: {'n_neighbors': 4, 'metric': 'euclidean'}\n",
            "Highest Precision score 0.517532581775859\n"
          ]
        }
      ],
      "source": [
        "with timed('dask_optuna'):\n",
        "    # Begin HPO trials \n",
        "    # Start timer for experiment\n",
        "    start_time = datetime.now()\n",
        "    print('%-20s %s' % ('Start Time', start_time))\n",
        "    if os.path.isfile('KNN_Optuna_SMOTE_100_GPU_Precision.pkl'): \n",
        "      study = joblib.load('KNN_Optuna_SMOTE_100_GPU_Precision.pkl')\n",
        "    else: \n",
        "      study = optuna.create_study(sampler=optuna.samplers.TPESampler(), \n",
        "                                  study_name=study_name,\n",
        "                                  direction='maximize')\n",
        "      \n",
        "    # Optimize in parallel on Dask cluster\n",
        "    with parallel_backend('dask'):\n",
        "        study.optimize(lambda trial: objective(trial, X_train, y_train), \n",
        "                       n_trials=100,\n",
        "                       n_jobs=n_workers)\n",
        "\n",
        "# End timer for experiment\n",
        "end_time = datetime.now()\n",
        "print('%-20s %s' % ('Start Time', start_time))\n",
        "print('%-20s %s' % ('End Time', end_time))\n",
        "print(str(timedelta(seconds=(end_time-start_time).seconds)))\n",
        "print('\\n')\n",
        "print('Number of finished trials:', len(study.trials))\n",
        "print('Best trial:', study.best_trial.params)\n",
        "print('Highest Precision score', study.best_value)"
      ]
    },
    {
      "cell_type": "code",
      "source": [
        "%cd /content/drive/MyDrive/LoanStatus/Python/Models/ML/KNN/Optuna/trialOptions/"
      ],
      "metadata": {
        "colab": {
          "base_uri": "https://localhost:8080/"
        },
        "outputId": "d5ebbb01-249d-4e7d-ddf1-01e73e3bc864",
        "id": "4YsAhEX4b8CQ"
      },
      "execution_count": null,
      "outputs": [
        {
          "output_type": "stream",
          "name": "stdout",
          "text": [
            "/content/drive/MyDrive/LoanStatus/Python/Models/ML/KNN/Optuna/trialOptions\n"
          ]
        }
      ]
    },
    {
      "cell_type": "code",
      "execution_count": null,
      "metadata": {
        "id": "mlbxd61KWw_t",
        "colab": {
          "base_uri": "https://localhost:8080/"
        },
        "outputId": "99dd7143-3893-465c-c83e-74ddafb52b9a"
      },
      "outputs": [
        {
          "output_type": "stream",
          "name": "stdout",
          "text": [
            "    iteration  precision             datetime_start  \\\n",
            "50         50   0.517533 2022-06-15 20:32:34.661307   \n",
            "67         67   0.517533 2022-06-15 20:42:55.831794   \n",
            "81         81   0.517533 2022-06-15 20:51:25.973354   \n",
            "87         87   0.517533 2022-06-15 20:55:05.171586   \n",
            "61         61   0.517533 2022-06-15 20:39:17.744178   \n",
            "..        ...        ...                        ...   \n",
            "3           3   0.387865 2022-06-15 20:03:46.934622   \n",
            "20         20   0.383127 2022-06-15 20:14:14.492004   \n",
            "7           7   0.382073 2022-06-15 20:06:14.767635   \n",
            "88         88   0.380738 2022-06-15 20:55:41.506605   \n",
            "14         14   0.378919 2022-06-15 20:10:32.060064   \n",
            "\n",
            "            datetime_complete               duration     metric  n_neighbors  \\\n",
            "50 2022-06-15 20:33:10.961472 0 days 00:00:36.300165  euclidean            4   \n",
            "67 2022-06-15 20:43:32.192624 0 days 00:00:36.360830  chebyshev            4   \n",
            "81 2022-06-15 20:52:02.341030 0 days 00:00:36.367676  chebyshev            4   \n",
            "87 2022-06-15 20:55:41.506434 0 days 00:00:36.334848  chebyshev            4   \n",
            "61 2022-06-15 20:39:54.077668 0 days 00:00:36.333490  euclidean            4   \n",
            "..                        ...                    ...        ...          ...   \n",
            "3  2022-06-15 20:04:24.282715 0 days 00:00:37.348093  euclidean           31   \n",
            "20 2022-06-15 20:14:52.424147 0 days 00:00:37.932143  chebyshev           39   \n",
            "7  2022-06-15 20:06:52.846093 0 days 00:00:38.078458  manhattan           41   \n",
            "88 2022-06-15 20:56:19.765493 0 days 00:00:38.258888  chebyshev           43   \n",
            "14 2022-06-15 20:11:10.214900 0 days 00:00:38.154836  euclidean           47   \n",
            "\n",
            "       state  \n",
            "50  COMPLETE  \n",
            "67  COMPLETE  \n",
            "81  COMPLETE  \n",
            "87  COMPLETE  \n",
            "61  COMPLETE  \n",
            "..       ...  \n",
            "3   COMPLETE  \n",
            "20  COMPLETE  \n",
            "7   COMPLETE  \n",
            "88  COMPLETE  \n",
            "14  COMPLETE  \n",
            "\n",
            "[100 rows x 8 columns]\n"
          ]
        }
      ],
      "source": [
        "# Output from HPO trials\n",
        "trials_df = study.trials_dataframe()\n",
        "trials_df.rename(columns={'number': 'iteration'}, inplace=True)\n",
        "trials_df.rename(columns={'value': 'precision'}, inplace=True)\n",
        "trials_df.rename(columns={'params_metric': 'metric'}, inplace=True)\n",
        "trials_df.rename(columns={'params_n_neighbors': 'n_neighbors'}, inplace=True)\n",
        "\n",
        "# Write processed data to csv\n",
        "trials_df = trials_df.sort_values('precision', ascending=False)\n",
        "trials_df.to_csv('KNN_Optuna_SMOTE_100_GPU_Precision.csv', index=False)\n",
        "print(trials_df)"
      ]
    },
    {
      "cell_type": "code",
      "source": [
        "%cd /content/drive/MyDrive/LoanStatus/Python/Models/ML/KNN/Optuna/Model_Explanations/"
      ],
      "metadata": {
        "colab": {
          "base_uri": "https://localhost:8080/"
        },
        "outputId": "669962b4-0ef7-4ee8-822e-724a890a3555",
        "id": "KLEiSr_scFzO"
      },
      "execution_count": null,
      "outputs": [
        {
          "output_type": "stream",
          "name": "stdout",
          "text": [
            "/content/drive/MyDrive/LoanStatus/Python/Models/ML/KNN/Optuna/Model_Explanations\n"
          ]
        }
      ]
    },
    {
      "cell_type": "code",
      "execution_count": null,
      "metadata": {
        "id": "enNqWGNyWw_w",
        "colab": {
          "base_uri": "https://localhost:8080/",
          "height": 542
        },
        "outputId": "91bca993-2209-4a02-d9a5-0e7d7cca6be6"
      },
      "outputs": [
        {
          "output_type": "display_data",
          "data": {
            "text/html": [
              "<html>\n",
              "<head><meta charset=\"utf-8\" /></head>\n",
              "<body>\n",
              "    <div>            <script src=\"https://cdnjs.cloudflare.com/ajax/libs/mathjax/2.7.5/MathJax.js?config=TeX-AMS-MML_SVG\"></script><script type=\"text/javascript\">if (window.MathJax) {MathJax.Hub.Config({SVG: {font: \"STIX-Web\"}});}</script>                <script type=\"text/javascript\">window.PlotlyConfig = {MathJaxConfig: 'local'};</script>\n",
              "        <script src=\"https://cdn.plot.ly/plotly-2.8.3.min.js\"></script>                <div id=\"001d2721-f0b6-4db7-b235-fa7db2f406c3\" class=\"plotly-graph-div\" style=\"height:525px; width:100%;\"></div>            <script type=\"text/javascript\">                                    window.PLOTLYENV=window.PLOTLYENV || {};                                    if (document.getElementById(\"001d2721-f0b6-4db7-b235-fa7db2f406c3\")) {                    Plotly.newPlot(                        \"001d2721-f0b6-4db7-b235-fa7db2f406c3\",                        [{\"mode\":\"markers\",\"name\":\"Objective Value\",\"x\":[0,1,2,3,4,5,6,7,8,9,10,11,12,13,14,15,16,17,18,19,20,21,22,23,24,25,26,27,28,29,30,31,32,33,34,35,36,37,38,39,40,41,42,43,44,45,46,47,48,49,50,51,52,53,54,55,56,57,58,59,60,61,62,63,64,65,66,67,68,69,70,71,72,73,74,75,76,77,78,79,80,81,82,83,84,85,86,87,88,89,90,91,92,93,94,95,96,97,98,99],\"y\":[0.39604714740285935,0.41903847077469863,0.4347036591288191,0.38786451978760333,0.43196542079837275,0.40422102909087615,0.43196542079837275,0.3820729373048121,0.4133042734882148,0.397601082327731,0.4743930197268589,0.4720496894409938,0.4720496894409938,0.4720496894409938,0.3789188427656277,0.45081123688993013,0.40416494380333046,0.4219650370715875,0.4133042734882148,0.38786451978760333,0.3831266346072724,0.517532581775859,0.45081123688993013,0.41484591913820673,0.39702394372548133,0.4720496894409938,0.43819978275401067,0.4743930197268589,0.4155867547659901,0.4245680966755489,0.4219650370715875,0.4743930197268589,0.41484591913820673,0.4743930197268589,0.39943561507845315,0.39702394372548133,0.4347036591288191,0.397601082327731,0.43819978275401067,0.38925924965197617,0.4347036591288191,0.4743930197268589,0.4347036591288191,0.397601082327731,0.39943561507845315,0.41484591913820673,0.40006965342953843,0.41903847077469863,0.4347036591288191,0.40416494380333046,0.517532581775859,0.4720496894409938,0.4743930197268589,0.45081123688993013,0.4720496894409938,0.3892426488862988,0.43196542079837275,0.40416494380333046,0.4347036591288191,0.41484591913820673,0.42806779254761357,0.517532581775859,0.517532581775859,0.4720496894409938,0.517532581775859,0.517532581775859,0.517532581775859,0.517532581775859,0.517532581775859,0.40416494380333046,0.45081123688993013,0.517532581775859,0.517532581775859,0.517532581775859,0.41484591913820673,0.43819978275401067,0.4720496894409938,0.517532581775859,0.39943561507845315,0.45081123688993013,0.4743930197268589,0.517532581775859,0.4347036591288191,0.4720496894409938,0.41065504455864177,0.4347036591288191,0.41484591913820673,0.517532581775859,0.38073808132253484,0.45081123688993013,0.4743930197268589,0.517532581775859,0.517532581775859,0.4347036591288191,0.41484591913820673,0.4720496894409938,0.402096707485929,0.4743930197268589,0.43819978275401067,0.40416494380333046],\"type\":\"scatter\"},{\"name\":\"Best Value\",\"x\":[0,1,2,3,4,5,6,7,8,9,10,11,12,13,14,15,16,17,18,19,20,21,22,23,24,25,26,27,28,29,30,31,32,33,34,35,36,37,38,39,40,41,42,43,44,45,46,47,48,49,50,51,52,53,54,55,56,57,58,59,60,61,62,63,64,65,66,67,68,69,70,71,72,73,74,75,76,77,78,79,80,81,82,83,84,85,86,87,88,89,90,91,92,93,94,95,96,97,98,99],\"y\":[0.39604714740285935,0.41903847077469863,0.4347036591288191,0.4347036591288191,0.4347036591288191,0.4347036591288191,0.4347036591288191,0.4347036591288191,0.4347036591288191,0.4347036591288191,0.4743930197268589,0.4743930197268589,0.4743930197268589,0.4743930197268589,0.4743930197268589,0.4743930197268589,0.4743930197268589,0.4743930197268589,0.4743930197268589,0.4743930197268589,0.4743930197268589,0.517532581775859,0.517532581775859,0.517532581775859,0.517532581775859,0.517532581775859,0.517532581775859,0.517532581775859,0.517532581775859,0.517532581775859,0.517532581775859,0.517532581775859,0.517532581775859,0.517532581775859,0.517532581775859,0.517532581775859,0.517532581775859,0.517532581775859,0.517532581775859,0.517532581775859,0.517532581775859,0.517532581775859,0.517532581775859,0.517532581775859,0.517532581775859,0.517532581775859,0.517532581775859,0.517532581775859,0.517532581775859,0.517532581775859,0.517532581775859,0.517532581775859,0.517532581775859,0.517532581775859,0.517532581775859,0.517532581775859,0.517532581775859,0.517532581775859,0.517532581775859,0.517532581775859,0.517532581775859,0.517532581775859,0.517532581775859,0.517532581775859,0.517532581775859,0.517532581775859,0.517532581775859,0.517532581775859,0.517532581775859,0.517532581775859,0.517532581775859,0.517532581775859,0.517532581775859,0.517532581775859,0.517532581775859,0.517532581775859,0.517532581775859,0.517532581775859,0.517532581775859,0.517532581775859,0.517532581775859,0.517532581775859,0.517532581775859,0.517532581775859,0.517532581775859,0.517532581775859,0.517532581775859,0.517532581775859,0.517532581775859,0.517532581775859,0.517532581775859,0.517532581775859,0.517532581775859,0.517532581775859,0.517532581775859,0.517532581775859,0.517532581775859,0.517532581775859,0.517532581775859,0.517532581775859],\"type\":\"scatter\"}],                        {\"title\":{\"text\":\"Optimization History Plot\"},\"xaxis\":{\"title\":{\"text\":\"#Trials\"}},\"yaxis\":{\"title\":{\"text\":\"Objective Value\"}},\"template\":{\"data\":{\"bar\":[{\"error_x\":{\"color\":\"#2a3f5f\"},\"error_y\":{\"color\":\"#2a3f5f\"},\"marker\":{\"line\":{\"color\":\"#E5ECF6\",\"width\":0.5},\"pattern\":{\"fillmode\":\"overlay\",\"size\":10,\"solidity\":0.2}},\"type\":\"bar\"}],\"barpolar\":[{\"marker\":{\"line\":{\"color\":\"#E5ECF6\",\"width\":0.5},\"pattern\":{\"fillmode\":\"overlay\",\"size\":10,\"solidity\":0.2}},\"type\":\"barpolar\"}],\"carpet\":[{\"aaxis\":{\"endlinecolor\":\"#2a3f5f\",\"gridcolor\":\"white\",\"linecolor\":\"white\",\"minorgridcolor\":\"white\",\"startlinecolor\":\"#2a3f5f\"},\"baxis\":{\"endlinecolor\":\"#2a3f5f\",\"gridcolor\":\"white\",\"linecolor\":\"white\",\"minorgridcolor\":\"white\",\"startlinecolor\":\"#2a3f5f\"},\"type\":\"carpet\"}],\"choropleth\":[{\"colorbar\":{\"outlinewidth\":0,\"ticks\":\"\"},\"type\":\"choropleth\"}],\"contour\":[{\"colorbar\":{\"outlinewidth\":0,\"ticks\":\"\"},\"colorscale\":[[0.0,\"#0d0887\"],[0.1111111111111111,\"#46039f\"],[0.2222222222222222,\"#7201a8\"],[0.3333333333333333,\"#9c179e\"],[0.4444444444444444,\"#bd3786\"],[0.5555555555555556,\"#d8576b\"],[0.6666666666666666,\"#ed7953\"],[0.7777777777777778,\"#fb9f3a\"],[0.8888888888888888,\"#fdca26\"],[1.0,\"#f0f921\"]],\"type\":\"contour\"}],\"contourcarpet\":[{\"colorbar\":{\"outlinewidth\":0,\"ticks\":\"\"},\"type\":\"contourcarpet\"}],\"heatmap\":[{\"colorbar\":{\"outlinewidth\":0,\"ticks\":\"\"},\"colorscale\":[[0.0,\"#0d0887\"],[0.1111111111111111,\"#46039f\"],[0.2222222222222222,\"#7201a8\"],[0.3333333333333333,\"#9c179e\"],[0.4444444444444444,\"#bd3786\"],[0.5555555555555556,\"#d8576b\"],[0.6666666666666666,\"#ed7953\"],[0.7777777777777778,\"#fb9f3a\"],[0.8888888888888888,\"#fdca26\"],[1.0,\"#f0f921\"]],\"type\":\"heatmap\"}],\"heatmapgl\":[{\"colorbar\":{\"outlinewidth\":0,\"ticks\":\"\"},\"colorscale\":[[0.0,\"#0d0887\"],[0.1111111111111111,\"#46039f\"],[0.2222222222222222,\"#7201a8\"],[0.3333333333333333,\"#9c179e\"],[0.4444444444444444,\"#bd3786\"],[0.5555555555555556,\"#d8576b\"],[0.6666666666666666,\"#ed7953\"],[0.7777777777777778,\"#fb9f3a\"],[0.8888888888888888,\"#fdca26\"],[1.0,\"#f0f921\"]],\"type\":\"heatmapgl\"}],\"histogram\":[{\"marker\":{\"pattern\":{\"fillmode\":\"overlay\",\"size\":10,\"solidity\":0.2}},\"type\":\"histogram\"}],\"histogram2d\":[{\"colorbar\":{\"outlinewidth\":0,\"ticks\":\"\"},\"colorscale\":[[0.0,\"#0d0887\"],[0.1111111111111111,\"#46039f\"],[0.2222222222222222,\"#7201a8\"],[0.3333333333333333,\"#9c179e\"],[0.4444444444444444,\"#bd3786\"],[0.5555555555555556,\"#d8576b\"],[0.6666666666666666,\"#ed7953\"],[0.7777777777777778,\"#fb9f3a\"],[0.8888888888888888,\"#fdca26\"],[1.0,\"#f0f921\"]],\"type\":\"histogram2d\"}],\"histogram2dcontour\":[{\"colorbar\":{\"outlinewidth\":0,\"ticks\":\"\"},\"colorscale\":[[0.0,\"#0d0887\"],[0.1111111111111111,\"#46039f\"],[0.2222222222222222,\"#7201a8\"],[0.3333333333333333,\"#9c179e\"],[0.4444444444444444,\"#bd3786\"],[0.5555555555555556,\"#d8576b\"],[0.6666666666666666,\"#ed7953\"],[0.7777777777777778,\"#fb9f3a\"],[0.8888888888888888,\"#fdca26\"],[1.0,\"#f0f921\"]],\"type\":\"histogram2dcontour\"}],\"mesh3d\":[{\"colorbar\":{\"outlinewidth\":0,\"ticks\":\"\"},\"type\":\"mesh3d\"}],\"parcoords\":[{\"line\":{\"colorbar\":{\"outlinewidth\":0,\"ticks\":\"\"}},\"type\":\"parcoords\"}],\"pie\":[{\"automargin\":true,\"type\":\"pie\"}],\"scatter\":[{\"marker\":{\"colorbar\":{\"outlinewidth\":0,\"ticks\":\"\"}},\"type\":\"scatter\"}],\"scatter3d\":[{\"line\":{\"colorbar\":{\"outlinewidth\":0,\"ticks\":\"\"}},\"marker\":{\"colorbar\":{\"outlinewidth\":0,\"ticks\":\"\"}},\"type\":\"scatter3d\"}],\"scattercarpet\":[{\"marker\":{\"colorbar\":{\"outlinewidth\":0,\"ticks\":\"\"}},\"type\":\"scattercarpet\"}],\"scattergeo\":[{\"marker\":{\"colorbar\":{\"outlinewidth\":0,\"ticks\":\"\"}},\"type\":\"scattergeo\"}],\"scattergl\":[{\"marker\":{\"colorbar\":{\"outlinewidth\":0,\"ticks\":\"\"}},\"type\":\"scattergl\"}],\"scattermapbox\":[{\"marker\":{\"colorbar\":{\"outlinewidth\":0,\"ticks\":\"\"}},\"type\":\"scattermapbox\"}],\"scatterpolar\":[{\"marker\":{\"colorbar\":{\"outlinewidth\":0,\"ticks\":\"\"}},\"type\":\"scatterpolar\"}],\"scatterpolargl\":[{\"marker\":{\"colorbar\":{\"outlinewidth\":0,\"ticks\":\"\"}},\"type\":\"scatterpolargl\"}],\"scatterternary\":[{\"marker\":{\"colorbar\":{\"outlinewidth\":0,\"ticks\":\"\"}},\"type\":\"scatterternary\"}],\"surface\":[{\"colorbar\":{\"outlinewidth\":0,\"ticks\":\"\"},\"colorscale\":[[0.0,\"#0d0887\"],[0.1111111111111111,\"#46039f\"],[0.2222222222222222,\"#7201a8\"],[0.3333333333333333,\"#9c179e\"],[0.4444444444444444,\"#bd3786\"],[0.5555555555555556,\"#d8576b\"],[0.6666666666666666,\"#ed7953\"],[0.7777777777777778,\"#fb9f3a\"],[0.8888888888888888,\"#fdca26\"],[1.0,\"#f0f921\"]],\"type\":\"surface\"}],\"table\":[{\"cells\":{\"fill\":{\"color\":\"#EBF0F8\"},\"line\":{\"color\":\"white\"}},\"header\":{\"fill\":{\"color\":\"#C8D4E3\"},\"line\":{\"color\":\"white\"}},\"type\":\"table\"}]},\"layout\":{\"annotationdefaults\":{\"arrowcolor\":\"#2a3f5f\",\"arrowhead\":0,\"arrowwidth\":1},\"autotypenumbers\":\"strict\",\"coloraxis\":{\"colorbar\":{\"outlinewidth\":0,\"ticks\":\"\"}},\"colorscale\":{\"diverging\":[[0,\"#8e0152\"],[0.1,\"#c51b7d\"],[0.2,\"#de77ae\"],[0.3,\"#f1b6da\"],[0.4,\"#fde0ef\"],[0.5,\"#f7f7f7\"],[0.6,\"#e6f5d0\"],[0.7,\"#b8e186\"],[0.8,\"#7fbc41\"],[0.9,\"#4d9221\"],[1,\"#276419\"]],\"sequential\":[[0.0,\"#0d0887\"],[0.1111111111111111,\"#46039f\"],[0.2222222222222222,\"#7201a8\"],[0.3333333333333333,\"#9c179e\"],[0.4444444444444444,\"#bd3786\"],[0.5555555555555556,\"#d8576b\"],[0.6666666666666666,\"#ed7953\"],[0.7777777777777778,\"#fb9f3a\"],[0.8888888888888888,\"#fdca26\"],[1.0,\"#f0f921\"]],\"sequentialminus\":[[0.0,\"#0d0887\"],[0.1111111111111111,\"#46039f\"],[0.2222222222222222,\"#7201a8\"],[0.3333333333333333,\"#9c179e\"],[0.4444444444444444,\"#bd3786\"],[0.5555555555555556,\"#d8576b\"],[0.6666666666666666,\"#ed7953\"],[0.7777777777777778,\"#fb9f3a\"],[0.8888888888888888,\"#fdca26\"],[1.0,\"#f0f921\"]]},\"colorway\":[\"#636efa\",\"#EF553B\",\"#00cc96\",\"#ab63fa\",\"#FFA15A\",\"#19d3f3\",\"#FF6692\",\"#B6E880\",\"#FF97FF\",\"#FECB52\"],\"font\":{\"color\":\"#2a3f5f\"},\"geo\":{\"bgcolor\":\"white\",\"lakecolor\":\"white\",\"landcolor\":\"#E5ECF6\",\"showlakes\":true,\"showland\":true,\"subunitcolor\":\"white\"},\"hoverlabel\":{\"align\":\"left\"},\"hovermode\":\"closest\",\"mapbox\":{\"style\":\"light\"},\"paper_bgcolor\":\"white\",\"plot_bgcolor\":\"#E5ECF6\",\"polar\":{\"angularaxis\":{\"gridcolor\":\"white\",\"linecolor\":\"white\",\"ticks\":\"\"},\"bgcolor\":\"#E5ECF6\",\"radialaxis\":{\"gridcolor\":\"white\",\"linecolor\":\"white\",\"ticks\":\"\"}},\"scene\":{\"xaxis\":{\"backgroundcolor\":\"#E5ECF6\",\"gridcolor\":\"white\",\"gridwidth\":2,\"linecolor\":\"white\",\"showbackground\":true,\"ticks\":\"\",\"zerolinecolor\":\"white\"},\"yaxis\":{\"backgroundcolor\":\"#E5ECF6\",\"gridcolor\":\"white\",\"gridwidth\":2,\"linecolor\":\"white\",\"showbackground\":true,\"ticks\":\"\",\"zerolinecolor\":\"white\"},\"zaxis\":{\"backgroundcolor\":\"#E5ECF6\",\"gridcolor\":\"white\",\"gridwidth\":2,\"linecolor\":\"white\",\"showbackground\":true,\"ticks\":\"\",\"zerolinecolor\":\"white\"}},\"shapedefaults\":{\"line\":{\"color\":\"#2a3f5f\"}},\"ternary\":{\"aaxis\":{\"gridcolor\":\"white\",\"linecolor\":\"white\",\"ticks\":\"\"},\"baxis\":{\"gridcolor\":\"white\",\"linecolor\":\"white\",\"ticks\":\"\"},\"bgcolor\":\"#E5ECF6\",\"caxis\":{\"gridcolor\":\"white\",\"linecolor\":\"white\",\"ticks\":\"\"}},\"title\":{\"x\":0.05},\"xaxis\":{\"automargin\":true,\"gridcolor\":\"white\",\"linecolor\":\"white\",\"ticks\":\"\",\"title\":{\"standoff\":15},\"zerolinecolor\":\"white\",\"zerolinewidth\":2},\"yaxis\":{\"automargin\":true,\"gridcolor\":\"white\",\"linecolor\":\"white\",\"ticks\":\"\",\"title\":{\"standoff\":15},\"zerolinecolor\":\"white\",\"zerolinewidth\":2}}}},                        {\"responsive\": true}                    ).then(function(){\n",
              "                            \n",
              "var gd = document.getElementById('001d2721-f0b6-4db7-b235-fa7db2f406c3');\n",
              "var x = new MutationObserver(function (mutations, observer) {{\n",
              "        var display = window.getComputedStyle(gd).display;\n",
              "        if (!display || display === 'none') {{\n",
              "            console.log([gd, 'removed!']);\n",
              "            Plotly.purge(gd);\n",
              "            observer.disconnect();\n",
              "        }}\n",
              "}});\n",
              "\n",
              "// Listen for the removal of the full notebook cells\n",
              "var notebookContainer = gd.closest('#notebook-container');\n",
              "if (notebookContainer) {{\n",
              "    x.observe(notebookContainer, {childList: true});\n",
              "}}\n",
              "\n",
              "// Listen for the clearing of the current output cell\n",
              "var outputEl = gd.closest('.output');\n",
              "if (outputEl) {{\n",
              "    x.observe(outputEl, {childList: true});\n",
              "}}\n",
              "\n",
              "                        })                };                            </script>        </div>\n",
              "</body>\n",
              "</html>"
            ]
          },
          "metadata": {}
        }
      ],
      "source": [
        "# Plot_optimization_history: shows the scores from all trials as well as the best score so far at each point.\n",
        "fig = optuna.visualization.plot_optimization_history(study)\n",
        "py.plot(fig, filename='optimizationHistory_KNN_Optuna_SMOTE_100_GPU_Precision.html')\n",
        "fig.show()"
      ]
    },
    {
      "cell_type": "code",
      "execution_count": null,
      "metadata": {
        "id": "uQ3x6oCQWw_w",
        "colab": {
          "base_uri": "https://localhost:8080/",
          "height": 542
        },
        "outputId": "cd14db8b-0ab8-4d2c-8a91-fe2bf3cc55fb"
      },
      "outputs": [
        {
          "output_type": "display_data",
          "data": {
            "text/html": [
              "<html>\n",
              "<head><meta charset=\"utf-8\" /></head>\n",
              "<body>\n",
              "    <div>            <script src=\"https://cdnjs.cloudflare.com/ajax/libs/mathjax/2.7.5/MathJax.js?config=TeX-AMS-MML_SVG\"></script><script type=\"text/javascript\">if (window.MathJax) {MathJax.Hub.Config({SVG: {font: \"STIX-Web\"}});}</script>                <script type=\"text/javascript\">window.PlotlyConfig = {MathJaxConfig: 'local'};</script>\n",
              "        <script src=\"https://cdn.plot.ly/plotly-2.8.3.min.js\"></script>                <div id=\"9f85b39a-3c0a-4572-b3c1-b4bd632dce6c\" class=\"plotly-graph-div\" style=\"height:525px; width:100%;\"></div>            <script type=\"text/javascript\">                                    window.PLOTLYENV=window.PLOTLYENV || {};                                    if (document.getElementById(\"9f85b39a-3c0a-4572-b3c1-b4bd632dce6c\")) {                    Plotly.newPlot(                        \"9f85b39a-3c0a-4572-b3c1-b4bd632dce6c\",                        [{\"dimensions\":[{\"label\":\"Objective Value\",\"range\":[0.3789188427656277,0.517532581775859],\"values\":[0.39604714740285935,0.41903847077469863,0.4347036591288191,0.38786451978760333,0.43196542079837275,0.40422102909087615,0.43196542079837275,0.3820729373048121,0.4133042734882148,0.397601082327731,0.4743930197268589,0.4720496894409938,0.4720496894409938,0.4720496894409938,0.3789188427656277,0.45081123688993013,0.40416494380333046,0.4219650370715875,0.4133042734882148,0.38786451978760333,0.3831266346072724,0.517532581775859,0.45081123688993013,0.41484591913820673,0.39702394372548133,0.4720496894409938,0.43819978275401067,0.4743930197268589,0.4155867547659901,0.4245680966755489,0.4219650370715875,0.4743930197268589,0.41484591913820673,0.4743930197268589,0.39943561507845315,0.39702394372548133,0.4347036591288191,0.397601082327731,0.43819978275401067,0.38925924965197617,0.4347036591288191,0.4743930197268589,0.4347036591288191,0.397601082327731,0.39943561507845315,0.41484591913820673,0.40006965342953843,0.41903847077469863,0.4347036591288191,0.40416494380333046,0.517532581775859,0.4720496894409938,0.4743930197268589,0.45081123688993013,0.4720496894409938,0.3892426488862988,0.43196542079837275,0.40416494380333046,0.4347036591288191,0.41484591913820673,0.42806779254761357,0.517532581775859,0.517532581775859,0.4720496894409938,0.517532581775859,0.517532581775859,0.517532581775859,0.517532581775859,0.517532581775859,0.40416494380333046,0.45081123688993013,0.517532581775859,0.517532581775859,0.517532581775859,0.41484591913820673,0.43819978275401067,0.4720496894409938,0.517532581775859,0.39943561507845315,0.45081123688993013,0.4743930197268589,0.517532581775859,0.4347036591288191,0.4720496894409938,0.41065504455864177,0.4347036591288191,0.41484591913820673,0.517532581775859,0.38073808132253484,0.45081123688993013,0.4743930197268589,0.517532581775859,0.517532581775859,0.4347036591288191,0.41484591913820673,0.4720496894409938,0.402096707485929,0.4743930197268589,0.43819978275401067,0.40416494380333046]},{\"label\":\"metric\",\"range\":[0,3],\"ticktext\":[\"chebyshev\",\"manhattan\",\"euclidean\",\"minkowski\"],\"tickvals\":[0,1,2,3],\"values\":[0,1,2,2,1,1,3,1,0,1,2,2,2,2,2,3,2,2,2,3,0,2,2,2,2,2,2,2,3,0,0,2,2,2,2,2,2,2,1,2,3,2,2,2,1,2,2,0,2,1,2,2,2,2,2,2,2,3,2,2,2,2,2,2,2,0,0,0,0,0,0,0,0,0,0,0,0,0,0,0,0,0,0,3,0,0,0,0,0,1,0,0,0,0,0,0,0,1,0,2]},{\"label\":\"n_neighbors\",\"range\":[3,50],\"values\":[17,20,5,31,12,32,12,41,24,13,6,3,3,3,47,8,9,18,24,31,39,4,8,7,15,3,10,6,22,16,18,6,7,6,11,15,5,13,10,29,5,6,5,13,11,7,36,20,5,9,4,3,6,8,3,50,12,9,5,7,14,4,4,3,4,4,4,4,4,9,8,4,4,4,7,10,3,4,11,8,6,4,5,3,26,5,7,4,43,8,6,4,4,5,7,3,34,6,10,9]}],\"labelangle\":30,\"labelside\":\"bottom\",\"line\":{\"color\":[0.39604714740285935,0.41903847077469863,0.4347036591288191,0.38786451978760333,0.43196542079837275,0.40422102909087615,0.43196542079837275,0.3820729373048121,0.4133042734882148,0.397601082327731,0.4743930197268589,0.4720496894409938,0.4720496894409938,0.4720496894409938,0.3789188427656277,0.45081123688993013,0.40416494380333046,0.4219650370715875,0.4133042734882148,0.38786451978760333,0.3831266346072724,0.517532581775859,0.45081123688993013,0.41484591913820673,0.39702394372548133,0.4720496894409938,0.43819978275401067,0.4743930197268589,0.4155867547659901,0.4245680966755489,0.4219650370715875,0.4743930197268589,0.41484591913820673,0.4743930197268589,0.39943561507845315,0.39702394372548133,0.4347036591288191,0.397601082327731,0.43819978275401067,0.38925924965197617,0.4347036591288191,0.4743930197268589,0.4347036591288191,0.397601082327731,0.39943561507845315,0.41484591913820673,0.40006965342953843,0.41903847077469863,0.4347036591288191,0.40416494380333046,0.517532581775859,0.4720496894409938,0.4743930197268589,0.45081123688993013,0.4720496894409938,0.3892426488862988,0.43196542079837275,0.40416494380333046,0.4347036591288191,0.41484591913820673,0.42806779254761357,0.517532581775859,0.517532581775859,0.4720496894409938,0.517532581775859,0.517532581775859,0.517532581775859,0.517532581775859,0.517532581775859,0.40416494380333046,0.45081123688993013,0.517532581775859,0.517532581775859,0.517532581775859,0.41484591913820673,0.43819978275401067,0.4720496894409938,0.517532581775859,0.39943561507845315,0.45081123688993013,0.4743930197268589,0.517532581775859,0.4347036591288191,0.4720496894409938,0.41065504455864177,0.4347036591288191,0.41484591913820673,0.517532581775859,0.38073808132253484,0.45081123688993013,0.4743930197268589,0.517532581775859,0.517532581775859,0.4347036591288191,0.41484591913820673,0.4720496894409938,0.402096707485929,0.4743930197268589,0.43819978275401067,0.40416494380333046],\"colorbar\":{\"title\":{\"text\":\"Objective Value\"}},\"colorscale\":[[0.0,\"rgb(247,251,255)\"],[0.125,\"rgb(222,235,247)\"],[0.25,\"rgb(198,219,239)\"],[0.375,\"rgb(158,202,225)\"],[0.5,\"rgb(107,174,214)\"],[0.625,\"rgb(66,146,198)\"],[0.75,\"rgb(33,113,181)\"],[0.875,\"rgb(8,81,156)\"],[1.0,\"rgb(8,48,107)\"]],\"reversescale\":false,\"showscale\":true},\"type\":\"parcoords\"}],                        {\"title\":{\"text\":\"Parallel Coordinate Plot\"},\"template\":{\"data\":{\"bar\":[{\"error_x\":{\"color\":\"#2a3f5f\"},\"error_y\":{\"color\":\"#2a3f5f\"},\"marker\":{\"line\":{\"color\":\"#E5ECF6\",\"width\":0.5},\"pattern\":{\"fillmode\":\"overlay\",\"size\":10,\"solidity\":0.2}},\"type\":\"bar\"}],\"barpolar\":[{\"marker\":{\"line\":{\"color\":\"#E5ECF6\",\"width\":0.5},\"pattern\":{\"fillmode\":\"overlay\",\"size\":10,\"solidity\":0.2}},\"type\":\"barpolar\"}],\"carpet\":[{\"aaxis\":{\"endlinecolor\":\"#2a3f5f\",\"gridcolor\":\"white\",\"linecolor\":\"white\",\"minorgridcolor\":\"white\",\"startlinecolor\":\"#2a3f5f\"},\"baxis\":{\"endlinecolor\":\"#2a3f5f\",\"gridcolor\":\"white\",\"linecolor\":\"white\",\"minorgridcolor\":\"white\",\"startlinecolor\":\"#2a3f5f\"},\"type\":\"carpet\"}],\"choropleth\":[{\"colorbar\":{\"outlinewidth\":0,\"ticks\":\"\"},\"type\":\"choropleth\"}],\"contour\":[{\"colorbar\":{\"outlinewidth\":0,\"ticks\":\"\"},\"colorscale\":[[0.0,\"#0d0887\"],[0.1111111111111111,\"#46039f\"],[0.2222222222222222,\"#7201a8\"],[0.3333333333333333,\"#9c179e\"],[0.4444444444444444,\"#bd3786\"],[0.5555555555555556,\"#d8576b\"],[0.6666666666666666,\"#ed7953\"],[0.7777777777777778,\"#fb9f3a\"],[0.8888888888888888,\"#fdca26\"],[1.0,\"#f0f921\"]],\"type\":\"contour\"}],\"contourcarpet\":[{\"colorbar\":{\"outlinewidth\":0,\"ticks\":\"\"},\"type\":\"contourcarpet\"}],\"heatmap\":[{\"colorbar\":{\"outlinewidth\":0,\"ticks\":\"\"},\"colorscale\":[[0.0,\"#0d0887\"],[0.1111111111111111,\"#46039f\"],[0.2222222222222222,\"#7201a8\"],[0.3333333333333333,\"#9c179e\"],[0.4444444444444444,\"#bd3786\"],[0.5555555555555556,\"#d8576b\"],[0.6666666666666666,\"#ed7953\"],[0.7777777777777778,\"#fb9f3a\"],[0.8888888888888888,\"#fdca26\"],[1.0,\"#f0f921\"]],\"type\":\"heatmap\"}],\"heatmapgl\":[{\"colorbar\":{\"outlinewidth\":0,\"ticks\":\"\"},\"colorscale\":[[0.0,\"#0d0887\"],[0.1111111111111111,\"#46039f\"],[0.2222222222222222,\"#7201a8\"],[0.3333333333333333,\"#9c179e\"],[0.4444444444444444,\"#bd3786\"],[0.5555555555555556,\"#d8576b\"],[0.6666666666666666,\"#ed7953\"],[0.7777777777777778,\"#fb9f3a\"],[0.8888888888888888,\"#fdca26\"],[1.0,\"#f0f921\"]],\"type\":\"heatmapgl\"}],\"histogram\":[{\"marker\":{\"pattern\":{\"fillmode\":\"overlay\",\"size\":10,\"solidity\":0.2}},\"type\":\"histogram\"}],\"histogram2d\":[{\"colorbar\":{\"outlinewidth\":0,\"ticks\":\"\"},\"colorscale\":[[0.0,\"#0d0887\"],[0.1111111111111111,\"#46039f\"],[0.2222222222222222,\"#7201a8\"],[0.3333333333333333,\"#9c179e\"],[0.4444444444444444,\"#bd3786\"],[0.5555555555555556,\"#d8576b\"],[0.6666666666666666,\"#ed7953\"],[0.7777777777777778,\"#fb9f3a\"],[0.8888888888888888,\"#fdca26\"],[1.0,\"#f0f921\"]],\"type\":\"histogram2d\"}],\"histogram2dcontour\":[{\"colorbar\":{\"outlinewidth\":0,\"ticks\":\"\"},\"colorscale\":[[0.0,\"#0d0887\"],[0.1111111111111111,\"#46039f\"],[0.2222222222222222,\"#7201a8\"],[0.3333333333333333,\"#9c179e\"],[0.4444444444444444,\"#bd3786\"],[0.5555555555555556,\"#d8576b\"],[0.6666666666666666,\"#ed7953\"],[0.7777777777777778,\"#fb9f3a\"],[0.8888888888888888,\"#fdca26\"],[1.0,\"#f0f921\"]],\"type\":\"histogram2dcontour\"}],\"mesh3d\":[{\"colorbar\":{\"outlinewidth\":0,\"ticks\":\"\"},\"type\":\"mesh3d\"}],\"parcoords\":[{\"line\":{\"colorbar\":{\"outlinewidth\":0,\"ticks\":\"\"}},\"type\":\"parcoords\"}],\"pie\":[{\"automargin\":true,\"type\":\"pie\"}],\"scatter\":[{\"marker\":{\"colorbar\":{\"outlinewidth\":0,\"ticks\":\"\"}},\"type\":\"scatter\"}],\"scatter3d\":[{\"line\":{\"colorbar\":{\"outlinewidth\":0,\"ticks\":\"\"}},\"marker\":{\"colorbar\":{\"outlinewidth\":0,\"ticks\":\"\"}},\"type\":\"scatter3d\"}],\"scattercarpet\":[{\"marker\":{\"colorbar\":{\"outlinewidth\":0,\"ticks\":\"\"}},\"type\":\"scattercarpet\"}],\"scattergeo\":[{\"marker\":{\"colorbar\":{\"outlinewidth\":0,\"ticks\":\"\"}},\"type\":\"scattergeo\"}],\"scattergl\":[{\"marker\":{\"colorbar\":{\"outlinewidth\":0,\"ticks\":\"\"}},\"type\":\"scattergl\"}],\"scattermapbox\":[{\"marker\":{\"colorbar\":{\"outlinewidth\":0,\"ticks\":\"\"}},\"type\":\"scattermapbox\"}],\"scatterpolar\":[{\"marker\":{\"colorbar\":{\"outlinewidth\":0,\"ticks\":\"\"}},\"type\":\"scatterpolar\"}],\"scatterpolargl\":[{\"marker\":{\"colorbar\":{\"outlinewidth\":0,\"ticks\":\"\"}},\"type\":\"scatterpolargl\"}],\"scatterternary\":[{\"marker\":{\"colorbar\":{\"outlinewidth\":0,\"ticks\":\"\"}},\"type\":\"scatterternary\"}],\"surface\":[{\"colorbar\":{\"outlinewidth\":0,\"ticks\":\"\"},\"colorscale\":[[0.0,\"#0d0887\"],[0.1111111111111111,\"#46039f\"],[0.2222222222222222,\"#7201a8\"],[0.3333333333333333,\"#9c179e\"],[0.4444444444444444,\"#bd3786\"],[0.5555555555555556,\"#d8576b\"],[0.6666666666666666,\"#ed7953\"],[0.7777777777777778,\"#fb9f3a\"],[0.8888888888888888,\"#fdca26\"],[1.0,\"#f0f921\"]],\"type\":\"surface\"}],\"table\":[{\"cells\":{\"fill\":{\"color\":\"#EBF0F8\"},\"line\":{\"color\":\"white\"}},\"header\":{\"fill\":{\"color\":\"#C8D4E3\"},\"line\":{\"color\":\"white\"}},\"type\":\"table\"}]},\"layout\":{\"annotationdefaults\":{\"arrowcolor\":\"#2a3f5f\",\"arrowhead\":0,\"arrowwidth\":1},\"autotypenumbers\":\"strict\",\"coloraxis\":{\"colorbar\":{\"outlinewidth\":0,\"ticks\":\"\"}},\"colorscale\":{\"diverging\":[[0,\"#8e0152\"],[0.1,\"#c51b7d\"],[0.2,\"#de77ae\"],[0.3,\"#f1b6da\"],[0.4,\"#fde0ef\"],[0.5,\"#f7f7f7\"],[0.6,\"#e6f5d0\"],[0.7,\"#b8e186\"],[0.8,\"#7fbc41\"],[0.9,\"#4d9221\"],[1,\"#276419\"]],\"sequential\":[[0.0,\"#0d0887\"],[0.1111111111111111,\"#46039f\"],[0.2222222222222222,\"#7201a8\"],[0.3333333333333333,\"#9c179e\"],[0.4444444444444444,\"#bd3786\"],[0.5555555555555556,\"#d8576b\"],[0.6666666666666666,\"#ed7953\"],[0.7777777777777778,\"#fb9f3a\"],[0.8888888888888888,\"#fdca26\"],[1.0,\"#f0f921\"]],\"sequentialminus\":[[0.0,\"#0d0887\"],[0.1111111111111111,\"#46039f\"],[0.2222222222222222,\"#7201a8\"],[0.3333333333333333,\"#9c179e\"],[0.4444444444444444,\"#bd3786\"],[0.5555555555555556,\"#d8576b\"],[0.6666666666666666,\"#ed7953\"],[0.7777777777777778,\"#fb9f3a\"],[0.8888888888888888,\"#fdca26\"],[1.0,\"#f0f921\"]]},\"colorway\":[\"#636efa\",\"#EF553B\",\"#00cc96\",\"#ab63fa\",\"#FFA15A\",\"#19d3f3\",\"#FF6692\",\"#B6E880\",\"#FF97FF\",\"#FECB52\"],\"font\":{\"color\":\"#2a3f5f\"},\"geo\":{\"bgcolor\":\"white\",\"lakecolor\":\"white\",\"landcolor\":\"#E5ECF6\",\"showlakes\":true,\"showland\":true,\"subunitcolor\":\"white\"},\"hoverlabel\":{\"align\":\"left\"},\"hovermode\":\"closest\",\"mapbox\":{\"style\":\"light\"},\"paper_bgcolor\":\"white\",\"plot_bgcolor\":\"#E5ECF6\",\"polar\":{\"angularaxis\":{\"gridcolor\":\"white\",\"linecolor\":\"white\",\"ticks\":\"\"},\"bgcolor\":\"#E5ECF6\",\"radialaxis\":{\"gridcolor\":\"white\",\"linecolor\":\"white\",\"ticks\":\"\"}},\"scene\":{\"xaxis\":{\"backgroundcolor\":\"#E5ECF6\",\"gridcolor\":\"white\",\"gridwidth\":2,\"linecolor\":\"white\",\"showbackground\":true,\"ticks\":\"\",\"zerolinecolor\":\"white\"},\"yaxis\":{\"backgroundcolor\":\"#E5ECF6\",\"gridcolor\":\"white\",\"gridwidth\":2,\"linecolor\":\"white\",\"showbackground\":true,\"ticks\":\"\",\"zerolinecolor\":\"white\"},\"zaxis\":{\"backgroundcolor\":\"#E5ECF6\",\"gridcolor\":\"white\",\"gridwidth\":2,\"linecolor\":\"white\",\"showbackground\":true,\"ticks\":\"\",\"zerolinecolor\":\"white\"}},\"shapedefaults\":{\"line\":{\"color\":\"#2a3f5f\"}},\"ternary\":{\"aaxis\":{\"gridcolor\":\"white\",\"linecolor\":\"white\",\"ticks\":\"\"},\"baxis\":{\"gridcolor\":\"white\",\"linecolor\":\"white\",\"ticks\":\"\"},\"bgcolor\":\"#E5ECF6\",\"caxis\":{\"gridcolor\":\"white\",\"linecolor\":\"white\",\"ticks\":\"\"}},\"title\":{\"x\":0.05},\"xaxis\":{\"automargin\":true,\"gridcolor\":\"white\",\"linecolor\":\"white\",\"ticks\":\"\",\"title\":{\"standoff\":15},\"zerolinecolor\":\"white\",\"zerolinewidth\":2},\"yaxis\":{\"automargin\":true,\"gridcolor\":\"white\",\"linecolor\":\"white\",\"ticks\":\"\",\"title\":{\"standoff\":15},\"zerolinecolor\":\"white\",\"zerolinewidth\":2}}}},                        {\"responsive\": true}                    ).then(function(){\n",
              "                            \n",
              "var gd = document.getElementById('9f85b39a-3c0a-4572-b3c1-b4bd632dce6c');\n",
              "var x = new MutationObserver(function (mutations, observer) {{\n",
              "        var display = window.getComputedStyle(gd).display;\n",
              "        if (!display || display === 'none') {{\n",
              "            console.log([gd, 'removed!']);\n",
              "            Plotly.purge(gd);\n",
              "            observer.disconnect();\n",
              "        }}\n",
              "}});\n",
              "\n",
              "// Listen for the removal of the full notebook cells\n",
              "var notebookContainer = gd.closest('#notebook-container');\n",
              "if (notebookContainer) {{\n",
              "    x.observe(notebookContainer, {childList: true});\n",
              "}}\n",
              "\n",
              "// Listen for the clearing of the current output cell\n",
              "var outputEl = gd.closest('.output');\n",
              "if (outputEl) {{\n",
              "    x.observe(outputEl, {childList: true});\n",
              "}}\n",
              "\n",
              "                        })                };                            </script>        </div>\n",
              "</body>\n",
              "</html>"
            ]
          },
          "metadata": {}
        }
      ],
      "source": [
        "# plot_parallel_coordinate: interactively visualizes the hyperparameters and scores\n",
        "fig = optuna.visualization.plot_parallel_coordinate(study)\n",
        "py.plot(fig, filename='parallelCoordinate_KNN_Optuna_SMOTE_100_GPU_Precision.html')\n",
        "fig.show()"
      ]
    },
    {
      "cell_type": "code",
      "execution_count": null,
      "metadata": {
        "id": "3horL5j3Ww_x",
        "colab": {
          "base_uri": "https://localhost:8080/",
          "height": 542
        },
        "outputId": "a1d1962e-496b-4d07-9087-4a154e3144c0"
      },
      "outputs": [
        {
          "output_type": "display_data",
          "data": {
            "text/html": [
              "<html>\n",
              "<head><meta charset=\"utf-8\" /></head>\n",
              "<body>\n",
              "    <div>            <script src=\"https://cdnjs.cloudflare.com/ajax/libs/mathjax/2.7.5/MathJax.js?config=TeX-AMS-MML_SVG\"></script><script type=\"text/javascript\">if (window.MathJax) {MathJax.Hub.Config({SVG: {font: \"STIX-Web\"}});}</script>                <script type=\"text/javascript\">window.PlotlyConfig = {MathJaxConfig: 'local'};</script>\n",
              "        <script src=\"https://cdn.plot.ly/plotly-2.8.3.min.js\"></script>                <div id=\"983c9929-fcf4-4fc2-9a16-6ac07e5fb350\" class=\"plotly-graph-div\" style=\"height:525px; width:100%;\"></div>            <script type=\"text/javascript\">                                    window.PLOTLYENV=window.PLOTLYENV || {};                                    if (document.getElementById(\"983c9929-fcf4-4fc2-9a16-6ac07e5fb350\")) {                    Plotly.newPlot(                        \"983c9929-fcf4-4fc2-9a16-6ac07e5fb350\",                        [{\"marker\":{\"color\":[0,1,2,3,4,5,6,7,8,9,10,11,12,13,14,15,16,17,18,19,20,21,22,23,24,25,26,27,28,29,30,31,32,33,34,35,36,37,38,39,40,41,42,43,44,45,46,47,48,49,50,51,52,53,54,55,56,57,58,59,60,61,62,63,64,65,66,67,68,69,70,71,72,73,74,75,76,77,78,79,80,81,82,83,84,85,86,87,88,89,90,91,92,93,94,95,96,97,98,99],\"colorbar\":{\"title\":{\"text\":\"#Trials\"},\"x\":1.0,\"xpad\":40},\"colorscale\":[[0.0,\"rgb(247,251,255)\"],[0.125,\"rgb(222,235,247)\"],[0.25,\"rgb(198,219,239)\"],[0.375,\"rgb(158,202,225)\"],[0.5,\"rgb(107,174,214)\"],[0.625,\"rgb(66,146,198)\"],[0.75,\"rgb(33,113,181)\"],[0.875,\"rgb(8,81,156)\"],[1.0,\"rgb(8,48,107)\"]],\"line\":{\"color\":\"Grey\",\"width\":0.5},\"showscale\":true},\"mode\":\"markers\",\"showlegend\":false,\"x\":[\"chebyshev\",\"manhattan\",\"euclidean\",\"euclidean\",\"manhattan\",\"manhattan\",\"minkowski\",\"manhattan\",\"chebyshev\",\"manhattan\",\"euclidean\",\"euclidean\",\"euclidean\",\"euclidean\",\"euclidean\",\"minkowski\",\"euclidean\",\"euclidean\",\"euclidean\",\"minkowski\",\"chebyshev\",\"euclidean\",\"euclidean\",\"euclidean\",\"euclidean\",\"euclidean\",\"euclidean\",\"euclidean\",\"minkowski\",\"chebyshev\",\"chebyshev\",\"euclidean\",\"euclidean\",\"euclidean\",\"euclidean\",\"euclidean\",\"euclidean\",\"euclidean\",\"manhattan\",\"euclidean\",\"minkowski\",\"euclidean\",\"euclidean\",\"euclidean\",\"manhattan\",\"euclidean\",\"euclidean\",\"chebyshev\",\"euclidean\",\"manhattan\",\"euclidean\",\"euclidean\",\"euclidean\",\"euclidean\",\"euclidean\",\"euclidean\",\"euclidean\",\"minkowski\",\"euclidean\",\"euclidean\",\"euclidean\",\"euclidean\",\"euclidean\",\"euclidean\",\"euclidean\",\"chebyshev\",\"chebyshev\",\"chebyshev\",\"chebyshev\",\"chebyshev\",\"chebyshev\",\"chebyshev\",\"chebyshev\",\"chebyshev\",\"chebyshev\",\"chebyshev\",\"chebyshev\",\"chebyshev\",\"chebyshev\",\"chebyshev\",\"chebyshev\",\"chebyshev\",\"chebyshev\",\"minkowski\",\"chebyshev\",\"chebyshev\",\"chebyshev\",\"chebyshev\",\"chebyshev\",\"manhattan\",\"chebyshev\",\"chebyshev\",\"chebyshev\",\"chebyshev\",\"chebyshev\",\"chebyshev\",\"chebyshev\",\"manhattan\",\"chebyshev\",\"euclidean\"],\"y\":[0.39604714740285935,0.41903847077469863,0.4347036591288191,0.38786451978760333,0.43196542079837275,0.40422102909087615,0.43196542079837275,0.3820729373048121,0.4133042734882148,0.397601082327731,0.4743930197268589,0.4720496894409938,0.4720496894409938,0.4720496894409938,0.3789188427656277,0.45081123688993013,0.40416494380333046,0.4219650370715875,0.4133042734882148,0.38786451978760333,0.3831266346072724,0.517532581775859,0.45081123688993013,0.41484591913820673,0.39702394372548133,0.4720496894409938,0.43819978275401067,0.4743930197268589,0.4155867547659901,0.4245680966755489,0.4219650370715875,0.4743930197268589,0.41484591913820673,0.4743930197268589,0.39943561507845315,0.39702394372548133,0.4347036591288191,0.397601082327731,0.43819978275401067,0.38925924965197617,0.4347036591288191,0.4743930197268589,0.4347036591288191,0.397601082327731,0.39943561507845315,0.41484591913820673,0.40006965342953843,0.41903847077469863,0.4347036591288191,0.40416494380333046,0.517532581775859,0.4720496894409938,0.4743930197268589,0.45081123688993013,0.4720496894409938,0.3892426488862988,0.43196542079837275,0.40416494380333046,0.4347036591288191,0.41484591913820673,0.42806779254761357,0.517532581775859,0.517532581775859,0.4720496894409938,0.517532581775859,0.517532581775859,0.517532581775859,0.517532581775859,0.517532581775859,0.40416494380333046,0.45081123688993013,0.517532581775859,0.517532581775859,0.517532581775859,0.41484591913820673,0.43819978275401067,0.4720496894409938,0.517532581775859,0.39943561507845315,0.45081123688993013,0.4743930197268589,0.517532581775859,0.4347036591288191,0.4720496894409938,0.41065504455864177,0.4347036591288191,0.41484591913820673,0.517532581775859,0.38073808132253484,0.45081123688993013,0.4743930197268589,0.517532581775859,0.517532581775859,0.4347036591288191,0.41484591913820673,0.4720496894409938,0.402096707485929,0.4743930197268589,0.43819978275401067,0.40416494380333046],\"type\":\"scatter\",\"xaxis\":\"x\",\"yaxis\":\"y\"},{\"marker\":{\"color\":[0,1,2,3,4,5,6,7,8,9,10,11,12,13,14,15,16,17,18,19,20,21,22,23,24,25,26,27,28,29,30,31,32,33,34,35,36,37,38,39,40,41,42,43,44,45,46,47,48,49,50,51,52,53,54,55,56,57,58,59,60,61,62,63,64,65,66,67,68,69,70,71,72,73,74,75,76,77,78,79,80,81,82,83,84,85,86,87,88,89,90,91,92,93,94,95,96,97,98,99],\"colorbar\":{\"title\":{\"text\":\"#Trials\"},\"x\":1.0,\"xpad\":40},\"colorscale\":[[0.0,\"rgb(247,251,255)\"],[0.125,\"rgb(222,235,247)\"],[0.25,\"rgb(198,219,239)\"],[0.375,\"rgb(158,202,225)\"],[0.5,\"rgb(107,174,214)\"],[0.625,\"rgb(66,146,198)\"],[0.75,\"rgb(33,113,181)\"],[0.875,\"rgb(8,81,156)\"],[1.0,\"rgb(8,48,107)\"]],\"line\":{\"color\":\"Grey\",\"width\":0.5},\"showscale\":false},\"mode\":\"markers\",\"showlegend\":false,\"x\":[17,20,5,31,12,32,12,41,24,13,6,3,3,3,47,8,9,18,24,31,39,4,8,7,15,3,10,6,22,16,18,6,7,6,11,15,5,13,10,29,5,6,5,13,11,7,36,20,5,9,4,3,6,8,3,50,12,9,5,7,14,4,4,3,4,4,4,4,4,9,8,4,4,4,7,10,3,4,11,8,6,4,5,3,26,5,7,4,43,8,6,4,4,5,7,3,34,6,10,9],\"y\":[0.39604714740285935,0.41903847077469863,0.4347036591288191,0.38786451978760333,0.43196542079837275,0.40422102909087615,0.43196542079837275,0.3820729373048121,0.4133042734882148,0.397601082327731,0.4743930197268589,0.4720496894409938,0.4720496894409938,0.4720496894409938,0.3789188427656277,0.45081123688993013,0.40416494380333046,0.4219650370715875,0.4133042734882148,0.38786451978760333,0.3831266346072724,0.517532581775859,0.45081123688993013,0.41484591913820673,0.39702394372548133,0.4720496894409938,0.43819978275401067,0.4743930197268589,0.4155867547659901,0.4245680966755489,0.4219650370715875,0.4743930197268589,0.41484591913820673,0.4743930197268589,0.39943561507845315,0.39702394372548133,0.4347036591288191,0.397601082327731,0.43819978275401067,0.38925924965197617,0.4347036591288191,0.4743930197268589,0.4347036591288191,0.397601082327731,0.39943561507845315,0.41484591913820673,0.40006965342953843,0.41903847077469863,0.4347036591288191,0.40416494380333046,0.517532581775859,0.4720496894409938,0.4743930197268589,0.45081123688993013,0.4720496894409938,0.3892426488862988,0.43196542079837275,0.40416494380333046,0.4347036591288191,0.41484591913820673,0.42806779254761357,0.517532581775859,0.517532581775859,0.4720496894409938,0.517532581775859,0.517532581775859,0.517532581775859,0.517532581775859,0.517532581775859,0.40416494380333046,0.45081123688993013,0.517532581775859,0.517532581775859,0.517532581775859,0.41484591913820673,0.43819978275401067,0.4720496894409938,0.517532581775859,0.39943561507845315,0.45081123688993013,0.4743930197268589,0.517532581775859,0.4347036591288191,0.4720496894409938,0.41065504455864177,0.4347036591288191,0.41484591913820673,0.517532581775859,0.38073808132253484,0.45081123688993013,0.4743930197268589,0.517532581775859,0.517532581775859,0.4347036591288191,0.41484591913820673,0.4720496894409938,0.402096707485929,0.4743930197268589,0.43819978275401067,0.40416494380333046],\"type\":\"scatter\",\"xaxis\":\"x2\",\"yaxis\":\"y2\"}],                        {\"template\":{\"data\":{\"bar\":[{\"error_x\":{\"color\":\"#2a3f5f\"},\"error_y\":{\"color\":\"#2a3f5f\"},\"marker\":{\"line\":{\"color\":\"#E5ECF6\",\"width\":0.5},\"pattern\":{\"fillmode\":\"overlay\",\"size\":10,\"solidity\":0.2}},\"type\":\"bar\"}],\"barpolar\":[{\"marker\":{\"line\":{\"color\":\"#E5ECF6\",\"width\":0.5},\"pattern\":{\"fillmode\":\"overlay\",\"size\":10,\"solidity\":0.2}},\"type\":\"barpolar\"}],\"carpet\":[{\"aaxis\":{\"endlinecolor\":\"#2a3f5f\",\"gridcolor\":\"white\",\"linecolor\":\"white\",\"minorgridcolor\":\"white\",\"startlinecolor\":\"#2a3f5f\"},\"baxis\":{\"endlinecolor\":\"#2a3f5f\",\"gridcolor\":\"white\",\"linecolor\":\"white\",\"minorgridcolor\":\"white\",\"startlinecolor\":\"#2a3f5f\"},\"type\":\"carpet\"}],\"choropleth\":[{\"colorbar\":{\"outlinewidth\":0,\"ticks\":\"\"},\"type\":\"choropleth\"}],\"contour\":[{\"colorbar\":{\"outlinewidth\":0,\"ticks\":\"\"},\"colorscale\":[[0.0,\"#0d0887\"],[0.1111111111111111,\"#46039f\"],[0.2222222222222222,\"#7201a8\"],[0.3333333333333333,\"#9c179e\"],[0.4444444444444444,\"#bd3786\"],[0.5555555555555556,\"#d8576b\"],[0.6666666666666666,\"#ed7953\"],[0.7777777777777778,\"#fb9f3a\"],[0.8888888888888888,\"#fdca26\"],[1.0,\"#f0f921\"]],\"type\":\"contour\"}],\"contourcarpet\":[{\"colorbar\":{\"outlinewidth\":0,\"ticks\":\"\"},\"type\":\"contourcarpet\"}],\"heatmap\":[{\"colorbar\":{\"outlinewidth\":0,\"ticks\":\"\"},\"colorscale\":[[0.0,\"#0d0887\"],[0.1111111111111111,\"#46039f\"],[0.2222222222222222,\"#7201a8\"],[0.3333333333333333,\"#9c179e\"],[0.4444444444444444,\"#bd3786\"],[0.5555555555555556,\"#d8576b\"],[0.6666666666666666,\"#ed7953\"],[0.7777777777777778,\"#fb9f3a\"],[0.8888888888888888,\"#fdca26\"],[1.0,\"#f0f921\"]],\"type\":\"heatmap\"}],\"heatmapgl\":[{\"colorbar\":{\"outlinewidth\":0,\"ticks\":\"\"},\"colorscale\":[[0.0,\"#0d0887\"],[0.1111111111111111,\"#46039f\"],[0.2222222222222222,\"#7201a8\"],[0.3333333333333333,\"#9c179e\"],[0.4444444444444444,\"#bd3786\"],[0.5555555555555556,\"#d8576b\"],[0.6666666666666666,\"#ed7953\"],[0.7777777777777778,\"#fb9f3a\"],[0.8888888888888888,\"#fdca26\"],[1.0,\"#f0f921\"]],\"type\":\"heatmapgl\"}],\"histogram\":[{\"marker\":{\"pattern\":{\"fillmode\":\"overlay\",\"size\":10,\"solidity\":0.2}},\"type\":\"histogram\"}],\"histogram2d\":[{\"colorbar\":{\"outlinewidth\":0,\"ticks\":\"\"},\"colorscale\":[[0.0,\"#0d0887\"],[0.1111111111111111,\"#46039f\"],[0.2222222222222222,\"#7201a8\"],[0.3333333333333333,\"#9c179e\"],[0.4444444444444444,\"#bd3786\"],[0.5555555555555556,\"#d8576b\"],[0.6666666666666666,\"#ed7953\"],[0.7777777777777778,\"#fb9f3a\"],[0.8888888888888888,\"#fdca26\"],[1.0,\"#f0f921\"]],\"type\":\"histogram2d\"}],\"histogram2dcontour\":[{\"colorbar\":{\"outlinewidth\":0,\"ticks\":\"\"},\"colorscale\":[[0.0,\"#0d0887\"],[0.1111111111111111,\"#46039f\"],[0.2222222222222222,\"#7201a8\"],[0.3333333333333333,\"#9c179e\"],[0.4444444444444444,\"#bd3786\"],[0.5555555555555556,\"#d8576b\"],[0.6666666666666666,\"#ed7953\"],[0.7777777777777778,\"#fb9f3a\"],[0.8888888888888888,\"#fdca26\"],[1.0,\"#f0f921\"]],\"type\":\"histogram2dcontour\"}],\"mesh3d\":[{\"colorbar\":{\"outlinewidth\":0,\"ticks\":\"\"},\"type\":\"mesh3d\"}],\"parcoords\":[{\"line\":{\"colorbar\":{\"outlinewidth\":0,\"ticks\":\"\"}},\"type\":\"parcoords\"}],\"pie\":[{\"automargin\":true,\"type\":\"pie\"}],\"scatter\":[{\"marker\":{\"colorbar\":{\"outlinewidth\":0,\"ticks\":\"\"}},\"type\":\"scatter\"}],\"scatter3d\":[{\"line\":{\"colorbar\":{\"outlinewidth\":0,\"ticks\":\"\"}},\"marker\":{\"colorbar\":{\"outlinewidth\":0,\"ticks\":\"\"}},\"type\":\"scatter3d\"}],\"scattercarpet\":[{\"marker\":{\"colorbar\":{\"outlinewidth\":0,\"ticks\":\"\"}},\"type\":\"scattercarpet\"}],\"scattergeo\":[{\"marker\":{\"colorbar\":{\"outlinewidth\":0,\"ticks\":\"\"}},\"type\":\"scattergeo\"}],\"scattergl\":[{\"marker\":{\"colorbar\":{\"outlinewidth\":0,\"ticks\":\"\"}},\"type\":\"scattergl\"}],\"scattermapbox\":[{\"marker\":{\"colorbar\":{\"outlinewidth\":0,\"ticks\":\"\"}},\"type\":\"scattermapbox\"}],\"scatterpolar\":[{\"marker\":{\"colorbar\":{\"outlinewidth\":0,\"ticks\":\"\"}},\"type\":\"scatterpolar\"}],\"scatterpolargl\":[{\"marker\":{\"colorbar\":{\"outlinewidth\":0,\"ticks\":\"\"}},\"type\":\"scatterpolargl\"}],\"scatterternary\":[{\"marker\":{\"colorbar\":{\"outlinewidth\":0,\"ticks\":\"\"}},\"type\":\"scatterternary\"}],\"surface\":[{\"colorbar\":{\"outlinewidth\":0,\"ticks\":\"\"},\"colorscale\":[[0.0,\"#0d0887\"],[0.1111111111111111,\"#46039f\"],[0.2222222222222222,\"#7201a8\"],[0.3333333333333333,\"#9c179e\"],[0.4444444444444444,\"#bd3786\"],[0.5555555555555556,\"#d8576b\"],[0.6666666666666666,\"#ed7953\"],[0.7777777777777778,\"#fb9f3a\"],[0.8888888888888888,\"#fdca26\"],[1.0,\"#f0f921\"]],\"type\":\"surface\"}],\"table\":[{\"cells\":{\"fill\":{\"color\":\"#EBF0F8\"},\"line\":{\"color\":\"white\"}},\"header\":{\"fill\":{\"color\":\"#C8D4E3\"},\"line\":{\"color\":\"white\"}},\"type\":\"table\"}]},\"layout\":{\"annotationdefaults\":{\"arrowcolor\":\"#2a3f5f\",\"arrowhead\":0,\"arrowwidth\":1},\"autotypenumbers\":\"strict\",\"coloraxis\":{\"colorbar\":{\"outlinewidth\":0,\"ticks\":\"\"}},\"colorscale\":{\"diverging\":[[0,\"#8e0152\"],[0.1,\"#c51b7d\"],[0.2,\"#de77ae\"],[0.3,\"#f1b6da\"],[0.4,\"#fde0ef\"],[0.5,\"#f7f7f7\"],[0.6,\"#e6f5d0\"],[0.7,\"#b8e186\"],[0.8,\"#7fbc41\"],[0.9,\"#4d9221\"],[1,\"#276419\"]],\"sequential\":[[0.0,\"#0d0887\"],[0.1111111111111111,\"#46039f\"],[0.2222222222222222,\"#7201a8\"],[0.3333333333333333,\"#9c179e\"],[0.4444444444444444,\"#bd3786\"],[0.5555555555555556,\"#d8576b\"],[0.6666666666666666,\"#ed7953\"],[0.7777777777777778,\"#fb9f3a\"],[0.8888888888888888,\"#fdca26\"],[1.0,\"#f0f921\"]],\"sequentialminus\":[[0.0,\"#0d0887\"],[0.1111111111111111,\"#46039f\"],[0.2222222222222222,\"#7201a8\"],[0.3333333333333333,\"#9c179e\"],[0.4444444444444444,\"#bd3786\"],[0.5555555555555556,\"#d8576b\"],[0.6666666666666666,\"#ed7953\"],[0.7777777777777778,\"#fb9f3a\"],[0.8888888888888888,\"#fdca26\"],[1.0,\"#f0f921\"]]},\"colorway\":[\"#636efa\",\"#EF553B\",\"#00cc96\",\"#ab63fa\",\"#FFA15A\",\"#19d3f3\",\"#FF6692\",\"#B6E880\",\"#FF97FF\",\"#FECB52\"],\"font\":{\"color\":\"#2a3f5f\"},\"geo\":{\"bgcolor\":\"white\",\"lakecolor\":\"white\",\"landcolor\":\"#E5ECF6\",\"showlakes\":true,\"showland\":true,\"subunitcolor\":\"white\"},\"hoverlabel\":{\"align\":\"left\"},\"hovermode\":\"closest\",\"mapbox\":{\"style\":\"light\"},\"paper_bgcolor\":\"white\",\"plot_bgcolor\":\"#E5ECF6\",\"polar\":{\"angularaxis\":{\"gridcolor\":\"white\",\"linecolor\":\"white\",\"ticks\":\"\"},\"bgcolor\":\"#E5ECF6\",\"radialaxis\":{\"gridcolor\":\"white\",\"linecolor\":\"white\",\"ticks\":\"\"}},\"scene\":{\"xaxis\":{\"backgroundcolor\":\"#E5ECF6\",\"gridcolor\":\"white\",\"gridwidth\":2,\"linecolor\":\"white\",\"showbackground\":true,\"ticks\":\"\",\"zerolinecolor\":\"white\"},\"yaxis\":{\"backgroundcolor\":\"#E5ECF6\",\"gridcolor\":\"white\",\"gridwidth\":2,\"linecolor\":\"white\",\"showbackground\":true,\"ticks\":\"\",\"zerolinecolor\":\"white\"},\"zaxis\":{\"backgroundcolor\":\"#E5ECF6\",\"gridcolor\":\"white\",\"gridwidth\":2,\"linecolor\":\"white\",\"showbackground\":true,\"ticks\":\"\",\"zerolinecolor\":\"white\"}},\"shapedefaults\":{\"line\":{\"color\":\"#2a3f5f\"}},\"ternary\":{\"aaxis\":{\"gridcolor\":\"white\",\"linecolor\":\"white\",\"ticks\":\"\"},\"baxis\":{\"gridcolor\":\"white\",\"linecolor\":\"white\",\"ticks\":\"\"},\"bgcolor\":\"#E5ECF6\",\"caxis\":{\"gridcolor\":\"white\",\"linecolor\":\"white\",\"ticks\":\"\"}},\"title\":{\"x\":0.05},\"xaxis\":{\"automargin\":true,\"gridcolor\":\"white\",\"linecolor\":\"white\",\"ticks\":\"\",\"title\":{\"standoff\":15},\"zerolinecolor\":\"white\",\"zerolinewidth\":2},\"yaxis\":{\"automargin\":true,\"gridcolor\":\"white\",\"linecolor\":\"white\",\"ticks\":\"\",\"title\":{\"standoff\":15},\"zerolinecolor\":\"white\",\"zerolinewidth\":2}}},\"xaxis\":{\"anchor\":\"y\",\"domain\":[0.0,0.45],\"title\":{\"text\":\"metric\"}},\"yaxis\":{\"anchor\":\"x\",\"domain\":[0.0,1.0],\"title\":{\"text\":\"Objective Value\"}},\"xaxis2\":{\"anchor\":\"y2\",\"domain\":[0.55,1.0],\"title\":{\"text\":\"n_neighbors\"}},\"yaxis2\":{\"anchor\":\"x2\",\"domain\":[0.0,1.0],\"matches\":\"y\",\"showticklabels\":false},\"title\":{\"text\":\"Slice Plot\"}},                        {\"responsive\": true}                    ).then(function(){\n",
              "                            \n",
              "var gd = document.getElementById('983c9929-fcf4-4fc2-9a16-6ac07e5fb350');\n",
              "var x = new MutationObserver(function (mutations, observer) {{\n",
              "        var display = window.getComputedStyle(gd).display;\n",
              "        if (!display || display === 'none') {{\n",
              "            console.log([gd, 'removed!']);\n",
              "            Plotly.purge(gd);\n",
              "            observer.disconnect();\n",
              "        }}\n",
              "}});\n",
              "\n",
              "// Listen for the removal of the full notebook cells\n",
              "var notebookContainer = gd.closest('#notebook-container');\n",
              "if (notebookContainer) {{\n",
              "    x.observe(notebookContainer, {childList: true});\n",
              "}}\n",
              "\n",
              "// Listen for the clearing of the current output cell\n",
              "var outputEl = gd.closest('.output');\n",
              "if (outputEl) {{\n",
              "    x.observe(outputEl, {childList: true});\n",
              "}}\n",
              "\n",
              "                        })                };                            </script>        </div>\n",
              "</body>\n",
              "</html>"
            ]
          },
          "metadata": {}
        }
      ],
      "source": [
        "# plot_slice: shows the change of the hyperparamters space over the search. \n",
        "fig = optuna.visualization.plot_slice(study)\n",
        "py.plot(fig, filename='slice_KNN_Optuna_SMOTE_100_GPU_Precision.html')\n",
        "fig.show()"
      ]
    },
    {
      "cell_type": "code",
      "execution_count": null,
      "metadata": {
        "id": "rc_8649VWw_0",
        "colab": {
          "base_uri": "https://localhost:8080/",
          "height": 542
        },
        "outputId": "17a8d29c-a811-42bc-a4d1-a2039659eb7f"
      },
      "outputs": [
        {
          "output_type": "display_data",
          "data": {
            "text/html": [
              "<html>\n",
              "<head><meta charset=\"utf-8\" /></head>\n",
              "<body>\n",
              "    <div>            <script src=\"https://cdnjs.cloudflare.com/ajax/libs/mathjax/2.7.5/MathJax.js?config=TeX-AMS-MML_SVG\"></script><script type=\"text/javascript\">if (window.MathJax) {MathJax.Hub.Config({SVG: {font: \"STIX-Web\"}});}</script>                <script type=\"text/javascript\">window.PlotlyConfig = {MathJaxConfig: 'local'};</script>\n",
              "        <script src=\"https://cdn.plot.ly/plotly-2.8.3.min.js\"></script>                <div id=\"0a3d20ad-67c2-48c4-8f92-656cd0e238a3\" class=\"plotly-graph-div\" style=\"height:525px; width:100%;\"></div>            <script type=\"text/javascript\">                                    window.PLOTLYENV=window.PLOTLYENV || {};                                    if (document.getElementById(\"0a3d20ad-67c2-48c4-8f92-656cd0e238a3\")) {                    Plotly.newPlot(                        \"0a3d20ad-67c2-48c4-8f92-656cd0e238a3\",                        [{\"cliponaxis\":false,\"hovertemplate\":[\"metric (CategoricalDistribution): 0.011873256177427731<extra></extra>\",\"n_neighbors (IntUniformDistribution): 0.9881267438225723<extra></extra>\"],\"marker\":{\"color\":\"rgb(66,146,198)\"},\"orientation\":\"h\",\"text\":[\"0.011873256177427731\",\"0.9881267438225723\"],\"textposition\":\"outside\",\"texttemplate\":\"%{text:.2f}\",\"x\":[0.011873256177427731,0.9881267438225723],\"y\":[\"metric\",\"n_neighbors\"],\"type\":\"bar\"}],                        {\"showlegend\":false,\"title\":{\"text\":\"Hyperparameter Importances\"},\"xaxis\":{\"title\":{\"text\":\"Importance for Objective Value\"}},\"yaxis\":{\"title\":{\"text\":\"Hyperparameter\"}},\"template\":{\"data\":{\"bar\":[{\"error_x\":{\"color\":\"#2a3f5f\"},\"error_y\":{\"color\":\"#2a3f5f\"},\"marker\":{\"line\":{\"color\":\"#E5ECF6\",\"width\":0.5},\"pattern\":{\"fillmode\":\"overlay\",\"size\":10,\"solidity\":0.2}},\"type\":\"bar\"}],\"barpolar\":[{\"marker\":{\"line\":{\"color\":\"#E5ECF6\",\"width\":0.5},\"pattern\":{\"fillmode\":\"overlay\",\"size\":10,\"solidity\":0.2}},\"type\":\"barpolar\"}],\"carpet\":[{\"aaxis\":{\"endlinecolor\":\"#2a3f5f\",\"gridcolor\":\"white\",\"linecolor\":\"white\",\"minorgridcolor\":\"white\",\"startlinecolor\":\"#2a3f5f\"},\"baxis\":{\"endlinecolor\":\"#2a3f5f\",\"gridcolor\":\"white\",\"linecolor\":\"white\",\"minorgridcolor\":\"white\",\"startlinecolor\":\"#2a3f5f\"},\"type\":\"carpet\"}],\"choropleth\":[{\"colorbar\":{\"outlinewidth\":0,\"ticks\":\"\"},\"type\":\"choropleth\"}],\"contour\":[{\"colorbar\":{\"outlinewidth\":0,\"ticks\":\"\"},\"colorscale\":[[0.0,\"#0d0887\"],[0.1111111111111111,\"#46039f\"],[0.2222222222222222,\"#7201a8\"],[0.3333333333333333,\"#9c179e\"],[0.4444444444444444,\"#bd3786\"],[0.5555555555555556,\"#d8576b\"],[0.6666666666666666,\"#ed7953\"],[0.7777777777777778,\"#fb9f3a\"],[0.8888888888888888,\"#fdca26\"],[1.0,\"#f0f921\"]],\"type\":\"contour\"}],\"contourcarpet\":[{\"colorbar\":{\"outlinewidth\":0,\"ticks\":\"\"},\"type\":\"contourcarpet\"}],\"heatmap\":[{\"colorbar\":{\"outlinewidth\":0,\"ticks\":\"\"},\"colorscale\":[[0.0,\"#0d0887\"],[0.1111111111111111,\"#46039f\"],[0.2222222222222222,\"#7201a8\"],[0.3333333333333333,\"#9c179e\"],[0.4444444444444444,\"#bd3786\"],[0.5555555555555556,\"#d8576b\"],[0.6666666666666666,\"#ed7953\"],[0.7777777777777778,\"#fb9f3a\"],[0.8888888888888888,\"#fdca26\"],[1.0,\"#f0f921\"]],\"type\":\"heatmap\"}],\"heatmapgl\":[{\"colorbar\":{\"outlinewidth\":0,\"ticks\":\"\"},\"colorscale\":[[0.0,\"#0d0887\"],[0.1111111111111111,\"#46039f\"],[0.2222222222222222,\"#7201a8\"],[0.3333333333333333,\"#9c179e\"],[0.4444444444444444,\"#bd3786\"],[0.5555555555555556,\"#d8576b\"],[0.6666666666666666,\"#ed7953\"],[0.7777777777777778,\"#fb9f3a\"],[0.8888888888888888,\"#fdca26\"],[1.0,\"#f0f921\"]],\"type\":\"heatmapgl\"}],\"histogram\":[{\"marker\":{\"pattern\":{\"fillmode\":\"overlay\",\"size\":10,\"solidity\":0.2}},\"type\":\"histogram\"}],\"histogram2d\":[{\"colorbar\":{\"outlinewidth\":0,\"ticks\":\"\"},\"colorscale\":[[0.0,\"#0d0887\"],[0.1111111111111111,\"#46039f\"],[0.2222222222222222,\"#7201a8\"],[0.3333333333333333,\"#9c179e\"],[0.4444444444444444,\"#bd3786\"],[0.5555555555555556,\"#d8576b\"],[0.6666666666666666,\"#ed7953\"],[0.7777777777777778,\"#fb9f3a\"],[0.8888888888888888,\"#fdca26\"],[1.0,\"#f0f921\"]],\"type\":\"histogram2d\"}],\"histogram2dcontour\":[{\"colorbar\":{\"outlinewidth\":0,\"ticks\":\"\"},\"colorscale\":[[0.0,\"#0d0887\"],[0.1111111111111111,\"#46039f\"],[0.2222222222222222,\"#7201a8\"],[0.3333333333333333,\"#9c179e\"],[0.4444444444444444,\"#bd3786\"],[0.5555555555555556,\"#d8576b\"],[0.6666666666666666,\"#ed7953\"],[0.7777777777777778,\"#fb9f3a\"],[0.8888888888888888,\"#fdca26\"],[1.0,\"#f0f921\"]],\"type\":\"histogram2dcontour\"}],\"mesh3d\":[{\"colorbar\":{\"outlinewidth\":0,\"ticks\":\"\"},\"type\":\"mesh3d\"}],\"parcoords\":[{\"line\":{\"colorbar\":{\"outlinewidth\":0,\"ticks\":\"\"}},\"type\":\"parcoords\"}],\"pie\":[{\"automargin\":true,\"type\":\"pie\"}],\"scatter\":[{\"marker\":{\"colorbar\":{\"outlinewidth\":0,\"ticks\":\"\"}},\"type\":\"scatter\"}],\"scatter3d\":[{\"line\":{\"colorbar\":{\"outlinewidth\":0,\"ticks\":\"\"}},\"marker\":{\"colorbar\":{\"outlinewidth\":0,\"ticks\":\"\"}},\"type\":\"scatter3d\"}],\"scattercarpet\":[{\"marker\":{\"colorbar\":{\"outlinewidth\":0,\"ticks\":\"\"}},\"type\":\"scattercarpet\"}],\"scattergeo\":[{\"marker\":{\"colorbar\":{\"outlinewidth\":0,\"ticks\":\"\"}},\"type\":\"scattergeo\"}],\"scattergl\":[{\"marker\":{\"colorbar\":{\"outlinewidth\":0,\"ticks\":\"\"}},\"type\":\"scattergl\"}],\"scattermapbox\":[{\"marker\":{\"colorbar\":{\"outlinewidth\":0,\"ticks\":\"\"}},\"type\":\"scattermapbox\"}],\"scatterpolar\":[{\"marker\":{\"colorbar\":{\"outlinewidth\":0,\"ticks\":\"\"}},\"type\":\"scatterpolar\"}],\"scatterpolargl\":[{\"marker\":{\"colorbar\":{\"outlinewidth\":0,\"ticks\":\"\"}},\"type\":\"scatterpolargl\"}],\"scatterternary\":[{\"marker\":{\"colorbar\":{\"outlinewidth\":0,\"ticks\":\"\"}},\"type\":\"scatterternary\"}],\"surface\":[{\"colorbar\":{\"outlinewidth\":0,\"ticks\":\"\"},\"colorscale\":[[0.0,\"#0d0887\"],[0.1111111111111111,\"#46039f\"],[0.2222222222222222,\"#7201a8\"],[0.3333333333333333,\"#9c179e\"],[0.4444444444444444,\"#bd3786\"],[0.5555555555555556,\"#d8576b\"],[0.6666666666666666,\"#ed7953\"],[0.7777777777777778,\"#fb9f3a\"],[0.8888888888888888,\"#fdca26\"],[1.0,\"#f0f921\"]],\"type\":\"surface\"}],\"table\":[{\"cells\":{\"fill\":{\"color\":\"#EBF0F8\"},\"line\":{\"color\":\"white\"}},\"header\":{\"fill\":{\"color\":\"#C8D4E3\"},\"line\":{\"color\":\"white\"}},\"type\":\"table\"}]},\"layout\":{\"annotationdefaults\":{\"arrowcolor\":\"#2a3f5f\",\"arrowhead\":0,\"arrowwidth\":1},\"autotypenumbers\":\"strict\",\"coloraxis\":{\"colorbar\":{\"outlinewidth\":0,\"ticks\":\"\"}},\"colorscale\":{\"diverging\":[[0,\"#8e0152\"],[0.1,\"#c51b7d\"],[0.2,\"#de77ae\"],[0.3,\"#f1b6da\"],[0.4,\"#fde0ef\"],[0.5,\"#f7f7f7\"],[0.6,\"#e6f5d0\"],[0.7,\"#b8e186\"],[0.8,\"#7fbc41\"],[0.9,\"#4d9221\"],[1,\"#276419\"]],\"sequential\":[[0.0,\"#0d0887\"],[0.1111111111111111,\"#46039f\"],[0.2222222222222222,\"#7201a8\"],[0.3333333333333333,\"#9c179e\"],[0.4444444444444444,\"#bd3786\"],[0.5555555555555556,\"#d8576b\"],[0.6666666666666666,\"#ed7953\"],[0.7777777777777778,\"#fb9f3a\"],[0.8888888888888888,\"#fdca26\"],[1.0,\"#f0f921\"]],\"sequentialminus\":[[0.0,\"#0d0887\"],[0.1111111111111111,\"#46039f\"],[0.2222222222222222,\"#7201a8\"],[0.3333333333333333,\"#9c179e\"],[0.4444444444444444,\"#bd3786\"],[0.5555555555555556,\"#d8576b\"],[0.6666666666666666,\"#ed7953\"],[0.7777777777777778,\"#fb9f3a\"],[0.8888888888888888,\"#fdca26\"],[1.0,\"#f0f921\"]]},\"colorway\":[\"#636efa\",\"#EF553B\",\"#00cc96\",\"#ab63fa\",\"#FFA15A\",\"#19d3f3\",\"#FF6692\",\"#B6E880\",\"#FF97FF\",\"#FECB52\"],\"font\":{\"color\":\"#2a3f5f\"},\"geo\":{\"bgcolor\":\"white\",\"lakecolor\":\"white\",\"landcolor\":\"#E5ECF6\",\"showlakes\":true,\"showland\":true,\"subunitcolor\":\"white\"},\"hoverlabel\":{\"align\":\"left\"},\"hovermode\":\"closest\",\"mapbox\":{\"style\":\"light\"},\"paper_bgcolor\":\"white\",\"plot_bgcolor\":\"#E5ECF6\",\"polar\":{\"angularaxis\":{\"gridcolor\":\"white\",\"linecolor\":\"white\",\"ticks\":\"\"},\"bgcolor\":\"#E5ECF6\",\"radialaxis\":{\"gridcolor\":\"white\",\"linecolor\":\"white\",\"ticks\":\"\"}},\"scene\":{\"xaxis\":{\"backgroundcolor\":\"#E5ECF6\",\"gridcolor\":\"white\",\"gridwidth\":2,\"linecolor\":\"white\",\"showbackground\":true,\"ticks\":\"\",\"zerolinecolor\":\"white\"},\"yaxis\":{\"backgroundcolor\":\"#E5ECF6\",\"gridcolor\":\"white\",\"gridwidth\":2,\"linecolor\":\"white\",\"showbackground\":true,\"ticks\":\"\",\"zerolinecolor\":\"white\"},\"zaxis\":{\"backgroundcolor\":\"#E5ECF6\",\"gridcolor\":\"white\",\"gridwidth\":2,\"linecolor\":\"white\",\"showbackground\":true,\"ticks\":\"\",\"zerolinecolor\":\"white\"}},\"shapedefaults\":{\"line\":{\"color\":\"#2a3f5f\"}},\"ternary\":{\"aaxis\":{\"gridcolor\":\"white\",\"linecolor\":\"white\",\"ticks\":\"\"},\"baxis\":{\"gridcolor\":\"white\",\"linecolor\":\"white\",\"ticks\":\"\"},\"bgcolor\":\"#E5ECF6\",\"caxis\":{\"gridcolor\":\"white\",\"linecolor\":\"white\",\"ticks\":\"\"}},\"title\":{\"x\":0.05},\"xaxis\":{\"automargin\":true,\"gridcolor\":\"white\",\"linecolor\":\"white\",\"ticks\":\"\",\"title\":{\"standoff\":15},\"zerolinecolor\":\"white\",\"zerolinewidth\":2},\"yaxis\":{\"automargin\":true,\"gridcolor\":\"white\",\"linecolor\":\"white\",\"ticks\":\"\",\"title\":{\"standoff\":15},\"zerolinecolor\":\"white\",\"zerolinewidth\":2}}}},                        {\"responsive\": true}                    ).then(function(){\n",
              "                            \n",
              "var gd = document.getElementById('0a3d20ad-67c2-48c4-8f92-656cd0e238a3');\n",
              "var x = new MutationObserver(function (mutations, observer) {{\n",
              "        var display = window.getComputedStyle(gd).display;\n",
              "        if (!display || display === 'none') {{\n",
              "            console.log([gd, 'removed!']);\n",
              "            Plotly.purge(gd);\n",
              "            observer.disconnect();\n",
              "        }}\n",
              "}});\n",
              "\n",
              "// Listen for the removal of the full notebook cells\n",
              "var notebookContainer = gd.closest('#notebook-container');\n",
              "if (notebookContainer) {{\n",
              "    x.observe(notebookContainer, {childList: true});\n",
              "}}\n",
              "\n",
              "// Listen for the clearing of the current output cell\n",
              "var outputEl = gd.closest('.output');\n",
              "if (outputEl) {{\n",
              "    x.observe(outputEl, {childList: true});\n",
              "}}\n",
              "\n",
              "                        })                };                            </script>        </div>\n",
              "</body>\n",
              "</html>"
            ]
          },
          "metadata": {}
        }
      ],
      "source": [
        "# Visualize parameter importances\n",
        "fig = optuna.visualization.plot_param_importances(study)\n",
        "py.plot(fig, filename='paramImportance_KNN_Optuna_SMOTE_100_GPU_Precision.html')\n",
        "fig.show()"
      ]
    },
    {
      "cell_type": "code",
      "execution_count": null,
      "metadata": {
        "id": "HO-dSQPSWw_0",
        "colab": {
          "base_uri": "https://localhost:8080/",
          "height": 542
        },
        "outputId": "fd0c3d19-085e-4b71-b333-fccfc9f522a0"
      },
      "outputs": [
        {
          "output_type": "display_data",
          "data": {
            "text/html": [
              "<html>\n",
              "<head><meta charset=\"utf-8\" /></head>\n",
              "<body>\n",
              "    <div>            <script src=\"https://cdnjs.cloudflare.com/ajax/libs/mathjax/2.7.5/MathJax.js?config=TeX-AMS-MML_SVG\"></script><script type=\"text/javascript\">if (window.MathJax) {MathJax.Hub.Config({SVG: {font: \"STIX-Web\"}});}</script>                <script type=\"text/javascript\">window.PlotlyConfig = {MathJaxConfig: 'local'};</script>\n",
              "        <script src=\"https://cdn.plot.ly/plotly-2.8.3.min.js\"></script>                <div id=\"0a5be105-8d66-4150-ba13-613cfeb639a7\" class=\"plotly-graph-div\" style=\"height:525px; width:100%;\"></div>            <script type=\"text/javascript\">                                    window.PLOTLYENV=window.PLOTLYENV || {};                                    if (document.getElementById(\"0a5be105-8d66-4150-ba13-613cfeb639a7\")) {                    Plotly.newPlot(                        \"0a5be105-8d66-4150-ba13-613cfeb639a7\",                        [{\"mode\":\"lines\",\"name\":\"dask_optuna_knn_100_rmse_tpe\",\"x\":[0.3789188427656277,0.38031898154350885,0.38171912032138994,0.3831192590992711,0.3845193978771522,0.3859195366550333,0.38731967543291446,0.3887198142107956,0.3901199529886767,0.39152009176655783,0.392920230544439,0.39432036932232006,0.3957205081002012,0.39712064687808235,0.39852078565596344,0.3999209244338446,0.40132106321172567,0.4027212019896068,0.40412134076748796,0.4055214795453691,0.4069216183232502,0.40832175710113133,0.4097218958790124,0.41112203465689356,0.4125221734347747,0.4139223122126558,0.41532245099053694,0.4167225897684181,0.41812272854629917,0.4195228673241803,0.42092300610206146,0.42232314487994255,0.4237232836578237,0.42512342243570483,0.4265235612135859,0.42792369999146707,0.4293238387693482,0.4307239775472293,0.43212411632511044,0.4335242551029916,0.4349243938808727,0.4363245326587538,0.43772467143663496,0.43912481021451605,0.4405249489923972,0.4419250877702783,0.4433252265481594,0.44472536532604057,0.4461255041039217,0.4475256428818028,0.44892578165968394,0.45032592043756503,0.4517260592154462,0.4531261979933273,0.45452633677120846,0.45592647554908955,0.4573266143269707,0.4587267531048518,0.4601268918827329,0.46152703066061407,0.4629271694384952,0.4643273082163763,0.46572744699425744,0.46712758577213853,0.4685277245500197,0.4699278633279008,0.4713280021057819,0.47272814088366305,0.47412827966154414,0.4755284184394253,0.4769285572173064,0.47832869599518757,0.47972883477306866,0.4811289735509498,0.4825291123288309,0.48392925110671203,0.4853293898845932,0.4867295286624743,0.4881296674403554,0.48952980621823655,0.49092994499611764,0.4923300837739988,0.4937302225518799,0.49513036132976107,0.49653050010764216,0.4979306388855233,0.4993307776634044,0.5007309164412855,0.5021310552191667,0.5035311939970478,0.504931332774929,0.50633147155281,0.5077316103306911,0.5091317491085723,0.5105318878864534,0.5119320266643346,0.5133321654422156,0.5147323042200967,0.5161324429979779,0.517532581775859],\"y\":[0.01,0.01,0.02,0.03,0.04,0.04,0.04,0.06,0.08,0.08,0.08,0.08,0.08,0.11,0.14,0.17,0.18,0.19,0.19,0.25,0.25,0.25,0.25,0.26,0.26,0.28,0.35,0.36,0.36,0.38,0.38,0.4,0.4,0.41,0.41,0.41,0.42,0.42,0.45,0.45,0.54,0.54,0.54,0.58,0.58,0.58,0.58,0.58,0.58,0.58,0.58,0.58,0.64,0.64,0.64,0.64,0.64,0.64,0.64,0.64,0.64,0.64,0.64,0.64,0.64,0.64,0.64,0.74,0.74,0.83,0.83,0.83,0.83,0.83,0.83,0.83,0.83,0.83,0.83,0.83,0.83,0.83,0.83,0.83,0.83,0.83,0.83,0.83,0.83,0.83,0.83,0.83,0.83,0.83,0.83,0.83,0.83,0.83,0.83,1.0],\"type\":\"scatter\"}],                        {\"title\":{\"text\":\"Empirical Distribution Function Plot\"},\"xaxis\":{\"title\":{\"text\":\"Objective Value\"}},\"yaxis\":{\"title\":{\"text\":\"Cumulative Probability\"},\"range\":[0,1]},\"template\":{\"data\":{\"bar\":[{\"error_x\":{\"color\":\"#2a3f5f\"},\"error_y\":{\"color\":\"#2a3f5f\"},\"marker\":{\"line\":{\"color\":\"#E5ECF6\",\"width\":0.5},\"pattern\":{\"fillmode\":\"overlay\",\"size\":10,\"solidity\":0.2}},\"type\":\"bar\"}],\"barpolar\":[{\"marker\":{\"line\":{\"color\":\"#E5ECF6\",\"width\":0.5},\"pattern\":{\"fillmode\":\"overlay\",\"size\":10,\"solidity\":0.2}},\"type\":\"barpolar\"}],\"carpet\":[{\"aaxis\":{\"endlinecolor\":\"#2a3f5f\",\"gridcolor\":\"white\",\"linecolor\":\"white\",\"minorgridcolor\":\"white\",\"startlinecolor\":\"#2a3f5f\"},\"baxis\":{\"endlinecolor\":\"#2a3f5f\",\"gridcolor\":\"white\",\"linecolor\":\"white\",\"minorgridcolor\":\"white\",\"startlinecolor\":\"#2a3f5f\"},\"type\":\"carpet\"}],\"choropleth\":[{\"colorbar\":{\"outlinewidth\":0,\"ticks\":\"\"},\"type\":\"choropleth\"}],\"contour\":[{\"colorbar\":{\"outlinewidth\":0,\"ticks\":\"\"},\"colorscale\":[[0.0,\"#0d0887\"],[0.1111111111111111,\"#46039f\"],[0.2222222222222222,\"#7201a8\"],[0.3333333333333333,\"#9c179e\"],[0.4444444444444444,\"#bd3786\"],[0.5555555555555556,\"#d8576b\"],[0.6666666666666666,\"#ed7953\"],[0.7777777777777778,\"#fb9f3a\"],[0.8888888888888888,\"#fdca26\"],[1.0,\"#f0f921\"]],\"type\":\"contour\"}],\"contourcarpet\":[{\"colorbar\":{\"outlinewidth\":0,\"ticks\":\"\"},\"type\":\"contourcarpet\"}],\"heatmap\":[{\"colorbar\":{\"outlinewidth\":0,\"ticks\":\"\"},\"colorscale\":[[0.0,\"#0d0887\"],[0.1111111111111111,\"#46039f\"],[0.2222222222222222,\"#7201a8\"],[0.3333333333333333,\"#9c179e\"],[0.4444444444444444,\"#bd3786\"],[0.5555555555555556,\"#d8576b\"],[0.6666666666666666,\"#ed7953\"],[0.7777777777777778,\"#fb9f3a\"],[0.8888888888888888,\"#fdca26\"],[1.0,\"#f0f921\"]],\"type\":\"heatmap\"}],\"heatmapgl\":[{\"colorbar\":{\"outlinewidth\":0,\"ticks\":\"\"},\"colorscale\":[[0.0,\"#0d0887\"],[0.1111111111111111,\"#46039f\"],[0.2222222222222222,\"#7201a8\"],[0.3333333333333333,\"#9c179e\"],[0.4444444444444444,\"#bd3786\"],[0.5555555555555556,\"#d8576b\"],[0.6666666666666666,\"#ed7953\"],[0.7777777777777778,\"#fb9f3a\"],[0.8888888888888888,\"#fdca26\"],[1.0,\"#f0f921\"]],\"type\":\"heatmapgl\"}],\"histogram\":[{\"marker\":{\"pattern\":{\"fillmode\":\"overlay\",\"size\":10,\"solidity\":0.2}},\"type\":\"histogram\"}],\"histogram2d\":[{\"colorbar\":{\"outlinewidth\":0,\"ticks\":\"\"},\"colorscale\":[[0.0,\"#0d0887\"],[0.1111111111111111,\"#46039f\"],[0.2222222222222222,\"#7201a8\"],[0.3333333333333333,\"#9c179e\"],[0.4444444444444444,\"#bd3786\"],[0.5555555555555556,\"#d8576b\"],[0.6666666666666666,\"#ed7953\"],[0.7777777777777778,\"#fb9f3a\"],[0.8888888888888888,\"#fdca26\"],[1.0,\"#f0f921\"]],\"type\":\"histogram2d\"}],\"histogram2dcontour\":[{\"colorbar\":{\"outlinewidth\":0,\"ticks\":\"\"},\"colorscale\":[[0.0,\"#0d0887\"],[0.1111111111111111,\"#46039f\"],[0.2222222222222222,\"#7201a8\"],[0.3333333333333333,\"#9c179e\"],[0.4444444444444444,\"#bd3786\"],[0.5555555555555556,\"#d8576b\"],[0.6666666666666666,\"#ed7953\"],[0.7777777777777778,\"#fb9f3a\"],[0.8888888888888888,\"#fdca26\"],[1.0,\"#f0f921\"]],\"type\":\"histogram2dcontour\"}],\"mesh3d\":[{\"colorbar\":{\"outlinewidth\":0,\"ticks\":\"\"},\"type\":\"mesh3d\"}],\"parcoords\":[{\"line\":{\"colorbar\":{\"outlinewidth\":0,\"ticks\":\"\"}},\"type\":\"parcoords\"}],\"pie\":[{\"automargin\":true,\"type\":\"pie\"}],\"scatter\":[{\"marker\":{\"colorbar\":{\"outlinewidth\":0,\"ticks\":\"\"}},\"type\":\"scatter\"}],\"scatter3d\":[{\"line\":{\"colorbar\":{\"outlinewidth\":0,\"ticks\":\"\"}},\"marker\":{\"colorbar\":{\"outlinewidth\":0,\"ticks\":\"\"}},\"type\":\"scatter3d\"}],\"scattercarpet\":[{\"marker\":{\"colorbar\":{\"outlinewidth\":0,\"ticks\":\"\"}},\"type\":\"scattercarpet\"}],\"scattergeo\":[{\"marker\":{\"colorbar\":{\"outlinewidth\":0,\"ticks\":\"\"}},\"type\":\"scattergeo\"}],\"scattergl\":[{\"marker\":{\"colorbar\":{\"outlinewidth\":0,\"ticks\":\"\"}},\"type\":\"scattergl\"}],\"scattermapbox\":[{\"marker\":{\"colorbar\":{\"outlinewidth\":0,\"ticks\":\"\"}},\"type\":\"scattermapbox\"}],\"scatterpolar\":[{\"marker\":{\"colorbar\":{\"outlinewidth\":0,\"ticks\":\"\"}},\"type\":\"scatterpolar\"}],\"scatterpolargl\":[{\"marker\":{\"colorbar\":{\"outlinewidth\":0,\"ticks\":\"\"}},\"type\":\"scatterpolargl\"}],\"scatterternary\":[{\"marker\":{\"colorbar\":{\"outlinewidth\":0,\"ticks\":\"\"}},\"type\":\"scatterternary\"}],\"surface\":[{\"colorbar\":{\"outlinewidth\":0,\"ticks\":\"\"},\"colorscale\":[[0.0,\"#0d0887\"],[0.1111111111111111,\"#46039f\"],[0.2222222222222222,\"#7201a8\"],[0.3333333333333333,\"#9c179e\"],[0.4444444444444444,\"#bd3786\"],[0.5555555555555556,\"#d8576b\"],[0.6666666666666666,\"#ed7953\"],[0.7777777777777778,\"#fb9f3a\"],[0.8888888888888888,\"#fdca26\"],[1.0,\"#f0f921\"]],\"type\":\"surface\"}],\"table\":[{\"cells\":{\"fill\":{\"color\":\"#EBF0F8\"},\"line\":{\"color\":\"white\"}},\"header\":{\"fill\":{\"color\":\"#C8D4E3\"},\"line\":{\"color\":\"white\"}},\"type\":\"table\"}]},\"layout\":{\"annotationdefaults\":{\"arrowcolor\":\"#2a3f5f\",\"arrowhead\":0,\"arrowwidth\":1},\"autotypenumbers\":\"strict\",\"coloraxis\":{\"colorbar\":{\"outlinewidth\":0,\"ticks\":\"\"}},\"colorscale\":{\"diverging\":[[0,\"#8e0152\"],[0.1,\"#c51b7d\"],[0.2,\"#de77ae\"],[0.3,\"#f1b6da\"],[0.4,\"#fde0ef\"],[0.5,\"#f7f7f7\"],[0.6,\"#e6f5d0\"],[0.7,\"#b8e186\"],[0.8,\"#7fbc41\"],[0.9,\"#4d9221\"],[1,\"#276419\"]],\"sequential\":[[0.0,\"#0d0887\"],[0.1111111111111111,\"#46039f\"],[0.2222222222222222,\"#7201a8\"],[0.3333333333333333,\"#9c179e\"],[0.4444444444444444,\"#bd3786\"],[0.5555555555555556,\"#d8576b\"],[0.6666666666666666,\"#ed7953\"],[0.7777777777777778,\"#fb9f3a\"],[0.8888888888888888,\"#fdca26\"],[1.0,\"#f0f921\"]],\"sequentialminus\":[[0.0,\"#0d0887\"],[0.1111111111111111,\"#46039f\"],[0.2222222222222222,\"#7201a8\"],[0.3333333333333333,\"#9c179e\"],[0.4444444444444444,\"#bd3786\"],[0.5555555555555556,\"#d8576b\"],[0.6666666666666666,\"#ed7953\"],[0.7777777777777778,\"#fb9f3a\"],[0.8888888888888888,\"#fdca26\"],[1.0,\"#f0f921\"]]},\"colorway\":[\"#636efa\",\"#EF553B\",\"#00cc96\",\"#ab63fa\",\"#FFA15A\",\"#19d3f3\",\"#FF6692\",\"#B6E880\",\"#FF97FF\",\"#FECB52\"],\"font\":{\"color\":\"#2a3f5f\"},\"geo\":{\"bgcolor\":\"white\",\"lakecolor\":\"white\",\"landcolor\":\"#E5ECF6\",\"showlakes\":true,\"showland\":true,\"subunitcolor\":\"white\"},\"hoverlabel\":{\"align\":\"left\"},\"hovermode\":\"closest\",\"mapbox\":{\"style\":\"light\"},\"paper_bgcolor\":\"white\",\"plot_bgcolor\":\"#E5ECF6\",\"polar\":{\"angularaxis\":{\"gridcolor\":\"white\",\"linecolor\":\"white\",\"ticks\":\"\"},\"bgcolor\":\"#E5ECF6\",\"radialaxis\":{\"gridcolor\":\"white\",\"linecolor\":\"white\",\"ticks\":\"\"}},\"scene\":{\"xaxis\":{\"backgroundcolor\":\"#E5ECF6\",\"gridcolor\":\"white\",\"gridwidth\":2,\"linecolor\":\"white\",\"showbackground\":true,\"ticks\":\"\",\"zerolinecolor\":\"white\"},\"yaxis\":{\"backgroundcolor\":\"#E5ECF6\",\"gridcolor\":\"white\",\"gridwidth\":2,\"linecolor\":\"white\",\"showbackground\":true,\"ticks\":\"\",\"zerolinecolor\":\"white\"},\"zaxis\":{\"backgroundcolor\":\"#E5ECF6\",\"gridcolor\":\"white\",\"gridwidth\":2,\"linecolor\":\"white\",\"showbackground\":true,\"ticks\":\"\",\"zerolinecolor\":\"white\"}},\"shapedefaults\":{\"line\":{\"color\":\"#2a3f5f\"}},\"ternary\":{\"aaxis\":{\"gridcolor\":\"white\",\"linecolor\":\"white\",\"ticks\":\"\"},\"baxis\":{\"gridcolor\":\"white\",\"linecolor\":\"white\",\"ticks\":\"\"},\"bgcolor\":\"#E5ECF6\",\"caxis\":{\"gridcolor\":\"white\",\"linecolor\":\"white\",\"ticks\":\"\"}},\"title\":{\"x\":0.05},\"xaxis\":{\"automargin\":true,\"gridcolor\":\"white\",\"linecolor\":\"white\",\"ticks\":\"\",\"title\":{\"standoff\":15},\"zerolinecolor\":\"white\",\"zerolinewidth\":2},\"yaxis\":{\"automargin\":true,\"gridcolor\":\"white\",\"linecolor\":\"white\",\"ticks\":\"\",\"title\":{\"standoff\":15},\"zerolinecolor\":\"white\",\"zerolinewidth\":2}}}},                        {\"responsive\": true}                    ).then(function(){\n",
              "                            \n",
              "var gd = document.getElementById('0a5be105-8d66-4150-ba13-613cfeb639a7');\n",
              "var x = new MutationObserver(function (mutations, observer) {{\n",
              "        var display = window.getComputedStyle(gd).display;\n",
              "        if (!display || display === 'none') {{\n",
              "            console.log([gd, 'removed!']);\n",
              "            Plotly.purge(gd);\n",
              "            observer.disconnect();\n",
              "        }}\n",
              "}});\n",
              "\n",
              "// Listen for the removal of the full notebook cells\n",
              "var notebookContainer = gd.closest('#notebook-container');\n",
              "if (notebookContainer) {{\n",
              "    x.observe(notebookContainer, {childList: true});\n",
              "}}\n",
              "\n",
              "// Listen for the clearing of the current output cell\n",
              "var outputEl = gd.closest('.output');\n",
              "if (outputEl) {{\n",
              "    x.observe(outputEl, {childList: true});\n",
              "}}\n",
              "\n",
              "                        })                };                            </script>        </div>\n",
              "</body>\n",
              "</html>"
            ]
          },
          "metadata": {}
        }
      ],
      "source": [
        "# Visualize empirical distribution function\n",
        "fig = optuna.visualization.plot_edf(study)\n",
        "py.plot(fig, filename='edf_KNN_Optuna_SMOTE_100_GPU_Precision.html')\n",
        "fig.show()"
      ]
    },
    {
      "cell_type": "code",
      "execution_count": null,
      "metadata": {
        "id": "i1q8ly2bWw_2",
        "colab": {
          "base_uri": "https://localhost:8080/"
        },
        "outputId": "8c995e91-1363-49ca-e85e-75da55271190"
      },
      "outputs": [
        {
          "output_type": "execute_result",
          "data": {
            "text/plain": [
              "{'metric': 'euclidean', 'n_neighbors': 4}"
            ]
          },
          "metadata": {},
          "execution_count": 49
        }
      ],
      "source": [
        "# Arrange best parameters to fit model for model metrics\n",
        "params = study.best_params   \n",
        "params"
      ]
    },
    {
      "cell_type": "code",
      "source": [
        "%cd /content/drive/MyDrive/LoanStatus/Python/Models/ML/KNN/Optuna/Model_PKL/"
      ],
      "metadata": {
        "colab": {
          "base_uri": "https://localhost:8080/"
        },
        "outputId": "01adbe35-006a-4ccb-c1c1-211249856131",
        "id": "T2bmZF67cg7C"
      },
      "execution_count": null,
      "outputs": [
        {
          "output_type": "stream",
          "name": "stdout",
          "text": [
            "/content/drive/MyDrive/LoanStatus/Python/Models/ML/KNN/Optuna/Model_PKL\n"
          ]
        }
      ]
    },
    {
      "cell_type": "code",
      "execution_count": null,
      "metadata": {
        "id": "19CFYr7gWw_4"
      },
      "outputs": [],
      "source": [
        "# Re-create the best model and train on the training data\n",
        "best_model = KNeighborsClassifier(n_neighbors=4, metric='euclidean')\n",
        "\n",
        "# Fit the model\n",
        "best_model.fit(X_train, y_train)\n",
        "\n",
        "# Save model\n",
        "Pkl_Filename = 'KNN_Optuna_SMOTE_trials100_GPU_Precision.pkl'  \n",
        "\n",
        "with open(Pkl_Filename, 'wb') as file:  \n",
        "    pickle.dump(best_model, file)\n",
        "\n",
        "# =============================================================================\n",
        "# # To load saved model\n",
        "# model = joblib.load('KNN_Optuna_SMOTE_trials100_GPU_Precision.pkl')\n",
        "# print(model)\n",
        "# ============================================================================="
      ]
    },
    {
      "cell_type": "code",
      "execution_count": null,
      "metadata": {
        "id": "-UPZTAkbWw_4",
        "colab": {
          "base_uri": "https://localhost:8080/"
        },
        "outputId": "1b244998-68fa-4226-fae5-eeb52396e571"
      },
      "outputs": [
        {
          "output_type": "stream",
          "name": "stdout",
          "text": [
            "\n",
            "Model Metrics for KNN HPO SMOTE 100trials GPU Precision\n",
            "\n",
            "\n",
            "Classification Report:\n",
            "              precision    recall  f1-score   support\n",
            "\n",
            "           0       0.95      0.91      0.93    377848\n",
            "           1       0.52      0.70      0.60     54625\n",
            "\n",
            "    accuracy                           0.88    432473\n",
            "   macro avg       0.74      0.80      0.76    432473\n",
            "weighted avg       0.90      0.88      0.89    432473\n",
            "\n",
            "\n",
            "\n",
            "Confusion matrix:\n",
            "[[342198  35650]\n",
            " [ 16384  38241]]\n",
            "\n",
            "\n",
            "Accuracy score : 0.880\n",
            "Precision score : 0.518\n",
            "Recall score : 0.700\n",
            "F1 score : 0.595\n"
          ]
        }
      ],
      "source": [
        "print('\\nModel Metrics for KNN HPO SMOTE 100trials GPU Precision')\n",
        "# Predict based on training \n",
        "y_train_pred = best_model.predict(X_train)\n",
        "y_test_pred = best_model.predict(X_test)\n",
        "print('\\n')\n",
        "print('Classification Report:')\n",
        "clf_rpt = classification_report(y_test.to_numpy(), y_test_pred.to_numpy())\n",
        "print(clf_rpt)\n",
        "print('\\n')\n",
        "print('Confusion matrix:')\n",
        "print(confusion_matrix(y_test.to_numpy(), y_test_pred.to_numpy()))\n",
        "print('\\n')\n",
        "print('Accuracy score : %.3f' % accuracy_score(y_test.to_numpy(), \n",
        "                                               y_test_pred.to_numpy()))\n",
        "print('Precision score : %.3f' % precision_score(y_test.to_numpy(), \n",
        "                                                 y_test_pred.to_numpy()))\n",
        "print('Recall score : %.3f' % recall_score(y_test.to_numpy(), \n",
        "                                           y_test_pred.to_numpy()))\n",
        "print('F1 score : %.3f' % f1_score(y_test.to_numpy(), y_test_pred.to_numpy()))"
      ]
    },
    {
      "cell_type": "code",
      "execution_count": null,
      "metadata": {
        "id": "QhKRVs_wWw_6",
        "colab": {
          "base_uri": "https://localhost:8080/"
        },
        "outputId": "c93126fa-27e7-4ff4-d704-767252a7927e"
      },
      "outputs": [
        {
          "output_type": "stream",
          "name": "stdout",
          "text": [
            "The best model from SMOTE 100 Precision GPU trials optimization scores 0.80286 AUC ROC on the test set.\n",
            "This was achieved using these conditions:\n",
            "iteration                                    50\n",
            "precision                              0.517533\n",
            "datetime_start       2022-06-15 20:32:34.661307\n",
            "datetime_complete    2022-06-15 20:33:10.961472\n",
            "duration                 0 days 00:00:36.300165\n",
            "metric                                euclidean\n",
            "n_neighbors                                   4\n",
            "state                                  COMPLETE\n",
            "Name: 50, dtype: object\n"
          ]
        }
      ],
      "source": [
        "# Evaluate on the testing data \n",
        "print('The best model from SMOTE 100 Precision GPU trials optimization scores {:.5f} AUC ROC on the test set.'.format(roc_auc_score(y_test.to_numpy(), \n",
        "                                                                                                                                    y_test_pred.to_numpy())))\n",
        "print('This was achieved using these conditions:')\n",
        "print(trials_df.iloc[0])"
      ]
    }
  ],
  "metadata": {
    "accelerator": "GPU",
    "colab": {
      "machine_shape": "hm",
      "provenance": [],
      "toc_visible": true
    },
    "kernelspec": {
      "display_name": "Python 3",
      "name": "python3"
    },
    "language_info": {
      "name": "python"
    }
  },
  "nbformat": 4,
  "nbformat_minor": 0
}